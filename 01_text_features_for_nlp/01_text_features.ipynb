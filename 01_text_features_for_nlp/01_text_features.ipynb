{
 "cells": [
  {
   "cell_type": "markdown",
   "metadata": {},
   "source": [
    "# 01.Text Vectorization (Draft)"
   ]
  },
  {
   "cell_type": "markdown",
   "metadata": {},
   "source": [
    "# 차례\n",
    "* Frequency Vectors\n",
    "* One-Hot Encoding\n",
    "* Term Frequency-Inverse Document Frequency\n",
    "* Distributed Representation"
   ]
  },
  {
   "cell_type": "markdown",
   "metadata": {},
   "source": [
    "-----------------------"
   ]
  },
  {
   "cell_type": "markdown",
   "metadata": {},
   "source": [
    "<img src=\"https://nbviewer.jupyter.org/github/psygrammer/psyml/blob/master/nlp_ml/ch01/figures/cap1.3.png\" width=600 />\n",
    "<img src=\"https://nbviewer.jupyter.org/github/psygrammer/psyml/blob/master/nlp_ml/ch01/figures/cap1.4.png\" width=600 />\n",
    "\n",
    "* 출처 - Applied Text Analysis with Python: Enabling Language-Aware Data Products with Machine Learning - https://www.amazon.com/Applied-Text-Analysis-Python-Language-Aware/dp/1491963042/"
   ]
  },
  {
   "cell_type": "markdown",
   "metadata": {},
   "source": [
    "<img src=\"figures/main_nlp_01.png\" width=600 />\n",
    "<img src=\"figures/main_nlp_02.png\" width=600 />\n",
    "<img src=\"figures/main_nlp_03.png\" width=600 />\n",
    "<img src=\"figures/main_nlp_04.png\" width=600 />\n",
    "<img src=\"figures/main_nlp_05.png\" width=600 />\n",
    "\n",
    "* 출처 - Natural Language Processing - https://www.coursera.org/learn/language-processing - Main approaches in NLP"
   ]
  },
  {
   "cell_type": "markdown",
   "metadata": {},
   "source": [
    "<img src=\"https://nbviewer.jupyter.org/github/psygrammer/psyml/blob/master/nlp_ml/ch04/figures/cap01.png\" width=600 />\n",
    "\n",
    "* 출처 - Applied Text Analysis with Python: Enabling Language-Aware Data Products with Machine Learning - https://www.amazon.com/Applied-Text-Analysis-Python-Language-Aware/dp/1491963042/"
   ]
  },
  {
   "cell_type": "markdown",
   "metadata": {},
   "source": [
    "<img src=\"https://slideplayer.com/slide/5270778/17/images/10/Distributed+Word+Representation.jpg\" width=600 />\n",
    "\n",
    "* 출처 - https://slideplayer.com/slide/5270778/"
   ]
  },
  {
   "cell_type": "markdown",
   "metadata": {},
   "source": [
    "---------------------"
   ]
  },
  {
   "cell_type": "markdown",
   "metadata": {},
   "source": [
    "# Frequency Vectors"
   ]
  },
  {
   "cell_type": "markdown",
   "metadata": {},
   "source": [
    "<img src=\"https://nbviewer.jupyter.org/github/psygrammer/psyml/blob/master/nlp_ml/ch04/figures/cap02.png\" width=600 />\n",
    "\n",
    "* 출처 - Applied Text Analysis with Python: Enabling Language-Aware Data Products with Machine Learning - https://www.amazon.com/Applied-Text-Analysis-Python-Language-Aware/dp/1491963042/"
   ]
  },
  {
   "cell_type": "code",
   "execution_count": 17,
   "metadata": {},
   "outputs": [],
   "source": [
    "import gensim\n",
    "import numpy as np\n",
    "\n",
    "from pprint import pprint"
   ]
  },
  {
   "cell_type": "markdown",
   "metadata": {},
   "source": [
    "gensim을 이용하려면 문서 목록인 documents를 corpus 클래스로 바꿔야 한다."
   ]
  },
  {
   "cell_type": "code",
   "execution_count": 31,
   "metadata": {},
   "outputs": [],
   "source": [
    "# 가상의 문서 4개\n",
    "documents_en = [\n",
    "    \"a b c a\",\n",
    "    \"c b c\",\n",
    "    \"b b a\",\n",
    "    \"a c c\",\n",
    "    \"c b a\",\n",
    "]"
   ]
  },
  {
   "cell_type": "code",
   "execution_count": 32,
   "metadata": {},
   "outputs": [
    {
     "name": "stdout",
     "output_type": "stream",
     "text": [
      "[['a', 'b', 'c', 'a'],\n",
      " ['c', 'b', 'c'],\n",
      " ['b', 'b', 'a'],\n",
      " ['a', 'c', 'c'],\n",
      " ['c', 'b', 'a']]\n"
     ]
    }
   ],
   "source": [
    "# 단어(토큰) 단위로 분할\n",
    "def tokenize(x) :\n",
    "    for token in x.split() :\n",
    "        yield token\n",
    "        \n",
    "corpus_en = [list(tokenize(doc)) for doc in  documents_en]\n",
    "\n",
    "pprint(corpus_en)"
   ]
  },
  {
   "cell_type": "code",
   "execution_count": 33,
   "metadata": {},
   "outputs": [],
   "source": [
    "# Dictionary 객체. 구체적으로는 단어에 id 할당 (그 외에도 여러가지 기능은 튜토리얼 참조)\n",
    "dictionary_en = gensim.corpora.Dictionary(corpus_en)"
   ]
  },
  {
   "cell_type": "code",
   "execution_count": 34,
   "metadata": {},
   "outputs": [
    {
     "data": {
      "text/plain": [
       "<gensim.corpora.dictionary.Dictionary at 0x1a20f0a630>"
      ]
     },
     "execution_count": 34,
     "metadata": {},
     "output_type": "execute_result"
    }
   ],
   "source": [
    "dictionary_en"
   ]
  },
  {
   "cell_type": "code",
   "execution_count": 35,
   "metadata": {},
   "outputs": [
    {
     "data": {
      "text/plain": [
       "{'a': 0, 'b': 1, 'c': 2}"
      ]
     },
     "execution_count": 35,
     "metadata": {},
     "output_type": "execute_result"
    }
   ],
   "source": [
    "dictionary_en.token2id"
   ]
  },
  {
   "cell_type": "code",
   "execution_count": 36,
   "metadata": {},
   "outputs": [],
   "source": [
    "vectors = [dictionary_en.doc2bow(doc) for doc in corpus_en]    "
   ]
  },
  {
   "cell_type": "code",
   "execution_count": 37,
   "metadata": {},
   "outputs": [
    {
     "name": "stdout",
     "output_type": "stream",
     "text": [
      "[[(0, 2), (1, 1), (2, 1)],\n",
      " [(1, 1), (2, 2)],\n",
      " [(0, 1), (1, 2)],\n",
      " [(0, 1), (2, 2)],\n",
      " [(0, 1), (1, 1), (2, 1)]]\n"
     ]
    }
   ],
   "source": [
    "pprint(vectors)"
   ]
  },
  {
   "cell_type": "markdown",
   "metadata": {},
   "source": [
    "----------------"
   ]
  },
  {
   "cell_type": "markdown",
   "metadata": {},
   "source": [
    "# One-Hot Encoding"
   ]
  },
  {
   "cell_type": "markdown",
   "metadata": {},
   "source": [
    "<img src=\"https://nbviewer.jupyter.org/github/psygrammer/psyml/blob/master/nlp_ml/ch04/figures/cap03.png\" width=600 />\n",
    "\n",
    "* 출처 - Applied Text Analysis with Python: Enabling Language-Aware Data Products with Machine Learning - https://www.amazon.com/Applied-Text-Analysis-Python-Language-Aware/dp/1491963042/"
   ]
  },
  {
   "cell_type": "code",
   "execution_count": 38,
   "metadata": {},
   "outputs": [
    {
     "data": {
      "text/plain": [
       "[['a', 'b', 'c', 'a'],\n",
       " ['c', 'b', 'c'],\n",
       " ['b', 'b', 'a'],\n",
       " ['a', 'c', 'c'],\n",
       " ['c', 'b', 'a']]"
      ]
     },
     "execution_count": 38,
     "metadata": {},
     "output_type": "execute_result"
    }
   ],
   "source": [
    "corpus_en"
   ]
  },
  {
   "cell_type": "code",
   "execution_count": 12,
   "metadata": {},
   "outputs": [
    {
     "data": {
      "text/plain": [
       "[[(0, 2), (1, 1), (2, 1)],\n",
       " [(1, 1), (2, 2)],\n",
       " [(0, 1), (1, 2)],\n",
       " [(0, 1), (2, 2)],\n",
       " [(0, 1), (1, 1), (2, 1)]]"
      ]
     },
     "execution_count": 12,
     "metadata": {},
     "output_type": "execute_result"
    }
   ],
   "source": [
    "[dictionary.doc2bow(doc) for doc in corpus]"
   ]
  },
  {
   "cell_type": "code",
   "execution_count": 13,
   "metadata": {},
   "outputs": [
    {
     "data": {
      "text/plain": [
       "[[(0, 2), (1, 1), (2, 1)],\n",
       " [(1, 1), (2, 2)],\n",
       " [(0, 1), (1, 2)],\n",
       " [(0, 1), (2, 2)],\n",
       " [(0, 1), (1, 1), (2, 1)]]"
      ]
     },
     "execution_count": 13,
     "metadata": {},
     "output_type": "execute_result"
    }
   ],
   "source": [
    "[[token for token in dictionary.doc2bow(doc)] \n",
    "                         for doc in corpus]"
   ]
  },
  {
   "cell_type": "code",
   "execution_count": 14,
   "metadata": {},
   "outputs": [
    {
     "data": {
      "text/plain": [
       "[[(0, 2), (1, 1), (2, 1)],\n",
       " [(1, 1), (2, 2)],\n",
       " [(0, 1), (1, 2)],\n",
       " [(0, 1), (2, 2)],\n",
       " [(0, 1), (1, 1), (2, 1)]]"
      ]
     },
     "execution_count": 14,
     "metadata": {},
     "output_type": "execute_result"
    }
   ],
   "source": [
    "[[(token[0], token[1]) for token in dictionary.doc2bow(doc)] \n",
    "                         for doc in corpus]"
   ]
  },
  {
   "cell_type": "code",
   "execution_count": 15,
   "metadata": {},
   "outputs": [],
   "source": [
    "vectors = [[(token[0], 1) for token in dictionary.doc2bow(doc)] \n",
    "                         for doc in corpus]"
   ]
  },
  {
   "cell_type": "code",
   "execution_count": 18,
   "metadata": {},
   "outputs": [],
   "source": [
    "vectors  = np.array([\n",
    "        [(token[0], 1) for token in dictionary.doc2bow(doc)]\n",
    "        for doc in corpus\n",
    "    ])"
   ]
  },
  {
   "cell_type": "code",
   "execution_count": 19,
   "metadata": {},
   "outputs": [
    {
     "data": {
      "text/plain": [
       "array([list([(0, 1), (1, 1), (2, 1)]), list([(1, 1), (2, 1)]),\n",
       "       list([(0, 1), (1, 1)]), list([(0, 1), (2, 1)]),\n",
       "       list([(0, 1), (1, 1), (2, 1)])], dtype=object)"
      ]
     },
     "execution_count": 19,
     "metadata": {},
     "output_type": "execute_result"
    }
   ],
   "source": [
    "vectors"
   ]
  },
  {
   "cell_type": "markdown",
   "metadata": {},
   "source": [
    "-------------------"
   ]
  },
  {
   "cell_type": "markdown",
   "metadata": {},
   "source": [
    "# Term Frequency-Inverse Document Frequency"
   ]
  },
  {
   "cell_type": "markdown",
   "metadata": {},
   "source": [
    "<img src=\"https://nbviewer.jupyter.org/github/psygrammer/psyml/blob/master/nlp_ml/ch04/figures/cap04.png\" width=600 />\n",
    "\n",
    "* 출처 - Applied Text Analysis with Python: Enabling Language-Aware Data Products with Machine Learning - https://www.amazon.com/Applied-Text-Analysis-Python-Language-Aware/dp/1491963042/"
   ]
  },
  {
   "cell_type": "code",
   "execution_count": 20,
   "metadata": {},
   "outputs": [
    {
     "data": {
      "text/plain": [
       "['a b c a', 'c b c', 'b b a', 'a c c', 'c b a']"
      ]
     },
     "execution_count": 20,
     "metadata": {},
     "output_type": "execute_result"
    }
   ],
   "source": [
    "documents_en"
   ]
  },
  {
   "cell_type": "code",
   "execution_count": 39,
   "metadata": {},
   "outputs": [
    {
     "data": {
      "text/plain": [
       "[['a', 'b', 'c', 'a'],\n",
       " ['c', 'b', 'c'],\n",
       " ['b', 'b', 'a'],\n",
       " ['a', 'c', 'c'],\n",
       " ['c', 'b', 'a']]"
      ]
     },
     "execution_count": 39,
     "metadata": {},
     "output_type": "execute_result"
    }
   ],
   "source": [
    "corpus_en"
   ]
  },
  {
   "cell_type": "code",
   "execution_count": 40,
   "metadata": {},
   "outputs": [],
   "source": [
    "# Dictionary 생성\n",
    "dictionary_en = gensim.corpora.Dictionary(corpus_en)"
   ]
  },
  {
   "cell_type": "code",
   "execution_count": 41,
   "metadata": {},
   "outputs": [
    {
     "data": {
      "text/plain": [
       "<gensim.models.tfidfmodel.TfidfModel at 0x1a20f18da0>"
      ]
     },
     "execution_count": 41,
     "metadata": {},
     "output_type": "execute_result"
    }
   ],
   "source": [
    "# Tfidf Model 생성\n",
    "tfidf_en = gensim.models.TfidfModel(dictionary=dictionary_en, normalize=True)\n",
    "tfidf_en"
   ]
  },
  {
   "cell_type": "code",
   "execution_count": 42,
   "metadata": {},
   "outputs": [
    {
     "data": {
      "text/plain": [
       "[[(0, 0.816496580927726), (1, 0.408248290463863), (2, 0.408248290463863)],\n",
       " [(1, 0.447213595499958), (2, 0.894427190999916)],\n",
       " [(0, 0.447213595499958), (1, 0.894427190999916)],\n",
       " [(0, 0.447213595499958), (2, 0.894427190999916)],\n",
       " [(0, 0.5773502691896257), (1, 0.5773502691896257), (2, 0.5773502691896257)]]"
      ]
     },
     "execution_count": 42,
     "metadata": {},
     "output_type": "execute_result"
    }
   ],
   "source": [
    "vectors = [tfidf_en[dictionary_en.doc2bow(vector)] for vector in corpus]\n",
    "vectors"
   ]
  },
  {
   "cell_type": "code",
   "execution_count": 43,
   "metadata": {},
   "outputs": [],
   "source": [
    "# Dictionary와 tfidf model을 저장해 놓으면 나중에 다시 로드해서 쓸 수 있어 편하다. \n",
    "dictionary_en.save_as_text('test_en.txt')\n",
    "tfidf_en.save('tfidf_en.pkl')"
   ]
  },
  {
   "cell_type": "code",
   "execution_count": 44,
   "metadata": {},
   "outputs": [
    {
     "name": "stdout",
     "output_type": "stream",
     "text": [
      "01_text_features.ipynb  model_w2v_ko.wv         test_en.txt\r\n",
      "\u001b[34mfigures\u001b[m\u001b[m/                mymodel.wv              tfidf.pkl\r\n",
      "model_w2v_en.wv         test.txt                tfidf_en.pkl\r\n"
     ]
    }
   ],
   "source": [
    "%ls"
   ]
  },
  {
   "cell_type": "markdown",
   "metadata": {},
   "source": [
    "#### 한국어 예제 실습"
   ]
  },
  {
   "cell_type": "markdown",
   "metadata": {},
   "source": [
    "* 출처 - 나만의 웹 크롤러 만들기 with Requests/BeautifulSoup - https://beomi.github.io/2017/01/20/HowToMakeWebCrawler/\n",
    "* 출처 - https://www.slideshare.net/kimhyunjoonglovit/pycon2017-koreannlp\n",
    "* 출처 - https://github.com/lovit/soynlp/blob/master/tutorials/nounextractor-v2_usage.ipynb\n",
    "* 출처 - https://wikidocs.net/24603"
   ]
  },
  {
   "cell_type": "code",
   "execution_count": 45,
   "metadata": {},
   "outputs": [],
   "source": [
    "import requests\n",
    "from bs4 import BeautifulSoup"
   ]
  },
  {
   "cell_type": "code",
   "execution_count": 46,
   "metadata": {},
   "outputs": [],
   "source": [
    "#url = \"https://gasazip.com/view.html?no=614736\"\n",
    "#url = \"https://gasazip.com/view.html?no=636135\"\n",
    "url = \"http://gasazip.com/view.html?no=2276458\""
   ]
  },
  {
   "cell_type": "code",
   "execution_count": 47,
   "metadata": {},
   "outputs": [],
   "source": [
    "# HTTP GET Request\n",
    "req = requests.get(url)\n",
    "# HTML 소스 가져오기\n",
    "html = req.text\n",
    "# BeautifulSoup으로 html소스를 python객체로 변환하기\n",
    "# 첫 인자는 html소스코드, 두 번째 인자는 어떤 parser를 이용할지 명시.\n",
    "# 여기서는 Python 내장 html.parser를 이용했다.\n",
    "soup = BeautifulSoup(html, 'html.parser')"
   ]
  },
  {
   "cell_type": "code",
   "execution_count": 48,
   "metadata": {},
   "outputs": [],
   "source": [
    "lyrics = []\n",
    "for txt in soup.find_all('div', attrs={'class': 'col-md-8'}) :\n",
    "    lines = txt.get_text().split('\\n')\n",
    "    for line in lines :\n",
    "        lyrics.append(line.strip())"
   ]
  },
  {
   "cell_type": "code",
   "execution_count": 49,
   "metadata": {},
   "outputs": [
    {
     "data": {
      "text/plain": [
       "['작은 것들을 위한 시 (Boy With Luv)Feat.Halsey',\n",
       " '',\n",
       " '모든 게 궁금해',\n",
       " 'How’s your day',\n",
       " 'Oh tell me',\n",
       " '뭐가 널 행복하게 하는지',\n",
       " 'Oh text me',\n",
       " 'Your every picture',\n",
       " '내 머리맡에 두고 싶어',\n",
       " 'oh bae',\n",
       " 'Come be my teacher',\n",
       " '네 모든 걸 다 가르쳐줘',\n",
       " 'Your 1 your 2',\n",
       " 'Listen my my baby 나는',\n",
       " '저 하늘을 높이 날고 있어',\n",
       " '그때 니가 내게 줬던 두 날개로',\n",
       " '이제 여긴 너무 높아',\n",
       " '난 내 눈에 널 맞추고 싶어',\n",
       " 'Yeah you makin’ me a boy with luv',\n",
       " 'Oh my my my oh my my my',\n",
       " \"I've waited all my life\",\n",
       " '네 전부를 함께하고 싶어',\n",
       " 'Oh my my my oh my my my',\n",
       " 'Looking for something right',\n",
       " '이제 조금은 나 알겠어',\n",
       " 'I want something stronger',\n",
       " 'Than a moment',\n",
       " 'than a moment love',\n",
       " 'I have waited longer',\n",
       " 'For a boy with',\n",
       " 'For a boy with luv',\n",
       " '널 알게 된 이후 ya',\n",
       " '내 삶은 온통 너 ya',\n",
       " '사소한 게 사소하지 않게',\n",
       " '만들어버린 너라는 별',\n",
       " '하나부터 열까지 모든 게 특별하지',\n",
       " '너의 관심사 걸음걸이 말투와',\n",
       " '사소한 작은 습관들까지',\n",
       " '다 말하지 너무 작던',\n",
       " '내가 영웅이 된 거라고',\n",
       " 'Oh nah',\n",
       " '난 말하지 운명 따윈',\n",
       " '처음부터 내 게 아니었다고',\n",
       " 'Oh nah',\n",
       " '세계의 평화',\n",
       " 'No way',\n",
       " '거대한 질서',\n",
       " 'No way',\n",
       " '그저 널 지킬 거야 난',\n",
       " 'Boy with luv',\n",
       " 'Listen my my baby 나는',\n",
       " '저 하늘을 높이 날고 있어',\n",
       " '그때 니가 내게 줬던 두 날개로',\n",
       " '이제 여긴 너무 높아',\n",
       " '난 내 눈에 널 맞추고 싶어',\n",
       " 'Yeah you makin’ me a boy with luv',\n",
       " 'Oh my my my oh my my my',\n",
       " 'You got me high so fast',\n",
       " '네 전부를 함께하고 싶어',\n",
       " 'Oh my my my oh my my my',\n",
       " 'You got me fly so fast',\n",
       " '이제 조금은 나 알겠어',\n",
       " 'Love is nothing stronger',\n",
       " 'Than a boy with luv',\n",
       " 'Love is nothing stronger',\n",
       " 'Than a boy with luv',\n",
       " '툭 까놓고 말할게',\n",
       " '나도 모르게 힘이 들어가기도 했어',\n",
       " '높아버린 sky',\n",
       " '커져버린 hall',\n",
       " '때론 도망치게 해달라며 기도했어',\n",
       " 'But 너의 상처는 나의 상처',\n",
       " '깨달았을 때 나 다짐했던걸',\n",
       " '니가 준 이카루스의 날개로',\n",
       " '태양이 아닌 너에게로',\n",
       " 'Let me fly',\n",
       " 'Oh my my my oh my my my',\n",
       " \"I've waited all my life\",\n",
       " '네 전부를 함께하고 싶어',\n",
       " 'Oh my my my oh my my my',\n",
       " 'Looking for something right',\n",
       " '이제 조금은 나 알겠어',\n",
       " 'I want something stronger',\n",
       " 'Than a moment',\n",
       " 'than a moment love',\n",
       " 'Love is nothing stronger',\n",
       " 'Than a boy with luv',\n",
       " '']"
      ]
     },
     "execution_count": 49,
     "metadata": {},
     "output_type": "execute_result"
    }
   ],
   "source": [
    "lyrics"
   ]
  },
  {
   "cell_type": "code",
   "execution_count": 156,
   "metadata": {},
   "outputs": [],
   "source": [
    "import collections\n",
    " \n",
    "BTS = collections.OrderedDict()\n",
    "BTS['No More Dream'] = 638198\n",
    "BTS['I NEED U'] = 576129\n",
    "BTS['쩔어'] = 628809\n",
    "BTS['봄날'] = 644668\n",
    "BTS['DNA'] = 1235594\n",
    "BTS['피 땀 눈물'] = 630845\n",
    "BTS['불타오르네'] = 615362\n",
    "BTS['IDOL'] = 2262224\n",
    "BTS['작은 것들을 위한 시'] = 2276458"
   ]
  },
  {
   "cell_type": "code",
   "execution_count": 159,
   "metadata": {},
   "outputs": [
    {
     "name": "stdout",
     "output_type": "stream",
     "text": [
      "['http://gasazip.com/view.html?no=638198', 'http://gasazip.com/view.html?no=576129', 'http://gasazip.com/view.html?no=628809', 'http://gasazip.com/view.html?no=644668', 'http://gasazip.com/view.html?no=1235594', 'http://gasazip.com/view.html?no=630845', 'http://gasazip.com/view.html?no=615362', 'http://gasazip.com/view.html?no=2262224', 'http://gasazip.com/view.html?no=2276458']\n"
     ]
    }
   ],
   "source": [
    "lyrics_ids = BTS.values()\n",
    "url_root = \"http://gasazip.com/view.html?no=\"\n",
    "\n",
    "urls = [url_root + str(lid) for lid in lyrics_ids]\n",
    "\n",
    "print(urls)"
   ]
  },
  {
   "cell_type": "code",
   "execution_count": 160,
   "metadata": {},
   "outputs": [],
   "source": [
    "docs = []\n",
    "for url in urls :\n",
    "    req = requests.get(url)\n",
    "    html = req.text\n",
    "    soup = BeautifulSoup(html, 'html.parser')\n",
    "    \n",
    "    doc = []\n",
    "    for txt in soup.find_all('div', attrs={'class': 'col-md-8'}) :\n",
    "        doc.append(txt.get_text())\n",
    "    \n",
    "    docs.append(\",\".join(doc))"
   ]
  },
  {
   "cell_type": "code",
   "execution_count": 161,
   "metadata": {},
   "outputs": [
    {
     "data": {
      "text/plain": [
       "9"
      ]
     },
     "execution_count": 161,
     "metadata": {},
     "output_type": "execute_result"
    }
   ],
   "source": [
    "len(docs)"
   ]
  },
  {
   "cell_type": "code",
   "execution_count": 162,
   "metadata": {},
   "outputs": [
    {
     "data": {
      "text/plain": [
       "['No More Dream,\\n얌마 네 꿈은 뭐니\\n얌마 네 꿈은 뭐니\\n얌마 네 꿈은 뭐니\\n네 꿈은 겨우 그거니\\n\\nI wanna big house, big cars & big rings\\nBut 사실은 I dun have any big dreams\\n하하 난 참 편하게 살어\\n꿈 따위 안 꿔도 아무도 뭐라 안 하잖어\\n전부 다다다 똑같이 나처럼 생각하고 있어\\n새까까까맣게 까먹은 꿈 많던 어린 시절\\n대학은 걱정 마 멀리라도 갈 거니까\\n알았어 엄마 지금 독서실 간다니까\\n\\n네가 꿈꿔 온 네 모습이 뭐야\\n지금 네 거울 속엔 누가 보여, I gotta say\\n너의 길을 가라고\\n단 하루를 살아도\\n뭐라도 하라고\\n나약함은 담아 둬\\n\\n왜 말 못하고 있어? 공부는 하기 싫다면서\\n학교 때려 치기는 겁나지? 이거 봐 등교할 준비하네 벌써\\n철 좀 들어 제발 좀, 너 입만 살아가지고 인마 유리 멘탈 boy\\n(Stop!) 자신에게 물어봐 언제 네가 열심히 노력했냐고\\n\\n얌마 네 꿈은 뭐니\\n얌마 네 꿈은 뭐니\\n얌마 네 꿈은 뭐니\\n네 꿈은 겨우 그거니\\n\\n거짓말이야 you such a liar\\nSee me see me ya 넌 위선자여\\n왜 자꾸 딴 길을 가래 야 너나 잘해\\n제발 강요하진 말아 줘\\n(La la la la la) 네 꿈이 뭐니 네 꿈이 뭐니 뭐니\\n(La la la la la) 고작 이거니 고작 이거니 거니\\n\\n지겨운 same day, 반복되는 매일에\\n어른들과 부모님은 틀에 박힌 꿈을 주입해\\n장래희망 넘버원... 공무원?\\n강요된 꿈은 아냐, 9회말 구원투수\\n시간 낭비인 야자에 돌직구를 날려\\n지옥 같은 사회에 반항해, 꿈을 특별 사면\\n자신에게 물어봐 네 꿈의 profile\\n억압만 받던 인생 네 삶의 주어가 되어 봐\\n\\n네가 꿈꿔 온 네 모습이 뭐여\\n지금 네 거울 속엔 누가 보여, I gotta say\\n너의 길을 가라고\\n단 하루를 살아도\\n뭐라도 하라고\\n나약함은 담아 둬\\n\\n얌마 네 꿈은 뭐니\\n얌마 네 꿈은 뭐니\\n얌마 네 꿈은 뭐니\\n네 꿈은 겨우 그거니\\n\\n거짓말이야 you such a liar\\nSee me see me ya 넌 위선자여\\n왜 자꾸 딴 길을 가래 야 너나 잘해\\n제발 강요하진 말아 줘\\n(La la la la la) 네 꿈이 뭐니 네 꿈이 뭐니 뭐니\\n(La la la la la) 고작 이거니 고작 이거니 거니\\n\\n살아가는 법을 몰라\\n날아가는 법을 몰라\\n결정하는 법을 몰라\\n이젠 꿈꾸는 법도 몰라\\n\\n눈을 눈을 눈을 떠라 다 이제\\n춤을 춤을 춤을 춰 봐 자 다시\\n꿈을 꿈을 꿈을 꿔 봐 다\\n너 꾸물대지 마 우물쭈물 대지 마 wussup!\\n\\n거짓말이야 you such a liar\\nSee me see me ya 넌 위선자여\\n왜 자꾸 딴 길을 가래 야 너나 잘해\\n제발 강요하진 말아 줘\\n(La la la la la) 네 꿈이 뭐니 네 꿈이 뭐니 뭐니\\n(La la la la la) 고작 이거니 고작 이거니 거니\\n\\nTo all the youngsters without dreams.\\n',\n",
       " 'I NEED U,\\nFall Fall Fall 흩어지네\\nFall Fall Fall 떨어지네\\n\\n너 땜에 나 이렇게 망가져\\n그만할래 이제 너 안 가져\\n못하겠어 뭣 같아서\\n제발 핑계 같은 건 삼가줘\\n\\n니가 나한테 이럼 안 돼\\n니가 한 모든 말은 안대\\n진실을 가리고 날 찢어\\n날 찍어 나 미쳐 다 싫어\\n전부 가져가 난 니가 그냥 미워\\n\\nBut you’re my everything (You’re my)\\nEverything (You’re my)\\nEverything (You’re my)\\n제발 좀 꺼져 huh\\n\\n미안해 (I hate u)\\n사랑해 (I hate u)\\n용서해\\n\\nI need you girl\\n왜 혼자 사랑하고 혼자서만 이별해\\nI need you girl\\n왜 다칠 걸 알면서 자꾸 니가 필요해\\n\\nI need you girl 넌 아름다워\\nI need you girl 너무 차가워\\nI need you girl (I need you girl)\\nI need you girl (I need you girl)\\n\\nIt goes round & round 나 왜 자꾸 돌아오지\\nI go down & down 이쯤 되면 내가 바보지\\n나 무슨 짓을 해봐도 어쩔 수가 없다고\\n분명 내 심장, 내 마음, 내 가슴인데 왜 말을 안 듣냐고\\n또 혼잣말하네 (또 혼잣말하네)\\n또 혼잣말하네 (또 혼잣말하네)\\n넌 아무 말 안 해 아 제발 내가 잘할게\\n하늘은 또 파랗게 (하늘은 또 파랗게)\\n\\n하늘이 파래서 햇살이 빛나서\\n내 눈물이 더 잘 보이나 봐\\n왜 나는 너인지 왜 하필 너인지\\n왜 너를 떠날 수가 없는지\\n\\nI need you girl\\n왜 혼자 사랑하고 혼자서만 이별해\\nI need you girl\\n왜 다칠 걸 알면서 자꾸 니가 필요해\\n\\nI need you girl 넌 아름다워\\nI need you girl 너무 차가워\\nI need you girl (I need you girl)\\nI need you girl (I need you girl)\\n\\nGirl 차라리 차라리 헤어지자고 해줘\\nGirl 사랑이 사랑이 아니었다고 해줘\\n내겐 그럴 용기가 없어\\n내게 마지막 선물을 줘\\n더는 돌아갈 수 없도록\\n\\nI need you girl\\n왜 혼자 사랑하고 혼자서만 이별해\\nI need you girl\\n왜 다칠 걸 알면서 자꾸 니가 필요해\\n\\nI need you girl 넌 아름다워\\nI need you girl 너무 차가워\\nI need you girl (I need you girl)\\nI need you girl (I need you girl)\\n',\n",
       " \"쩔어,\\n어서 와 방탄은 처음이지?\\n\\nAyo ladies & gentleman\\n준비가 됐다면 부를게 yeah!\\n딴 녀석들과는 다르게\\n내 스타일로 내 내 내 내 스타일로 에오!\\n\\n밤새 일했지 everyday\\n니가 클럽에서 놀 때 yeah\\n자 놀라지 말고 들어 매일\\nI got a feel, I got a feel\\n난 좀 쩔어!\\n\\n아 쩔어 쩔어 쩔어 우리 연습실 땀내\\n봐 쩌렁 쩌렁 쩌렁한 내 춤이 답해\\n모두 비실이 찌질이 찡찡이 띨띨이들\\n나랑은 상관이 없어 cuz 난 희망이 쩔어 haha\\n\\nOk 우린 머리부터 발끝까지 전부 다 쩌 쩔어\\n하루의 절반을 작업에 쩌 쩔어\\n작업실에 쩔어 살어 청춘은 썩어가도\\n덕분에 모로 가도 달리는 성공가도\\n소녀들아 더 크게 소리질러 쩌 쩌렁\\n\\n밤새 일했지 everyday\\n니가 클럽에서 놀 때 yeah\\n딴 녀석들과는 다르게\\nI don't wanna say yes\\nI don't wanna say yes\\n\\n소리쳐봐 all right\\n몸이 타버리도록 all night (all night)\\nCause we got fire (fire!)\\nHigher (higher!)\\nI gotta make it, I gotta make it\\n쩔어!\\n\\n거부는 거부해\\n난 원래 너무해\\n모두 다 따라 해\\n쩔어\\n\\n거부는 거부해\\n전부 나의 노예\\n모두 다 따라 해\\n쩔어\\n\\n3포세대? 5포세대?\\n그럼 난 육포가 좋으니까 6포세대\\n언론과 어른들은 의지가 없다며 우릴 싹 주식처럼 매도해\\n왜 해보기도 전에 죽여 걔넨 enemy enemy enemy\\n왜 벌써부터 고개를 숙여 받아 energy energy energy\\n절대 마 포기 you know you not lonely\\n너와 내 새벽은 낮보다 예뻐\\nSo can I get a little bit of hope? (yeah)\\n잠든 청춘을 깨워 go\\n\\n밤새 일했지 everyday\\n니가 클럽에서 놀 때 yeah\\n딴 녀석들과는 다르게\\nI don't wanna say yes\\nI don't wanna say yes\\n\\n소리쳐봐 all right\\n몸이 타버리도록 all night (all night)\\nCause we got fire (fire!)\\nHigher (higher!)\\nI gotta make it, I gotta make it\\n쩔어!\\n\\n거부는 거부해\\n난 원래 너무해\\n모두 다 따라 해\\n쩔어\\n\\n거부는 거부해\\n전부 나의 노예\\n모두 다 따라 해\\n쩔어\\n\\n이런 게 방탄 스타일\\n거짓말 wack들과는 달라\\n매일이 hustle life\\nI gotta make it fire baby\\n\\n이런 게 방탄 스타일\\n거짓말 wack들과는 달라\\n매일이 hustle life\\nI gotta make it, I gotta make it\\n난 좀 쩔어!\\n\\nSay what!\\nSay wo~ wo~\\nSay what!\\n쩔어\\n\"]"
      ]
     },
     "execution_count": 162,
     "metadata": {},
     "output_type": "execute_result"
    }
   ],
   "source": [
    "docs[:3]"
   ]
  },
  {
   "cell_type": "code",
   "execution_count": 163,
   "metadata": {},
   "outputs": [],
   "source": [
    "documents_ko = docs"
   ]
  },
  {
   "cell_type": "code",
   "execution_count": 165,
   "metadata": {},
   "outputs": [
    {
     "data": {
      "text/plain": [
       "\"쩔어,\\n어서 와 방탄은 처음이지?\\n\\nAyo ladies & gentleman\\n준비가 됐다면 부를게 yeah!\\n딴 녀석들과는 다르게\\n내 스타일로 내 내 내 내 스타일로 에오!\\n\\n밤새 일했지 everyday\\n니가 클럽에서 놀 때 yeah\\n자 놀라지 말고 들어 매일\\nI got a feel, I got a feel\\n난 좀 쩔어!\\n\\n아 쩔어 쩔어 쩔어 우리 연습실 땀내\\n봐 쩌렁 쩌렁 쩌렁한 내 춤이 답해\\n모두 비실이 찌질이 찡찡이 띨띨이들\\n나랑은 상관이 없어 cuz 난 희망이 쩔어 haha\\n\\nOk 우린 머리부터 발끝까지 전부 다 쩌 쩔어\\n하루의 절반을 작업에 쩌 쩔어\\n작업실에 쩔어 살어 청춘은 썩어가도\\n덕분에 모로 가도 달리는 성공가도\\n소녀들아 더 크게 소리질러 쩌 쩌렁\\n\\n밤새 일했지 everyday\\n니가 클럽에서 놀 때 yeah\\n딴 녀석들과는 다르게\\nI don't wanna say yes\\nI don't wanna say yes\\n\\n소리쳐봐 all right\\n몸이 타버리도록 all night (all night)\\nCause we got fire (fire!)\\nHigher (higher!)\\nI gotta make it, I gotta make it\\n쩔어!\\n\\n거부는 거부해\\n난 원래 너무해\\n모두 다 따라 해\\n쩔어\\n\\n거부는 거부해\\n전부 나의 노예\\n모두 다 따라 해\\n쩔어\\n\\n3포세대? 5포세대?\\n그럼 난 육포가 좋으니까 6포세대\\n언론과 어른들은 의지가 없다며 우릴 싹 주식처럼 매도해\\n왜 해보기도 전에 죽여 걔넨 enemy enemy enemy\\n왜 벌써부터 고개를 숙여 받아 energy energy energy\\n절대 마 포기 you know you not lonely\\n너와 내 새벽은 낮보다 예뻐\\nSo can I get a little bit of hope? (yeah)\\n잠든 청춘을 깨워 go\\n\\n밤새 일했지 everyday\\n니가 클럽에서 놀 때 yeah\\n딴 녀석들과는 다르게\\nI don't wanna say yes\\nI don't wanna say yes\\n\\n소리쳐봐 all right\\n몸이 타버리도록 all night (all night)\\nCause we got fire (fire!)\\nHigher (higher!)\\nI gotta make it, I gotta make it\\n쩔어!\\n\\n거부는 거부해\\n난 원래 너무해\\n모두 다 따라 해\\n쩔어\\n\\n거부는 거부해\\n전부 나의 노예\\n모두 다 따라 해\\n쩔어\\n\\n이런 게 방탄 스타일\\n거짓말 wack들과는 달라\\n매일이 hustle life\\nI gotta make it fire baby\\n\\n이런 게 방탄 스타일\\n거짓말 wack들과는 달라\\n매일이 hustle life\\nI gotta make it, I gotta make it\\n난 좀 쩔어!\\n\\nSay what!\\nSay wo~ wo~\\nSay what!\\n쩔어\\n\""
      ]
     },
     "execution_count": 165,
     "metadata": {},
     "output_type": "execute_result"
    }
   ],
   "source": [
    "# 문서를 형태소 분석을 이용해서 정리하고 싶다.\n",
    "doc = documents_ko[2]\n",
    "doc"
   ]
  },
  {
   "cell_type": "code",
   "execution_count": 166,
   "metadata": {},
   "outputs": [
    {
     "name": "stdout",
     "output_type": "stream",
     "text": [
      "[Noun Extractor] use default predictors\n",
      "[Noun Extractor] num features: pos=1260, neg=1173, common=12\n"
     ]
    }
   ],
   "source": [
    "from soynlp.noun import LRNounExtractor_v2\n",
    "\n",
    "noun_extractor = LRNounExtractor_v2(verbose=True)"
   ]
  },
  {
   "cell_type": "code",
   "execution_count": 167,
   "metadata": {},
   "outputs": [
    {
     "name": "stdout",
     "output_type": "stream",
     "text": [
      "[Noun Extractor] counting eojeols\n",
      "[EojeolCounter] n eojeol = 1076 from 9 sents. mem=0.181 Gb                    \n",
      "[Noun Extractor] complete eojeol counter -> lr graph\n",
      "[Noun Extractor] has been trained. #eojeols=2727, mem=0.181 Gb\n",
      "[Noun Extractor] batch prediction was completed for 286 words\n",
      "[Noun Extractor] checked compounds. discovered 0 compounds\n",
      "[Noun Extractor] postprocessing detaching_features : 80 -> 80\n",
      "[Noun Extractor] postprocessing ignore_features : 80 -> 77\n",
      "[Noun Extractor] postprocessing ignore_NJ : 77 -> 77\n",
      "[Noun Extractor] 77 nouns (0 compounds) with min frequency=1\n",
      "[Noun Extractor] flushing was done. mem=0.181 Gb                    \n",
      "[Noun Extractor] 19.80 % eojeols are covered\n"
     ]
    }
   ],
   "source": [
    "# 학습기반 단어 추출기\n",
    "nouns = noun_extractor.train_extract(documents_ko)"
   ]
  },
  {
   "cell_type": "code",
   "execution_count": 168,
   "metadata": {},
   "outputs": [
    {
     "data": {
      "text/plain": [
       "77"
      ]
     },
     "execution_count": 168,
     "metadata": {},
     "output_type": "execute_result"
    }
   ],
   "source": [
    "len(nouns)"
   ]
  },
  {
   "cell_type": "code",
   "execution_count": 169,
   "metadata": {},
   "outputs": [
    {
     "data": {
      "text/plain": [
       "{'스타일': NounScore(frequency=4, score=1.0),\n",
       " '거짓말': NounScore(frequency=5, score=1.0),\n",
       " 'DNA': NounScore(frequency=5, score=0.8333333333333334),\n",
       " '어른들': NounScore(frequency=2, score=1.0),\n",
       " '사랑': NounScore(frequency=7, score=1.0),\n",
       " '함께': NounScore(frequency=3, score=0.5),\n",
       " '하루': NounScore(frequency=4, score=1.0),\n",
       " '우주': NounScore(frequency=3, score=1.0),\n",
       " '운명': NounScore(frequency=8, score=1.0),\n",
       " '특별': NounScore(frequency=2, score=1.0),\n",
       " '사소': NounScore(frequency=3, score=1.0),\n",
       " '날개': NounScore(frequency=4, score=1.0),\n",
       " '거부': NounScore(frequency=8, score=1.0),\n",
       " '너무': NounScore(frequency=12, score=1.0),\n",
       " '달콤': NounScore(frequency=3, score=1.0),\n",
       " '이상': NounScore(frequency=2, score=1.0),\n",
       " '행복': NounScore(frequency=2, score=1.0),\n",
       " '전부': NounScore(frequency=10, score=1.0),\n",
       " '상처': NounScore(frequency=2, score=1.0),\n",
       " '준비': NounScore(frequency=2, score=1.0),\n",
       " '봄날': NounScore(frequency=3, score=0.75),\n",
       " '매일': NounScore(frequency=4, score=1.0),\n",
       " '하늘': NounScore(frequency=4, score=1.0),\n",
       " '눈물': NounScore(frequency=11, score=1.0),\n",
       " '새벽': NounScore(frequency=2, score=1.0),\n",
       " '겨울': NounScore(frequency=6, score=1.0),\n",
       " '시간': NounScore(frequency=4, score=1.0),\n",
       " '청춘': NounScore(frequency=2, score=1.0),\n",
       " '우리': NounScore(frequency=6, score=1.0),\n",
       " '모두': NounScore(frequency=6, score=1.0),\n",
       " '벌써': NounScore(frequency=2, score=1.0),\n",
       " '처음': NounScore(frequency=1, score=0.5),\n",
       " '머리': NounScore(frequency=1, score=0.5),\n",
       " '멀리': NounScore(frequency=2, score=1.0),\n",
       " '쩌렁': NounScore(frequency=4, score=1.0),\n",
       " '작업': NounScore(frequency=1, score=0.5),\n",
       " '자꾸': NounScore(frequency=8, score=1.0),\n",
       " '조금': NounScore(frequency=5, score=0.7142857142857143),\n",
       " '아무': NounScore(frequency=2, score=1.0),\n",
       " '있어': NounScore(frequency=5, score=0.8333333333333334),\n",
       " '꺼': NounScore(frequency=2, score=0.3333333333333333),\n",
       " '너': NounScore(frequency=30, score=1.0),\n",
       " '말': NounScore(frequency=14, score=0.5),\n",
       " '눈': NounScore(frequency=8, score=1.0),\n",
       " '것': NounScore(frequency=4, score=1.0),\n",
       " '못': NounScore(frequency=4, score=1.0),\n",
       " '꿈': NounScore(frequency=28, score=1.0),\n",
       " '삶': NounScore(frequency=2, score=1.0),\n",
       " '모': NounScore(frequency=10, score=1.0),\n",
       " '욕': NounScore(frequency=2, score=1.0),\n",
       " '원': NounScore(frequency=9, score=1.0),\n",
       " '잘': NounScore(frequency=5, score=0.625),\n",
       " '더': NounScore(frequency=13, score=1.0),\n",
       " '보': NounScore(frequency=1, score=1.0),\n",
       " '많': NounScore(frequency=40, score=0.9512195121951219),\n",
       " '몸': NounScore(frequency=3, score=1.0),\n",
       " '높': NounScore(frequency=4, score=0.8),\n",
       " '독': NounScore(frequency=1, score=0.5),\n",
       " '춤': NounScore(frequency=7, score=1.0),\n",
       " '힘': NounScore(frequency=1, score=0.5),\n",
       " '끝': NounScore(frequency=3, score=1.0),\n",
       " '숨': NounScore(frequency=4, score=1.0),\n",
       " '깊': NounScore(frequency=1, score=0.5),\n",
       " '길': NounScore(frequency=7, score=1.0),\n",
       " '법': NounScore(frequency=4, score=1.0),\n",
       " '밤': NounScore(frequency=3, score=1.0),\n",
       " '손': NounScore(frequency=4, score=0.6666666666666666),\n",
       " '내': NounScore(frequency=51, score=1.0),\n",
       " '네': NounScore(frequency=32, score=1.0),\n",
       " '수': NounScore(frequency=8, score=1.0),\n",
       " '둘': NounScore(frequency=6, score=1.0),\n",
       " '때': NounScore(frequency=10, score=0.7142857142857143),\n",
       " '열': NounScore(frequency=1, score=0.5),\n",
       " '취': NounScore(frequency=3, score=1.0),\n",
       " '꿔': NounScore(frequency=2, score=1.0),\n",
       " '뭣': NounScore(frequency=2, score=1.0),\n",
       " '생': NounScore(frequency=2, score=0.4)}"
      ]
     },
     "execution_count": 169,
     "metadata": {},
     "output_type": "execute_result"
    }
   ],
   "source": [
    "nouns"
   ]
  },
  {
   "cell_type": "code",
   "execution_count": 170,
   "metadata": {},
   "outputs": [],
   "source": [
    "from soynlp.tokenizer import MaxScoreTokenizer"
   ]
  },
  {
   "cell_type": "code",
   "execution_count": 171,
   "metadata": {},
   "outputs": [
    {
     "data": {
      "text/plain": [
       "{'스타일': 1.0,\n",
       " '거짓말': 1.0,\n",
       " 'DNA': 0.8333333333333334,\n",
       " '어른들': 1.0,\n",
       " '사랑': 1.0,\n",
       " '함께': 0.5,\n",
       " '하루': 1.0,\n",
       " '우주': 1.0,\n",
       " '운명': 1.0,\n",
       " '특별': 1.0,\n",
       " '사소': 1.0,\n",
       " '날개': 1.0,\n",
       " '거부': 1.0,\n",
       " '너무': 1.0,\n",
       " '달콤': 1.0,\n",
       " '이상': 1.0,\n",
       " '행복': 1.0,\n",
       " '전부': 1.0,\n",
       " '상처': 1.0,\n",
       " '준비': 1.0,\n",
       " '봄날': 0.75,\n",
       " '매일': 1.0,\n",
       " '하늘': 1.0,\n",
       " '눈물': 1.0,\n",
       " '새벽': 1.0,\n",
       " '겨울': 1.0,\n",
       " '시간': 1.0,\n",
       " '청춘': 1.0,\n",
       " '우리': 1.0,\n",
       " '모두': 1.0,\n",
       " '벌써': 1.0,\n",
       " '처음': 0.5,\n",
       " '머리': 0.5,\n",
       " '멀리': 1.0,\n",
       " '쩌렁': 1.0,\n",
       " '작업': 0.5,\n",
       " '자꾸': 1.0,\n",
       " '조금': 0.7142857142857143,\n",
       " '아무': 1.0,\n",
       " '있어': 0.8333333333333334,\n",
       " '꺼': 0.3333333333333333,\n",
       " '너': 1.0,\n",
       " '말': 0.5,\n",
       " '눈': 1.0,\n",
       " '것': 1.0,\n",
       " '못': 1.0,\n",
       " '꿈': 1.0,\n",
       " '삶': 1.0,\n",
       " '모': 1.0,\n",
       " '욕': 1.0,\n",
       " '원': 1.0,\n",
       " '잘': 0.625,\n",
       " '더': 1.0,\n",
       " '보': 1.0,\n",
       " '많': 0.9512195121951219,\n",
       " '몸': 1.0,\n",
       " '높': 0.8,\n",
       " '독': 0.5,\n",
       " '춤': 1.0,\n",
       " '힘': 0.5,\n",
       " '끝': 1.0,\n",
       " '숨': 1.0,\n",
       " '깊': 0.5,\n",
       " '길': 1.0,\n",
       " '법': 1.0,\n",
       " '밤': 1.0,\n",
       " '손': 0.6666666666666666,\n",
       " '내': 1.0,\n",
       " '네': 1.0,\n",
       " '수': 1.0,\n",
       " '둘': 1.0,\n",
       " '때': 0.7142857142857143,\n",
       " '열': 0.5,\n",
       " '취': 1.0,\n",
       " '꿔': 1.0,\n",
       " '뭣': 1.0,\n",
       " '생': 0.4}"
      ]
     },
     "execution_count": 171,
     "metadata": {},
     "output_type": "execute_result"
    }
   ],
   "source": [
    "scores = {w:s.score for w, s in nouns.items()}\n",
    "scores"
   ]
  },
  {
   "cell_type": "code",
   "execution_count": 172,
   "metadata": {},
   "outputs": [],
   "source": [
    "tokenizer = MaxScoreTokenizer(scores=scores)"
   ]
  },
  {
   "cell_type": "code",
   "execution_count": 176,
   "metadata": {
    "scrolled": false
   },
   "outputs": [
    {
     "name": "stdout",
     "output_type": "stream",
     "text": [
      "No More Dream,\n",
      "얌마 네 꿈은 뭐니\n",
      "얌마 네 꿈은 뭐니\n",
      "얌마 네 꿈은 뭐니\n",
      "네 꿈은 겨우 그거니\n",
      "\n",
      "I wanna big house, big cars & big rings\n",
      "But 사실은 I dun have any big dreams\n",
      "하하 난 참 편하게 살어\n",
      "꿈 따위 안 꿔도 아무도 뭐라 안 하잖어\n",
      "전부 다다다 똑같이 나처럼 생각하고 있어\n",
      "새까까까맣게 까먹은 꿈 많던 어린 시절\n",
      "대학은 걱정 마 멀리라도 갈 거니까\n",
      "알았어 엄마 지금 독서실 간다니까\n",
      "\n",
      "네가 꿈꿔 온 네 모습이 뭐야\n",
      "지금 네 거울 속엔 누가 보여, I gotta say\n",
      "너의 길을 가라고\n",
      "단 하루를 살아도\n",
      "뭐라도 하라고\n",
      "나약함은 담아 둬\n",
      "\n",
      "왜 말 못하고 있어? 공부는 하기 싫다면서\n",
      "학교 때려 치기는 겁나지? 이거 봐 등교할 준비하네 벌써\n",
      "철 좀 들어 제발 좀, 너 입만 살아가지고 인마 유리 멘탈 boy\n",
      "(Stop!) 자신에게 물어봐 언제 네가 열심히 노력했냐고\n",
      "\n",
      "얌마 네 꿈은 뭐니\n",
      "얌마 네 꿈은 뭐니\n",
      "얌마 네 꿈은 뭐니\n",
      "네 꿈은 겨우 그거니\n",
      "\n",
      "거짓말이야 you such a liar\n",
      "See me see me ya 넌 위선자여\n",
      "왜 자꾸 딴 길을 가래 야 너나 잘해\n",
      "제발 강요하진 말아 줘\n",
      "(La la la la la) 네 꿈이 뭐니 네 꿈이 뭐니 뭐니\n",
      "(La la la la la) 고작 이거니 고작 이거니 거니\n",
      "\n",
      "지겨운 same day, 반복되는 매일에\n",
      "어른들과 부모님은 틀에 박힌 꿈을 주입해\n",
      "장래희망 넘버원... 공무원?\n",
      "강요된 꿈은 아냐, 9회말 구원투수\n",
      "시간 낭비인 야자에 돌직구를 날려\n",
      "지옥 같은 사회에 반항해, 꿈을 특별 사면\n",
      "자신에게 물어봐 네 꿈의 profile\n",
      "억압만 받던 인생 네 삶의 주어가 되어 봐\n",
      "\n",
      "네가 꿈꿔 온 네 모습이 뭐여\n",
      "지금 네 거울 속엔 누가 보여, I gotta say\n",
      "너의 길을 가라고\n",
      "단 하루를 살아도\n",
      "뭐라도 하라고\n",
      "나약함은 담아 둬\n",
      "\n",
      "얌마 네 꿈은 뭐니\n",
      "얌마 네 꿈은 뭐니\n",
      "얌마 네 꿈은 뭐니\n",
      "네 꿈은 겨우 그거니\n",
      "\n",
      "거짓말이야 you such a liar\n",
      "See me see me ya 넌 위선자여\n",
      "왜 자꾸 딴 길을 가래 야 너나 잘해\n",
      "제발 강요하진 말아 줘\n",
      "(La la la la la) 네 꿈이 뭐니 네 꿈이 뭐니 뭐니\n",
      "(La la la la la) 고작 이거니 고작 이거니 거니\n",
      "\n",
      "살아가는 법을 몰라\n",
      "날아가는 법을 몰라\n",
      "결정하는 법을 몰라\n",
      "이젠 꿈꾸는 법도 몰라\n",
      "\n",
      "눈을 눈을 눈을 떠라 다 이제\n",
      "춤을 춤을 춤을 춰 봐 자 다시\n",
      "꿈을 꿈을 꿈을 꿔 봐 다\n",
      "너 꾸물대지 마 우물쭈물 대지 마 wussup!\n",
      "\n",
      "거짓말이야 you such a liar\n",
      "See me see me ya 넌 위선자여\n",
      "왜 자꾸 딴 길을 가래 야 너나 잘해\n",
      "제발 강요하진 말아 줘\n",
      "(La la la la la) 네 꿈이 뭐니 네 꿈이 뭐니 뭐니\n",
      "(La la la la la) 고작 이거니 고작 이거니 거니\n",
      "\n",
      "To all the youngsters without dreams.\n",
      "\n",
      "['No', 'More', 'Dream,', '얌마', '네', '꿈은', '뭐니', '얌마', '네', '꿈은', '뭐니', '얌마', '네', '꿈은', '뭐니', '네', '꿈은', '겨우', '그거니', 'I', 'wanna', 'big', 'house,', 'big', 'cars', '&', 'big', 'rings', 'But', '사실은', 'I', 'dun', 'have', 'any', 'big', 'dreams', '하하', '난', '참', '편하게', '살어', '꿈', '따위', '안', '꿔도', '아무', '도', '뭐라', '안', '하잖어', '전부', '다다다', '똑같이', '나처럼', '생각하고', '있어', '새까까까맣게', '까먹은', '꿈', '많던', '어린', '시절', '대학은', '걱정', '마', '멀리', '라도', '갈', '거니까', '알았어', '엄마', '지금', '독서실', '간다니까', '네가', '꿈꿔', '온', '네', '모습이', '뭐야', '지금', '네', '거울', '속엔', '누가', '보여,', 'I', 'gotta', 'say', '너의', '길을', '가라고', '단', '하루', '를', '살아도', '뭐라도', '하라고', '나약함은', '담아', '둬', '왜', '말', '못하고', '있어', '?', '공부는', '하기', '싫다면서', '학교', '때려', '치기는', '겁나지?', '이거', '봐', '등교할', '준비', '하네', '벌써', '철', '좀', '들어', '제발', '좀,', '너', '입만', '살아가지고', '인마', '유리', '멘탈', 'boy', '(Stop!)', '자신에게', '물어봐', '언제', '네가', '열심히', '노력했냐고', '얌마', '네', '꿈은', '뭐니', '얌마', '네', '꿈은', '뭐니', '얌마', '네', '꿈은', '뭐니', '네', '꿈은', '겨우', '그거니', '거짓말', '이야', 'you', 'such', 'a', 'liar', 'See', 'me', 'see', 'me', 'ya', '넌', '위선자여', '왜', '자꾸', '딴', '길을', '가래', '야', '너나', '잘해', '제발', '강요하진', '말아', '줘', '(La', 'la', 'la', 'la', 'la)', '네', '꿈이', '뭐니', '네', '꿈이', '뭐니', '뭐니', '(La', 'la', 'la', 'la', 'la)', '고작', '이거니', '고작', '이거니', '거니', '지겨운', 'same', 'day,', '반복되는', '매일', '에', '어른들', '과', '부모님은', '틀에', '박힌', '꿈을', '주입해', '장래희망', '넘버원...', '공무원?', '강요된', '꿈은', '아냐,', '9회말', '구원투수', '시간', '낭비인', '야자에', '돌직구를', '날려', '지옥', '같은', '사회에', '반항해,', '꿈을', '특별', '사면', '자신에게', '물어봐', '네', '꿈의', 'profile', '억압만', '받던', '인생', '네', '삶의', '주어가', '되어', '봐', '네가', '꿈꿔', '온', '네', '모습이', '뭐여', '지금', '네', '거울', '속엔', '누가', '보여,', 'I', 'gotta', 'say', '너의', '길을', '가라고', '단', '하루', '를', '살아도', '뭐라도', '하라고', '나약함은', '담아', '둬', '얌마', '네', '꿈은', '뭐니', '얌마', '네', '꿈은', '뭐니', '얌마', '네', '꿈은', '뭐니', '네', '꿈은', '겨우', '그거니', '거짓말', '이야', 'you', 'such', 'a', 'liar', 'See', 'me', 'see', 'me', 'ya', '넌', '위선자여', '왜', '자꾸', '딴', '길을', '가래', '야', '너나', '잘해', '제발', '강요하진', '말아', '줘', '(La', 'la', 'la', 'la', 'la)', '네', '꿈이', '뭐니', '네', '꿈이', '뭐니', '뭐니', '(La', 'la', 'la', 'la', 'la)', '고작', '이거니', '고작', '이거니', '거니', '살아가는', '법을', '몰라', '날아가는', '법을', '몰라', '결정하는', '법을', '몰라', '이젠', '꿈꾸는', '법도', '몰라', '눈을', '눈을', '눈을', '떠라', '다', '이제', '춤을', '춤을', '춤을', '춰', '봐', '자', '다시', '꿈을', '꿈을', '꿈을', '꿔', '봐', '다', '너', '꾸물대지', '마', '우물쭈물', '대지', '마', 'wussup!', '거짓말', '이야', 'you', 'such', 'a', 'liar', 'See', 'me', 'see', 'me', 'ya', '넌', '위선자여', '왜', '자꾸', '딴', '길을', '가래', '야', '너나', '잘해', '제발', '강요하진', '말아', '줘', '(La', 'la', 'la', 'la', 'la)', '네', '꿈이', '뭐니', '네', '꿈이', '뭐니', '뭐니', '(La', 'la', 'la', 'la', 'la)', '고작', '이거니', '고작', '이거니', '거니', 'To', 'all', 'the', 'youngsters', 'without', 'dreams.']\n",
      "I NEED U,\n",
      "Fall Fall Fall 흩어지네\n",
      "Fall Fall Fall 떨어지네\n",
      "\n",
      "너 땜에 나 이렇게 망가져\n",
      "그만할래 이제 너 안 가져\n",
      "못하겠어 뭣 같아서\n",
      "제발 핑계 같은 건 삼가줘\n",
      "\n",
      "니가 나한테 이럼 안 돼\n",
      "니가 한 모든 말은 안대\n",
      "진실을 가리고 날 찢어\n",
      "날 찍어 나 미쳐 다 싫어\n",
      "전부 가져가 난 니가 그냥 미워\n",
      "\n",
      "But you’re my everything (You’re my)\n",
      "Everything (You’re my)\n",
      "Everything (You’re my)\n",
      "제발 좀 꺼져 huh\n",
      "\n",
      "미안해 (I hate u)\n",
      "사랑해 (I hate u)\n",
      "용서해\n",
      "\n",
      "I need you girl\n",
      "왜 혼자 사랑하고 혼자서만 이별해\n",
      "I need you girl\n",
      "왜 다칠 걸 알면서 자꾸 니가 필요해\n",
      "\n",
      "I need you girl 넌 아름다워\n",
      "I need you girl 너무 차가워\n",
      "I need you girl (I need you girl)\n",
      "I need you girl (I need you girl)\n",
      "\n",
      "It goes round & round 나 왜 자꾸 돌아오지\n",
      "I go down & down 이쯤 되면 내가 바보지\n",
      "나 무슨 짓을 해봐도 어쩔 수가 없다고\n",
      "분명 내 심장, 내 마음, 내 가슴인데 왜 말을 안 듣냐고\n",
      "또 혼잣말하네 (또 혼잣말하네)\n",
      "또 혼잣말하네 (또 혼잣말하네)\n",
      "넌 아무 말 안 해 아 제발 내가 잘할게\n",
      "하늘은 또 파랗게 (하늘은 또 파랗게)\n",
      "\n",
      "하늘이 파래서 햇살이 빛나서\n",
      "내 눈물이 더 잘 보이나 봐\n",
      "왜 나는 너인지 왜 하필 너인지\n",
      "왜 너를 떠날 수가 없는지\n",
      "\n",
      "I need you girl\n",
      "왜 혼자 사랑하고 혼자서만 이별해\n",
      "I need you girl\n",
      "왜 다칠 걸 알면서 자꾸 니가 필요해\n",
      "\n",
      "I need you girl 넌 아름다워\n",
      "I need you girl 너무 차가워\n",
      "I need you girl (I need you girl)\n",
      "I need you girl (I need you girl)\n",
      "\n",
      "Girl 차라리 차라리 헤어지자고 해줘\n",
      "Girl 사랑이 사랑이 아니었다고 해줘\n",
      "내겐 그럴 용기가 없어\n",
      "내게 마지막 선물을 줘\n",
      "더는 돌아갈 수 없도록\n",
      "\n",
      "I need you girl\n",
      "왜 혼자 사랑하고 혼자서만 이별해\n",
      "I need you girl\n",
      "왜 다칠 걸 알면서 자꾸 니가 필요해\n",
      "\n",
      "I need you girl 넌 아름다워\n",
      "I need you girl 너무 차가워\n",
      "I need you girl (I need you girl)\n",
      "I need you girl (I need you girl)\n",
      "\n",
      "['I', 'NEED', 'U,', 'Fall', 'Fall', 'Fall', '흩어지네', 'Fall', 'Fall', 'Fall', '떨어지네', '너', '땜에', '나', '이렇게', '망가져', '그만할래', '이제', '너', '안', '가져', '못하겠어', '뭣', '같아서', '제발', '핑계', '같은', '건', '삼가줘', '니가', '나한테', '이럼', '안', '돼', '니가', '한', '모든', '말은', '안대', '진실을', '가리고', '날', '찢어', '날', '찍어', '나', '미쳐', '다', '싫어', '전부', '가져가', '난', '니가', '그냥', '미워', 'But', 'you’re', 'my', 'everything', '(You’re', 'my)', 'Everything', '(You’re', 'my)', 'Everything', '(You’re', 'my)', '제발', '좀', '꺼져', 'huh', '미안해', '(I', 'hate', 'u)', '사랑', '해', '(I', 'hate', 'u)', '용서해', 'I', 'need', 'you', 'girl', '왜', '혼자', '사랑', '하고', '혼자서만', '이별해', 'I', 'need', 'you', 'girl', '왜', '다칠', '걸', '알면서', '자꾸', '니가', '필요해', 'I', 'need', 'you', 'girl', '넌', '아름다워', 'I', 'need', 'you', 'girl', '너무', '차가워', 'I', 'need', 'you', 'girl', '(I', 'need', 'you', 'girl)', 'I', 'need', 'you', 'girl', '(I', 'need', 'you', 'girl)', 'It', 'goes', 'round', '&', 'round', '나', '왜', '자꾸', '돌아오지', 'I', 'go', 'down', '&', 'down', '이쯤', '되면', '내가', '바보지', '나', '무슨', '짓을', '해봐도', '어쩔', '수가', '없다고', '분명', '내', '심장,', '내', '마음,', '내', '가슴인데', '왜', '말을', '안', '듣냐고', '또', '혼잣말하네', '(또', '혼잣말하네)', '또', '혼잣말하네', '(또', '혼잣말하네)', '넌', '아무', '말', '안', '해', '아', '제발', '내가', '잘할게', '하늘', '은', '또', '파랗게', '(', '하늘', '은', '또', '파랗게)', '하늘', '이', '파래서', '햇살이', '빛나서', '내', '눈물', '이', '더', '잘', '보이나', '봐', '왜', '나는', '너인지', '왜', '하필', '너인지', '왜', '너를', '떠날', '수가', '없는지', 'I', 'need', 'you', 'girl', '왜', '혼자', '사랑', '하고', '혼자서만', '이별해', 'I', 'need', 'you', 'girl', '왜', '다칠', '걸', '알면서', '자꾸', '니가', '필요해', 'I', 'need', 'you', 'girl', '넌', '아름다워', 'I', 'need', 'you', 'girl', '너무', '차가워', 'I', 'need', 'you', 'girl', '(I', 'need', 'you', 'girl)', 'I', 'need', 'you', 'girl', '(I', 'need', 'you', 'girl)', 'Girl', '차라리', '차라리', '헤어지자고', '해줘', 'Girl', '사랑', '이', '사랑', '이', '아니었다고', '해줘', '내겐', '그럴', '용기가', '없어', '내게', '마지막', '선물을', '줘', '더는', '돌아갈', '수', '없도록', 'I', 'need', 'you', 'girl', '왜', '혼자', '사랑', '하고', '혼자서만', '이별해', 'I', 'need', 'you', 'girl', '왜', '다칠', '걸', '알면서', '자꾸', '니가', '필요해', 'I', 'need', 'you', 'girl', '넌', '아름다워', 'I', 'need', 'you', 'girl', '너무', '차가워', 'I', 'need', 'you', 'girl', '(I', 'need', 'you', 'girl)', 'I', 'need', 'you', 'girl', '(I', 'need', 'you', 'girl)']\n"
     ]
    }
   ],
   "source": [
    "for doc in documents_ko[:2] :\n",
    "    print(doc)\n",
    "    tokens = tokenizer.tokenize(doc)\n",
    "    print(tokens)"
   ]
  },
  {
   "cell_type": "code",
   "execution_count": 278,
   "metadata": {
    "scrolled": false
   },
   "outputs": [
    {
     "name": "stdout",
     "output_type": "stream",
     "text": [
      "No More Dream,\n",
      "얌마 네 꿈은 뭐니\n",
      "얌마 네 꿈은 뭐니\n",
      "얌마 네 꿈은 뭐니\n",
      "네 꿈은 겨우 그거니\n",
      "\n",
      "I wanna big house, big cars & big rings\n",
      "But 사실은 I dun have any big dreams\n",
      "하하 난 참 편하게 살어\n",
      "꿈 따위 안 꿔도 아무도 뭐라 안 하잖어\n",
      "전부 다다다 똑같이 나처럼 생각하고 있어\n",
      "새까까까맣게 까먹은 꿈 많던 어린 시절\n",
      "대학은 걱정 마 멀리라도 갈 거니까\n",
      "알았어 엄마 지금 독서실 간다니까\n",
      "\n",
      "네가 꿈꿔 온 네 모습이 뭐야\n",
      "지금 네 거울 속엔 누가 보여, I gotta say\n",
      "너의 길을 가라고\n",
      "단 하루를 살아도\n",
      "뭐라도 하라고\n",
      "나약함은 담아 둬\n",
      "\n",
      "왜 말 못하고 있어? 공부는 하기 싫다면서\n",
      "학교 때려 치기는 겁나지? 이거 봐 등교할 준비하네 벌써\n",
      "철 좀 들어 제발 좀, 너 입만 살아가지고 인마 유리 멘탈 boy\n",
      "(Stop!) 자신에게 물어봐 언제 네가 열심히 노력했냐고\n",
      "\n",
      "얌마 네 꿈은 뭐니\n",
      "얌마 네 꿈은 뭐니\n",
      "얌마 네 꿈은 뭐니\n",
      "네 꿈은 겨우 그거니\n",
      "\n",
      "거짓말이야 you such a liar\n",
      "See me see me ya 넌 위선자여\n",
      "왜 자꾸 딴 길을 가래 야 너나 잘해\n",
      "제발 강요하진 말아 줘\n",
      "(La la la la la) 네 꿈이 뭐니 네 꿈이 뭐니 뭐니\n",
      "(La la la la la) 고작 이거니 고작 이거니 거니\n",
      "\n",
      "지겨운 same day, 반복되는 매일에\n",
      "어른들과 부모님은 틀에 박힌 꿈을 주입해\n",
      "장래희망 넘버원... 공무원?\n",
      "강요된 꿈은 아냐, 9회말 구원투수\n",
      "시간 낭비인 야자에 돌직구를 날려\n",
      "지옥 같은 사회에 반항해, 꿈을 특별 사면\n",
      "자신에게 물어봐 네 꿈의 profile\n",
      "억압만 받던 인생 네 삶의 주어가 되어 봐\n",
      "\n",
      "네가 꿈꿔 온 네 모습이 뭐여\n",
      "지금 네 거울 속엔 누가 보여, I gotta say\n",
      "너의 길을 가라고\n",
      "단 하루를 살아도\n",
      "뭐라도 하라고\n",
      "나약함은 담아 둬\n",
      "\n",
      "얌마 네 꿈은 뭐니\n",
      "얌마 네 꿈은 뭐니\n",
      "얌마 네 꿈은 뭐니\n",
      "네 꿈은 겨우 그거니\n",
      "\n",
      "거짓말이야 you such a liar\n",
      "See me see me ya 넌 위선자여\n",
      "왜 자꾸 딴 길을 가래 야 너나 잘해\n",
      "제발 강요하진 말아 줘\n",
      "(La la la la la) 네 꿈이 뭐니 네 꿈이 뭐니 뭐니\n",
      "(La la la la la) 고작 이거니 고작 이거니 거니\n",
      "\n",
      "살아가는 법을 몰라\n",
      "날아가는 법을 몰라\n",
      "결정하는 법을 몰라\n",
      "이젠 꿈꾸는 법도 몰라\n",
      "\n",
      "눈을 눈을 눈을 떠라 다 이제\n",
      "춤을 춤을 춤을 춰 봐 자 다시\n",
      "꿈을 꿈을 꿈을 꿔 봐 다\n",
      "너 꾸물대지 마 우물쭈물 대지 마 wussup!\n",
      "\n",
      "거짓말이야 you such a liar\n",
      "See me see me ya 넌 위선자여\n",
      "왜 자꾸 딴 길을 가래 야 너나 잘해\n",
      "제발 강요하진 말아 줘\n",
      "(La la la la la) 네 꿈이 뭐니 네 꿈이 뭐니 뭐니\n",
      "(La la la la la) 고작 이거니 고작 이거니 거니\n",
      "\n",
      "To all the youngsters without dreams.\n",
      "\n",
      "['네', '네', '네', '네', '꿈', '아무', '전부', '있어', '꿈', '멀리', '네', '네', '하루', '말', '있어', '준비', '벌써', '너', '네', '네', '네', '네', '거짓말', '자꾸', '네', '네', '매일', '어른들', '시간', '특별', '네', '네', '네', '네', '하루', '네', '네', '네', '네', '거짓말', '자꾸', '네', '네', '꿔', '너', '거짓말', '자꾸', '네', '네']\n",
      "I NEED U,\n",
      "Fall Fall Fall 흩어지네\n",
      "Fall Fall Fall 떨어지네\n",
      "\n",
      "너 땜에 나 이렇게 망가져\n",
      "그만할래 이제 너 안 가져\n",
      "못하겠어 뭣 같아서\n",
      "제발 핑계 같은 건 삼가줘\n",
      "\n",
      "니가 나한테 이럼 안 돼\n",
      "니가 한 모든 말은 안대\n",
      "진실을 가리고 날 찢어\n",
      "날 찍어 나 미쳐 다 싫어\n",
      "전부 가져가 난 니가 그냥 미워\n",
      "\n",
      "But you’re my everything (You’re my)\n",
      "Everything (You’re my)\n",
      "Everything (You’re my)\n",
      "제발 좀 꺼져 huh\n",
      "\n",
      "미안해 (I hate u)\n",
      "사랑해 (I hate u)\n",
      "용서해\n",
      "\n",
      "I need you girl\n",
      "왜 혼자 사랑하고 혼자서만 이별해\n",
      "I need you girl\n",
      "왜 다칠 걸 알면서 자꾸 니가 필요해\n",
      "\n",
      "I need you girl 넌 아름다워\n",
      "I need you girl 너무 차가워\n",
      "I need you girl (I need you girl)\n",
      "I need you girl (I need you girl)\n",
      "\n",
      "It goes round & round 나 왜 자꾸 돌아오지\n",
      "I go down & down 이쯤 되면 내가 바보지\n",
      "나 무슨 짓을 해봐도 어쩔 수가 없다고\n",
      "분명 내 심장, 내 마음, 내 가슴인데 왜 말을 안 듣냐고\n",
      "또 혼잣말하네 (또 혼잣말하네)\n",
      "또 혼잣말하네 (또 혼잣말하네)\n",
      "넌 아무 말 안 해 아 제발 내가 잘할게\n",
      "하늘은 또 파랗게 (하늘은 또 파랗게)\n",
      "\n",
      "하늘이 파래서 햇살이 빛나서\n",
      "내 눈물이 더 잘 보이나 봐\n",
      "왜 나는 너인지 왜 하필 너인지\n",
      "왜 너를 떠날 수가 없는지\n",
      "\n",
      "I need you girl\n",
      "왜 혼자 사랑하고 혼자서만 이별해\n",
      "I need you girl\n",
      "왜 다칠 걸 알면서 자꾸 니가 필요해\n",
      "\n",
      "I need you girl 넌 아름다워\n",
      "I need you girl 너무 차가워\n",
      "I need you girl (I need you girl)\n",
      "I need you girl (I need you girl)\n",
      "\n",
      "Girl 차라리 차라리 헤어지자고 해줘\n",
      "Girl 사랑이 사랑이 아니었다고 해줘\n",
      "내겐 그럴 용기가 없어\n",
      "내게 마지막 선물을 줘\n",
      "더는 돌아갈 수 없도록\n",
      "\n",
      "I need you girl\n",
      "왜 혼자 사랑하고 혼자서만 이별해\n",
      "I need you girl\n",
      "왜 다칠 걸 알면서 자꾸 니가 필요해\n",
      "\n",
      "I need you girl 넌 아름다워\n",
      "I need you girl 너무 차가워\n",
      "I need you girl (I need you girl)\n",
      "I need you girl (I need you girl)\n",
      "\n",
      "['너', '너', '뭣', '전부', '사랑', '사랑', '자꾸', '너무', '자꾸', '내', '내', '내', '아무', '말', '하늘', '하늘', '하늘', '내', '눈물', '더', '잘', '사랑', '자꾸', '너무', '사랑', '사랑', '수', '사랑', '자꾸', '너무']\n"
     ]
    }
   ],
   "source": [
    "for doc in documents_ko[:2] :\n",
    "    print(doc)\n",
    "    tokens = tokenizer.tokenize(doc)\n",
    "    print([token for token in tokens if nouns.get(token)])"
   ]
  },
  {
   "cell_type": "code",
   "execution_count": 276,
   "metadata": {},
   "outputs": [
    {
     "name": "stdout",
     "output_type": "stream",
     "text": [
      "None\n"
     ]
    }
   ],
   "source": [
    "print(nouns.get('안녕'))"
   ]
  },
  {
   "cell_type": "code",
   "execution_count": 283,
   "metadata": {},
   "outputs": [
    {
     "name": "stdout",
     "output_type": "stream",
     "text": [
      "[['네', '네', '네', '네', '꿈', '아무', '전부', '있어', '꿈', '멀리', '네', '네', '하루', '말', '있어', '준비', '벌써', '너', '네', '네', '네', '네', '거짓말', '자꾸', '네', '네', '매일', '어른들', '시간', '특별', '네', '네', '네', '네', '하루', '네', '네', '네', '네', '거짓말', '자꾸', '네', '네', '꿔', '너', '거짓말', '자꾸', '네', '네'], ['너', '너', '뭣', '전부', '사랑', '사랑', '자꾸', '너무', '자꾸', '내', '내', '내', '아무', '말', '하늘', '하늘', '하늘', '내', '눈물', '더', '잘', '사랑', '자꾸', '너무', '사랑', '사랑', '수', '사랑', '자꾸', '너무']]\n"
     ]
    }
   ],
   "source": [
    "# 단어(토큰) 단위로 분할하는 함수\n",
    "def tokenize(x, tokenizer) :\n",
    "    for token in tokenizer.tokenize(x) :\n",
    "        if nouns.get(token) :  # 명사만 선택한다.\n",
    "            yield token\n",
    "        \n",
    "        \n",
    "# 코퍼스를 만들자\n",
    "corpus_ko = [list(tokenize(doc, tokenizer)) for doc in documents_ko]\n",
    "\n",
    "print(corpus_ko[:2])"
   ]
  },
  {
   "cell_type": "code",
   "execution_count": 284,
   "metadata": {},
   "outputs": [
    {
     "name": "stderr",
     "output_type": "stream",
     "text": [
      "2019-04-23 15:54:30,749 : INFO : adding document #0 to Dictionary(0 unique tokens: [])\n",
      "2019-04-23 15:54:30,750 : INFO : built Dictionary(56 unique tokens: ['거짓말', '꿈', '꿔', '너', '네']...) from 9 documents (total 290 corpus positions)\n"
     ]
    }
   ],
   "source": [
    "# Dictionary 생성\n",
    "dictionary_ko = gensim.corpora.Dictionary(corpus_ko)"
   ]
  },
  {
   "cell_type": "code",
   "execution_count": 285,
   "metadata": {},
   "outputs": [],
   "source": [
    "# Tfidf Model 생성\n",
    "tfidf_ko = gensim.models.TfidfModel(dictionary=dictionary_ko, normalize=True)"
   ]
  },
  {
   "cell_type": "code",
   "execution_count": 286,
   "metadata": {},
   "outputs": [
    {
     "data": {
      "text/plain": [
       "[[(0, 0.12107436527752928),\n",
       "  (1, 0.11791395471330296),\n",
       "  (2, 0.05895697735665148),\n",
       "  (3, 0.05895697735665148),\n",
       "  (4, 0.9685949222202342),\n",
       "  (5, 0.04035812175917643),\n",
       "  (6, 0.04035812175917643),\n",
       "  (7, 0.04035812175917643),\n",
       "  (8, 0.04035812175917643),\n",
       "  (9, 0.02947848867832574),\n",
       "  (10, 0.04035812175917643),\n",
       "  (11, 0.04035812175917643),\n",
       "  (12, 0.03154354402424213),\n",
       "  (13, 0.08843546603497723),\n",
       "  (14, 0.010879633080850683),\n",
       "  (15, 0.04035812175917643),\n",
       "  (16, 0.04035812175917643),\n",
       "  (17, 0.05895697735665148)],\n",
       " [(3, 0.1810555648125473),\n",
       "  (5, 0.12393889336758655),\n",
       "  (10, 0.12393889336758655),\n",
       "  (13, 0.3621111296250946),\n",
       "  (14, 0.0334111109613129),\n",
       "  (18, 0.1336444438452516),\n",
       "  (19, 0.14530428209412652),\n",
       "  (20, 0.12393889336758655),\n",
       "  (21, 0.048434760698042166),\n",
       "  (22, 0.1810555648125473),\n",
       "  (23, 0.7436333602055194),\n",
       "  (24, 0.09052778240627365),\n",
       "  (25, 0.12393889336758655),\n",
       "  (26, 0.3718166801027597)]]"
      ]
     },
     "execution_count": 286,
     "metadata": {},
     "output_type": "execute_result"
    }
   ],
   "source": [
    "vectors = [tfidf_ko[dictionary_ko.doc2bow(vector)] for vector in corpus_ko]\n",
    "vectors[:2]"
   ]
  },
  {
   "cell_type": "code",
   "execution_count": 287,
   "metadata": {},
   "outputs": [],
   "source": [
    "# tf-idf 기반 벡터 유사도 \n",
    "from gensim import similarities"
   ]
  },
  {
   "cell_type": "code",
   "execution_count": 288,
   "metadata": {},
   "outputs": [],
   "source": [
    "def distance(a, b, dic) :\n",
    "    index = similarities.MatrixSimilarity([a],num_features=len(dic))\n",
    "    sim = index[b]\n",
    "    return sim[0]*100"
   ]
  },
  {
   "cell_type": "code",
   "execution_count": 289,
   "metadata": {},
   "outputs": [],
   "source": [
    "titles = list(BTS.keys())"
   ]
  },
  {
   "cell_type": "code",
   "execution_count": 290,
   "metadata": {},
   "outputs": [
    {
     "name": "stderr",
     "output_type": "stream",
     "text": [
      "2019-04-23 15:54:43,296 : INFO : creating matrix with 1 documents and 56 features\n"
     ]
    },
    {
     "name": "stdout",
     "output_type": "stream",
     "text": [
      "A: \n",
      "No More Dream\n",
      "['네', '네', '네', '네', '꿈', '아무', '전부', '있어', '꿈', '멀리', '네', '네', '하루', '말', '있어', '준비', '벌써', '너', '네', '네', '네', '네', '거짓말', '자꾸', '네', '네', '매일', '어른들', '시간', '특별', '네', '네', '네', '네', '하루', '네', '네', '네', '네', '거짓말', '자꾸', '네', '네', '꿔', '너', '거짓말', '자꾸', '네', '네']\n",
      "[(0, 0.12107436527752928), (1, 0.11791395471330296), (2, 0.05895697735665148), (3, 0.05895697735665148), (4, 0.9685949222202342), (5, 0.04035812175917643), (6, 0.04035812175917643), (7, 0.04035812175917643), (8, 0.04035812175917643), (9, 0.02947848867832574), (10, 0.04035812175917643), (11, 0.04035812175917643), (12, 0.03154354402424213), (13, 0.08843546603497723), (14, 0.010879633080850683), (15, 0.04035812175917643), (16, 0.04035812175917643), (17, 0.05895697735665148)]\n",
      "-------------------\n",
      "B: \n",
      "봄날\n",
      "['봄날', '더', '있어', '너무', '시간', '우리', '우리', '겨울', '겨울', '시간', '손', '겨울', '봄날', '조금', '더', '수', '조금', '더', '겨울', '봄날', '더', '시간', '우리', '모두', '하루', '조금', '더', '겨울', '조금', '더', '겨울', '봄날', '더']\n",
      "[(9, 0.17977842153624138), (12, 0.0320620719751412), (17, 0.05992614051208046), (19, 0.0320620719751412), (21, 0.2244345038259884), (24, 0.05992614051208046), (30, 0.08204309595838546), (33, 0.17977842153624138), (38, 0.7191136861449655), (39, 0.47940912409664366), (40, 0.11985228102416091), (41, 0.32817238383354186)]\n",
      "===================\n",
      "0.98 % similar\n"
     ]
    }
   ],
   "source": [
    "a = 0\n",
    "print(\"A: \")\n",
    "print(titles[a])\n",
    "print(corpus_ko[a])\n",
    "print(vectors[a])\n",
    "\n",
    "print(\"-------------------\")\n",
    "\n",
    "b = 3\n",
    "print(\"B: \")\n",
    "print(titles[b])\n",
    "print(corpus_ko[b])\n",
    "print(vectors[b])\n",
    "\n",
    "sim = distance(vectors[a], vectors[b], dictionary_ko)\n",
    "\n",
    "print(\"===================\")\n",
    "print(round(sim,2),'% similar')"
   ]
  },
  {
   "cell_type": "code",
   "execution_count": 291,
   "metadata": {},
   "outputs": [
    {
     "name": "stderr",
     "output_type": "stream",
     "text": [
      "2019-04-23 15:54:58,832 : INFO : creating matrix with 1 documents and 56 features\n"
     ]
    },
    {
     "name": "stdout",
     "output_type": "stream",
     "text": [
      "A: \n",
      "봄날\n",
      "['봄날', '더', '있어', '너무', '시간', '우리', '우리', '겨울', '겨울', '시간', '손', '겨울', '봄날', '조금', '더', '수', '조금', '더', '겨울', '봄날', '더', '시간', '우리', '모두', '하루', '조금', '더', '겨울', '조금', '더', '겨울', '봄날', '더']\n",
      "[(9, 0.17977842153624138), (12, 0.0320620719751412), (17, 0.05992614051208046), (19, 0.0320620719751412), (21, 0.2244345038259884), (24, 0.05992614051208046), (30, 0.08204309595838546), (33, 0.17977842153624138), (38, 0.7191136861449655), (39, 0.47940912409664366), (40, 0.11985228102416091), (41, 0.32817238383354186)]\n",
      "-------------------\n",
      "B: \n",
      "봄날\n",
      "['봄날', '더', '있어', '너무', '시간', '우리', '우리', '겨울', '겨울', '시간', '손', '겨울', '봄날', '조금', '더', '수', '조금', '더', '겨울', '봄날', '더', '시간', '우리', '모두', '하루', '조금', '더', '겨울', '조금', '더', '겨울', '봄날', '더']\n",
      "[(9, 0.17977842153624138), (12, 0.0320620719751412), (17, 0.05992614051208046), (19, 0.0320620719751412), (21, 0.2244345038259884), (24, 0.05992614051208046), (30, 0.08204309595838546), (33, 0.17977842153624138), (38, 0.7191136861449655), (39, 0.47940912409664366), (40, 0.11985228102416091), (41, 0.32817238383354186)]\n",
      "===================\n",
      "100.0 % similar\n"
     ]
    }
   ],
   "source": [
    "a = 3\n",
    "print(\"A: \")\n",
    "print(titles[a])\n",
    "print(corpus_ko[a])\n",
    "print(vectors[a])\n",
    "\n",
    "print(\"-------------------\")\n",
    "\n",
    "b = 3\n",
    "print(\"B: \")\n",
    "print(titles[b])\n",
    "print(corpus_ko[b])\n",
    "print(vectors[b])\n",
    "\n",
    "sim = distance(vectors[a], vectors[b], dictionary_ko)\n",
    "\n",
    "print(\"===================\")\n",
    "print(round(sim,2),'% similar')"
   ]
  },
  {
   "cell_type": "code",
   "execution_count": 292,
   "metadata": {},
   "outputs": [
    {
     "name": "stderr",
     "output_type": "stream",
     "text": [
      "2019-04-23 15:55:02,520 : INFO : creating matrix with 1 documents and 56 features\n"
     ]
    },
    {
     "name": "stdout",
     "output_type": "stream",
     "text": [
      "A: \n",
      "DNA\n",
      "['DNA', '내', 'DNA', '우리', '우주', '운명', '내', '내', '운명', '우주', '함께', '운명', 'DNA', '더', 'DNA', '우리', '자꾸', '이상', '사랑', '내', '운명', '우주', '함께', '운명', 'DNA', '운명', '우리', '함께', '운명', 'DNA']\n",
      "[(13, 0.05726670028364734), (18, 0.08454174074334084), (21, 0.030639201032861517), (23, 0.07840213546948255), (33, 0.17180010085094202), (42, 0.6872004034037681), (43, 0.34360020170188404), (44, 0.5488149482863779), (45, 0.07840213546948255), (46, 0.23520640640844767)]\n",
      "-------------------\n",
      "B: \n",
      "작은 것들을 위한 시\n",
      "['행복', '내', '머리', '네', '하늘', '있어', '날개', '너무', '내', '네', '전부', '함께', '조금', '내', '너', '사소', '사소', '특별', '사소', '너무', '운명', '처음', '내', '하늘', '있어', '날개', '너무', '내', '네', '전부', '함께', '조금', '상처', '상처', '때', '날개', '네', '전부', '함께', '조금']\n",
      "[(3, 0.0788862248590622), (4, 0.4320031332304548), (12, 0.08441243830039596), (14, 0.08734367534565451), (16, 0.1080007833076137), (18, 0.14557279224275751), (19, 0.12661865745059395), (26, 0.2160015666152274), (28, 0.1080007833076137), (29, 0.1080007833076137), (36, 0.1080007833076137), (41, 0.32400234992284116), (44, 0.1080007833076137), (46, 0.32400234992284116), (48, 0.32400234992284116), (53, 0.1080007833076137), (54, 0.47331734915437323), (55, 0.3155448994362488)]\n",
      "===================\n",
      "14.78 % similar\n"
     ]
    }
   ],
   "source": [
    "a = 4\n",
    "print(\"A: \")\n",
    "print(titles[a])\n",
    "print(corpus_ko[a])\n",
    "print(vectors[a])\n",
    "\n",
    "print(\"-------------------\")\n",
    "\n",
    "b = 8\n",
    "print(\"B: \")\n",
    "print(titles[b])\n",
    "print(corpus_ko[b])\n",
    "print(vectors[b])\n",
    "\n",
    "sim = distance(vectors[a], vectors[b], dictionary_ko)\n",
    "\n",
    "print(\"===================\")\n",
    "print(round(sim,2),'% similar')"
   ]
  },
  {
   "cell_type": "markdown",
   "metadata": {},
   "source": [
    "-------------------"
   ]
  },
  {
   "cell_type": "markdown",
   "metadata": {},
   "source": [
    "# Distributed Representation"
   ]
  },
  {
   "cell_type": "markdown",
   "metadata": {},
   "source": [
    "* Document Embedding\n",
    "    - Doc2Vec\n",
    "* Word Embedding\n",
    "    - Word2Vec\n",
    "    - Glove\n",
    "    - FastText\n",
    "* Sentence Embeding"
   ]
  },
  {
   "cell_type": "markdown",
   "metadata": {},
   "source": [
    "<img src=\"https://nbviewer.jupyter.org/github/psygrammer/psyml/blob/master/nlp_ml/ch04/figures/cap05.png\" width=600 />\n",
    "\n",
    "* 출처 - Applied Text Analysis with Python: Enabling Language-Aware Data Products with Machine Learning - https://www.amazon.com/Applied-Text-Analysis-Python-Language-Aware/dp/1491963042/"
   ]
  },
  {
   "cell_type": "markdown",
   "metadata": {},
   "source": [
    "-----------------------------------"
   ]
  },
  {
   "cell_type": "markdown",
   "metadata": {},
   "source": [
    "## Document Embedding\n",
    "* Doc2Vec"
   ]
  },
  {
   "cell_type": "markdown",
   "metadata": {},
   "source": [
    "### Doc2Vec"
   ]
  },
  {
   "cell_type": "code",
   "execution_count": 293,
   "metadata": {},
   "outputs": [],
   "source": [
    "from gensim.models.doc2vec import TaggedDocument, Doc2Vec"
   ]
  },
  {
   "cell_type": "code",
   "execution_count": 294,
   "metadata": {},
   "outputs": [
    {
     "name": "stdout",
     "output_type": "stream",
     "text": [
      "[['네', '네', '네', '네', '꿈', '아무', '전부', '있어', '꿈', '멀리', '네', '네', '하루', '말', '있어', '준비', '벌써', '너', '네', '네', '네', '네', '거짓말', '자꾸', '네', '네', '매일', '어른들', '시간', '특별', '네', '네', '네', '네', '하루', '네', '네', '네', '네', '거짓말', '자꾸', '네', '네', '꿔', '너', '거짓말', '자꾸', '네', '네'], ['너', '너', '뭣', '전부', '사랑', '사랑', '자꾸', '너무', '자꾸', '내', '내', '내', '아무', '말', '하늘', '하늘', '하늘', '내', '눈물', '더', '잘', '사랑', '자꾸', '너무', '사랑', '사랑', '수', '사랑', '자꾸', '너무']]\n"
     ]
    }
   ],
   "source": [
    "print(corpus_ko[:2])"
   ]
  },
  {
   "cell_type": "code",
   "execution_count": 295,
   "metadata": {},
   "outputs": [],
   "source": [
    "docs   = [ \n",
    "    TaggedDocument(words, [titles[idx]])\n",
    "        for idx, words in enumerate(corpus_ko)\n",
    "]"
   ]
  },
  {
   "cell_type": "code",
   "execution_count": 296,
   "metadata": {},
   "outputs": [
    {
     "data": {
      "text/plain": [
       "[TaggedDocument(words=['네', '네', '네', '네', '꿈', '아무', '전부', '있어', '꿈', '멀리', '네', '네', '하루', '말', '있어', '준비', '벌써', '너', '네', '네', '네', '네', '거짓말', '자꾸', '네', '네', '매일', '어른들', '시간', '특별', '네', '네', '네', '네', '하루', '네', '네', '네', '네', '거짓말', '자꾸', '네', '네', '꿔', '너', '거짓말', '자꾸', '네', '네'], tags=['No More Dream']),\n",
       " TaggedDocument(words=['너', '너', '뭣', '전부', '사랑', '사랑', '자꾸', '너무', '자꾸', '내', '내', '내', '아무', '말', '하늘', '하늘', '하늘', '내', '눈물', '더', '잘', '사랑', '자꾸', '너무', '사랑', '사랑', '수', '사랑', '자꾸', '너무'], tags=['I NEED U'])]"
      ]
     },
     "execution_count": 296,
     "metadata": {},
     "output_type": "execute_result"
    }
   ],
   "source": [
    "docs[:2]"
   ]
  },
  {
   "cell_type": "code",
   "execution_count": 297,
   "metadata": {},
   "outputs": [
    {
     "name": "stderr",
     "output_type": "stream",
     "text": [
      "2019-04-23 15:55:49,949 : INFO : collecting all words and their counts\n",
      "2019-04-23 15:55:49,951 : INFO : PROGRESS: at example #0, processed 0 words (0/s), 0 word types, 0 tags\n",
      "2019-04-23 15:55:49,951 : INFO : collected 56 word types and 9 unique tags from a corpus of 9 examples and 290 words\n",
      "2019-04-23 15:55:49,952 : INFO : Loading a fresh vocabulary\n",
      "2019-04-23 15:55:49,953 : INFO : min_count=0 retains 56 unique words (100% of original 56, drops 0)\n",
      "2019-04-23 15:55:49,954 : INFO : min_count=0 leaves 290 word corpus (100% of original 290, drops 0)\n",
      "2019-04-23 15:55:49,955 : INFO : deleting the raw counts dictionary of 56 items\n",
      "2019-04-23 15:55:49,955 : INFO : sample=0.001 downsamples 56 most-common words\n",
      "2019-04-23 15:55:49,957 : INFO : downsampling leaves estimated 78 word corpus (27.0% of prior 290)\n",
      "2019-04-23 15:55:49,958 : INFO : estimated required memory for 56 words and 100 dimensions: 78200 bytes\n",
      "2019-04-23 15:55:49,959 : INFO : resetting layer weights\n",
      "2019-04-23 15:55:49,962 : INFO : training model with 3 workers on 56 vocabulary and 100 features, using sg=0 hs=0 sample=0.001 negative=5 window=5\n",
      "2019-04-23 15:55:49,965 : INFO : worker thread finished; awaiting finish of 2 more threads\n",
      "2019-04-23 15:55:49,966 : INFO : worker thread finished; awaiting finish of 1 more threads\n",
      "2019-04-23 15:55:49,967 : INFO : worker thread finished; awaiting finish of 0 more threads\n",
      "2019-04-23 15:55:49,968 : INFO : EPOCH - 1 : training on 290 raw words (99 effective words) took 0.0s, 27589 effective words/s\n",
      "2019-04-23 15:55:49,971 : INFO : worker thread finished; awaiting finish of 2 more threads\n",
      "2019-04-23 15:55:49,972 : INFO : worker thread finished; awaiting finish of 1 more threads\n",
      "2019-04-23 15:55:49,973 : INFO : worker thread finished; awaiting finish of 0 more threads\n",
      "2019-04-23 15:55:49,973 : INFO : EPOCH - 2 : training on 290 raw words (96 effective words) took 0.0s, 29071 effective words/s\n",
      "2019-04-23 15:55:49,976 : INFO : worker thread finished; awaiting finish of 2 more threads\n",
      "2019-04-23 15:55:49,977 : INFO : worker thread finished; awaiting finish of 1 more threads\n",
      "2019-04-23 15:55:49,978 : INFO : worker thread finished; awaiting finish of 0 more threads\n",
      "2019-04-23 15:55:49,979 : INFO : EPOCH - 3 : training on 290 raw words (93 effective words) took 0.0s, 30556 effective words/s\n",
      "2019-04-23 15:55:49,982 : INFO : worker thread finished; awaiting finish of 2 more threads\n",
      "2019-04-23 15:55:49,983 : INFO : worker thread finished; awaiting finish of 1 more threads\n",
      "2019-04-23 15:55:49,984 : INFO : worker thread finished; awaiting finish of 0 more threads\n",
      "2019-04-23 15:55:49,985 : INFO : EPOCH - 4 : training on 290 raw words (81 effective words) took 0.0s, 23030 effective words/s\n",
      "2019-04-23 15:55:49,987 : INFO : worker thread finished; awaiting finish of 2 more threads\n",
      "2019-04-23 15:55:49,989 : INFO : worker thread finished; awaiting finish of 1 more threads\n",
      "2019-04-23 15:55:49,989 : INFO : worker thread finished; awaiting finish of 0 more threads\n",
      "2019-04-23 15:55:49,990 : INFO : EPOCH - 5 : training on 290 raw words (97 effective words) took 0.0s, 30048 effective words/s\n",
      "2019-04-23 15:55:49,992 : INFO : training on a 1450 raw words (466 effective words) took 0.0s, 16216 effective words/s\n",
      "2019-04-23 15:55:49,993 : WARNING : under 10 jobs per worker: consider setting a smaller `batch_words' for smoother alpha decay\n"
     ]
    }
   ],
   "source": [
    "d2v = Doc2Vec(docs, min_count=0)"
   ]
  },
  {
   "cell_type": "code",
   "execution_count": 298,
   "metadata": {},
   "outputs": [],
   "source": [
    "vectors = d2v.docvecs"
   ]
  },
  {
   "cell_type": "code",
   "execution_count": 299,
   "metadata": {},
   "outputs": [
    {
     "name": "stdout",
     "output_type": "stream",
     "text": [
      "[-6.1519467e-04  3.6071020e-03  3.8809460e-03  4.6946714e-03\n",
      "  2.9825661e-03 -2.0385412e-03  3.0491012e-03 -1.3842918e-03\n",
      "  4.4256831e-03  1.7111637e-03  8.2507607e-04  2.8566094e-03\n",
      " -2.0712824e-03 -3.5699098e-03  1.1796689e-04 -3.9170324e-03\n",
      " -2.6237357e-03  9.4670407e-04  8.4810663e-04 -9.9855277e-04\n",
      "  4.7059203e-03 -5.0347755e-03 -3.8452967e-04 -3.4272957e-03\n",
      " -2.5331886e-03  3.5015543e-03 -4.8382082e-03 -3.8819930e-03\n",
      "  3.9205715e-05 -3.9196974e-03  1.1671892e-03  2.2203308e-03\n",
      " -2.9040407e-03 -4.5154365e-03  8.5221307e-04  2.1265133e-03\n",
      "  4.1276924e-03 -1.6352560e-03 -4.6726898e-03 -4.2092111e-03\n",
      "  2.6181755e-03  5.4962689e-04  3.0222598e-03  1.3455185e-03\n",
      "  4.4579674e-03 -1.9941297e-03  7.6458702e-04  4.7507389e-03\n",
      "  2.3123790e-03  2.7946397e-03  3.5345498e-03 -3.2431672e-03\n",
      " -3.5833416e-03 -2.2028058e-03 -1.2297489e-03 -4.8115267e-03\n",
      "  4.4754525e-03  9.3083136e-04 -5.4658402e-04 -2.5224797e-03\n",
      "  3.8910999e-03 -1.7981066e-03 -4.1203932e-03 -5.4971850e-04\n",
      "  7.2735769e-04 -1.0182527e-03  1.2516836e-03 -3.1645617e-03\n",
      "  2.3260827e-03 -2.3154249e-04  2.1561550e-03  3.4375503e-03\n",
      "  3.7470229e-03 -2.2824954e-03 -2.0776971e-03 -5.0702565e-03\n",
      "  4.2250375e-03 -1.0419777e-03  3.7023709e-03 -1.5418392e-04\n",
      " -4.8601162e-03  2.4562117e-03 -2.2646566e-03  2.8958502e-03\n",
      " -4.3197745e-03  2.2021849e-03 -1.6369189e-03 -2.3172537e-03\n",
      "  2.0215963e-03  2.5019099e-03  3.9355867e-03 -7.9567631e-04\n",
      "  1.2586741e-03 -3.2066391e-03  2.0430924e-03 -3.8588680e-03\n",
      "  1.7489877e-03 -1.0521259e-03 -2.8354160e-03 -2.9921976e-03]\n",
      "[-1.2660942e-03 -2.2010915e-03 -3.9063850e-03 -4.2867126e-05\n",
      " -3.4039381e-03  1.7341496e-03 -2.8169306e-03 -4.2467555e-03\n",
      " -4.3682526e-03 -1.7747328e-04  1.2750842e-03  3.2578986e-03\n",
      " -2.3308538e-03 -2.0838198e-03 -3.3201301e-03 -6.1166985e-04\n",
      " -2.1605336e-03  4.8160898e-03 -7.0867111e-04  2.6433531e-03\n",
      "  1.5790239e-03 -4.9352138e-03  9.7654836e-04  6.8765559e-04\n",
      " -2.9726673e-03 -3.8952234e-03 -2.3125720e-03  4.3393574e-03\n",
      " -2.4986663e-03 -1.8849799e-03  2.0945710e-03  4.8946310e-04\n",
      " -1.1252401e-03 -1.4956766e-03  1.3653854e-03  1.5024660e-03\n",
      " -3.2269771e-03  2.7700597e-03 -4.6536536e-03 -4.9190074e-03\n",
      " -2.7238620e-03 -4.4760630e-03 -2.9648140e-03  2.9110652e-03\n",
      " -5.9649744e-04  3.3572500e-03  1.1049870e-03  3.9924816e-03\n",
      "  4.9729692e-04 -3.7523822e-03  7.4799173e-05 -9.0755738e-04\n",
      " -1.0832443e-03  4.7785086e-03  4.2432989e-03  6.4591406e-04\n",
      " -3.0113342e-03 -3.0165017e-03 -1.4199468e-03 -5.9629750e-04\n",
      "  5.0485577e-04 -4.3259626e-03  1.1897244e-03 -4.6670670e-03\n",
      " -5.0999373e-03 -2.3384714e-03 -4.8700976e-03 -1.3961280e-03\n",
      " -3.6896528e-03  2.0268963e-05  2.3871458e-03 -1.6126523e-03\n",
      "  1.0962331e-03 -6.9847080e-04  1.6122713e-03  4.7794967e-03\n",
      "  2.4386568e-04  4.5626978e-03 -1.3793837e-03 -1.2369851e-04\n",
      " -8.8586961e-04 -4.2843875e-03  1.1445839e-03  2.9514192e-04\n",
      "  3.6161104e-03 -3.4427810e-03  1.3274434e-03 -2.1450140e-04\n",
      "  1.8899849e-04  2.6324103e-03  4.5420588e-03  3.6881769e-03\n",
      "  2.8116812e-03  1.7975752e-03  1.4908944e-03  3.7817920e-03\n",
      " -4.9705296e-03 -1.2238751e-03 -1.5282882e-03  3.9108139e-03]\n",
      "[ 2.6026566e-03  2.4581458e-03  1.6856535e-03  2.6824572e-03\n",
      " -2.8716868e-03  8.4736577e-04 -3.2284898e-03  2.5283855e-03\n",
      "  5.3311477e-04 -1.5235293e-03  1.7725256e-03  3.3108429e-03\n",
      "  2.5625641e-03  4.9158768e-03  2.4688661e-03 -3.1964709e-03\n",
      " -7.5823697e-04  3.6266443e-05  2.8865105e-03 -1.8659049e-03\n",
      "  1.4121610e-03  2.4434982e-03  5.7550526e-04  2.8038693e-03\n",
      "  2.0605396e-03 -3.0220002e-03  3.2087383e-03  3.9278762e-03\n",
      "  1.8740630e-03  2.7448183e-03 -1.7452044e-03  4.8383102e-03\n",
      " -1.0108447e-03 -2.1525072e-03 -3.1119569e-03  4.4355681e-03\n",
      " -4.7143064e-03  6.0746964e-04 -3.6596162e-03 -3.8350206e-03\n",
      "  3.2358880e-03  4.5919041e-03  4.9118698e-03 -4.1709566e-03\n",
      " -2.8652181e-03  3.4363926e-03 -2.5128804e-03 -4.1750683e-03\n",
      "  1.2014520e-03  4.0458869e-03 -3.6308873e-03  1.0924794e-03\n",
      " -1.4293243e-03  4.8470786e-03 -1.9946001e-03  6.6255766e-04\n",
      " -8.3125656e-04  2.4644339e-03 -3.2859261e-03 -2.3166346e-03\n",
      " -2.0480086e-03 -4.9551479e-03 -2.7254852e-03 -1.2794369e-03\n",
      " -3.0867446e-03 -2.6601225e-03 -3.2956202e-03  8.5200631e-04\n",
      "  3.6800187e-03  2.0047452e-03 -1.3450584e-03 -1.0679156e-03\n",
      "  3.2148159e-03  3.3454583e-03  3.8698041e-03 -6.5523962e-04\n",
      " -1.5196465e-03  4.2980993e-03 -5.7344040e-04 -4.6867467e-03\n",
      " -5.3148723e-04  2.1248444e-03  4.7526504e-03  1.8739584e-03\n",
      " -1.8998169e-03  3.8398053e-03 -9.7092357e-04  8.8765827e-04\n",
      " -1.7119030e-03 -2.0968323e-03  6.8199850e-04  3.2927704e-03\n",
      " -3.9311466e-03  1.8353546e-04 -2.2631194e-03 -1.1576201e-03\n",
      " -3.5520135e-03 -7.5301633e-04 -6.2525825e-05 -2.3287223e-03]\n"
     ]
    }
   ],
   "source": [
    "for i in range(3) :\n",
    "    print(vectors[i])"
   ]
  },
  {
   "cell_type": "code",
   "execution_count": 300,
   "metadata": {},
   "outputs": [],
   "source": [
    "# doc2vec기반 벡터 유사도 \n",
    "def distance(a_doctag, b_doctag, vectors) :\n",
    "    sim = vectors.similarity(a_doctag, b_doctag)\n",
    "    return sim*100"
   ]
  },
  {
   "cell_type": "code",
   "execution_count": 301,
   "metadata": {
    "scrolled": false
   },
   "outputs": [
    {
     "name": "stdout",
     "output_type": "stream",
     "text": [
      "A: \n",
      "No More Dream\n",
      "['네', '네', '네', '네', '꿈', '아무', '전부', '있어', '꿈', '멀리', '네', '네', '하루', '말', '있어', '준비', '벌써', '너', '네', '네', '네', '네', '거짓말', '자꾸', '네', '네', '매일', '어른들', '시간', '특별', '네', '네', '네', '네', '하루', '네', '네', '네', '네', '거짓말', '자꾸', '네', '네', '꿔', '너', '거짓말', '자꾸', '네', '네']\n",
      "[-6.1519467e-04  3.6071020e-03  3.8809460e-03  4.6946714e-03\n",
      "  2.9825661e-03 -2.0385412e-03  3.0491012e-03 -1.3842918e-03\n",
      "  4.4256831e-03  1.7111637e-03  8.2507607e-04  2.8566094e-03\n",
      " -2.0712824e-03 -3.5699098e-03  1.1796689e-04 -3.9170324e-03\n",
      " -2.6237357e-03  9.4670407e-04  8.4810663e-04 -9.9855277e-04\n",
      "  4.7059203e-03 -5.0347755e-03 -3.8452967e-04 -3.4272957e-03\n",
      " -2.5331886e-03  3.5015543e-03 -4.8382082e-03 -3.8819930e-03\n",
      "  3.9205715e-05 -3.9196974e-03  1.1671892e-03  2.2203308e-03\n",
      " -2.9040407e-03 -4.5154365e-03  8.5221307e-04  2.1265133e-03\n",
      "  4.1276924e-03 -1.6352560e-03 -4.6726898e-03 -4.2092111e-03\n",
      "  2.6181755e-03  5.4962689e-04  3.0222598e-03  1.3455185e-03\n",
      "  4.4579674e-03 -1.9941297e-03  7.6458702e-04  4.7507389e-03\n",
      "  2.3123790e-03  2.7946397e-03  3.5345498e-03 -3.2431672e-03\n",
      " -3.5833416e-03 -2.2028058e-03 -1.2297489e-03 -4.8115267e-03\n",
      "  4.4754525e-03  9.3083136e-04 -5.4658402e-04 -2.5224797e-03\n",
      "  3.8910999e-03 -1.7981066e-03 -4.1203932e-03 -5.4971850e-04\n",
      "  7.2735769e-04 -1.0182527e-03  1.2516836e-03 -3.1645617e-03\n",
      "  2.3260827e-03 -2.3154249e-04  2.1561550e-03  3.4375503e-03\n",
      "  3.7470229e-03 -2.2824954e-03 -2.0776971e-03 -5.0702565e-03\n",
      "  4.2250375e-03 -1.0419777e-03  3.7023709e-03 -1.5418392e-04\n",
      " -4.8601162e-03  2.4562117e-03 -2.2646566e-03  2.8958502e-03\n",
      " -4.3197745e-03  2.2021849e-03 -1.6369189e-03 -2.3172537e-03\n",
      "  2.0215963e-03  2.5019099e-03  3.9355867e-03 -7.9567631e-04\n",
      "  1.2586741e-03 -3.2066391e-03  2.0430924e-03 -3.8588680e-03\n",
      "  1.7489877e-03 -1.0521259e-03 -2.8354160e-03 -2.9921976e-03]\n",
      "---------------------\n",
      "B: \n",
      "봄날\n",
      "['봄날', '더', '있어', '너무', '시간', '우리', '우리', '겨울', '겨울', '시간', '손', '겨울', '봄날', '조금', '더', '수', '조금', '더', '겨울', '봄날', '더', '시간', '우리', '모두', '하루', '조금', '더', '겨울', '조금', '더', '겨울', '봄날', '더']\n",
      "[-2.7601644e-03  1.3943871e-04  2.6803692e-03 -2.0198654e-03\n",
      " -1.7366105e-03 -4.9571082e-04  4.1714371e-03 -1.3520259e-03\n",
      "  4.1089756e-03  4.9122646e-03  3.7869300e-05  4.2981221e-03\n",
      "  2.2153403e-03 -1.4963220e-03  2.9957250e-03 -4.2272946e-03\n",
      " -3.7375118e-03  3.9186627e-03 -3.2491740e-03  3.2713660e-03\n",
      "  8.3561777e-04  9.1597793e-04  2.9779766e-03 -3.2917124e-03\n",
      "  4.5024282e-03  3.9476319e-03 -3.3793929e-03  3.5513504e-03\n",
      " -4.4827466e-03 -3.5801858e-03 -3.4950839e-03 -1.8302792e-03\n",
      " -4.9370732e-03  4.8388201e-03  2.7085065e-03 -2.6980066e-03\n",
      "  9.7624131e-04  1.2016608e-03 -4.6868650e-03  2.3331409e-03\n",
      " -8.3741517e-04 -6.1276322e-04 -2.9011194e-03  8.4080943e-04\n",
      "  2.2523403e-03  3.5871812e-03 -3.2537663e-03  4.2647179e-03\n",
      " -4.5948159e-03 -2.6578264e-04  2.3791564e-03  4.8016678e-03\n",
      "  4.1798591e-03  2.8305803e-03 -5.0623651e-04  2.9284116e-03\n",
      " -4.1360869e-03 -1.3083062e-03  4.8811799e-03  4.1101938e-03\n",
      "  1.3808246e-03  1.0717300e-03  1.9011769e-03  2.8866853e-03\n",
      "  1.5467353e-03 -2.6230689e-03 -4.9960641e-03 -3.8147348e-03\n",
      " -8.1711024e-04 -2.3975451e-03 -6.9212646e-04 -1.8626013e-03\n",
      " -4.1608997e-03  4.6920450e-03  3.8165998e-04  1.7913897e-04\n",
      " -3.3648303e-07 -9.8082679e-04  4.7729420e-03  2.2289433e-04\n",
      " -5.1049623e-03 -5.6675688e-04 -1.6557896e-03  5.0733089e-03\n",
      " -2.1919503e-03 -9.2079787e-04  1.6874963e-03  3.9023748e-03\n",
      " -3.3707640e-03  3.0315998e-03  1.5664865e-03  3.8881070e-04\n",
      "  1.8997043e-03 -1.3860485e-03  1.0924905e-03 -3.9556473e-03\n",
      "  2.0192617e-03  1.1514751e-03 -4.5984997e-03  4.0242868e-03]\n",
      "=====================\n",
      "9.31 % similar\n"
     ]
    }
   ],
   "source": [
    "a = 0\n",
    "a_doctag = vectors.index2entity[a]\n",
    "print(\"A: \")\n",
    "print(a_doctag)\n",
    "print(corpus_ko[a])\n",
    "print(vectors[a])\n",
    "\n",
    "print(\"---------------------\")\n",
    "\n",
    "b = 3\n",
    "print(\"B: \")\n",
    "print(b_doctag)\n",
    "print(corpus_ko[b])\n",
    "print(vectors[b])\n",
    "\n",
    "print(\"=====================\")\n",
    "\n",
    "sim = distance(a_doctag, b_doctag, vectors)\n",
    "\n",
    "print(round(sim,2),'% similar')"
   ]
  },
  {
   "cell_type": "code",
   "execution_count": 302,
   "metadata": {},
   "outputs": [
    {
     "name": "stdout",
     "output_type": "stream",
     "text": [
      "A: \n",
      "봄날\n",
      "['봄날', '더', '있어', '너무', '시간', '우리', '우리', '겨울', '겨울', '시간', '손', '겨울', '봄날', '조금', '더', '수', '조금', '더', '겨울', '봄날', '더', '시간', '우리', '모두', '하루', '조금', '더', '겨울', '조금', '더', '겨울', '봄날', '더']\n",
      "[-2.7601644e-03  1.3943871e-04  2.6803692e-03 -2.0198654e-03\n",
      " -1.7366105e-03 -4.9571082e-04  4.1714371e-03 -1.3520259e-03\n",
      "  4.1089756e-03  4.9122646e-03  3.7869300e-05  4.2981221e-03\n",
      "  2.2153403e-03 -1.4963220e-03  2.9957250e-03 -4.2272946e-03\n",
      " -3.7375118e-03  3.9186627e-03 -3.2491740e-03  3.2713660e-03\n",
      "  8.3561777e-04  9.1597793e-04  2.9779766e-03 -3.2917124e-03\n",
      "  4.5024282e-03  3.9476319e-03 -3.3793929e-03  3.5513504e-03\n",
      " -4.4827466e-03 -3.5801858e-03 -3.4950839e-03 -1.8302792e-03\n",
      " -4.9370732e-03  4.8388201e-03  2.7085065e-03 -2.6980066e-03\n",
      "  9.7624131e-04  1.2016608e-03 -4.6868650e-03  2.3331409e-03\n",
      " -8.3741517e-04 -6.1276322e-04 -2.9011194e-03  8.4080943e-04\n",
      "  2.2523403e-03  3.5871812e-03 -3.2537663e-03  4.2647179e-03\n",
      " -4.5948159e-03 -2.6578264e-04  2.3791564e-03  4.8016678e-03\n",
      "  4.1798591e-03  2.8305803e-03 -5.0623651e-04  2.9284116e-03\n",
      " -4.1360869e-03 -1.3083062e-03  4.8811799e-03  4.1101938e-03\n",
      "  1.3808246e-03  1.0717300e-03  1.9011769e-03  2.8866853e-03\n",
      "  1.5467353e-03 -2.6230689e-03 -4.9960641e-03 -3.8147348e-03\n",
      " -8.1711024e-04 -2.3975451e-03 -6.9212646e-04 -1.8626013e-03\n",
      " -4.1608997e-03  4.6920450e-03  3.8165998e-04  1.7913897e-04\n",
      " -3.3648303e-07 -9.8082679e-04  4.7729420e-03  2.2289433e-04\n",
      " -5.1049623e-03 -5.6675688e-04 -1.6557896e-03  5.0733089e-03\n",
      " -2.1919503e-03 -9.2079787e-04  1.6874963e-03  3.9023748e-03\n",
      " -3.3707640e-03  3.0315998e-03  1.5664865e-03  3.8881070e-04\n",
      "  1.8997043e-03 -1.3860485e-03  1.0924905e-03 -3.9556473e-03\n",
      "  2.0192617e-03  1.1514751e-03 -4.5984997e-03  4.0242868e-03]\n",
      "---------------------\n",
      "B: \n",
      "봄날\n",
      "['봄날', '더', '있어', '너무', '시간', '우리', '우리', '겨울', '겨울', '시간', '손', '겨울', '봄날', '조금', '더', '수', '조금', '더', '겨울', '봄날', '더', '시간', '우리', '모두', '하루', '조금', '더', '겨울', '조금', '더', '겨울', '봄날', '더']\n",
      "[-2.7601644e-03  1.3943871e-04  2.6803692e-03 -2.0198654e-03\n",
      " -1.7366105e-03 -4.9571082e-04  4.1714371e-03 -1.3520259e-03\n",
      "  4.1089756e-03  4.9122646e-03  3.7869300e-05  4.2981221e-03\n",
      "  2.2153403e-03 -1.4963220e-03  2.9957250e-03 -4.2272946e-03\n",
      " -3.7375118e-03  3.9186627e-03 -3.2491740e-03  3.2713660e-03\n",
      "  8.3561777e-04  9.1597793e-04  2.9779766e-03 -3.2917124e-03\n",
      "  4.5024282e-03  3.9476319e-03 -3.3793929e-03  3.5513504e-03\n",
      " -4.4827466e-03 -3.5801858e-03 -3.4950839e-03 -1.8302792e-03\n",
      " -4.9370732e-03  4.8388201e-03  2.7085065e-03 -2.6980066e-03\n",
      "  9.7624131e-04  1.2016608e-03 -4.6868650e-03  2.3331409e-03\n",
      " -8.3741517e-04 -6.1276322e-04 -2.9011194e-03  8.4080943e-04\n",
      "  2.2523403e-03  3.5871812e-03 -3.2537663e-03  4.2647179e-03\n",
      " -4.5948159e-03 -2.6578264e-04  2.3791564e-03  4.8016678e-03\n",
      "  4.1798591e-03  2.8305803e-03 -5.0623651e-04  2.9284116e-03\n",
      " -4.1360869e-03 -1.3083062e-03  4.8811799e-03  4.1101938e-03\n",
      "  1.3808246e-03  1.0717300e-03  1.9011769e-03  2.8866853e-03\n",
      "  1.5467353e-03 -2.6230689e-03 -4.9960641e-03 -3.8147348e-03\n",
      " -8.1711024e-04 -2.3975451e-03 -6.9212646e-04 -1.8626013e-03\n",
      " -4.1608997e-03  4.6920450e-03  3.8165998e-04  1.7913897e-04\n",
      " -3.3648303e-07 -9.8082679e-04  4.7729420e-03  2.2289433e-04\n",
      " -5.1049623e-03 -5.6675688e-04 -1.6557896e-03  5.0733089e-03\n",
      " -2.1919503e-03 -9.2079787e-04  1.6874963e-03  3.9023748e-03\n",
      " -3.3707640e-03  3.0315998e-03  1.5664865e-03  3.8881070e-04\n",
      "  1.8997043e-03 -1.3860485e-03  1.0924905e-03 -3.9556473e-03\n",
      "  2.0192617e-03  1.1514751e-03 -4.5984997e-03  4.0242868e-03]\n",
      "=====================\n",
      "100.0 % similar\n"
     ]
    }
   ],
   "source": [
    "a = 3\n",
    "a_doctag = vectors.index2entity[a]\n",
    "print(\"A: \")\n",
    "print(a_doctag)\n",
    "print(corpus_ko[a])\n",
    "print(vectors[a])\n",
    "\n",
    "print(\"---------------------\")\n",
    "\n",
    "b = 3\n",
    "print(\"B: \")\n",
    "print(b_doctag)\n",
    "print(corpus_ko[b])\n",
    "print(vectors[b])\n",
    "\n",
    "print(\"=====================\")\n",
    "\n",
    "sim = distance(a_doctag, b_doctag, vectors)\n",
    "\n",
    "print(round(sim,2),'% similar')"
   ]
  },
  {
   "cell_type": "code",
   "execution_count": 303,
   "metadata": {
    "scrolled": false
   },
   "outputs": [
    {
     "name": "stdout",
     "output_type": "stream",
     "text": [
      "A: \n",
      "DNA\n",
      "['DNA', '내', 'DNA', '우리', '우주', '운명', '내', '내', '운명', '우주', '함께', '운명', 'DNA', '더', 'DNA', '우리', '자꾸', '이상', '사랑', '내', '운명', '우주', '함께', '운명', 'DNA', '운명', '우리', '함께', '운명', 'DNA']\n",
      "[-6.42233994e-04  4.74497303e-03  7.27963692e-04 -1.72769919e-03\n",
      " -3.92033020e-03  2.77536991e-03  4.00252175e-03  3.78438411e-03\n",
      " -2.42577144e-03  1.12691254e-03  2.35645822e-03  3.51692713e-03\n",
      " -1.94363017e-03  3.60522652e-03  4.24801518e-04  1.40756357e-03\n",
      " -3.32491845e-03 -2.47707358e-03  1.09643978e-03  4.54185298e-03\n",
      " -2.60659005e-03  4.33713384e-03  2.87028553e-04 -3.62039427e-03\n",
      "  2.71040923e-03  1.83596136e-03 -4.12064925e-04  1.13342816e-04\n",
      " -1.65617699e-03 -3.26014910e-04  3.04114656e-03  2.81146873e-04\n",
      " -1.21135039e-04  2.18284247e-03  2.54173577e-03 -1.76452973e-03\n",
      "  1.08698057e-03  4.77150455e-03  3.62216285e-03 -1.33855315e-03\n",
      "  3.82080721e-03  4.54136170e-05  2.40317802e-03 -1.57573365e-03\n",
      "  1.92285725e-03 -3.63529287e-03  4.21741104e-04 -6.97662937e-04\n",
      " -5.54188795e-04  3.32073029e-03 -7.76717148e-04 -8.09255114e-04\n",
      " -3.77223449e-04  1.32966263e-03  8.10411177e-04  3.66444769e-03\n",
      " -1.64355815e-03  4.25568596e-03  4.42584883e-03  3.73637723e-03\n",
      " -3.70340864e-03  2.28983685e-04  3.15997680e-03 -4.46024677e-03\n",
      "  4.25727805e-03 -3.23400740e-03 -3.20509262e-03  4.58171591e-03\n",
      " -5.85702190e-04  4.13770974e-03 -6.54865173e-04 -3.03771859e-03\n",
      "  2.11296417e-03  3.66248400e-03  2.03769025e-03 -6.98504562e-04\n",
      "  3.84218572e-03  2.98564555e-03  3.04660201e-03  1.83381548e-03\n",
      " -4.95629339e-03 -3.50755779e-03 -1.47780601e-03  3.72489705e-03\n",
      "  5.10510814e-04 -1.06102135e-03 -1.21502287e-03  2.26241583e-03\n",
      "  8.64128815e-04 -2.88104708e-03 -8.17290740e-04  3.64181329e-03\n",
      "  4.76795295e-03 -2.36182380e-03 -4.44762455e-03 -2.15214139e-04\n",
      "  2.89932941e-03 -1.09552569e-03  3.75389820e-03 -3.06771044e-03]\n",
      "---------------------\n",
      "B: \n",
      "봄날\n",
      "['행복', '내', '머리', '네', '하늘', '있어', '날개', '너무', '내', '네', '전부', '함께', '조금', '내', '너', '사소', '사소', '특별', '사소', '너무', '운명', '처음', '내', '하늘', '있어', '날개', '너무', '내', '네', '전부', '함께', '조금', '상처', '상처', '때', '날개', '네', '전부', '함께', '조금']\n",
      "[ 4.4414419e-04  3.5997215e-04 -9.3644456e-04 -9.8028904e-05\n",
      "  3.1521630e-03  2.9018107e-03  2.9617595e-03  3.7931681e-03\n",
      " -4.7110100e-03 -4.3944251e-03 -3.1371077e-03  4.0223002e-03\n",
      "  2.6013169e-03  2.4414680e-04 -2.7301197e-03  3.0418797e-03\n",
      " -3.9963713e-03 -1.8892193e-03 -9.2466571e-04 -2.5628565e-03\n",
      " -1.1899510e-03 -4.2356397e-03  8.1036147e-04 -4.5515862e-03\n",
      "  6.1642454e-04 -1.7087731e-03 -4.1201580e-03  9.0258266e-04\n",
      "  2.3698418e-03 -7.3117565e-04  2.2955160e-03 -3.0592291e-03\n",
      "  2.5662486e-03  1.2012023e-04 -2.0782622e-03  2.5181265e-03\n",
      "  2.8839663e-03  2.5090284e-03 -2.0721441e-03 -4.8395535e-03\n",
      "  2.2121693e-03 -3.1573728e-03  1.0709182e-03  6.1170623e-04\n",
      "  3.8185786e-03  2.1248499e-03 -4.4757607e-03 -3.8556266e-03\n",
      "  6.9539313e-04 -4.0167393e-03 -5.3684181e-04  1.1736147e-04\n",
      " -3.4052711e-03 -2.9174960e-03 -3.1171672e-03  3.5006218e-03\n",
      " -3.1607307e-03  2.9713227e-03 -1.3150180e-03 -1.1367226e-03\n",
      " -4.6820701e-03 -1.1127570e-03 -4.1604089e-03  3.9962055e-03\n",
      " -4.0431786e-03 -4.3582642e-03 -2.2423386e-03 -2.0828517e-03\n",
      "  3.3492292e-03 -3.1508508e-03 -2.9597317e-03  2.4572669e-03\n",
      "  2.3362243e-03 -4.3592704e-03 -3.7672014e-03 -4.2959573e-03\n",
      "  4.3298788e-03  3.3542409e-03 -4.0967395e-03 -6.9561630e-04\n",
      " -1.3584228e-03  6.7912118e-04  4.7681737e-03  5.0043878e-03\n",
      " -2.4436840e-03  1.4374291e-03  3.1846468e-03 -3.6349050e-03\n",
      "  3.8175641e-03 -3.6997666e-05 -4.3376619e-03 -4.6230038e-03\n",
      " -1.2464161e-03 -4.1390979e-03  5.3548254e-04 -3.9485851e-03\n",
      " -3.7123635e-03 -4.5179198e-03 -2.6391465e-03  9.4224961e-04]\n",
      "=====================\n",
      "17.67 % similar\n"
     ]
    }
   ],
   "source": [
    "a = 4\n",
    "a_doctag = vectors.index2entity[a]\n",
    "print(\"A: \")\n",
    "print(a_doctag)\n",
    "print(corpus_ko[a])\n",
    "print(vectors[a])\n",
    "\n",
    "print(\"---------------------\")\n",
    "\n",
    "b = 8\n",
    "print(\"B: \")\n",
    "print(b_doctag)\n",
    "print(corpus_ko[b])\n",
    "print(vectors[b])\n",
    "\n",
    "print(\"=====================\")\n",
    "\n",
    "sim = distance(a_doctag, b_doctag, vectors)\n",
    "\n",
    "print(round(sim,2),'% similar')"
   ]
  },
  {
   "cell_type": "markdown",
   "metadata": {},
   "source": [
    "#### plotly로 시각화 함수 만들기"
   ]
  },
  {
   "cell_type": "code",
   "execution_count": 304,
   "metadata": {},
   "outputs": [],
   "source": [
    "\n",
    "import logging\n",
    "\n",
    "logging.basicConfig(format='%(asctime)s : %(levelname)s : %(message)s', level=logging.INFO)\n",
    "\n",
    "from sklearn.decomposition import IncrementalPCA    # inital reduction\n",
    "from sklearn.manifold import TSNE                   # final reduction\n",
    "import numpy as np                                  # array handling\n",
    "\n",
    "from plotly.offline import init_notebook_mode, iplot, plot\n",
    "import plotly.graph_objs as go\n",
    "\n",
    "def visualize_embeddings(vectors, labels, plot_in_notebook = True):\n",
    "\n",
    "    num_dimensions = 2  # final num dimensions (2D, 3D, etc)\n",
    "\n",
    "    # convert both lists into numpy vectors for reduction\n",
    "    vectors = np.asarray(vectors)\n",
    "    labels = np.asarray(labels)\n",
    "    \n",
    "    # reduce using t-SNE\n",
    "    logging.info('starting tSNE dimensionality reduction. This may take some time.')\n",
    "    tsne = TSNE(n_components=num_dimensions, random_state=0)\n",
    "    vectors = tsne.fit_transform(vectors)\n",
    "\n",
    "    x_vals = [v[0] for v in vectors]\n",
    "    y_vals = [v[1] for v in vectors]\n",
    "        \n",
    "    # Create a trace\n",
    "    trace = go.Scatter(\n",
    "        x=x_vals,\n",
    "        y=y_vals,\n",
    "        mode='text',\n",
    "        text=labels\n",
    "        )\n",
    "    \n",
    "    data = [trace]\n",
    "    \n",
    "    logging.info('All done. Plotting.')\n",
    "    \n",
    "    if plot_in_notebook:\n",
    "        init_notebook_mode(connected=True)\n",
    "        iplot(data, filename='word-embedding-plot')\n",
    "    else:\n",
    "        plot(data, filename='word-embedding-plot.html')"
   ]
  },
  {
   "cell_type": "code",
   "execution_count": 305,
   "metadata": {},
   "outputs": [
    {
     "name": "stdout",
     "output_type": "stream",
     "text": [
      "No More Dream\n",
      "[-6.1519467e-04  3.6071020e-03  3.8809460e-03  4.6946714e-03\n",
      "  2.9825661e-03 -2.0385412e-03  3.0491012e-03 -1.3842918e-03\n",
      "  4.4256831e-03  1.7111637e-03  8.2507607e-04  2.8566094e-03\n",
      " -2.0712824e-03 -3.5699098e-03  1.1796689e-04 -3.9170324e-03\n",
      " -2.6237357e-03  9.4670407e-04  8.4810663e-04 -9.9855277e-04\n",
      "  4.7059203e-03 -5.0347755e-03 -3.8452967e-04 -3.4272957e-03\n",
      " -2.5331886e-03  3.5015543e-03 -4.8382082e-03 -3.8819930e-03\n",
      "  3.9205715e-05 -3.9196974e-03  1.1671892e-03  2.2203308e-03\n",
      " -2.9040407e-03 -4.5154365e-03  8.5221307e-04  2.1265133e-03\n",
      "  4.1276924e-03 -1.6352560e-03 -4.6726898e-03 -4.2092111e-03\n",
      "  2.6181755e-03  5.4962689e-04  3.0222598e-03  1.3455185e-03\n",
      "  4.4579674e-03 -1.9941297e-03  7.6458702e-04  4.7507389e-03\n",
      "  2.3123790e-03  2.7946397e-03  3.5345498e-03 -3.2431672e-03\n",
      " -3.5833416e-03 -2.2028058e-03 -1.2297489e-03 -4.8115267e-03\n",
      "  4.4754525e-03  9.3083136e-04 -5.4658402e-04 -2.5224797e-03\n",
      "  3.8910999e-03 -1.7981066e-03 -4.1203932e-03 -5.4971850e-04\n",
      "  7.2735769e-04 -1.0182527e-03  1.2516836e-03 -3.1645617e-03\n",
      "  2.3260827e-03 -2.3154249e-04  2.1561550e-03  3.4375503e-03\n",
      "  3.7470229e-03 -2.2824954e-03 -2.0776971e-03 -5.0702565e-03\n",
      "  4.2250375e-03 -1.0419777e-03  3.7023709e-03 -1.5418392e-04\n",
      " -4.8601162e-03  2.4562117e-03 -2.2646566e-03  2.8958502e-03\n",
      " -4.3197745e-03  2.2021849e-03 -1.6369189e-03 -2.3172537e-03\n",
      "  2.0215963e-03  2.5019099e-03  3.9355867e-03 -7.9567631e-04\n",
      "  1.2586741e-03 -3.2066391e-03  2.0430924e-03 -3.8588680e-03\n",
      "  1.7489877e-03 -1.0521259e-03 -2.8354160e-03 -2.9921976e-03]\n"
     ]
    }
   ],
   "source": [
    "labels = titles\n",
    "vectors = [d2v.docvecs[title] for title in labels]\n",
    "\n",
    "print(labels[0])\n",
    "print(vectors[0])"
   ]
  },
  {
   "cell_type": "code",
   "execution_count": 306,
   "metadata": {},
   "outputs": [
    {
     "name": "stderr",
     "output_type": "stream",
     "text": [
      "2019-04-23 15:56:50,045 : INFO : starting tSNE dimensionality reduction. This may take some time.\n",
      "2019-04-23 15:56:50,181 : INFO : All done. Plotting.\n"
     ]
    },
    {
     "data": {
      "text/html": [
       "<script type=\"text/javascript\">window.PlotlyConfig = {MathJaxConfig: 'local'};</script><script type=\"text/javascript\">if (window.MathJax) {MathJax.Hub.Config({SVG: {font: \"STIX-Web\"}});}</script><script>requirejs.config({paths: { 'plotly': ['https://cdn.plot.ly/plotly-latest.min']},});if(!window._Plotly) {require(['plotly'],function(plotly) {window._Plotly=plotly;});}</script>"
      ],
      "text/vnd.plotly.v1+html": [
       "<script type=\"text/javascript\">window.PlotlyConfig = {MathJaxConfig: 'local'};</script><script type=\"text/javascript\">if (window.MathJax) {MathJax.Hub.Config({SVG: {font: \"STIX-Web\"}});}</script><script>requirejs.config({paths: { 'plotly': ['https://cdn.plot.ly/plotly-latest.min']},});if(!window._Plotly) {require(['plotly'],function(plotly) {window._Plotly=plotly;});}</script>"
      ]
     },
     "metadata": {},
     "output_type": "display_data"
    },
    {
     "data": {
      "application/vnd.plotly.v1+json": {
       "config": {
        "linkText": "Export to plot.ly",
        "plotlyServerURL": "https://plot.ly",
        "showLink": false
       },
       "data": [
        {
         "mode": "text",
         "text": [
          "No More Dream",
          "I NEED U",
          "쩔어",
          "봄날",
          "DNA",
          "피 땀 눈물",
          "불타오르네",
          "IDOL",
          "작은 것들을 위한 시"
         ],
         "type": "scatter",
         "uid": "48d6d3fc-0e3c-469f-97aa-bd5d72cefbd9",
         "x": [
          58.48345947265625,
          63.86962890625,
          109.85674285888672,
          17.41929054260254,
          16.645917892456055,
          93.20743560791016,
          61.34342575073242,
          39.070770263671875,
          103.1111068725586
         ],
         "y": [
          -39.78464126586914,
          42.0947265625,
          29.652359008789062,
          -9.818589210510254,
          35.7765007019043,
          74.90583038330078,
          3.7940306663513184,
          78.45967864990234,
          -15.446125030517578
         ]
        }
       ],
       "layout": {}
      },
      "text/html": [
       "<div id=\"4cfcb387-92cd-4014-bdeb-65ebfe176a1c\" style=\"height: 525px; width: 100%;\" class=\"plotly-graph-div\"></div><script type=\"text/javascript\">require([\"plotly\"], function(Plotly) { window.PLOTLYENV=window.PLOTLYENV || {};window.PLOTLYENV.BASE_URL=\"https://plot.ly\";\n",
       "if (document.getElementById(\"4cfcb387-92cd-4014-bdeb-65ebfe176a1c\")) {\n",
       "    Plotly.newPlot(\"4cfcb387-92cd-4014-bdeb-65ebfe176a1c\", [{\"mode\": \"text\", \"text\": [\"No More Dream\", \"I NEED U\", \"\\uca54\\uc5b4\", \"\\ubd04\\ub0a0\", \"DNA\", \"\\ud53c \\ub540 \\ub208\\ubb3c\", \"\\ubd88\\ud0c0\\uc624\\ub974\\ub124\", \"IDOL\", \"\\uc791\\uc740 \\uac83\\ub4e4\\uc744 \\uc704\\ud55c \\uc2dc\"], \"x\": [58.48345947265625, 63.86962890625, 109.85674285888672, 17.41929054260254, 16.645917892456055, 93.20743560791016, 61.34342575073242, 39.070770263671875, 103.1111068725586], \"y\": [-39.78464126586914, 42.0947265625, 29.652359008789062, -9.818589210510254, 35.7765007019043, 74.90583038330078, 3.7940306663513184, 78.45967864990234, -15.446125030517578], \"type\": \"scatter\", \"uid\": \"556e63a7-9f8f-448a-86df-979a7d219793\"}], {}, {\"showLink\": false, \"linkText\": \"Export to plot.ly\", \"plotlyServerURL\": \"https://plot.ly\"}); \n",
       "}\n",
       "});</script><script type=\"text/javascript\">window.addEventListener(\"resize\", function(){if (document.getElementById(\"4cfcb387-92cd-4014-bdeb-65ebfe176a1c\")) {window._Plotly.Plots.resize(document.getElementById(\"4cfcb387-92cd-4014-bdeb-65ebfe176a1c\"));};})</script>"
      ],
      "text/vnd.plotly.v1+html": [
       "<div id=\"4cfcb387-92cd-4014-bdeb-65ebfe176a1c\" style=\"height: 525px; width: 100%;\" class=\"plotly-graph-div\"></div><script type=\"text/javascript\">require([\"plotly\"], function(Plotly) { window.PLOTLYENV=window.PLOTLYENV || {};window.PLOTLYENV.BASE_URL=\"https://plot.ly\";\n",
       "if (document.getElementById(\"4cfcb387-92cd-4014-bdeb-65ebfe176a1c\")) {\n",
       "    Plotly.newPlot(\"4cfcb387-92cd-4014-bdeb-65ebfe176a1c\", [{\"mode\": \"text\", \"text\": [\"No More Dream\", \"I NEED U\", \"\\uca54\\uc5b4\", \"\\ubd04\\ub0a0\", \"DNA\", \"\\ud53c \\ub540 \\ub208\\ubb3c\", \"\\ubd88\\ud0c0\\uc624\\ub974\\ub124\", \"IDOL\", \"\\uc791\\uc740 \\uac83\\ub4e4\\uc744 \\uc704\\ud55c \\uc2dc\"], \"x\": [58.48345947265625, 63.86962890625, 109.85674285888672, 17.41929054260254, 16.645917892456055, 93.20743560791016, 61.34342575073242, 39.070770263671875, 103.1111068725586], \"y\": [-39.78464126586914, 42.0947265625, 29.652359008789062, -9.818589210510254, 35.7765007019043, 74.90583038330078, 3.7940306663513184, 78.45967864990234, -15.446125030517578], \"type\": \"scatter\", \"uid\": \"556e63a7-9f8f-448a-86df-979a7d219793\"}], {}, {\"showLink\": false, \"linkText\": \"Export to plot.ly\", \"plotlyServerURL\": \"https://plot.ly\"}); \n",
       "}\n",
       "});</script><script type=\"text/javascript\">window.addEventListener(\"resize\", function(){if (document.getElementById(\"4cfcb387-92cd-4014-bdeb-65ebfe176a1c\")) {window._Plotly.Plots.resize(document.getElementById(\"4cfcb387-92cd-4014-bdeb-65ebfe176a1c\"));};})</script>"
      ]
     },
     "metadata": {},
     "output_type": "display_data"
    }
   ],
   "source": [
    "visualize_embeddings(vectors, labels)"
   ]
  },
  {
   "cell_type": "markdown",
   "metadata": {},
   "source": [
    "---------------------"
   ]
  },
  {
   "cell_type": "markdown",
   "metadata": {},
   "source": [
    "## Word Embedding\n",
    "* Word2Vec\n",
    "* Glove\n",
    "* FastText"
   ]
  },
  {
   "cell_type": "markdown",
   "metadata": {},
   "source": [
    "### Word2Vec"
   ]
  },
  {
   "cell_type": "markdown",
   "metadata": {},
   "source": [
    "* 출처 - models.word2vec – Deep learning with word2vec - https://radimrehurek.com/gensim/models/word2vec.html"
   ]
  },
  {
   "cell_type": "markdown",
   "metadata": {},
   "source": [
    "#### 영어 예시"
   ]
  },
  {
   "cell_type": "code",
   "execution_count": 307,
   "metadata": {},
   "outputs": [
    {
     "name": "stdout",
     "output_type": "stream",
     "text": [
      "[['my', 'name', 'is', 'jamie'], ['jamie', 'is', 'cute']]\n"
     ]
    }
   ],
   "source": [
    "# Data\n",
    "corpus_en = [[\"my\", \"name\", \"is\", \"jamie\"], [\"jamie\", \"is\", \"cute\"]]\n",
    "\n",
    "pprint(corpus_en)"
   ]
  },
  {
   "cell_type": "code",
   "execution_count": 308,
   "metadata": {},
   "outputs": [],
   "source": [
    "# 모델 초기화\n",
    "w2v_en = gensim.models.Word2Vec(min_count=1) # 예) Word2Vec(sentences, size=100, window=5, min_count=5, workers=4)"
   ]
  },
  {
   "cell_type": "code",
   "execution_count": 309,
   "metadata": {},
   "outputs": [
    {
     "name": "stderr",
     "output_type": "stream",
     "text": [
      "2019-04-23 15:57:06,866 : INFO : collecting all words and their counts\n",
      "2019-04-23 15:57:06,868 : INFO : PROGRESS: at sentence #0, processed 0 words, keeping 0 word types\n",
      "2019-04-23 15:57:06,869 : INFO : collected 5 word types from a corpus of 7 raw words and 2 sentences\n",
      "2019-04-23 15:57:06,869 : INFO : Loading a fresh vocabulary\n",
      "2019-04-23 15:57:06,871 : INFO : min_count=1 retains 5 unique words (100% of original 5, drops 0)\n",
      "2019-04-23 15:57:06,871 : INFO : min_count=1 leaves 7 word corpus (100% of original 7, drops 0)\n",
      "2019-04-23 15:57:06,872 : INFO : deleting the raw counts dictionary of 5 items\n",
      "2019-04-23 15:57:06,873 : INFO : sample=0.001 downsamples 5 most-common words\n",
      "2019-04-23 15:57:06,874 : INFO : downsampling leaves estimated 0 word corpus (7.5% of prior 7)\n",
      "2019-04-23 15:57:06,875 : INFO : estimated required memory for 5 words and 100 dimensions: 6500 bytes\n",
      "2019-04-23 15:57:06,875 : INFO : resetting layer weights\n"
     ]
    }
   ],
   "source": [
    "# 모델 사전 만들기\n",
    "w2v_en.build_vocab(corpus_en)"
   ]
  },
  {
   "cell_type": "code",
   "execution_count": 310,
   "metadata": {},
   "outputs": [
    {
     "name": "stderr",
     "output_type": "stream",
     "text": [
      "2019-04-23 15:57:07,522 : INFO : training model with 3 workers on 5 vocabulary and 100 features, using sg=0 hs=0 sample=0.001 negative=5 window=5\n",
      "2019-04-23 15:57:07,525 : INFO : worker thread finished; awaiting finish of 2 more threads\n",
      "2019-04-23 15:57:07,526 : INFO : worker thread finished; awaiting finish of 1 more threads\n",
      "2019-04-23 15:57:07,526 : INFO : worker thread finished; awaiting finish of 0 more threads\n",
      "2019-04-23 15:57:07,528 : INFO : EPOCH - 1 : training on 7 raw words (0 effective words) took 0.0s, 0 effective words/s\n",
      "2019-04-23 15:57:07,530 : INFO : worker thread finished; awaiting finish of 2 more threads\n",
      "2019-04-23 15:57:07,531 : INFO : worker thread finished; awaiting finish of 1 more threads\n",
      "2019-04-23 15:57:07,532 : INFO : worker thread finished; awaiting finish of 0 more threads\n",
      "2019-04-23 15:57:07,533 : INFO : EPOCH - 2 : training on 7 raw words (0 effective words) took 0.0s, 0 effective words/s\n",
      "2019-04-23 15:57:07,536 : INFO : worker thread finished; awaiting finish of 2 more threads\n",
      "2019-04-23 15:57:07,536 : INFO : worker thread finished; awaiting finish of 1 more threads\n",
      "2019-04-23 15:57:07,537 : INFO : worker thread finished; awaiting finish of 0 more threads\n",
      "2019-04-23 15:57:07,538 : INFO : EPOCH - 3 : training on 7 raw words (1 effective words) took 0.0s, 392 effective words/s\n",
      "2019-04-23 15:57:07,541 : INFO : worker thread finished; awaiting finish of 2 more threads\n",
      "2019-04-23 15:57:07,541 : INFO : worker thread finished; awaiting finish of 1 more threads\n",
      "2019-04-23 15:57:07,542 : INFO : worker thread finished; awaiting finish of 0 more threads\n",
      "2019-04-23 15:57:07,543 : INFO : EPOCH - 4 : training on 7 raw words (0 effective words) took 0.0s, 0 effective words/s\n",
      "2019-04-23 15:57:07,545 : INFO : worker thread finished; awaiting finish of 2 more threads\n",
      "2019-04-23 15:57:07,546 : INFO : worker thread finished; awaiting finish of 1 more threads\n",
      "2019-04-23 15:57:07,547 : INFO : worker thread finished; awaiting finish of 0 more threads\n",
      "2019-04-23 15:57:07,548 : INFO : EPOCH - 5 : training on 7 raw words (0 effective words) took 0.0s, 0 effective words/s\n",
      "2019-04-23 15:57:07,550 : INFO : worker thread finished; awaiting finish of 2 more threads\n",
      "2019-04-23 15:57:07,551 : INFO : worker thread finished; awaiting finish of 1 more threads\n",
      "2019-04-23 15:57:07,552 : INFO : worker thread finished; awaiting finish of 0 more threads\n",
      "2019-04-23 15:57:07,553 : INFO : EPOCH - 6 : training on 7 raw words (0 effective words) took 0.0s, 0 effective words/s\n",
      "2019-04-23 15:57:07,555 : INFO : worker thread finished; awaiting finish of 2 more threads\n",
      "2019-04-23 15:57:07,556 : INFO : worker thread finished; awaiting finish of 1 more threads\n",
      "2019-04-23 15:57:07,556 : INFO : worker thread finished; awaiting finish of 0 more threads\n",
      "2019-04-23 15:57:07,557 : INFO : EPOCH - 7 : training on 7 raw words (0 effective words) took 0.0s, 0 effective words/s\n",
      "2019-04-23 15:57:07,559 : INFO : worker thread finished; awaiting finish of 2 more threads\n",
      "2019-04-23 15:57:07,560 : INFO : worker thread finished; awaiting finish of 1 more threads\n",
      "2019-04-23 15:57:07,561 : INFO : worker thread finished; awaiting finish of 0 more threads\n",
      "2019-04-23 15:57:07,561 : INFO : EPOCH - 8 : training on 7 raw words (0 effective words) took 0.0s, 0 effective words/s\n",
      "2019-04-23 15:57:07,564 : INFO : worker thread finished; awaiting finish of 2 more threads\n",
      "2019-04-23 15:57:07,564 : INFO : worker thread finished; awaiting finish of 1 more threads\n",
      "2019-04-23 15:57:07,565 : INFO : worker thread finished; awaiting finish of 0 more threads\n",
      "2019-04-23 15:57:07,566 : INFO : EPOCH - 9 : training on 7 raw words (1 effective words) took 0.0s, 413 effective words/s\n",
      "2019-04-23 15:57:07,569 : INFO : worker thread finished; awaiting finish of 2 more threads\n",
      "2019-04-23 15:57:07,569 : INFO : worker thread finished; awaiting finish of 1 more threads\n",
      "2019-04-23 15:57:07,570 : INFO : worker thread finished; awaiting finish of 0 more threads\n",
      "2019-04-23 15:57:07,571 : INFO : EPOCH - 10 : training on 7 raw words (0 effective words) took 0.0s, 0 effective words/s\n",
      "2019-04-23 15:57:07,571 : INFO : training on a 70 raw words (2 effective words) took 0.0s, 42 effective words/s\n",
      "2019-04-23 15:57:07,572 : WARNING : under 10 jobs per worker: consider setting a smaller `batch_words' for smoother alpha decay\n"
     ]
    },
    {
     "data": {
      "text/plain": [
       "(2, 70)"
      ]
     },
     "execution_count": 310,
     "metadata": {},
     "output_type": "execute_result"
    }
   ],
   "source": [
    "# 학습\n",
    "w2v_en.train(corpus_en, total_examples=len(corpus_en), epochs=10)"
   ]
  },
  {
   "cell_type": "code",
   "execution_count": 311,
   "metadata": {},
   "outputs": [
    {
     "name": "stderr",
     "output_type": "stream",
     "text": [
      "2019-04-23 15:57:08,226 : INFO : saving Word2Vec object under model_w2v_en.wv, separately None\n",
      "2019-04-23 15:57:08,227 : INFO : not storing attribute vectors_norm\n",
      "2019-04-23 15:57:08,229 : INFO : not storing attribute cum_table\n",
      "2019-04-23 15:57:08,235 : INFO : saved model_w2v_en.wv\n"
     ]
    }
   ],
   "source": [
    "# 생성된 모델 저장 및 불러오기 - 이것은 나중에 이 모델을 다시 활용하려할 때 써보기. \n",
    "fname = 'model_w2v_en.wv'\n",
    "w2v_en.save(fname)"
   ]
  },
  {
   "cell_type": "code",
   "execution_count": 312,
   "metadata": {},
   "outputs": [
    {
     "name": "stdout",
     "output_type": "stream",
     "text": [
      "model_w2v_en.wv\r\n"
     ]
    }
   ],
   "source": [
    "%ls model_w2v_en.wv"
   ]
  },
  {
   "cell_type": "code",
   "execution_count": 313,
   "metadata": {},
   "outputs": [
    {
     "name": "stderr",
     "output_type": "stream",
     "text": [
      "2019-04-23 15:57:09,745 : INFO : loading Word2Vec object from model_w2v_en.wv\n",
      "2019-04-23 15:57:09,747 : INFO : loading wv recursively from model_w2v_en.wv.wv.* with mmap=None\n",
      "2019-04-23 15:57:09,748 : INFO : setting ignored attribute vectors_norm to None\n",
      "2019-04-23 15:57:09,749 : INFO : loading vocabulary recursively from model_w2v_en.wv.vocabulary.* with mmap=None\n",
      "2019-04-23 15:57:09,750 : INFO : loading trainables recursively from model_w2v_en.wv.trainables.* with mmap=None\n",
      "2019-04-23 15:57:09,750 : INFO : setting ignored attribute cum_table to None\n",
      "2019-04-23 15:57:09,751 : INFO : loaded model_w2v_en.wv\n"
     ]
    }
   ],
   "source": [
    "# 저장된 모델 로드해서 사용하기\n",
    "my_w2v_en = gensim.models.Word2Vec.load(fname)"
   ]
  },
  {
   "cell_type": "code",
   "execution_count": 314,
   "metadata": {},
   "outputs": [],
   "source": [
    "# 단어의 벡터값 얻기\n",
    "vectors_en = my_w2v_en.wv"
   ]
  },
  {
   "cell_type": "code",
   "execution_count": 315,
   "metadata": {},
   "outputs": [
    {
     "data": {
      "text/plain": [
       "array([-2.4506054e-03, -7.2212395e-05, -2.5793440e-03,  4.5915958e-03,\n",
       "       -2.1344704e-04, -2.0485444e-03,  2.0943519e-03, -4.3851822e-03,\n",
       "       -2.6934405e-03, -6.1185437e-04,  4.5549552e-04,  3.1820151e-03,\n",
       "        4.5488086e-03, -1.1867728e-03, -1.3333425e-03, -1.7533402e-03,\n",
       "        9.8656095e-04,  4.2431941e-03,  2.9202390e-03, -2.6887951e-03,\n",
       "       -3.0517210e-03,  3.5098076e-04, -3.3224120e-03, -4.4679195e-03,\n",
       "        4.7339909e-03,  3.8174842e-03, -3.8166842e-04, -2.9919059e-03,\n",
       "       -5.7659869e-04,  4.2707864e-03,  3.4398325e-03, -3.2739765e-03,\n",
       "       -4.8487340e-03,  4.2158011e-03,  3.7358804e-03,  4.2841828e-04,\n",
       "       -4.7639189e-03,  4.2284880e-04,  2.6165601e-03,  1.9673620e-04,\n",
       "        2.5048950e-03,  1.5577474e-03,  1.9009429e-03,  2.8468533e-03,\n",
       "       -1.6710690e-03, -3.6142489e-03, -2.9028608e-03,  1.3266195e-03,\n",
       "       -1.6994998e-04, -2.5732673e-03,  4.9008811e-03, -3.6815112e-03,\n",
       "        3.3471847e-04,  4.3144398e-03, -1.5480816e-03, -4.4504181e-03,\n",
       "        4.3201102e-03,  1.8831410e-03,  8.1665593e-04, -2.9062016e-03,\n",
       "       -3.6783807e-03,  2.8097343e-03,  3.8804854e-03,  4.0286389e-04,\n",
       "        6.8655121e-04,  7.2782999e-04, -8.0425656e-05, -4.1269735e-03,\n",
       "        1.6723723e-03, -3.3935641e-03, -8.4854825e-04,  1.7901297e-03,\n",
       "        4.4807289e-03,  1.1293860e-04,  1.9719158e-03,  3.0153715e-03,\n",
       "        1.5334307e-03,  4.6520988e-03,  2.1215579e-03,  3.5440947e-03,\n",
       "        3.9313072e-03, -4.5805294e-03,  2.8343868e-04,  2.7001663e-03,\n",
       "        2.5255273e-03, -4.5909095e-03,  3.1063092e-04, -1.7871169e-03,\n",
       "        1.5069684e-03,  2.7150591e-03,  2.7197141e-03, -3.0173473e-03,\n",
       "        2.0522892e-03,  3.9959070e-03,  2.6641397e-03,  1.0778310e-03,\n",
       "       -5.8307766e-04,  2.4937303e-03, -1.6299953e-03, -3.1203770e-03],\n",
       "      dtype=float32)"
      ]
     },
     "execution_count": 315,
     "metadata": {},
     "output_type": "execute_result"
    }
   ],
   "source": [
    "vectors_en['name']"
   ]
  },
  {
   "cell_type": "code",
   "execution_count": 316,
   "metadata": {},
   "outputs": [
    {
     "name": "stderr",
     "output_type": "stream",
     "text": [
      "2019-04-23 15:57:12,244 : INFO : starting tSNE dimensionality reduction. This may take some time.\n",
      "2019-04-23 15:57:12,330 : INFO : All done. Plotting.\n"
     ]
    },
    {
     "data": {
      "text/html": [
       "<script type=\"text/javascript\">window.PlotlyConfig = {MathJaxConfig: 'local'};</script><script type=\"text/javascript\">if (window.MathJax) {MathJax.Hub.Config({SVG: {font: \"STIX-Web\"}});}</script><script>requirejs.config({paths: { 'plotly': ['https://cdn.plot.ly/plotly-latest.min']},});if(!window._Plotly) {require(['plotly'],function(plotly) {window._Plotly=plotly;});}</script>"
      ],
      "text/vnd.plotly.v1+html": [
       "<script type=\"text/javascript\">window.PlotlyConfig = {MathJaxConfig: 'local'};</script><script type=\"text/javascript\">if (window.MathJax) {MathJax.Hub.Config({SVG: {font: \"STIX-Web\"}});}</script><script>requirejs.config({paths: { 'plotly': ['https://cdn.plot.ly/plotly-latest.min']},});if(!window._Plotly) {require(['plotly'],function(plotly) {window._Plotly=plotly;});}</script>"
      ]
     },
     "metadata": {},
     "output_type": "display_data"
    },
    {
     "data": {
      "application/vnd.plotly.v1+json": {
       "config": {
        "linkText": "Export to plot.ly",
        "plotlyServerURL": "https://plot.ly",
        "showLink": false
       },
       "data": [
        {
         "mode": "text",
         "text": [
          "my",
          "name",
          "is",
          "jamie",
          "cute"
         ],
         "type": "scatter",
         "uid": "be2be469-d6bb-412c-a6f8-1155dd29220e",
         "x": [
          -128.1085968017578,
          345.7575988769531,
          114.755859375,
          -33.16724395751953,
          216.257080078125
         ],
         "y": [
          -150.27442932128906,
          -115.22212219238281,
          -212.97329711914062,
          91.22616577148438,
          109.64379119873047
         ]
        }
       ],
       "layout": {}
      },
      "text/html": [
       "<div id=\"c09a5d09-b99f-4af8-ace1-ee8c0e043dfb\" style=\"height: 525px; width: 100%;\" class=\"plotly-graph-div\"></div><script type=\"text/javascript\">require([\"plotly\"], function(Plotly) { window.PLOTLYENV=window.PLOTLYENV || {};window.PLOTLYENV.BASE_URL=\"https://plot.ly\";\n",
       "if (document.getElementById(\"c09a5d09-b99f-4af8-ace1-ee8c0e043dfb\")) {\n",
       "    Plotly.newPlot(\"c09a5d09-b99f-4af8-ace1-ee8c0e043dfb\", [{\"mode\": \"text\", \"text\": [\"my\", \"name\", \"is\", \"jamie\", \"cute\"], \"x\": [-128.1085968017578, 345.7575988769531, 114.755859375, -33.16724395751953, 216.257080078125], \"y\": [-150.27442932128906, -115.22212219238281, -212.97329711914062, 91.22616577148438, 109.64379119873047], \"type\": \"scatter\", \"uid\": \"dc702404-c886-4e8e-8bbd-06f143f04f97\"}], {}, {\"showLink\": false, \"linkText\": \"Export to plot.ly\", \"plotlyServerURL\": \"https://plot.ly\"}); \n",
       "}\n",
       "});</script><script type=\"text/javascript\">window.addEventListener(\"resize\", function(){if (document.getElementById(\"c09a5d09-b99f-4af8-ace1-ee8c0e043dfb\")) {window._Plotly.Plots.resize(document.getElementById(\"c09a5d09-b99f-4af8-ace1-ee8c0e043dfb\"));};})</script>"
      ],
      "text/vnd.plotly.v1+html": [
       "<div id=\"c09a5d09-b99f-4af8-ace1-ee8c0e043dfb\" style=\"height: 525px; width: 100%;\" class=\"plotly-graph-div\"></div><script type=\"text/javascript\">require([\"plotly\"], function(Plotly) { window.PLOTLYENV=window.PLOTLYENV || {};window.PLOTLYENV.BASE_URL=\"https://plot.ly\";\n",
       "if (document.getElementById(\"c09a5d09-b99f-4af8-ace1-ee8c0e043dfb\")) {\n",
       "    Plotly.newPlot(\"c09a5d09-b99f-4af8-ace1-ee8c0e043dfb\", [{\"mode\": \"text\", \"text\": [\"my\", \"name\", \"is\", \"jamie\", \"cute\"], \"x\": [-128.1085968017578, 345.7575988769531, 114.755859375, -33.16724395751953, 216.257080078125], \"y\": [-150.27442932128906, -115.22212219238281, -212.97329711914062, 91.22616577148438, 109.64379119873047], \"type\": \"scatter\", \"uid\": \"dc702404-c886-4e8e-8bbd-06f143f04f97\"}], {}, {\"showLink\": false, \"linkText\": \"Export to plot.ly\", \"plotlyServerURL\": \"https://plot.ly\"}); \n",
       "}\n",
       "});</script><script type=\"text/javascript\">window.addEventListener(\"resize\", function(){if (document.getElementById(\"c09a5d09-b99f-4af8-ace1-ee8c0e043dfb\")) {window._Plotly.Plots.resize(document.getElementById(\"c09a5d09-b99f-4af8-ace1-ee8c0e043dfb\"));};})</script>"
      ]
     },
     "metadata": {},
     "output_type": "display_data"
    }
   ],
   "source": [
    "# 영어 예시\n",
    "labels = [word for word in vectors_en.vocab]\n",
    "vectors = [vectors_en[word] for word in labels]\n",
    "\n",
    "visualize_embeddings(vectors, labels)"
   ]
  },
  {
   "cell_type": "markdown",
   "metadata": {},
   "source": [
    "#### 한국어 예시"
   ]
  },
  {
   "cell_type": "code",
   "execution_count": 317,
   "metadata": {},
   "outputs": [
    {
     "name": "stdout",
     "output_type": "stream",
     "text": [
      "[['네', '네', '네', '네', '꿈', '아무', '전부', '있어', '꿈', '멀리', '네', '네', '하루', '말', '있어', '준비', '벌써', '너', '네', '네', '네', '네', '거짓말', '자꾸', '네', '네', '매일', '어른들', '시간', '특별', '네', '네', '네', '네', '하루', '네', '네', '네', '네', '거짓말', '자꾸', '네', '네', '꿔', '너', '거짓말', '자꾸', '네', '네'], ['너', '너', '뭣', '전부', '사랑', '사랑', '자꾸', '너무', '자꾸', '내', '내', '내', '아무', '말', '하늘', '하늘', '하늘', '내', '눈물', '더', '잘', '사랑', '자꾸', '너무', '사랑', '사랑', '수', '사랑', '자꾸', '너무']]\n"
     ]
    }
   ],
   "source": [
    "print(corpus_ko[:2])"
   ]
  },
  {
   "cell_type": "code",
   "execution_count": 318,
   "metadata": {},
   "outputs": [
    {
     "name": "stderr",
     "output_type": "stream",
     "text": [
      "2019-04-23 15:59:18,380 : INFO : collecting all words and their counts\n",
      "2019-04-23 15:59:18,381 : INFO : PROGRESS: at sentence #0, processed 0 words, keeping 0 word types\n",
      "2019-04-23 15:59:18,382 : INFO : collected 56 word types from a corpus of 290 raw words and 9 sentences\n",
      "2019-04-23 15:59:18,382 : INFO : Loading a fresh vocabulary\n",
      "2019-04-23 15:59:18,383 : INFO : min_count=0 retains 56 unique words (100% of original 56, drops 0)\n",
      "2019-04-23 15:59:18,385 : INFO : min_count=0 leaves 290 word corpus (100% of original 290, drops 0)\n",
      "2019-04-23 15:59:18,386 : INFO : deleting the raw counts dictionary of 56 items\n",
      "2019-04-23 15:59:18,387 : INFO : sample=0.001 downsamples 56 most-common words\n",
      "2019-04-23 15:59:18,389 : INFO : downsampling leaves estimated 78 word corpus (27.0% of prior 290)\n",
      "2019-04-23 15:59:18,390 : INFO : estimated required memory for 56 words and 100 dimensions: 72800 bytes\n",
      "2019-04-23 15:59:18,391 : INFO : resetting layer weights\n",
      "2019-04-23 15:59:18,393 : INFO : training model with 3 workers on 56 vocabulary and 100 features, using sg=0 hs=0 sample=0.001 negative=5 window=5\n",
      "2019-04-23 15:59:18,396 : INFO : worker thread finished; awaiting finish of 2 more threads\n",
      "2019-04-23 15:59:18,397 : INFO : worker thread finished; awaiting finish of 1 more threads\n",
      "2019-04-23 15:59:18,398 : INFO : worker thread finished; awaiting finish of 0 more threads\n",
      "2019-04-23 15:59:18,398 : INFO : EPOCH - 1 : training on 290 raw words (78 effective words) took 0.0s, 27849 effective words/s\n",
      "2019-04-23 15:59:18,401 : INFO : worker thread finished; awaiting finish of 2 more threads\n",
      "2019-04-23 15:59:18,402 : INFO : worker thread finished; awaiting finish of 1 more threads\n",
      "2019-04-23 15:59:18,403 : INFO : worker thread finished; awaiting finish of 0 more threads\n",
      "2019-04-23 15:59:18,404 : INFO : EPOCH - 2 : training on 290 raw words (78 effective words) took 0.0s, 29590 effective words/s\n",
      "2019-04-23 15:59:18,406 : INFO : worker thread finished; awaiting finish of 2 more threads\n",
      "2019-04-23 15:59:18,407 : INFO : worker thread finished; awaiting finish of 1 more threads\n",
      "2019-04-23 15:59:18,408 : INFO : worker thread finished; awaiting finish of 0 more threads\n",
      "2019-04-23 15:59:18,410 : INFO : EPOCH - 3 : training on 290 raw words (74 effective words) took 0.0s, 22214 effective words/s\n",
      "2019-04-23 15:59:18,412 : INFO : worker thread finished; awaiting finish of 2 more threads\n",
      "2019-04-23 15:59:18,413 : INFO : worker thread finished; awaiting finish of 1 more threads\n",
      "2019-04-23 15:59:18,414 : INFO : worker thread finished; awaiting finish of 0 more threads\n",
      "2019-04-23 15:59:18,415 : INFO : EPOCH - 4 : training on 290 raw words (78 effective words) took 0.0s, 28002 effective words/s\n",
      "2019-04-23 15:59:18,417 : INFO : worker thread finished; awaiting finish of 2 more threads\n",
      "2019-04-23 15:59:18,418 : INFO : worker thread finished; awaiting finish of 1 more threads\n",
      "2019-04-23 15:59:18,419 : INFO : worker thread finished; awaiting finish of 0 more threads\n",
      "2019-04-23 15:59:18,420 : INFO : EPOCH - 5 : training on 290 raw words (94 effective words) took 0.0s, 32183 effective words/s\n",
      "2019-04-23 15:59:18,422 : INFO : worker thread finished; awaiting finish of 2 more threads\n",
      "2019-04-23 15:59:18,423 : INFO : worker thread finished; awaiting finish of 1 more threads\n",
      "2019-04-23 15:59:18,424 : INFO : worker thread finished; awaiting finish of 0 more threads\n",
      "2019-04-23 15:59:18,425 : INFO : EPOCH - 6 : training on 290 raw words (84 effective words) took 0.0s, 26503 effective words/s\n",
      "2019-04-23 15:59:18,428 : INFO : worker thread finished; awaiting finish of 2 more threads\n",
      "2019-04-23 15:59:18,429 : INFO : worker thread finished; awaiting finish of 1 more threads\n",
      "2019-04-23 15:59:18,430 : INFO : worker thread finished; awaiting finish of 0 more threads\n",
      "2019-04-23 15:59:18,431 : INFO : EPOCH - 7 : training on 290 raw words (73 effective words) took 0.0s, 23759 effective words/s\n",
      "2019-04-23 15:59:18,434 : INFO : worker thread finished; awaiting finish of 2 more threads\n",
      "2019-04-23 15:59:18,435 : INFO : worker thread finished; awaiting finish of 1 more threads\n",
      "2019-04-23 15:59:18,437 : INFO : worker thread finished; awaiting finish of 0 more threads\n",
      "2019-04-23 15:59:18,437 : INFO : EPOCH - 8 : training on 290 raw words (57 effective words) took 0.0s, 15817 effective words/s\n",
      "2019-04-23 15:59:18,441 : INFO : worker thread finished; awaiting finish of 2 more threads\n",
      "2019-04-23 15:59:18,442 : INFO : worker thread finished; awaiting finish of 1 more threads\n",
      "2019-04-23 15:59:18,444 : INFO : worker thread finished; awaiting finish of 0 more threads\n",
      "2019-04-23 15:59:18,445 : INFO : EPOCH - 9 : training on 290 raw words (78 effective words) took 0.0s, 21900 effective words/s\n",
      "2019-04-23 15:59:18,447 : INFO : worker thread finished; awaiting finish of 2 more threads\n",
      "2019-04-23 15:59:18,448 : INFO : worker thread finished; awaiting finish of 1 more threads\n",
      "2019-04-23 15:59:18,449 : INFO : worker thread finished; awaiting finish of 0 more threads\n",
      "2019-04-23 15:59:18,450 : INFO : EPOCH - 10 : training on 290 raw words (80 effective words) took 0.0s, 26304 effective words/s\n",
      "2019-04-23 15:59:18,451 : INFO : training on a 2900 raw words (774 effective words) took 0.1s, 13744 effective words/s\n",
      "2019-04-23 15:59:18,452 : WARNING : under 10 jobs per worker: consider setting a smaller `batch_words' for smoother alpha decay\n",
      "2019-04-23 15:59:18,452 : INFO : saving Word2Vec object under model_w2v_ko.wv, separately None\n",
      "2019-04-23 15:59:18,454 : INFO : not storing attribute vectors_norm\n",
      "2019-04-23 15:59:18,455 : INFO : not storing attribute cum_table\n",
      "2019-04-23 15:59:18,458 : INFO : saved model_w2v_ko.wv\n"
     ]
    }
   ],
   "source": [
    "# 모델 초기화\n",
    "w2v_ko = gensim.models.Word2Vec(min_count=0) # 예) Word2Vec(sentences, size=100, window=5, min_count=5, workers=4)\n",
    "# 모델 사전 만들기\n",
    "w2v_ko.build_vocab(corpus_ko)\n",
    "# 학습\n",
    "w2v_ko.train(corpus_ko, total_examples=len(corpus_ko), epochs=10)\n",
    "# 모델 저장\n",
    "fname = 'model_w2v_ko.wv'\n",
    "w2v_ko.save(fname)"
   ]
  },
  {
   "cell_type": "code",
   "execution_count": 319,
   "metadata": {},
   "outputs": [],
   "source": [
    "# 단어의 벡터값 얻기\n",
    "vectors_ko = w2v_ko.wv"
   ]
  },
  {
   "cell_type": "code",
   "execution_count": 322,
   "metadata": {},
   "outputs": [
    {
     "data": {
      "text/plain": [
       "array([-4.1817571e-03, -1.9619069e-03, -6.5305247e-04,  3.9571412e-03,\n",
       "       -3.7814099e-03,  3.0307663e-03, -4.2649838e-03, -1.6334316e-03,\n",
       "       -1.2990105e-03,  1.7397442e-03,  4.7864942e-03, -4.4085360e-03,\n",
       "       -2.3842664e-03,  4.4826619e-04,  1.3650140e-03, -4.6924055e-03,\n",
       "       -1.5269438e-03, -2.3491395e-04,  2.1357939e-03,  3.6097455e-03,\n",
       "        5.0640032e-03,  4.4606412e-03, -2.6770909e-03, -4.0351227e-03,\n",
       "       -4.7652451e-03,  4.7990144e-03,  5.0683768e-04,  4.3097758e-03,\n",
       "        9.1948477e-04,  3.2819756e-03,  2.0079310e-03,  4.4531766e-03,\n",
       "        4.1890419e-03,  4.3220230e-04, -4.6784263e-03, -4.0817219e-03,\n",
       "        3.4473810e-04,  4.9517304e-03,  1.3107036e-03, -1.8481718e-03,\n",
       "       -2.7574315e-03,  3.4291109e-03,  3.0130681e-03,  4.3133940e-03,\n",
       "        2.1797868e-03, -1.4413848e-03,  2.8493502e-03, -4.6739304e-03,\n",
       "        4.5851031e-03, -4.4769822e-03, -3.4144388e-03,  9.4040454e-04,\n",
       "        2.1450822e-03,  3.2715972e-03, -3.4318136e-03, -2.5561536e-03,\n",
       "        1.4123549e-03,  3.7435372e-03,  2.1875442e-03, -1.4273089e-03,\n",
       "        1.2468700e-03,  3.8393387e-03,  4.6246122e-03, -2.2852067e-03,\n",
       "        2.0366737e-03, -9.5322111e-04,  1.9811878e-03, -3.6324356e-03,\n",
       "        9.2458935e-04,  4.6819644e-03,  1.9514134e-04,  7.4851699e-04,\n",
       "       -4.2784554e-03,  4.3184212e-03, -2.0626865e-03,  1.7504359e-03,\n",
       "        9.4865929e-05, -4.4894740e-03, -1.1879839e-03, -9.7633054e-04,\n",
       "        5.0259390e-05,  2.1718699e-03,  4.4518113e-04,  3.9302744e-03,\n",
       "       -3.9917375e-03, -2.5455591e-03,  3.0932813e-03,  2.3397692e-03,\n",
       "       -8.0653897e-04, -1.2653074e-03, -2.4420435e-03,  2.8091583e-03,\n",
       "        1.0454016e-03, -2.3702143e-03,  1.5922983e-03,  1.5972110e-03,\n",
       "       -9.4819385e-05,  4.3624188e-03,  1.7493403e-05, -9.5214615e-05],\n",
       "      dtype=float32)"
      ]
     },
     "execution_count": 322,
     "metadata": {},
     "output_type": "execute_result"
    }
   ],
   "source": [
    "vectors_ko['꿈']"
   ]
  },
  {
   "cell_type": "code",
   "execution_count": 321,
   "metadata": {},
   "outputs": [
    {
     "name": "stderr",
     "output_type": "stream",
     "text": [
      "2019-04-23 15:59:32,369 : INFO : starting tSNE dimensionality reduction. This may take some time.\n",
      "2019-04-23 15:59:32,632 : INFO : All done. Plotting.\n"
     ]
    },
    {
     "data": {
      "text/html": [
       "<script type=\"text/javascript\">window.PlotlyConfig = {MathJaxConfig: 'local'};</script><script type=\"text/javascript\">if (window.MathJax) {MathJax.Hub.Config({SVG: {font: \"STIX-Web\"}});}</script><script>requirejs.config({paths: { 'plotly': ['https://cdn.plot.ly/plotly-latest.min']},});if(!window._Plotly) {require(['plotly'],function(plotly) {window._Plotly=plotly;});}</script>"
      ],
      "text/vnd.plotly.v1+html": [
       "<script type=\"text/javascript\">window.PlotlyConfig = {MathJaxConfig: 'local'};</script><script type=\"text/javascript\">if (window.MathJax) {MathJax.Hub.Config({SVG: {font: \"STIX-Web\"}});}</script><script>requirejs.config({paths: { 'plotly': ['https://cdn.plot.ly/plotly-latest.min']},});if(!window._Plotly) {require(['plotly'],function(plotly) {window._Plotly=plotly;});}</script>"
      ]
     },
     "metadata": {},
     "output_type": "display_data"
    },
    {
     "data": {
      "application/vnd.plotly.v1+json": {
       "config": {
        "linkText": "Export to plot.ly",
        "plotlyServerURL": "https://plot.ly",
        "showLink": false
       },
       "data": [
        {
         "mode": "text",
         "text": [
          "네",
          "꿈",
          "아무",
          "전부",
          "있어",
          "멀리",
          "하루",
          "말",
          "준비",
          "벌써",
          "너",
          "거짓말",
          "자꾸",
          "매일",
          "어른들",
          "시간",
          "특별",
          "꿔",
          "뭣",
          "사랑",
          "너무",
          "내",
          "하늘",
          "눈물",
          "더",
          "잘",
          "수",
          "처음",
          "스타일",
          "때",
          "우리",
          "쩌렁",
          "모두",
          "머리",
          "작업",
          "청춘",
          "거부",
          "새벽",
          "봄날",
          "겨울",
          "손",
          "조금",
          "DNA",
          "우주",
          "운명",
          "함께",
          "이상",
          "몸",
          "날개",
          "것",
          "못",
          "눈",
          "달콤",
          "행복",
          "사소",
          "상처"
         ],
         "type": "scatter",
         "uid": "00c1afe7-fce3-4e40-b5a9-05b490675193",
         "x": [
          15.173670768737793,
          42.05810546875,
          38.66020584106445,
          -52.461830139160156,
          0.5063806772232056,
          -52.160072326660156,
          -107.82344818115234,
          -11.343372344970703,
          49.53761672973633,
          -48.999176025390625,
          32.682640075683594,
          -36.94466781616211,
          72.34391021728516,
          14.162014961242676,
          90.50689697265625,
          11.090522766113281,
          -15.805058479309082,
          -32.85072708129883,
          26.757902145385742,
          71.8827896118164,
          60.39363098144531,
          -0.0950513631105423,
          105.76334381103516,
          -26.060022354125977,
          -12.57144832611084,
          26.754011154174805,
          76.09819030761719,
          1.8447493314743042,
          -69.36073303222656,
          -72.53617858886719,
          -26.88378143310547,
          57.98915481567383,
          -92.33062744140625,
          6.726938247680664,
          -75.15070343017578,
          41.1104850769043,
          -62.7473030090332,
          -39.85982131958008,
          -7.480273246765137,
          -47.7727165222168,
          -92.71552276611328,
          101.0029525756836,
          72.01922607421875,
          -101.55615234375,
          6.719958305358887,
          -89.7407455444336,
          -35.77055740356445,
          -95.11864471435547,
          -27.55795669555664,
          -67.07128143310547,
          -79.11009979248047,
          -4.9211106300354,
          76.20311737060547,
          36.57258224487305,
          26.628929138183594,
          -15.862940788269043
         ],
         "y": [
          114.6801528930664,
          86.18624114990234,
          10.143461227416992,
          -35.250919342041016,
          92.43466186523438,
          55.85673141479492,
          -60.85651397705078,
          -100.98614501953125,
          -24.962766647338867,
          -54.325279235839844,
          57.17224884033203,
          73.86337280273438,
          10.478948593139648,
          73.39122009277344,
          -62.66124725341797,
          18.841188430786133,
          51.759368896484375,
          96.7563705444336,
          -4.429000377655029,
          35.5442008972168,
          -7.301331520080566,
          -79.67483520507812,
          18.507736206054688,
          -81.96922302246094,
          27.73493003845215,
          -28.265792846679688,
          90.38309478759766,
          -14.150307655334473,
          -73.0226821899414,
          -11.504215240478516,
          -6.660063743591309,
          -70.25347137451172,
          -30.188861846923828,
          47.46920394897461,
          -98.30609893798828,
          34.953651428222656,
          33.62776184082031,
          10.662919998168945,
          6.950899124145508,
          -11.653295516967773,
          48.37450408935547,
          -26.691265106201172,
          -34.05780029296875,
          -13.042669296264648,
          -52.85203552246094,
          -56.48044967651367,
          31.949569702148438,
          16.785348892211914,
          -34.178768157958984,
          8.568899154663086,
          90.80528259277344,
          -32.762474060058594,
          60.82623291015625,
          -55.15885543823242,
          -86.75237274169922,
          -54.95185852050781
         ]
        }
       ],
       "layout": {}
      },
      "text/html": [
       "<div id=\"ba9bdce9-b8eb-4b3f-b5c2-c4c186f5047a\" style=\"height: 525px; width: 100%;\" class=\"plotly-graph-div\"></div><script type=\"text/javascript\">require([\"plotly\"], function(Plotly) { window.PLOTLYENV=window.PLOTLYENV || {};window.PLOTLYENV.BASE_URL=\"https://plot.ly\";\n",
       "if (document.getElementById(\"ba9bdce9-b8eb-4b3f-b5c2-c4c186f5047a\")) {\n",
       "    Plotly.newPlot(\"ba9bdce9-b8eb-4b3f-b5c2-c4c186f5047a\", [{\"mode\": \"text\", \"text\": [\"\\ub124\", \"\\uafc8\", \"\\uc544\\ubb34\", \"\\uc804\\ubd80\", \"\\uc788\\uc5b4\", \"\\uba40\\ub9ac\", \"\\ud558\\ub8e8\", \"\\ub9d0\", \"\\uc900\\ube44\", \"\\ubc8c\\uc368\", \"\\ub108\", \"\\uac70\\uc9d3\\ub9d0\", \"\\uc790\\uafb8\", \"\\ub9e4\\uc77c\", \"\\uc5b4\\ub978\\ub4e4\", \"\\uc2dc\\uac04\", \"\\ud2b9\\ubcc4\", \"\\uafd4\", \"\\ubb63\", \"\\uc0ac\\ub791\", \"\\ub108\\ubb34\", \"\\ub0b4\", \"\\ud558\\ub298\", \"\\ub208\\ubb3c\", \"\\ub354\", \"\\uc798\", \"\\uc218\", \"\\ucc98\\uc74c\", \"\\uc2a4\\ud0c0\\uc77c\", \"\\ub54c\", \"\\uc6b0\\ub9ac\", \"\\uca4c\\ub801\", \"\\ubaa8\\ub450\", \"\\uba38\\ub9ac\", \"\\uc791\\uc5c5\", \"\\uccad\\ucd98\", \"\\uac70\\ubd80\", \"\\uc0c8\\ubcbd\", \"\\ubd04\\ub0a0\", \"\\uaca8\\uc6b8\", \"\\uc190\", \"\\uc870\\uae08\", \"DNA\", \"\\uc6b0\\uc8fc\", \"\\uc6b4\\uba85\", \"\\ud568\\uaed8\", \"\\uc774\\uc0c1\", \"\\ubab8\", \"\\ub0a0\\uac1c\", \"\\uac83\", \"\\ubabb\", \"\\ub208\", \"\\ub2ec\\ucf64\", \"\\ud589\\ubcf5\", \"\\uc0ac\\uc18c\", \"\\uc0c1\\ucc98\"], \"x\": [15.173670768737793, 42.05810546875, 38.66020584106445, -52.461830139160156, 0.5063806772232056, -52.160072326660156, -107.82344818115234, -11.343372344970703, 49.53761672973633, -48.999176025390625, 32.682640075683594, -36.94466781616211, 72.34391021728516, 14.162014961242676, 90.50689697265625, 11.090522766113281, -15.805058479309082, -32.85072708129883, 26.757902145385742, 71.8827896118164, 60.39363098144531, -0.0950513631105423, 105.76334381103516, -26.060022354125977, -12.57144832611084, 26.754011154174805, 76.09819030761719, 1.8447493314743042, -69.36073303222656, -72.53617858886719, -26.88378143310547, 57.98915481567383, -92.33062744140625, 6.726938247680664, -75.15070343017578, 41.1104850769043, -62.7473030090332, -39.85982131958008, -7.480273246765137, -47.7727165222168, -92.71552276611328, 101.0029525756836, 72.01922607421875, -101.55615234375, 6.719958305358887, -89.7407455444336, -35.77055740356445, -95.11864471435547, -27.55795669555664, -67.07128143310547, -79.11009979248047, -4.9211106300354, 76.20311737060547, 36.57258224487305, 26.628929138183594, -15.862940788269043], \"y\": [114.6801528930664, 86.18624114990234, 10.143461227416992, -35.250919342041016, 92.43466186523438, 55.85673141479492, -60.85651397705078, -100.98614501953125, -24.962766647338867, -54.325279235839844, 57.17224884033203, 73.86337280273438, 10.478948593139648, 73.39122009277344, -62.66124725341797, 18.841188430786133, 51.759368896484375, 96.7563705444336, -4.429000377655029, 35.5442008972168, -7.301331520080566, -79.67483520507812, 18.507736206054688, -81.96922302246094, 27.73493003845215, -28.265792846679688, 90.38309478759766, -14.150307655334473, -73.0226821899414, -11.504215240478516, -6.660063743591309, -70.25347137451172, -30.188861846923828, 47.46920394897461, -98.30609893798828, 34.953651428222656, 33.62776184082031, 10.662919998168945, 6.950899124145508, -11.653295516967773, 48.37450408935547, -26.691265106201172, -34.05780029296875, -13.042669296264648, -52.85203552246094, -56.48044967651367, 31.949569702148438, 16.785348892211914, -34.178768157958984, 8.568899154663086, 90.80528259277344, -32.762474060058594, 60.82623291015625, -55.15885543823242, -86.75237274169922, -54.95185852050781], \"type\": \"scatter\", \"uid\": \"ac8a0457-3bdf-47c8-8d71-ba865bca0cf1\"}], {}, {\"showLink\": false, \"linkText\": \"Export to plot.ly\", \"plotlyServerURL\": \"https://plot.ly\"}); \n",
       "}\n",
       "});</script><script type=\"text/javascript\">window.addEventListener(\"resize\", function(){if (document.getElementById(\"ba9bdce9-b8eb-4b3f-b5c2-c4c186f5047a\")) {window._Plotly.Plots.resize(document.getElementById(\"ba9bdce9-b8eb-4b3f-b5c2-c4c186f5047a\"));};})</script>"
      ],
      "text/vnd.plotly.v1+html": [
       "<div id=\"ba9bdce9-b8eb-4b3f-b5c2-c4c186f5047a\" style=\"height: 525px; width: 100%;\" class=\"plotly-graph-div\"></div><script type=\"text/javascript\">require([\"plotly\"], function(Plotly) { window.PLOTLYENV=window.PLOTLYENV || {};window.PLOTLYENV.BASE_URL=\"https://plot.ly\";\n",
       "if (document.getElementById(\"ba9bdce9-b8eb-4b3f-b5c2-c4c186f5047a\")) {\n",
       "    Plotly.newPlot(\"ba9bdce9-b8eb-4b3f-b5c2-c4c186f5047a\", [{\"mode\": \"text\", \"text\": [\"\\ub124\", \"\\uafc8\", \"\\uc544\\ubb34\", \"\\uc804\\ubd80\", \"\\uc788\\uc5b4\", \"\\uba40\\ub9ac\", \"\\ud558\\ub8e8\", \"\\ub9d0\", \"\\uc900\\ube44\", \"\\ubc8c\\uc368\", \"\\ub108\", \"\\uac70\\uc9d3\\ub9d0\", \"\\uc790\\uafb8\", \"\\ub9e4\\uc77c\", \"\\uc5b4\\ub978\\ub4e4\", \"\\uc2dc\\uac04\", \"\\ud2b9\\ubcc4\", \"\\uafd4\", \"\\ubb63\", \"\\uc0ac\\ub791\", \"\\ub108\\ubb34\", \"\\ub0b4\", \"\\ud558\\ub298\", \"\\ub208\\ubb3c\", \"\\ub354\", \"\\uc798\", \"\\uc218\", \"\\ucc98\\uc74c\", \"\\uc2a4\\ud0c0\\uc77c\", \"\\ub54c\", \"\\uc6b0\\ub9ac\", \"\\uca4c\\ub801\", \"\\ubaa8\\ub450\", \"\\uba38\\ub9ac\", \"\\uc791\\uc5c5\", \"\\uccad\\ucd98\", \"\\uac70\\ubd80\", \"\\uc0c8\\ubcbd\", \"\\ubd04\\ub0a0\", \"\\uaca8\\uc6b8\", \"\\uc190\", \"\\uc870\\uae08\", \"DNA\", \"\\uc6b0\\uc8fc\", \"\\uc6b4\\uba85\", \"\\ud568\\uaed8\", \"\\uc774\\uc0c1\", \"\\ubab8\", \"\\ub0a0\\uac1c\", \"\\uac83\", \"\\ubabb\", \"\\ub208\", \"\\ub2ec\\ucf64\", \"\\ud589\\ubcf5\", \"\\uc0ac\\uc18c\", \"\\uc0c1\\ucc98\"], \"x\": [15.173670768737793, 42.05810546875, 38.66020584106445, -52.461830139160156, 0.5063806772232056, -52.160072326660156, -107.82344818115234, -11.343372344970703, 49.53761672973633, -48.999176025390625, 32.682640075683594, -36.94466781616211, 72.34391021728516, 14.162014961242676, 90.50689697265625, 11.090522766113281, -15.805058479309082, -32.85072708129883, 26.757902145385742, 71.8827896118164, 60.39363098144531, -0.0950513631105423, 105.76334381103516, -26.060022354125977, -12.57144832611084, 26.754011154174805, 76.09819030761719, 1.8447493314743042, -69.36073303222656, -72.53617858886719, -26.88378143310547, 57.98915481567383, -92.33062744140625, 6.726938247680664, -75.15070343017578, 41.1104850769043, -62.7473030090332, -39.85982131958008, -7.480273246765137, -47.7727165222168, -92.71552276611328, 101.0029525756836, 72.01922607421875, -101.55615234375, 6.719958305358887, -89.7407455444336, -35.77055740356445, -95.11864471435547, -27.55795669555664, -67.07128143310547, -79.11009979248047, -4.9211106300354, 76.20311737060547, 36.57258224487305, 26.628929138183594, -15.862940788269043], \"y\": [114.6801528930664, 86.18624114990234, 10.143461227416992, -35.250919342041016, 92.43466186523438, 55.85673141479492, -60.85651397705078, -100.98614501953125, -24.962766647338867, -54.325279235839844, 57.17224884033203, 73.86337280273438, 10.478948593139648, 73.39122009277344, -62.66124725341797, 18.841188430786133, 51.759368896484375, 96.7563705444336, -4.429000377655029, 35.5442008972168, -7.301331520080566, -79.67483520507812, 18.507736206054688, -81.96922302246094, 27.73493003845215, -28.265792846679688, 90.38309478759766, -14.150307655334473, -73.0226821899414, -11.504215240478516, -6.660063743591309, -70.25347137451172, -30.188861846923828, 47.46920394897461, -98.30609893798828, 34.953651428222656, 33.62776184082031, 10.662919998168945, 6.950899124145508, -11.653295516967773, 48.37450408935547, -26.691265106201172, -34.05780029296875, -13.042669296264648, -52.85203552246094, -56.48044967651367, 31.949569702148438, 16.785348892211914, -34.178768157958984, 8.568899154663086, 90.80528259277344, -32.762474060058594, 60.82623291015625, -55.15885543823242, -86.75237274169922, -54.95185852050781], \"type\": \"scatter\", \"uid\": \"ac8a0457-3bdf-47c8-8d71-ba865bca0cf1\"}], {}, {\"showLink\": false, \"linkText\": \"Export to plot.ly\", \"plotlyServerURL\": \"https://plot.ly\"}); \n",
       "}\n",
       "});</script><script type=\"text/javascript\">window.addEventListener(\"resize\", function(){if (document.getElementById(\"ba9bdce9-b8eb-4b3f-b5c2-c4c186f5047a\")) {window._Plotly.Plots.resize(document.getElementById(\"ba9bdce9-b8eb-4b3f-b5c2-c4c186f5047a\"));};})</script>"
      ]
     },
     "metadata": {},
     "output_type": "display_data"
    }
   ],
   "source": [
    "# 한국어 예시\n",
    "labels = [word for word in vectors_ko.vocab]\n",
    "vectors = [vectors_ko[word] for word in labels]\n",
    "\n",
    "visualize_embeddings(vectors, labels)"
   ]
  },
  {
   "cell_type": "code",
   "execution_count": 336,
   "metadata": {},
   "outputs": [
    {
     "data": {
      "text/plain": [
       "[('우리', 0.18357814848423004),\n",
       " ('쩌렁', 0.17851543426513672),\n",
       " ('자꾸', 0.17661643028259277)]"
      ]
     },
     "execution_count": 336,
     "metadata": {},
     "output_type": "execute_result"
    }
   ],
   "source": [
    "w2v_ko.wv.most_similar(positive=['청춘', '이상'], topn=3)"
   ]
  },
  {
   "cell_type": "code",
   "execution_count": 337,
   "metadata": {},
   "outputs": [
    {
     "data": {
      "text/plain": [
       "[('너', 0.24085015058517456),\n",
       " ('매일', 0.22824066877365112),\n",
       " ('아무', 0.2158772349357605)]"
      ]
     },
     "execution_count": 337,
     "metadata": {},
     "output_type": "execute_result"
    }
   ],
   "source": [
    "w2v_ko.wv.most_similar(positive=['청춘'], negative=['이상'], topn=3)"
   ]
  },
  {
   "cell_type": "code",
   "execution_count": 338,
   "metadata": {},
   "outputs": [
    {
     "data": {
      "text/plain": [
       "[('자꾸', 0.2426394373178482),\n",
       " ('거부', 0.16644002497196198),\n",
       " ('달콤', 0.1578788459300995)]"
      ]
     },
     "execution_count": 338,
     "metadata": {},
     "output_type": "execute_result"
    }
   ],
   "source": [
    "w2v_ko.wv.most_similar(positive=['청춘', '사랑'], topn=3)"
   ]
  },
  {
   "cell_type": "code",
   "execution_count": 340,
   "metadata": {},
   "outputs": [
    {
     "data": {
      "text/plain": [
       "[('쩌렁', 0.24117586016654968),\n",
       " ('아무', 0.17572994530200958),\n",
       " ('준비', 0.15204693377017975)]"
      ]
     },
     "execution_count": 340,
     "metadata": {},
     "output_type": "execute_result"
    }
   ],
   "source": [
    "w2v_ko.wv.most_similar(positive=['청춘'], negative=['사랑'], topn=3)"
   ]
  },
  {
   "cell_type": "code",
   "execution_count": 344,
   "metadata": {},
   "outputs": [
    {
     "data": {
      "text/plain": [
       "[('매일', 0.2140905261039734),\n",
       " ('너', 0.20670655369758606),\n",
       " ('사소', 0.16080278158187866)]"
      ]
     },
     "execution_count": 344,
     "metadata": {},
     "output_type": "execute_result"
    }
   ],
   "source": [
    "w2v_ko.wv.most_similar(positive=['청춘', '사랑'], negative=['이상'], topn=3)"
   ]
  },
  {
   "cell_type": "code",
   "execution_count": 339,
   "metadata": {},
   "outputs": [
    {
     "data": {
      "text/plain": [
       "[('너', 0.2511928081512451),\n",
       " ('쩌렁', 0.20078524947166443),\n",
       " ('매일', 0.19382727146148682)]"
      ]
     },
     "execution_count": 339,
     "metadata": {},
     "output_type": "execute_result"
    }
   ],
   "source": [
    "w2v_ko.wv.most_similar(positive=['청춘', '꿈'], topn=3)"
   ]
  },
  {
   "cell_type": "code",
   "execution_count": 346,
   "metadata": {},
   "outputs": [
    {
     "data": {
      "text/plain": [
       "[('쩌렁', 0.2457757592201233),\n",
       " ('준비', 0.1919165849685669),\n",
       " ('너', 0.18878716230392456)]"
      ]
     },
     "execution_count": 346,
     "metadata": {},
     "output_type": "execute_result"
    }
   ],
   "source": [
    "w2v_ko.wv.most_similar(positive=['청춘', '꿈'], negative=['사랑'], topn=3)"
   ]
  },
  {
   "cell_type": "code",
   "execution_count": 323,
   "metadata": {},
   "outputs": [
    {
     "name": "stderr",
     "output_type": "stream",
     "text": [
      "2019-04-23 16:00:13,315 : INFO : precomputing L2-norms of word weight vectors\n"
     ]
    },
    {
     "data": {
      "text/plain": [
       "[('너', 0.2012811005115509),\n",
       " ('쩌렁', 0.19223423302173615),\n",
       " ('아무', 0.18791252374649048),\n",
       " ('모두', 0.18108433485031128),\n",
       " ('거부', 0.1399013102054596),\n",
       " ('있어', 0.1257329136133194),\n",
       " ('자꾸', 0.11723458021879196),\n",
       " ('매일', 0.11033092439174652),\n",
       " ('사랑', 0.10599315166473389),\n",
       " ('하늘', 0.10538944602012634)]"
      ]
     },
     "execution_count": 323,
     "metadata": {},
     "output_type": "execute_result"
    }
   ],
   "source": [
    "w2v_ko.wv.most_similar(['청춘'])"
   ]
  },
  {
   "cell_type": "code",
   "execution_count": 324,
   "metadata": {},
   "outputs": [
    {
     "data": {
      "text/plain": [
       "[('꿔', 0.25926023721694946),\n",
       " ('멀리', 0.2127598077058792),\n",
       " ('거부', 0.21093915402889252),\n",
       " ('쩌렁', 0.1840948909521103),\n",
       " ('작업', 0.17772698402404785),\n",
       " ('매일', 0.17621026933193207),\n",
       " ('네', 0.1756512075662613),\n",
       " ('사소', 0.171067014336586),\n",
       " ('있어', 0.15519334375858307),\n",
       " ('하늘', 0.14969755709171295)]"
      ]
     },
     "execution_count": 324,
     "metadata": {},
     "output_type": "execute_result"
    }
   ],
   "source": [
    "w2v_ko.wv.most_similar(['거짓말'])"
   ]
  },
  {
   "cell_type": "code",
   "execution_count": 325,
   "metadata": {},
   "outputs": [
    {
     "data": {
      "text/plain": [
       "[('내', 0.27980220317840576),\n",
       " ('함께', 0.22473911941051483),\n",
       " ('전부', 0.22231543064117432),\n",
       " ('준비', 0.20952899754047394),\n",
       " ('하늘', 0.2063641995191574),\n",
       " ('말', 0.20554494857788086),\n",
       " ('어른들', 0.19966566562652588),\n",
       " ('행복', 0.17111042141914368),\n",
       " ('거부', 0.17105409502983093),\n",
       " ('네', 0.16873550415039062)]"
      ]
     },
     "execution_count": 325,
     "metadata": {},
     "output_type": "execute_result"
    }
   ],
   "source": [
    "w2v_ko.wv.most_similar(['눈물'])"
   ]
  },
  {
   "cell_type": "code",
   "execution_count": 326,
   "metadata": {},
   "outputs": [
    {
     "data": {
      "text/plain": [
       "[('꿈', 0.2412845492362976),\n",
       " ('쩌렁', 0.22397257387638092),\n",
       " ('내', 0.21039380133152008),\n",
       " ('잘', 0.19469007849693298),\n",
       " ('사소', 0.1904958337545395),\n",
       " ('네', 0.18744784593582153),\n",
       " ('매일', 0.18147645890712738),\n",
       " ('눈물', 0.17111042141914368),\n",
       " ('꿔', 0.15997441112995148),\n",
       " ('뭣', 0.13203249871730804)]"
      ]
     },
     "execution_count": 326,
     "metadata": {},
     "output_type": "execute_result"
    }
   ],
   "source": [
    "w2v_ko.wv.most_similar(['행복'])"
   ]
  },
  {
   "cell_type": "markdown",
   "metadata": {},
   "source": [
    "### Glove"
   ]
  },
  {
   "cell_type": "markdown",
   "metadata": {},
   "source": [
    "### FastText"
   ]
  },
  {
   "cell_type": "markdown",
   "metadata": {},
   "source": [
    "#### 영어 예시"
   ]
  },
  {
   "cell_type": "code",
   "execution_count": 347,
   "metadata": {},
   "outputs": [],
   "source": [
    "documents_en = [[\"my\", \"name\", \"is\", \"jamie\"], [\"jamie\", \"is\", \"cute\"]]"
   ]
  },
  {
   "cell_type": "code",
   "execution_count": 348,
   "metadata": {},
   "outputs": [
    {
     "name": "stderr",
     "output_type": "stream",
     "text": [
      "/Users/moodern/anaconda3/envs/deepnlp/lib/python3.7/site-packages/ipykernel_launcher.py:2: DeprecationWarning:\n",
      "\n",
      "Call to deprecated `most_similar` (Method will be removed in 4.0.0, use self.wv.most_similar() instead).\n",
      "\n",
      "2019-04-23 16:12:08,882 : INFO : precomputing L2-norms of word weight vectors\n"
     ]
    },
    {
     "ename": "KeyError",
     "evalue": "\"word 'jamia' not in vocabulary\"",
     "output_type": "error",
     "traceback": [
      "\u001b[0;31m---------------------------------------------------------------------------\u001b[0m",
      "\u001b[0;31mKeyError\u001b[0m                                  Traceback (most recent call last)",
      "\u001b[0;32m<ipython-input-348-12139b88e337>\u001b[0m in \u001b[0;36m<module>\u001b[0;34m\u001b[0m\n\u001b[1;32m      1\u001b[0m \u001b[0;31m# 워드투벡은 학습시 없었던 단어에 대해서는 계산해주지 못한다.\u001b[0m\u001b[0;34m\u001b[0m\u001b[0;34m\u001b[0m\u001b[0;34m\u001b[0m\u001b[0m\n\u001b[0;32m----> 2\u001b[0;31m \u001b[0mw2v_en\u001b[0m\u001b[0;34m.\u001b[0m\u001b[0mmost_similar\u001b[0m\u001b[0;34m(\u001b[0m\u001b[0;34m\"jamia\"\u001b[0m\u001b[0;34m)\u001b[0m\u001b[0;34m\u001b[0m\u001b[0;34m\u001b[0m\u001b[0m\n\u001b[0m",
      "\u001b[0;32m~/anaconda3/envs/deepnlp/lib/python3.7/site-packages/gensim/utils.py\u001b[0m in \u001b[0;36mnew_func1\u001b[0;34m(*args, **kwargs)\u001b[0m\n\u001b[1;32m   1396\u001b[0m                     \u001b[0mstacklevel\u001b[0m\u001b[0;34m=\u001b[0m\u001b[0;36m2\u001b[0m\u001b[0;34m\u001b[0m\u001b[0;34m\u001b[0m\u001b[0m\n\u001b[1;32m   1397\u001b[0m                 )\n\u001b[0;32m-> 1398\u001b[0;31m                 \u001b[0;32mreturn\u001b[0m \u001b[0mfunc\u001b[0m\u001b[0;34m(\u001b[0m\u001b[0;34m*\u001b[0m\u001b[0margs\u001b[0m\u001b[0;34m,\u001b[0m \u001b[0;34m**\u001b[0m\u001b[0mkwargs\u001b[0m\u001b[0;34m)\u001b[0m\u001b[0;34m\u001b[0m\u001b[0;34m\u001b[0m\u001b[0m\n\u001b[0m\u001b[1;32m   1399\u001b[0m \u001b[0;34m\u001b[0m\u001b[0m\n\u001b[1;32m   1400\u001b[0m             \u001b[0;32mreturn\u001b[0m \u001b[0mnew_func1\u001b[0m\u001b[0;34m\u001b[0m\u001b[0;34m\u001b[0m\u001b[0m\n",
      "\u001b[0;32m~/anaconda3/envs/deepnlp/lib/python3.7/site-packages/gensim/models/base_any2vec.py\u001b[0m in \u001b[0;36mmost_similar\u001b[0;34m(self, positive, negative, topn, restrict_vocab, indexer)\u001b[0m\n\u001b[1;32m    694\u001b[0m         \u001b[0mRefer\u001b[0m \u001b[0mto\u001b[0m \u001b[0mthe\u001b[0m \u001b[0mdocumentation\u001b[0m \u001b[0;32mfor\u001b[0m\u001b[0;31m \u001b[0m\u001b[0;31m`\u001b[0m\u001b[0mgensim\u001b[0m\u001b[0;34m.\u001b[0m\u001b[0mmodels\u001b[0m\u001b[0;34m.\u001b[0m\u001b[0mkeyedvectors\u001b[0m\u001b[0;34m.\u001b[0m\u001b[0mWordEmbeddingsKeyedVectors\u001b[0m\u001b[0;34m.\u001b[0m\u001b[0mmost_similar\u001b[0m\u001b[0;31m`\u001b[0m\u001b[0;34m\u001b[0m\u001b[0;34m\u001b[0m\u001b[0m\n\u001b[1;32m    695\u001b[0m         \"\"\"\n\u001b[0;32m--> 696\u001b[0;31m         \u001b[0;32mreturn\u001b[0m \u001b[0mself\u001b[0m\u001b[0;34m.\u001b[0m\u001b[0mwv\u001b[0m\u001b[0;34m.\u001b[0m\u001b[0mmost_similar\u001b[0m\u001b[0;34m(\u001b[0m\u001b[0mpositive\u001b[0m\u001b[0;34m,\u001b[0m \u001b[0mnegative\u001b[0m\u001b[0;34m,\u001b[0m \u001b[0mtopn\u001b[0m\u001b[0;34m,\u001b[0m \u001b[0mrestrict_vocab\u001b[0m\u001b[0;34m,\u001b[0m \u001b[0mindexer\u001b[0m\u001b[0;34m)\u001b[0m\u001b[0;34m\u001b[0m\u001b[0;34m\u001b[0m\u001b[0m\n\u001b[0m\u001b[1;32m    697\u001b[0m \u001b[0;34m\u001b[0m\u001b[0m\n\u001b[1;32m    698\u001b[0m     \u001b[0;34m@\u001b[0m\u001b[0mdeprecated\u001b[0m\u001b[0;34m(\u001b[0m\u001b[0;34m\"Method will be removed in 4.0.0, use self.wv.wmdistance() instead\"\u001b[0m\u001b[0;34m)\u001b[0m\u001b[0;34m\u001b[0m\u001b[0;34m\u001b[0m\u001b[0m\n",
      "\u001b[0;32m~/anaconda3/envs/deepnlp/lib/python3.7/site-packages/gensim/models/keyedvectors.py\u001b[0m in \u001b[0;36mmost_similar\u001b[0;34m(self, positive, negative, topn, restrict_vocab, indexer)\u001b[0m\n\u001b[1;32m    363\u001b[0m                 \u001b[0mmean\u001b[0m\u001b[0;34m.\u001b[0m\u001b[0mappend\u001b[0m\u001b[0;34m(\u001b[0m\u001b[0mweight\u001b[0m \u001b[0;34m*\u001b[0m \u001b[0mword\u001b[0m\u001b[0;34m)\u001b[0m\u001b[0;34m\u001b[0m\u001b[0;34m\u001b[0m\u001b[0m\n\u001b[1;32m    364\u001b[0m             \u001b[0;32melse\u001b[0m\u001b[0;34m:\u001b[0m\u001b[0;34m\u001b[0m\u001b[0;34m\u001b[0m\u001b[0m\n\u001b[0;32m--> 365\u001b[0;31m                 \u001b[0mmean\u001b[0m\u001b[0;34m.\u001b[0m\u001b[0mappend\u001b[0m\u001b[0;34m(\u001b[0m\u001b[0mweight\u001b[0m \u001b[0;34m*\u001b[0m \u001b[0mself\u001b[0m\u001b[0;34m.\u001b[0m\u001b[0mword_vec\u001b[0m\u001b[0;34m(\u001b[0m\u001b[0mword\u001b[0m\u001b[0;34m,\u001b[0m \u001b[0muse_norm\u001b[0m\u001b[0;34m=\u001b[0m\u001b[0;32mTrue\u001b[0m\u001b[0;34m)\u001b[0m\u001b[0;34m)\u001b[0m\u001b[0;34m\u001b[0m\u001b[0;34m\u001b[0m\u001b[0m\n\u001b[0m\u001b[1;32m    366\u001b[0m                 \u001b[0;32mif\u001b[0m \u001b[0mword\u001b[0m \u001b[0;32min\u001b[0m \u001b[0mself\u001b[0m\u001b[0;34m.\u001b[0m\u001b[0mvocab\u001b[0m\u001b[0;34m:\u001b[0m\u001b[0;34m\u001b[0m\u001b[0;34m\u001b[0m\u001b[0m\n\u001b[1;32m    367\u001b[0m                     \u001b[0mall_words\u001b[0m\u001b[0;34m.\u001b[0m\u001b[0madd\u001b[0m\u001b[0;34m(\u001b[0m\u001b[0mself\u001b[0m\u001b[0;34m.\u001b[0m\u001b[0mvocab\u001b[0m\u001b[0;34m[\u001b[0m\u001b[0mword\u001b[0m\u001b[0;34m]\u001b[0m\u001b[0;34m.\u001b[0m\u001b[0mindex\u001b[0m\u001b[0;34m)\u001b[0m\u001b[0;34m\u001b[0m\u001b[0;34m\u001b[0m\u001b[0m\n",
      "\u001b[0;32m~/anaconda3/envs/deepnlp/lib/python3.7/site-packages/gensim/models/keyedvectors.py\u001b[0m in \u001b[0;36mword_vec\u001b[0;34m(self, word, use_norm)\u001b[0m\n\u001b[1;32m    272\u001b[0m             \u001b[0;32mreturn\u001b[0m \u001b[0mresult\u001b[0m\u001b[0;34m\u001b[0m\u001b[0;34m\u001b[0m\u001b[0m\n\u001b[1;32m    273\u001b[0m         \u001b[0;32melse\u001b[0m\u001b[0;34m:\u001b[0m\u001b[0;34m\u001b[0m\u001b[0;34m\u001b[0m\u001b[0m\n\u001b[0;32m--> 274\u001b[0;31m             \u001b[0;32mraise\u001b[0m \u001b[0mKeyError\u001b[0m\u001b[0;34m(\u001b[0m\u001b[0;34m\"word '%s' not in vocabulary\"\u001b[0m \u001b[0;34m%\u001b[0m \u001b[0mword\u001b[0m\u001b[0;34m)\u001b[0m\u001b[0;34m\u001b[0m\u001b[0;34m\u001b[0m\u001b[0m\n\u001b[0m\u001b[1;32m    275\u001b[0m \u001b[0;34m\u001b[0m\u001b[0m\n\u001b[1;32m    276\u001b[0m     \u001b[0;32mdef\u001b[0m \u001b[0mget_vector\u001b[0m\u001b[0;34m(\u001b[0m\u001b[0mself\u001b[0m\u001b[0;34m,\u001b[0m \u001b[0mword\u001b[0m\u001b[0;34m)\u001b[0m\u001b[0;34m:\u001b[0m\u001b[0;34m\u001b[0m\u001b[0;34m\u001b[0m\u001b[0m\n",
      "\u001b[0;31mKeyError\u001b[0m: \"word 'jamia' not in vocabulary\""
     ]
    }
   ],
   "source": [
    "# 워드투벡은 학습시 없었던 단어에 대해서는 계산해주지 못한다.\n",
    "w2v_en.most_similar(\"jamia\")"
   ]
  },
  {
   "cell_type": "code",
   "execution_count": 349,
   "metadata": {},
   "outputs": [],
   "source": [
    "from gensim.models import FastText\n",
    "\n",
    "ft_en = FastText(size=4, window=3, min_count=1)"
   ]
  },
  {
   "cell_type": "code",
   "execution_count": 350,
   "metadata": {},
   "outputs": [
    {
     "name": "stderr",
     "output_type": "stream",
     "text": [
      "2019-04-23 16:12:18,851 : INFO : collecting all words and their counts\n",
      "2019-04-23 16:12:18,852 : INFO : PROGRESS: at sentence #0, processed 0 words, keeping 0 word types\n",
      "2019-04-23 16:12:18,853 : INFO : collected 5 word types from a corpus of 7 raw words and 2 sentences\n",
      "2019-04-23 16:12:18,854 : INFO : Loading a fresh vocabulary\n",
      "2019-04-23 16:12:18,855 : INFO : min_count=1 retains 5 unique words (100% of original 5, drops 0)\n",
      "2019-04-23 16:12:18,856 : INFO : min_count=1 leaves 7 word corpus (100% of original 7, drops 0)\n",
      "2019-04-23 16:12:18,856 : INFO : deleting the raw counts dictionary of 5 items\n",
      "2019-04-23 16:12:18,857 : INFO : sample=0.001 downsamples 5 most-common words\n",
      "2019-04-23 16:12:18,858 : INFO : downsampling leaves estimated 0 word corpus (7.5% of prior 7)\n",
      "2019-04-23 16:12:18,859 : INFO : estimated required memory for 5 words, 40 buckets and 4 dimensions: 3860 bytes\n",
      "2019-04-23 16:12:18,861 : INFO : resetting layer weights\n",
      "2019-04-23 16:12:18,878 : INFO : Total number of ngrams is 40\n"
     ]
    }
   ],
   "source": [
    "ft_en.build_vocab(documents_en)"
   ]
  },
  {
   "cell_type": "code",
   "execution_count": 351,
   "metadata": {},
   "outputs": [
    {
     "name": "stderr",
     "output_type": "stream",
     "text": [
      "2019-04-23 16:12:22,920 : INFO : training model with 3 workers on 5 vocabulary and 4 features, using sg=0 hs=0 sample=0.001 negative=5 window=3\n",
      "2019-04-23 16:12:22,923 : INFO : worker thread finished; awaiting finish of 2 more threads\n",
      "2019-04-23 16:12:22,924 : INFO : worker thread finished; awaiting finish of 1 more threads\n",
      "2019-04-23 16:12:22,924 : INFO : worker thread finished; awaiting finish of 0 more threads\n",
      "2019-04-23 16:12:22,925 : INFO : EPOCH - 1 : training on 7 raw words (0 effective words) took 0.0s, 0 effective words/s\n",
      "2019-04-23 16:12:22,928 : INFO : worker thread finished; awaiting finish of 2 more threads\n",
      "2019-04-23 16:12:22,929 : INFO : worker thread finished; awaiting finish of 1 more threads\n",
      "2019-04-23 16:12:22,930 : INFO : worker thread finished; awaiting finish of 0 more threads\n",
      "2019-04-23 16:12:22,930 : INFO : EPOCH - 2 : training on 7 raw words (0 effective words) took 0.0s, 0 effective words/s\n",
      "2019-04-23 16:12:22,933 : INFO : worker thread finished; awaiting finish of 2 more threads\n",
      "2019-04-23 16:12:22,934 : INFO : worker thread finished; awaiting finish of 1 more threads\n",
      "2019-04-23 16:12:22,935 : INFO : worker thread finished; awaiting finish of 0 more threads\n",
      "2019-04-23 16:12:22,935 : INFO : EPOCH - 3 : training on 7 raw words (1 effective words) took 0.0s, 397 effective words/s\n",
      "2019-04-23 16:12:22,938 : INFO : worker thread finished; awaiting finish of 2 more threads\n",
      "2019-04-23 16:12:22,939 : INFO : worker thread finished; awaiting finish of 1 more threads\n",
      "2019-04-23 16:12:22,940 : INFO : worker thread finished; awaiting finish of 0 more threads\n",
      "2019-04-23 16:12:22,941 : INFO : EPOCH - 4 : training on 7 raw words (1 effective words) took 0.0s, 364 effective words/s\n",
      "2019-04-23 16:12:22,943 : INFO : worker thread finished; awaiting finish of 2 more threads\n",
      "2019-04-23 16:12:22,944 : INFO : worker thread finished; awaiting finish of 1 more threads\n",
      "2019-04-23 16:12:22,945 : INFO : worker thread finished; awaiting finish of 0 more threads\n",
      "2019-04-23 16:12:22,946 : INFO : EPOCH - 5 : training on 7 raw words (0 effective words) took 0.0s, 0 effective words/s\n",
      "2019-04-23 16:12:22,948 : INFO : worker thread finished; awaiting finish of 2 more threads\n",
      "2019-04-23 16:12:22,949 : INFO : worker thread finished; awaiting finish of 1 more threads\n",
      "2019-04-23 16:12:22,950 : INFO : worker thread finished; awaiting finish of 0 more threads\n",
      "2019-04-23 16:12:22,950 : INFO : EPOCH - 6 : training on 7 raw words (0 effective words) took 0.0s, 0 effective words/s\n",
      "2019-04-23 16:12:22,952 : INFO : worker thread finished; awaiting finish of 2 more threads\n",
      "2019-04-23 16:12:22,953 : INFO : worker thread finished; awaiting finish of 1 more threads\n",
      "2019-04-23 16:12:22,954 : INFO : worker thread finished; awaiting finish of 0 more threads\n",
      "2019-04-23 16:12:22,955 : INFO : EPOCH - 7 : training on 7 raw words (0 effective words) took 0.0s, 0 effective words/s\n",
      "2019-04-23 16:12:22,957 : INFO : worker thread finished; awaiting finish of 2 more threads\n",
      "2019-04-23 16:12:22,958 : INFO : worker thread finished; awaiting finish of 1 more threads\n",
      "2019-04-23 16:12:22,959 : INFO : worker thread finished; awaiting finish of 0 more threads\n",
      "2019-04-23 16:12:22,959 : INFO : EPOCH - 8 : training on 7 raw words (1 effective words) took 0.0s, 411 effective words/s\n",
      "2019-04-23 16:12:22,962 : INFO : worker thread finished; awaiting finish of 2 more threads\n",
      "2019-04-23 16:12:22,963 : INFO : worker thread finished; awaiting finish of 1 more threads\n",
      "2019-04-23 16:12:22,963 : INFO : worker thread finished; awaiting finish of 0 more threads\n",
      "2019-04-23 16:12:22,964 : INFO : EPOCH - 9 : training on 7 raw words (0 effective words) took 0.0s, 0 effective words/s\n",
      "2019-04-23 16:12:22,966 : INFO : worker thread finished; awaiting finish of 2 more threads\n",
      "2019-04-23 16:12:22,967 : INFO : worker thread finished; awaiting finish of 1 more threads\n",
      "2019-04-23 16:12:22,968 : INFO : worker thread finished; awaiting finish of 0 more threads\n",
      "2019-04-23 16:12:22,969 : INFO : EPOCH - 10 : training on 7 raw words (0 effective words) took 0.0s, 0 effective words/s\n",
      "2019-04-23 16:12:22,970 : INFO : training on a 70 raw words (3 effective words) took 0.0s, 62 effective words/s\n",
      "2019-04-23 16:12:22,971 : WARNING : under 10 jobs per worker: consider setting a smaller `batch_words' for smoother alpha decay\n"
     ]
    }
   ],
   "source": [
    "ft_en.train(sentences=documents_en, total_examples=len(documents_en), epochs=10)  # train"
   ]
  },
  {
   "cell_type": "code",
   "execution_count": 352,
   "metadata": {},
   "outputs": [
    {
     "name": "stderr",
     "output_type": "stream",
     "text": [
      "2019-04-23 16:12:28,032 : INFO : precomputing L2-norms of word weight vectors\n",
      "2019-04-23 16:12:28,033 : INFO : precomputing L2-norms of ngram weight vectors\n"
     ]
    },
    {
     "data": {
      "text/plain": [
       "[('my', 0.8944276571273804),\n",
       " ('jamie', 0.7871583104133606),\n",
       " ('name', 0.3816155791282654),\n",
       " ('is', 0.3451642394065857),\n",
       " ('cute', 0.30520403385162354)]"
      ]
     },
     "execution_count": 352,
     "metadata": {},
     "output_type": "execute_result"
    }
   ],
   "source": [
    "# FastText는 학습시 없었던 단어에 대해서도 계산해준다.\n",
    "ft_en.wv.most_similar(\"jamia\")"
   ]
  },
  {
   "cell_type": "code",
   "execution_count": 354,
   "metadata": {},
   "outputs": [
    {
     "name": "stderr",
     "output_type": "stream",
     "text": [
      "2019-04-23 16:17:28,681 : INFO : starting tSNE dimensionality reduction. This may take some time.\n",
      "2019-04-23 16:17:28,819 : INFO : All done. Plotting.\n"
     ]
    },
    {
     "data": {
      "text/html": [
       "<script type=\"text/javascript\">window.PlotlyConfig = {MathJaxConfig: 'local'};</script><script type=\"text/javascript\">if (window.MathJax) {MathJax.Hub.Config({SVG: {font: \"STIX-Web\"}});}</script><script>requirejs.config({paths: { 'plotly': ['https://cdn.plot.ly/plotly-latest.min']},});if(!window._Plotly) {require(['plotly'],function(plotly) {window._Plotly=plotly;});}</script>"
      ],
      "text/vnd.plotly.v1+html": [
       "<script type=\"text/javascript\">window.PlotlyConfig = {MathJaxConfig: 'local'};</script><script type=\"text/javascript\">if (window.MathJax) {MathJax.Hub.Config({SVG: {font: \"STIX-Web\"}});}</script><script>requirejs.config({paths: { 'plotly': ['https://cdn.plot.ly/plotly-latest.min']},});if(!window._Plotly) {require(['plotly'],function(plotly) {window._Plotly=plotly;});}</script>"
      ]
     },
     "metadata": {},
     "output_type": "display_data"
    },
    {
     "data": {
      "application/vnd.plotly.v1+json": {
       "config": {
        "linkText": "Export to plot.ly",
        "plotlyServerURL": "https://plot.ly",
        "showLink": false
       },
       "data": [
        {
         "mode": "text",
         "text": [
          "my",
          "name",
          "is",
          "jamie",
          "cute"
         ],
         "type": "scatter",
         "uid": "772729c1-2935-4e2d-ba3d-75fc6317c60c",
         "x": [
          58.887428283691406,
          50.34069061279297,
          129.97242736816406,
          125.4763412475586,
          29.455793380737305
         ],
         "y": [
          -138.66778564453125,
          9.897323608398438,
          -99.27764129638672,
          -21.076669692993164,
          -65.83253479003906
         ]
        }
       ],
       "layout": {}
      },
      "text/html": [
       "<div id=\"aea09a5c-0b15-46eb-bbdf-4b99dcd2c0b7\" style=\"height: 525px; width: 100%;\" class=\"plotly-graph-div\"></div><script type=\"text/javascript\">require([\"plotly\"], function(Plotly) { window.PLOTLYENV=window.PLOTLYENV || {};window.PLOTLYENV.BASE_URL=\"https://plot.ly\";\n",
       "if (document.getElementById(\"aea09a5c-0b15-46eb-bbdf-4b99dcd2c0b7\")) {\n",
       "    Plotly.newPlot(\"aea09a5c-0b15-46eb-bbdf-4b99dcd2c0b7\", [{\"mode\": \"text\", \"text\": [\"my\", \"name\", \"is\", \"jamie\", \"cute\"], \"x\": [58.887428283691406, 50.34069061279297, 129.97242736816406, 125.4763412475586, 29.455793380737305], \"y\": [-138.66778564453125, 9.897323608398438, -99.27764129638672, -21.076669692993164, -65.83253479003906], \"type\": \"scatter\", \"uid\": \"9f76f3eb-60e6-4048-91ab-b70be79ad804\"}], {}, {\"showLink\": false, \"linkText\": \"Export to plot.ly\", \"plotlyServerURL\": \"https://plot.ly\"}); \n",
       "}\n",
       "});</script><script type=\"text/javascript\">window.addEventListener(\"resize\", function(){if (document.getElementById(\"aea09a5c-0b15-46eb-bbdf-4b99dcd2c0b7\")) {window._Plotly.Plots.resize(document.getElementById(\"aea09a5c-0b15-46eb-bbdf-4b99dcd2c0b7\"));};})</script>"
      ],
      "text/vnd.plotly.v1+html": [
       "<div id=\"aea09a5c-0b15-46eb-bbdf-4b99dcd2c0b7\" style=\"height: 525px; width: 100%;\" class=\"plotly-graph-div\"></div><script type=\"text/javascript\">require([\"plotly\"], function(Plotly) { window.PLOTLYENV=window.PLOTLYENV || {};window.PLOTLYENV.BASE_URL=\"https://plot.ly\";\n",
       "if (document.getElementById(\"aea09a5c-0b15-46eb-bbdf-4b99dcd2c0b7\")) {\n",
       "    Plotly.newPlot(\"aea09a5c-0b15-46eb-bbdf-4b99dcd2c0b7\", [{\"mode\": \"text\", \"text\": [\"my\", \"name\", \"is\", \"jamie\", \"cute\"], \"x\": [58.887428283691406, 50.34069061279297, 129.97242736816406, 125.4763412475586, 29.455793380737305], \"y\": [-138.66778564453125, 9.897323608398438, -99.27764129638672, -21.076669692993164, -65.83253479003906], \"type\": \"scatter\", \"uid\": \"9f76f3eb-60e6-4048-91ab-b70be79ad804\"}], {}, {\"showLink\": false, \"linkText\": \"Export to plot.ly\", \"plotlyServerURL\": \"https://plot.ly\"}); \n",
       "}\n",
       "});</script><script type=\"text/javascript\">window.addEventListener(\"resize\", function(){if (document.getElementById(\"aea09a5c-0b15-46eb-bbdf-4b99dcd2c0b7\")) {window._Plotly.Plots.resize(document.getElementById(\"aea09a5c-0b15-46eb-bbdf-4b99dcd2c0b7\"));};})</script>"
      ]
     },
     "metadata": {},
     "output_type": "display_data"
    }
   ],
   "source": [
    "labels = [word for word in ft_en.wv.vocab]\n",
    "vectors = [ft_en.wv[word] for word in labels]\n",
    "\n",
    "visualize_embeddings(vectors, labels)"
   ]
  },
  {
   "cell_type": "markdown",
   "metadata": {},
   "source": [
    "#### 한국어 예시"
   ]
  },
  {
   "cell_type": "code",
   "execution_count": 355,
   "metadata": {},
   "outputs": [
    {
     "name": "stderr",
     "output_type": "stream",
     "text": [
      "/Users/moodern/anaconda3/envs/deepnlp/lib/python3.7/site-packages/ipykernel_launcher.py:2: DeprecationWarning:\n",
      "\n",
      "Call to deprecated `most_similar` (Method will be removed in 4.0.0, use self.wv.most_similar() instead).\n",
      "\n"
     ]
    },
    {
     "ename": "KeyError",
     "evalue": "\"word '사람' not in vocabulary\"",
     "output_type": "error",
     "traceback": [
      "\u001b[0;31m---------------------------------------------------------------------------\u001b[0m",
      "\u001b[0;31mKeyError\u001b[0m                                  Traceback (most recent call last)",
      "\u001b[0;32m<ipython-input-355-ad22c798c5f9>\u001b[0m in \u001b[0;36m<module>\u001b[0;34m\u001b[0m\n\u001b[1;32m      1\u001b[0m \u001b[0;31m# 워드투벡은 학습시 없었던 단어에 대해서는 계산해주지 못한다.\u001b[0m\u001b[0;34m\u001b[0m\u001b[0;34m\u001b[0m\u001b[0;34m\u001b[0m\u001b[0m\n\u001b[0;32m----> 2\u001b[0;31m \u001b[0mw2v_ko\u001b[0m\u001b[0;34m.\u001b[0m\u001b[0mmost_similar\u001b[0m\u001b[0;34m(\u001b[0m\u001b[0;34m\"사람\"\u001b[0m\u001b[0;34m)\u001b[0m\u001b[0;34m\u001b[0m\u001b[0;34m\u001b[0m\u001b[0m\n\u001b[0m",
      "\u001b[0;32m~/anaconda3/envs/deepnlp/lib/python3.7/site-packages/gensim/utils.py\u001b[0m in \u001b[0;36mnew_func1\u001b[0;34m(*args, **kwargs)\u001b[0m\n\u001b[1;32m   1396\u001b[0m                     \u001b[0mstacklevel\u001b[0m\u001b[0;34m=\u001b[0m\u001b[0;36m2\u001b[0m\u001b[0;34m\u001b[0m\u001b[0;34m\u001b[0m\u001b[0m\n\u001b[1;32m   1397\u001b[0m                 )\n\u001b[0;32m-> 1398\u001b[0;31m                 \u001b[0;32mreturn\u001b[0m \u001b[0mfunc\u001b[0m\u001b[0;34m(\u001b[0m\u001b[0;34m*\u001b[0m\u001b[0margs\u001b[0m\u001b[0;34m,\u001b[0m \u001b[0;34m**\u001b[0m\u001b[0mkwargs\u001b[0m\u001b[0;34m)\u001b[0m\u001b[0;34m\u001b[0m\u001b[0;34m\u001b[0m\u001b[0m\n\u001b[0m\u001b[1;32m   1399\u001b[0m \u001b[0;34m\u001b[0m\u001b[0m\n\u001b[1;32m   1400\u001b[0m             \u001b[0;32mreturn\u001b[0m \u001b[0mnew_func1\u001b[0m\u001b[0;34m\u001b[0m\u001b[0;34m\u001b[0m\u001b[0m\n",
      "\u001b[0;32m~/anaconda3/envs/deepnlp/lib/python3.7/site-packages/gensim/models/base_any2vec.py\u001b[0m in \u001b[0;36mmost_similar\u001b[0;34m(self, positive, negative, topn, restrict_vocab, indexer)\u001b[0m\n\u001b[1;32m    694\u001b[0m         \u001b[0mRefer\u001b[0m \u001b[0mto\u001b[0m \u001b[0mthe\u001b[0m \u001b[0mdocumentation\u001b[0m \u001b[0;32mfor\u001b[0m\u001b[0;31m \u001b[0m\u001b[0;31m`\u001b[0m\u001b[0mgensim\u001b[0m\u001b[0;34m.\u001b[0m\u001b[0mmodels\u001b[0m\u001b[0;34m.\u001b[0m\u001b[0mkeyedvectors\u001b[0m\u001b[0;34m.\u001b[0m\u001b[0mWordEmbeddingsKeyedVectors\u001b[0m\u001b[0;34m.\u001b[0m\u001b[0mmost_similar\u001b[0m\u001b[0;31m`\u001b[0m\u001b[0;34m\u001b[0m\u001b[0;34m\u001b[0m\u001b[0m\n\u001b[1;32m    695\u001b[0m         \"\"\"\n\u001b[0;32m--> 696\u001b[0;31m         \u001b[0;32mreturn\u001b[0m \u001b[0mself\u001b[0m\u001b[0;34m.\u001b[0m\u001b[0mwv\u001b[0m\u001b[0;34m.\u001b[0m\u001b[0mmost_similar\u001b[0m\u001b[0;34m(\u001b[0m\u001b[0mpositive\u001b[0m\u001b[0;34m,\u001b[0m \u001b[0mnegative\u001b[0m\u001b[0;34m,\u001b[0m \u001b[0mtopn\u001b[0m\u001b[0;34m,\u001b[0m \u001b[0mrestrict_vocab\u001b[0m\u001b[0;34m,\u001b[0m \u001b[0mindexer\u001b[0m\u001b[0;34m)\u001b[0m\u001b[0;34m\u001b[0m\u001b[0;34m\u001b[0m\u001b[0m\n\u001b[0m\u001b[1;32m    697\u001b[0m \u001b[0;34m\u001b[0m\u001b[0m\n\u001b[1;32m    698\u001b[0m     \u001b[0;34m@\u001b[0m\u001b[0mdeprecated\u001b[0m\u001b[0;34m(\u001b[0m\u001b[0;34m\"Method will be removed in 4.0.0, use self.wv.wmdistance() instead\"\u001b[0m\u001b[0;34m)\u001b[0m\u001b[0;34m\u001b[0m\u001b[0;34m\u001b[0m\u001b[0m\n",
      "\u001b[0;32m~/anaconda3/envs/deepnlp/lib/python3.7/site-packages/gensim/models/keyedvectors.py\u001b[0m in \u001b[0;36mmost_similar\u001b[0;34m(self, positive, negative, topn, restrict_vocab, indexer)\u001b[0m\n\u001b[1;32m    363\u001b[0m                 \u001b[0mmean\u001b[0m\u001b[0;34m.\u001b[0m\u001b[0mappend\u001b[0m\u001b[0;34m(\u001b[0m\u001b[0mweight\u001b[0m \u001b[0;34m*\u001b[0m \u001b[0mword\u001b[0m\u001b[0;34m)\u001b[0m\u001b[0;34m\u001b[0m\u001b[0;34m\u001b[0m\u001b[0m\n\u001b[1;32m    364\u001b[0m             \u001b[0;32melse\u001b[0m\u001b[0;34m:\u001b[0m\u001b[0;34m\u001b[0m\u001b[0;34m\u001b[0m\u001b[0m\n\u001b[0;32m--> 365\u001b[0;31m                 \u001b[0mmean\u001b[0m\u001b[0;34m.\u001b[0m\u001b[0mappend\u001b[0m\u001b[0;34m(\u001b[0m\u001b[0mweight\u001b[0m \u001b[0;34m*\u001b[0m \u001b[0mself\u001b[0m\u001b[0;34m.\u001b[0m\u001b[0mword_vec\u001b[0m\u001b[0;34m(\u001b[0m\u001b[0mword\u001b[0m\u001b[0;34m,\u001b[0m \u001b[0muse_norm\u001b[0m\u001b[0;34m=\u001b[0m\u001b[0;32mTrue\u001b[0m\u001b[0;34m)\u001b[0m\u001b[0;34m)\u001b[0m\u001b[0;34m\u001b[0m\u001b[0;34m\u001b[0m\u001b[0m\n\u001b[0m\u001b[1;32m    366\u001b[0m                 \u001b[0;32mif\u001b[0m \u001b[0mword\u001b[0m \u001b[0;32min\u001b[0m \u001b[0mself\u001b[0m\u001b[0;34m.\u001b[0m\u001b[0mvocab\u001b[0m\u001b[0;34m:\u001b[0m\u001b[0;34m\u001b[0m\u001b[0;34m\u001b[0m\u001b[0m\n\u001b[1;32m    367\u001b[0m                     \u001b[0mall_words\u001b[0m\u001b[0;34m.\u001b[0m\u001b[0madd\u001b[0m\u001b[0;34m(\u001b[0m\u001b[0mself\u001b[0m\u001b[0;34m.\u001b[0m\u001b[0mvocab\u001b[0m\u001b[0;34m[\u001b[0m\u001b[0mword\u001b[0m\u001b[0;34m]\u001b[0m\u001b[0;34m.\u001b[0m\u001b[0mindex\u001b[0m\u001b[0;34m)\u001b[0m\u001b[0;34m\u001b[0m\u001b[0;34m\u001b[0m\u001b[0m\n",
      "\u001b[0;32m~/anaconda3/envs/deepnlp/lib/python3.7/site-packages/gensim/models/keyedvectors.py\u001b[0m in \u001b[0;36mword_vec\u001b[0;34m(self, word, use_norm)\u001b[0m\n\u001b[1;32m    272\u001b[0m             \u001b[0;32mreturn\u001b[0m \u001b[0mresult\u001b[0m\u001b[0;34m\u001b[0m\u001b[0;34m\u001b[0m\u001b[0m\n\u001b[1;32m    273\u001b[0m         \u001b[0;32melse\u001b[0m\u001b[0;34m:\u001b[0m\u001b[0;34m\u001b[0m\u001b[0;34m\u001b[0m\u001b[0m\n\u001b[0;32m--> 274\u001b[0;31m             \u001b[0;32mraise\u001b[0m \u001b[0mKeyError\u001b[0m\u001b[0;34m(\u001b[0m\u001b[0;34m\"word '%s' not in vocabulary\"\u001b[0m \u001b[0;34m%\u001b[0m \u001b[0mword\u001b[0m\u001b[0;34m)\u001b[0m\u001b[0;34m\u001b[0m\u001b[0;34m\u001b[0m\u001b[0m\n\u001b[0m\u001b[1;32m    275\u001b[0m \u001b[0;34m\u001b[0m\u001b[0m\n\u001b[1;32m    276\u001b[0m     \u001b[0;32mdef\u001b[0m \u001b[0mget_vector\u001b[0m\u001b[0;34m(\u001b[0m\u001b[0mself\u001b[0m\u001b[0;34m,\u001b[0m \u001b[0mword\u001b[0m\u001b[0;34m)\u001b[0m\u001b[0;34m:\u001b[0m\u001b[0;34m\u001b[0m\u001b[0;34m\u001b[0m\u001b[0m\n",
      "\u001b[0;31mKeyError\u001b[0m: \"word '사람' not in vocabulary\""
     ]
    }
   ],
   "source": [
    "# 워드투벡은 학습시 없었던 단어에 대해서는 계산해주지 못한다.\n",
    "w2v_ko.most_similar(\"사람\")"
   ]
  },
  {
   "cell_type": "code",
   "execution_count": 365,
   "metadata": {},
   "outputs": [
    {
     "name": "stderr",
     "output_type": "stream",
     "text": [
      "2019-04-23 16:29:44,576 : INFO : collecting all words and their counts\n",
      "2019-04-23 16:29:44,577 : WARNING : Each 'sentences' item should be a list of words (usually unicode strings). First item here is instead plain <class 'str'>.\n",
      "2019-04-23 16:29:44,578 : INFO : PROGRESS: at sentence #0, processed 0 words, keeping 0 word types\n",
      "2019-04-23 16:29:44,580 : INFO : collected 531 word types from a corpus of 10160 raw words and 9 sentences\n",
      "2019-04-23 16:29:44,581 : INFO : Loading a fresh vocabulary\n",
      "2019-04-23 16:29:44,583 : INFO : min_count=1 retains 531 unique words (100% of original 531, drops 0)\n",
      "2019-04-23 16:29:44,584 : INFO : min_count=1 leaves 10160 word corpus (100% of original 10160, drops 0)\n",
      "2019-04-23 16:29:44,587 : INFO : deleting the raw counts dictionary of 531 items\n",
      "2019-04-23 16:29:44,588 : INFO : sample=0.001 downsamples 64 most-common words\n",
      "2019-04-23 16:29:44,589 : INFO : downsampling leaves estimated 4984 word corpus (49.1% of prior 10160)\n",
      "2019-04-23 16:29:44,601 : INFO : estimated required memory for 531 words, 530 buckets and 4 dimensions: 320708 bytes\n",
      "2019-04-23 16:29:44,602 : INFO : resetting layer weights\n",
      "2019-04-23 16:29:44,618 : INFO : Total number of ngrams is 530\n",
      "2019-04-23 16:29:44,629 : INFO : training model with 3 workers on 531 vocabulary and 4 features, using sg=0 hs=0 sample=0.001 negative=5 window=3\n",
      "2019-04-23 16:29:44,640 : INFO : worker thread finished; awaiting finish of 2 more threads\n",
      "2019-04-23 16:29:44,644 : INFO : worker thread finished; awaiting finish of 1 more threads\n",
      "2019-04-23 16:29:44,647 : INFO : worker thread finished; awaiting finish of 0 more threads\n",
      "2019-04-23 16:29:44,648 : INFO : EPOCH - 1 : training on 10160 raw words (4971 effective words) took 0.0s, 295470 effective words/s\n",
      "2019-04-23 16:29:44,665 : INFO : worker thread finished; awaiting finish of 2 more threads\n",
      "2019-04-23 16:29:44,668 : INFO : worker thread finished; awaiting finish of 1 more threads\n",
      "2019-04-23 16:29:44,671 : INFO : worker thread finished; awaiting finish of 0 more threads\n",
      "2019-04-23 16:29:44,671 : INFO : EPOCH - 2 : training on 10160 raw words (4938 effective words) took 0.0s, 229058 effective words/s\n",
      "2019-04-23 16:29:44,683 : INFO : worker thread finished; awaiting finish of 2 more threads\n",
      "2019-04-23 16:29:44,686 : INFO : worker thread finished; awaiting finish of 1 more threads\n",
      "2019-04-23 16:29:44,689 : INFO : worker thread finished; awaiting finish of 0 more threads\n",
      "2019-04-23 16:29:44,690 : INFO : EPOCH - 3 : training on 10160 raw words (4973 effective words) took 0.0s, 298588 effective words/s\n",
      "2019-04-23 16:29:44,700 : INFO : worker thread finished; awaiting finish of 2 more threads\n",
      "2019-04-23 16:29:44,703 : INFO : worker thread finished; awaiting finish of 1 more threads\n",
      "2019-04-23 16:29:44,707 : INFO : worker thread finished; awaiting finish of 0 more threads\n",
      "2019-04-23 16:29:44,708 : INFO : EPOCH - 4 : training on 10160 raw words (4998 effective words) took 0.0s, 310541 effective words/s\n",
      "2019-04-23 16:29:44,734 : INFO : worker thread finished; awaiting finish of 2 more threads\n",
      "2019-04-23 16:29:44,737 : INFO : worker thread finished; awaiting finish of 1 more threads\n",
      "2019-04-23 16:29:44,742 : INFO : worker thread finished; awaiting finish of 0 more threads\n",
      "2019-04-23 16:29:44,743 : INFO : EPOCH - 5 : training on 10160 raw words (4925 effective words) took 0.0s, 150862 effective words/s\n",
      "2019-04-23 16:29:44,758 : INFO : worker thread finished; awaiting finish of 2 more threads\n",
      "2019-04-23 16:29:44,761 : INFO : worker thread finished; awaiting finish of 1 more threads\n",
      "2019-04-23 16:29:44,764 : INFO : worker thread finished; awaiting finish of 0 more threads\n",
      "2019-04-23 16:29:44,764 : INFO : EPOCH - 6 : training on 10160 raw words (5011 effective words) took 0.0s, 265219 effective words/s\n",
      "2019-04-23 16:29:44,776 : INFO : worker thread finished; awaiting finish of 2 more threads\n",
      "2019-04-23 16:29:44,779 : INFO : worker thread finished; awaiting finish of 1 more threads\n",
      "2019-04-23 16:29:44,781 : INFO : worker thread finished; awaiting finish of 0 more threads\n",
      "2019-04-23 16:29:44,782 : INFO : EPOCH - 7 : training on 10160 raw words (4956 effective words) took 0.0s, 754051 effective words/s\n",
      "2019-04-23 16:29:44,792 : INFO : worker thread finished; awaiting finish of 2 more threads\n",
      "2019-04-23 16:29:44,796 : INFO : worker thread finished; awaiting finish of 1 more threads\n",
      "2019-04-23 16:29:44,799 : INFO : worker thread finished; awaiting finish of 0 more threads\n",
      "2019-04-23 16:29:44,799 : INFO : EPOCH - 8 : training on 10160 raw words (4980 effective words) took 0.0s, 719213 effective words/s\n",
      "2019-04-23 16:29:44,810 : INFO : worker thread finished; awaiting finish of 2 more threads\n",
      "2019-04-23 16:29:44,813 : INFO : worker thread finished; awaiting finish of 1 more threads\n",
      "2019-04-23 16:29:44,816 : INFO : worker thread finished; awaiting finish of 0 more threads\n",
      "2019-04-23 16:29:44,816 : INFO : EPOCH - 9 : training on 10160 raw words (5016 effective words) took 0.0s, 324924 effective words/s\n",
      "2019-04-23 16:29:44,830 : INFO : worker thread finished; awaiting finish of 2 more threads\n",
      "2019-04-23 16:29:44,834 : INFO : worker thread finished; awaiting finish of 1 more threads\n",
      "2019-04-23 16:29:44,837 : INFO : worker thread finished; awaiting finish of 0 more threads\n",
      "2019-04-23 16:29:44,838 : INFO : EPOCH - 10 : training on 10160 raw words (5009 effective words) took 0.0s, 254285 effective words/s\n",
      "2019-04-23 16:29:44,839 : INFO : training on a 101600 raw words (49777 effective words) took 0.2s, 237107 effective words/s\n",
      "2019-04-23 16:29:44,840 : WARNING : under 10 jobs per worker: consider setting a smaller `batch_words' for smoother alpha decay\n"
     ]
    }
   ],
   "source": [
    "from gensim.models import FastText\n",
    "\n",
    "ft_ko = FastText(size=4, window=3, min_count=1)\n",
    "ft_ko.build_vocab(documents_ko)\n",
    "ft_ko.train(sentences=documents_ko, total_examples=len(documents_ko), epochs=10)  # train"
   ]
  },
  {
   "cell_type": "code",
   "execution_count": 366,
   "metadata": {},
   "outputs": [
    {
     "name": "stderr",
     "output_type": "stream",
     "text": [
      "2019-04-23 16:29:45,901 : INFO : precomputing L2-norms of word weight vectors\n",
      "2019-04-23 16:29:45,902 : INFO : precomputing L2-norms of ngram weight vectors\n"
     ]
    },
    {
     "ename": "KeyError",
     "evalue": "'all ngrams for word 사람 absent from model'",
     "output_type": "error",
     "traceback": [
      "\u001b[0;31m---------------------------------------------------------------------------\u001b[0m",
      "\u001b[0;31mKeyError\u001b[0m                                  Traceback (most recent call last)",
      "\u001b[0;32m<ipython-input-366-8b3c1a1eae20>\u001b[0m in \u001b[0;36m<module>\u001b[0;34m\u001b[0m\n\u001b[1;32m      1\u001b[0m \u001b[0;31m# FastText는 학습시 없었던 단어에 대해서도 계산해준다.\u001b[0m\u001b[0;34m\u001b[0m\u001b[0;34m\u001b[0m\u001b[0;34m\u001b[0m\u001b[0m\n\u001b[0;32m----> 2\u001b[0;31m \u001b[0mft_ko\u001b[0m\u001b[0;34m.\u001b[0m\u001b[0mwv\u001b[0m\u001b[0;34m.\u001b[0m\u001b[0mmost_similar\u001b[0m\u001b[0;34m(\u001b[0m\u001b[0;34m\"사람\"\u001b[0m\u001b[0;34m)\u001b[0m\u001b[0;34m\u001b[0m\u001b[0;34m\u001b[0m\u001b[0m\n\u001b[0m",
      "\u001b[0;32m~/anaconda3/envs/deepnlp/lib/python3.7/site-packages/gensim/models/keyedvectors.py\u001b[0m in \u001b[0;36mmost_similar\u001b[0;34m(self, positive, negative, topn, restrict_vocab, indexer)\u001b[0m\n\u001b[1;32m    363\u001b[0m                 \u001b[0mmean\u001b[0m\u001b[0;34m.\u001b[0m\u001b[0mappend\u001b[0m\u001b[0;34m(\u001b[0m\u001b[0mweight\u001b[0m \u001b[0;34m*\u001b[0m \u001b[0mword\u001b[0m\u001b[0;34m)\u001b[0m\u001b[0;34m\u001b[0m\u001b[0;34m\u001b[0m\u001b[0m\n\u001b[1;32m    364\u001b[0m             \u001b[0;32melse\u001b[0m\u001b[0;34m:\u001b[0m\u001b[0;34m\u001b[0m\u001b[0;34m\u001b[0m\u001b[0m\n\u001b[0;32m--> 365\u001b[0;31m                 \u001b[0mmean\u001b[0m\u001b[0;34m.\u001b[0m\u001b[0mappend\u001b[0m\u001b[0;34m(\u001b[0m\u001b[0mweight\u001b[0m \u001b[0;34m*\u001b[0m \u001b[0mself\u001b[0m\u001b[0;34m.\u001b[0m\u001b[0mword_vec\u001b[0m\u001b[0;34m(\u001b[0m\u001b[0mword\u001b[0m\u001b[0;34m,\u001b[0m \u001b[0muse_norm\u001b[0m\u001b[0;34m=\u001b[0m\u001b[0;32mTrue\u001b[0m\u001b[0;34m)\u001b[0m\u001b[0;34m)\u001b[0m\u001b[0;34m\u001b[0m\u001b[0;34m\u001b[0m\u001b[0m\n\u001b[0m\u001b[1;32m    366\u001b[0m                 \u001b[0;32mif\u001b[0m \u001b[0mword\u001b[0m \u001b[0;32min\u001b[0m \u001b[0mself\u001b[0m\u001b[0;34m.\u001b[0m\u001b[0mvocab\u001b[0m\u001b[0;34m:\u001b[0m\u001b[0;34m\u001b[0m\u001b[0;34m\u001b[0m\u001b[0m\n\u001b[1;32m    367\u001b[0m                     \u001b[0mall_words\u001b[0m\u001b[0;34m.\u001b[0m\u001b[0madd\u001b[0m\u001b[0;34m(\u001b[0m\u001b[0mself\u001b[0m\u001b[0;34m.\u001b[0m\u001b[0mvocab\u001b[0m\u001b[0;34m[\u001b[0m\u001b[0mword\u001b[0m\u001b[0;34m]\u001b[0m\u001b[0;34m.\u001b[0m\u001b[0mindex\u001b[0m\u001b[0;34m)\u001b[0m\u001b[0;34m\u001b[0m\u001b[0;34m\u001b[0m\u001b[0m\n",
      "\u001b[0;32m~/anaconda3/envs/deepnlp/lib/python3.7/site-packages/gensim/models/keyedvectors.py\u001b[0m in \u001b[0;36mword_vec\u001b[0;34m(self, word, use_norm)\u001b[0m\n\u001b[1;32m   1620\u001b[0m                 \u001b[0;32mreturn\u001b[0m \u001b[0mword_vec\u001b[0m \u001b[0;34m/\u001b[0m \u001b[0mmax\u001b[0m\u001b[0;34m(\u001b[0m\u001b[0;36m1\u001b[0m\u001b[0;34m,\u001b[0m \u001b[0mngrams_found\u001b[0m\u001b[0;34m)\u001b[0m\u001b[0;34m\u001b[0m\u001b[0;34m\u001b[0m\u001b[0m\n\u001b[1;32m   1621\u001b[0m             \u001b[0;32melse\u001b[0m\u001b[0;34m:\u001b[0m  \u001b[0;31m# No ngrams of the word are present in self.ngrams\u001b[0m\u001b[0;34m\u001b[0m\u001b[0;34m\u001b[0m\u001b[0m\n\u001b[0;32m-> 1622\u001b[0;31m                 \u001b[0;32mraise\u001b[0m \u001b[0mKeyError\u001b[0m\u001b[0;34m(\u001b[0m\u001b[0;34m'all ngrams for word %s absent from model'\u001b[0m \u001b[0;34m%\u001b[0m \u001b[0mword\u001b[0m\u001b[0;34m)\u001b[0m\u001b[0;34m\u001b[0m\u001b[0;34m\u001b[0m\u001b[0m\n\u001b[0m\u001b[1;32m   1623\u001b[0m \u001b[0;34m\u001b[0m\u001b[0m\n\u001b[1;32m   1624\u001b[0m     \u001b[0;32mdef\u001b[0m \u001b[0minit_sims\u001b[0m\u001b[0;34m(\u001b[0m\u001b[0mself\u001b[0m\u001b[0;34m,\u001b[0m \u001b[0mreplace\u001b[0m\u001b[0;34m=\u001b[0m\u001b[0;32mFalse\u001b[0m\u001b[0;34m)\u001b[0m\u001b[0;34m:\u001b[0m\u001b[0;34m\u001b[0m\u001b[0;34m\u001b[0m\u001b[0m\n",
      "\u001b[0;31mKeyError\u001b[0m: 'all ngrams for word 사람 absent from model'"
     ]
    }
   ],
   "source": [
    "# FastText는 학습시 없었던 단어에 대해서도 계산해준다.\n",
    "ft_ko.wv.most_similar(\"사람\")"
   ]
  },
  {
   "cell_type": "code",
   "execution_count": 367,
   "metadata": {},
   "outputs": [
    {
     "name": "stderr",
     "output_type": "stream",
     "text": [
      "2019-04-23 16:29:49,584 : INFO : starting tSNE dimensionality reduction. This may take some time.\n",
      "2019-04-23 16:29:52,169 : INFO : All done. Plotting.\n"
     ]
    },
    {
     "data": {
      "text/html": [
       "<script type=\"text/javascript\">window.PlotlyConfig = {MathJaxConfig: 'local'};</script><script type=\"text/javascript\">if (window.MathJax) {MathJax.Hub.Config({SVG: {font: \"STIX-Web\"}});}</script><script>requirejs.config({paths: { 'plotly': ['https://cdn.plot.ly/plotly-latest.min']},});if(!window._Plotly) {require(['plotly'],function(plotly) {window._Plotly=plotly;});}</script>"
      ],
      "text/vnd.plotly.v1+html": [
       "<script type=\"text/javascript\">window.PlotlyConfig = {MathJaxConfig: 'local'};</script><script type=\"text/javascript\">if (window.MathJax) {MathJax.Hub.Config({SVG: {font: \"STIX-Web\"}});}</script><script>requirejs.config({paths: { 'plotly': ['https://cdn.plot.ly/plotly-latest.min']},});if(!window._Plotly) {require(['plotly'],function(plotly) {window._Plotly=plotly;});}</script>"
      ]
     },
     "metadata": {},
     "output_type": "display_data"
    },
    {
     "data": {
      "application/vnd.plotly.v1+json": {
       "config": {
        "linkText": "Export to plot.ly",
        "plotlyServerURL": "https://plot.ly",
        "showLink": false
       },
       "data": [
        {
         "mode": "text",
         "text": [
          "N",
          "o",
          " ",
          "M",
          "r",
          "e",
          "D",
          "a",
          "m",
          ",",
          "\n",
          "얌",
          "마",
          "네",
          "꿈",
          "은",
          "뭐",
          "니",
          "겨",
          "우",
          "그",
          "거",
          "I",
          "w",
          "n",
          "b",
          "i",
          "g",
          "h",
          "u",
          "s",
          "c",
          "&",
          "B",
          "t",
          "사",
          "실",
          "d",
          "v",
          "y",
          "하",
          "난",
          "참",
          "편",
          "게",
          "살",
          "어",
          "따",
          "위",
          "안",
          "꿔",
          "도",
          "아",
          "무",
          "라",
          "잖",
          "전",
          "부",
          "다",
          "똑",
          "같",
          "이",
          "나",
          "처",
          "럼",
          "생",
          "각",
          "고",
          "있",
          "새",
          "까",
          "맣",
          "먹",
          "많",
          "던",
          "린",
          "시",
          "절",
          "대",
          "학",
          "걱",
          "정",
          "멀",
          "리",
          "갈",
          "알",
          "았",
          "엄",
          "지",
          "금",
          "독",
          "서",
          "간",
          "가",
          "온",
          "모",
          "습",
          "야",
          "울",
          "속",
          "엔",
          "누",
          "보",
          "여",
          "너",
          "의",
          "길",
          "을",
          "단",
          "루",
          "를",
          "약",
          "함",
          "담",
          "둬",
          "왜",
          "말",
          "못",
          "?",
          "공",
          "는",
          "기",
          "싫",
          "면",
          "교",
          "때",
          "려",
          "치",
          "겁",
          "봐",
          "등",
          "할",
          "준",
          "비",
          "벌",
          "써",
          "철",
          "좀",
          "들",
          "제",
          "발",
          "입",
          "만",
          "인",
          "유",
          "멘",
          "탈",
          "(",
          "S",
          "p",
          "!",
          ")",
          "자",
          "신",
          "에",
          "물",
          "언",
          "열",
          "심",
          "히",
          "노",
          "력",
          "했",
          "냐",
          "짓",
          "l",
          "넌",
          "선",
          "꾸",
          "딴",
          "래",
          "잘",
          "해",
          "강",
          "요",
          "진",
          "줘",
          "L",
          "작",
          "운",
          "반",
          "복",
          "되",
          "매",
          "일",
          "른",
          "과",
          "님",
          "틀",
          "박",
          "힌",
          "주",
          "장",
          "희",
          "망",
          "넘",
          "버",
          "원",
          ".",
          "된",
          "9",
          "회",
          "구",
          "투",
          "수",
          "낭",
          "돌",
          "직",
          "날",
          "옥",
          "항",
          "특",
          "별",
          "f",
          "억",
          "압",
          "받",
          "삶",
          "법",
          "몰",
          "결",
          "젠",
          "눈",
          "떠",
          "춤",
          "춰",
          "쭈",
          "T",
          "E",
          "U",
          "F",
          "흩",
          "떨",
          "땜",
          "렇",
          "져",
          "겠",
          "뭣",
          "핑",
          "계",
          "건",
          "삼",
          "한",
          "테",
          "돼",
          "든",
          "찢",
          "찍",
          "미",
          "쳐",
          "냥",
          "워",
          "’",
          "Y",
          "꺼",
          "랑",
          "용",
          "혼",
          "칠",
          "걸",
          "필",
          "름",
          "차",
          "오",
          "쯤",
          "내",
          "바",
          "슨",
          "쩔",
          "없",
          "분",
          "명",
          "음",
          "슴",
          "데",
          "듣",
          "또",
          "잣",
          "늘",
          "파",
          "랗",
          "햇",
          "빛",
          "더",
          "G",
          "헤",
          "었",
          "겐",
          "럴",
          "막",
          "록",
          "와",
          "방",
          "탄",
          "A",
          "됐",
          "녀",
          "석",
          "르",
          "스",
          "타",
          "로",
          "밤",
          "클",
          "럽",
          "놀",
          "연",
          "땀",
          "쩌",
          "렁",
          "답",
          "두",
          "찌",
          "질",
          "찡",
          "띨",
          "상",
          "관",
          "z",
          "O",
          "k",
          "머",
          "터",
          "끝",
          "업",
          "청",
          "춘",
          "썩",
          "덕",
          "달",
          "성",
          "소",
          "크",
          "러",
          "'",
          "몸",
          "C",
          "H",
          "예",
          "3",
          "포",
          "세",
          "5",
          "육",
          "좋",
          "으",
          "6",
          "론",
          "며",
          "릴",
          "싹",
          "식",
          "죽",
          "걔",
          "넨",
          "개",
          "숙",
          "벽",
          "낮",
          "뻐",
          "잠",
          "깨",
          "런",
          "~",
          "봄",
          "싶",
          "밉",
          "얼",
          "굴",
          "번",
          "것",
          "힘",
          "긴",
          "통",
          "뿐",
          "8",
          "월",
          "홀",
          "남",
          "설",
          "국",
          "손",
          "잡",
          "움",
          "올",
          "허",
          "먼",
          "조",
          "빨",
          "닿",
          "텐",
          "꽃",
          "씩",
          "몇",
          "널",
          "될",
          "추",
          "피",
          "곳",
          "변",
          "순",
          "흐",
          "났",
          "잊",
          "적",
          "솔",
          "덜",
          "프",
          "불",
          "본",
          "얀",
          "침",
          "떤",
          "둠",
          "영",
          "벚",
          "첫",
          "롤",
          "왔",
          "혈",
          "찾",
          "종",
          "율",
          "섭",
          "증",
          "출",
          "민",
          "완",
          "낸",
          "둘",
          "께",
          "집",
          "중",
          "끄",
          "태",
          "초",
          "볼",
          "숨",
          "멎",
          "란",
          "감",
          "애",
          "향",
          "뛰",
          "후",
          "문",
          "P",
          "악",
          "앞",
          "K",
          "플",
          "취",
          "켜",
          "목",
          "깊",
          "키",
          "묶",
          "꽉",
          "쥐",
          "흔",
          "밀",
          "닌",
          "람",
          "섬",
          "배",
          "드",
          "콤",
          "R",
          "W",
          "걷",
          "창",
          "욕",
          "맛",
          "갔",
          "친",
          "놈",
          "엉",
          "삐",
          "멋",
          "쓰",
          "괜",
          "찮",
          "젊",
          "뭔",
          "저",
          "괴",
          "맨",
          "군",
          "줄",
          "롭",
          "였",
          "락",
          "혀",
          "경",
          "않",
          "뭘",
          "셔",
          "쑤",
          "화",
          "덩",
          "쿵",
          "슈",
          "퍼",
          "2",
          "4",
          "헷",
          "림",
          "십",
          "백",
          "맞",
          "걍",
          "끔",
          "-",
          "행",
          "　",
          "궁",
          "x",
          "맡",
          "1",
          "높",
          "줬",
          "웅",
          "윈",
          "평",
          "킬",
          "툭",
          "놓",
          "커",
          "짐",
          "카",
          "양"
         ],
         "type": "scatter",
         "uid": "bdbd6010-0a4f-412d-98e2-f5f437233053",
         "x": [
          -9.30010986328125,
          -34.81757736206055,
          -31.93038558959961,
          18.66600799560547,
          -34.31975555419922,
          -35.66449737548828,
          -12.638984680175781,
          -34.68767166137695,
          -32.93654251098633,
          -16.28139877319336,
          -17.03218650817871,
          0.4684455096721649,
          -12.264764785766602,
          -13.90131664276123,
          -9.061821937561035,
          -10.409467697143555,
          -8.357426643371582,
          -13.18911361694336,
          -10.314131736755371,
          -11.783923149108887,
          -12.843393325805664,
          -9.183972358703613,
          -32.07442092895508,
          -32.86347198486328,
          -35.42350387573242,
          -30.58868980407715,
          -34.292266845703125,
          -33.665191650390625,
          -33.618614196777344,
          -33.09980392456055,
          -32.83686065673828,
          -32.07710647583008,
          -2.8211236000061035,
          -11.715267181396484,
          -34.94718551635742,
          -14.916532516479492,
          -8.231073379516602,
          -32.09953308105469,
          -31.372716903686523,
          -33.694942474365234,
          -12.705666542053223,
          -14.043577194213867,
          15.677422523498535,
          17.281282424926758,
          -12.361693382263184,
          -8.41034984588623,
          -11.774580955505371,
          -6.240826606750488,
          -5.850018501281738,
          -6.32078742980957,
          8.76151180267334,
          -10.546918869018555,
          -13.411957740783691,
          -11.543956756591797,
          -12.733003616333008,
          24.4061279296875,
          -11.326152801513672,
          -15.410170555114746,
          -13.388975143432617,
          24.48162269592285,
          -12.476186752319336,
          -9.448014259338379,
          -12.43836784362793,
          -15.21727466583252,
          -14.982022285461426,
          -10.375168800354004,
          17.686555862426758,
          -14.153703689575195,
          -7.948127269744873,
          -8.054068565368652,
          -13.506807327270508,
          24.630084991455078,
          13.512703895568848,
          -8.8358736038208,
          -14.333107948303223,
          -14.984306335449219,
          -12.462240219116211,
          0.6258078217506409,
          -15.196070671081543,
          -1.1018357276916504,
          -3.3241403102874756,
          -8.294857025146484,
          2.445383071899414,
          -12.356003761291504,
          -13.123674392700195,
          -11.956467628479004,
          16.563508987426758,
          14.00859260559082,
          -11.267109870910645,
          -13.781963348388672,
          -9.06920051574707,
          -11.732568740844727,
          -14.612678527832031,
          -15.245059967041016,
          -8.521830558776855,
          -15.080144882202148,
          -4.630931854248047,
          -14.93898868560791,
          -13.041537284851074,
          -12.877882957458496,
          -8.900456428527832,
          10.268224716186523,
          -15.98822021484375,
          -14.414240837097168,
          -12.283210754394531,
          -11.905216217041016,
          -9.271103858947754,
          -10.141161918640137,
          -0.7367767691612244,
          -4.673513412475586,
          -15.258339881896973,
          17.483362197875977,
          -11.112931251525879,
          14.58896541595459,
          13.496957778930664,
          -14.98281192779541,
          -12.11439037322998,
          -2.1893386840820312,
          -7.111448287963867,
          -6.7460126876831055,
          -12.215072631835938,
          -12.59815502166748,
          22.358312606811523,
          -10.523401260375977,
          -8.070903778076172,
          -11.957269668579102,
          -8.134119033813477,
          -9.60692310333252,
          16.918354034423828,
          -13.745675086975098,
          17.937088012695312,
          -9.122355461120605,
          -6.759016990661621,
          -7.905143737792969,
          -4.757211685180664,
          2.7014594078063965,
          15.677401542663574,
          -14.075796127319336,
          -11.13807487487793,
          -11.726766586303711,
          -8.725915908813477,
          4.0691914558410645,
          -14.828206062316895,
          -10.442499160766602,
          9.118579864501953,
          21.355127334594727,
          10.71834945678711,
          -31.050174713134766,
          -11.503687858581543,
          -30.766843795776367,
          -15.631026268005371,
          -29.689334869384766,
          -11.848015785217285,
          -9.08901309967041,
          -10.80814266204834,
          -14.783365249633789,
          9.479988098144531,
          -5.673038482666016,
          -3.9244232177734375,
          -14.925938606262207,
          -2.9849746227264404,
          8.180091857910156,
          -7.677871227264404,
          6.856060981750488,
          0.24917839467525482,
          -35.2990608215332,
          -8.867749214172363,
          0.013518793508410454,
          -6.151264667510986,
          -2.248899459838867,
          -15.557129859924316,
          -3.567061424255371,
          -13.769869804382324,
          -6.451881408691406,
          -12.619976997375488,
          -12.822882652282715,
          -11.866259574890137,
          -30.761075973510742,
          -5.827642440795898,
          -12.063130378723145,
          -5.880958080291748,
          -4.874603748321533,
          -3.62605881690979,
          -3.360105276107788,
          -14.597588539123535,
          -6.229827880859375,
          -7.836334228515625,
          5.387211799621582,
          13.826335906982422,
          23.65439224243164,
          4.894433498382568,
          -12.827899932861328,
          -1.801828145980835,
          7.683180809020996,
          -14.451927185058594,
          6.309601783752441,
          -15.371816635131836,
          -14.266731262207031,
          -7.287210464477539,
          11.09070110321045,
          24.155811309814453,
          5.421939849853516,
          -3.4780423641204834,
          13.53661823272705,
          -13.490656852722168,
          13.736978530883789,
          -6.899578094482422,
          -1.8723175525665283,
          -14.22231388092041,
          9.399629592895508,
          4.596902847290039,
          12.33469295501709,
          4.91910982131958,
          -31.875452041625977,
          18.649246215820312,
          3.842118263244629,
          0.8826015591621399,
          5.022558689117432,
          -2.881453514099121,
          2.962265968322754,
          16.06128692626953,
          18.233287811279297,
          -12.362115859985352,
          -6.479856491088867,
          -2.2894110679626465,
          12.989190101623535,
          25.79709243774414,
          -3.0597918033599854,
          -7.554647922515869,
          22.991708755493164,
          -31.166675567626953,
          15.453670501708984,
          10.159937858581543,
          12.837925910949707,
          25.628843307495117,
          -11.073917388916016,
          9.503929138183594,
          22.668560028076172,
          23.489730834960938,
          -8.503368377685547,
          -8.058293342590332,
          -4.055629253387451,
          -14.969803810119629,
          10.10651683807373,
          -5.261715412139893,
          -11.43726921081543,
          22.487342834472656,
          22.190494537353516,
          -4.970273017883301,
          -6.933784484863281,
          8.414037704467773,
          -14.003872871398926,
          -5.636140823364258,
          -29.390548706054688,
          3.1673784255981445,
          -5.522282600402832,
          7.276704788208008,
          -6.917654037475586,
          -5.280213356018066,
          -13.148382186889648,
          0.34997841715812683,
          10.386174201965332,
          -12.727509498596191,
          -14.468867301940918,
          16.797325134277344,
          -13.636561393737793,
          15.706035614013672,
          24.186073303222656,
          -9.866043090820312,
          -12.143811225891113,
          6.5357537269592285,
          -12.985250473022461,
          -6.5374298095703125,
          10.838364601135254,
          -6.640764236450195,
          15.454118728637695,
          -12.758423805236816,
          6.259226322174072,
          -4.790348052978516,
          -9.99327278137207,
          22.845563888549805,
          22.724424362182617,
          23.325233459472656,
          -15.440347671508789,
          19.44349479675293,
          6.415794372558594,
          8.198742866516113,
          6.081503868103027,
          4.515475273132324,
          0.2518659234046936,
          20.093263626098633,
          -4.213294506072998,
          -8.829840660095215,
          -0.6268224716186523,
          -10.338680267333984,
          3.7938976287841797,
          -5.082902908325195,
          -3.566929578781128,
          -10.801392555236816,
          -14.112420082092285,
          -8.325148582458496,
          -13.240318298339844,
          -9.403648376464844,
          10.126280784606934,
          -1.285030722618103,
          3.7506635189056396,
          -1.4662017822265625,
          -9.896825790405273,
          -13.069915771484375,
          -2.848799705505371,
          18.526317596435547,
          -7.1640119552612305,
          8.027106285095215,
          -9.695911407470703,
          -10.469987869262695,
          10.562317848205566,
          -9.505911827087402,
          1.949315071105957,
          23.11115837097168,
          -6.217736721038818,
          -30.242725372314453,
          -2.283815860748291,
          -11.046920776367188,
          -2.579735517501831,
          4.274490833282471,
          3.997992992401123,
          8.101810455322266,
          14.503434181213379,
          -11.311910629272461,
          -12.933549880981445,
          15.194413185119629,
          -10.93639850616455,
          25.155961990356445,
          -13.475762367248535,
          -31.921051025390625,
          3.837224245071411,
          15.354192733764648,
          -6.217752456665039,
          -4.219414234161377,
          25.261798858642578,
          -9.904062271118164,
          -14.245695114135742,
          17.139202117919922,
          18.600683212280273,
          -6.632473468780518,
          -5.356973171234131,
          19.50000762939453,
          9.07148551940918,
          -1.4325798749923706,
          17.926069259643555,
          -7.662118434906006,
          -2.222839832305908,
          6.168755531311035,
          10.846821784973145,
          14.968855857849121,
          -2.530848741531372,
          -7.190061092376709,
          16.583703994750977,
          9.402501106262207,
          12.315452575683594,
          17.949474334716797,
          -11.600419998168945,
          -0.5397733449935913,
          8.667460441589355,
          6.2648797035217285,
          -11.862282752990723,
          6.160470008850098,
          -16.083112716674805,
          9.44284725189209,
          12.293147087097168,
          -7.7185773849487305,
          21.84214210510254,
          -1.2181495428085327,
          2.152212142944336,
          20.057336807250977,
          7.351067066192627,
          19.175352096557617,
          18.12010383605957,
          14.002840042114258,
          11.709151268005371,
          13.541309356689453,
          -6.0088911056518555,
          22.035247802734375,
          13.825372695922852,
          3.9148833751678467,
          18.807714462280273,
          12.645249366760254,
          -12.864380836486816,
          24.111469268798828,
          24.619644165039062,
          18.129003524780273,
          -4.333392143249512,
          1.130292296409607,
          -4.221724510192871,
          -13.197187423706055,
          -0.35844314098358154,
          -0.6186131238937378,
          -8.742655754089355,
          14.47163200378418,
          -3.274545669555664,
          10.139790534973145,
          19.075225830078125,
          22.556114196777344,
          6.290225028991699,
          8.070202827453613,
          22.533960342407227,
          10.23575210571289,
          16.325773239135742,
          -13.508777618408203,
          22.352941513061523,
          17.113052368164062,
          11.975635528564453,
          -0.41457194089889526,
          14.890013694763184,
          -7.764358043670654,
          14.709778785705566,
          10.401762962341309,
          18.4112606048584,
          11.392345428466797,
          5.903817653656006,
          -1.2032361030578613,
          19.733095169067383,
          10.197723388671875,
          23.166988372802734,
          22.065082550048828,
          18.9377498626709,
          11.570854187011719,
          2.705169677734375,
          -1.8276418447494507,
          -4.436695098876953,
          0.15714974701404572,
          21.669538497924805,
          4.724203109741211,
          13.044022560119629,
          -11.939513206481934,
          1.3549426794052124,
          5.949148178100586,
          4.662596225738525,
          18.510448455810547,
          -12.764910697937012,
          -9.071919441223145,
          5.5613298416137695,
          8.589372634887695,
          18.786056518554688,
          3.2322583198547363,
          5.9194488525390625,
          15.772119522094727,
          13.648954391479492,
          18.045917510986328,
          4.176421642303467,
          13.150293350219727,
          -4.00119686126709,
          5.589779376983643,
          15.20139217376709,
          -4.672604084014893,
          17.659292221069336,
          25.21637725830078,
          10.596999168395996,
          16.773080825805664,
          3.7360174655914307,
          24.08391571044922,
          9.564997673034668,
          4.422092914581299,
          10.80620002746582,
          11.467514038085938,
          22.72800636291504,
          3.42763352394104,
          4.685191631317139,
          15.604613304138184,
          12.863452911376953,
          10.05907917022705,
          5.5661420822143555,
          16.615488052368164,
          24.682832717895508,
          17.4797306060791,
          6.526075839996338,
          10.161802291870117,
          16.23329734802246,
          13.344419479370117,
          -4.041191577911377,
          -0.21334072947502136,
          15.724018096923828,
          21.645143508911133,
          16.718982696533203,
          -13.490527153015137,
          13.000162124633789,
          20.728492736816406,
          21.068151473999023,
          17.245006561279297,
          17.38652229309082,
          7.562376499176025,
          18.214496612548828,
          11.412755012512207,
          7.896086692810059,
          19.170665740966797,
          9.393238067626953,
          4.512363433837891,
          -12.070536613464355,
          -3.4692370891571045,
          -12.650248527526855,
          -12.607897758483887,
          14.519620895385742,
          9.28373908996582,
          15.69194221496582,
          18.8823184967041,
          3.7397427558898926,
          5.659632682800293,
          13.446920394897461,
          18.87858009338379,
          3.0853652954101562,
          15.504149436950684,
          21.262983322143555,
          16.617767333984375,
          3.57995343208313,
          14.329024314880371,
          20.135637283325195,
          19.2359561920166,
          17.430084228515625,
          25.73076057434082,
          0.21706397831439972,
          15.443302154541016,
          22.857751846313477,
          16.091957092285156,
          16.856578826904297,
          14.85667610168457,
          23.266006469726562,
          21.97968101501465,
          17.78824234008789,
          13.694299697875977,
          14.003911972045898,
          21.52895164489746
         ],
         "y": [
          19.81560707092285,
          3.915220022201538,
          6.362874507904053,
          -19.65397834777832,
          4.381244659423828,
          3.2748348712921143,
          21.660703659057617,
          2.460526466369629,
          2.6712939739227295,
          27.14954948425293,
          28.19695281982422,
          -9.543279647827148,
          33.86366653442383,
          34.81022262573242,
          25.162837982177734,
          39.291893005371094,
          23.67485237121582,
          36.78899002075195,
          19.46272087097168,
          30.929723739624023,
          28.514999389648438,
          25.096086502075195,
          3.7901675701141357,
          4.928187370300293,
          4.036567211151123,
          4.309531211853027,
          3.31420636177063,
          3.9226582050323486,
          3.235713481903076,
          4.246420383453369,
          3.645817756652832,
          4.596463680267334,
          -10.898292541503906,
          5.656394004821777,
          3.1538186073303223,
          33.00523376464844,
          16.378921508789062,
          2.7511017322540283,
          3.3565564155578613,
          2.5325379371643066,
          38.07314682006836,
          26.693992614746094,
          -21.789024353027344,
          -20.218149185180664,
          38.02367401123047,
          17.20248031616211,
          38.83613967895508,
          9.184992790222168,
          9.488136291503906,
          14.537115097045898,
          -11.166746139526367,
          37.684783935546875,
          35.68592834472656,
          24.660856246948242,
          32.139923095703125,
          -22.430744171142578,
          25.6096134185791,
          36.51470947265625,
          38.98496627807617,
          -24.12826919555664,
          10.502106666564941,
          33.81361389160156,
          36.30011749267578,
          31.66920280456543,
          22.451906204223633,
          11.48098087310791,
          -21.181001663208008,
          36.87599563598633,
          8.985506057739258,
          19.71169662475586,
          37.51298904418945,
          -20.090476989746094,
          -10.591144561767578,
          33.32247543334961,
          25.863515853881836,
          28.5255126953125,
          26.514297485351562,
          -5.932396411895752,
          34.66323471069336,
          1.0721811056137085,
          -4.774186611175537,
          17.619733810424805,
          -0.30584967136383057,
          39.114524841308594,
          16.91069793701172,
          19.187602996826172,
          -13.694616317749023,
          -29.48526382446289,
          38.212100982666016,
          20.033140182495117,
          3.605168104171753,
          37.97556686401367,
          23.954912185668945,
          38.54077911376953,
          1.9336535930633545,
          27.854433059692383,
          -2.3357961177825928,
          32.37299728393555,
          26.0886173248291,
          17.43501091003418,
          4.145379543304443,
          -11.432598114013672,
          38.46883010864258,
          31.255205154418945,
          33.314208984375,
          39.91477584838867,
          11.091598510742188,
          38.24077606201172,
          -4.590540409088135,
          -7.1466217041015625,
          33.597591400146484,
          -27.29953384399414,
          16.08596420288086,
          -7.240534782409668,
          -13.720884323120117,
          16.066177368164062,
          35.288455963134766,
          5.1627984046936035,
          12.525118827819824,
          10.003315925598145,
          37.396141052246094,
          40.095314025878906,
          -17.842296600341797,
          22.11251449584961,
          4.674015998840332,
          25.73821449279785,
          18.630468368530273,
          2.8407840728759766,
          -26.20291519165039,
          16.193065643310547,
          -17.584341049194336,
          17.30537223815918,
          0.061146464198827744,
          15.619913101196289,
          -0.10604190081357956,
          -11.841574668884277,
          -13.603200912475586,
          25.734405517578125,
          37.4356689453125,
          27.195627212524414,
          21.180635452270508,
          -12.302837371826172,
          37.11249542236328,
          18.65164566040039,
          -8.771198272705078,
          -17.135944366455078,
          -16.654285430908203,
          4.986221790313721,
          1.2471418380737305,
          3.755843162536621,
          15.30660629272461,
          5.41060209274292,
          36.53447723388672,
          10.603387832641602,
          39.41646957397461,
          35.89105987548828,
          -9.394328117370605,
          3.911132574081421,
          -0.9029289484024048,
          28.5040225982666,
          -1.7996406555175781,
          -14.776753425598145,
          20.97071647644043,
          -3.8735241889953613,
          1.6339316368103027,
          2.4466474056243896,
          5.3023552894592285,
          -0.8891558051109314,
          16.20181655883789,
          -2.658916473388672,
          19.171104431152344,
          6.347568511962891,
          32.91162872314453,
          0.6379607319831848,
          22.494583129882812,
          17.907058715820312,
          28.765125274658203,
          2.854438543319702,
          14.902101516723633,
          18.452762603759766,
          1.487419843673706,
          1.296464204788208,
          -6.859358787536621,
          0.3764990568161011,
          21.132598876953125,
          3.5616962909698486,
          14.870573997497559,
          -12.95578670501709,
          -11.743240356445312,
          -27.650602340698242,
          -20.098316192626953,
          25.560285568237305,
          -1.1918822526931763,
          -4.478959560394287,
          17.45420265197754,
          -5.426785469055176,
          24.466045379638672,
          33.39977264404297,
          4.535822868347168,
          -7.644579887390137,
          -25.893871307373047,
          -10.667875289916992,
          3.1255290508270264,
          -14.860310554504395,
          31.141523361206055,
          -13.335319519042969,
          1.4637081623077393,
          -0.2889966666698456,
          34.45084762573242,
          -11.71646499633789,
          -14.380751609802246,
          -14.771347045898438,
          -4.869307041168213,
          3.219136953353882,
          -13.590517044067383,
          -19.91869354248047,
          -8.885640144348145,
          -19.048952102661133,
          -0.23416519165039062,
          -0.7528839707374573,
          -28.450456619262695,
          -14.670881271362305,
          33.16363525390625,
          5.294256687164307,
          -3.328791856765747,
          -28.870439529418945,
          -25.231618881225586,
          -11.271653175354004,
          13.243054389953613,
          -14.309097290039062,
          4.529664993286133,
          -26.470308303833008,
          -19.133277893066406,
          -29.484821319580078,
          -20.621963500976562,
          23.36402130126953,
          -4.917534828186035,
          -15.275534629821777,
          -18.21343421936035,
          14.729362487792969,
          19.50084114074707,
          -3.5265402793884277,
          29.703704833984375,
          -25.435955047607422,
          14.117493629455566,
          21.355772018432617,
          -21.076644897460938,
          -20.28464126586914,
          13.095675468444824,
          0.675962507724762,
          -14.864195823669434,
          23.357637405395508,
          -5.382968425750732,
          5.5778679847717285,
          -1.103176474571228,
          7.101170063018799,
          -9.147279739379883,
          10.54606819152832,
          -5.749412536621094,
          21.35927963256836,
          -10.131311416625977,
          -18.773717880249023,
          30.21009063720703,
          19.805421829223633,
          -21.954782485961914,
          37.836639404296875,
          -24.716678619384766,
          -27.578718185424805,
          12.647927284240723,
          24.166065216064453,
          -19.426830291748047,
          24.902070999145508,
          16.328510284423828,
          -21.288061141967773,
          15.753641128540039,
          -11.327274322509766,
          28.148427963256836,
          -3.7381505966186523,
          -6.81316614151001,
          9.012640953063965,
          -18.147682189941406,
          -16.045427322387695,
          -22.2752685546875,
          37.30267333984375,
          -28.16172218322754,
          -18.134286880493164,
          -12.561552047729492,
          -8.83327579498291,
          -20.54746437072754,
          -3.184785842895508,
          -13.196762084960938,
          -1.590575098991394,
          1.846039056777954,
          -0.39111295342445374,
          11.278667449951172,
          -19.089828491210938,
          0.4214881658554077,
          -5.338579177856445,
          17.958961486816406,
          18.931549072265625,
          21.0534610748291,
          33.752891540527344,
          10.511431694030762,
          -17.004108428955078,
          1.6452586650848389,
          -8.242908477783203,
          7.333176612854004,
          18.198467254638672,
          29.42066192626953,
          6.009413242340088,
          -27.139278411865234,
          13.327882766723633,
          -5.290140628814697,
          11.530570030212402,
          1.7791728973388672,
          -4.522378921508789,
          7.3254714012146,
          0.14674299955368042,
          -26.465579986572266,
          30.312904357910156,
          3.808401584625244,
          7.828866481781006,
          15.590365409851074,
          -0.7248271703720093,
          -9.831000328063965,
          -12.639874458312988,
          -6.484676837921143,
          -12.358631134033203,
          17.23940658569336,
          27.028430938720703,
          -12.274656295776367,
          9.60779857635498,
          -22.366878509521484,
          40.00202941894531,
          4.046876430511475,
          -13.353129386901855,
          -25.789697647094727,
          30.315229415893555,
          -1.43878173828125,
          -18.10761260986328,
          7.950263500213623,
          17.56613540649414,
          -16.36699676513672,
          -12.906347274780273,
          11.895310401916504,
          2.184579372406006,
          -13.264135360717773,
          -5.350905895233154,
          1.8235130310058594,
          -14.346015930175781,
          10.560578346252441,
          0.7846717834472656,
          -9.093616485595703,
          -26.782909393310547,
          -21.908700942993164,
          8.234617233276367,
          2.501638174057007,
          -7.992664337158203,
          -18.48933982849121,
          -24.343759536743164,
          -27.31543731689453,
          9.948222160339355,
          0.7072944641113281,
          -4.517509937286377,
          -11.06162166595459,
          14.024500846862793,
          -8.330777168273926,
          22.584228515625,
          -24.521629333496094,
          -28.248008728027344,
          10.336883544921875,
          -23.779117584228516,
          3.586360454559326,
          -7.9437947273254395,
          -12.305453300476074,
          -10.504507064819336,
          -11.742264747619629,
          -16.399620056152344,
          -13.328293800354004,
          -6.504669666290283,
          -8.356420516967773,
          6.721855640411377,
          -18.58690643310547,
          -25.746767044067383,
          -7.246944427490234,
          -26.468725204467773,
          -8.301513671875,
          20.719512939453125,
          -24.213024139404297,
          -23.93882179260254,
          -19.880929946899414,
          6.651979446411133,
          -7.317631244659424,
          4.98462438583374,
          23.96147346496582,
          -2.276608467102051,
          -3.504199266433716,
          24.353412628173828,
          -20.362451553344727,
          -3.774501323699951,
          -6.233273029327393,
          -26.302902221679688,
          -23.941190719604492,
          -17.613391876220703,
          -11.62946891784668,
          -19.52659034729004,
          -15.343083381652832,
          -19.86136245727539,
          24.5881290435791,
          -26.97858428955078,
          -22.80044937133789,
          -24.451135635375977,
          1.5650599002838135,
          -15.247424125671387,
          17.078113555908203,
          -26.233627319335938,
          -25.533010482788086,
          -22.852277755737305,
          -25.36897850036621,
          -20.325578689575195,
          4.350281238555908,
          -19.143577575683594,
          -13.434932708740234,
          -22.00843048095703,
          -22.275434494018555,
          -19.60222816467285,
          -17.079544067382812,
          -16.28849220275879,
          7.2963738441467285,
          2.617662191390991,
          0.1058054268360138,
          -21.278507232666016,
          -10.078733444213867,
          -25.275386810302734,
          19.888193130493164,
          -5.169353008270264,
          -16.384748458862305,
          -11.053116798400879,
          -16.968908309936523,
          10.296379089355469,
          5.818437099456787,
          -4.527644157409668,
          -24.721115112304688,
          -24.33246612548828,
          -9.977582931518555,
          -15.622074127197266,
          -11.115100860595703,
          -29.629135131835938,
          -25.179847717285156,
          -20.827444076538086,
          -20.712635040283203,
          3.2536232471466064,
          -14.747048377990723,
          -19.250761032104492,
          -5.189896583557129,
          -12.620574951171875,
          -25.77843475341797,
          -26.182579040527344,
          -18.168123245239258,
          -20.36429786682129,
          -27.82074737548828,
          -13.219612121582031,
          -8.7767333984375,
          -20.201454162597656,
          -17.736791610717773,
          -14.431686401367188,
          -19.66655921936035,
          -2.529813051223755,
          -16.94301986694336,
          -23.191085815429688,
          -7.966380596160889,
          -15.40432071685791,
          -20.025178909301758,
          -20.609800338745117,
          -16.76424217224121,
          -4.92850399017334,
          -8.889432907104492,
          -22.4317684173584,
          -21.448163986206055,
          3.997023105621338,
          -4.466442108154297,
          -11.734597206115723,
          -21.9871826171875,
          -28.479145050048828,
          18.722209930419922,
          -25.94614601135254,
          -21.45978355407715,
          -16.437166213989258,
          -21.49852752685547,
          -18.868745803833008,
          -20.403104782104492,
          -26.20587921142578,
          -9.106610298156738,
          -22.76066780090332,
          -12.53512191772461,
          -14.064053535461426,
          -5.312751770019531,
          8.595955848693848,
          -2.139842987060547,
          7.79074239730835,
          11.975658416748047,
          -15.338906288146973,
          -14.875186920166016,
          -8.428430557250977,
          -14.696235656738281,
          -7.946795463562012,
          -19.43414878845215,
          -7.533531665802002,
          -21.91033172607422,
          -11.819856643676758,
          -22.679967880249023,
          -18.34617042541504,
          -29.262971878051758,
          -6.171921730041504,
          -24.50722885131836,
          -24.830087661743164,
          -25.122940063476562,
          -15.15495777130127,
          -26.70528793334961,
          -4.955410957336426,
          -20.596050262451172,
          -27.444995880126953,
          -7.669813632965088,
          -15.647758483886719,
          -27.27214241027832,
          -25.714086532592773,
          -25.73270606994629,
          -28.757862091064453,
          -23.98149299621582,
          -25.363554000854492,
          -23.948440551757812
         ]
        }
       ],
       "layout": {}
      },
      "text/html": [
       "<div id=\"f502fbc8-05a4-40c2-b7b3-441a261fc4bc\" style=\"height: 525px; width: 100%;\" class=\"plotly-graph-div\"></div><script type=\"text/javascript\">require([\"plotly\"], function(Plotly) { window.PLOTLYENV=window.PLOTLYENV || {};window.PLOTLYENV.BASE_URL=\"https://plot.ly\";\n",
       "if (document.getElementById(\"f502fbc8-05a4-40c2-b7b3-441a261fc4bc\")) {\n",
       "    Plotly.newPlot(\"f502fbc8-05a4-40c2-b7b3-441a261fc4bc\", [{\"mode\": \"text\", \"text\": [\"N\", \"o\", \" \", \"M\", \"r\", \"e\", \"D\", \"a\", \"m\", \",\", \"\\n\", \"\\uc58c\", \"\\ub9c8\", \"\\ub124\", \"\\uafc8\", \"\\uc740\", \"\\ubb50\", \"\\ub2c8\", \"\\uaca8\", \"\\uc6b0\", \"\\uadf8\", \"\\uac70\", \"I\", \"w\", \"n\", \"b\", \"i\", \"g\", \"h\", \"u\", \"s\", \"c\", \"&\", \"B\", \"t\", \"\\uc0ac\", \"\\uc2e4\", \"d\", \"v\", \"y\", \"\\ud558\", \"\\ub09c\", \"\\ucc38\", \"\\ud3b8\", \"\\uac8c\", \"\\uc0b4\", \"\\uc5b4\", \"\\ub530\", \"\\uc704\", \"\\uc548\", \"\\uafd4\", \"\\ub3c4\", \"\\uc544\", \"\\ubb34\", \"\\ub77c\", \"\\uc796\", \"\\uc804\", \"\\ubd80\", \"\\ub2e4\", \"\\ub611\", \"\\uac19\", \"\\uc774\", \"\\ub098\", \"\\ucc98\", \"\\ub7fc\", \"\\uc0dd\", \"\\uac01\", \"\\uace0\", \"\\uc788\", \"\\uc0c8\", \"\\uae4c\", \"\\ub9e3\", \"\\uba39\", \"\\ub9ce\", \"\\ub358\", \"\\ub9b0\", \"\\uc2dc\", \"\\uc808\", \"\\ub300\", \"\\ud559\", \"\\uac71\", \"\\uc815\", \"\\uba40\", \"\\ub9ac\", \"\\uac08\", \"\\uc54c\", \"\\uc558\", \"\\uc5c4\", \"\\uc9c0\", \"\\uae08\", \"\\ub3c5\", \"\\uc11c\", \"\\uac04\", \"\\uac00\", \"\\uc628\", \"\\ubaa8\", \"\\uc2b5\", \"\\uc57c\", \"\\uc6b8\", \"\\uc18d\", \"\\uc5d4\", \"\\ub204\", \"\\ubcf4\", \"\\uc5ec\", \"\\ub108\", \"\\uc758\", \"\\uae38\", \"\\uc744\", \"\\ub2e8\", \"\\ub8e8\", \"\\ub97c\", \"\\uc57d\", \"\\ud568\", \"\\ub2f4\", \"\\ub46c\", \"\\uc65c\", \"\\ub9d0\", \"\\ubabb\", \"?\", \"\\uacf5\", \"\\ub294\", \"\\uae30\", \"\\uc2eb\", \"\\uba74\", \"\\uad50\", \"\\ub54c\", \"\\ub824\", \"\\uce58\", \"\\uac81\", \"\\ubd10\", \"\\ub4f1\", \"\\ud560\", \"\\uc900\", \"\\ube44\", \"\\ubc8c\", \"\\uc368\", \"\\ucca0\", \"\\uc880\", \"\\ub4e4\", \"\\uc81c\", \"\\ubc1c\", \"\\uc785\", \"\\ub9cc\", \"\\uc778\", \"\\uc720\", \"\\uba58\", \"\\ud0c8\", \"(\", \"S\", \"p\", \"!\", \")\", \"\\uc790\", \"\\uc2e0\", \"\\uc5d0\", \"\\ubb3c\", \"\\uc5b8\", \"\\uc5f4\", \"\\uc2ec\", \"\\ud788\", \"\\ub178\", \"\\ub825\", \"\\ud588\", \"\\ub0d0\", \"\\uc9d3\", \"l\", \"\\ub10c\", \"\\uc120\", \"\\uafb8\", \"\\ub534\", \"\\ub798\", \"\\uc798\", \"\\ud574\", \"\\uac15\", \"\\uc694\", \"\\uc9c4\", \"\\uc918\", \"L\", \"\\uc791\", \"\\uc6b4\", \"\\ubc18\", \"\\ubcf5\", \"\\ub418\", \"\\ub9e4\", \"\\uc77c\", \"\\ub978\", \"\\uacfc\", \"\\ub2d8\", \"\\ud2c0\", \"\\ubc15\", \"\\ud78c\", \"\\uc8fc\", \"\\uc7a5\", \"\\ud76c\", \"\\ub9dd\", \"\\ub118\", \"\\ubc84\", \"\\uc6d0\", \".\", \"\\ub41c\", \"9\", \"\\ud68c\", \"\\uad6c\", \"\\ud22c\", \"\\uc218\", \"\\ub0ad\", \"\\ub3cc\", \"\\uc9c1\", \"\\ub0a0\", \"\\uc625\", \"\\ud56d\", \"\\ud2b9\", \"\\ubcc4\", \"f\", \"\\uc5b5\", \"\\uc555\", \"\\ubc1b\", \"\\uc0b6\", \"\\ubc95\", \"\\ubab0\", \"\\uacb0\", \"\\uc820\", \"\\ub208\", \"\\ub5a0\", \"\\ucda4\", \"\\ucdb0\", \"\\ucb48\", \"T\", \"E\", \"U\", \"F\", \"\\ud769\", \"\\ub5a8\", \"\\ub55c\", \"\\ub807\", \"\\uc838\", \"\\uaca0\", \"\\ubb63\", \"\\ud551\", \"\\uacc4\", \"\\uac74\", \"\\uc0bc\", \"\\ud55c\", \"\\ud14c\", \"\\ub3fc\", \"\\ub4e0\", \"\\ucc22\", \"\\ucc0d\", \"\\ubbf8\", \"\\uccd0\", \"\\ub0e5\", \"\\uc6cc\", \"\\u2019\", \"Y\", \"\\uaebc\", \"\\ub791\", \"\\uc6a9\", \"\\ud63c\", \"\\uce60\", \"\\uac78\", \"\\ud544\", \"\\ub984\", \"\\ucc28\", \"\\uc624\", \"\\ucbe4\", \"\\ub0b4\", \"\\ubc14\", \"\\uc2a8\", \"\\uca54\", \"\\uc5c6\", \"\\ubd84\", \"\\uba85\", \"\\uc74c\", \"\\uc2b4\", \"\\ub370\", \"\\ub4e3\", \"\\ub610\", \"\\uc7a3\", \"\\ub298\", \"\\ud30c\", \"\\ub797\", \"\\ud587\", \"\\ube5b\", \"\\ub354\", \"G\", \"\\ud5e4\", \"\\uc5c8\", \"\\uac90\", \"\\ub7f4\", \"\\ub9c9\", \"\\ub85d\", \"\\uc640\", \"\\ubc29\", \"\\ud0c4\", \"A\", \"\\ub410\", \"\\ub140\", \"\\uc11d\", \"\\ub974\", \"\\uc2a4\", \"\\ud0c0\", \"\\ub85c\", \"\\ubc24\", \"\\ud074\", \"\\ub7fd\", \"\\ub180\", \"\\uc5f0\", \"\\ub540\", \"\\uca4c\", \"\\ub801\", \"\\ub2f5\", \"\\ub450\", \"\\ucc0c\", \"\\uc9c8\", \"\\ucc21\", \"\\ub768\", \"\\uc0c1\", \"\\uad00\", \"z\", \"O\", \"k\", \"\\uba38\", \"\\ud130\", \"\\ub05d\", \"\\uc5c5\", \"\\uccad\", \"\\ucd98\", \"\\uc369\", \"\\ub355\", \"\\ub2ec\", \"\\uc131\", \"\\uc18c\", \"\\ud06c\", \"\\ub7ec\", \"'\", \"\\ubab8\", \"C\", \"H\", \"\\uc608\", \"3\", \"\\ud3ec\", \"\\uc138\", \"5\", \"\\uc721\", \"\\uc88b\", \"\\uc73c\", \"6\", \"\\ub860\", \"\\uba70\", \"\\ub9b4\", \"\\uc2f9\", \"\\uc2dd\", \"\\uc8fd\", \"\\uac54\", \"\\ub128\", \"\\uac1c\", \"\\uc219\", \"\\ubcbd\", \"\\ub0ae\", \"\\ubed0\", \"\\uc7a0\", \"\\uae68\", \"\\ub7f0\", \"~\", \"\\ubd04\", \"\\uc2f6\", \"\\ubc09\", \"\\uc5bc\", \"\\uad74\", \"\\ubc88\", \"\\uac83\", \"\\ud798\", \"\\uae34\", \"\\ud1b5\", \"\\ubfd0\", \"8\", \"\\uc6d4\", \"\\ud640\", \"\\ub0a8\", \"\\uc124\", \"\\uad6d\", \"\\uc190\", \"\\uc7a1\", \"\\uc6c0\", \"\\uc62c\", \"\\ud5c8\", \"\\uba3c\", \"\\uc870\", \"\\ube68\", \"\\ub2ff\", \"\\ud150\", \"\\uaf43\", \"\\uc529\", \"\\uba87\", \"\\ub110\", \"\\ub420\", \"\\ucd94\", \"\\ud53c\", \"\\uacf3\", \"\\ubcc0\", \"\\uc21c\", \"\\ud750\", \"\\ub0ac\", \"\\uc78a\", \"\\uc801\", \"\\uc194\", \"\\ub35c\", \"\\ud504\", \"\\ubd88\", \"\\ubcf8\", \"\\uc580\", \"\\uce68\", \"\\ub5a4\", \"\\ub460\", \"\\uc601\", \"\\ubc9a\", \"\\uccab\", \"\\ub864\", \"\\uc654\", \"\\ud608\", \"\\ucc3e\", \"\\uc885\", \"\\uc728\", \"\\uc12d\", \"\\uc99d\", \"\\ucd9c\", \"\\ubbfc\", \"\\uc644\", \"\\ub0b8\", \"\\ub458\", \"\\uaed8\", \"\\uc9d1\", \"\\uc911\", \"\\ub044\", \"\\ud0dc\", \"\\ucd08\", \"\\ubcfc\", \"\\uc228\", \"\\uba4e\", \"\\ub780\", \"\\uac10\", \"\\uc560\", \"\\ud5a5\", \"\\ub6f0\", \"\\ud6c4\", \"\\ubb38\", \"P\", \"\\uc545\", \"\\uc55e\", \"K\", \"\\ud50c\", \"\\ucde8\", \"\\ucf1c\", \"\\ubaa9\", \"\\uae4a\", \"\\ud0a4\", \"\\ubb36\", \"\\uaf49\", \"\\uc950\", \"\\ud754\", \"\\ubc00\", \"\\ub2cc\", \"\\ub78c\", \"\\uc12c\", \"\\ubc30\", \"\\ub4dc\", \"\\ucf64\", \"R\", \"W\", \"\\uac77\", \"\\ucc3d\", \"\\uc695\", \"\\ub9db\", \"\\uac14\", \"\\uce5c\", \"\\ub188\", \"\\uc5c9\", \"\\uc090\", \"\\uba4b\", \"\\uc4f0\", \"\\uad1c\", \"\\ucc2e\", \"\\uc80a\", \"\\ubb54\", \"\\uc800\", \"\\uad34\", \"\\ub9e8\", \"\\uad70\", \"\\uc904\", \"\\ub86d\", \"\\uc600\", \"\\ub77d\", \"\\ud600\", \"\\uacbd\", \"\\uc54a\", \"\\ubb58\", \"\\uc154\", \"\\uc464\", \"\\ud654\", \"\\ub369\", \"\\ucff5\", \"\\uc288\", \"\\ud37c\", \"2\", \"4\", \"\\ud5f7\", \"\\ub9bc\", \"\\uc2ed\", \"\\ubc31\", \"\\ub9de\", \"\\uac4d\", \"\\ub054\", \"-\", \"\\ud589\", \"\\u3000\", \"\\uad81\", \"x\", \"\\ub9e1\", \"1\", \"\\ub192\", \"\\uc92c\", \"\\uc6c5\", \"\\uc708\", \"\\ud3c9\", \"\\ud0ac\", \"\\ud22d\", \"\\ub193\", \"\\ucee4\", \"\\uc9d0\", \"\\uce74\", \"\\uc591\"], \"x\": [-9.30010986328125, -34.81757736206055, -31.93038558959961, 18.66600799560547, -34.31975555419922, -35.66449737548828, -12.638984680175781, -34.68767166137695, -32.93654251098633, -16.28139877319336, -17.03218650817871, 0.4684455096721649, -12.264764785766602, -13.90131664276123, -9.061821937561035, -10.409467697143555, -8.357426643371582, -13.18911361694336, -10.314131736755371, -11.783923149108887, -12.843393325805664, -9.183972358703613, -32.07442092895508, -32.86347198486328, -35.42350387573242, -30.58868980407715, -34.292266845703125, -33.665191650390625, -33.618614196777344, -33.09980392456055, -32.83686065673828, -32.07710647583008, -2.8211236000061035, -11.715267181396484, -34.94718551635742, -14.916532516479492, -8.231073379516602, -32.09953308105469, -31.372716903686523, -33.694942474365234, -12.705666542053223, -14.043577194213867, 15.677422523498535, 17.281282424926758, -12.361693382263184, -8.41034984588623, -11.774580955505371, -6.240826606750488, -5.850018501281738, -6.32078742980957, 8.76151180267334, -10.546918869018555, -13.411957740783691, -11.543956756591797, -12.733003616333008, 24.4061279296875, -11.326152801513672, -15.410170555114746, -13.388975143432617, 24.48162269592285, -12.476186752319336, -9.448014259338379, -12.43836784362793, -15.21727466583252, -14.982022285461426, -10.375168800354004, 17.686555862426758, -14.153703689575195, -7.948127269744873, -8.054068565368652, -13.506807327270508, 24.630084991455078, 13.512703895568848, -8.8358736038208, -14.333107948303223, -14.984306335449219, -12.462240219116211, 0.6258078217506409, -15.196070671081543, -1.1018357276916504, -3.3241403102874756, -8.294857025146484, 2.445383071899414, -12.356003761291504, -13.123674392700195, -11.956467628479004, 16.563508987426758, 14.00859260559082, -11.267109870910645, -13.781963348388672, -9.06920051574707, -11.732568740844727, -14.612678527832031, -15.245059967041016, -8.521830558776855, -15.080144882202148, -4.630931854248047, -14.93898868560791, -13.041537284851074, -12.877882957458496, -8.900456428527832, 10.268224716186523, -15.98822021484375, -14.414240837097168, -12.283210754394531, -11.905216217041016, -9.271103858947754, -10.141161918640137, -0.7367767691612244, -4.673513412475586, -15.258339881896973, 17.483362197875977, -11.112931251525879, 14.58896541595459, 13.496957778930664, -14.98281192779541, -12.11439037322998, -2.1893386840820312, -7.111448287963867, -6.7460126876831055, -12.215072631835938, -12.59815502166748, 22.358312606811523, -10.523401260375977, -8.070903778076172, -11.957269668579102, -8.134119033813477, -9.60692310333252, 16.918354034423828, -13.745675086975098, 17.937088012695312, -9.122355461120605, -6.759016990661621, -7.905143737792969, -4.757211685180664, 2.7014594078063965, 15.677401542663574, -14.075796127319336, -11.13807487487793, -11.726766586303711, -8.725915908813477, 4.0691914558410645, -14.828206062316895, -10.442499160766602, 9.118579864501953, 21.355127334594727, 10.71834945678711, -31.050174713134766, -11.503687858581543, -30.766843795776367, -15.631026268005371, -29.689334869384766, -11.848015785217285, -9.08901309967041, -10.80814266204834, -14.783365249633789, 9.479988098144531, -5.673038482666016, -3.9244232177734375, -14.925938606262207, -2.9849746227264404, 8.180091857910156, -7.677871227264404, 6.856060981750488, 0.24917839467525482, -35.2990608215332, -8.867749214172363, 0.013518793508410454, -6.151264667510986, -2.248899459838867, -15.557129859924316, -3.567061424255371, -13.769869804382324, -6.451881408691406, -12.619976997375488, -12.822882652282715, -11.866259574890137, -30.761075973510742, -5.827642440795898, -12.063130378723145, -5.880958080291748, -4.874603748321533, -3.62605881690979, -3.360105276107788, -14.597588539123535, -6.229827880859375, -7.836334228515625, 5.387211799621582, 13.826335906982422, 23.65439224243164, 4.894433498382568, -12.827899932861328, -1.801828145980835, 7.683180809020996, -14.451927185058594, 6.309601783752441, -15.371816635131836, -14.266731262207031, -7.287210464477539, 11.09070110321045, 24.155811309814453, 5.421939849853516, -3.4780423641204834, 13.53661823272705, -13.490656852722168, 13.736978530883789, -6.899578094482422, -1.8723175525665283, -14.22231388092041, 9.399629592895508, 4.596902847290039, 12.33469295501709, 4.91910982131958, -31.875452041625977, 18.649246215820312, 3.842118263244629, 0.8826015591621399, 5.022558689117432, -2.881453514099121, 2.962265968322754, 16.06128692626953, 18.233287811279297, -12.362115859985352, -6.479856491088867, -2.2894110679626465, 12.989190101623535, 25.79709243774414, -3.0597918033599854, -7.554647922515869, 22.991708755493164, -31.166675567626953, 15.453670501708984, 10.159937858581543, 12.837925910949707, 25.628843307495117, -11.073917388916016, 9.503929138183594, 22.668560028076172, 23.489730834960938, -8.503368377685547, -8.058293342590332, -4.055629253387451, -14.969803810119629, 10.10651683807373, -5.261715412139893, -11.43726921081543, 22.487342834472656, 22.190494537353516, -4.970273017883301, -6.933784484863281, 8.414037704467773, -14.003872871398926, -5.636140823364258, -29.390548706054688, 3.1673784255981445, -5.522282600402832, 7.276704788208008, -6.917654037475586, -5.280213356018066, -13.148382186889648, 0.34997841715812683, 10.386174201965332, -12.727509498596191, -14.468867301940918, 16.797325134277344, -13.636561393737793, 15.706035614013672, 24.186073303222656, -9.866043090820312, -12.143811225891113, 6.5357537269592285, -12.985250473022461, -6.5374298095703125, 10.838364601135254, -6.640764236450195, 15.454118728637695, -12.758423805236816, 6.259226322174072, -4.790348052978516, -9.99327278137207, 22.845563888549805, 22.724424362182617, 23.325233459472656, -15.440347671508789, 19.44349479675293, 6.415794372558594, 8.198742866516113, 6.081503868103027, 4.515475273132324, 0.2518659234046936, 20.093263626098633, -4.213294506072998, -8.829840660095215, -0.6268224716186523, -10.338680267333984, 3.7938976287841797, -5.082902908325195, -3.566929578781128, -10.801392555236816, -14.112420082092285, -8.325148582458496, -13.240318298339844, -9.403648376464844, 10.126280784606934, -1.285030722618103, 3.7506635189056396, -1.4662017822265625, -9.896825790405273, -13.069915771484375, -2.848799705505371, 18.526317596435547, -7.1640119552612305, 8.027106285095215, -9.695911407470703, -10.469987869262695, 10.562317848205566, -9.505911827087402, 1.949315071105957, 23.11115837097168, -6.217736721038818, -30.242725372314453, -2.283815860748291, -11.046920776367188, -2.579735517501831, 4.274490833282471, 3.997992992401123, 8.101810455322266, 14.503434181213379, -11.311910629272461, -12.933549880981445, 15.194413185119629, -10.93639850616455, 25.155961990356445, -13.475762367248535, -31.921051025390625, 3.837224245071411, 15.354192733764648, -6.217752456665039, -4.219414234161377, 25.261798858642578, -9.904062271118164, -14.245695114135742, 17.139202117919922, 18.600683212280273, -6.632473468780518, -5.356973171234131, 19.50000762939453, 9.07148551940918, -1.4325798749923706, 17.926069259643555, -7.662118434906006, -2.222839832305908, 6.168755531311035, 10.846821784973145, 14.968855857849121, -2.530848741531372, -7.190061092376709, 16.583703994750977, 9.402501106262207, 12.315452575683594, 17.949474334716797, -11.600419998168945, -0.5397733449935913, 8.667460441589355, 6.2648797035217285, -11.862282752990723, 6.160470008850098, -16.083112716674805, 9.44284725189209, 12.293147087097168, -7.7185773849487305, 21.84214210510254, -1.2181495428085327, 2.152212142944336, 20.057336807250977, 7.351067066192627, 19.175352096557617, 18.12010383605957, 14.002840042114258, 11.709151268005371, 13.541309356689453, -6.0088911056518555, 22.035247802734375, 13.825372695922852, 3.9148833751678467, 18.807714462280273, 12.645249366760254, -12.864380836486816, 24.111469268798828, 24.619644165039062, 18.129003524780273, -4.333392143249512, 1.130292296409607, -4.221724510192871, -13.197187423706055, -0.35844314098358154, -0.6186131238937378, -8.742655754089355, 14.47163200378418, -3.274545669555664, 10.139790534973145, 19.075225830078125, 22.556114196777344, 6.290225028991699, 8.070202827453613, 22.533960342407227, 10.23575210571289, 16.325773239135742, -13.508777618408203, 22.352941513061523, 17.113052368164062, 11.975635528564453, -0.41457194089889526, 14.890013694763184, -7.764358043670654, 14.709778785705566, 10.401762962341309, 18.4112606048584, 11.392345428466797, 5.903817653656006, -1.2032361030578613, 19.733095169067383, 10.197723388671875, 23.166988372802734, 22.065082550048828, 18.9377498626709, 11.570854187011719, 2.705169677734375, -1.8276418447494507, -4.436695098876953, 0.15714974701404572, 21.669538497924805, 4.724203109741211, 13.044022560119629, -11.939513206481934, 1.3549426794052124, 5.949148178100586, 4.662596225738525, 18.510448455810547, -12.764910697937012, -9.071919441223145, 5.5613298416137695, 8.589372634887695, 18.786056518554688, 3.2322583198547363, 5.9194488525390625, 15.772119522094727, 13.648954391479492, 18.045917510986328, 4.176421642303467, 13.150293350219727, -4.00119686126709, 5.589779376983643, 15.20139217376709, -4.672604084014893, 17.659292221069336, 25.21637725830078, 10.596999168395996, 16.773080825805664, 3.7360174655914307, 24.08391571044922, 9.564997673034668, 4.422092914581299, 10.80620002746582, 11.467514038085938, 22.72800636291504, 3.42763352394104, 4.685191631317139, 15.604613304138184, 12.863452911376953, 10.05907917022705, 5.5661420822143555, 16.615488052368164, 24.682832717895508, 17.4797306060791, 6.526075839996338, 10.161802291870117, 16.23329734802246, 13.344419479370117, -4.041191577911377, -0.21334072947502136, 15.724018096923828, 21.645143508911133, 16.718982696533203, -13.490527153015137, 13.000162124633789, 20.728492736816406, 21.068151473999023, 17.245006561279297, 17.38652229309082, 7.562376499176025, 18.214496612548828, 11.412755012512207, 7.896086692810059, 19.170665740966797, 9.393238067626953, 4.512363433837891, -12.070536613464355, -3.4692370891571045, -12.650248527526855, -12.607897758483887, 14.519620895385742, 9.28373908996582, 15.69194221496582, 18.8823184967041, 3.7397427558898926, 5.659632682800293, 13.446920394897461, 18.87858009338379, 3.0853652954101562, 15.504149436950684, 21.262983322143555, 16.617767333984375, 3.57995343208313, 14.329024314880371, 20.135637283325195, 19.2359561920166, 17.430084228515625, 25.73076057434082, 0.21706397831439972, 15.443302154541016, 22.857751846313477, 16.091957092285156, 16.856578826904297, 14.85667610168457, 23.266006469726562, 21.97968101501465, 17.78824234008789, 13.694299697875977, 14.003911972045898, 21.52895164489746], \"y\": [19.81560707092285, 3.915220022201538, 6.362874507904053, -19.65397834777832, 4.381244659423828, 3.2748348712921143, 21.660703659057617, 2.460526466369629, 2.6712939739227295, 27.14954948425293, 28.19695281982422, -9.543279647827148, 33.86366653442383, 34.81022262573242, 25.162837982177734, 39.291893005371094, 23.67485237121582, 36.78899002075195, 19.46272087097168, 30.929723739624023, 28.514999389648438, 25.096086502075195, 3.7901675701141357, 4.928187370300293, 4.036567211151123, 4.309531211853027, 3.31420636177063, 3.9226582050323486, 3.235713481903076, 4.246420383453369, 3.645817756652832, 4.596463680267334, -10.898292541503906, 5.656394004821777, 3.1538186073303223, 33.00523376464844, 16.378921508789062, 2.7511017322540283, 3.3565564155578613, 2.5325379371643066, 38.07314682006836, 26.693992614746094, -21.789024353027344, -20.218149185180664, 38.02367401123047, 17.20248031616211, 38.83613967895508, 9.184992790222168, 9.488136291503906, 14.537115097045898, -11.166746139526367, 37.684783935546875, 35.68592834472656, 24.660856246948242, 32.139923095703125, -22.430744171142578, 25.6096134185791, 36.51470947265625, 38.98496627807617, -24.12826919555664, 10.502106666564941, 33.81361389160156, 36.30011749267578, 31.66920280456543, 22.451906204223633, 11.48098087310791, -21.181001663208008, 36.87599563598633, 8.985506057739258, 19.71169662475586, 37.51298904418945, -20.090476989746094, -10.591144561767578, 33.32247543334961, 25.863515853881836, 28.5255126953125, 26.514297485351562, -5.932396411895752, 34.66323471069336, 1.0721811056137085, -4.774186611175537, 17.619733810424805, -0.30584967136383057, 39.114524841308594, 16.91069793701172, 19.187602996826172, -13.694616317749023, -29.48526382446289, 38.212100982666016, 20.033140182495117, 3.605168104171753, 37.97556686401367, 23.954912185668945, 38.54077911376953, 1.9336535930633545, 27.854433059692383, -2.3357961177825928, 32.37299728393555, 26.0886173248291, 17.43501091003418, 4.145379543304443, -11.432598114013672, 38.46883010864258, 31.255205154418945, 33.314208984375, 39.91477584838867, 11.091598510742188, 38.24077606201172, -4.590540409088135, -7.1466217041015625, 33.597591400146484, -27.29953384399414, 16.08596420288086, -7.240534782409668, -13.720884323120117, 16.066177368164062, 35.288455963134766, 5.1627984046936035, 12.525118827819824, 10.003315925598145, 37.396141052246094, 40.095314025878906, -17.842296600341797, 22.11251449584961, 4.674015998840332, 25.73821449279785, 18.630468368530273, 2.8407840728759766, -26.20291519165039, 16.193065643310547, -17.584341049194336, 17.30537223815918, 0.061146464198827744, 15.619913101196289, -0.10604190081357956, -11.841574668884277, -13.603200912475586, 25.734405517578125, 37.4356689453125, 27.195627212524414, 21.180635452270508, -12.302837371826172, 37.11249542236328, 18.65164566040039, -8.771198272705078, -17.135944366455078, -16.654285430908203, 4.986221790313721, 1.2471418380737305, 3.755843162536621, 15.30660629272461, 5.41060209274292, 36.53447723388672, 10.603387832641602, 39.41646957397461, 35.89105987548828, -9.394328117370605, 3.911132574081421, -0.9029289484024048, 28.5040225982666, -1.7996406555175781, -14.776753425598145, 20.97071647644043, -3.8735241889953613, 1.6339316368103027, 2.4466474056243896, 5.3023552894592285, -0.8891558051109314, 16.20181655883789, -2.658916473388672, 19.171104431152344, 6.347568511962891, 32.91162872314453, 0.6379607319831848, 22.494583129882812, 17.907058715820312, 28.765125274658203, 2.854438543319702, 14.902101516723633, 18.452762603759766, 1.487419843673706, 1.296464204788208, -6.859358787536621, 0.3764990568161011, 21.132598876953125, 3.5616962909698486, 14.870573997497559, -12.95578670501709, -11.743240356445312, -27.650602340698242, -20.098316192626953, 25.560285568237305, -1.1918822526931763, -4.478959560394287, 17.45420265197754, -5.426785469055176, 24.466045379638672, 33.39977264404297, 4.535822868347168, -7.644579887390137, -25.893871307373047, -10.667875289916992, 3.1255290508270264, -14.860310554504395, 31.141523361206055, -13.335319519042969, 1.4637081623077393, -0.2889966666698456, 34.45084762573242, -11.71646499633789, -14.380751609802246, -14.771347045898438, -4.869307041168213, 3.219136953353882, -13.590517044067383, -19.91869354248047, -8.885640144348145, -19.048952102661133, -0.23416519165039062, -0.7528839707374573, -28.450456619262695, -14.670881271362305, 33.16363525390625, 5.294256687164307, -3.328791856765747, -28.870439529418945, -25.231618881225586, -11.271653175354004, 13.243054389953613, -14.309097290039062, 4.529664993286133, -26.470308303833008, -19.133277893066406, -29.484821319580078, -20.621963500976562, 23.36402130126953, -4.917534828186035, -15.275534629821777, -18.21343421936035, 14.729362487792969, 19.50084114074707, -3.5265402793884277, 29.703704833984375, -25.435955047607422, 14.117493629455566, 21.355772018432617, -21.076644897460938, -20.28464126586914, 13.095675468444824, 0.675962507724762, -14.864195823669434, 23.357637405395508, -5.382968425750732, 5.5778679847717285, -1.103176474571228, 7.101170063018799, -9.147279739379883, 10.54606819152832, -5.749412536621094, 21.35927963256836, -10.131311416625977, -18.773717880249023, 30.21009063720703, 19.805421829223633, -21.954782485961914, 37.836639404296875, -24.716678619384766, -27.578718185424805, 12.647927284240723, 24.166065216064453, -19.426830291748047, 24.902070999145508, 16.328510284423828, -21.288061141967773, 15.753641128540039, -11.327274322509766, 28.148427963256836, -3.7381505966186523, -6.81316614151001, 9.012640953063965, -18.147682189941406, -16.045427322387695, -22.2752685546875, 37.30267333984375, -28.16172218322754, -18.134286880493164, -12.561552047729492, -8.83327579498291, -20.54746437072754, -3.184785842895508, -13.196762084960938, -1.590575098991394, 1.846039056777954, -0.39111295342445374, 11.278667449951172, -19.089828491210938, 0.4214881658554077, -5.338579177856445, 17.958961486816406, 18.931549072265625, 21.0534610748291, 33.752891540527344, 10.511431694030762, -17.004108428955078, 1.6452586650848389, -8.242908477783203, 7.333176612854004, 18.198467254638672, 29.42066192626953, 6.009413242340088, -27.139278411865234, 13.327882766723633, -5.290140628814697, 11.530570030212402, 1.7791728973388672, -4.522378921508789, 7.3254714012146, 0.14674299955368042, -26.465579986572266, 30.312904357910156, 3.808401584625244, 7.828866481781006, 15.590365409851074, -0.7248271703720093, -9.831000328063965, -12.639874458312988, -6.484676837921143, -12.358631134033203, 17.23940658569336, 27.028430938720703, -12.274656295776367, 9.60779857635498, -22.366878509521484, 40.00202941894531, 4.046876430511475, -13.353129386901855, -25.789697647094727, 30.315229415893555, -1.43878173828125, -18.10761260986328, 7.950263500213623, 17.56613540649414, -16.36699676513672, -12.906347274780273, 11.895310401916504, 2.184579372406006, -13.264135360717773, -5.350905895233154, 1.8235130310058594, -14.346015930175781, 10.560578346252441, 0.7846717834472656, -9.093616485595703, -26.782909393310547, -21.908700942993164, 8.234617233276367, 2.501638174057007, -7.992664337158203, -18.48933982849121, -24.343759536743164, -27.31543731689453, 9.948222160339355, 0.7072944641113281, -4.517509937286377, -11.06162166595459, 14.024500846862793, -8.330777168273926, 22.584228515625, -24.521629333496094, -28.248008728027344, 10.336883544921875, -23.779117584228516, 3.586360454559326, -7.9437947273254395, -12.305453300476074, -10.504507064819336, -11.742264747619629, -16.399620056152344, -13.328293800354004, -6.504669666290283, -8.356420516967773, 6.721855640411377, -18.58690643310547, -25.746767044067383, -7.246944427490234, -26.468725204467773, -8.301513671875, 20.719512939453125, -24.213024139404297, -23.93882179260254, -19.880929946899414, 6.651979446411133, -7.317631244659424, 4.98462438583374, 23.96147346496582, -2.276608467102051, -3.504199266433716, 24.353412628173828, -20.362451553344727, -3.774501323699951, -6.233273029327393, -26.302902221679688, -23.941190719604492, -17.613391876220703, -11.62946891784668, -19.52659034729004, -15.343083381652832, -19.86136245727539, 24.5881290435791, -26.97858428955078, -22.80044937133789, -24.451135635375977, 1.5650599002838135, -15.247424125671387, 17.078113555908203, -26.233627319335938, -25.533010482788086, -22.852277755737305, -25.36897850036621, -20.325578689575195, 4.350281238555908, -19.143577575683594, -13.434932708740234, -22.00843048095703, -22.275434494018555, -19.60222816467285, -17.079544067382812, -16.28849220275879, 7.2963738441467285, 2.617662191390991, 0.1058054268360138, -21.278507232666016, -10.078733444213867, -25.275386810302734, 19.888193130493164, -5.169353008270264, -16.384748458862305, -11.053116798400879, -16.968908309936523, 10.296379089355469, 5.818437099456787, -4.527644157409668, -24.721115112304688, -24.33246612548828, -9.977582931518555, -15.622074127197266, -11.115100860595703, -29.629135131835938, -25.179847717285156, -20.827444076538086, -20.712635040283203, 3.2536232471466064, -14.747048377990723, -19.250761032104492, -5.189896583557129, -12.620574951171875, -25.77843475341797, -26.182579040527344, -18.168123245239258, -20.36429786682129, -27.82074737548828, -13.219612121582031, -8.7767333984375, -20.201454162597656, -17.736791610717773, -14.431686401367188, -19.66655921936035, -2.529813051223755, -16.94301986694336, -23.191085815429688, -7.966380596160889, -15.40432071685791, -20.025178909301758, -20.609800338745117, -16.76424217224121, -4.92850399017334, -8.889432907104492, -22.4317684173584, -21.448163986206055, 3.997023105621338, -4.466442108154297, -11.734597206115723, -21.9871826171875, -28.479145050048828, 18.722209930419922, -25.94614601135254, -21.45978355407715, -16.437166213989258, -21.49852752685547, -18.868745803833008, -20.403104782104492, -26.20587921142578, -9.106610298156738, -22.76066780090332, -12.53512191772461, -14.064053535461426, -5.312751770019531, 8.595955848693848, -2.139842987060547, 7.79074239730835, 11.975658416748047, -15.338906288146973, -14.875186920166016, -8.428430557250977, -14.696235656738281, -7.946795463562012, -19.43414878845215, -7.533531665802002, -21.91033172607422, -11.819856643676758, -22.679967880249023, -18.34617042541504, -29.262971878051758, -6.171921730041504, -24.50722885131836, -24.830087661743164, -25.122940063476562, -15.15495777130127, -26.70528793334961, -4.955410957336426, -20.596050262451172, -27.444995880126953, -7.669813632965088, -15.647758483886719, -27.27214241027832, -25.714086532592773, -25.73270606994629, -28.757862091064453, -23.98149299621582, -25.363554000854492, -23.948440551757812], \"type\": \"scatter\", \"uid\": \"a3fbe0c8-a810-40ec-9d51-2f57e5fe04cc\"}], {}, {\"showLink\": false, \"linkText\": \"Export to plot.ly\", \"plotlyServerURL\": \"https://plot.ly\"}); \n",
       "}\n",
       "});</script><script type=\"text/javascript\">window.addEventListener(\"resize\", function(){if (document.getElementById(\"f502fbc8-05a4-40c2-b7b3-441a261fc4bc\")) {window._Plotly.Plots.resize(document.getElementById(\"f502fbc8-05a4-40c2-b7b3-441a261fc4bc\"));};})</script>"
      ],
      "text/vnd.plotly.v1+html": [
       "<div id=\"f502fbc8-05a4-40c2-b7b3-441a261fc4bc\" style=\"height: 525px; width: 100%;\" class=\"plotly-graph-div\"></div><script type=\"text/javascript\">require([\"plotly\"], function(Plotly) { window.PLOTLYENV=window.PLOTLYENV || {};window.PLOTLYENV.BASE_URL=\"https://plot.ly\";\n",
       "if (document.getElementById(\"f502fbc8-05a4-40c2-b7b3-441a261fc4bc\")) {\n",
       "    Plotly.newPlot(\"f502fbc8-05a4-40c2-b7b3-441a261fc4bc\", [{\"mode\": \"text\", \"text\": [\"N\", \"o\", \" \", \"M\", \"r\", \"e\", \"D\", \"a\", \"m\", \",\", \"\\n\", \"\\uc58c\", \"\\ub9c8\", \"\\ub124\", \"\\uafc8\", \"\\uc740\", \"\\ubb50\", \"\\ub2c8\", \"\\uaca8\", \"\\uc6b0\", \"\\uadf8\", \"\\uac70\", \"I\", \"w\", \"n\", \"b\", \"i\", \"g\", \"h\", \"u\", \"s\", \"c\", \"&\", \"B\", \"t\", \"\\uc0ac\", \"\\uc2e4\", \"d\", \"v\", \"y\", \"\\ud558\", \"\\ub09c\", \"\\ucc38\", \"\\ud3b8\", \"\\uac8c\", \"\\uc0b4\", \"\\uc5b4\", \"\\ub530\", \"\\uc704\", \"\\uc548\", \"\\uafd4\", \"\\ub3c4\", \"\\uc544\", \"\\ubb34\", \"\\ub77c\", \"\\uc796\", \"\\uc804\", \"\\ubd80\", \"\\ub2e4\", \"\\ub611\", \"\\uac19\", \"\\uc774\", \"\\ub098\", \"\\ucc98\", \"\\ub7fc\", \"\\uc0dd\", \"\\uac01\", \"\\uace0\", \"\\uc788\", \"\\uc0c8\", \"\\uae4c\", \"\\ub9e3\", \"\\uba39\", \"\\ub9ce\", \"\\ub358\", \"\\ub9b0\", \"\\uc2dc\", \"\\uc808\", \"\\ub300\", \"\\ud559\", \"\\uac71\", \"\\uc815\", \"\\uba40\", \"\\ub9ac\", \"\\uac08\", \"\\uc54c\", \"\\uc558\", \"\\uc5c4\", \"\\uc9c0\", \"\\uae08\", \"\\ub3c5\", \"\\uc11c\", \"\\uac04\", \"\\uac00\", \"\\uc628\", \"\\ubaa8\", \"\\uc2b5\", \"\\uc57c\", \"\\uc6b8\", \"\\uc18d\", \"\\uc5d4\", \"\\ub204\", \"\\ubcf4\", \"\\uc5ec\", \"\\ub108\", \"\\uc758\", \"\\uae38\", \"\\uc744\", \"\\ub2e8\", \"\\ub8e8\", \"\\ub97c\", \"\\uc57d\", \"\\ud568\", \"\\ub2f4\", \"\\ub46c\", \"\\uc65c\", \"\\ub9d0\", \"\\ubabb\", \"?\", \"\\uacf5\", \"\\ub294\", \"\\uae30\", \"\\uc2eb\", \"\\uba74\", \"\\uad50\", \"\\ub54c\", \"\\ub824\", \"\\uce58\", \"\\uac81\", \"\\ubd10\", \"\\ub4f1\", \"\\ud560\", \"\\uc900\", \"\\ube44\", \"\\ubc8c\", \"\\uc368\", \"\\ucca0\", \"\\uc880\", \"\\ub4e4\", \"\\uc81c\", \"\\ubc1c\", \"\\uc785\", \"\\ub9cc\", \"\\uc778\", \"\\uc720\", \"\\uba58\", \"\\ud0c8\", \"(\", \"S\", \"p\", \"!\", \")\", \"\\uc790\", \"\\uc2e0\", \"\\uc5d0\", \"\\ubb3c\", \"\\uc5b8\", \"\\uc5f4\", \"\\uc2ec\", \"\\ud788\", \"\\ub178\", \"\\ub825\", \"\\ud588\", \"\\ub0d0\", \"\\uc9d3\", \"l\", \"\\ub10c\", \"\\uc120\", \"\\uafb8\", \"\\ub534\", \"\\ub798\", \"\\uc798\", \"\\ud574\", \"\\uac15\", \"\\uc694\", \"\\uc9c4\", \"\\uc918\", \"L\", \"\\uc791\", \"\\uc6b4\", \"\\ubc18\", \"\\ubcf5\", \"\\ub418\", \"\\ub9e4\", \"\\uc77c\", \"\\ub978\", \"\\uacfc\", \"\\ub2d8\", \"\\ud2c0\", \"\\ubc15\", \"\\ud78c\", \"\\uc8fc\", \"\\uc7a5\", \"\\ud76c\", \"\\ub9dd\", \"\\ub118\", \"\\ubc84\", \"\\uc6d0\", \".\", \"\\ub41c\", \"9\", \"\\ud68c\", \"\\uad6c\", \"\\ud22c\", \"\\uc218\", \"\\ub0ad\", \"\\ub3cc\", \"\\uc9c1\", \"\\ub0a0\", \"\\uc625\", \"\\ud56d\", \"\\ud2b9\", \"\\ubcc4\", \"f\", \"\\uc5b5\", \"\\uc555\", \"\\ubc1b\", \"\\uc0b6\", \"\\ubc95\", \"\\ubab0\", \"\\uacb0\", \"\\uc820\", \"\\ub208\", \"\\ub5a0\", \"\\ucda4\", \"\\ucdb0\", \"\\ucb48\", \"T\", \"E\", \"U\", \"F\", \"\\ud769\", \"\\ub5a8\", \"\\ub55c\", \"\\ub807\", \"\\uc838\", \"\\uaca0\", \"\\ubb63\", \"\\ud551\", \"\\uacc4\", \"\\uac74\", \"\\uc0bc\", \"\\ud55c\", \"\\ud14c\", \"\\ub3fc\", \"\\ub4e0\", \"\\ucc22\", \"\\ucc0d\", \"\\ubbf8\", \"\\uccd0\", \"\\ub0e5\", \"\\uc6cc\", \"\\u2019\", \"Y\", \"\\uaebc\", \"\\ub791\", \"\\uc6a9\", \"\\ud63c\", \"\\uce60\", \"\\uac78\", \"\\ud544\", \"\\ub984\", \"\\ucc28\", \"\\uc624\", \"\\ucbe4\", \"\\ub0b4\", \"\\ubc14\", \"\\uc2a8\", \"\\uca54\", \"\\uc5c6\", \"\\ubd84\", \"\\uba85\", \"\\uc74c\", \"\\uc2b4\", \"\\ub370\", \"\\ub4e3\", \"\\ub610\", \"\\uc7a3\", \"\\ub298\", \"\\ud30c\", \"\\ub797\", \"\\ud587\", \"\\ube5b\", \"\\ub354\", \"G\", \"\\ud5e4\", \"\\uc5c8\", \"\\uac90\", \"\\ub7f4\", \"\\ub9c9\", \"\\ub85d\", \"\\uc640\", \"\\ubc29\", \"\\ud0c4\", \"A\", \"\\ub410\", \"\\ub140\", \"\\uc11d\", \"\\ub974\", \"\\uc2a4\", \"\\ud0c0\", \"\\ub85c\", \"\\ubc24\", \"\\ud074\", \"\\ub7fd\", \"\\ub180\", \"\\uc5f0\", \"\\ub540\", \"\\uca4c\", \"\\ub801\", \"\\ub2f5\", \"\\ub450\", \"\\ucc0c\", \"\\uc9c8\", \"\\ucc21\", \"\\ub768\", \"\\uc0c1\", \"\\uad00\", \"z\", \"O\", \"k\", \"\\uba38\", \"\\ud130\", \"\\ub05d\", \"\\uc5c5\", \"\\uccad\", \"\\ucd98\", \"\\uc369\", \"\\ub355\", \"\\ub2ec\", \"\\uc131\", \"\\uc18c\", \"\\ud06c\", \"\\ub7ec\", \"'\", \"\\ubab8\", \"C\", \"H\", \"\\uc608\", \"3\", \"\\ud3ec\", \"\\uc138\", \"5\", \"\\uc721\", \"\\uc88b\", \"\\uc73c\", \"6\", \"\\ub860\", \"\\uba70\", \"\\ub9b4\", \"\\uc2f9\", \"\\uc2dd\", \"\\uc8fd\", \"\\uac54\", \"\\ub128\", \"\\uac1c\", \"\\uc219\", \"\\ubcbd\", \"\\ub0ae\", \"\\ubed0\", \"\\uc7a0\", \"\\uae68\", \"\\ub7f0\", \"~\", \"\\ubd04\", \"\\uc2f6\", \"\\ubc09\", \"\\uc5bc\", \"\\uad74\", \"\\ubc88\", \"\\uac83\", \"\\ud798\", \"\\uae34\", \"\\ud1b5\", \"\\ubfd0\", \"8\", \"\\uc6d4\", \"\\ud640\", \"\\ub0a8\", \"\\uc124\", \"\\uad6d\", \"\\uc190\", \"\\uc7a1\", \"\\uc6c0\", \"\\uc62c\", \"\\ud5c8\", \"\\uba3c\", \"\\uc870\", \"\\ube68\", \"\\ub2ff\", \"\\ud150\", \"\\uaf43\", \"\\uc529\", \"\\uba87\", \"\\ub110\", \"\\ub420\", \"\\ucd94\", \"\\ud53c\", \"\\uacf3\", \"\\ubcc0\", \"\\uc21c\", \"\\ud750\", \"\\ub0ac\", \"\\uc78a\", \"\\uc801\", \"\\uc194\", \"\\ub35c\", \"\\ud504\", \"\\ubd88\", \"\\ubcf8\", \"\\uc580\", \"\\uce68\", \"\\ub5a4\", \"\\ub460\", \"\\uc601\", \"\\ubc9a\", \"\\uccab\", \"\\ub864\", \"\\uc654\", \"\\ud608\", \"\\ucc3e\", \"\\uc885\", \"\\uc728\", \"\\uc12d\", \"\\uc99d\", \"\\ucd9c\", \"\\ubbfc\", \"\\uc644\", \"\\ub0b8\", \"\\ub458\", \"\\uaed8\", \"\\uc9d1\", \"\\uc911\", \"\\ub044\", \"\\ud0dc\", \"\\ucd08\", \"\\ubcfc\", \"\\uc228\", \"\\uba4e\", \"\\ub780\", \"\\uac10\", \"\\uc560\", \"\\ud5a5\", \"\\ub6f0\", \"\\ud6c4\", \"\\ubb38\", \"P\", \"\\uc545\", \"\\uc55e\", \"K\", \"\\ud50c\", \"\\ucde8\", \"\\ucf1c\", \"\\ubaa9\", \"\\uae4a\", \"\\ud0a4\", \"\\ubb36\", \"\\uaf49\", \"\\uc950\", \"\\ud754\", \"\\ubc00\", \"\\ub2cc\", \"\\ub78c\", \"\\uc12c\", \"\\ubc30\", \"\\ub4dc\", \"\\ucf64\", \"R\", \"W\", \"\\uac77\", \"\\ucc3d\", \"\\uc695\", \"\\ub9db\", \"\\uac14\", \"\\uce5c\", \"\\ub188\", \"\\uc5c9\", \"\\uc090\", \"\\uba4b\", \"\\uc4f0\", \"\\uad1c\", \"\\ucc2e\", \"\\uc80a\", \"\\ubb54\", \"\\uc800\", \"\\uad34\", \"\\ub9e8\", \"\\uad70\", \"\\uc904\", \"\\ub86d\", \"\\uc600\", \"\\ub77d\", \"\\ud600\", \"\\uacbd\", \"\\uc54a\", \"\\ubb58\", \"\\uc154\", \"\\uc464\", \"\\ud654\", \"\\ub369\", \"\\ucff5\", \"\\uc288\", \"\\ud37c\", \"2\", \"4\", \"\\ud5f7\", \"\\ub9bc\", \"\\uc2ed\", \"\\ubc31\", \"\\ub9de\", \"\\uac4d\", \"\\ub054\", \"-\", \"\\ud589\", \"\\u3000\", \"\\uad81\", \"x\", \"\\ub9e1\", \"1\", \"\\ub192\", \"\\uc92c\", \"\\uc6c5\", \"\\uc708\", \"\\ud3c9\", \"\\ud0ac\", \"\\ud22d\", \"\\ub193\", \"\\ucee4\", \"\\uc9d0\", \"\\uce74\", \"\\uc591\"], \"x\": [-9.30010986328125, -34.81757736206055, -31.93038558959961, 18.66600799560547, -34.31975555419922, -35.66449737548828, -12.638984680175781, -34.68767166137695, -32.93654251098633, -16.28139877319336, -17.03218650817871, 0.4684455096721649, -12.264764785766602, -13.90131664276123, -9.061821937561035, -10.409467697143555, -8.357426643371582, -13.18911361694336, -10.314131736755371, -11.783923149108887, -12.843393325805664, -9.183972358703613, -32.07442092895508, -32.86347198486328, -35.42350387573242, -30.58868980407715, -34.292266845703125, -33.665191650390625, -33.618614196777344, -33.09980392456055, -32.83686065673828, -32.07710647583008, -2.8211236000061035, -11.715267181396484, -34.94718551635742, -14.916532516479492, -8.231073379516602, -32.09953308105469, -31.372716903686523, -33.694942474365234, -12.705666542053223, -14.043577194213867, 15.677422523498535, 17.281282424926758, -12.361693382263184, -8.41034984588623, -11.774580955505371, -6.240826606750488, -5.850018501281738, -6.32078742980957, 8.76151180267334, -10.546918869018555, -13.411957740783691, -11.543956756591797, -12.733003616333008, 24.4061279296875, -11.326152801513672, -15.410170555114746, -13.388975143432617, 24.48162269592285, -12.476186752319336, -9.448014259338379, -12.43836784362793, -15.21727466583252, -14.982022285461426, -10.375168800354004, 17.686555862426758, -14.153703689575195, -7.948127269744873, -8.054068565368652, -13.506807327270508, 24.630084991455078, 13.512703895568848, -8.8358736038208, -14.333107948303223, -14.984306335449219, -12.462240219116211, 0.6258078217506409, -15.196070671081543, -1.1018357276916504, -3.3241403102874756, -8.294857025146484, 2.445383071899414, -12.356003761291504, -13.123674392700195, -11.956467628479004, 16.563508987426758, 14.00859260559082, -11.267109870910645, -13.781963348388672, -9.06920051574707, -11.732568740844727, -14.612678527832031, -15.245059967041016, -8.521830558776855, -15.080144882202148, -4.630931854248047, -14.93898868560791, -13.041537284851074, -12.877882957458496, -8.900456428527832, 10.268224716186523, -15.98822021484375, -14.414240837097168, -12.283210754394531, -11.905216217041016, -9.271103858947754, -10.141161918640137, -0.7367767691612244, -4.673513412475586, -15.258339881896973, 17.483362197875977, -11.112931251525879, 14.58896541595459, 13.496957778930664, -14.98281192779541, -12.11439037322998, -2.1893386840820312, -7.111448287963867, -6.7460126876831055, -12.215072631835938, -12.59815502166748, 22.358312606811523, -10.523401260375977, -8.070903778076172, -11.957269668579102, -8.134119033813477, -9.60692310333252, 16.918354034423828, -13.745675086975098, 17.937088012695312, -9.122355461120605, -6.759016990661621, -7.905143737792969, -4.757211685180664, 2.7014594078063965, 15.677401542663574, -14.075796127319336, -11.13807487487793, -11.726766586303711, -8.725915908813477, 4.0691914558410645, -14.828206062316895, -10.442499160766602, 9.118579864501953, 21.355127334594727, 10.71834945678711, -31.050174713134766, -11.503687858581543, -30.766843795776367, -15.631026268005371, -29.689334869384766, -11.848015785217285, -9.08901309967041, -10.80814266204834, -14.783365249633789, 9.479988098144531, -5.673038482666016, -3.9244232177734375, -14.925938606262207, -2.9849746227264404, 8.180091857910156, -7.677871227264404, 6.856060981750488, 0.24917839467525482, -35.2990608215332, -8.867749214172363, 0.013518793508410454, -6.151264667510986, -2.248899459838867, -15.557129859924316, -3.567061424255371, -13.769869804382324, -6.451881408691406, -12.619976997375488, -12.822882652282715, -11.866259574890137, -30.761075973510742, -5.827642440795898, -12.063130378723145, -5.880958080291748, -4.874603748321533, -3.62605881690979, -3.360105276107788, -14.597588539123535, -6.229827880859375, -7.836334228515625, 5.387211799621582, 13.826335906982422, 23.65439224243164, 4.894433498382568, -12.827899932861328, -1.801828145980835, 7.683180809020996, -14.451927185058594, 6.309601783752441, -15.371816635131836, -14.266731262207031, -7.287210464477539, 11.09070110321045, 24.155811309814453, 5.421939849853516, -3.4780423641204834, 13.53661823272705, -13.490656852722168, 13.736978530883789, -6.899578094482422, -1.8723175525665283, -14.22231388092041, 9.399629592895508, 4.596902847290039, 12.33469295501709, 4.91910982131958, -31.875452041625977, 18.649246215820312, 3.842118263244629, 0.8826015591621399, 5.022558689117432, -2.881453514099121, 2.962265968322754, 16.06128692626953, 18.233287811279297, -12.362115859985352, -6.479856491088867, -2.2894110679626465, 12.989190101623535, 25.79709243774414, -3.0597918033599854, -7.554647922515869, 22.991708755493164, -31.166675567626953, 15.453670501708984, 10.159937858581543, 12.837925910949707, 25.628843307495117, -11.073917388916016, 9.503929138183594, 22.668560028076172, 23.489730834960938, -8.503368377685547, -8.058293342590332, -4.055629253387451, -14.969803810119629, 10.10651683807373, -5.261715412139893, -11.43726921081543, 22.487342834472656, 22.190494537353516, -4.970273017883301, -6.933784484863281, 8.414037704467773, -14.003872871398926, -5.636140823364258, -29.390548706054688, 3.1673784255981445, -5.522282600402832, 7.276704788208008, -6.917654037475586, -5.280213356018066, -13.148382186889648, 0.34997841715812683, 10.386174201965332, -12.727509498596191, -14.468867301940918, 16.797325134277344, -13.636561393737793, 15.706035614013672, 24.186073303222656, -9.866043090820312, -12.143811225891113, 6.5357537269592285, -12.985250473022461, -6.5374298095703125, 10.838364601135254, -6.640764236450195, 15.454118728637695, -12.758423805236816, 6.259226322174072, -4.790348052978516, -9.99327278137207, 22.845563888549805, 22.724424362182617, 23.325233459472656, -15.440347671508789, 19.44349479675293, 6.415794372558594, 8.198742866516113, 6.081503868103027, 4.515475273132324, 0.2518659234046936, 20.093263626098633, -4.213294506072998, -8.829840660095215, -0.6268224716186523, -10.338680267333984, 3.7938976287841797, -5.082902908325195, -3.566929578781128, -10.801392555236816, -14.112420082092285, -8.325148582458496, -13.240318298339844, -9.403648376464844, 10.126280784606934, -1.285030722618103, 3.7506635189056396, -1.4662017822265625, -9.896825790405273, -13.069915771484375, -2.848799705505371, 18.526317596435547, -7.1640119552612305, 8.027106285095215, -9.695911407470703, -10.469987869262695, 10.562317848205566, -9.505911827087402, 1.949315071105957, 23.11115837097168, -6.217736721038818, -30.242725372314453, -2.283815860748291, -11.046920776367188, -2.579735517501831, 4.274490833282471, 3.997992992401123, 8.101810455322266, 14.503434181213379, -11.311910629272461, -12.933549880981445, 15.194413185119629, -10.93639850616455, 25.155961990356445, -13.475762367248535, -31.921051025390625, 3.837224245071411, 15.354192733764648, -6.217752456665039, -4.219414234161377, 25.261798858642578, -9.904062271118164, -14.245695114135742, 17.139202117919922, 18.600683212280273, -6.632473468780518, -5.356973171234131, 19.50000762939453, 9.07148551940918, -1.4325798749923706, 17.926069259643555, -7.662118434906006, -2.222839832305908, 6.168755531311035, 10.846821784973145, 14.968855857849121, -2.530848741531372, -7.190061092376709, 16.583703994750977, 9.402501106262207, 12.315452575683594, 17.949474334716797, -11.600419998168945, -0.5397733449935913, 8.667460441589355, 6.2648797035217285, -11.862282752990723, 6.160470008850098, -16.083112716674805, 9.44284725189209, 12.293147087097168, -7.7185773849487305, 21.84214210510254, -1.2181495428085327, 2.152212142944336, 20.057336807250977, 7.351067066192627, 19.175352096557617, 18.12010383605957, 14.002840042114258, 11.709151268005371, 13.541309356689453, -6.0088911056518555, 22.035247802734375, 13.825372695922852, 3.9148833751678467, 18.807714462280273, 12.645249366760254, -12.864380836486816, 24.111469268798828, 24.619644165039062, 18.129003524780273, -4.333392143249512, 1.130292296409607, -4.221724510192871, -13.197187423706055, -0.35844314098358154, -0.6186131238937378, -8.742655754089355, 14.47163200378418, -3.274545669555664, 10.139790534973145, 19.075225830078125, 22.556114196777344, 6.290225028991699, 8.070202827453613, 22.533960342407227, 10.23575210571289, 16.325773239135742, -13.508777618408203, 22.352941513061523, 17.113052368164062, 11.975635528564453, -0.41457194089889526, 14.890013694763184, -7.764358043670654, 14.709778785705566, 10.401762962341309, 18.4112606048584, 11.392345428466797, 5.903817653656006, -1.2032361030578613, 19.733095169067383, 10.197723388671875, 23.166988372802734, 22.065082550048828, 18.9377498626709, 11.570854187011719, 2.705169677734375, -1.8276418447494507, -4.436695098876953, 0.15714974701404572, 21.669538497924805, 4.724203109741211, 13.044022560119629, -11.939513206481934, 1.3549426794052124, 5.949148178100586, 4.662596225738525, 18.510448455810547, -12.764910697937012, -9.071919441223145, 5.5613298416137695, 8.589372634887695, 18.786056518554688, 3.2322583198547363, 5.9194488525390625, 15.772119522094727, 13.648954391479492, 18.045917510986328, 4.176421642303467, 13.150293350219727, -4.00119686126709, 5.589779376983643, 15.20139217376709, -4.672604084014893, 17.659292221069336, 25.21637725830078, 10.596999168395996, 16.773080825805664, 3.7360174655914307, 24.08391571044922, 9.564997673034668, 4.422092914581299, 10.80620002746582, 11.467514038085938, 22.72800636291504, 3.42763352394104, 4.685191631317139, 15.604613304138184, 12.863452911376953, 10.05907917022705, 5.5661420822143555, 16.615488052368164, 24.682832717895508, 17.4797306060791, 6.526075839996338, 10.161802291870117, 16.23329734802246, 13.344419479370117, -4.041191577911377, -0.21334072947502136, 15.724018096923828, 21.645143508911133, 16.718982696533203, -13.490527153015137, 13.000162124633789, 20.728492736816406, 21.068151473999023, 17.245006561279297, 17.38652229309082, 7.562376499176025, 18.214496612548828, 11.412755012512207, 7.896086692810059, 19.170665740966797, 9.393238067626953, 4.512363433837891, -12.070536613464355, -3.4692370891571045, -12.650248527526855, -12.607897758483887, 14.519620895385742, 9.28373908996582, 15.69194221496582, 18.8823184967041, 3.7397427558898926, 5.659632682800293, 13.446920394897461, 18.87858009338379, 3.0853652954101562, 15.504149436950684, 21.262983322143555, 16.617767333984375, 3.57995343208313, 14.329024314880371, 20.135637283325195, 19.2359561920166, 17.430084228515625, 25.73076057434082, 0.21706397831439972, 15.443302154541016, 22.857751846313477, 16.091957092285156, 16.856578826904297, 14.85667610168457, 23.266006469726562, 21.97968101501465, 17.78824234008789, 13.694299697875977, 14.003911972045898, 21.52895164489746], \"y\": [19.81560707092285, 3.915220022201538, 6.362874507904053, -19.65397834777832, 4.381244659423828, 3.2748348712921143, 21.660703659057617, 2.460526466369629, 2.6712939739227295, 27.14954948425293, 28.19695281982422, -9.543279647827148, 33.86366653442383, 34.81022262573242, 25.162837982177734, 39.291893005371094, 23.67485237121582, 36.78899002075195, 19.46272087097168, 30.929723739624023, 28.514999389648438, 25.096086502075195, 3.7901675701141357, 4.928187370300293, 4.036567211151123, 4.309531211853027, 3.31420636177063, 3.9226582050323486, 3.235713481903076, 4.246420383453369, 3.645817756652832, 4.596463680267334, -10.898292541503906, 5.656394004821777, 3.1538186073303223, 33.00523376464844, 16.378921508789062, 2.7511017322540283, 3.3565564155578613, 2.5325379371643066, 38.07314682006836, 26.693992614746094, -21.789024353027344, -20.218149185180664, 38.02367401123047, 17.20248031616211, 38.83613967895508, 9.184992790222168, 9.488136291503906, 14.537115097045898, -11.166746139526367, 37.684783935546875, 35.68592834472656, 24.660856246948242, 32.139923095703125, -22.430744171142578, 25.6096134185791, 36.51470947265625, 38.98496627807617, -24.12826919555664, 10.502106666564941, 33.81361389160156, 36.30011749267578, 31.66920280456543, 22.451906204223633, 11.48098087310791, -21.181001663208008, 36.87599563598633, 8.985506057739258, 19.71169662475586, 37.51298904418945, -20.090476989746094, -10.591144561767578, 33.32247543334961, 25.863515853881836, 28.5255126953125, 26.514297485351562, -5.932396411895752, 34.66323471069336, 1.0721811056137085, -4.774186611175537, 17.619733810424805, -0.30584967136383057, 39.114524841308594, 16.91069793701172, 19.187602996826172, -13.694616317749023, -29.48526382446289, 38.212100982666016, 20.033140182495117, 3.605168104171753, 37.97556686401367, 23.954912185668945, 38.54077911376953, 1.9336535930633545, 27.854433059692383, -2.3357961177825928, 32.37299728393555, 26.0886173248291, 17.43501091003418, 4.145379543304443, -11.432598114013672, 38.46883010864258, 31.255205154418945, 33.314208984375, 39.91477584838867, 11.091598510742188, 38.24077606201172, -4.590540409088135, -7.1466217041015625, 33.597591400146484, -27.29953384399414, 16.08596420288086, -7.240534782409668, -13.720884323120117, 16.066177368164062, 35.288455963134766, 5.1627984046936035, 12.525118827819824, 10.003315925598145, 37.396141052246094, 40.095314025878906, -17.842296600341797, 22.11251449584961, 4.674015998840332, 25.73821449279785, 18.630468368530273, 2.8407840728759766, -26.20291519165039, 16.193065643310547, -17.584341049194336, 17.30537223815918, 0.061146464198827744, 15.619913101196289, -0.10604190081357956, -11.841574668884277, -13.603200912475586, 25.734405517578125, 37.4356689453125, 27.195627212524414, 21.180635452270508, -12.302837371826172, 37.11249542236328, 18.65164566040039, -8.771198272705078, -17.135944366455078, -16.654285430908203, 4.986221790313721, 1.2471418380737305, 3.755843162536621, 15.30660629272461, 5.41060209274292, 36.53447723388672, 10.603387832641602, 39.41646957397461, 35.89105987548828, -9.394328117370605, 3.911132574081421, -0.9029289484024048, 28.5040225982666, -1.7996406555175781, -14.776753425598145, 20.97071647644043, -3.8735241889953613, 1.6339316368103027, 2.4466474056243896, 5.3023552894592285, -0.8891558051109314, 16.20181655883789, -2.658916473388672, 19.171104431152344, 6.347568511962891, 32.91162872314453, 0.6379607319831848, 22.494583129882812, 17.907058715820312, 28.765125274658203, 2.854438543319702, 14.902101516723633, 18.452762603759766, 1.487419843673706, 1.296464204788208, -6.859358787536621, 0.3764990568161011, 21.132598876953125, 3.5616962909698486, 14.870573997497559, -12.95578670501709, -11.743240356445312, -27.650602340698242, -20.098316192626953, 25.560285568237305, -1.1918822526931763, -4.478959560394287, 17.45420265197754, -5.426785469055176, 24.466045379638672, 33.39977264404297, 4.535822868347168, -7.644579887390137, -25.893871307373047, -10.667875289916992, 3.1255290508270264, -14.860310554504395, 31.141523361206055, -13.335319519042969, 1.4637081623077393, -0.2889966666698456, 34.45084762573242, -11.71646499633789, -14.380751609802246, -14.771347045898438, -4.869307041168213, 3.219136953353882, -13.590517044067383, -19.91869354248047, -8.885640144348145, -19.048952102661133, -0.23416519165039062, -0.7528839707374573, -28.450456619262695, -14.670881271362305, 33.16363525390625, 5.294256687164307, -3.328791856765747, -28.870439529418945, -25.231618881225586, -11.271653175354004, 13.243054389953613, -14.309097290039062, 4.529664993286133, -26.470308303833008, -19.133277893066406, -29.484821319580078, -20.621963500976562, 23.36402130126953, -4.917534828186035, -15.275534629821777, -18.21343421936035, 14.729362487792969, 19.50084114074707, -3.5265402793884277, 29.703704833984375, -25.435955047607422, 14.117493629455566, 21.355772018432617, -21.076644897460938, -20.28464126586914, 13.095675468444824, 0.675962507724762, -14.864195823669434, 23.357637405395508, -5.382968425750732, 5.5778679847717285, -1.103176474571228, 7.101170063018799, -9.147279739379883, 10.54606819152832, -5.749412536621094, 21.35927963256836, -10.131311416625977, -18.773717880249023, 30.21009063720703, 19.805421829223633, -21.954782485961914, 37.836639404296875, -24.716678619384766, -27.578718185424805, 12.647927284240723, 24.166065216064453, -19.426830291748047, 24.902070999145508, 16.328510284423828, -21.288061141967773, 15.753641128540039, -11.327274322509766, 28.148427963256836, -3.7381505966186523, -6.81316614151001, 9.012640953063965, -18.147682189941406, -16.045427322387695, -22.2752685546875, 37.30267333984375, -28.16172218322754, -18.134286880493164, -12.561552047729492, -8.83327579498291, -20.54746437072754, -3.184785842895508, -13.196762084960938, -1.590575098991394, 1.846039056777954, -0.39111295342445374, 11.278667449951172, -19.089828491210938, 0.4214881658554077, -5.338579177856445, 17.958961486816406, 18.931549072265625, 21.0534610748291, 33.752891540527344, 10.511431694030762, -17.004108428955078, 1.6452586650848389, -8.242908477783203, 7.333176612854004, 18.198467254638672, 29.42066192626953, 6.009413242340088, -27.139278411865234, 13.327882766723633, -5.290140628814697, 11.530570030212402, 1.7791728973388672, -4.522378921508789, 7.3254714012146, 0.14674299955368042, -26.465579986572266, 30.312904357910156, 3.808401584625244, 7.828866481781006, 15.590365409851074, -0.7248271703720093, -9.831000328063965, -12.639874458312988, -6.484676837921143, -12.358631134033203, 17.23940658569336, 27.028430938720703, -12.274656295776367, 9.60779857635498, -22.366878509521484, 40.00202941894531, 4.046876430511475, -13.353129386901855, -25.789697647094727, 30.315229415893555, -1.43878173828125, -18.10761260986328, 7.950263500213623, 17.56613540649414, -16.36699676513672, -12.906347274780273, 11.895310401916504, 2.184579372406006, -13.264135360717773, -5.350905895233154, 1.8235130310058594, -14.346015930175781, 10.560578346252441, 0.7846717834472656, -9.093616485595703, -26.782909393310547, -21.908700942993164, 8.234617233276367, 2.501638174057007, -7.992664337158203, -18.48933982849121, -24.343759536743164, -27.31543731689453, 9.948222160339355, 0.7072944641113281, -4.517509937286377, -11.06162166595459, 14.024500846862793, -8.330777168273926, 22.584228515625, -24.521629333496094, -28.248008728027344, 10.336883544921875, -23.779117584228516, 3.586360454559326, -7.9437947273254395, -12.305453300476074, -10.504507064819336, -11.742264747619629, -16.399620056152344, -13.328293800354004, -6.504669666290283, -8.356420516967773, 6.721855640411377, -18.58690643310547, -25.746767044067383, -7.246944427490234, -26.468725204467773, -8.301513671875, 20.719512939453125, -24.213024139404297, -23.93882179260254, -19.880929946899414, 6.651979446411133, -7.317631244659424, 4.98462438583374, 23.96147346496582, -2.276608467102051, -3.504199266433716, 24.353412628173828, -20.362451553344727, -3.774501323699951, -6.233273029327393, -26.302902221679688, -23.941190719604492, -17.613391876220703, -11.62946891784668, -19.52659034729004, -15.343083381652832, -19.86136245727539, 24.5881290435791, -26.97858428955078, -22.80044937133789, -24.451135635375977, 1.5650599002838135, -15.247424125671387, 17.078113555908203, -26.233627319335938, -25.533010482788086, -22.852277755737305, -25.36897850036621, -20.325578689575195, 4.350281238555908, -19.143577575683594, -13.434932708740234, -22.00843048095703, -22.275434494018555, -19.60222816467285, -17.079544067382812, -16.28849220275879, 7.2963738441467285, 2.617662191390991, 0.1058054268360138, -21.278507232666016, -10.078733444213867, -25.275386810302734, 19.888193130493164, -5.169353008270264, -16.384748458862305, -11.053116798400879, -16.968908309936523, 10.296379089355469, 5.818437099456787, -4.527644157409668, -24.721115112304688, -24.33246612548828, -9.977582931518555, -15.622074127197266, -11.115100860595703, -29.629135131835938, -25.179847717285156, -20.827444076538086, -20.712635040283203, 3.2536232471466064, -14.747048377990723, -19.250761032104492, -5.189896583557129, -12.620574951171875, -25.77843475341797, -26.182579040527344, -18.168123245239258, -20.36429786682129, -27.82074737548828, -13.219612121582031, -8.7767333984375, -20.201454162597656, -17.736791610717773, -14.431686401367188, -19.66655921936035, -2.529813051223755, -16.94301986694336, -23.191085815429688, -7.966380596160889, -15.40432071685791, -20.025178909301758, -20.609800338745117, -16.76424217224121, -4.92850399017334, -8.889432907104492, -22.4317684173584, -21.448163986206055, 3.997023105621338, -4.466442108154297, -11.734597206115723, -21.9871826171875, -28.479145050048828, 18.722209930419922, -25.94614601135254, -21.45978355407715, -16.437166213989258, -21.49852752685547, -18.868745803833008, -20.403104782104492, -26.20587921142578, -9.106610298156738, -22.76066780090332, -12.53512191772461, -14.064053535461426, -5.312751770019531, 8.595955848693848, -2.139842987060547, 7.79074239730835, 11.975658416748047, -15.338906288146973, -14.875186920166016, -8.428430557250977, -14.696235656738281, -7.946795463562012, -19.43414878845215, -7.533531665802002, -21.91033172607422, -11.819856643676758, -22.679967880249023, -18.34617042541504, -29.262971878051758, -6.171921730041504, -24.50722885131836, -24.830087661743164, -25.122940063476562, -15.15495777130127, -26.70528793334961, -4.955410957336426, -20.596050262451172, -27.444995880126953, -7.669813632965088, -15.647758483886719, -27.27214241027832, -25.714086532592773, -25.73270606994629, -28.757862091064453, -23.98149299621582, -25.363554000854492, -23.948440551757812], \"type\": \"scatter\", \"uid\": \"a3fbe0c8-a810-40ec-9d51-2f57e5fe04cc\"}], {}, {\"showLink\": false, \"linkText\": \"Export to plot.ly\", \"plotlyServerURL\": \"https://plot.ly\"}); \n",
       "}\n",
       "});</script><script type=\"text/javascript\">window.addEventListener(\"resize\", function(){if (document.getElementById(\"f502fbc8-05a4-40c2-b7b3-441a261fc4bc\")) {window._Plotly.Plots.resize(document.getElementById(\"f502fbc8-05a4-40c2-b7b3-441a261fc4bc\"));};})</script>"
      ]
     },
     "metadata": {},
     "output_type": "display_data"
    }
   ],
   "source": [
    "labels = [word for word in ft_ko.wv.vocab]\n",
    "vectors = [ft_ko.wv[word] for word in labels]\n",
    "\n",
    "visualize_embeddings(vectors, labels)"
   ]
  },
  {
   "cell_type": "markdown",
   "metadata": {},
   "source": [
    "----------------------------"
   ]
  },
  {
   "cell_type": "markdown",
   "metadata": {},
   "source": [
    "## Sentence Embeding"
   ]
  },
  {
   "cell_type": "markdown",
   "metadata": {},
   "source": [
    "--------------------------"
   ]
  },
  {
   "cell_type": "markdown",
   "metadata": {},
   "source": [
    "# 참고자료 \n",
    "* Applied Text Analysis with Python: Enabling Language-Aware Data Products with Machine Learning - https://www.amazon.com/Applied-Text-Analysis-Python-Language-Aware/dp/1491963042/\n",
    "* Natural Language Processing - https://www.coursera.org/learn/language-processing / Main approaches in NLP\n",
    "* http://git.ajou.ac.kr/open-source-2018-spring/python_Korean_NLP/blob/master/README.md\n",
    "* https://github.com/lovit/soynlp\n",
    "* https://github.com/lovit/textmining-tutorial\n",
    "* https://github.com/lovit/textmining-tutorial/blob/master/topics/topic4_embedding/word_document_embedding.pdf\n",
    "* https://github.com/lovit/python_ml4nlp\n",
    "* https://github.com/lovit/python_ml4nlp/blob/master/day5_embedding_and_visualizing/day_5_4_fasttext_gensim.ipynb"
   ]
  }
 ],
 "metadata": {
  "kernelspec": {
   "display_name": "Python 3",
   "language": "python",
   "name": "python3"
  },
  "language_info": {
   "codemirror_mode": {
    "name": "ipython",
    "version": 3
   },
   "file_extension": ".py",
   "mimetype": "text/x-python",
   "name": "python",
   "nbconvert_exporter": "python",
   "pygments_lexer": "ipython3",
   "version": "3.7.3"
  }
 },
 "nbformat": 4,
 "nbformat_minor": 2
}
