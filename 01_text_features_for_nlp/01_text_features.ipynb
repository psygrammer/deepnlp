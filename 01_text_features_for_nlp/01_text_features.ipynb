{
 "cells": [
  {
   "cell_type": "markdown",
   "metadata": {},
   "source": [
    "# 01.Text Vectorization (Draft)"
   ]
  },
  {
   "cell_type": "markdown",
   "metadata": {},
   "source": [
    "# 차례\n",
    "* Frequency Vectors\n",
    "* One-Hot Encoding\n",
    "* Term Frequency-Inverse Document Frequency\n",
    "* Distributed Representation"
   ]
  },
  {
   "cell_type": "markdown",
   "metadata": {},
   "source": [
    "-----------------------"
   ]
  },
  {
   "cell_type": "markdown",
   "metadata": {},
   "source": [
    "<img src=\"https://nbviewer.jupyter.org/github/psygrammer/psyml/blob/master/nlp_ml/ch01/figures/cap1.3.png\" width=600 />\n",
    "<img src=\"https://nbviewer.jupyter.org/github/psygrammer/psyml/blob/master/nlp_ml/ch01/figures/cap1.4.png\" width=600 />\n",
    "\n",
    "* 출처 - Applied Text Analysis with Python: Enabling Language-Aware Data Products with Machine Learning - https://www.amazon.com/Applied-Text-Analysis-Python-Language-Aware/dp/1491963042/"
   ]
  },
  {
   "cell_type": "markdown",
   "metadata": {},
   "source": [
    "<img src=\"figures/main_nlp_01.png\" width=600 />\n",
    "<img src=\"figures/main_nlp_02.png\" width=600 />\n",
    "<img src=\"figures/main_nlp_03.png\" width=600 />\n",
    "<img src=\"figures/main_nlp_04.png\" width=600 />\n",
    "<img src=\"figures/main_nlp_05.png\" width=600 />\n",
    "\n",
    "* 출처 - Natural Language Processing - https://www.coursera.org/learn/language-processing - Main approaches in NLP"
   ]
  },
  {
   "cell_type": "markdown",
   "metadata": {},
   "source": [
    "<img src=\"https://nbviewer.jupyter.org/github/psygrammer/psyml/blob/master/nlp_ml/ch04/figures/cap01.png\" width=600 />\n",
    "\n",
    "* 출처 - Applied Text Analysis with Python: Enabling Language-Aware Data Products with Machine Learning - https://www.amazon.com/Applied-Text-Analysis-Python-Language-Aware/dp/1491963042/"
   ]
  },
  {
   "cell_type": "markdown",
   "metadata": {},
   "source": [
    "<img src=\"https://slideplayer.com/slide/5270778/17/images/10/Distributed+Word+Representation.jpg\" width=600 />\n",
    "\n",
    "* 출처 - https://slideplayer.com/slide/5270778/"
   ]
  },
  {
   "cell_type": "markdown",
   "metadata": {},
   "source": [
    "---------------------"
   ]
  },
  {
   "cell_type": "markdown",
   "metadata": {},
   "source": [
    "# Frequency Vectors"
   ]
  },
  {
   "cell_type": "markdown",
   "metadata": {},
   "source": [
    "<img src=\"https://nbviewer.jupyter.org/github/psygrammer/psyml/blob/master/nlp_ml/ch04/figures/cap02.png\" width=600 />\n",
    "\n",
    "* 출처 - Applied Text Analysis with Python: Enabling Language-Aware Data Products with Machine Learning - https://www.amazon.com/Applied-Text-Analysis-Python-Language-Aware/dp/1491963042/"
   ]
  },
  {
   "cell_type": "code",
   "execution_count": 1,
   "metadata": {},
   "outputs": [],
   "source": [
    "import gensim\n",
    "import numpy as np\n",
    "\n",
    "from pprint import pprint"
   ]
  },
  {
   "cell_type": "markdown",
   "metadata": {},
   "source": [
    "gensim을 이용하려면 문서 목록인 documents를 corpus 클래스로 바꿔야 한다."
   ]
  },
  {
   "cell_type": "code",
   "execution_count": 2,
   "metadata": {},
   "outputs": [],
   "source": [
    "# 가상의 문서 4개\n",
    "documents_en = [\n",
    "    \"a b c a\",\n",
    "    \"c b c\",\n",
    "    \"b b a\",\n",
    "    \"a c c\",\n",
    "    \"c b a\",\n",
    "]"
   ]
  },
  {
   "cell_type": "code",
   "execution_count": 3,
   "metadata": {},
   "outputs": [
    {
     "name": "stdout",
     "output_type": "stream",
     "text": [
      "[['a', 'b', 'c', 'a'],\n",
      " ['c', 'b', 'c'],\n",
      " ['b', 'b', 'a'],\n",
      " ['a', 'c', 'c'],\n",
      " ['c', 'b', 'a']]\n"
     ]
    }
   ],
   "source": [
    "# 단어(토큰) 단위로 분할\n",
    "def tokenize(x) :\n",
    "    for token in x.split() :\n",
    "        yield token\n",
    "        \n",
    "corpus_en = [list(tokenize(doc)) for doc in  documents_en]\n",
    "\n",
    "pprint(corpus_en)"
   ]
  },
  {
   "cell_type": "code",
   "execution_count": 4,
   "metadata": {},
   "outputs": [],
   "source": [
    "# Dictionary 객체. 구체적으로는 단어에 id 할당 (그 외에도 여러가지 기능은 튜토리얼 참조)\n",
    "dictionary_en = gensim.corpora.Dictionary(corpus_en)"
   ]
  },
  {
   "cell_type": "code",
   "execution_count": 5,
   "metadata": {},
   "outputs": [
    {
     "data": {
      "text/plain": [
       "<gensim.corpora.dictionary.Dictionary at 0x1a18bd4320>"
      ]
     },
     "execution_count": 5,
     "metadata": {},
     "output_type": "execute_result"
    }
   ],
   "source": [
    "dictionary_en"
   ]
  },
  {
   "cell_type": "code",
   "execution_count": 6,
   "metadata": {},
   "outputs": [
    {
     "data": {
      "text/plain": [
       "{'a': 0, 'b': 1, 'c': 2}"
      ]
     },
     "execution_count": 6,
     "metadata": {},
     "output_type": "execute_result"
    }
   ],
   "source": [
    "dictionary_en.token2id"
   ]
  },
  {
   "cell_type": "code",
   "execution_count": 7,
   "metadata": {},
   "outputs": [],
   "source": [
    "vectors = [dictionary_en.doc2bow(doc) for doc in corpus_en]    "
   ]
  },
  {
   "cell_type": "code",
   "execution_count": 8,
   "metadata": {},
   "outputs": [
    {
     "name": "stdout",
     "output_type": "stream",
     "text": [
      "[[(0, 2), (1, 1), (2, 1)],\n",
      " [(1, 1), (2, 2)],\n",
      " [(0, 1), (1, 2)],\n",
      " [(0, 1), (2, 2)],\n",
      " [(0, 1), (1, 1), (2, 1)]]\n"
     ]
    }
   ],
   "source": [
    "pprint(vectors)"
   ]
  },
  {
   "cell_type": "markdown",
   "metadata": {},
   "source": [
    "----------------"
   ]
  },
  {
   "cell_type": "markdown",
   "metadata": {},
   "source": [
    "# One-Hot Encoding"
   ]
  },
  {
   "cell_type": "markdown",
   "metadata": {},
   "source": [
    "<img src=\"https://nbviewer.jupyter.org/github/psygrammer/psyml/blob/master/nlp_ml/ch04/figures/cap03.png\" width=600 />\n",
    "\n",
    "* 출처 - Applied Text Analysis with Python: Enabling Language-Aware Data Products with Machine Learning - https://www.amazon.com/Applied-Text-Analysis-Python-Language-Aware/dp/1491963042/"
   ]
  },
  {
   "cell_type": "code",
   "execution_count": 9,
   "metadata": {},
   "outputs": [
    {
     "data": {
      "text/plain": [
       "[['a', 'b', 'c', 'a'],\n",
       " ['c', 'b', 'c'],\n",
       " ['b', 'b', 'a'],\n",
       " ['a', 'c', 'c'],\n",
       " ['c', 'b', 'a']]"
      ]
     },
     "execution_count": 9,
     "metadata": {},
     "output_type": "execute_result"
    }
   ],
   "source": [
    "corpus_en"
   ]
  },
  {
   "cell_type": "code",
   "execution_count": 10,
   "metadata": {},
   "outputs": [
    {
     "data": {
      "text/plain": [
       "[[(0, 2), (1, 1), (2, 1)],\n",
       " [(1, 1), (2, 2)],\n",
       " [(0, 1), (1, 2)],\n",
       " [(0, 1), (2, 2)],\n",
       " [(0, 1), (1, 1), (2, 1)]]"
      ]
     },
     "execution_count": 10,
     "metadata": {},
     "output_type": "execute_result"
    }
   ],
   "source": [
    "[dictionary_en.doc2bow(doc) for doc in corpus_en]"
   ]
  },
  {
   "cell_type": "code",
   "execution_count": 11,
   "metadata": {},
   "outputs": [
    {
     "data": {
      "text/plain": [
       "[[(0, 2), (1, 1), (2, 1)],\n",
       " [(1, 1), (2, 2)],\n",
       " [(0, 1), (1, 2)],\n",
       " [(0, 1), (2, 2)],\n",
       " [(0, 1), (1, 1), (2, 1)]]"
      ]
     },
     "execution_count": 11,
     "metadata": {},
     "output_type": "execute_result"
    }
   ],
   "source": [
    "[[token for token in dictionary_en.doc2bow(doc)] \n",
    "                         for doc in corpus_en]"
   ]
  },
  {
   "cell_type": "code",
   "execution_count": 12,
   "metadata": {},
   "outputs": [
    {
     "data": {
      "text/plain": [
       "[[(0, 2), (1, 1), (2, 1)],\n",
       " [(1, 1), (2, 2)],\n",
       " [(0, 1), (1, 2)],\n",
       " [(0, 1), (2, 2)],\n",
       " [(0, 1), (1, 1), (2, 1)]]"
      ]
     },
     "execution_count": 12,
     "metadata": {},
     "output_type": "execute_result"
    }
   ],
   "source": [
    "[[(token[0], token[1]) for token in dictionary_en.doc2bow(doc)] \n",
    "                         for doc in corpus_en]"
   ]
  },
  {
   "cell_type": "code",
   "execution_count": 13,
   "metadata": {},
   "outputs": [],
   "source": [
    "vectors = [[(token[0], 1) for token in dictionary_en.doc2bow(doc)] \n",
    "                         for doc in corpus_en]"
   ]
  },
  {
   "cell_type": "code",
   "execution_count": 14,
   "metadata": {},
   "outputs": [],
   "source": [
    "vectors  = np.array([\n",
    "        [(token[0], 1) for token in dictionary_en.doc2bow(doc)]\n",
    "        for doc in corpus_en\n",
    "    ])"
   ]
  },
  {
   "cell_type": "code",
   "execution_count": 15,
   "metadata": {},
   "outputs": [
    {
     "data": {
      "text/plain": [
       "array([list([(0, 1), (1, 1), (2, 1)]), list([(1, 1), (2, 1)]),\n",
       "       list([(0, 1), (1, 1)]), list([(0, 1), (2, 1)]),\n",
       "       list([(0, 1), (1, 1), (2, 1)])], dtype=object)"
      ]
     },
     "execution_count": 15,
     "metadata": {},
     "output_type": "execute_result"
    }
   ],
   "source": [
    "vectors"
   ]
  },
  {
   "cell_type": "markdown",
   "metadata": {},
   "source": [
    "-------------------"
   ]
  },
  {
   "cell_type": "markdown",
   "metadata": {},
   "source": [
    "# Term Frequency-Inverse Document Frequency"
   ]
  },
  {
   "cell_type": "markdown",
   "metadata": {},
   "source": [
    "<img src=\"https://nbviewer.jupyter.org/github/psygrammer/psyml/blob/master/nlp_ml/ch04/figures/cap04.png\" width=600 />\n",
    "\n",
    "* 출처 - Applied Text Analysis with Python: Enabling Language-Aware Data Products with Machine Learning - https://www.amazon.com/Applied-Text-Analysis-Python-Language-Aware/dp/1491963042/"
   ]
  },
  {
   "cell_type": "code",
   "execution_count": 16,
   "metadata": {},
   "outputs": [
    {
     "data": {
      "text/plain": [
       "['a b c a', 'c b c', 'b b a', 'a c c', 'c b a']"
      ]
     },
     "execution_count": 16,
     "metadata": {},
     "output_type": "execute_result"
    }
   ],
   "source": [
    "documents_en"
   ]
  },
  {
   "cell_type": "code",
   "execution_count": 17,
   "metadata": {},
   "outputs": [
    {
     "data": {
      "text/plain": [
       "[['a', 'b', 'c', 'a'],\n",
       " ['c', 'b', 'c'],\n",
       " ['b', 'b', 'a'],\n",
       " ['a', 'c', 'c'],\n",
       " ['c', 'b', 'a']]"
      ]
     },
     "execution_count": 17,
     "metadata": {},
     "output_type": "execute_result"
    }
   ],
   "source": [
    "corpus_en"
   ]
  },
  {
   "cell_type": "code",
   "execution_count": 18,
   "metadata": {},
   "outputs": [],
   "source": [
    "# Dictionary 생성\n",
    "dictionary_en = gensim.corpora.Dictionary(corpus_en)"
   ]
  },
  {
   "cell_type": "code",
   "execution_count": 19,
   "metadata": {},
   "outputs": [
    {
     "data": {
      "text/plain": [
       "<gensim.models.tfidfmodel.TfidfModel at 0x1a18beb9e8>"
      ]
     },
     "execution_count": 19,
     "metadata": {},
     "output_type": "execute_result"
    }
   ],
   "source": [
    "# Tfidf Model 생성\n",
    "tfidf_en = gensim.models.TfidfModel(dictionary=dictionary_en, normalize=True)\n",
    "tfidf_en"
   ]
  },
  {
   "cell_type": "code",
   "execution_count": 20,
   "metadata": {},
   "outputs": [
    {
     "data": {
      "text/plain": [
       "[[(0, 0.816496580927726), (1, 0.408248290463863), (2, 0.408248290463863)],\n",
       " [(1, 0.447213595499958), (2, 0.894427190999916)],\n",
       " [(0, 0.447213595499958), (1, 0.894427190999916)],\n",
       " [(0, 0.447213595499958), (2, 0.894427190999916)],\n",
       " [(0, 0.5773502691896257), (1, 0.5773502691896257), (2, 0.5773502691896257)]]"
      ]
     },
     "execution_count": 20,
     "metadata": {},
     "output_type": "execute_result"
    }
   ],
   "source": [
    "vectors = [tfidf_en[dictionary_en.doc2bow(vector)] for vector in corpus_en]\n",
    "vectors"
   ]
  },
  {
   "cell_type": "code",
   "execution_count": 21,
   "metadata": {},
   "outputs": [],
   "source": [
    "# Dictionary와 tfidf model을 저장해 놓으면 나중에 다시 로드해서 쓸 수 있어 편하다. \n",
    "dictionary_en.save_as_text('test_en.txt')\n",
    "tfidf_en.save('tfidf_en.pkl')"
   ]
  },
  {
   "cell_type": "code",
   "execution_count": 22,
   "metadata": {},
   "outputs": [
    {
     "name": "stdout",
     "output_type": "stream",
     "text": [
      "test_en.txt\r\n"
     ]
    }
   ],
   "source": [
    "%ls test_en.txt"
   ]
  },
  {
   "cell_type": "code",
   "execution_count": 23,
   "metadata": {},
   "outputs": [
    {
     "name": "stdout",
     "output_type": "stream",
     "text": [
      "tfidf_en.pkl\r\n"
     ]
    }
   ],
   "source": [
    "%ls tfidf_en.pkl"
   ]
  },
  {
   "cell_type": "markdown",
   "metadata": {},
   "source": [
    "--------------------------"
   ]
  },
  {
   "cell_type": "markdown",
   "metadata": {},
   "source": [
    "#### 한국어 예제 실습"
   ]
  },
  {
   "cell_type": "markdown",
   "metadata": {},
   "source": [
    "* 출처 - 나만의 웹 크롤러 만들기 with Requests/BeautifulSoup - https://beomi.github.io/2017/01/20/HowToMakeWebCrawler/\n",
    "* 출처 - https://www.slideshare.net/kimhyunjoonglovit/pycon2017-koreannlp\n",
    "* 출처 - https://github.com/lovit/soynlp/blob/master/tutorials/nounextractor-v2_usage.ipynb\n",
    "* 출처 - https://wikidocs.net/24603"
   ]
  },
  {
   "cell_type": "markdown",
   "metadata": {},
   "source": [
    "##### 데이터 수집 - 간단한 웹 스크래핑"
   ]
  },
  {
   "cell_type": "code",
   "execution_count": 24,
   "metadata": {},
   "outputs": [],
   "source": [
    "import requests\n",
    "from bs4 import BeautifulSoup"
   ]
  },
  {
   "cell_type": "code",
   "execution_count": 25,
   "metadata": {},
   "outputs": [],
   "source": [
    "#url = \"https://gasazip.com/view.html?no=614736\"\n",
    "#url = \"https://gasazip.com/view.html?no=636135\"\n",
    "url = \"http://gasazip.com/view.html?no=2276458\""
   ]
  },
  {
   "cell_type": "code",
   "execution_count": 26,
   "metadata": {},
   "outputs": [],
   "source": [
    "# HTTP GET Request\n",
    "req = requests.get(url)\n",
    "# HTML 소스 가져오기\n",
    "html = req.text\n",
    "# BeautifulSoup으로 html소스를 python객체로 변환하기\n",
    "# 첫 인자는 html소스코드, 두 번째 인자는 어떤 parser를 이용할지 명시.\n",
    "# 여기서는 Python 내장 html.parser를 이용했다.\n",
    "soup = BeautifulSoup(html, 'html.parser')"
   ]
  },
  {
   "cell_type": "code",
   "execution_count": 27,
   "metadata": {},
   "outputs": [],
   "source": [
    "lyrics = []\n",
    "for txt in soup.find_all('div', attrs={'class': 'col-md-8'}) :\n",
    "    lines = txt.get_text().split('\\n')\n",
    "    for line in lines :\n",
    "        lyrics.append(line.strip())"
   ]
  },
  {
   "cell_type": "code",
   "execution_count": 28,
   "metadata": {},
   "outputs": [
    {
     "data": {
      "text/plain": [
       "['작은 것들을 위한 시 (Boy With Luv)Feat.Halsey',\n",
       " '',\n",
       " '모든 게 궁금해',\n",
       " 'How’s your day',\n",
       " 'Oh tell me',\n",
       " '뭐가 널 행복하게 하는지',\n",
       " 'Oh text me',\n",
       " 'Your every picture',\n",
       " '내 머리맡에 두고 싶어',\n",
       " 'oh bae',\n",
       " 'Come be my teacher',\n",
       " '네 모든 걸 다 가르쳐줘',\n",
       " 'Your 1 your 2',\n",
       " 'Listen my my baby 나는',\n",
       " '저 하늘을 높이 날고 있어',\n",
       " '그때 니가 내게 줬던 두 날개로',\n",
       " '이제 여긴 너무 높아',\n",
       " '난 내 눈에 널 맞추고 싶어',\n",
       " 'Yeah you makin’ me a boy with luv',\n",
       " 'Oh my my my oh my my my',\n",
       " \"I've waited all my life\",\n",
       " '네 전부를 함께하고 싶어',\n",
       " 'Oh my my my oh my my my',\n",
       " 'Looking for something right',\n",
       " '이제 조금은 나 알겠어',\n",
       " 'I want something stronger',\n",
       " 'Than a moment',\n",
       " 'than a moment love',\n",
       " 'I have waited longer',\n",
       " 'For a boy with',\n",
       " 'For a boy with luv',\n",
       " '널 알게 된 이후 ya',\n",
       " '내 삶은 온통 너 ya',\n",
       " '사소한 게 사소하지 않게',\n",
       " '만들어버린 너라는 별',\n",
       " '하나부터 열까지 모든 게 특별하지',\n",
       " '너의 관심사 걸음걸이 말투와',\n",
       " '사소한 작은 습관들까지',\n",
       " '다 말하지 너무 작던',\n",
       " '내가 영웅이 된 거라고',\n",
       " 'Oh nah',\n",
       " '난 말하지 운명 따윈',\n",
       " '처음부터 내 게 아니었다고',\n",
       " 'Oh nah',\n",
       " '세계의 평화',\n",
       " 'No way',\n",
       " '거대한 질서',\n",
       " 'No way',\n",
       " '그저 널 지킬 거야 난',\n",
       " 'Boy with luv',\n",
       " 'Listen my my baby 나는',\n",
       " '저 하늘을 높이 날고 있어',\n",
       " '그때 니가 내게 줬던 두 날개로',\n",
       " '이제 여긴 너무 높아',\n",
       " '난 내 눈에 널 맞추고 싶어',\n",
       " 'Yeah you makin’ me a boy with luv',\n",
       " 'Oh my my my oh my my my',\n",
       " 'You got me high so fast',\n",
       " '네 전부를 함께하고 싶어',\n",
       " 'Oh my my my oh my my my',\n",
       " 'You got me fly so fast',\n",
       " '이제 조금은 나 알겠어',\n",
       " 'Love is nothing stronger',\n",
       " 'Than a boy with luv',\n",
       " 'Love is nothing stronger',\n",
       " 'Than a boy with luv',\n",
       " '툭 까놓고 말할게',\n",
       " '나도 모르게 힘이 들어가기도 했어',\n",
       " '높아버린 sky',\n",
       " '커져버린 hall',\n",
       " '때론 도망치게 해달라며 기도했어',\n",
       " 'But 너의 상처는 나의 상처',\n",
       " '깨달았을 때 나 다짐했던걸',\n",
       " '니가 준 이카루스의 날개로',\n",
       " '태양이 아닌 너에게로',\n",
       " 'Let me fly',\n",
       " 'Oh my my my oh my my my',\n",
       " \"I've waited all my life\",\n",
       " '네 전부를 함께하고 싶어',\n",
       " 'Oh my my my oh my my my',\n",
       " 'Looking for something right',\n",
       " '이제 조금은 나 알겠어',\n",
       " 'I want something stronger',\n",
       " 'Than a moment',\n",
       " 'than a moment love',\n",
       " 'Love is nothing stronger',\n",
       " 'Than a boy with luv',\n",
       " '']"
      ]
     },
     "execution_count": 28,
     "metadata": {},
     "output_type": "execute_result"
    }
   ],
   "source": [
    "lyrics"
   ]
  },
  {
   "cell_type": "code",
   "execution_count": 29,
   "metadata": {},
   "outputs": [],
   "source": [
    "# 하나로는 좀 부족한 듯. 가사를 여럿 모아보자.\n",
    "\n",
    "import collections\n",
    " \n",
    "BTS = collections.OrderedDict()\n",
    "BTS['No More Dream'] = 638198\n",
    "BTS['I NEED U'] = 576129\n",
    "BTS['쩔어'] = 628809\n",
    "BTS['봄날'] = 644668\n",
    "BTS['DNA'] = 1235594\n",
    "BTS['피 땀 눈물'] = 630845\n",
    "BTS['불타오르네'] = 615362\n",
    "BTS['IDOL'] = 2262224\n",
    "BTS['작은 것들을 위한 시'] = 2276458"
   ]
  },
  {
   "cell_type": "code",
   "execution_count": 30,
   "metadata": {},
   "outputs": [
    {
     "name": "stdout",
     "output_type": "stream",
     "text": [
      "['http://gasazip.com/view.html?no=638198',\n",
      " 'http://gasazip.com/view.html?no=576129',\n",
      " 'http://gasazip.com/view.html?no=628809',\n",
      " 'http://gasazip.com/view.html?no=644668',\n",
      " 'http://gasazip.com/view.html?no=1235594',\n",
      " 'http://gasazip.com/view.html?no=630845',\n",
      " 'http://gasazip.com/view.html?no=615362',\n",
      " 'http://gasazip.com/view.html?no=2262224',\n",
      " 'http://gasazip.com/view.html?no=2276458']\n"
     ]
    }
   ],
   "source": [
    "lyrics_ids = BTS.values()\n",
    "url_root = \"http://gasazip.com/view.html?no=\"\n",
    "\n",
    "urls = [url_root + str(lid) for lid in lyrics_ids]\n",
    "\n",
    "pprint(urls)"
   ]
  },
  {
   "cell_type": "code",
   "execution_count": 31,
   "metadata": {},
   "outputs": [],
   "source": [
    "docs = []\n",
    "for url in urls :\n",
    "    req = requests.get(url)\n",
    "    html = req.text\n",
    "    soup = BeautifulSoup(html, 'html.parser')\n",
    "    \n",
    "    doc = []\n",
    "    for txt in soup.find_all('div', attrs={'class': 'col-md-8'}) :\n",
    "        doc.append(txt.get_text())\n",
    "    \n",
    "    docs.append(\",\".join(doc))"
   ]
  },
  {
   "cell_type": "code",
   "execution_count": 32,
   "metadata": {},
   "outputs": [
    {
     "data": {
      "text/plain": [
       "9"
      ]
     },
     "execution_count": 32,
     "metadata": {},
     "output_type": "execute_result"
    }
   ],
   "source": [
    "len(docs)"
   ]
  },
  {
   "cell_type": "code",
   "execution_count": 33,
   "metadata": {
    "scrolled": false
   },
   "outputs": [
    {
     "name": "stdout",
     "output_type": "stream",
     "text": [
      "['No More Dream,\\n얌마 네 꿈은 뭐니\\n얌마 네 꿈은 뭐니\\n얌마 네 꿈은 뭐니\\n네 꿈은 겨우 그거니\\n\\nI wanna big house, big cars & big rings\\nBut 사실은 I dun have any big dreams\\n하하 난 참 편하게 살어\\n꿈 따위 안 꿔도 아무도 뭐라 안 하잖어\\n전부 다다다 똑같이 나처럼 생각하고 있어\\n새까까까맣게 까먹은 꿈 많던 어린 시절\\n대학은 걱정 마 멀리라도 갈 거니까\\n알았어 엄마 지금 독서실 간다니까\\n\\n네가 꿈꿔 온 네 모습이 뭐야\\n지금 네 거울 속엔 누가 보여, I gotta say\\n너의 길을 가라고\\n단 하루를 살아도\\n뭐라도 하라고\\n나약함은 담아 둬\\n\\n왜 말 못하고 있어? 공부는 하기 싫다면서\\n학교 때려 치기는 겁나지? 이거 봐 등교할 준비하네 벌써\\n철 좀 들어 제발 좀, 너 입만 살아가지고 인마 유리 멘탈 boy\\n(Stop!) 자신에게 물어봐 언제 네가 열심히 노력했냐고\\n\\n얌마 네 꿈은 뭐니\\n얌마 네 꿈은 뭐니\\n얌마 네 꿈은 뭐니\\n네 꿈은 겨우 그거니\\n\\n거짓말이야 you such a liar\\nSee me see me ya 넌 위선자여\\n왜 자꾸 딴 길을 가래 야 너나 잘해\\n제발 강요하진 말아 줘\\n(La la la la la) 네 꿈이 뭐니 네 꿈이 뭐니 뭐니\\n(La la la la la) 고작 이거니 고작 이거니 거니\\n\\n지겨운 same day, 반복되는 매일에\\n어른들과 부모님은 틀에 박힌 꿈을 주입해\\n장래희망 넘버원... 공무원?\\n강요된 꿈은 아냐, 9회말 구원투수\\n시간 낭비인 야자에 돌직구를 날려\\n지옥 같은 사회에 반항해, 꿈을 특별 사면\\n자신에게 물어봐 네 꿈의 profile\\n억압만 받던 인생 네 삶의 주어가 되어 봐\\n\\n네가 꿈꿔 온 네 모습이 뭐여\\n지금 네 거울 속엔 누가 보여, I gotta say\\n너의 길을 가라고\\n단 하루를 살아도\\n뭐라도 하라고\\n나약함은 담아 둬\\n\\n얌마 네 꿈은 뭐니\\n얌마 네 꿈은 뭐니\\n얌마 네 꿈은 뭐니\\n네 꿈은 겨우 그거니\\n\\n거짓말이야 you such a liar\\nSee me see me ya 넌 위선자여\\n왜 자꾸 딴 길을 가래 야 너나 잘해\\n제발 강요하진 말아 줘\\n(La la la la la) 네 꿈이 뭐니 네 꿈이 뭐니 뭐니\\n(La la la la la) 고작 이거니 고작 이거니 거니\\n\\n살아가는 법을 몰라\\n날아가는 법을 몰라\\n결정하는 법을 몰라\\n이젠 꿈꾸는 법도 몰라\\n\\n눈을 눈을 눈을 떠라 다 이제\\n춤을 춤을 춤을 춰 봐 자 다시\\n꿈을 꿈을 꿈을 꿔 봐 다\\n너 꾸물대지 마 우물쭈물 대지 마 wussup!\\n\\n거짓말이야 you such a liar\\nSee me see me ya 넌 위선자여\\n왜 자꾸 딴 길을 가래 야 너나 잘해\\n제발 강요하진 말아 줘\\n(La la la la la) 네 꿈이 뭐니 네 꿈이 뭐니 뭐니\\n(La la la la la) 고작 이거니 고작 이거니 거니\\n\\nTo all the youngsters without dreams.\\n', 'I NEED U,\\nFall Fall Fall 흩어지네\\nFall Fall Fall 떨어지네\\n\\n너 땜에 나 이렇게 망가져\\n그만할래 이제 너 안 가져\\n못하겠어 뭣 같아서\\n제발 핑계 같은 건 삼가줘\\n\\n니가 나한테 이럼 안 돼\\n니가 한 모든 말은 안대\\n진실을 가리고 날 찢어\\n날 찍어 나 미쳐 다 싫어\\n전부 가져가 난 니가 그냥 미워\\n\\nBut you’re my everything (You’re my)\\nEverything (You’re my)\\nEverything (You’re my)\\n제발 좀 꺼져 huh\\n\\n미안해 (I hate u)\\n사랑해 (I hate u)\\n용서해\\n\\nI need you girl\\n왜 혼자 사랑하고 혼자서만 이별해\\nI need you girl\\n왜 다칠 걸 알면서 자꾸 니가 필요해\\n\\nI need you girl 넌 아름다워\\nI need you girl 너무 차가워\\nI need you girl (I need you girl)\\nI need you girl (I need you girl)\\n\\nIt goes round & round 나 왜 자꾸 돌아오지\\nI go down & down 이쯤 되면 내가 바보지\\n나 무슨 짓을 해봐도 어쩔 수가 없다고\\n분명 내 심장, 내 마음, 내 가슴인데 왜 말을 안 듣냐고\\n또 혼잣말하네 (또 혼잣말하네)\\n또 혼잣말하네 (또 혼잣말하네)\\n넌 아무 말 안 해 아 제발 내가 잘할게\\n하늘은 또 파랗게 (하늘은 또 파랗게)\\n\\n하늘이 파래서 햇살이 빛나서\\n내 눈물이 더 잘 보이나 봐\\n왜 나는 너인지 왜 하필 너인지\\n왜 너를 떠날 수가 없는지\\n\\nI need you girl\\n왜 혼자 사랑하고 혼자서만 이별해\\nI need you girl\\n왜 다칠 걸 알면서 자꾸 니가 필요해\\n\\nI need you girl 넌 아름다워\\nI need you girl 너무 차가워\\nI need you girl (I need you girl)\\nI need you girl (I need you girl)\\n\\nGirl 차라리 차라리 헤어지자고 해줘\\nGirl 사랑이 사랑이 아니었다고 해줘\\n내겐 그럴 용기가 없어\\n내게 마지막 선물을 줘\\n더는 돌아갈 수 없도록\\n\\nI need you girl\\n왜 혼자 사랑하고 혼자서만 이별해\\nI need you girl\\n왜 다칠 걸 알면서 자꾸 니가 필요해\\n\\nI need you girl 넌 아름다워\\nI need you girl 너무 차가워\\nI need you girl (I need you girl)\\nI need you girl (I need you girl)\\n', \"쩔어,\\n어서 와 방탄은 처음이지?\\n\\nAyo ladies & gentleman\\n준비가 됐다면 부를게 yeah!\\n딴 녀석들과는 다르게\\n내 스타일로 내 내 내 내 스타일로 에오!\\n\\n밤새 일했지 everyday\\n니가 클럽에서 놀 때 yeah\\n자 놀라지 말고 들어 매일\\nI got a feel, I got a feel\\n난 좀 쩔어!\\n\\n아 쩔어 쩔어 쩔어 우리 연습실 땀내\\n봐 쩌렁 쩌렁 쩌렁한 내 춤이 답해\\n모두 비실이 찌질이 찡찡이 띨띨이들\\n나랑은 상관이 없어 cuz 난 희망이 쩔어 haha\\n\\nOk 우린 머리부터 발끝까지 전부 다 쩌 쩔어\\n하루의 절반을 작업에 쩌 쩔어\\n작업실에 쩔어 살어 청춘은 썩어가도\\n덕분에 모로 가도 달리는 성공가도\\n소녀들아 더 크게 소리질러 쩌 쩌렁\\n\\n밤새 일했지 everyday\\n니가 클럽에서 놀 때 yeah\\n딴 녀석들과는 다르게\\nI don't wanna say yes\\nI don't wanna say yes\\n\\n소리쳐봐 all right\\n몸이 타버리도록 all night (all night)\\nCause we got fire (fire!)\\nHigher (higher!)\\nI gotta make it, I gotta make it\\n쩔어!\\n\\n거부는 거부해\\n난 원래 너무해\\n모두 다 따라 해\\n쩔어\\n\\n거부는 거부해\\n전부 나의 노예\\n모두 다 따라 해\\n쩔어\\n\\n3포세대? 5포세대?\\n그럼 난 육포가 좋으니까 6포세대\\n언론과 어른들은 의지가 없다며 우릴 싹 주식처럼 매도해\\n왜 해보기도 전에 죽여 걔넨 enemy enemy enemy\\n왜 벌써부터 고개를 숙여 받아 energy energy energy\\n절대 마 포기 you know you not lonely\\n너와 내 새벽은 낮보다 예뻐\\nSo can I get a little bit of hope? (yeah)\\n잠든 청춘을 깨워 go\\n\\n밤새 일했지 everyday\\n니가 클럽에서 놀 때 yeah\\n딴 녀석들과는 다르게\\nI don't wanna say yes\\nI don't wanna say yes\\n\\n소리쳐봐 all right\\n몸이 타버리도록 all night (all night)\\nCause we got fire (fire!)\\nHigher (higher!)\\nI gotta make it, I gotta make it\\n쩔어!\\n\\n거부는 거부해\\n난 원래 너무해\\n모두 다 따라 해\\n쩔어\\n\\n거부는 거부해\\n전부 나의 노예\\n모두 다 따라 해\\n쩔어\\n\\n이런 게 방탄 스타일\\n거짓말 wack들과는 달라\\n매일이 hustle life\\nI gotta make it fire baby\\n\\n이런 게 방탄 스타일\\n거짓말 wack들과는 달라\\n매일이 hustle life\\nI gotta make it, I gotta make it\\n난 좀 쩔어!\\n\\nSay what!\\nSay wo~ wo~\\nSay what!\\n쩔어\\n\"]\n"
     ]
    }
   ],
   "source": [
    "print(docs[:3])"
   ]
  },
  {
   "cell_type": "code",
   "execution_count": 34,
   "metadata": {},
   "outputs": [],
   "source": [
    "documents_ko = docs"
   ]
  },
  {
   "cell_type": "markdown",
   "metadata": {},
   "source": [
    "##### 데이터 전처리"
   ]
  },
  {
   "cell_type": "code",
   "execution_count": 35,
   "metadata": {},
   "outputs": [
    {
     "data": {
      "text/plain": [
       "\"쩔어,\\n어서 와 방탄은 처음이지?\\n\\nAyo ladies & gentleman\\n준비가 됐다면 부를게 yeah!\\n딴 녀석들과는 다르게\\n내 스타일로 내 내 내 내 스타일로 에오!\\n\\n밤새 일했지 everyday\\n니가 클럽에서 놀 때 yeah\\n자 놀라지 말고 들어 매일\\nI got a feel, I got a feel\\n난 좀 쩔어!\\n\\n아 쩔어 쩔어 쩔어 우리 연습실 땀내\\n봐 쩌렁 쩌렁 쩌렁한 내 춤이 답해\\n모두 비실이 찌질이 찡찡이 띨띨이들\\n나랑은 상관이 없어 cuz 난 희망이 쩔어 haha\\n\\nOk 우린 머리부터 발끝까지 전부 다 쩌 쩔어\\n하루의 절반을 작업에 쩌 쩔어\\n작업실에 쩔어 살어 청춘은 썩어가도\\n덕분에 모로 가도 달리는 성공가도\\n소녀들아 더 크게 소리질러 쩌 쩌렁\\n\\n밤새 일했지 everyday\\n니가 클럽에서 놀 때 yeah\\n딴 녀석들과는 다르게\\nI don't wanna say yes\\nI don't wanna say yes\\n\\n소리쳐봐 all right\\n몸이 타버리도록 all night (all night)\\nCause we got fire (fire!)\\nHigher (higher!)\\nI gotta make it, I gotta make it\\n쩔어!\\n\\n거부는 거부해\\n난 원래 너무해\\n모두 다 따라 해\\n쩔어\\n\\n거부는 거부해\\n전부 나의 노예\\n모두 다 따라 해\\n쩔어\\n\\n3포세대? 5포세대?\\n그럼 난 육포가 좋으니까 6포세대\\n언론과 어른들은 의지가 없다며 우릴 싹 주식처럼 매도해\\n왜 해보기도 전에 죽여 걔넨 enemy enemy enemy\\n왜 벌써부터 고개를 숙여 받아 energy energy energy\\n절대 마 포기 you know you not lonely\\n너와 내 새벽은 낮보다 예뻐\\nSo can I get a little bit of hope? (yeah)\\n잠든 청춘을 깨워 go\\n\\n밤새 일했지 everyday\\n니가 클럽에서 놀 때 yeah\\n딴 녀석들과는 다르게\\nI don't wanna say yes\\nI don't wanna say yes\\n\\n소리쳐봐 all right\\n몸이 타버리도록 all night (all night)\\nCause we got fire (fire!)\\nHigher (higher!)\\nI gotta make it, I gotta make it\\n쩔어!\\n\\n거부는 거부해\\n난 원래 너무해\\n모두 다 따라 해\\n쩔어\\n\\n거부는 거부해\\n전부 나의 노예\\n모두 다 따라 해\\n쩔어\\n\\n이런 게 방탄 스타일\\n거짓말 wack들과는 달라\\n매일이 hustle life\\nI gotta make it fire baby\\n\\n이런 게 방탄 스타일\\n거짓말 wack들과는 달라\\n매일이 hustle life\\nI gotta make it, I gotta make it\\n난 좀 쩔어!\\n\\nSay what!\\nSay wo~ wo~\\nSay what!\\n쩔어\\n\""
      ]
     },
     "execution_count": 35,
     "metadata": {},
     "output_type": "execute_result"
    }
   ],
   "source": [
    "# 현재 문서는 좀 번잡하다.형태소 분석을 이용해서 정리하고 싶다.\n",
    "doc = documents_ko[2]\n",
    "doc"
   ]
  },
  {
   "cell_type": "code",
   "execution_count": 36,
   "metadata": {},
   "outputs": [
    {
     "name": "stdout",
     "output_type": "stream",
     "text": [
      "[Noun Extractor] use default predictors\n",
      "[Noun Extractor] num features: pos=1260, neg=1173, common=12\n"
     ]
    }
   ],
   "source": [
    "# 간단한 전처리를 해보자 \n",
    "from soynlp.noun import LRNounExtractor_v2\n",
    "\n",
    "noun_extractor = LRNounExtractor_v2(verbose=True)"
   ]
  },
  {
   "cell_type": "code",
   "execution_count": 37,
   "metadata": {},
   "outputs": [
    {
     "name": "stdout",
     "output_type": "stream",
     "text": [
      "[Noun Extractor] counting eojeols\n",
      "[EojeolCounter] n eojeol = 1076 from 9 sents. mem=0.112 Gb                    \n",
      "[Noun Extractor] complete eojeol counter -> lr graph\n",
      "[Noun Extractor] has been trained. #eojeols=2727, mem=0.114 Gb\n",
      "[Noun Extractor] batch prediction was completed for 286 words\n",
      "[Noun Extractor] checked compounds. discovered 0 compounds\n",
      "[Noun Extractor] postprocessing detaching_features : 80 -> 80\n",
      "[Noun Extractor] postprocessing ignore_features : 80 -> 77\n",
      "[Noun Extractor] postprocessing ignore_NJ : 77 -> 77\n",
      "[Noun Extractor] 77 nouns (0 compounds) with min frequency=1\n",
      "[Noun Extractor] flushing was done. mem=0.115 Gb                    \n",
      "[Noun Extractor] 19.80 % eojeols are covered\n"
     ]
    }
   ],
   "source": [
    "# 학습기반 단어(명사) 추출기\n",
    "nouns = noun_extractor.train_extract(documents_ko)"
   ]
  },
  {
   "cell_type": "code",
   "execution_count": 38,
   "metadata": {},
   "outputs": [
    {
     "data": {
      "text/plain": [
       "77"
      ]
     },
     "execution_count": 38,
     "metadata": {},
     "output_type": "execute_result"
    }
   ],
   "source": [
    "len(nouns)"
   ]
  },
  {
   "cell_type": "code",
   "execution_count": 39,
   "metadata": {},
   "outputs": [
    {
     "data": {
      "text/plain": [
       "{'어른들': NounScore(frequency=2, score=1.0),\n",
       " '거짓말': NounScore(frequency=5, score=1.0),\n",
       " 'DNA': NounScore(frequency=5, score=0.8333333333333334),\n",
       " '스타일': NounScore(frequency=4, score=1.0),\n",
       " '전부': NounScore(frequency=10, score=1.0),\n",
       " '하루': NounScore(frequency=4, score=1.0),\n",
       " '우리': NounScore(frequency=6, score=1.0),\n",
       " '우주': NounScore(frequency=3, score=1.0),\n",
       " '준비': NounScore(frequency=2, score=1.0),\n",
       " '모두': NounScore(frequency=6, score=1.0),\n",
       " '운명': NounScore(frequency=8, score=1.0),\n",
       " '달콤': NounScore(frequency=3, score=1.0),\n",
       " '사랑': NounScore(frequency=7, score=1.0),\n",
       " '함께': NounScore(frequency=3, score=0.5),\n",
       " '매일': NounScore(frequency=4, score=1.0),\n",
       " '작업': NounScore(frequency=1, score=0.5),\n",
       " '시간': NounScore(frequency=4, score=1.0),\n",
       " '자꾸': NounScore(frequency=8, score=1.0),\n",
       " '조금': NounScore(frequency=5, score=0.7142857142857143),\n",
       " '벌써': NounScore(frequency=2, score=1.0),\n",
       " '처음': NounScore(frequency=1, score=0.5),\n",
       " '머리': NounScore(frequency=1, score=0.5),\n",
       " '아무': NounScore(frequency=2, score=1.0),\n",
       " '있어': NounScore(frequency=5, score=0.8333333333333334),\n",
       " '눈물': NounScore(frequency=11, score=1.0),\n",
       " '겨울': NounScore(frequency=6, score=1.0),\n",
       " '봄날': NounScore(frequency=3, score=0.75),\n",
       " '하늘': NounScore(frequency=4, score=1.0),\n",
       " '새벽': NounScore(frequency=2, score=1.0),\n",
       " '행복': NounScore(frequency=2, score=1.0),\n",
       " '거부': NounScore(frequency=8, score=1.0),\n",
       " '너무': NounScore(frequency=12, score=1.0),\n",
       " '이상': NounScore(frequency=2, score=1.0),\n",
       " '날개': NounScore(frequency=4, score=1.0),\n",
       " '멀리': NounScore(frequency=2, score=1.0),\n",
       " '청춘': NounScore(frequency=2, score=1.0),\n",
       " '사소': NounScore(frequency=3, score=1.0),\n",
       " '쩌렁': NounScore(frequency=4, score=1.0),\n",
       " '특별': NounScore(frequency=2, score=1.0),\n",
       " '상처': NounScore(frequency=2, score=1.0),\n",
       " '말': NounScore(frequency=14, score=0.5),\n",
       " '욕': NounScore(frequency=2, score=1.0),\n",
       " '취': NounScore(frequency=3, score=1.0),\n",
       " '너': NounScore(frequency=30, score=1.0),\n",
       " '생': NounScore(frequency=2, score=0.4),\n",
       " '내': NounScore(frequency=51, score=1.0),\n",
       " '네': NounScore(frequency=32, score=1.0),\n",
       " '수': NounScore(frequency=8, score=1.0),\n",
       " '눈': NounScore(frequency=8, score=1.0),\n",
       " '것': NounScore(frequency=4, score=1.0),\n",
       " '꿈': NounScore(frequency=28, score=1.0),\n",
       " '삶': NounScore(frequency=2, score=1.0),\n",
       " '길': NounScore(frequency=7, score=1.0),\n",
       " '둘': NounScore(frequency=6, score=1.0),\n",
       " '못': NounScore(frequency=4, score=1.0),\n",
       " '모': NounScore(frequency=10, score=1.0),\n",
       " '밤': NounScore(frequency=3, score=1.0),\n",
       " '원': NounScore(frequency=9, score=1.0),\n",
       " '꿔': NounScore(frequency=2, score=1.0),\n",
       " '법': NounScore(frequency=4, score=1.0),\n",
       " '뭣': NounScore(frequency=2, score=1.0),\n",
       " '때': NounScore(frequency=10, score=0.7142857142857143),\n",
       " '많': NounScore(frequency=40, score=0.9512195121951219),\n",
       " '몸': NounScore(frequency=3, score=1.0),\n",
       " '높': NounScore(frequency=4, score=0.8),\n",
       " '독': NounScore(frequency=1, score=0.5),\n",
       " '춤': NounScore(frequency=7, score=1.0),\n",
       " '힘': NounScore(frequency=1, score=0.5),\n",
       " '끝': NounScore(frequency=3, score=1.0),\n",
       " '숨': NounScore(frequency=4, score=1.0),\n",
       " '깊': NounScore(frequency=1, score=0.5),\n",
       " '열': NounScore(frequency=1, score=0.5),\n",
       " '잘': NounScore(frequency=5, score=0.625),\n",
       " '꺼': NounScore(frequency=2, score=0.3333333333333333),\n",
       " '손': NounScore(frequency=4, score=0.6666666666666666),\n",
       " '보': NounScore(frequency=1, score=1.0),\n",
       " '더': NounScore(frequency=13, score=1.0)}"
      ]
     },
     "execution_count": 39,
     "metadata": {},
     "output_type": "execute_result"
    }
   ],
   "source": [
    "nouns"
   ]
  },
  {
   "cell_type": "code",
   "execution_count": 40,
   "metadata": {},
   "outputs": [],
   "source": [
    "# 토크나이저 \n",
    "from soynlp.tokenizer import MaxScoreTokenizer"
   ]
  },
  {
   "cell_type": "code",
   "execution_count": 41,
   "metadata": {},
   "outputs": [
    {
     "data": {
      "text/plain": [
       "{'어른들': 1.0,\n",
       " '거짓말': 1.0,\n",
       " 'DNA': 0.8333333333333334,\n",
       " '스타일': 1.0,\n",
       " '전부': 1.0,\n",
       " '하루': 1.0,\n",
       " '우리': 1.0,\n",
       " '우주': 1.0,\n",
       " '준비': 1.0,\n",
       " '모두': 1.0,\n",
       " '운명': 1.0,\n",
       " '달콤': 1.0,\n",
       " '사랑': 1.0,\n",
       " '함께': 0.5,\n",
       " '매일': 1.0,\n",
       " '작업': 0.5,\n",
       " '시간': 1.0,\n",
       " '자꾸': 1.0,\n",
       " '조금': 0.7142857142857143,\n",
       " '벌써': 1.0,\n",
       " '처음': 0.5,\n",
       " '머리': 0.5,\n",
       " '아무': 1.0,\n",
       " '있어': 0.8333333333333334,\n",
       " '눈물': 1.0,\n",
       " '겨울': 1.0,\n",
       " '봄날': 0.75,\n",
       " '하늘': 1.0,\n",
       " '새벽': 1.0,\n",
       " '행복': 1.0,\n",
       " '거부': 1.0,\n",
       " '너무': 1.0,\n",
       " '이상': 1.0,\n",
       " '날개': 1.0,\n",
       " '멀리': 1.0,\n",
       " '청춘': 1.0,\n",
       " '사소': 1.0,\n",
       " '쩌렁': 1.0,\n",
       " '특별': 1.0,\n",
       " '상처': 1.0,\n",
       " '말': 0.5,\n",
       " '욕': 1.0,\n",
       " '취': 1.0,\n",
       " '너': 1.0,\n",
       " '생': 0.4,\n",
       " '내': 1.0,\n",
       " '네': 1.0,\n",
       " '수': 1.0,\n",
       " '눈': 1.0,\n",
       " '것': 1.0,\n",
       " '꿈': 1.0,\n",
       " '삶': 1.0,\n",
       " '길': 1.0,\n",
       " '둘': 1.0,\n",
       " '못': 1.0,\n",
       " '모': 1.0,\n",
       " '밤': 1.0,\n",
       " '원': 1.0,\n",
       " '꿔': 1.0,\n",
       " '법': 1.0,\n",
       " '뭣': 1.0,\n",
       " '때': 0.7142857142857143,\n",
       " '많': 0.9512195121951219,\n",
       " '몸': 1.0,\n",
       " '높': 0.8,\n",
       " '독': 0.5,\n",
       " '춤': 1.0,\n",
       " '힘': 0.5,\n",
       " '끝': 1.0,\n",
       " '숨': 1.0,\n",
       " '깊': 0.5,\n",
       " '열': 0.5,\n",
       " '잘': 0.625,\n",
       " '꺼': 0.3333333333333333,\n",
       " '손': 0.6666666666666666,\n",
       " '보': 1.0,\n",
       " '더': 1.0}"
      ]
     },
     "execution_count": 41,
     "metadata": {},
     "output_type": "execute_result"
    }
   ],
   "source": [
    "# 단어별 스코어 \n",
    "scores = {w:s.score for w, s in nouns.items()}\n",
    "scores"
   ]
  },
  {
   "cell_type": "code",
   "execution_count": 42,
   "metadata": {},
   "outputs": [],
   "source": [
    "# 토크나이저 생성\n",
    "tokenizer = MaxScoreTokenizer(scores=scores)"
   ]
  },
  {
   "cell_type": "code",
   "execution_count": 43,
   "metadata": {
    "scrolled": false
   },
   "outputs": [
    {
     "name": "stdout",
     "output_type": "stream",
     "text": [
      "\n",
      "---------------- 원문 --------------\n",
      "\n",
      "No More Dream,\n",
      "얌마 네 꿈은 뭐니\n",
      "얌마 네 꿈은 뭐니\n",
      "얌마 네 꿈은 뭐니\n",
      "네 꿈은 겨우 그거니\n",
      "\n",
      "I wanna big house, big cars & big rings\n",
      "But 사실은 I dun have any big dreams\n",
      "하하 난 참 편하게 살어\n",
      "꿈 따위 안 꿔도 아무도 뭐라 안 하잖어\n",
      "전부 다다다 똑같이 나처럼 생각하고 있어\n",
      "새까까까맣게 까먹은 꿈 많던 어린 시절\n",
      "대학은 걱정 마 멀리라도 갈 거니까\n",
      "알았어 엄마 지금 독서실 간다니까\n",
      "\n",
      "네가 꿈꿔 온 네 모습이 뭐야\n",
      "지금 네 거울 속엔 누가 보여, I gotta say\n",
      "너의 길을 가라고\n",
      "단 하루를 살아도\n",
      "뭐라도 하라고\n",
      "나약함은 담아 둬\n",
      "\n",
      "왜 말 못하고 있어? 공부는 하기 싫다면서\n",
      "학교 때려 치기는 겁나지? 이거 봐 등교할 준비하네 벌써\n",
      "철 좀 들어 제발 좀, 너 입만 살아가지고 인마 유리 멘탈 boy\n",
      "(Stop!) 자신에게 물어봐 언제 네가 열심히 노력했냐고\n",
      "\n",
      "얌마 네 꿈은 뭐니\n",
      "얌마 네 꿈은 뭐니\n",
      "얌마 네 꿈은 뭐니\n",
      "네 꿈은 겨우 그거니\n",
      "\n",
      "거짓말이야 you such a liar\n",
      "See me see me ya 넌 위선자여\n",
      "왜 자꾸 딴 길을 가래 야 너나 잘해\n",
      "제발 강요하진 말아 줘\n",
      "(La la la la la) 네 꿈이 뭐니 네 꿈이 뭐니 뭐니\n",
      "(La la la la la) 고작 이거니 고작 이거니 거니\n",
      "\n",
      "지겨운 same day, 반복되는 매일에\n",
      "어른들과 부모님은 틀에 박힌 꿈을 주입해\n",
      "장래희망 넘버원... 공무원?\n",
      "강요된 꿈은 아냐, 9회말 구원투수\n",
      "시간 낭비인 야자에 돌직구를 날려\n",
      "지옥 같은 사회에 반항해, 꿈을 특별 사면\n",
      "자신에게 물어봐 네 꿈의 profile\n",
      "억압만 받던 인생 네 삶의 주어가 되어 봐\n",
      "\n",
      "네가 꿈꿔 온 네 모습이 뭐여\n",
      "지금 네 거울 속엔 누가 보여, I gotta say\n",
      "너의 길을 가라고\n",
      "단 하루를 살아도\n",
      "뭐라도 하라고\n",
      "나약함은 담아 둬\n",
      "\n",
      "얌마 네 꿈은 뭐니\n",
      "얌마 네 꿈은 뭐니\n",
      "얌마 네 꿈은 뭐니\n",
      "네 꿈은 겨우 그거니\n",
      "\n",
      "거짓말이야 you such a liar\n",
      "See me see me ya 넌 위선자여\n",
      "왜 자꾸 딴 길을 가래 야 너나 잘해\n",
      "제발 강요하진 말아 줘\n",
      "(La la la la la) 네 꿈이 뭐니 네 꿈이 뭐니 뭐니\n",
      "(La la la la la) 고작 이거니 고작 이거니 거니\n",
      "\n",
      "살아가는 법을 몰라\n",
      "날아가는 법을 몰라\n",
      "결정하는 법을 몰라\n",
      "이젠 꿈꾸는 법도 몰라\n",
      "\n",
      "눈을 눈을 눈을 떠라 다 이제\n",
      "춤을 춤을 춤을 춰 봐 자 다시\n",
      "꿈을 꿈을 꿈을 꿔 봐 다\n",
      "너 꾸물대지 마 우물쭈물 대지 마 wussup!\n",
      "\n",
      "거짓말이야 you such a liar\n",
      "See me see me ya 넌 위선자여\n",
      "왜 자꾸 딴 길을 가래 야 너나 잘해\n",
      "제발 강요하진 말아 줘\n",
      "(La la la la la) 네 꿈이 뭐니 네 꿈이 뭐니 뭐니\n",
      "(La la la la la) 고작 이거니 고작 이거니 거니\n",
      "\n",
      "To all the youngsters without dreams.\n",
      "\n",
      "\n",
      "---------------- 처리 후 --------------\n",
      "\n",
      "['No', 'More', 'Dream,', '얌마', '네', '꿈은', '뭐니', '얌마', '네', '꿈은', '뭐니', '얌마', '네', '꿈은', '뭐니', '네', '꿈은', '겨우', '그거니', 'I', 'wanna', 'big', 'house,', 'big', 'cars', '&', 'big', 'rings', 'But', '사실은', 'I', 'dun', 'have', 'any', 'big', 'dreams', '하하', '난', '참', '편하게', '살어', '꿈', '따위', '안', '꿔도', '아무', '도', '뭐라', '안', '하잖어', '전부', '다다다', '똑같이', '나처럼', '생각하고', '있어', '새까까까맣게', '까먹은', '꿈', '많던', '어린', '시절', '대학은', '걱정', '마', '멀리', '라도', '갈', '거니까', '알았어', '엄마', '지금', '독서실', '간다니까', '네가', '꿈꿔', '온', '네', '모습이', '뭐야', '지금', '네', '거울', '속엔', '누가', '보여,', 'I', 'gotta', 'say', '너의', '길을', '가라고', '단', '하루', '를', '살아도', '뭐라도', '하라고', '나약함은', '담아', '둬', '왜', '말', '못하고', '있어', '?', '공부는', '하기', '싫다면서', '학교', '때려', '치기는', '겁나지?', '이거', '봐', '등교할', '준비', '하네', '벌써', '철', '좀', '들어', '제발', '좀,', '너', '입만', '살아가지고', '인마', '유리', '멘탈', 'boy', '(Stop!)', '자신에게', '물어봐', '언제', '네가', '열심히', '노력했냐고', '얌마', '네', '꿈은', '뭐니', '얌마', '네', '꿈은', '뭐니', '얌마', '네', '꿈은', '뭐니', '네', '꿈은', '겨우', '그거니', '거짓말', '이야', 'you', 'such', 'a', 'liar', 'See', 'me', 'see', 'me', 'ya', '넌', '위선자여', '왜', '자꾸', '딴', '길을', '가래', '야', '너나', '잘해', '제발', '강요하진', '말아', '줘', '(La', 'la', 'la', 'la', 'la)', '네', '꿈이', '뭐니', '네', '꿈이', '뭐니', '뭐니', '(La', 'la', 'la', 'la', 'la)', '고작', '이거니', '고작', '이거니', '거니', '지겨운', 'same', 'day,', '반복되는', '매일', '에', '어른들', '과', '부모님은', '틀에', '박힌', '꿈을', '주입해', '장래희망', '넘버원...', '공무원?', '강요된', '꿈은', '아냐,', '9회말', '구원투수', '시간', '낭비인', '야자에', '돌직구를', '날려', '지옥', '같은', '사회에', '반항해,', '꿈을', '특별', '사면', '자신에게', '물어봐', '네', '꿈의', 'profile', '억압만', '받던', '인생', '네', '삶의', '주어가', '되어', '봐', '네가', '꿈꿔', '온', '네', '모습이', '뭐여', '지금', '네', '거울', '속엔', '누가', '보여,', 'I', 'gotta', 'say', '너의', '길을', '가라고', '단', '하루', '를', '살아도', '뭐라도', '하라고', '나약함은', '담아', '둬', '얌마', '네', '꿈은', '뭐니', '얌마', '네', '꿈은', '뭐니', '얌마', '네', '꿈은', '뭐니', '네', '꿈은', '겨우', '그거니', '거짓말', '이야', 'you', 'such', 'a', 'liar', 'See', 'me', 'see', 'me', 'ya', '넌', '위선자여', '왜', '자꾸', '딴', '길을', '가래', '야', '너나', '잘해', '제발', '강요하진', '말아', '줘', '(La', 'la', 'la', 'la', 'la)', '네', '꿈이', '뭐니', '네', '꿈이', '뭐니', '뭐니', '(La', 'la', 'la', 'la', 'la)', '고작', '이거니', '고작', '이거니', '거니', '살아가는', '법을', '몰라', '날아가는', '법을', '몰라', '결정하는', '법을', '몰라', '이젠', '꿈꾸는', '법도', '몰라', '눈을', '눈을', '눈을', '떠라', '다', '이제', '춤을', '춤을', '춤을', '춰', '봐', '자', '다시', '꿈을', '꿈을', '꿈을', '꿔', '봐', '다', '너', '꾸물대지', '마', '우물쭈물', '대지', '마', 'wussup!', '거짓말', '이야', 'you', 'such', 'a', 'liar', 'See', 'me', 'see', 'me', 'ya', '넌', '위선자여', '왜', '자꾸', '딴', '길을', '가래', '야', '너나', '잘해', '제발', '강요하진', '말아', '줘', '(La', 'la', 'la', 'la', 'la)', '네', '꿈이', '뭐니', '네', '꿈이', '뭐니', '뭐니', '(La', 'la', 'la', 'la', 'la)', '고작', '이거니', '고작', '이거니', '거니', 'To', 'all', 'the', 'youngsters', 'without', 'dreams.']\n",
      "\n",
      "---------------- 원문 --------------\n",
      "\n",
      "I NEED U,\n",
      "Fall Fall Fall 흩어지네\n",
      "Fall Fall Fall 떨어지네\n",
      "\n",
      "너 땜에 나 이렇게 망가져\n",
      "그만할래 이제 너 안 가져\n",
      "못하겠어 뭣 같아서\n",
      "제발 핑계 같은 건 삼가줘\n",
      "\n",
      "니가 나한테 이럼 안 돼\n",
      "니가 한 모든 말은 안대\n",
      "진실을 가리고 날 찢어\n",
      "날 찍어 나 미쳐 다 싫어\n",
      "전부 가져가 난 니가 그냥 미워\n",
      "\n",
      "But you’re my everything (You’re my)\n",
      "Everything (You’re my)\n",
      "Everything (You’re my)\n",
      "제발 좀 꺼져 huh\n",
      "\n",
      "미안해 (I hate u)\n",
      "사랑해 (I hate u)\n",
      "용서해\n",
      "\n",
      "I need you girl\n",
      "왜 혼자 사랑하고 혼자서만 이별해\n",
      "I need you girl\n",
      "왜 다칠 걸 알면서 자꾸 니가 필요해\n",
      "\n",
      "I need you girl 넌 아름다워\n",
      "I need you girl 너무 차가워\n",
      "I need you girl (I need you girl)\n",
      "I need you girl (I need you girl)\n",
      "\n",
      "It goes round & round 나 왜 자꾸 돌아오지\n",
      "I go down & down 이쯤 되면 내가 바보지\n",
      "나 무슨 짓을 해봐도 어쩔 수가 없다고\n",
      "분명 내 심장, 내 마음, 내 가슴인데 왜 말을 안 듣냐고\n",
      "또 혼잣말하네 (또 혼잣말하네)\n",
      "또 혼잣말하네 (또 혼잣말하네)\n",
      "넌 아무 말 안 해 아 제발 내가 잘할게\n",
      "하늘은 또 파랗게 (하늘은 또 파랗게)\n",
      "\n",
      "하늘이 파래서 햇살이 빛나서\n",
      "내 눈물이 더 잘 보이나 봐\n",
      "왜 나는 너인지 왜 하필 너인지\n",
      "왜 너를 떠날 수가 없는지\n",
      "\n",
      "I need you girl\n",
      "왜 혼자 사랑하고 혼자서만 이별해\n",
      "I need you girl\n",
      "왜 다칠 걸 알면서 자꾸 니가 필요해\n",
      "\n",
      "I need you girl 넌 아름다워\n",
      "I need you girl 너무 차가워\n",
      "I need you girl (I need you girl)\n",
      "I need you girl (I need you girl)\n",
      "\n",
      "Girl 차라리 차라리 헤어지자고 해줘\n",
      "Girl 사랑이 사랑이 아니었다고 해줘\n",
      "내겐 그럴 용기가 없어\n",
      "내게 마지막 선물을 줘\n",
      "더는 돌아갈 수 없도록\n",
      "\n",
      "I need you girl\n",
      "왜 혼자 사랑하고 혼자서만 이별해\n",
      "I need you girl\n",
      "왜 다칠 걸 알면서 자꾸 니가 필요해\n",
      "\n",
      "I need you girl 넌 아름다워\n",
      "I need you girl 너무 차가워\n",
      "I need you girl (I need you girl)\n",
      "I need you girl (I need you girl)\n",
      "\n",
      "\n",
      "---------------- 처리 후 --------------\n",
      "\n",
      "['I', 'NEED', 'U,', 'Fall', 'Fall', 'Fall', '흩어지네', 'Fall', 'Fall', 'Fall', '떨어지네', '너', '땜에', '나', '이렇게', '망가져', '그만할래', '이제', '너', '안', '가져', '못하겠어', '뭣', '같아서', '제발', '핑계', '같은', '건', '삼가줘', '니가', '나한테', '이럼', '안', '돼', '니가', '한', '모든', '말은', '안대', '진실을', '가리고', '날', '찢어', '날', '찍어', '나', '미쳐', '다', '싫어', '전부', '가져가', '난', '니가', '그냥', '미워', 'But', 'you’re', 'my', 'everything', '(You’re', 'my)', 'Everything', '(You’re', 'my)', 'Everything', '(You’re', 'my)', '제발', '좀', '꺼져', 'huh', '미안해', '(I', 'hate', 'u)', '사랑', '해', '(I', 'hate', 'u)', '용서해', 'I', 'need', 'you', 'girl', '왜', '혼자', '사랑', '하고', '혼자서만', '이별해', 'I', 'need', 'you', 'girl', '왜', '다칠', '걸', '알면서', '자꾸', '니가', '필요해', 'I', 'need', 'you', 'girl', '넌', '아름다워', 'I', 'need', 'you', 'girl', '너무', '차가워', 'I', 'need', 'you', 'girl', '(I', 'need', 'you', 'girl)', 'I', 'need', 'you', 'girl', '(I', 'need', 'you', 'girl)', 'It', 'goes', 'round', '&', 'round', '나', '왜', '자꾸', '돌아오지', 'I', 'go', 'down', '&', 'down', '이쯤', '되면', '내가', '바보지', '나', '무슨', '짓을', '해봐도', '어쩔', '수가', '없다고', '분명', '내', '심장,', '내', '마음,', '내', '가슴인데', '왜', '말을', '안', '듣냐고', '또', '혼잣말하네', '(또', '혼잣말하네)', '또', '혼잣말하네', '(또', '혼잣말하네)', '넌', '아무', '말', '안', '해', '아', '제발', '내가', '잘할게', '하늘', '은', '또', '파랗게', '(', '하늘', '은', '또', '파랗게)', '하늘', '이', '파래서', '햇살이', '빛나서', '내', '눈물', '이', '더', '잘', '보이나', '봐', '왜', '나는', '너인지', '왜', '하필', '너인지', '왜', '너를', '떠날', '수가', '없는지', 'I', 'need', 'you', 'girl', '왜', '혼자', '사랑', '하고', '혼자서만', '이별해', 'I', 'need', 'you', 'girl', '왜', '다칠', '걸', '알면서', '자꾸', '니가', '필요해', 'I', 'need', 'you', 'girl', '넌', '아름다워', 'I', 'need', 'you', 'girl', '너무', '차가워', 'I', 'need', 'you', 'girl', '(I', 'need', 'you', 'girl)', 'I', 'need', 'you', 'girl', '(I', 'need', 'you', 'girl)', 'Girl', '차라리', '차라리', '헤어지자고', '해줘', 'Girl', '사랑', '이', '사랑', '이', '아니었다고', '해줘', '내겐', '그럴', '용기가', '없어', '내게', '마지막', '선물을', '줘', '더는', '돌아갈', '수', '없도록', 'I', 'need', 'you', 'girl', '왜', '혼자', '사랑', '하고', '혼자서만', '이별해', 'I', 'need', 'you', 'girl', '왜', '다칠', '걸', '알면서', '자꾸', '니가', '필요해', 'I', 'need', 'you', 'girl', '넌', '아름다워', 'I', 'need', 'you', 'girl', '너무', '차가워', 'I', 'need', 'you', 'girl', '(I', 'need', 'you', 'girl)', 'I', 'need', 'you', 'girl', '(I', 'need', 'you', 'girl)']\n"
     ]
    }
   ],
   "source": [
    "# 토크나이저 적용.\n",
    "for doc in documents_ko[:2] :\n",
    "    print(\"\\n---------------- 원문 --------------\\n\")\n",
    "    print(doc)\n",
    "    print(\"\\n---------------- 처리 후 --------------\\n\")\n",
    "    tokens = tokenizer.tokenize(doc)\n",
    "    print(tokens)"
   ]
  },
  {
   "cell_type": "code",
   "execution_count": 44,
   "metadata": {},
   "outputs": [
    {
     "name": "stdout",
     "output_type": "stream",
     "text": [
      "None\n"
     ]
    }
   ],
   "source": [
    "# 그래도 뭔가 부족해보인다. 명사 위주로만 뽑자\n",
    "# 명사 추출기를 통해 해당 단어가 명사인지 아닌지를 알 수 있다.\n",
    "print(nouns.get('안녕'))"
   ]
  },
  {
   "cell_type": "code",
   "execution_count": 45,
   "metadata": {
    "scrolled": false
   },
   "outputs": [
    {
     "name": "stdout",
     "output_type": "stream",
     "text": [
      "\n",
      "---------------- 원문 --------------\n",
      "\n",
      "No More Dream,\n",
      "얌마 네 꿈은 뭐니\n",
      "얌마 네 꿈은 뭐니\n",
      "얌마 네 꿈은 뭐니\n",
      "네 꿈은 겨우 그거니\n",
      "\n",
      "I wanna big house, big cars & big rings\n",
      "But 사실은 I dun have any big dreams\n",
      "하하 난 참 편하게 살어\n",
      "꿈 따위 안 꿔도 아무도 뭐라 안 하잖어\n",
      "전부 다다다 똑같이 나처럼 생각하고 있어\n",
      "새까까까맣게 까먹은 꿈 많던 어린 시절\n",
      "대학은 걱정 마 멀리라도 갈 거니까\n",
      "알았어 엄마 지금 독서실 간다니까\n",
      "\n",
      "네가 꿈꿔 온 네 모습이 뭐야\n",
      "지금 네 거울 속엔 누가 보여, I gotta say\n",
      "너의 길을 가라고\n",
      "단 하루를 살아도\n",
      "뭐라도 하라고\n",
      "나약함은 담아 둬\n",
      "\n",
      "왜 말 못하고 있어? 공부는 하기 싫다면서\n",
      "학교 때려 치기는 겁나지? 이거 봐 등교할 준비하네 벌써\n",
      "철 좀 들어 제발 좀, 너 입만 살아가지고 인마 유리 멘탈 boy\n",
      "(Stop!) 자신에게 물어봐 언제 네가 열심히 노력했냐고\n",
      "\n",
      "얌마 네 꿈은 뭐니\n",
      "얌마 네 꿈은 뭐니\n",
      "얌마 네 꿈은 뭐니\n",
      "네 꿈은 겨우 그거니\n",
      "\n",
      "거짓말이야 you such a liar\n",
      "See me see me ya 넌 위선자여\n",
      "왜 자꾸 딴 길을 가래 야 너나 잘해\n",
      "제발 강요하진 말아 줘\n",
      "(La la la la la) 네 꿈이 뭐니 네 꿈이 뭐니 뭐니\n",
      "(La la la la la) 고작 이거니 고작 이거니 거니\n",
      "\n",
      "지겨운 same day, 반복되는 매일에\n",
      "어른들과 부모님은 틀에 박힌 꿈을 주입해\n",
      "장래희망 넘버원... 공무원?\n",
      "강요된 꿈은 아냐, 9회말 구원투수\n",
      "시간 낭비인 야자에 돌직구를 날려\n",
      "지옥 같은 사회에 반항해, 꿈을 특별 사면\n",
      "자신에게 물어봐 네 꿈의 profile\n",
      "억압만 받던 인생 네 삶의 주어가 되어 봐\n",
      "\n",
      "네가 꿈꿔 온 네 모습이 뭐여\n",
      "지금 네 거울 속엔 누가 보여, I gotta say\n",
      "너의 길을 가라고\n",
      "단 하루를 살아도\n",
      "뭐라도 하라고\n",
      "나약함은 담아 둬\n",
      "\n",
      "얌마 네 꿈은 뭐니\n",
      "얌마 네 꿈은 뭐니\n",
      "얌마 네 꿈은 뭐니\n",
      "네 꿈은 겨우 그거니\n",
      "\n",
      "거짓말이야 you such a liar\n",
      "See me see me ya 넌 위선자여\n",
      "왜 자꾸 딴 길을 가래 야 너나 잘해\n",
      "제발 강요하진 말아 줘\n",
      "(La la la la la) 네 꿈이 뭐니 네 꿈이 뭐니 뭐니\n",
      "(La la la la la) 고작 이거니 고작 이거니 거니\n",
      "\n",
      "살아가는 법을 몰라\n",
      "날아가는 법을 몰라\n",
      "결정하는 법을 몰라\n",
      "이젠 꿈꾸는 법도 몰라\n",
      "\n",
      "눈을 눈을 눈을 떠라 다 이제\n",
      "춤을 춤을 춤을 춰 봐 자 다시\n",
      "꿈을 꿈을 꿈을 꿔 봐 다\n",
      "너 꾸물대지 마 우물쭈물 대지 마 wussup!\n",
      "\n",
      "거짓말이야 you such a liar\n",
      "See me see me ya 넌 위선자여\n",
      "왜 자꾸 딴 길을 가래 야 너나 잘해\n",
      "제발 강요하진 말아 줘\n",
      "(La la la la la) 네 꿈이 뭐니 네 꿈이 뭐니 뭐니\n",
      "(La la la la la) 고작 이거니 고작 이거니 거니\n",
      "\n",
      "To all the youngsters without dreams.\n",
      "\n",
      "\n",
      "---------------- 처리 후 --------------\n",
      "\n",
      "['네', '네', '네', '네', '꿈', '아무', '전부', '있어', '꿈', '멀리', '네', '네', '하루', '말', '있어', '준비', '벌써', '너', '네', '네', '네', '네', '거짓말', '자꾸', '네', '네', '매일', '어른들', '시간', '특별', '네', '네', '네', '네', '하루', '네', '네', '네', '네', '거짓말', '자꾸', '네', '네', '꿔', '너', '거짓말', '자꾸', '네', '네']\n",
      "\n",
      "---------------- 원문 --------------\n",
      "\n",
      "I NEED U,\n",
      "Fall Fall Fall 흩어지네\n",
      "Fall Fall Fall 떨어지네\n",
      "\n",
      "너 땜에 나 이렇게 망가져\n",
      "그만할래 이제 너 안 가져\n",
      "못하겠어 뭣 같아서\n",
      "제발 핑계 같은 건 삼가줘\n",
      "\n",
      "니가 나한테 이럼 안 돼\n",
      "니가 한 모든 말은 안대\n",
      "진실을 가리고 날 찢어\n",
      "날 찍어 나 미쳐 다 싫어\n",
      "전부 가져가 난 니가 그냥 미워\n",
      "\n",
      "But you’re my everything (You’re my)\n",
      "Everything (You’re my)\n",
      "Everything (You’re my)\n",
      "제발 좀 꺼져 huh\n",
      "\n",
      "미안해 (I hate u)\n",
      "사랑해 (I hate u)\n",
      "용서해\n",
      "\n",
      "I need you girl\n",
      "왜 혼자 사랑하고 혼자서만 이별해\n",
      "I need you girl\n",
      "왜 다칠 걸 알면서 자꾸 니가 필요해\n",
      "\n",
      "I need you girl 넌 아름다워\n",
      "I need you girl 너무 차가워\n",
      "I need you girl (I need you girl)\n",
      "I need you girl (I need you girl)\n",
      "\n",
      "It goes round & round 나 왜 자꾸 돌아오지\n",
      "I go down & down 이쯤 되면 내가 바보지\n",
      "나 무슨 짓을 해봐도 어쩔 수가 없다고\n",
      "분명 내 심장, 내 마음, 내 가슴인데 왜 말을 안 듣냐고\n",
      "또 혼잣말하네 (또 혼잣말하네)\n",
      "또 혼잣말하네 (또 혼잣말하네)\n",
      "넌 아무 말 안 해 아 제발 내가 잘할게\n",
      "하늘은 또 파랗게 (하늘은 또 파랗게)\n",
      "\n",
      "하늘이 파래서 햇살이 빛나서\n",
      "내 눈물이 더 잘 보이나 봐\n",
      "왜 나는 너인지 왜 하필 너인지\n",
      "왜 너를 떠날 수가 없는지\n",
      "\n",
      "I need you girl\n",
      "왜 혼자 사랑하고 혼자서만 이별해\n",
      "I need you girl\n",
      "왜 다칠 걸 알면서 자꾸 니가 필요해\n",
      "\n",
      "I need you girl 넌 아름다워\n",
      "I need you girl 너무 차가워\n",
      "I need you girl (I need you girl)\n",
      "I need you girl (I need you girl)\n",
      "\n",
      "Girl 차라리 차라리 헤어지자고 해줘\n",
      "Girl 사랑이 사랑이 아니었다고 해줘\n",
      "내겐 그럴 용기가 없어\n",
      "내게 마지막 선물을 줘\n",
      "더는 돌아갈 수 없도록\n",
      "\n",
      "I need you girl\n",
      "왜 혼자 사랑하고 혼자서만 이별해\n",
      "I need you girl\n",
      "왜 다칠 걸 알면서 자꾸 니가 필요해\n",
      "\n",
      "I need you girl 넌 아름다워\n",
      "I need you girl 너무 차가워\n",
      "I need you girl (I need you girl)\n",
      "I need you girl (I need you girl)\n",
      "\n",
      "\n",
      "---------------- 처리 후 --------------\n",
      "\n",
      "['너', '너', '뭣', '전부', '사랑', '사랑', '자꾸', '너무', '자꾸', '내', '내', '내', '아무', '말', '하늘', '하늘', '하늘', '내', '눈물', '더', '잘', '사랑', '자꾸', '너무', '사랑', '사랑', '수', '사랑', '자꾸', '너무']\n"
     ]
    }
   ],
   "source": [
    "# 적용\n",
    "for doc in documents_ko[:2] :\n",
    "    print(\"\\n---------------- 원문 --------------\\n\")\n",
    "    print(doc)\n",
    "    print(\"\\n---------------- 처리 후 --------------\\n\")\n",
    "    tokens = tokenizer.tokenize(doc)\n",
    "    print([token for token in tokens if nouns.get(token)]) # 토큰 중에 명사인 것만 반영"
   ]
  },
  {
   "cell_type": "code",
   "execution_count": 46,
   "metadata": {},
   "outputs": [
    {
     "name": "stdout",
     "output_type": "stream",
     "text": [
      "[['네',\n",
      "  '네',\n",
      "  '네',\n",
      "  '네',\n",
      "  '꿈',\n",
      "  '아무',\n",
      "  '전부',\n",
      "  '있어',\n",
      "  '꿈',\n",
      "  '멀리',\n",
      "  '네',\n",
      "  '네',\n",
      "  '하루',\n",
      "  '말',\n",
      "  '있어',\n",
      "  '준비',\n",
      "  '벌써',\n",
      "  '너',\n",
      "  '네',\n",
      "  '네',\n",
      "  '네',\n",
      "  '네',\n",
      "  '거짓말',\n",
      "  '자꾸',\n",
      "  '네',\n",
      "  '네',\n",
      "  '매일',\n",
      "  '어른들',\n",
      "  '시간',\n",
      "  '특별',\n",
      "  '네',\n",
      "  '네',\n",
      "  '네',\n",
      "  '네',\n",
      "  '하루',\n",
      "  '네',\n",
      "  '네',\n",
      "  '네',\n",
      "  '네',\n",
      "  '거짓말',\n",
      "  '자꾸',\n",
      "  '네',\n",
      "  '네',\n",
      "  '꿔',\n",
      "  '너',\n",
      "  '거짓말',\n",
      "  '자꾸',\n",
      "  '네',\n",
      "  '네'],\n",
      " ['너',\n",
      "  '너',\n",
      "  '뭣',\n",
      "  '전부',\n",
      "  '사랑',\n",
      "  '사랑',\n",
      "  '자꾸',\n",
      "  '너무',\n",
      "  '자꾸',\n",
      "  '내',\n",
      "  '내',\n",
      "  '내',\n",
      "  '아무',\n",
      "  '말',\n",
      "  '하늘',\n",
      "  '하늘',\n",
      "  '하늘',\n",
      "  '내',\n",
      "  '눈물',\n",
      "  '더',\n",
      "  '잘',\n",
      "  '사랑',\n",
      "  '자꾸',\n",
      "  '너무',\n",
      "  '사랑',\n",
      "  '사랑',\n",
      "  '수',\n",
      "  '사랑',\n",
      "  '자꾸',\n",
      "  '너무']]\n"
     ]
    }
   ],
   "source": [
    "# 단어(토큰) 단위로 분할하는 함수 - 그 중에 명사만 반환한다.\n",
    "def tokenize(x, tokenizer) :\n",
    "    for token in tokenizer.tokenize(x) :\n",
    "        if nouns.get(token) :  # 명사만 선택한다.\n",
    "            yield token\n",
    "        \n",
    "        \n",
    "# 코퍼스를 만들자\n",
    "corpus_ko = [list(tokenize(doc, tokenizer)) for doc in documents_ko]\n",
    "\n",
    "pprint(corpus_ko[:2])"
   ]
  },
  {
   "cell_type": "markdown",
   "metadata": {},
   "source": [
    "##### 벡터 생성"
   ]
  },
  {
   "cell_type": "code",
   "execution_count": 47,
   "metadata": {},
   "outputs": [],
   "source": [
    "# Dictionary 생성\n",
    "dictionary_ko = gensim.corpora.Dictionary(corpus_ko)"
   ]
  },
  {
   "cell_type": "code",
   "execution_count": 48,
   "metadata": {},
   "outputs": [],
   "source": [
    "# Tfidf Model 생성\n",
    "tfidf_ko = gensim.models.TfidfModel(dictionary=dictionary_ko, normalize=True)"
   ]
  },
  {
   "cell_type": "code",
   "execution_count": 49,
   "metadata": {},
   "outputs": [
    {
     "data": {
      "text/plain": [
       "[[(0, 0.12107436527752928),\n",
       "  (1, 0.11791395471330296),\n",
       "  (2, 0.05895697735665148),\n",
       "  (3, 0.05895697735665148),\n",
       "  (4, 0.9685949222202342),\n",
       "  (5, 0.04035812175917643),\n",
       "  (6, 0.04035812175917643),\n",
       "  (7, 0.04035812175917643),\n",
       "  (8, 0.04035812175917643),\n",
       "  (9, 0.02947848867832574),\n",
       "  (10, 0.04035812175917643),\n",
       "  (11, 0.04035812175917643),\n",
       "  (12, 0.03154354402424213),\n",
       "  (13, 0.08843546603497723),\n",
       "  (14, 0.010879633080850683),\n",
       "  (15, 0.04035812175917643),\n",
       "  (16, 0.04035812175917643),\n",
       "  (17, 0.05895697735665148)],\n",
       " [(3, 0.1810555648125473),\n",
       "  (5, 0.12393889336758655),\n",
       "  (10, 0.12393889336758655),\n",
       "  (13, 0.3621111296250946),\n",
       "  (14, 0.0334111109613129),\n",
       "  (18, 0.1336444438452516),\n",
       "  (19, 0.14530428209412652),\n",
       "  (20, 0.12393889336758655),\n",
       "  (21, 0.048434760698042166),\n",
       "  (22, 0.1810555648125473),\n",
       "  (23, 0.7436333602055194),\n",
       "  (24, 0.09052778240627365),\n",
       "  (25, 0.12393889336758655),\n",
       "  (26, 0.3718166801027597)]]"
      ]
     },
     "execution_count": 49,
     "metadata": {},
     "output_type": "execute_result"
    }
   ],
   "source": [
    "vectors = [tfidf_ko[dictionary_ko.doc2bow(vector)] for vector in corpus_ko]\n",
    "vectors[:2]"
   ]
  },
  {
   "cell_type": "markdown",
   "metadata": {},
   "source": [
    "##### 벡터 비교"
   ]
  },
  {
   "cell_type": "code",
   "execution_count": 50,
   "metadata": {},
   "outputs": [],
   "source": [
    "# tf-idf 기반 벡터 유사도 \n",
    "from gensim import similarities"
   ]
  },
  {
   "cell_type": "code",
   "execution_count": 51,
   "metadata": {},
   "outputs": [],
   "source": [
    "# 거리 구하는 함수\n",
    "def distance(a, b, dic) :\n",
    "    index = similarities.MatrixSimilarity([a],num_features=len(dic))\n",
    "    sim = index[b]\n",
    "    return sim[0]*100"
   ]
  },
  {
   "cell_type": "code",
   "execution_count": 52,
   "metadata": {},
   "outputs": [],
   "source": [
    "# 해당 벡터가 어떤 곡에 대한 것인지를 출력하기 위해 제목 리스트만 따로 뽑음\n",
    "titles = list(BTS.keys())"
   ]
  },
  {
   "cell_type": "code",
   "execution_count": 53,
   "metadata": {},
   "outputs": [
    {
     "name": "stdout",
     "output_type": "stream",
     "text": [
      "A: \n",
      "No More Dream\n",
      "['네', '네', '네', '네', '꿈', '아무', '전부', '있어', '꿈', '멀리', '네', '네', '하루', '말', '있어', '준비', '벌써', '너', '네', '네', '네', '네', '거짓말', '자꾸', '네', '네', '매일', '어른들', '시간', '특별', '네', '네', '네', '네', '하루', '네', '네', '네', '네', '거짓말', '자꾸', '네', '네', '꿔', '너', '거짓말', '자꾸', '네', '네']\n",
      "[(0, 0.12107436527752928), (1, 0.11791395471330296), (2, 0.05895697735665148), (3, 0.05895697735665148), (4, 0.9685949222202342), (5, 0.04035812175917643), (6, 0.04035812175917643), (7, 0.04035812175917643), (8, 0.04035812175917643), (9, 0.02947848867832574), (10, 0.04035812175917643), (11, 0.04035812175917643), (12, 0.03154354402424213), (13, 0.08843546603497723), (14, 0.010879633080850683), (15, 0.04035812175917643), (16, 0.04035812175917643), (17, 0.05895697735665148)]\n",
      "-------------------\n",
      "B: \n",
      "봄날\n",
      "['봄날', '더', '있어', '너무', '시간', '우리', '우리', '겨울', '겨울', '시간', '손', '겨울', '봄날', '조금', '더', '수', '조금', '더', '겨울', '봄날', '더', '시간', '우리', '모두', '하루', '조금', '더', '겨울', '조금', '더', '겨울', '봄날', '더']\n",
      "[(9, 0.17977842153624138), (12, 0.0320620719751412), (17, 0.05992614051208046), (19, 0.0320620719751412), (21, 0.2244345038259884), (24, 0.05992614051208046), (30, 0.08204309595838546), (33, 0.17977842153624138), (38, 0.7191136861449655), (39, 0.47940912409664366), (40, 0.11985228102416091), (41, 0.32817238383354186)]\n",
      "===================\n",
      "0.98 % similar\n"
     ]
    }
   ],
   "source": [
    "# 두 벡터 비교 \n",
    "\n",
    "a = 0\n",
    "print(\"A: \")\n",
    "print(titles[a])\n",
    "print(corpus_ko[a])\n",
    "print(vectors[a])\n",
    "\n",
    "print(\"-------------------\")\n",
    "\n",
    "b = 3\n",
    "print(\"B: \")\n",
    "print(titles[b])\n",
    "print(corpus_ko[b])\n",
    "print(vectors[b])\n",
    "\n",
    "sim = distance(vectors[a], vectors[b], dictionary_ko)\n",
    "\n",
    "print(\"===================\")\n",
    "print(round(sim,2),'% similar')"
   ]
  },
  {
   "cell_type": "code",
   "execution_count": 54,
   "metadata": {},
   "outputs": [
    {
     "name": "stdout",
     "output_type": "stream",
     "text": [
      "A: \n",
      "봄날\n",
      "['봄날', '더', '있어', '너무', '시간', '우리', '우리', '겨울', '겨울', '시간', '손', '겨울', '봄날', '조금', '더', '수', '조금', '더', '겨울', '봄날', '더', '시간', '우리', '모두', '하루', '조금', '더', '겨울', '조금', '더', '겨울', '봄날', '더']\n",
      "[(9, 0.17977842153624138), (12, 0.0320620719751412), (17, 0.05992614051208046), (19, 0.0320620719751412), (21, 0.2244345038259884), (24, 0.05992614051208046), (30, 0.08204309595838546), (33, 0.17977842153624138), (38, 0.7191136861449655), (39, 0.47940912409664366), (40, 0.11985228102416091), (41, 0.32817238383354186)]\n",
      "-------------------\n",
      "B: \n",
      "봄날\n",
      "['봄날', '더', '있어', '너무', '시간', '우리', '우리', '겨울', '겨울', '시간', '손', '겨울', '봄날', '조금', '더', '수', '조금', '더', '겨울', '봄날', '더', '시간', '우리', '모두', '하루', '조금', '더', '겨울', '조금', '더', '겨울', '봄날', '더']\n",
      "[(9, 0.17977842153624138), (12, 0.0320620719751412), (17, 0.05992614051208046), (19, 0.0320620719751412), (21, 0.2244345038259884), (24, 0.05992614051208046), (30, 0.08204309595838546), (33, 0.17977842153624138), (38, 0.7191136861449655), (39, 0.47940912409664366), (40, 0.11985228102416091), (41, 0.32817238383354186)]\n",
      "===================\n",
      "100.0 % similar\n"
     ]
    }
   ],
   "source": [
    "a = 3\n",
    "print(\"A: \")\n",
    "print(titles[a])\n",
    "print(corpus_ko[a])\n",
    "print(vectors[a])\n",
    "\n",
    "print(\"-------------------\")\n",
    "\n",
    "b = 3\n",
    "print(\"B: \")\n",
    "print(titles[b])\n",
    "print(corpus_ko[b])\n",
    "print(vectors[b])\n",
    "\n",
    "sim = distance(vectors[a], vectors[b], dictionary_ko)\n",
    "\n",
    "print(\"===================\")\n",
    "print(round(sim,2),'% similar')"
   ]
  },
  {
   "cell_type": "code",
   "execution_count": 55,
   "metadata": {},
   "outputs": [
    {
     "name": "stdout",
     "output_type": "stream",
     "text": [
      "A: \n",
      "DNA\n",
      "['DNA', '내', 'DNA', '우리', '우주', '운명', '내', '내', '운명', '우주', '함께', '운명', 'DNA', '더', 'DNA', '우리', '자꾸', '이상', '사랑', '내', '운명', '우주', '함께', '운명', 'DNA', '운명', '우리', '함께', '운명', 'DNA']\n",
      "[(13, 0.05726670028364734), (18, 0.08454174074334084), (21, 0.030639201032861517), (23, 0.07840213546948255), (33, 0.17180010085094202), (42, 0.6872004034037681), (43, 0.34360020170188404), (44, 0.5488149482863779), (45, 0.07840213546948255), (46, 0.23520640640844767)]\n",
      "-------------------\n",
      "B: \n",
      "작은 것들을 위한 시\n",
      "['행복', '내', '머리', '네', '하늘', '있어', '날개', '너무', '내', '네', '전부', '함께', '조금', '내', '너', '사소', '사소', '특별', '사소', '너무', '운명', '처음', '내', '하늘', '있어', '날개', '너무', '내', '네', '전부', '함께', '조금', '상처', '상처', '때', '날개', '네', '전부', '함께', '조금']\n",
      "[(3, 0.0788862248590622), (4, 0.4320031332304548), (12, 0.08441243830039596), (14, 0.08734367534565451), (16, 0.1080007833076137), (18, 0.14557279224275751), (19, 0.12661865745059395), (26, 0.2160015666152274), (28, 0.1080007833076137), (29, 0.1080007833076137), (36, 0.1080007833076137), (41, 0.32400234992284116), (44, 0.1080007833076137), (46, 0.32400234992284116), (48, 0.32400234992284116), (53, 0.1080007833076137), (54, 0.47331734915437323), (55, 0.3155448994362488)]\n",
      "===================\n",
      "14.78 % similar\n"
     ]
    }
   ],
   "source": [
    "a = 4\n",
    "print(\"A: \")\n",
    "print(titles[a])\n",
    "print(corpus_ko[a])\n",
    "print(vectors[a])\n",
    "\n",
    "print(\"-------------------\")\n",
    "\n",
    "b = 8\n",
    "print(\"B: \")\n",
    "print(titles[b])\n",
    "print(corpus_ko[b])\n",
    "print(vectors[b])\n",
    "\n",
    "sim = distance(vectors[a], vectors[b], dictionary_ko)\n",
    "\n",
    "print(\"===================\")\n",
    "print(round(sim,2),'% similar')"
   ]
  },
  {
   "cell_type": "markdown",
   "metadata": {},
   "source": [
    "-------------------"
   ]
  },
  {
   "cell_type": "markdown",
   "metadata": {},
   "source": [
    "# Distributed Representation"
   ]
  },
  {
   "cell_type": "markdown",
   "metadata": {},
   "source": [
    "* Document Embedding\n",
    "    - Doc2Vec\n",
    "* Word Embedding\n",
    "    - Word2Vec\n",
    "    - Glove\n",
    "    - FastText\n",
    "* Sentence Embeding"
   ]
  },
  {
   "cell_type": "markdown",
   "metadata": {},
   "source": [
    "<img src=\"https://nbviewer.jupyter.org/github/psygrammer/psyml/blob/master/nlp_ml/ch04/figures/cap05.png\" width=600 />\n",
    "\n",
    "* 출처 - Applied Text Analysis with Python: Enabling Language-Aware Data Products with Machine Learning - https://www.amazon.com/Applied-Text-Analysis-Python-Language-Aware/dp/1491963042/"
   ]
  },
  {
   "cell_type": "markdown",
   "metadata": {},
   "source": [
    "-----------------------------------"
   ]
  },
  {
   "cell_type": "markdown",
   "metadata": {},
   "source": [
    "## Document Embedding\n",
    "* Doc2Vec"
   ]
  },
  {
   "cell_type": "markdown",
   "metadata": {},
   "source": [
    "### Doc2Vec"
   ]
  },
  {
   "cell_type": "code",
   "execution_count": 56,
   "metadata": {},
   "outputs": [],
   "source": [
    "from gensim.models.doc2vec import TaggedDocument, Doc2Vec"
   ]
  },
  {
   "cell_type": "code",
   "execution_count": 57,
   "metadata": {},
   "outputs": [
    {
     "name": "stdout",
     "output_type": "stream",
     "text": [
      "[['네', '네', '네', '네', '꿈', '아무', '전부', '있어', '꿈', '멀리', '네', '네', '하루', '말', '있어', '준비', '벌써', '너', '네', '네', '네', '네', '거짓말', '자꾸', '네', '네', '매일', '어른들', '시간', '특별', '네', '네', '네', '네', '하루', '네', '네', '네', '네', '거짓말', '자꾸', '네', '네', '꿔', '너', '거짓말', '자꾸', '네', '네'], ['너', '너', '뭣', '전부', '사랑', '사랑', '자꾸', '너무', '자꾸', '내', '내', '내', '아무', '말', '하늘', '하늘', '하늘', '내', '눈물', '더', '잘', '사랑', '자꾸', '너무', '사랑', '사랑', '수', '사랑', '자꾸', '너무']]\n"
     ]
    }
   ],
   "source": [
    "# 코퍼스 확인\n",
    "print(corpus_ko[:2])"
   ]
  },
  {
   "cell_type": "code",
   "execution_count": 58,
   "metadata": {},
   "outputs": [],
   "source": [
    "docs   = [ \n",
    "    TaggedDocument(words, [titles[idx]])\n",
    "        for idx, words in enumerate(corpus_ko)\n",
    "]"
   ]
  },
  {
   "cell_type": "code",
   "execution_count": 59,
   "metadata": {},
   "outputs": [
    {
     "name": "stdout",
     "output_type": "stream",
     "text": [
      "[TaggedDocument(words=['네', '네', '네', '네', '꿈', '아무', '전부', '있어', '꿈', '멀리', '네', '네', '하루', '말', '있어', '준비', '벌써', '너', '네', '네', '네', '네', '거짓말', '자꾸', '네', '네', '매일', '어른들', '시간', '특별', '네', '네', '네', '네', '하루', '네', '네', '네', '네', '거짓말', '자꾸', '네', '네', '꿔', '너', '거짓말', '자꾸', '네', '네'], tags=['No More Dream']), TaggedDocument(words=['너', '너', '뭣', '전부', '사랑', '사랑', '자꾸', '너무', '자꾸', '내', '내', '내', '아무', '말', '하늘', '하늘', '하늘', '내', '눈물', '더', '잘', '사랑', '자꾸', '너무', '사랑', '사랑', '수', '사랑', '자꾸', '너무'], tags=['I NEED U'])]\n"
     ]
    }
   ],
   "source": [
    "print(docs[:2])"
   ]
  },
  {
   "cell_type": "code",
   "execution_count": 60,
   "metadata": {},
   "outputs": [],
   "source": [
    "d2v = Doc2Vec(docs, min_count=0)"
   ]
  },
  {
   "cell_type": "code",
   "execution_count": 61,
   "metadata": {},
   "outputs": [],
   "source": [
    "vectors = d2v.docvecs"
   ]
  },
  {
   "cell_type": "code",
   "execution_count": 62,
   "metadata": {},
   "outputs": [
    {
     "name": "stdout",
     "output_type": "stream",
     "text": [
      "[-0.00408681 -0.00091567  0.00211057  0.00401096 -0.00174407 -0.00146094\n",
      "  0.00135437  0.00312586 -0.00236289  0.00091325 -0.00295639  0.00175924\n",
      " -0.00013658  0.00108866  0.00106708  0.00492393 -0.00204624  0.0008491\n",
      "  0.00328767 -0.00173117  0.00351771  0.00339803  0.00207853 -0.00367448\n",
      " -0.0042132  -0.00163761  0.00194269  0.00176119 -0.00115864  0.00172542\n",
      " -0.00023146  0.00349364  0.00290492  0.00420017  0.00413783 -0.0033247\n",
      " -0.00255345 -0.0007002   0.00014598  0.001724   -0.00329464 -0.00120261\n",
      " -0.0025804  -0.00126396 -0.00492956  0.00178722  0.00127932 -0.00165988\n",
      "  0.00230966  0.00150359 -0.00268149  0.00165237 -0.00405054  0.0017598\n",
      "  0.00050478 -0.00036937 -0.00070787 -0.00474787 -0.00152802  0.0033729\n",
      " -0.00011855  0.00378426 -0.00301122  0.00012145  0.00390283 -0.00358409\n",
      " -0.00032301 -0.00318221 -0.00319286  0.00481766 -0.00010648 -0.00042458\n",
      " -0.00094336  0.00435433  0.00468324 -0.00166371  0.00259273  0.00284746\n",
      " -0.00241134 -0.00433309 -0.00019563 -0.00277801  0.00245924  0.00205084\n",
      "  0.00371623 -0.0036463  -0.00459376 -0.0010419   0.00091865 -0.00274241\n",
      " -0.0018519  -0.00093354 -0.00157461 -0.00250146  0.00181305  0.00412191\n",
      " -0.00143081 -0.00074224  0.00364034 -0.00115509]\n",
      "[ 2.4158247e-03 -2.2364266e-05  2.5772310e-03  4.5869341e-03\n",
      " -1.2854832e-03 -4.9118688e-03 -3.4801755e-03  1.6693432e-03\n",
      "  1.6568475e-03 -2.4503950e-04 -2.1894679e-03  5.7584664e-04\n",
      " -9.2962082e-04  4.0587801e-03 -3.8492163e-03  4.7696466e-03\n",
      "  1.5631561e-03  1.5316563e-04  2.7548920e-03 -3.9104423e-03\n",
      "  2.9210490e-03  5.2176323e-03 -8.5094647e-04 -5.0848080e-03\n",
      " -4.6425788e-03  1.6511647e-03  4.4127298e-04  4.9182605e-03\n",
      " -3.0761042e-03 -2.1688896e-03  4.6480079e-03  4.9404763e-03\n",
      "  1.3586715e-03 -1.2384700e-03 -7.4626552e-04  4.3541505e-03\n",
      "  1.0123688e-03  7.2501268e-04 -4.1076913e-03 -3.6395893e-03\n",
      "  2.4681347e-03 -3.6723700e-03  2.5681994e-04  3.9886418e-03\n",
      " -4.4909492e-03  3.9725560e-03  3.5618804e-04  4.9009784e-03\n",
      "  2.7143676e-03 -1.6768685e-03  3.1182526e-03 -9.4674021e-04\n",
      " -1.8282722e-03  1.2849808e-03  4.3511153e-03 -5.0944574e-05\n",
      "  3.8310434e-04 -4.5259004e-03  4.9230421e-05  3.3535117e-03\n",
      " -2.6201815e-03  5.0945906e-03  1.5070105e-03  1.0125417e-03\n",
      "  2.5460329e-03 -2.4494163e-03 -1.7961877e-03  4.3899072e-03\n",
      "  4.9550659e-03  1.6925269e-03 -5.7200628e-04  1.9830868e-03\n",
      "  3.1496293e-04 -1.1033103e-03  1.8461820e-03 -4.1961088e-03\n",
      " -1.5346279e-03 -2.5880875e-03  4.6369764e-03  4.7463560e-03\n",
      " -1.8686093e-03 -2.9642042e-04 -1.4879751e-03 -4.4397512e-03\n",
      " -3.4547860e-03  2.5914342e-03 -2.7819586e-03 -5.8292702e-04\n",
      "  3.0860233e-03  4.9987203e-03  4.5095771e-03 -3.5605857e-03\n",
      "  2.8817123e-03  3.0693770e-03  4.9585765e-03  5.0168149e-03\n",
      "  3.8324033e-03 -3.2089523e-03  2.4425201e-03  1.4757811e-03]\n",
      "[ 2.9057299e-03 -5.4373858e-03  2.2200616e-03  4.2648264e-03\n",
      " -3.4867958e-03  3.8386779e-03 -1.3301641e-03  1.2233442e-03\n",
      "  1.6821655e-03  4.4254628e-03  3.6605007e-03 -2.1084370e-03\n",
      "  9.6397166e-04 -3.8805471e-03 -4.0155281e-03 -4.1703531e-03\n",
      "  9.9876500e-04  4.8532402e-03  4.0786942e-03  2.5565003e-03\n",
      " -1.6398280e-03  1.7107776e-03 -8.4870953e-05 -5.3485921e-03\n",
      " -4.1260216e-03 -4.2103468e-03  2.5715053e-03 -1.0264697e-03\n",
      " -4.5389775e-03 -2.5152951e-03  5.0632595e-03 -5.2139297e-04\n",
      " -2.0561025e-03 -3.8525397e-03  2.2951956e-03 -1.6592082e-03\n",
      "  3.0844088e-03 -2.9799552e-03  2.4851116e-03 -1.9446508e-03\n",
      "  1.0855186e-03  4.2959326e-03 -1.1593504e-03  3.5137187e-03\n",
      " -3.3493245e-03  5.3194468e-03  3.7469872e-04  1.8770391e-03\n",
      " -3.5959214e-03 -1.1966054e-03 -1.7002433e-03  9.8698249e-04\n",
      " -4.5994017e-03  4.7950745e-03  4.8459121e-03  2.6748201e-04\n",
      "  1.1197752e-03  2.0829153e-03 -3.9945152e-03 -1.9870598e-03\n",
      "  5.1847440e-03  3.8057685e-04 -1.9945476e-04 -2.6602733e-03\n",
      " -4.1393880e-03 -3.3360347e-03 -2.4668283e-03  4.6952041e-03\n",
      "  3.2195023e-03  5.3548049e-03  1.0795401e-03 -2.5093299e-03\n",
      " -2.6915597e-03 -2.0646362e-03  2.0896827e-03  3.8872154e-03\n",
      "  2.6974592e-03 -2.7682332e-03  3.5387240e-03  2.3522490e-04\n",
      "  1.8177015e-03  5.0558886e-03  4.8549450e-03 -7.8454352e-04\n",
      "  3.6656540e-03  2.4494145e-03  1.2180773e-04 -4.3196506e-03\n",
      "  6.8577181e-04  3.3124601e-03 -3.1427059e-03  3.0876552e-03\n",
      "  8.1345980e-04  4.6227351e-03 -2.5322975e-03  3.4242633e-03\n",
      " -2.1024956e-03  4.8818486e-03  1.6648633e-03 -4.4164076e-03]\n"
     ]
    }
   ],
   "source": [
    "for i in range(3) :\n",
    "    print(vectors[i])"
   ]
  },
  {
   "cell_type": "code",
   "execution_count": 63,
   "metadata": {},
   "outputs": [],
   "source": [
    "# doc2vec기반 벡터 유사도 \n",
    "def distance(a_doctag, b_doctag, vectors) :\n",
    "    sim = vectors.similarity(a_doctag, b_doctag)\n",
    "    return sim*100"
   ]
  },
  {
   "cell_type": "code",
   "execution_count": 64,
   "metadata": {
    "scrolled": false
   },
   "outputs": [
    {
     "name": "stdout",
     "output_type": "stream",
     "text": [
      "A: \n",
      "No More Dream\n",
      "['네', '네', '네', '네', '꿈', '아무', '전부', '있어', '꿈', '멀리', '네', '네', '하루', '말', '있어', '준비', '벌써', '너', '네', '네', '네', '네', '거짓말', '자꾸', '네', '네', '매일', '어른들', '시간', '특별', '네', '네', '네', '네', '하루', '네', '네', '네', '네', '거짓말', '자꾸', '네', '네', '꿔', '너', '거짓말', '자꾸', '네', '네']\n",
      "[-0.00408681 -0.00091567  0.00211057  0.00401096 -0.00174407 -0.00146094\n",
      "  0.00135437  0.00312586 -0.00236289  0.00091325 -0.00295639  0.00175924\n",
      " -0.00013658  0.00108866  0.00106708  0.00492393 -0.00204624  0.0008491\n",
      "  0.00328767 -0.00173117  0.00351771  0.00339803  0.00207853 -0.00367448\n",
      " -0.0042132  -0.00163761  0.00194269  0.00176119 -0.00115864  0.00172542\n",
      " -0.00023146  0.00349364  0.00290492  0.00420017  0.00413783 -0.0033247\n",
      " -0.00255345 -0.0007002   0.00014598  0.001724   -0.00329464 -0.00120261\n",
      " -0.0025804  -0.00126396 -0.00492956  0.00178722  0.00127932 -0.00165988\n",
      "  0.00230966  0.00150359 -0.00268149  0.00165237 -0.00405054  0.0017598\n",
      "  0.00050478 -0.00036937 -0.00070787 -0.00474787 -0.00152802  0.0033729\n",
      " -0.00011855  0.00378426 -0.00301122  0.00012145  0.00390283 -0.00358409\n",
      " -0.00032301 -0.00318221 -0.00319286  0.00481766 -0.00010648 -0.00042458\n",
      " -0.00094336  0.00435433  0.00468324 -0.00166371  0.00259273  0.00284746\n",
      " -0.00241134 -0.00433309 -0.00019563 -0.00277801  0.00245924  0.00205084\n",
      "  0.00371623 -0.0036463  -0.00459376 -0.0010419   0.00091865 -0.00274241\n",
      " -0.0018519  -0.00093354 -0.00157461 -0.00250146  0.00181305  0.00412191\n",
      " -0.00143081 -0.00074224  0.00364034 -0.00115509]\n",
      "---------------------\n",
      "B: \n",
      "봄날\n",
      "['봄날', '더', '있어', '너무', '시간', '우리', '우리', '겨울', '겨울', '시간', '손', '겨울', '봄날', '조금', '더', '수', '조금', '더', '겨울', '봄날', '더', '시간', '우리', '모두', '하루', '조금', '더', '겨울', '조금', '더', '겨울', '봄날', '더']\n",
      "[ 4.4649253e-03 -4.7972118e-03  4.6169600e-03 -2.7994162e-03\n",
      "  3.8822410e-03 -1.6091281e-03  2.5780683e-03 -3.8980418e-03\n",
      " -2.8756703e-03  2.1116070e-03 -3.1500151e-03  2.8943724e-03\n",
      "  2.4359028e-03  4.6201143e-03  2.0050153e-03  4.8730369e-03\n",
      " -3.6463849e-04 -2.1951098e-03  1.4914075e-03 -3.7153459e-03\n",
      " -4.2493166e-03  3.6818354e-04  2.7644592e-03 -1.0747251e-03\n",
      "  2.7785951e-03 -4.1474197e-03  4.2783669e-03  1.8979341e-03\n",
      " -2.8752687e-03  3.5006886e-03 -1.2714316e-03 -2.4190822e-03\n",
      "  2.9138234e-03 -1.7617905e-03  3.2723444e-03 -2.2520781e-03\n",
      " -3.1224948e-03 -2.5429095e-03  4.7262353e-03  4.3089762e-03\n",
      " -1.7145450e-03 -4.1568237e-03 -1.8198147e-03 -2.9560355e-03\n",
      " -4.8695910e-03 -4.4338703e-03  4.4182451e-03  1.6799900e-03\n",
      " -3.1551714e-03 -3.6106056e-03 -2.1053948e-03 -4.1626310e-03\n",
      "  4.8592417e-03  2.4849740e-03  2.8859728e-03  3.2671450e-03\n",
      " -4.7750287e-03  7.5205130e-04 -2.3481152e-03 -4.4082101e-03\n",
      "  2.1752464e-03 -2.4875007e-03  2.7675864e-03  2.5163407e-03\n",
      "  4.6413545e-03  9.4152032e-04  4.0078890e-03  1.3832843e-04\n",
      "  1.9709603e-03  3.4992108e-03 -4.7334219e-05 -2.7095207e-03\n",
      " -1.6152139e-03  4.9266452e-03 -3.9915564e-03  3.3864393e-03\n",
      " -3.4749235e-03 -3.1712987e-03 -1.2631023e-03  2.3506039e-03\n",
      "  9.5725141e-04  5.1213135e-03 -1.2430580e-03 -2.2846155e-03\n",
      " -7.2840368e-04  3.2918584e-03 -4.8785480e-03 -3.9661929e-04\n",
      " -2.5604686e-03  1.8471823e-03 -2.6604398e-03  2.4199865e-03\n",
      "  2.4859406e-04  3.7331735e-03 -1.0611733e-03  2.1301787e-03\n",
      "  2.0190997e-03  3.7319756e-03  1.7969339e-03  3.1817302e-03]\n",
      "=====================\n",
      "4.06 % similar\n"
     ]
    }
   ],
   "source": [
    "a = 0\n",
    "a_doctag = vectors.index2entity[a]\n",
    "print(\"A: \")\n",
    "print(a_doctag)\n",
    "print(corpus_ko[a])\n",
    "print(vectors[a])\n",
    "\n",
    "print(\"---------------------\")\n",
    "\n",
    "b = 3\n",
    "b_doctag = vectors.index2entity[b]\n",
    "print(\"B: \")\n",
    "print(b_doctag)\n",
    "print(corpus_ko[b])\n",
    "print(vectors[b])\n",
    "\n",
    "print(\"=====================\")\n",
    "\n",
    "sim = distance(a_doctag, b_doctag, vectors)\n",
    "\n",
    "print(round(sim,2),'% similar')"
   ]
  },
  {
   "cell_type": "code",
   "execution_count": 65,
   "metadata": {},
   "outputs": [
    {
     "name": "stdout",
     "output_type": "stream",
     "text": [
      "A: \n",
      "봄날\n",
      "['봄날', '더', '있어', '너무', '시간', '우리', '우리', '겨울', '겨울', '시간', '손', '겨울', '봄날', '조금', '더', '수', '조금', '더', '겨울', '봄날', '더', '시간', '우리', '모두', '하루', '조금', '더', '겨울', '조금', '더', '겨울', '봄날', '더']\n",
      "[ 4.4649253e-03 -4.7972118e-03  4.6169600e-03 -2.7994162e-03\n",
      "  3.8822410e-03 -1.6091281e-03  2.5780683e-03 -3.8980418e-03\n",
      " -2.8756703e-03  2.1116070e-03 -3.1500151e-03  2.8943724e-03\n",
      "  2.4359028e-03  4.6201143e-03  2.0050153e-03  4.8730369e-03\n",
      " -3.6463849e-04 -2.1951098e-03  1.4914075e-03 -3.7153459e-03\n",
      " -4.2493166e-03  3.6818354e-04  2.7644592e-03 -1.0747251e-03\n",
      "  2.7785951e-03 -4.1474197e-03  4.2783669e-03  1.8979341e-03\n",
      " -2.8752687e-03  3.5006886e-03 -1.2714316e-03 -2.4190822e-03\n",
      "  2.9138234e-03 -1.7617905e-03  3.2723444e-03 -2.2520781e-03\n",
      " -3.1224948e-03 -2.5429095e-03  4.7262353e-03  4.3089762e-03\n",
      " -1.7145450e-03 -4.1568237e-03 -1.8198147e-03 -2.9560355e-03\n",
      " -4.8695910e-03 -4.4338703e-03  4.4182451e-03  1.6799900e-03\n",
      " -3.1551714e-03 -3.6106056e-03 -2.1053948e-03 -4.1626310e-03\n",
      "  4.8592417e-03  2.4849740e-03  2.8859728e-03  3.2671450e-03\n",
      " -4.7750287e-03  7.5205130e-04 -2.3481152e-03 -4.4082101e-03\n",
      "  2.1752464e-03 -2.4875007e-03  2.7675864e-03  2.5163407e-03\n",
      "  4.6413545e-03  9.4152032e-04  4.0078890e-03  1.3832843e-04\n",
      "  1.9709603e-03  3.4992108e-03 -4.7334219e-05 -2.7095207e-03\n",
      " -1.6152139e-03  4.9266452e-03 -3.9915564e-03  3.3864393e-03\n",
      " -3.4749235e-03 -3.1712987e-03 -1.2631023e-03  2.3506039e-03\n",
      "  9.5725141e-04  5.1213135e-03 -1.2430580e-03 -2.2846155e-03\n",
      " -7.2840368e-04  3.2918584e-03 -4.8785480e-03 -3.9661929e-04\n",
      " -2.5604686e-03  1.8471823e-03 -2.6604398e-03  2.4199865e-03\n",
      "  2.4859406e-04  3.7331735e-03 -1.0611733e-03  2.1301787e-03\n",
      "  2.0190997e-03  3.7319756e-03  1.7969339e-03  3.1817302e-03]\n",
      "---------------------\n",
      "B: \n",
      "봄날\n",
      "['봄날', '더', '있어', '너무', '시간', '우리', '우리', '겨울', '겨울', '시간', '손', '겨울', '봄날', '조금', '더', '수', '조금', '더', '겨울', '봄날', '더', '시간', '우리', '모두', '하루', '조금', '더', '겨울', '조금', '더', '겨울', '봄날', '더']\n",
      "[ 4.4649253e-03 -4.7972118e-03  4.6169600e-03 -2.7994162e-03\n",
      "  3.8822410e-03 -1.6091281e-03  2.5780683e-03 -3.8980418e-03\n",
      " -2.8756703e-03  2.1116070e-03 -3.1500151e-03  2.8943724e-03\n",
      "  2.4359028e-03  4.6201143e-03  2.0050153e-03  4.8730369e-03\n",
      " -3.6463849e-04 -2.1951098e-03  1.4914075e-03 -3.7153459e-03\n",
      " -4.2493166e-03  3.6818354e-04  2.7644592e-03 -1.0747251e-03\n",
      "  2.7785951e-03 -4.1474197e-03  4.2783669e-03  1.8979341e-03\n",
      " -2.8752687e-03  3.5006886e-03 -1.2714316e-03 -2.4190822e-03\n",
      "  2.9138234e-03 -1.7617905e-03  3.2723444e-03 -2.2520781e-03\n",
      " -3.1224948e-03 -2.5429095e-03  4.7262353e-03  4.3089762e-03\n",
      " -1.7145450e-03 -4.1568237e-03 -1.8198147e-03 -2.9560355e-03\n",
      " -4.8695910e-03 -4.4338703e-03  4.4182451e-03  1.6799900e-03\n",
      " -3.1551714e-03 -3.6106056e-03 -2.1053948e-03 -4.1626310e-03\n",
      "  4.8592417e-03  2.4849740e-03  2.8859728e-03  3.2671450e-03\n",
      " -4.7750287e-03  7.5205130e-04 -2.3481152e-03 -4.4082101e-03\n",
      "  2.1752464e-03 -2.4875007e-03  2.7675864e-03  2.5163407e-03\n",
      "  4.6413545e-03  9.4152032e-04  4.0078890e-03  1.3832843e-04\n",
      "  1.9709603e-03  3.4992108e-03 -4.7334219e-05 -2.7095207e-03\n",
      " -1.6152139e-03  4.9266452e-03 -3.9915564e-03  3.3864393e-03\n",
      " -3.4749235e-03 -3.1712987e-03 -1.2631023e-03  2.3506039e-03\n",
      "  9.5725141e-04  5.1213135e-03 -1.2430580e-03 -2.2846155e-03\n",
      " -7.2840368e-04  3.2918584e-03 -4.8785480e-03 -3.9661929e-04\n",
      " -2.5604686e-03  1.8471823e-03 -2.6604398e-03  2.4199865e-03\n",
      "  2.4859406e-04  3.7331735e-03 -1.0611733e-03  2.1301787e-03\n",
      "  2.0190997e-03  3.7319756e-03  1.7969339e-03  3.1817302e-03]\n",
      "=====================\n",
      "100.0 % similar\n"
     ]
    }
   ],
   "source": [
    "a = 3\n",
    "a_doctag = vectors.index2entity[a]\n",
    "print(\"A: \")\n",
    "print(a_doctag)\n",
    "print(corpus_ko[a])\n",
    "print(vectors[a])\n",
    "\n",
    "print(\"---------------------\")\n",
    "\n",
    "b = 3\n",
    "print(\"B: \")\n",
    "b_doctag = vectors.index2entity[b]\n",
    "print(b_doctag)\n",
    "print(corpus_ko[b])\n",
    "print(vectors[b])\n",
    "\n",
    "print(\"=====================\")\n",
    "\n",
    "sim = distance(a_doctag, b_doctag, vectors)\n",
    "\n",
    "print(round(sim,2),'% similar')"
   ]
  },
  {
   "cell_type": "code",
   "execution_count": 66,
   "metadata": {
    "scrolled": false
   },
   "outputs": [
    {
     "name": "stdout",
     "output_type": "stream",
     "text": [
      "A: \n",
      "DNA\n",
      "['DNA', '내', 'DNA', '우리', '우주', '운명', '내', '내', '운명', '우주', '함께', '운명', 'DNA', '더', 'DNA', '우리', '자꾸', '이상', '사랑', '내', '운명', '우주', '함께', '운명', 'DNA', '운명', '우리', '함께', '운명', 'DNA']\n",
      "[-2.5743111e-03 -3.7657583e-04  1.1934582e-03  2.2143719e-03\n",
      " -2.3489227e-03  4.7127502e-03 -6.1050645e-04  3.0582008e-04\n",
      "  2.4050411e-03  1.9233144e-03  1.8264436e-04 -1.8232346e-03\n",
      "  4.4576339e-03  2.2275874e-04  3.9795483e-03  1.8836011e-03\n",
      "  5.3874281e-04  2.7237739e-03 -2.3344494e-03 -1.5540514e-03\n",
      "  3.6395059e-03  5.2413824e-03 -6.0819165e-04 -4.1947118e-03\n",
      "  3.5470917e-03  3.9120303e-03  1.5927082e-03 -3.6864884e-03\n",
      "  1.7186276e-03  7.6631695e-04 -4.7551021e-03 -3.1881360e-04\n",
      " -2.2029914e-03 -1.4830453e-03 -7.0731429e-04 -1.8221756e-03\n",
      "  2.6705272e-03 -2.9420226e-03  2.0647310e-03  4.7828518e-03\n",
      " -1.4560552e-03  3.7630971e-03  4.6004960e-04 -3.1294248e-03\n",
      " -1.2982272e-03 -4.7887475e-03 -4.5007481e-03 -4.6611107e-03\n",
      " -1.3943254e-03 -1.2288734e-03 -3.2279562e-04  4.1684536e-03\n",
      " -2.4865028e-03 -3.3252060e-03 -3.2903566e-03 -2.9738364e-03\n",
      "  1.4359968e-03  3.4149829e-04 -4.3484662e-04 -3.9846390e-03\n",
      "  3.7976450e-04  1.4504282e-04 -4.6114633e-03 -1.8845816e-03\n",
      "  4.0850504e-03 -4.1233851e-03 -2.0173488e-03 -4.2781159e-03\n",
      "  2.0740342e-03  6.7180612e-05  2.5872921e-03 -3.3678364e-03\n",
      "  7.9758967e-05 -3.9022337e-03 -2.2634696e-03  3.5987204e-04\n",
      "  1.0332143e-03 -1.8205520e-03  4.5129107e-03  4.6175295e-03\n",
      " -2.0418777e-03 -4.3883044e-03 -1.7212931e-03  4.0133358e-03\n",
      "  3.0702343e-03 -2.7542585e-03  4.9934108e-03  1.4528106e-03\n",
      " -7.3772366e-04 -4.4159316e-03 -3.3602084e-03  2.6278722e-03\n",
      "  4.9237534e-03  5.0511090e-03  2.9863990e-03  4.7379797e-03\n",
      " -3.6750638e-03 -7.0113532e-04 -1.4192046e-03 -9.1298914e-04]\n",
      "---------------------\n",
      "B: \n",
      "봄날\n",
      "['행복', '내', '머리', '네', '하늘', '있어', '날개', '너무', '내', '네', '전부', '함께', '조금', '내', '너', '사소', '사소', '특별', '사소', '너무', '운명', '처음', '내', '하늘', '있어', '날개', '너무', '내', '네', '전부', '함께', '조금', '상처', '상처', '때', '날개', '네', '전부', '함께', '조금']\n",
      "[ 2.5542513e-03 -2.8402924e-03 -9.9960912e-04 -2.0383000e-03\n",
      "  1.9002457e-03  6.7410336e-05 -2.3277116e-03  7.2913249e-06\n",
      "  4.7006086e-03 -1.5661321e-04 -1.7685806e-03  2.9819445e-03\n",
      " -3.6704345e-03  1.8596790e-03  7.5555715e-04  4.1990266e-03\n",
      " -1.8705350e-03  1.8341235e-03 -2.4950062e-03 -4.1905814e-03\n",
      "  1.1515259e-03 -2.7151206e-03  4.7184052e-03  7.2085456e-04\n",
      "  1.7179654e-03 -1.5764861e-04  2.3898526e-04 -3.0682853e-04\n",
      "  2.1745702e-03  2.7507746e-03  2.3352890e-03  4.8089810e-03\n",
      "  1.5309576e-03  9.4459287e-04  1.2853190e-03 -4.9122744e-03\n",
      "  3.3475212e-03 -6.4330030e-05 -1.3161382e-04  3.9764955e-03\n",
      "  8.2288362e-04 -8.9636218e-04  1.3877852e-03  2.9626882e-03\n",
      " -1.0261879e-03 -2.3054109e-04 -4.7640312e-03 -3.0779005e-03\n",
      "  5.7537953e-04 -9.2129270e-04 -2.4131369e-03 -1.9659528e-03\n",
      " -1.7023869e-03  4.2006131e-03 -3.5834920e-03  1.9289393e-03\n",
      " -3.8237472e-03 -3.0419887e-03  2.4021399e-04  1.7878857e-03\n",
      " -2.5214355e-03  3.7849662e-03 -1.9151205e-03  3.0678671e-03\n",
      " -3.3411654e-03  5.8824080e-04 -4.4756909e-03  2.0278851e-03\n",
      " -4.3512909e-03 -3.9375015e-03 -3.7290903e-03 -1.5392083e-03\n",
      "  4.8734178e-03 -1.8093290e-03  2.7835728e-03 -3.4207797e-03\n",
      " -1.6457555e-03 -2.9394918e-03 -1.8064993e-03 -5.3127081e-04\n",
      " -1.5780402e-03  1.4338192e-03 -1.3786834e-03  1.8933461e-03\n",
      "  8.1020997e-05 -1.9161974e-03  1.0642963e-03 -1.3580961e-03\n",
      "  1.7308729e-03  1.0441995e-03 -2.1211109e-03  4.7358205e-03\n",
      "  2.2899504e-03  3.5068328e-03  4.0851226e-03  1.2427343e-03\n",
      " -3.0552026e-05 -3.0602976e-03  2.1085420e-03 -3.0948283e-04]\n",
      "=====================\n",
      "-9.41 % similar\n"
     ]
    }
   ],
   "source": [
    "a = 4\n",
    "a_doctag = vectors.index2entity[a]\n",
    "print(\"A: \")\n",
    "print(a_doctag)\n",
    "print(corpus_ko[a])\n",
    "print(vectors[a])\n",
    "\n",
    "print(\"---------------------\")\n",
    "\n",
    "b = 8\n",
    "print(\"B: \")\n",
    "print(b_doctag)\n",
    "print(corpus_ko[b])\n",
    "print(vectors[b])\n",
    "\n",
    "print(\"=====================\")\n",
    "\n",
    "sim = distance(a_doctag, b_doctag, vectors)\n",
    "\n",
    "print(round(sim,2),'% similar')"
   ]
  },
  {
   "cell_type": "markdown",
   "metadata": {},
   "source": [
    "#### plotly로 시각화 함수 만들기"
   ]
  },
  {
   "cell_type": "code",
   "execution_count": 67,
   "metadata": {},
   "outputs": [],
   "source": [
    "\n",
    "import logging\n",
    "\n",
    "logging.basicConfig(format='%(asctime)s : %(levelname)s : %(message)s', level=logging.INFO)\n",
    "\n",
    "from sklearn.decomposition import IncrementalPCA    # inital reduction\n",
    "from sklearn.manifold import TSNE                   # final reduction\n",
    "import numpy as np                                  # array handling\n",
    "\n",
    "from plotly.offline import init_notebook_mode, iplot, plot\n",
    "import plotly.graph_objs as go\n",
    "\n",
    "def visualize_embeddings(vectors, labels, plot_in_notebook = True):\n",
    "\n",
    "    num_dimensions = 2  # final num dimensions (2D, 3D, etc)\n",
    "\n",
    "    # convert both lists into numpy vectors for reduction\n",
    "    vectors = np.asarray(vectors)\n",
    "    labels = np.asarray(labels)\n",
    "    \n",
    "    # reduce using t-SNE\n",
    "    logging.info('starting tSNE dimensionality reduction. This may take some time.')\n",
    "    tsne = TSNE(n_components=num_dimensions, random_state=0)\n",
    "    vectors = tsne.fit_transform(vectors)\n",
    "\n",
    "    x_vals = [v[0] for v in vectors]\n",
    "    y_vals = [v[1] for v in vectors]\n",
    "        \n",
    "    # Create a trace\n",
    "    trace = go.Scatter(\n",
    "        x=x_vals,\n",
    "        y=y_vals,\n",
    "        mode='text',\n",
    "        text=labels\n",
    "        )\n",
    "    \n",
    "    data = [trace]\n",
    "    \n",
    "    logging.info('All done. Plotting.')\n",
    "    \n",
    "    if plot_in_notebook:\n",
    "        init_notebook_mode(connected=True)\n",
    "        iplot(data, filename='word-embedding-plot')\n",
    "    else:\n",
    "        plot(data, filename='word-embedding-plot.html')"
   ]
  },
  {
   "cell_type": "code",
   "execution_count": 68,
   "metadata": {},
   "outputs": [
    {
     "name": "stdout",
     "output_type": "stream",
     "text": [
      "No More Dream\n",
      "[-0.00408681 -0.00091567  0.00211057  0.00401096 -0.00174407 -0.00146094\n",
      "  0.00135437  0.00312586 -0.00236289  0.00091325 -0.00295639  0.00175924\n",
      " -0.00013658  0.00108866  0.00106708  0.00492393 -0.00204624  0.0008491\n",
      "  0.00328767 -0.00173117  0.00351771  0.00339803  0.00207853 -0.00367448\n",
      " -0.0042132  -0.00163761  0.00194269  0.00176119 -0.00115864  0.00172542\n",
      " -0.00023146  0.00349364  0.00290492  0.00420017  0.00413783 -0.0033247\n",
      " -0.00255345 -0.0007002   0.00014598  0.001724   -0.00329464 -0.00120261\n",
      " -0.0025804  -0.00126396 -0.00492956  0.00178722  0.00127932 -0.00165988\n",
      "  0.00230966  0.00150359 -0.00268149  0.00165237 -0.00405054  0.0017598\n",
      "  0.00050478 -0.00036937 -0.00070787 -0.00474787 -0.00152802  0.0033729\n",
      " -0.00011855  0.00378426 -0.00301122  0.00012145  0.00390283 -0.00358409\n",
      " -0.00032301 -0.00318221 -0.00319286  0.00481766 -0.00010648 -0.00042458\n",
      " -0.00094336  0.00435433  0.00468324 -0.00166371  0.00259273  0.00284746\n",
      " -0.00241134 -0.00433309 -0.00019563 -0.00277801  0.00245924  0.00205084\n",
      "  0.00371623 -0.0036463  -0.00459376 -0.0010419   0.00091865 -0.00274241\n",
      " -0.0018519  -0.00093354 -0.00157461 -0.00250146  0.00181305  0.00412191\n",
      " -0.00143081 -0.00074224  0.00364034 -0.00115509]\n"
     ]
    }
   ],
   "source": [
    "labels = titles\n",
    "vectors = [d2v.docvecs[title] for title in labels]\n",
    "\n",
    "print(labels[0])\n",
    "print(vectors[0])"
   ]
  },
  {
   "cell_type": "code",
   "execution_count": 69,
   "metadata": {},
   "outputs": [
    {
     "name": "stderr",
     "output_type": "stream",
     "text": [
      "2019-04-24 12:43:16,527 : INFO : starting tSNE dimensionality reduction. This may take some time.\n",
      "2019-04-24 12:43:16,806 : INFO : All done. Plotting.\n"
     ]
    },
    {
     "data": {
      "text/html": [
       "<script type=\"text/javascript\">window.PlotlyConfig = {MathJaxConfig: 'local'};</script><script type=\"text/javascript\">if (window.MathJax) {MathJax.Hub.Config({SVG: {font: \"STIX-Web\"}});}</script><script>requirejs.config({paths: { 'plotly': ['https://cdn.plot.ly/plotly-latest.min']},});if(!window._Plotly) {require(['plotly'],function(plotly) {window._Plotly=plotly;});}</script>"
      ],
      "text/vnd.plotly.v1+html": [
       "<script type=\"text/javascript\">window.PlotlyConfig = {MathJaxConfig: 'local'};</script><script type=\"text/javascript\">if (window.MathJax) {MathJax.Hub.Config({SVG: {font: \"STIX-Web\"}});}</script><script>requirejs.config({paths: { 'plotly': ['https://cdn.plot.ly/plotly-latest.min']},});if(!window._Plotly) {require(['plotly'],function(plotly) {window._Plotly=plotly;});}</script>"
      ]
     },
     "metadata": {},
     "output_type": "display_data"
    },
    {
     "data": {
      "application/vnd.plotly.v1+json": {
       "config": {
        "linkText": "Export to plot.ly",
        "plotlyServerURL": "https://plot.ly",
        "showLink": false
       },
       "data": [
        {
         "mode": "text",
         "text": [
          "No More Dream",
          "I NEED U",
          "쩔어",
          "봄날",
          "DNA",
          "피 땀 눈물",
          "불타오르네",
          "IDOL",
          "작은 것들을 위한 시"
         ],
         "type": "scatter",
         "uid": "21e48fdc-a6ae-4694-baf1-0422a38dd265",
         "x": [
          73.8246841430664,
          194.63023376464844,
          160.73536682128906,
          71.00982666015625,
          37.37240219116211,
          115.19489288330078,
          -61.93093490600586,
          -68.13117218017578,
          -15.781429290771484
         ],
         "y": [
          28.062177658081055,
          27.717615127563477,
          -87.191650390625,
          -176.59677124023438,
          -65.95841979980469,
          135.0777587890625,
          -125.18909454345703,
          1.3490478992462158,
          109.09727478027344
         ]
        }
       ],
       "layout": {}
      },
      "text/html": [
       "<div id=\"c7ec8bbc-db6c-41e1-afb6-fd349adbb756\" style=\"height: 525px; width: 100%;\" class=\"plotly-graph-div\"></div><script type=\"text/javascript\">require([\"plotly\"], function(Plotly) { window.PLOTLYENV=window.PLOTLYENV || {};window.PLOTLYENV.BASE_URL=\"https://plot.ly\";\n",
       "if (document.getElementById(\"c7ec8bbc-db6c-41e1-afb6-fd349adbb756\")) {\n",
       "    Plotly.newPlot(\"c7ec8bbc-db6c-41e1-afb6-fd349adbb756\", [{\"mode\": \"text\", \"text\": [\"No More Dream\", \"I NEED U\", \"\\uca54\\uc5b4\", \"\\ubd04\\ub0a0\", \"DNA\", \"\\ud53c \\ub540 \\ub208\\ubb3c\", \"\\ubd88\\ud0c0\\uc624\\ub974\\ub124\", \"IDOL\", \"\\uc791\\uc740 \\uac83\\ub4e4\\uc744 \\uc704\\ud55c \\uc2dc\"], \"x\": [73.8246841430664, 194.63023376464844, 160.73536682128906, 71.00982666015625, 37.37240219116211, 115.19489288330078, -61.93093490600586, -68.13117218017578, -15.781429290771484], \"y\": [28.062177658081055, 27.717615127563477, -87.191650390625, -176.59677124023438, -65.95841979980469, 135.0777587890625, -125.18909454345703, 1.3490478992462158, 109.09727478027344], \"type\": \"scatter\", \"uid\": \"ef57126a-4f97-4a1d-ace2-6ff74fad263e\"}], {}, {\"showLink\": false, \"linkText\": \"Export to plot.ly\", \"plotlyServerURL\": \"https://plot.ly\"}); \n",
       "}\n",
       "});</script><script type=\"text/javascript\">window.addEventListener(\"resize\", function(){if (document.getElementById(\"c7ec8bbc-db6c-41e1-afb6-fd349adbb756\")) {window._Plotly.Plots.resize(document.getElementById(\"c7ec8bbc-db6c-41e1-afb6-fd349adbb756\"));};})</script>"
      ],
      "text/vnd.plotly.v1+html": [
       "<div id=\"c7ec8bbc-db6c-41e1-afb6-fd349adbb756\" style=\"height: 525px; width: 100%;\" class=\"plotly-graph-div\"></div><script type=\"text/javascript\">require([\"plotly\"], function(Plotly) { window.PLOTLYENV=window.PLOTLYENV || {};window.PLOTLYENV.BASE_URL=\"https://plot.ly\";\n",
       "if (document.getElementById(\"c7ec8bbc-db6c-41e1-afb6-fd349adbb756\")) {\n",
       "    Plotly.newPlot(\"c7ec8bbc-db6c-41e1-afb6-fd349adbb756\", [{\"mode\": \"text\", \"text\": [\"No More Dream\", \"I NEED U\", \"\\uca54\\uc5b4\", \"\\ubd04\\ub0a0\", \"DNA\", \"\\ud53c \\ub540 \\ub208\\ubb3c\", \"\\ubd88\\ud0c0\\uc624\\ub974\\ub124\", \"IDOL\", \"\\uc791\\uc740 \\uac83\\ub4e4\\uc744 \\uc704\\ud55c \\uc2dc\"], \"x\": [73.8246841430664, 194.63023376464844, 160.73536682128906, 71.00982666015625, 37.37240219116211, 115.19489288330078, -61.93093490600586, -68.13117218017578, -15.781429290771484], \"y\": [28.062177658081055, 27.717615127563477, -87.191650390625, -176.59677124023438, -65.95841979980469, 135.0777587890625, -125.18909454345703, 1.3490478992462158, 109.09727478027344], \"type\": \"scatter\", \"uid\": \"ef57126a-4f97-4a1d-ace2-6ff74fad263e\"}], {}, {\"showLink\": false, \"linkText\": \"Export to plot.ly\", \"plotlyServerURL\": \"https://plot.ly\"}); \n",
       "}\n",
       "});</script><script type=\"text/javascript\">window.addEventListener(\"resize\", function(){if (document.getElementById(\"c7ec8bbc-db6c-41e1-afb6-fd349adbb756\")) {window._Plotly.Plots.resize(document.getElementById(\"c7ec8bbc-db6c-41e1-afb6-fd349adbb756\"));};})</script>"
      ]
     },
     "metadata": {},
     "output_type": "display_data"
    }
   ],
   "source": [
    "visualize_embeddings(vectors, labels)"
   ]
  },
  {
   "cell_type": "markdown",
   "metadata": {},
   "source": [
    "---------------------"
   ]
  },
  {
   "cell_type": "markdown",
   "metadata": {},
   "source": [
    "## Word Embedding\n",
    "* Word2Vec\n",
    "* FastText"
   ]
  },
  {
   "cell_type": "markdown",
   "metadata": {},
   "source": [
    "### Word2Vec"
   ]
  },
  {
   "cell_type": "markdown",
   "metadata": {},
   "source": [
    "* 출처 - models.word2vec – Deep learning with word2vec - https://radimrehurek.com/gensim/models/word2vec.html"
   ]
  },
  {
   "cell_type": "markdown",
   "metadata": {},
   "source": [
    "#### 영어 예시"
   ]
  },
  {
   "cell_type": "code",
   "execution_count": 70,
   "metadata": {},
   "outputs": [
    {
     "name": "stdout",
     "output_type": "stream",
     "text": [
      "[['my', 'name', 'is', 'jamie'], ['jamie', 'is', 'cute']]\n"
     ]
    }
   ],
   "source": [
    "# Data\n",
    "corpus_en = [[\"my\", \"name\", \"is\", \"jamie\"], [\"jamie\", \"is\", \"cute\"]]\n",
    "\n",
    "pprint(corpus_en)"
   ]
  },
  {
   "cell_type": "code",
   "execution_count": 71,
   "metadata": {},
   "outputs": [],
   "source": [
    "# 모델 초기화\n",
    "w2v_en = gensim.models.Word2Vec(min_count=0) # 예) Word2Vec(sentences, size=100, window=5, min_count=5, workers=4)"
   ]
  },
  {
   "cell_type": "code",
   "execution_count": 72,
   "metadata": {},
   "outputs": [
    {
     "name": "stderr",
     "output_type": "stream",
     "text": [
      "2019-04-24 12:43:22,602 : INFO : collecting all words and their counts\n",
      "2019-04-24 12:43:22,603 : INFO : PROGRESS: at sentence #0, processed 0 words, keeping 0 word types\n",
      "2019-04-24 12:43:22,604 : INFO : collected 5 word types from a corpus of 7 raw words and 2 sentences\n",
      "2019-04-24 12:43:22,604 : INFO : Loading a fresh vocabulary\n",
      "2019-04-24 12:43:22,606 : INFO : min_count=0 retains 5 unique words (100% of original 5, drops 0)\n",
      "2019-04-24 12:43:22,606 : INFO : min_count=0 leaves 7 word corpus (100% of original 7, drops 0)\n",
      "2019-04-24 12:43:22,607 : INFO : deleting the raw counts dictionary of 5 items\n",
      "2019-04-24 12:43:22,608 : INFO : sample=0.001 downsamples 5 most-common words\n",
      "2019-04-24 12:43:22,608 : INFO : downsampling leaves estimated 0 word corpus (7.5% of prior 7)\n",
      "2019-04-24 12:43:22,609 : INFO : estimated required memory for 5 words and 100 dimensions: 6500 bytes\n",
      "2019-04-24 12:43:22,610 : INFO : resetting layer weights\n"
     ]
    }
   ],
   "source": [
    "# 모델 사전 만들기\n",
    "w2v_en.build_vocab(corpus_en)"
   ]
  },
  {
   "cell_type": "code",
   "execution_count": 73,
   "metadata": {},
   "outputs": [
    {
     "name": "stderr",
     "output_type": "stream",
     "text": [
      "2019-04-24 12:43:23,515 : INFO : training model with 3 workers on 5 vocabulary and 100 features, using sg=0 hs=0 sample=0.001 negative=5 window=5\n",
      "2019-04-24 12:43:23,518 : INFO : worker thread finished; awaiting finish of 2 more threads\n",
      "2019-04-24 12:43:23,519 : INFO : worker thread finished; awaiting finish of 1 more threads\n",
      "2019-04-24 12:43:23,520 : INFO : worker thread finished; awaiting finish of 0 more threads\n",
      "2019-04-24 12:43:23,521 : INFO : EPOCH - 1 : training on 7 raw words (0 effective words) took 0.0s, 0 effective words/s\n",
      "2019-04-24 12:43:23,523 : INFO : worker thread finished; awaiting finish of 2 more threads\n",
      "2019-04-24 12:43:23,524 : INFO : worker thread finished; awaiting finish of 1 more threads\n",
      "2019-04-24 12:43:23,525 : INFO : worker thread finished; awaiting finish of 0 more threads\n",
      "2019-04-24 12:43:23,526 : INFO : EPOCH - 2 : training on 7 raw words (0 effective words) took 0.0s, 0 effective words/s\n",
      "2019-04-24 12:43:23,528 : INFO : worker thread finished; awaiting finish of 2 more threads\n",
      "2019-04-24 12:43:23,529 : INFO : worker thread finished; awaiting finish of 1 more threads\n",
      "2019-04-24 12:43:23,530 : INFO : worker thread finished; awaiting finish of 0 more threads\n",
      "2019-04-24 12:43:23,530 : INFO : EPOCH - 3 : training on 7 raw words (1 effective words) took 0.0s, 417 effective words/s\n",
      "2019-04-24 12:43:23,533 : INFO : worker thread finished; awaiting finish of 2 more threads\n",
      "2019-04-24 12:43:23,534 : INFO : worker thread finished; awaiting finish of 1 more threads\n",
      "2019-04-24 12:43:23,535 : INFO : worker thread finished; awaiting finish of 0 more threads\n",
      "2019-04-24 12:43:23,536 : INFO : EPOCH - 4 : training on 7 raw words (0 effective words) took 0.0s, 0 effective words/s\n",
      "2019-04-24 12:43:23,537 : INFO : worker thread finished; awaiting finish of 2 more threads\n",
      "2019-04-24 12:43:23,538 : INFO : worker thread finished; awaiting finish of 1 more threads\n",
      "2019-04-24 12:43:23,539 : INFO : worker thread finished; awaiting finish of 0 more threads\n",
      "2019-04-24 12:43:23,539 : INFO : EPOCH - 5 : training on 7 raw words (0 effective words) took 0.0s, 0 effective words/s\n",
      "2019-04-24 12:43:23,542 : INFO : worker thread finished; awaiting finish of 2 more threads\n",
      "2019-04-24 12:43:23,542 : INFO : worker thread finished; awaiting finish of 1 more threads\n",
      "2019-04-24 12:43:23,543 : INFO : worker thread finished; awaiting finish of 0 more threads\n",
      "2019-04-24 12:43:23,544 : INFO : EPOCH - 6 : training on 7 raw words (0 effective words) took 0.0s, 0 effective words/s\n",
      "2019-04-24 12:43:23,546 : INFO : worker thread finished; awaiting finish of 2 more threads\n",
      "2019-04-24 12:43:23,547 : INFO : worker thread finished; awaiting finish of 1 more threads\n",
      "2019-04-24 12:43:23,547 : INFO : worker thread finished; awaiting finish of 0 more threads\n",
      "2019-04-24 12:43:23,548 : INFO : EPOCH - 7 : training on 7 raw words (0 effective words) took 0.0s, 0 effective words/s\n",
      "2019-04-24 12:43:23,550 : INFO : worker thread finished; awaiting finish of 2 more threads\n",
      "2019-04-24 12:43:23,551 : INFO : worker thread finished; awaiting finish of 1 more threads\n",
      "2019-04-24 12:43:23,552 : INFO : worker thread finished; awaiting finish of 0 more threads\n",
      "2019-04-24 12:43:23,552 : INFO : EPOCH - 8 : training on 7 raw words (0 effective words) took 0.0s, 0 effective words/s\n",
      "2019-04-24 12:43:23,554 : INFO : worker thread finished; awaiting finish of 2 more threads\n",
      "2019-04-24 12:43:23,555 : INFO : worker thread finished; awaiting finish of 1 more threads\n",
      "2019-04-24 12:43:23,556 : INFO : worker thread finished; awaiting finish of 0 more threads\n",
      "2019-04-24 12:43:23,557 : INFO : EPOCH - 9 : training on 7 raw words (1 effective words) took 0.0s, 417 effective words/s\n",
      "2019-04-24 12:43:23,559 : INFO : worker thread finished; awaiting finish of 2 more threads\n",
      "2019-04-24 12:43:23,560 : INFO : worker thread finished; awaiting finish of 1 more threads\n",
      "2019-04-24 12:43:23,561 : INFO : worker thread finished; awaiting finish of 0 more threads\n",
      "2019-04-24 12:43:23,561 : INFO : EPOCH - 10 : training on 7 raw words (0 effective words) took 0.0s, 0 effective words/s\n",
      "2019-04-24 12:43:23,562 : INFO : training on a 70 raw words (2 effective words) took 0.0s, 43 effective words/s\n",
      "2019-04-24 12:43:23,563 : WARNING : under 10 jobs per worker: consider setting a smaller `batch_words' for smoother alpha decay\n"
     ]
    },
    {
     "data": {
      "text/plain": [
       "(2, 70)"
      ]
     },
     "execution_count": 73,
     "metadata": {},
     "output_type": "execute_result"
    }
   ],
   "source": [
    "# 학습\n",
    "w2v_en.train(corpus_en, total_examples=len(corpus_en), epochs=10)"
   ]
  },
  {
   "cell_type": "code",
   "execution_count": 74,
   "metadata": {},
   "outputs": [
    {
     "name": "stderr",
     "output_type": "stream",
     "text": [
      "2019-04-24 12:43:23,602 : INFO : saving Word2Vec object under model_w2v_en.wv, separately None\n",
      "2019-04-24 12:43:23,603 : INFO : not storing attribute vectors_norm\n",
      "2019-04-24 12:43:23,604 : INFO : not storing attribute cum_table\n",
      "2019-04-24 12:43:23,607 : INFO : saved model_w2v_en.wv\n"
     ]
    }
   ],
   "source": [
    "# 생성된 모델 저장 및 불러오기 - 이것은 나중에 이 모델을 다시 활용하려할 때 써보기. \n",
    "fname = 'model_w2v_en.wv'\n",
    "w2v_en.save(fname)"
   ]
  },
  {
   "cell_type": "code",
   "execution_count": 75,
   "metadata": {},
   "outputs": [
    {
     "name": "stdout",
     "output_type": "stream",
     "text": [
      "model_w2v_en.wv\r\n"
     ]
    }
   ],
   "source": [
    "%ls model_w2v_en.wv"
   ]
  },
  {
   "cell_type": "code",
   "execution_count": 76,
   "metadata": {},
   "outputs": [
    {
     "name": "stderr",
     "output_type": "stream",
     "text": [
      "2019-04-24 12:43:25,178 : INFO : loading Word2Vec object from model_w2v_en.wv\n",
      "2019-04-24 12:43:25,181 : INFO : loading wv recursively from model_w2v_en.wv.wv.* with mmap=None\n",
      "2019-04-24 12:43:25,182 : INFO : setting ignored attribute vectors_norm to None\n",
      "2019-04-24 12:43:25,183 : INFO : loading vocabulary recursively from model_w2v_en.wv.vocabulary.* with mmap=None\n",
      "2019-04-24 12:43:25,184 : INFO : loading trainables recursively from model_w2v_en.wv.trainables.* with mmap=None\n",
      "2019-04-24 12:43:25,185 : INFO : setting ignored attribute cum_table to None\n",
      "2019-04-24 12:43:25,185 : INFO : loaded model_w2v_en.wv\n"
     ]
    }
   ],
   "source": [
    "# 저장된 모델 로드해서 사용하기\n",
    "my_w2v_en = gensim.models.Word2Vec.load(fname)"
   ]
  },
  {
   "cell_type": "code",
   "execution_count": 77,
   "metadata": {},
   "outputs": [],
   "source": [
    "# 단어의 벡터값 얻기\n",
    "vectors_en = my_w2v_en.wv"
   ]
  },
  {
   "cell_type": "code",
   "execution_count": 78,
   "metadata": {},
   "outputs": [
    {
     "data": {
      "text/plain": [
       "array([-3.7850488e-03, -2.4104973e-03, -1.0977639e-03,  2.1026686e-03,\n",
       "       -2.6704511e-03,  3.5347198e-03,  1.8109975e-03,  3.6037012e-03,\n",
       "       -3.6759754e-03,  1.0584857e-04,  3.6636530e-03,  2.0099871e-03,\n",
       "       -3.4377179e-03, -1.3286875e-03,  3.0192360e-03, -2.2289762e-03,\n",
       "       -4.7876914e-03,  4.0774606e-03, -1.0714256e-05, -3.1322769e-03,\n",
       "       -5.6621956e-04,  2.8420500e-03,  2.3670571e-03, -2.7229835e-03,\n",
       "        7.7136245e-04, -3.4315723e-03, -4.5513730e-03,  2.1793095e-03,\n",
       "        4.5332010e-03, -4.7498578e-03,  4.9795317e-03,  4.1167382e-03,\n",
       "        4.7501561e-04, -1.8903000e-03, -3.1011465e-03, -2.2727430e-03,\n",
       "       -1.2346172e-03,  4.0890747e-03, -3.4761571e-05, -2.2502223e-03,\n",
       "       -1.7988601e-03,  3.2759511e-03, -3.8651475e-03,  7.8876608e-04,\n",
       "        1.0835794e-03,  8.9015499e-05, -1.8044306e-03,  3.0058587e-03,\n",
       "       -4.1632657e-03, -1.9913586e-03, -7.0884154e-04,  4.2208936e-03,\n",
       "       -7.4136059e-04,  3.4676981e-04, -7.2586385e-04, -4.2973454e-03,\n",
       "        2.0831008e-03, -4.2480109e-03,  4.4347937e-03, -4.3843901e-03,\n",
       "        1.1013784e-03, -2.9455023e-03, -4.2278352e-03,  4.4287029e-03,\n",
       "        2.2365977e-03, -3.2214231e-03,  1.2070431e-03,  3.3047909e-03,\n",
       "       -4.6735290e-03, -7.3451176e-04, -2.3806037e-04, -1.5388674e-03,\n",
       "       -4.3021045e-03,  2.4705343e-03, -3.1425185e-03,  1.3692209e-03,\n",
       "        2.1661401e-03, -4.7184457e-03, -1.3416433e-03,  1.4465852e-03,\n",
       "        3.4997382e-03, -2.5533147e-03,  4.3562585e-03, -1.9727028e-03,\n",
       "        7.7068195e-05,  4.7044395e-03,  1.6394213e-03,  1.7136171e-03,\n",
       "       -4.4400073e-03, -2.7603521e-03, -3.1242026e-03, -2.0862646e-04,\n",
       "        4.4581597e-03,  4.1997912e-03, -3.0380320e-03, -7.5988990e-04,\n",
       "        2.9514148e-03, -1.5604281e-03, -1.6716075e-03,  2.4451523e-03],\n",
       "      dtype=float32)"
      ]
     },
     "execution_count": 78,
     "metadata": {},
     "output_type": "execute_result"
    }
   ],
   "source": [
    "vectors_en['name']"
   ]
  },
  {
   "cell_type": "code",
   "execution_count": 79,
   "metadata": {},
   "outputs": [
    {
     "name": "stderr",
     "output_type": "stream",
     "text": [
      "2019-04-24 12:43:27,412 : INFO : starting tSNE dimensionality reduction. This may take some time.\n",
      "2019-04-24 12:43:27,504 : INFO : All done. Plotting.\n"
     ]
    },
    {
     "data": {
      "text/html": [
       "<script type=\"text/javascript\">window.PlotlyConfig = {MathJaxConfig: 'local'};</script><script type=\"text/javascript\">if (window.MathJax) {MathJax.Hub.Config({SVG: {font: \"STIX-Web\"}});}</script><script>requirejs.config({paths: { 'plotly': ['https://cdn.plot.ly/plotly-latest.min']},});if(!window._Plotly) {require(['plotly'],function(plotly) {window._Plotly=plotly;});}</script>"
      ],
      "text/vnd.plotly.v1+html": [
       "<script type=\"text/javascript\">window.PlotlyConfig = {MathJaxConfig: 'local'};</script><script type=\"text/javascript\">if (window.MathJax) {MathJax.Hub.Config({SVG: {font: \"STIX-Web\"}});}</script><script>requirejs.config({paths: { 'plotly': ['https://cdn.plot.ly/plotly-latest.min']},});if(!window._Plotly) {require(['plotly'],function(plotly) {window._Plotly=plotly;});}</script>"
      ]
     },
     "metadata": {},
     "output_type": "display_data"
    },
    {
     "data": {
      "application/vnd.plotly.v1+json": {
       "config": {
        "linkText": "Export to plot.ly",
        "plotlyServerURL": "https://plot.ly",
        "showLink": false
       },
       "data": [
        {
         "mode": "text",
         "text": [
          "my",
          "name",
          "is",
          "jamie",
          "cute"
         ],
         "type": "scatter",
         "uid": "0647e0fb-6708-4cc1-9a4e-5c84e7d0faa5",
         "x": [
          51.20441436767578,
          -162.51925659179688,
          214.85501098632812,
          -145.88291931152344,
          52.73661804199219
         ],
         "y": [
          18.39386558532715,
          28.453306198120117,
          -119.42882537841797,
          -192.26657104492188,
          -270.1357727050781
         ]
        }
       ],
       "layout": {}
      },
      "text/html": [
       "<div id=\"15957d36-39ac-4802-95fc-b79f7b976aa0\" style=\"height: 525px; width: 100%;\" class=\"plotly-graph-div\"></div><script type=\"text/javascript\">require([\"plotly\"], function(Plotly) { window.PLOTLYENV=window.PLOTLYENV || {};window.PLOTLYENV.BASE_URL=\"https://plot.ly\";\n",
       "if (document.getElementById(\"15957d36-39ac-4802-95fc-b79f7b976aa0\")) {\n",
       "    Plotly.newPlot(\"15957d36-39ac-4802-95fc-b79f7b976aa0\", [{\"mode\": \"text\", \"text\": [\"my\", \"name\", \"is\", \"jamie\", \"cute\"], \"x\": [51.20441436767578, -162.51925659179688, 214.85501098632812, -145.88291931152344, 52.73661804199219], \"y\": [18.39386558532715, 28.453306198120117, -119.42882537841797, -192.26657104492188, -270.1357727050781], \"type\": \"scatter\", \"uid\": \"6edb6c29-7193-4a0a-acd5-c622277bb20e\"}], {}, {\"showLink\": false, \"linkText\": \"Export to plot.ly\", \"plotlyServerURL\": \"https://plot.ly\"}); \n",
       "}\n",
       "});</script><script type=\"text/javascript\">window.addEventListener(\"resize\", function(){if (document.getElementById(\"15957d36-39ac-4802-95fc-b79f7b976aa0\")) {window._Plotly.Plots.resize(document.getElementById(\"15957d36-39ac-4802-95fc-b79f7b976aa0\"));};})</script>"
      ],
      "text/vnd.plotly.v1+html": [
       "<div id=\"15957d36-39ac-4802-95fc-b79f7b976aa0\" style=\"height: 525px; width: 100%;\" class=\"plotly-graph-div\"></div><script type=\"text/javascript\">require([\"plotly\"], function(Plotly) { window.PLOTLYENV=window.PLOTLYENV || {};window.PLOTLYENV.BASE_URL=\"https://plot.ly\";\n",
       "if (document.getElementById(\"15957d36-39ac-4802-95fc-b79f7b976aa0\")) {\n",
       "    Plotly.newPlot(\"15957d36-39ac-4802-95fc-b79f7b976aa0\", [{\"mode\": \"text\", \"text\": [\"my\", \"name\", \"is\", \"jamie\", \"cute\"], \"x\": [51.20441436767578, -162.51925659179688, 214.85501098632812, -145.88291931152344, 52.73661804199219], \"y\": [18.39386558532715, 28.453306198120117, -119.42882537841797, -192.26657104492188, -270.1357727050781], \"type\": \"scatter\", \"uid\": \"6edb6c29-7193-4a0a-acd5-c622277bb20e\"}], {}, {\"showLink\": false, \"linkText\": \"Export to plot.ly\", \"plotlyServerURL\": \"https://plot.ly\"}); \n",
       "}\n",
       "});</script><script type=\"text/javascript\">window.addEventListener(\"resize\", function(){if (document.getElementById(\"15957d36-39ac-4802-95fc-b79f7b976aa0\")) {window._Plotly.Plots.resize(document.getElementById(\"15957d36-39ac-4802-95fc-b79f7b976aa0\"));};})</script>"
      ]
     },
     "metadata": {},
     "output_type": "display_data"
    }
   ],
   "source": [
    "# 시각화\n",
    "labels = [word for word in vectors_en.vocab]\n",
    "vectors = [vectors_en[word] for word in labels]\n",
    "\n",
    "visualize_embeddings(vectors, labels)"
   ]
  },
  {
   "cell_type": "markdown",
   "metadata": {},
   "source": [
    "--------------------------------"
   ]
  },
  {
   "cell_type": "markdown",
   "metadata": {},
   "source": [
    "#### 한국어 예시"
   ]
  },
  {
   "cell_type": "code",
   "execution_count": 82,
   "metadata": {},
   "outputs": [],
   "source": [
    "# 문장 단위로 입력 코퍼스를 바꿔야 한다.\n",
    "\n",
    "def tokenize(x, tokenizer) :\n",
    "    for token in tokenizer.tokenize(x) :\n",
    "        if nouns.get(token) :\n",
    "            yield token\n",
    "            \n",
    "sentences_ko = []\n",
    "for doc in documents_ko :\n",
    "    sentences = [sent for sent in doc.split('\\n') if len(sent)]\n",
    "    tokens = [list(tokenize(sent, tokenizer)) for sent in sentences]\n",
    "    sentences_ko.extend([token for token in tokens if len(token)])"
   ]
  },
  {
   "cell_type": "code",
   "execution_count": 83,
   "metadata": {},
   "outputs": [
    {
     "name": "stdout",
     "output_type": "stream",
     "text": [
      "[['네'], ['네']]\n"
     ]
    }
   ],
   "source": [
    "print(sentences_ko[:2])"
   ]
  },
  {
   "cell_type": "code",
   "execution_count": 84,
   "metadata": {},
   "outputs": [
    {
     "name": "stderr",
     "output_type": "stream",
     "text": [
      "2019-04-24 12:44:13,159 : INFO : collecting all words and their counts\n",
      "2019-04-24 12:44:13,160 : INFO : PROGRESS: at sentence #0, processed 0 words, keeping 0 word types\n",
      "2019-04-24 12:44:13,160 : INFO : collected 56 word types from a corpus of 290 raw words and 215 sentences\n",
      "2019-04-24 12:44:13,161 : INFO : Loading a fresh vocabulary\n",
      "2019-04-24 12:44:13,162 : INFO : min_count=0 retains 56 unique words (100% of original 56, drops 0)\n",
      "2019-04-24 12:44:13,163 : INFO : min_count=0 leaves 290 word corpus (100% of original 290, drops 0)\n",
      "2019-04-24 12:44:13,164 : INFO : deleting the raw counts dictionary of 56 items\n",
      "2019-04-24 12:44:13,164 : INFO : sample=0.001 downsamples 56 most-common words\n",
      "2019-04-24 12:44:13,165 : INFO : downsampling leaves estimated 78 word corpus (27.0% of prior 290)\n",
      "2019-04-24 12:44:13,165 : INFO : estimated required memory for 56 words and 100 dimensions: 72800 bytes\n",
      "2019-04-24 12:44:13,167 : INFO : resetting layer weights\n",
      "2019-04-24 12:44:13,168 : INFO : training model with 3 workers on 56 vocabulary and 100 features, using sg=0 hs=0 sample=0.001 negative=5 window=5\n",
      "2019-04-24 12:44:13,171 : INFO : worker thread finished; awaiting finish of 2 more threads\n",
      "2019-04-24 12:44:13,172 : INFO : worker thread finished; awaiting finish of 1 more threads\n",
      "2019-04-24 12:44:13,172 : INFO : worker thread finished; awaiting finish of 0 more threads\n",
      "2019-04-24 12:44:13,174 : INFO : EPOCH - 1 : training on 290 raw words (78 effective words) took 0.0s, 24238 effective words/s\n",
      "2019-04-24 12:44:13,175 : WARNING : EPOCH - 1 : supplied example count (9) did not equal expected count (215)\n",
      "2019-04-24 12:44:13,177 : INFO : worker thread finished; awaiting finish of 2 more threads\n",
      "2019-04-24 12:44:13,178 : INFO : worker thread finished; awaiting finish of 1 more threads\n",
      "2019-04-24 12:44:13,179 : INFO : worker thread finished; awaiting finish of 0 more threads\n",
      "2019-04-24 12:44:13,180 : INFO : EPOCH - 2 : training on 290 raw words (78 effective words) took 0.0s, 27150 effective words/s\n",
      "2019-04-24 12:44:13,180 : WARNING : EPOCH - 2 : supplied example count (9) did not equal expected count (215)\n",
      "2019-04-24 12:44:13,183 : INFO : worker thread finished; awaiting finish of 2 more threads\n",
      "2019-04-24 12:44:13,184 : INFO : worker thread finished; awaiting finish of 1 more threads\n",
      "2019-04-24 12:44:13,185 : INFO : worker thread finished; awaiting finish of 0 more threads\n",
      "2019-04-24 12:44:13,186 : INFO : EPOCH - 3 : training on 290 raw words (74 effective words) took 0.0s, 27215 effective words/s\n",
      "2019-04-24 12:44:13,187 : WARNING : EPOCH - 3 : supplied example count (9) did not equal expected count (215)\n",
      "2019-04-24 12:44:13,189 : INFO : worker thread finished; awaiting finish of 2 more threads\n",
      "2019-04-24 12:44:13,190 : INFO : worker thread finished; awaiting finish of 1 more threads\n",
      "2019-04-24 12:44:13,191 : INFO : worker thread finished; awaiting finish of 0 more threads\n",
      "2019-04-24 12:44:13,192 : INFO : EPOCH - 4 : training on 290 raw words (78 effective words) took 0.0s, 28093 effective words/s\n",
      "2019-04-24 12:44:13,192 : WARNING : EPOCH - 4 : supplied example count (9) did not equal expected count (215)\n",
      "2019-04-24 12:44:13,195 : INFO : worker thread finished; awaiting finish of 2 more threads\n",
      "2019-04-24 12:44:13,196 : INFO : worker thread finished; awaiting finish of 1 more threads\n",
      "2019-04-24 12:44:13,197 : INFO : worker thread finished; awaiting finish of 0 more threads\n",
      "2019-04-24 12:44:13,198 : INFO : EPOCH - 5 : training on 290 raw words (94 effective words) took 0.0s, 31566 effective words/s\n",
      "2019-04-24 12:44:13,199 : WARNING : EPOCH - 5 : supplied example count (9) did not equal expected count (215)\n",
      "2019-04-24 12:44:13,202 : INFO : worker thread finished; awaiting finish of 2 more threads\n",
      "2019-04-24 12:44:13,203 : INFO : worker thread finished; awaiting finish of 1 more threads\n",
      "2019-04-24 12:44:13,204 : INFO : worker thread finished; awaiting finish of 0 more threads\n",
      "2019-04-24 12:44:13,204 : INFO : EPOCH - 6 : training on 290 raw words (84 effective words) took 0.0s, 29306 effective words/s\n",
      "2019-04-24 12:44:13,205 : WARNING : EPOCH - 6 : supplied example count (9) did not equal expected count (215)\n",
      "2019-04-24 12:44:13,208 : INFO : worker thread finished; awaiting finish of 2 more threads\n",
      "2019-04-24 12:44:13,209 : INFO : worker thread finished; awaiting finish of 1 more threads\n",
      "2019-04-24 12:44:13,210 : INFO : worker thread finished; awaiting finish of 0 more threads\n",
      "2019-04-24 12:44:13,211 : INFO : EPOCH - 7 : training on 290 raw words (73 effective words) took 0.0s, 23962 effective words/s\n",
      "2019-04-24 12:44:13,212 : WARNING : EPOCH - 7 : supplied example count (9) did not equal expected count (215)\n",
      "2019-04-24 12:44:13,214 : INFO : worker thread finished; awaiting finish of 2 more threads\n",
      "2019-04-24 12:44:13,215 : INFO : worker thread finished; awaiting finish of 1 more threads\n",
      "2019-04-24 12:44:13,216 : INFO : worker thread finished; awaiting finish of 0 more threads\n",
      "2019-04-24 12:44:13,217 : INFO : EPOCH - 8 : training on 290 raw words (57 effective words) took 0.0s, 21220 effective words/s\n",
      "2019-04-24 12:44:13,217 : WARNING : EPOCH - 8 : supplied example count (9) did not equal expected count (215)\n",
      "2019-04-24 12:44:13,220 : INFO : worker thread finished; awaiting finish of 2 more threads\n",
      "2019-04-24 12:44:13,221 : INFO : worker thread finished; awaiting finish of 1 more threads\n",
      "2019-04-24 12:44:13,222 : INFO : worker thread finished; awaiting finish of 0 more threads\n",
      "2019-04-24 12:44:13,223 : INFO : EPOCH - 9 : training on 290 raw words (78 effective words) took 0.0s, 23156 effective words/s\n",
      "2019-04-24 12:44:13,224 : WARNING : EPOCH - 9 : supplied example count (9) did not equal expected count (215)\n",
      "2019-04-24 12:44:13,227 : INFO : worker thread finished; awaiting finish of 2 more threads\n",
      "2019-04-24 12:44:13,228 : INFO : worker thread finished; awaiting finish of 1 more threads\n",
      "2019-04-24 12:44:13,229 : INFO : worker thread finished; awaiting finish of 0 more threads\n",
      "2019-04-24 12:44:13,230 : INFO : EPOCH - 10 : training on 290 raw words (80 effective words) took 0.0s, 26796 effective words/s\n",
      "2019-04-24 12:44:13,230 : WARNING : EPOCH - 10 : supplied example count (9) did not equal expected count (215)\n",
      "2019-04-24 12:44:13,231 : INFO : training on a 2900 raw words (774 effective words) took 0.1s, 12434 effective words/s\n",
      "2019-04-24 12:44:13,232 : WARNING : under 10 jobs per worker: consider setting a smaller `batch_words' for smoother alpha decay\n",
      "2019-04-24 12:44:13,234 : INFO : saving Word2Vec object under model_w2v_ko.wv, separately None\n",
      "2019-04-24 12:44:13,234 : INFO : not storing attribute vectors_norm\n",
      "2019-04-24 12:44:13,235 : INFO : not storing attribute cum_table\n",
      "2019-04-24 12:44:13,237 : INFO : saved model_w2v_ko.wv\n"
     ]
    }
   ],
   "source": [
    "# 모델 초기화\n",
    "w2v_ko = gensim.models.Word2Vec(min_count=0) # 예) Word2Vec(sentences, size=100, window=5, min_count=5, workers=4)\n",
    "# 모델 사전 만들기\n",
    "w2v_ko.build_vocab(sentences_ko)\n",
    "# 학습\n",
    "w2v_ko.train(corpus_ko, total_examples=len(sentences_ko), epochs=10)\n",
    "# 모델 저장\n",
    "fname = 'model_w2v_ko.wv'\n",
    "w2v_ko.save(fname)"
   ]
  },
  {
   "cell_type": "code",
   "execution_count": 85,
   "metadata": {},
   "outputs": [],
   "source": [
    "# 단어의 벡터값 얻기\n",
    "vectors_ko = w2v_ko.wv"
   ]
  },
  {
   "cell_type": "code",
   "execution_count": 86,
   "metadata": {},
   "outputs": [
    {
     "data": {
      "text/plain": [
       "array([-4.8774644e-03, -2.6238100e-03,  6.5929367e-04,  2.5156038e-03,\n",
       "        4.0748767e-03,  9.6615223e-04, -4.7396538e-03, -2.2204670e-03,\n",
       "       -3.9579431e-03, -4.8634573e-03,  6.4977753e-04, -3.9828471e-03,\n",
       "       -1.5891595e-03,  3.2772364e-03,  1.7482492e-03, -2.2223168e-03,\n",
       "       -3.6178364e-03, -4.2600121e-05,  9.0227072e-04, -3.8538084e-03,\n",
       "       -4.2337266e-04, -4.1362597e-03, -9.9565252e-04,  2.6358759e-03,\n",
       "       -1.6828822e-03,  9.7073952e-04,  3.4247921e-03, -3.9483837e-04,\n",
       "       -4.9487669e-03,  2.7931344e-03, -3.3995521e-03,  5.6989375e-04,\n",
       "       -1.8154883e-03, -2.9138969e-03,  1.6190263e-03,  5.1557523e-04,\n",
       "        4.0788124e-03,  3.3722140e-03,  2.7427291e-03,  1.6983981e-03,\n",
       "       -2.1998899e-03,  3.7547690e-03,  4.0685954e-03, -4.9813795e-03,\n",
       "        3.7197093e-03, -7.7398785e-05, -4.6401382e-03, -3.2312644e-04,\n",
       "       -1.5663762e-03,  6.6715549e-04,  4.8683323e-03, -3.1084840e-03,\n",
       "        1.0105671e-03, -3.6282560e-03,  9.1170840e-04, -4.4437419e-03,\n",
       "       -2.1762378e-03, -2.7333985e-03,  4.5278217e-03,  3.4073733e-03,\n",
       "       -2.1219824e-04,  4.5786314e-03, -4.7921105e-03,  4.5708474e-04,\n",
       "        3.5377077e-03,  3.8628511e-03,  6.8669964e-04, -1.3485031e-03,\n",
       "        4.5093899e-03,  2.9130320e-03,  4.7135181e-03, -1.1442596e-03,\n",
       "       -1.9243354e-03, -1.6583661e-04, -1.1195630e-03, -1.9852035e-03,\n",
       "        3.4137580e-03, -4.1501108e-03,  1.8709021e-03,  2.2267571e-03,\n",
       "        5.7540112e-04, -2.5726280e-03, -2.1663145e-03, -3.9098528e-03,\n",
       "       -4.0661455e-03, -2.1092494e-03, -1.0616749e-03,  1.8047816e-03,\n",
       "        2.9386869e-03, -1.6616614e-03,  5.6789693e-04, -1.7184260e-03,\n",
       "       -1.8401824e-04, -2.2350096e-03, -1.4256741e-03, -7.3052506e-04,\n",
       "        6.6926383e-04,  5.0122482e-03, -3.9265002e-03, -3.6577478e-03],\n",
       "      dtype=float32)"
      ]
     },
     "execution_count": 86,
     "metadata": {},
     "output_type": "execute_result"
    }
   ],
   "source": [
    "vectors_ko['꿈']"
   ]
  },
  {
   "cell_type": "code",
   "execution_count": 87,
   "metadata": {},
   "outputs": [
    {
     "name": "stderr",
     "output_type": "stream",
     "text": [
      "2019-04-24 12:44:16,204 : INFO : starting tSNE dimensionality reduction. This may take some time.\n",
      "2019-04-24 12:44:16,435 : INFO : All done. Plotting.\n"
     ]
    },
    {
     "data": {
      "text/html": [
       "<script type=\"text/javascript\">window.PlotlyConfig = {MathJaxConfig: 'local'};</script><script type=\"text/javascript\">if (window.MathJax) {MathJax.Hub.Config({SVG: {font: \"STIX-Web\"}});}</script><script>requirejs.config({paths: { 'plotly': ['https://cdn.plot.ly/plotly-latest.min']},});if(!window._Plotly) {require(['plotly'],function(plotly) {window._Plotly=plotly;});}</script>"
      ],
      "text/vnd.plotly.v1+html": [
       "<script type=\"text/javascript\">window.PlotlyConfig = {MathJaxConfig: 'local'};</script><script type=\"text/javascript\">if (window.MathJax) {MathJax.Hub.Config({SVG: {font: \"STIX-Web\"}});}</script><script>requirejs.config({paths: { 'plotly': ['https://cdn.plot.ly/plotly-latest.min']},});if(!window._Plotly) {require(['plotly'],function(plotly) {window._Plotly=plotly;});}</script>"
      ]
     },
     "metadata": {},
     "output_type": "display_data"
    },
    {
     "data": {
      "application/vnd.plotly.v1+json": {
       "config": {
        "linkText": "Export to plot.ly",
        "plotlyServerURL": "https://plot.ly",
        "showLink": false
       },
       "data": [
        {
         "mode": "text",
         "text": [
          "네",
          "꿈",
          "아무",
          "전부",
          "있어",
          "멀리",
          "하루",
          "말",
          "준비",
          "벌써",
          "너",
          "거짓말",
          "자꾸",
          "매일",
          "어른들",
          "시간",
          "특별",
          "꿔",
          "뭣",
          "사랑",
          "너무",
          "내",
          "하늘",
          "눈물",
          "더",
          "잘",
          "수",
          "처음",
          "스타일",
          "때",
          "우리",
          "쩌렁",
          "모두",
          "머리",
          "작업",
          "청춘",
          "거부",
          "새벽",
          "봄날",
          "겨울",
          "손",
          "조금",
          "DNA",
          "우주",
          "운명",
          "함께",
          "이상",
          "몸",
          "날개",
          "것",
          "못",
          "눈",
          "달콤",
          "행복",
          "사소",
          "상처"
         ],
         "type": "scatter",
         "uid": "1ecb95b5-02a8-450e-b098-b877a4b5b779",
         "x": [
          3.308845043182373,
          -6.086132526397705,
          -11.476419448852539,
          -9.276202201843262,
          1.3367526531219482,
          -2.5303049087524414,
          0.5409082174301147,
          -13.376008987426758,
          1.4005002975463867,
          -0.28288424015045166,
          -2.3786253929138184,
          0.19636622071266174,
          -8.298979759216309,
          -10.648207664489746,
          -9.222853660583496,
          -4.610686779022217,
          -11.130983352661133,
          -10.83510971069336,
          -2.8115341663360596,
          -0.999732255935669,
          -8.406349182128906,
          1.9202021360397339,
          -6.523144245147705,
          -8.701007843017578,
          2.110888957977295,
          -1.733329176902771,
          -8.821695327758789,
          -15.007879257202148,
          -3.625575065612793,
          -5.361465930938721,
          -11.462121963500977,
          -2.2509405612945557,
          -3.9593167304992676,
          2.8842968940734863,
          -10.5906343460083,
          -8.984954833984375,
          -8.195137977600098,
          -7.264566421508789,
          -1.5275185108184814,
          -13.198702812194824,
          -0.585798978805542,
          -7.600845813751221,
          -15.175349235534668,
          -10.407632827758789,
          -7.532392978668213,
          -5.781585693359375,
          -4.797737121582031,
          -0.7996014356613159,
          -5.414554119110107,
          -13.779187202453613,
          -3.6758124828338623,
          2.2290945053100586,
          -3.882152557373047,
          -5.231331825256348,
          -6.453011989593506,
          -7.562333106994629
         ],
         "y": [
          4.4067535400390625,
          15.000163078308105,
          3.6886348724365234,
          1.636673927307129,
          5.235160827636719,
          1.7916784286499023,
          10.017179489135742,
          8.681608200073242,
          -0.3152611553668976,
          3.9913477897644043,
          4.384537220001221,
          7.077455520629883,
          10.971455574035645,
          5.21026611328125,
          -1.0553045272827148,
          10.907979965209961,
          6.891592979431152,
          12.456993103027344,
          7.642206192016602,
          12.509066581726074,
          15.678749084472656,
          11.476028442382812,
          4.128660202026367,
          6.87951135635376,
          7.527099609375,
          15.807958602905273,
          7.853983402252197,
          9.395118713378906,
          -0.6792098879814148,
          -5.005090713500977,
          0.5868284106254578,
          6.649704933166504,
          2.5249805450439453,
          2.6063051223754883,
          13.765132904052734,
          3.250607490539551,
          4.956902027130127,
          1.3481512069702148,
          -2.0320582389831543,
          2.8568503856658936,
          4.890553951263428,
          8.566743850708008,
          6.827126979827881,
          11.030191421508789,
          14.994911193847656,
          7.259690284729004,
          -2.7636823654174805,
          10.112248420715332,
          2.7374801635742188,
          10.387733459472656,
          11.457965850830078,
          13.457696914672852,
          10.720498085021973,
          6.234510898590088,
          0.17712527513504028,
          11.08194637298584
         ]
        }
       ],
       "layout": {}
      },
      "text/html": [
       "<div id=\"5e9eeda1-cf09-47c9-b118-40fff7625e67\" style=\"height: 525px; width: 100%;\" class=\"plotly-graph-div\"></div><script type=\"text/javascript\">require([\"plotly\"], function(Plotly) { window.PLOTLYENV=window.PLOTLYENV || {};window.PLOTLYENV.BASE_URL=\"https://plot.ly\";\n",
       "if (document.getElementById(\"5e9eeda1-cf09-47c9-b118-40fff7625e67\")) {\n",
       "    Plotly.newPlot(\"5e9eeda1-cf09-47c9-b118-40fff7625e67\", [{\"mode\": \"text\", \"text\": [\"\\ub124\", \"\\uafc8\", \"\\uc544\\ubb34\", \"\\uc804\\ubd80\", \"\\uc788\\uc5b4\", \"\\uba40\\ub9ac\", \"\\ud558\\ub8e8\", \"\\ub9d0\", \"\\uc900\\ube44\", \"\\ubc8c\\uc368\", \"\\ub108\", \"\\uac70\\uc9d3\\ub9d0\", \"\\uc790\\uafb8\", \"\\ub9e4\\uc77c\", \"\\uc5b4\\ub978\\ub4e4\", \"\\uc2dc\\uac04\", \"\\ud2b9\\ubcc4\", \"\\uafd4\", \"\\ubb63\", \"\\uc0ac\\ub791\", \"\\ub108\\ubb34\", \"\\ub0b4\", \"\\ud558\\ub298\", \"\\ub208\\ubb3c\", \"\\ub354\", \"\\uc798\", \"\\uc218\", \"\\ucc98\\uc74c\", \"\\uc2a4\\ud0c0\\uc77c\", \"\\ub54c\", \"\\uc6b0\\ub9ac\", \"\\uca4c\\ub801\", \"\\ubaa8\\ub450\", \"\\uba38\\ub9ac\", \"\\uc791\\uc5c5\", \"\\uccad\\ucd98\", \"\\uac70\\ubd80\", \"\\uc0c8\\ubcbd\", \"\\ubd04\\ub0a0\", \"\\uaca8\\uc6b8\", \"\\uc190\", \"\\uc870\\uae08\", \"DNA\", \"\\uc6b0\\uc8fc\", \"\\uc6b4\\uba85\", \"\\ud568\\uaed8\", \"\\uc774\\uc0c1\", \"\\ubab8\", \"\\ub0a0\\uac1c\", \"\\uac83\", \"\\ubabb\", \"\\ub208\", \"\\ub2ec\\ucf64\", \"\\ud589\\ubcf5\", \"\\uc0ac\\uc18c\", \"\\uc0c1\\ucc98\"], \"x\": [3.308845043182373, -6.086132526397705, -11.476419448852539, -9.276202201843262, 1.3367526531219482, -2.5303049087524414, 0.5409082174301147, -13.376008987426758, 1.4005002975463867, -0.28288424015045166, -2.3786253929138184, 0.19636622071266174, -8.298979759216309, -10.648207664489746, -9.222853660583496, -4.610686779022217, -11.130983352661133, -10.83510971069336, -2.8115341663360596, -0.999732255935669, -8.406349182128906, 1.9202021360397339, -6.523144245147705, -8.701007843017578, 2.110888957977295, -1.733329176902771, -8.821695327758789, -15.007879257202148, -3.625575065612793, -5.361465930938721, -11.462121963500977, -2.2509405612945557, -3.9593167304992676, 2.8842968940734863, -10.5906343460083, -8.984954833984375, -8.195137977600098, -7.264566421508789, -1.5275185108184814, -13.198702812194824, -0.585798978805542, -7.600845813751221, -15.175349235534668, -10.407632827758789, -7.532392978668213, -5.781585693359375, -4.797737121582031, -0.7996014356613159, -5.414554119110107, -13.779187202453613, -3.6758124828338623, 2.2290945053100586, -3.882152557373047, -5.231331825256348, -6.453011989593506, -7.562333106994629], \"y\": [4.4067535400390625, 15.000163078308105, 3.6886348724365234, 1.636673927307129, 5.235160827636719, 1.7916784286499023, 10.017179489135742, 8.681608200073242, -0.3152611553668976, 3.9913477897644043, 4.384537220001221, 7.077455520629883, 10.971455574035645, 5.21026611328125, -1.0553045272827148, 10.907979965209961, 6.891592979431152, 12.456993103027344, 7.642206192016602, 12.509066581726074, 15.678749084472656, 11.476028442382812, 4.128660202026367, 6.87951135635376, 7.527099609375, 15.807958602905273, 7.853983402252197, 9.395118713378906, -0.6792098879814148, -5.005090713500977, 0.5868284106254578, 6.649704933166504, 2.5249805450439453, 2.6063051223754883, 13.765132904052734, 3.250607490539551, 4.956902027130127, 1.3481512069702148, -2.0320582389831543, 2.8568503856658936, 4.890553951263428, 8.566743850708008, 6.827126979827881, 11.030191421508789, 14.994911193847656, 7.259690284729004, -2.7636823654174805, 10.112248420715332, 2.7374801635742188, 10.387733459472656, 11.457965850830078, 13.457696914672852, 10.720498085021973, 6.234510898590088, 0.17712527513504028, 11.08194637298584], \"type\": \"scatter\", \"uid\": \"ce47aada-9b03-4dbf-ab08-3825305d544c\"}], {}, {\"showLink\": false, \"linkText\": \"Export to plot.ly\", \"plotlyServerURL\": \"https://plot.ly\"}); \n",
       "}\n",
       "});</script><script type=\"text/javascript\">window.addEventListener(\"resize\", function(){if (document.getElementById(\"5e9eeda1-cf09-47c9-b118-40fff7625e67\")) {window._Plotly.Plots.resize(document.getElementById(\"5e9eeda1-cf09-47c9-b118-40fff7625e67\"));};})</script>"
      ],
      "text/vnd.plotly.v1+html": [
       "<div id=\"5e9eeda1-cf09-47c9-b118-40fff7625e67\" style=\"height: 525px; width: 100%;\" class=\"plotly-graph-div\"></div><script type=\"text/javascript\">require([\"plotly\"], function(Plotly) { window.PLOTLYENV=window.PLOTLYENV || {};window.PLOTLYENV.BASE_URL=\"https://plot.ly\";\n",
       "if (document.getElementById(\"5e9eeda1-cf09-47c9-b118-40fff7625e67\")) {\n",
       "    Plotly.newPlot(\"5e9eeda1-cf09-47c9-b118-40fff7625e67\", [{\"mode\": \"text\", \"text\": [\"\\ub124\", \"\\uafc8\", \"\\uc544\\ubb34\", \"\\uc804\\ubd80\", \"\\uc788\\uc5b4\", \"\\uba40\\ub9ac\", \"\\ud558\\ub8e8\", \"\\ub9d0\", \"\\uc900\\ube44\", \"\\ubc8c\\uc368\", \"\\ub108\", \"\\uac70\\uc9d3\\ub9d0\", \"\\uc790\\uafb8\", \"\\ub9e4\\uc77c\", \"\\uc5b4\\ub978\\ub4e4\", \"\\uc2dc\\uac04\", \"\\ud2b9\\ubcc4\", \"\\uafd4\", \"\\ubb63\", \"\\uc0ac\\ub791\", \"\\ub108\\ubb34\", \"\\ub0b4\", \"\\ud558\\ub298\", \"\\ub208\\ubb3c\", \"\\ub354\", \"\\uc798\", \"\\uc218\", \"\\ucc98\\uc74c\", \"\\uc2a4\\ud0c0\\uc77c\", \"\\ub54c\", \"\\uc6b0\\ub9ac\", \"\\uca4c\\ub801\", \"\\ubaa8\\ub450\", \"\\uba38\\ub9ac\", \"\\uc791\\uc5c5\", \"\\uccad\\ucd98\", \"\\uac70\\ubd80\", \"\\uc0c8\\ubcbd\", \"\\ubd04\\ub0a0\", \"\\uaca8\\uc6b8\", \"\\uc190\", \"\\uc870\\uae08\", \"DNA\", \"\\uc6b0\\uc8fc\", \"\\uc6b4\\uba85\", \"\\ud568\\uaed8\", \"\\uc774\\uc0c1\", \"\\ubab8\", \"\\ub0a0\\uac1c\", \"\\uac83\", \"\\ubabb\", \"\\ub208\", \"\\ub2ec\\ucf64\", \"\\ud589\\ubcf5\", \"\\uc0ac\\uc18c\", \"\\uc0c1\\ucc98\"], \"x\": [3.308845043182373, -6.086132526397705, -11.476419448852539, -9.276202201843262, 1.3367526531219482, -2.5303049087524414, 0.5409082174301147, -13.376008987426758, 1.4005002975463867, -0.28288424015045166, -2.3786253929138184, 0.19636622071266174, -8.298979759216309, -10.648207664489746, -9.222853660583496, -4.610686779022217, -11.130983352661133, -10.83510971069336, -2.8115341663360596, -0.999732255935669, -8.406349182128906, 1.9202021360397339, -6.523144245147705, -8.701007843017578, 2.110888957977295, -1.733329176902771, -8.821695327758789, -15.007879257202148, -3.625575065612793, -5.361465930938721, -11.462121963500977, -2.2509405612945557, -3.9593167304992676, 2.8842968940734863, -10.5906343460083, -8.984954833984375, -8.195137977600098, -7.264566421508789, -1.5275185108184814, -13.198702812194824, -0.585798978805542, -7.600845813751221, -15.175349235534668, -10.407632827758789, -7.532392978668213, -5.781585693359375, -4.797737121582031, -0.7996014356613159, -5.414554119110107, -13.779187202453613, -3.6758124828338623, 2.2290945053100586, -3.882152557373047, -5.231331825256348, -6.453011989593506, -7.562333106994629], \"y\": [4.4067535400390625, 15.000163078308105, 3.6886348724365234, 1.636673927307129, 5.235160827636719, 1.7916784286499023, 10.017179489135742, 8.681608200073242, -0.3152611553668976, 3.9913477897644043, 4.384537220001221, 7.077455520629883, 10.971455574035645, 5.21026611328125, -1.0553045272827148, 10.907979965209961, 6.891592979431152, 12.456993103027344, 7.642206192016602, 12.509066581726074, 15.678749084472656, 11.476028442382812, 4.128660202026367, 6.87951135635376, 7.527099609375, 15.807958602905273, 7.853983402252197, 9.395118713378906, -0.6792098879814148, -5.005090713500977, 0.5868284106254578, 6.649704933166504, 2.5249805450439453, 2.6063051223754883, 13.765132904052734, 3.250607490539551, 4.956902027130127, 1.3481512069702148, -2.0320582389831543, 2.8568503856658936, 4.890553951263428, 8.566743850708008, 6.827126979827881, 11.030191421508789, 14.994911193847656, 7.259690284729004, -2.7636823654174805, 10.112248420715332, 2.7374801635742188, 10.387733459472656, 11.457965850830078, 13.457696914672852, 10.720498085021973, 6.234510898590088, 0.17712527513504028, 11.08194637298584], \"type\": \"scatter\", \"uid\": \"ce47aada-9b03-4dbf-ab08-3825305d544c\"}], {}, {\"showLink\": false, \"linkText\": \"Export to plot.ly\", \"plotlyServerURL\": \"https://plot.ly\"}); \n",
       "}\n",
       "});</script><script type=\"text/javascript\">window.addEventListener(\"resize\", function(){if (document.getElementById(\"5e9eeda1-cf09-47c9-b118-40fff7625e67\")) {window._Plotly.Plots.resize(document.getElementById(\"5e9eeda1-cf09-47c9-b118-40fff7625e67\"));};})</script>"
      ]
     },
     "metadata": {},
     "output_type": "display_data"
    }
   ],
   "source": [
    "# 시각화\n",
    "labels = [word for word in vectors_ko.vocab]\n",
    "vectors = [vectors_ko[word] for word in labels]\n",
    "\n",
    "visualize_embeddings(vectors, labels)"
   ]
  },
  {
   "cell_type": "code",
   "execution_count": 88,
   "metadata": {},
   "outputs": [
    {
     "data": {
      "text/plain": [
       "dict_keys(['네', '꿈', '아무', '전부', '있어', '멀리', '하루', '말', '준비', '벌써', '너', '거짓말', '자꾸', '매일', '어른들', '시간', '특별', '꿔', '뭣', '사랑', '너무', '내', '하늘', '눈물', '더', '잘', '수', '처음', '스타일', '때', '우리', '쩌렁', '모두', '머리', '작업', '청춘', '거부', '새벽', '봄날', '겨울', '손', '조금', 'DNA', '우주', '운명', '함께', '이상', '몸', '날개', '것', '못', '눈', '달콤', '행복', '사소', '상처'])"
      ]
     },
     "execution_count": 88,
     "metadata": {},
     "output_type": "execute_result"
    }
   ],
   "source": [
    "w2v_ko.wv.vocab.keys()"
   ]
  },
  {
   "cell_type": "code",
   "execution_count": 89,
   "metadata": {},
   "outputs": [
    {
     "name": "stderr",
     "output_type": "stream",
     "text": [
      "2019-04-24 12:44:21,022 : INFO : precomputing L2-norms of word weight vectors\n"
     ]
    },
    {
     "data": {
      "text/plain": [
       "[('달콤', 0.24754555523395538),\n",
       " ('운명', 0.18756765127182007),\n",
       " ('함께', 0.17859138548374176),\n",
       " ('작업', 0.14794304966926575),\n",
       " ('겨울', 0.14368122816085815),\n",
       " ('너무', 0.13617847859859467),\n",
       " ('사소', 0.1247742623090744),\n",
       " ('있어', 0.1094120442867279),\n",
       " ('잘', 0.0965697392821312),\n",
       " ('사랑', 0.09010681509971619)]"
      ]
     },
     "execution_count": 89,
     "metadata": {},
     "output_type": "execute_result"
    }
   ],
   "source": [
    "w2v_ko.wv.most_similar(['꿈'])"
   ]
  },
  {
   "cell_type": "code",
   "execution_count": 90,
   "metadata": {},
   "outputs": [
    {
     "data": {
      "text/plain": [
       "[('손', 0.24795503914356232),\n",
       " ('뭣', 0.24150314927101135),\n",
       " ('벌써', 0.21517440676689148),\n",
       " ('쩌렁', 0.17368078231811523),\n",
       " ('봄날', 0.15718264877796173),\n",
       " ('잘', 0.14832910895347595),\n",
       " ('DNA', 0.1452319175004959),\n",
       " ('꿔', 0.14255844056606293),\n",
       " ('머리', 0.13993149995803833),\n",
       " ('청춘', 0.1346948742866516)]"
      ]
     },
     "execution_count": 90,
     "metadata": {},
     "output_type": "execute_result"
    }
   ],
   "source": [
    "w2v_ko.wv.most_similar(['하루'])"
   ]
  },
  {
   "cell_type": "code",
   "execution_count": 91,
   "metadata": {},
   "outputs": [
    {
     "data": {
      "text/plain": [
       "[('운명', 0.14619788527488708),\n",
       " ('전부', 0.1418207585811615),\n",
       " ('DNA', 0.1320432722568512),\n",
       " ('새벽', 0.13187526166439056),\n",
       " ('잘', 0.12624835968017578),\n",
       " ('날개', 0.12543700635433197),\n",
       " ('겨울', 0.11980368942022324),\n",
       " ('수', 0.09755982458591461),\n",
       " ('눈물', 0.08862415701150894),\n",
       " ('행복', 0.08681744337081909)]"
      ]
     },
     "execution_count": 91,
     "metadata": {},
     "output_type": "execute_result"
    }
   ],
   "source": [
    "w2v_ko.wv.most_similar(['어른들'])"
   ]
  },
  {
   "cell_type": "markdown",
   "metadata": {},
   "source": [
    "---------------------------------"
   ]
  },
  {
   "cell_type": "markdown",
   "metadata": {},
   "source": [
    "### FastText"
   ]
  },
  {
   "cell_type": "markdown",
   "metadata": {},
   "source": [
    "#### 영어 예시"
   ]
  },
  {
   "cell_type": "code",
   "execution_count": 92,
   "metadata": {},
   "outputs": [],
   "source": [
    "documents_en = [[\"my\", \"name\", \"is\", \"jamie\"], [\"jamie\", \"is\", \"cute\"]]"
   ]
  },
  {
   "cell_type": "code",
   "execution_count": 93,
   "metadata": {},
   "outputs": [
    {
     "name": "stderr",
     "output_type": "stream",
     "text": [
      "/Users/moodern/anaconda3/envs/deepnlp/lib/python3.7/site-packages/ipykernel_launcher.py:2: DeprecationWarning:\n",
      "\n",
      "Call to deprecated `most_similar` (Method will be removed in 4.0.0, use self.wv.most_similar() instead).\n",
      "\n",
      "2019-04-24 12:44:33,488 : INFO : precomputing L2-norms of word weight vectors\n"
     ]
    },
    {
     "ename": "KeyError",
     "evalue": "\"word 'jamia' not in vocabulary\"",
     "output_type": "error",
     "traceback": [
      "\u001b[0;31m---------------------------------------------------------------------------\u001b[0m",
      "\u001b[0;31mKeyError\u001b[0m                                  Traceback (most recent call last)",
      "\u001b[0;32m<ipython-input-93-12139b88e337>\u001b[0m in \u001b[0;36m<module>\u001b[0;34m\u001b[0m\n\u001b[1;32m      1\u001b[0m \u001b[0;31m# 워드투벡은 학습시 없었던 단어에 대해서는 계산해주지 못한다.\u001b[0m\u001b[0;34m\u001b[0m\u001b[0;34m\u001b[0m\u001b[0;34m\u001b[0m\u001b[0m\n\u001b[0;32m----> 2\u001b[0;31m \u001b[0mw2v_en\u001b[0m\u001b[0;34m.\u001b[0m\u001b[0mmost_similar\u001b[0m\u001b[0;34m(\u001b[0m\u001b[0;34m\"jamia\"\u001b[0m\u001b[0;34m)\u001b[0m\u001b[0;34m\u001b[0m\u001b[0;34m\u001b[0m\u001b[0m\n\u001b[0m",
      "\u001b[0;32m~/anaconda3/envs/deepnlp/lib/python3.7/site-packages/gensim/utils.py\u001b[0m in \u001b[0;36mnew_func1\u001b[0;34m(*args, **kwargs)\u001b[0m\n\u001b[1;32m   1396\u001b[0m                     \u001b[0mstacklevel\u001b[0m\u001b[0;34m=\u001b[0m\u001b[0;36m2\u001b[0m\u001b[0;34m\u001b[0m\u001b[0;34m\u001b[0m\u001b[0m\n\u001b[1;32m   1397\u001b[0m                 )\n\u001b[0;32m-> 1398\u001b[0;31m                 \u001b[0;32mreturn\u001b[0m \u001b[0mfunc\u001b[0m\u001b[0;34m(\u001b[0m\u001b[0;34m*\u001b[0m\u001b[0margs\u001b[0m\u001b[0;34m,\u001b[0m \u001b[0;34m**\u001b[0m\u001b[0mkwargs\u001b[0m\u001b[0;34m)\u001b[0m\u001b[0;34m\u001b[0m\u001b[0;34m\u001b[0m\u001b[0m\n\u001b[0m\u001b[1;32m   1399\u001b[0m \u001b[0;34m\u001b[0m\u001b[0m\n\u001b[1;32m   1400\u001b[0m             \u001b[0;32mreturn\u001b[0m \u001b[0mnew_func1\u001b[0m\u001b[0;34m\u001b[0m\u001b[0;34m\u001b[0m\u001b[0m\n",
      "\u001b[0;32m~/anaconda3/envs/deepnlp/lib/python3.7/site-packages/gensim/models/base_any2vec.py\u001b[0m in \u001b[0;36mmost_similar\u001b[0;34m(self, positive, negative, topn, restrict_vocab, indexer)\u001b[0m\n\u001b[1;32m    694\u001b[0m         \u001b[0mRefer\u001b[0m \u001b[0mto\u001b[0m \u001b[0mthe\u001b[0m \u001b[0mdocumentation\u001b[0m \u001b[0;32mfor\u001b[0m\u001b[0;31m \u001b[0m\u001b[0;31m`\u001b[0m\u001b[0mgensim\u001b[0m\u001b[0;34m.\u001b[0m\u001b[0mmodels\u001b[0m\u001b[0;34m.\u001b[0m\u001b[0mkeyedvectors\u001b[0m\u001b[0;34m.\u001b[0m\u001b[0mWordEmbeddingsKeyedVectors\u001b[0m\u001b[0;34m.\u001b[0m\u001b[0mmost_similar\u001b[0m\u001b[0;31m`\u001b[0m\u001b[0;34m\u001b[0m\u001b[0;34m\u001b[0m\u001b[0m\n\u001b[1;32m    695\u001b[0m         \"\"\"\n\u001b[0;32m--> 696\u001b[0;31m         \u001b[0;32mreturn\u001b[0m \u001b[0mself\u001b[0m\u001b[0;34m.\u001b[0m\u001b[0mwv\u001b[0m\u001b[0;34m.\u001b[0m\u001b[0mmost_similar\u001b[0m\u001b[0;34m(\u001b[0m\u001b[0mpositive\u001b[0m\u001b[0;34m,\u001b[0m \u001b[0mnegative\u001b[0m\u001b[0;34m,\u001b[0m \u001b[0mtopn\u001b[0m\u001b[0;34m,\u001b[0m \u001b[0mrestrict_vocab\u001b[0m\u001b[0;34m,\u001b[0m \u001b[0mindexer\u001b[0m\u001b[0;34m)\u001b[0m\u001b[0;34m\u001b[0m\u001b[0;34m\u001b[0m\u001b[0m\n\u001b[0m\u001b[1;32m    697\u001b[0m \u001b[0;34m\u001b[0m\u001b[0m\n\u001b[1;32m    698\u001b[0m     \u001b[0;34m@\u001b[0m\u001b[0mdeprecated\u001b[0m\u001b[0;34m(\u001b[0m\u001b[0;34m\"Method will be removed in 4.0.0, use self.wv.wmdistance() instead\"\u001b[0m\u001b[0;34m)\u001b[0m\u001b[0;34m\u001b[0m\u001b[0;34m\u001b[0m\u001b[0m\n",
      "\u001b[0;32m~/anaconda3/envs/deepnlp/lib/python3.7/site-packages/gensim/models/keyedvectors.py\u001b[0m in \u001b[0;36mmost_similar\u001b[0;34m(self, positive, negative, topn, restrict_vocab, indexer)\u001b[0m\n\u001b[1;32m    363\u001b[0m                 \u001b[0mmean\u001b[0m\u001b[0;34m.\u001b[0m\u001b[0mappend\u001b[0m\u001b[0;34m(\u001b[0m\u001b[0mweight\u001b[0m \u001b[0;34m*\u001b[0m \u001b[0mword\u001b[0m\u001b[0;34m)\u001b[0m\u001b[0;34m\u001b[0m\u001b[0;34m\u001b[0m\u001b[0m\n\u001b[1;32m    364\u001b[0m             \u001b[0;32melse\u001b[0m\u001b[0;34m:\u001b[0m\u001b[0;34m\u001b[0m\u001b[0;34m\u001b[0m\u001b[0m\n\u001b[0;32m--> 365\u001b[0;31m                 \u001b[0mmean\u001b[0m\u001b[0;34m.\u001b[0m\u001b[0mappend\u001b[0m\u001b[0;34m(\u001b[0m\u001b[0mweight\u001b[0m \u001b[0;34m*\u001b[0m \u001b[0mself\u001b[0m\u001b[0;34m.\u001b[0m\u001b[0mword_vec\u001b[0m\u001b[0;34m(\u001b[0m\u001b[0mword\u001b[0m\u001b[0;34m,\u001b[0m \u001b[0muse_norm\u001b[0m\u001b[0;34m=\u001b[0m\u001b[0;32mTrue\u001b[0m\u001b[0;34m)\u001b[0m\u001b[0;34m)\u001b[0m\u001b[0;34m\u001b[0m\u001b[0;34m\u001b[0m\u001b[0m\n\u001b[0m\u001b[1;32m    366\u001b[0m                 \u001b[0;32mif\u001b[0m \u001b[0mword\u001b[0m \u001b[0;32min\u001b[0m \u001b[0mself\u001b[0m\u001b[0;34m.\u001b[0m\u001b[0mvocab\u001b[0m\u001b[0;34m:\u001b[0m\u001b[0;34m\u001b[0m\u001b[0;34m\u001b[0m\u001b[0m\n\u001b[1;32m    367\u001b[0m                     \u001b[0mall_words\u001b[0m\u001b[0;34m.\u001b[0m\u001b[0madd\u001b[0m\u001b[0;34m(\u001b[0m\u001b[0mself\u001b[0m\u001b[0;34m.\u001b[0m\u001b[0mvocab\u001b[0m\u001b[0;34m[\u001b[0m\u001b[0mword\u001b[0m\u001b[0;34m]\u001b[0m\u001b[0;34m.\u001b[0m\u001b[0mindex\u001b[0m\u001b[0;34m)\u001b[0m\u001b[0;34m\u001b[0m\u001b[0;34m\u001b[0m\u001b[0m\n",
      "\u001b[0;32m~/anaconda3/envs/deepnlp/lib/python3.7/site-packages/gensim/models/keyedvectors.py\u001b[0m in \u001b[0;36mword_vec\u001b[0;34m(self, word, use_norm)\u001b[0m\n\u001b[1;32m    272\u001b[0m             \u001b[0;32mreturn\u001b[0m \u001b[0mresult\u001b[0m\u001b[0;34m\u001b[0m\u001b[0;34m\u001b[0m\u001b[0m\n\u001b[1;32m    273\u001b[0m         \u001b[0;32melse\u001b[0m\u001b[0;34m:\u001b[0m\u001b[0;34m\u001b[0m\u001b[0;34m\u001b[0m\u001b[0m\n\u001b[0;32m--> 274\u001b[0;31m             \u001b[0;32mraise\u001b[0m \u001b[0mKeyError\u001b[0m\u001b[0;34m(\u001b[0m\u001b[0;34m\"word '%s' not in vocabulary\"\u001b[0m \u001b[0;34m%\u001b[0m \u001b[0mword\u001b[0m\u001b[0;34m)\u001b[0m\u001b[0;34m\u001b[0m\u001b[0;34m\u001b[0m\u001b[0m\n\u001b[0m\u001b[1;32m    275\u001b[0m \u001b[0;34m\u001b[0m\u001b[0m\n\u001b[1;32m    276\u001b[0m     \u001b[0;32mdef\u001b[0m \u001b[0mget_vector\u001b[0m\u001b[0;34m(\u001b[0m\u001b[0mself\u001b[0m\u001b[0;34m,\u001b[0m \u001b[0mword\u001b[0m\u001b[0;34m)\u001b[0m\u001b[0;34m:\u001b[0m\u001b[0;34m\u001b[0m\u001b[0;34m\u001b[0m\u001b[0m\n",
      "\u001b[0;31mKeyError\u001b[0m: \"word 'jamia' not in vocabulary\""
     ]
    }
   ],
   "source": [
    "# 워드투벡은 학습시 없었던 단어에 대해서는 계산해주지 못한다.\n",
    "w2v_en.most_similar(\"jamia\")"
   ]
  },
  {
   "cell_type": "code",
   "execution_count": 94,
   "metadata": {},
   "outputs": [],
   "source": [
    "sentences_en = documents_en"
   ]
  },
  {
   "cell_type": "code",
   "execution_count": 95,
   "metadata": {},
   "outputs": [
    {
     "name": "stdout",
     "output_type": "stream",
     "text": [
      "[['my', 'name', 'is', 'jamie'], ['jamie', 'is', 'cute']]\n"
     ]
    }
   ],
   "source": [
    "pprint(sentences_en[:2])"
   ]
  },
  {
   "cell_type": "code",
   "execution_count": 96,
   "metadata": {},
   "outputs": [],
   "source": [
    "from gensim.models import FastText\n",
    "\n",
    "ft_en = FastText(size=4, window=3, min_count=1)"
   ]
  },
  {
   "cell_type": "code",
   "execution_count": 97,
   "metadata": {},
   "outputs": [
    {
     "name": "stderr",
     "output_type": "stream",
     "text": [
      "2019-04-24 12:44:37,552 : INFO : collecting all words and their counts\n",
      "2019-04-24 12:44:37,553 : INFO : PROGRESS: at sentence #0, processed 0 words, keeping 0 word types\n",
      "2019-04-24 12:44:37,554 : INFO : collected 5 word types from a corpus of 7 raw words and 2 sentences\n",
      "2019-04-24 12:44:37,555 : INFO : Loading a fresh vocabulary\n",
      "2019-04-24 12:44:37,556 : INFO : min_count=1 retains 5 unique words (100% of original 5, drops 0)\n",
      "2019-04-24 12:44:37,557 : INFO : min_count=1 leaves 7 word corpus (100% of original 7, drops 0)\n",
      "2019-04-24 12:44:37,558 : INFO : deleting the raw counts dictionary of 5 items\n",
      "2019-04-24 12:44:37,558 : INFO : sample=0.001 downsamples 5 most-common words\n",
      "2019-04-24 12:44:37,559 : INFO : downsampling leaves estimated 0 word corpus (7.5% of prior 7)\n",
      "2019-04-24 12:44:37,561 : INFO : estimated required memory for 5 words, 40 buckets and 4 dimensions: 3860 bytes\n",
      "2019-04-24 12:44:37,562 : INFO : resetting layer weights\n",
      "2019-04-24 12:44:37,579 : INFO : Total number of ngrams is 40\n"
     ]
    }
   ],
   "source": [
    "ft_en.build_vocab(sentences_en)"
   ]
  },
  {
   "cell_type": "code",
   "execution_count": 98,
   "metadata": {},
   "outputs": [
    {
     "name": "stderr",
     "output_type": "stream",
     "text": [
      "2019-04-24 12:44:38,887 : INFO : training model with 3 workers on 5 vocabulary and 4 features, using sg=0 hs=0 sample=0.001 negative=5 window=3\n",
      "2019-04-24 12:44:38,890 : INFO : worker thread finished; awaiting finish of 2 more threads\n",
      "2019-04-24 12:44:38,891 : INFO : worker thread finished; awaiting finish of 1 more threads\n",
      "2019-04-24 12:44:38,892 : INFO : worker thread finished; awaiting finish of 0 more threads\n",
      "2019-04-24 12:44:38,893 : INFO : EPOCH - 1 : training on 7 raw words (0 effective words) took 0.0s, 0 effective words/s\n",
      "2019-04-24 12:44:38,895 : INFO : worker thread finished; awaiting finish of 2 more threads\n",
      "2019-04-24 12:44:38,896 : INFO : worker thread finished; awaiting finish of 1 more threads\n",
      "2019-04-24 12:44:38,897 : INFO : worker thread finished; awaiting finish of 0 more threads\n",
      "2019-04-24 12:44:38,898 : INFO : EPOCH - 2 : training on 7 raw words (0 effective words) took 0.0s, 0 effective words/s\n",
      "2019-04-24 12:44:38,901 : INFO : worker thread finished; awaiting finish of 2 more threads\n",
      "2019-04-24 12:44:38,902 : INFO : worker thread finished; awaiting finish of 1 more threads\n",
      "2019-04-24 12:44:38,902 : INFO : worker thread finished; awaiting finish of 0 more threads\n",
      "2019-04-24 12:44:38,903 : INFO : EPOCH - 3 : training on 7 raw words (1 effective words) took 0.0s, 337 effective words/s\n",
      "2019-04-24 12:44:38,906 : INFO : worker thread finished; awaiting finish of 2 more threads\n",
      "2019-04-24 12:44:38,907 : INFO : worker thread finished; awaiting finish of 1 more threads\n",
      "2019-04-24 12:44:38,908 : INFO : worker thread finished; awaiting finish of 0 more threads\n",
      "2019-04-24 12:44:38,909 : INFO : EPOCH - 4 : training on 7 raw words (1 effective words) took 0.0s, 305 effective words/s\n",
      "2019-04-24 12:44:38,912 : INFO : worker thread finished; awaiting finish of 2 more threads\n",
      "2019-04-24 12:44:38,912 : INFO : worker thread finished; awaiting finish of 1 more threads\n",
      "2019-04-24 12:44:38,914 : INFO : worker thread finished; awaiting finish of 0 more threads\n",
      "2019-04-24 12:44:38,914 : INFO : EPOCH - 5 : training on 7 raw words (0 effective words) took 0.0s, 0 effective words/s\n",
      "2019-04-24 12:44:38,916 : INFO : worker thread finished; awaiting finish of 2 more threads\n",
      "2019-04-24 12:44:38,918 : INFO : worker thread finished; awaiting finish of 1 more threads\n",
      "2019-04-24 12:44:38,918 : INFO : worker thread finished; awaiting finish of 0 more threads\n",
      "2019-04-24 12:44:38,919 : INFO : EPOCH - 6 : training on 7 raw words (0 effective words) took 0.0s, 0 effective words/s\n",
      "2019-04-24 12:44:38,921 : INFO : worker thread finished; awaiting finish of 2 more threads\n",
      "2019-04-24 12:44:38,922 : INFO : worker thread finished; awaiting finish of 1 more threads\n",
      "2019-04-24 12:44:38,923 : INFO : worker thread finished; awaiting finish of 0 more threads\n",
      "2019-04-24 12:44:38,924 : INFO : EPOCH - 7 : training on 7 raw words (0 effective words) took 0.0s, 0 effective words/s\n",
      "2019-04-24 12:44:38,926 : INFO : worker thread finished; awaiting finish of 2 more threads\n",
      "2019-04-24 12:44:38,927 : INFO : worker thread finished; awaiting finish of 1 more threads\n",
      "2019-04-24 12:44:38,927 : INFO : worker thread finished; awaiting finish of 0 more threads\n",
      "2019-04-24 12:44:38,928 : INFO : EPOCH - 8 : training on 7 raw words (1 effective words) took 0.0s, 394 effective words/s\n",
      "2019-04-24 12:44:38,931 : INFO : worker thread finished; awaiting finish of 2 more threads\n",
      "2019-04-24 12:44:38,932 : INFO : worker thread finished; awaiting finish of 1 more threads\n",
      "2019-04-24 12:44:38,933 : INFO : worker thread finished; awaiting finish of 0 more threads\n",
      "2019-04-24 12:44:38,933 : INFO : EPOCH - 9 : training on 7 raw words (0 effective words) took 0.0s, 0 effective words/s\n",
      "2019-04-24 12:44:38,937 : INFO : worker thread finished; awaiting finish of 2 more threads\n",
      "2019-04-24 12:44:38,937 : INFO : worker thread finished; awaiting finish of 1 more threads\n",
      "2019-04-24 12:44:38,938 : INFO : worker thread finished; awaiting finish of 0 more threads\n",
      "2019-04-24 12:44:38,939 : INFO : EPOCH - 10 : training on 7 raw words (0 effective words) took 0.0s, 0 effective words/s\n",
      "2019-04-24 12:44:38,940 : INFO : training on a 70 raw words (3 effective words) took 0.1s, 57 effective words/s\n",
      "2019-04-24 12:44:38,941 : WARNING : under 10 jobs per worker: consider setting a smaller `batch_words' for smoother alpha decay\n"
     ]
    }
   ],
   "source": [
    "ft_en.train(sentences=sentences_en, total_examples=len(sentences_en), epochs=10)  # train"
   ]
  },
  {
   "cell_type": "code",
   "execution_count": 99,
   "metadata": {},
   "outputs": [
    {
     "name": "stderr",
     "output_type": "stream",
     "text": [
      "2019-04-24 12:44:39,641 : INFO : precomputing L2-norms of word weight vectors\n",
      "2019-04-24 12:44:39,643 : INFO : precomputing L2-norms of ngram weight vectors\n"
     ]
    },
    {
     "data": {
      "text/plain": [
       "[('my', 0.8944276571273804),\n",
       " ('jamie', 0.7871583104133606),\n",
       " ('name', 0.3816155791282654),\n",
       " ('is', 0.3451642394065857),\n",
       " ('cute', 0.30520403385162354)]"
      ]
     },
     "execution_count": 99,
     "metadata": {},
     "output_type": "execute_result"
    }
   ],
   "source": [
    "# FastText는 학습시 없었던 단어에 대해서도 계산해준다.\n",
    "ft_en.wv.most_similar(\"jamia\")"
   ]
  },
  {
   "cell_type": "code",
   "execution_count": 100,
   "metadata": {},
   "outputs": [
    {
     "name": "stderr",
     "output_type": "stream",
     "text": [
      "2019-04-24 12:44:40,608 : INFO : starting tSNE dimensionality reduction. This may take some time.\n",
      "2019-04-24 12:44:40,708 : INFO : All done. Plotting.\n"
     ]
    },
    {
     "data": {
      "text/html": [
       "<script type=\"text/javascript\">window.PlotlyConfig = {MathJaxConfig: 'local'};</script><script type=\"text/javascript\">if (window.MathJax) {MathJax.Hub.Config({SVG: {font: \"STIX-Web\"}});}</script><script>requirejs.config({paths: { 'plotly': ['https://cdn.plot.ly/plotly-latest.min']},});if(!window._Plotly) {require(['plotly'],function(plotly) {window._Plotly=plotly;});}</script>"
      ],
      "text/vnd.plotly.v1+html": [
       "<script type=\"text/javascript\">window.PlotlyConfig = {MathJaxConfig: 'local'};</script><script type=\"text/javascript\">if (window.MathJax) {MathJax.Hub.Config({SVG: {font: \"STIX-Web\"}});}</script><script>requirejs.config({paths: { 'plotly': ['https://cdn.plot.ly/plotly-latest.min']},});if(!window._Plotly) {require(['plotly'],function(plotly) {window._Plotly=plotly;});}</script>"
      ]
     },
     "metadata": {},
     "output_type": "display_data"
    },
    {
     "data": {
      "application/vnd.plotly.v1+json": {
       "config": {
        "linkText": "Export to plot.ly",
        "plotlyServerURL": "https://plot.ly",
        "showLink": false
       },
       "data": [
        {
         "mode": "text",
         "text": [
          "my",
          "name",
          "is",
          "jamie",
          "cute"
         ],
         "type": "scatter",
         "uid": "e1e6beaf-bf68-41b9-a66b-58adcfa144a9",
         "x": [
          58.887428283691406,
          50.34069061279297,
          129.97242736816406,
          125.4763412475586,
          29.455793380737305
         ],
         "y": [
          -138.66778564453125,
          9.897323608398438,
          -99.27764129638672,
          -21.076669692993164,
          -65.83253479003906
         ]
        }
       ],
       "layout": {}
      },
      "text/html": [
       "<div id=\"1f9e00b5-8077-443b-8dce-2b6bdea228c3\" style=\"height: 525px; width: 100%;\" class=\"plotly-graph-div\"></div><script type=\"text/javascript\">require([\"plotly\"], function(Plotly) { window.PLOTLYENV=window.PLOTLYENV || {};window.PLOTLYENV.BASE_URL=\"https://plot.ly\";\n",
       "if (document.getElementById(\"1f9e00b5-8077-443b-8dce-2b6bdea228c3\")) {\n",
       "    Plotly.newPlot(\"1f9e00b5-8077-443b-8dce-2b6bdea228c3\", [{\"mode\": \"text\", \"text\": [\"my\", \"name\", \"is\", \"jamie\", \"cute\"], \"x\": [58.887428283691406, 50.34069061279297, 129.97242736816406, 125.4763412475586, 29.455793380737305], \"y\": [-138.66778564453125, 9.897323608398438, -99.27764129638672, -21.076669692993164, -65.83253479003906], \"type\": \"scatter\", \"uid\": \"d250dad8-a075-468e-b05a-11bb91b171f3\"}], {}, {\"showLink\": false, \"linkText\": \"Export to plot.ly\", \"plotlyServerURL\": \"https://plot.ly\"}); \n",
       "}\n",
       "});</script><script type=\"text/javascript\">window.addEventListener(\"resize\", function(){if (document.getElementById(\"1f9e00b5-8077-443b-8dce-2b6bdea228c3\")) {window._Plotly.Plots.resize(document.getElementById(\"1f9e00b5-8077-443b-8dce-2b6bdea228c3\"));};})</script>"
      ],
      "text/vnd.plotly.v1+html": [
       "<div id=\"1f9e00b5-8077-443b-8dce-2b6bdea228c3\" style=\"height: 525px; width: 100%;\" class=\"plotly-graph-div\"></div><script type=\"text/javascript\">require([\"plotly\"], function(Plotly) { window.PLOTLYENV=window.PLOTLYENV || {};window.PLOTLYENV.BASE_URL=\"https://plot.ly\";\n",
       "if (document.getElementById(\"1f9e00b5-8077-443b-8dce-2b6bdea228c3\")) {\n",
       "    Plotly.newPlot(\"1f9e00b5-8077-443b-8dce-2b6bdea228c3\", [{\"mode\": \"text\", \"text\": [\"my\", \"name\", \"is\", \"jamie\", \"cute\"], \"x\": [58.887428283691406, 50.34069061279297, 129.97242736816406, 125.4763412475586, 29.455793380737305], \"y\": [-138.66778564453125, 9.897323608398438, -99.27764129638672, -21.076669692993164, -65.83253479003906], \"type\": \"scatter\", \"uid\": \"d250dad8-a075-468e-b05a-11bb91b171f3\"}], {}, {\"showLink\": false, \"linkText\": \"Export to plot.ly\", \"plotlyServerURL\": \"https://plot.ly\"}); \n",
       "}\n",
       "});</script><script type=\"text/javascript\">window.addEventListener(\"resize\", function(){if (document.getElementById(\"1f9e00b5-8077-443b-8dce-2b6bdea228c3\")) {window._Plotly.Plots.resize(document.getElementById(\"1f9e00b5-8077-443b-8dce-2b6bdea228c3\"));};})</script>"
      ]
     },
     "metadata": {},
     "output_type": "display_data"
    }
   ],
   "source": [
    "labels = [word for word in ft_en.wv.vocab]\n",
    "vectors = [ft_en.wv[word] for word in labels]\n",
    "\n",
    "visualize_embeddings(vectors, labels)"
   ]
  },
  {
   "cell_type": "markdown",
   "metadata": {},
   "source": [
    "#### 한국어 예시"
   ]
  },
  {
   "cell_type": "code",
   "execution_count": 103,
   "metadata": {},
   "outputs": [
    {
     "name": "stdout",
     "output_type": "stream",
     "text": [
      "dict_keys(['네', '꿈', '아무', '전부', '있어', '멀리', '하루', '말', '준비', '벌써', '너', '거짓말', '자꾸', '매일', '어른들', '시간', '특별', '꿔', '뭣', '사랑', '너무', '내', '하늘', '눈물', '더', '잘', '수', '처음', '스타일', '때', '우리', '쩌렁', '모두', '머리', '작업', '청춘', '거부', '새벽', '봄날', '겨울', '손', '조금', 'DNA', '우주', '운명', '함께', '이상', '몸', '날개', '것', '못', '눈', '달콤', '행복', '사소', '상처'])\n"
     ]
    }
   ],
   "source": [
    "print(w2v_ko.wv.vocab.keys())"
   ]
  },
  {
   "cell_type": "code",
   "execution_count": 104,
   "metadata": {},
   "outputs": [],
   "source": [
    "w2v_ko.wv.vocab.get(\"특별한\")"
   ]
  },
  {
   "cell_type": "code",
   "execution_count": 105,
   "metadata": {},
   "outputs": [
    {
     "name": "stderr",
     "output_type": "stream",
     "text": [
      "/Users/moodern/anaconda3/envs/deepnlp/lib/python3.7/site-packages/ipykernel_launcher.py:2: DeprecationWarning:\n",
      "\n",
      "Call to deprecated `most_similar` (Method will be removed in 4.0.0, use self.wv.most_similar() instead).\n",
      "\n"
     ]
    },
    {
     "ename": "KeyError",
     "evalue": "\"word '특별한' not in vocabulary\"",
     "output_type": "error",
     "traceback": [
      "\u001b[0;31m---------------------------------------------------------------------------\u001b[0m",
      "\u001b[0;31mKeyError\u001b[0m                                  Traceback (most recent call last)",
      "\u001b[0;32m<ipython-input-105-40ef64e84b67>\u001b[0m in \u001b[0;36m<module>\u001b[0;34m\u001b[0m\n\u001b[1;32m      1\u001b[0m \u001b[0;31m# 워드투벡은 학습시 없었던 단어에 대해서는 계산해주지 못한다.\u001b[0m\u001b[0;34m\u001b[0m\u001b[0;34m\u001b[0m\u001b[0;34m\u001b[0m\u001b[0m\n\u001b[0;32m----> 2\u001b[0;31m \u001b[0mw2v_ko\u001b[0m\u001b[0;34m.\u001b[0m\u001b[0mmost_similar\u001b[0m\u001b[0;34m(\u001b[0m\u001b[0;34m\"특별한\"\u001b[0m\u001b[0;34m)\u001b[0m\u001b[0;34m\u001b[0m\u001b[0;34m\u001b[0m\u001b[0m\n\u001b[0m",
      "\u001b[0;32m~/anaconda3/envs/deepnlp/lib/python3.7/site-packages/gensim/utils.py\u001b[0m in \u001b[0;36mnew_func1\u001b[0;34m(*args, **kwargs)\u001b[0m\n\u001b[1;32m   1396\u001b[0m                     \u001b[0mstacklevel\u001b[0m\u001b[0;34m=\u001b[0m\u001b[0;36m2\u001b[0m\u001b[0;34m\u001b[0m\u001b[0;34m\u001b[0m\u001b[0m\n\u001b[1;32m   1397\u001b[0m                 )\n\u001b[0;32m-> 1398\u001b[0;31m                 \u001b[0;32mreturn\u001b[0m \u001b[0mfunc\u001b[0m\u001b[0;34m(\u001b[0m\u001b[0;34m*\u001b[0m\u001b[0margs\u001b[0m\u001b[0;34m,\u001b[0m \u001b[0;34m**\u001b[0m\u001b[0mkwargs\u001b[0m\u001b[0;34m)\u001b[0m\u001b[0;34m\u001b[0m\u001b[0;34m\u001b[0m\u001b[0m\n\u001b[0m\u001b[1;32m   1399\u001b[0m \u001b[0;34m\u001b[0m\u001b[0m\n\u001b[1;32m   1400\u001b[0m             \u001b[0;32mreturn\u001b[0m \u001b[0mnew_func1\u001b[0m\u001b[0;34m\u001b[0m\u001b[0;34m\u001b[0m\u001b[0m\n",
      "\u001b[0;32m~/anaconda3/envs/deepnlp/lib/python3.7/site-packages/gensim/models/base_any2vec.py\u001b[0m in \u001b[0;36mmost_similar\u001b[0;34m(self, positive, negative, topn, restrict_vocab, indexer)\u001b[0m\n\u001b[1;32m    694\u001b[0m         \u001b[0mRefer\u001b[0m \u001b[0mto\u001b[0m \u001b[0mthe\u001b[0m \u001b[0mdocumentation\u001b[0m \u001b[0;32mfor\u001b[0m\u001b[0;31m \u001b[0m\u001b[0;31m`\u001b[0m\u001b[0mgensim\u001b[0m\u001b[0;34m.\u001b[0m\u001b[0mmodels\u001b[0m\u001b[0;34m.\u001b[0m\u001b[0mkeyedvectors\u001b[0m\u001b[0;34m.\u001b[0m\u001b[0mWordEmbeddingsKeyedVectors\u001b[0m\u001b[0;34m.\u001b[0m\u001b[0mmost_similar\u001b[0m\u001b[0;31m`\u001b[0m\u001b[0;34m\u001b[0m\u001b[0;34m\u001b[0m\u001b[0m\n\u001b[1;32m    695\u001b[0m         \"\"\"\n\u001b[0;32m--> 696\u001b[0;31m         \u001b[0;32mreturn\u001b[0m \u001b[0mself\u001b[0m\u001b[0;34m.\u001b[0m\u001b[0mwv\u001b[0m\u001b[0;34m.\u001b[0m\u001b[0mmost_similar\u001b[0m\u001b[0;34m(\u001b[0m\u001b[0mpositive\u001b[0m\u001b[0;34m,\u001b[0m \u001b[0mnegative\u001b[0m\u001b[0;34m,\u001b[0m \u001b[0mtopn\u001b[0m\u001b[0;34m,\u001b[0m \u001b[0mrestrict_vocab\u001b[0m\u001b[0;34m,\u001b[0m \u001b[0mindexer\u001b[0m\u001b[0;34m)\u001b[0m\u001b[0;34m\u001b[0m\u001b[0;34m\u001b[0m\u001b[0m\n\u001b[0m\u001b[1;32m    697\u001b[0m \u001b[0;34m\u001b[0m\u001b[0m\n\u001b[1;32m    698\u001b[0m     \u001b[0;34m@\u001b[0m\u001b[0mdeprecated\u001b[0m\u001b[0;34m(\u001b[0m\u001b[0;34m\"Method will be removed in 4.0.0, use self.wv.wmdistance() instead\"\u001b[0m\u001b[0;34m)\u001b[0m\u001b[0;34m\u001b[0m\u001b[0;34m\u001b[0m\u001b[0m\n",
      "\u001b[0;32m~/anaconda3/envs/deepnlp/lib/python3.7/site-packages/gensim/models/keyedvectors.py\u001b[0m in \u001b[0;36mmost_similar\u001b[0;34m(self, positive, negative, topn, restrict_vocab, indexer)\u001b[0m\n\u001b[1;32m    363\u001b[0m                 \u001b[0mmean\u001b[0m\u001b[0;34m.\u001b[0m\u001b[0mappend\u001b[0m\u001b[0;34m(\u001b[0m\u001b[0mweight\u001b[0m \u001b[0;34m*\u001b[0m \u001b[0mword\u001b[0m\u001b[0;34m)\u001b[0m\u001b[0;34m\u001b[0m\u001b[0;34m\u001b[0m\u001b[0m\n\u001b[1;32m    364\u001b[0m             \u001b[0;32melse\u001b[0m\u001b[0;34m:\u001b[0m\u001b[0;34m\u001b[0m\u001b[0;34m\u001b[0m\u001b[0m\n\u001b[0;32m--> 365\u001b[0;31m                 \u001b[0mmean\u001b[0m\u001b[0;34m.\u001b[0m\u001b[0mappend\u001b[0m\u001b[0;34m(\u001b[0m\u001b[0mweight\u001b[0m \u001b[0;34m*\u001b[0m \u001b[0mself\u001b[0m\u001b[0;34m.\u001b[0m\u001b[0mword_vec\u001b[0m\u001b[0;34m(\u001b[0m\u001b[0mword\u001b[0m\u001b[0;34m,\u001b[0m \u001b[0muse_norm\u001b[0m\u001b[0;34m=\u001b[0m\u001b[0;32mTrue\u001b[0m\u001b[0;34m)\u001b[0m\u001b[0;34m)\u001b[0m\u001b[0;34m\u001b[0m\u001b[0;34m\u001b[0m\u001b[0m\n\u001b[0m\u001b[1;32m    366\u001b[0m                 \u001b[0;32mif\u001b[0m \u001b[0mword\u001b[0m \u001b[0;32min\u001b[0m \u001b[0mself\u001b[0m\u001b[0;34m.\u001b[0m\u001b[0mvocab\u001b[0m\u001b[0;34m:\u001b[0m\u001b[0;34m\u001b[0m\u001b[0;34m\u001b[0m\u001b[0m\n\u001b[1;32m    367\u001b[0m                     \u001b[0mall_words\u001b[0m\u001b[0;34m.\u001b[0m\u001b[0madd\u001b[0m\u001b[0;34m(\u001b[0m\u001b[0mself\u001b[0m\u001b[0;34m.\u001b[0m\u001b[0mvocab\u001b[0m\u001b[0;34m[\u001b[0m\u001b[0mword\u001b[0m\u001b[0;34m]\u001b[0m\u001b[0;34m.\u001b[0m\u001b[0mindex\u001b[0m\u001b[0;34m)\u001b[0m\u001b[0;34m\u001b[0m\u001b[0;34m\u001b[0m\u001b[0m\n",
      "\u001b[0;32m~/anaconda3/envs/deepnlp/lib/python3.7/site-packages/gensim/models/keyedvectors.py\u001b[0m in \u001b[0;36mword_vec\u001b[0;34m(self, word, use_norm)\u001b[0m\n\u001b[1;32m    272\u001b[0m             \u001b[0;32mreturn\u001b[0m \u001b[0mresult\u001b[0m\u001b[0;34m\u001b[0m\u001b[0;34m\u001b[0m\u001b[0m\n\u001b[1;32m    273\u001b[0m         \u001b[0;32melse\u001b[0m\u001b[0;34m:\u001b[0m\u001b[0;34m\u001b[0m\u001b[0;34m\u001b[0m\u001b[0m\n\u001b[0;32m--> 274\u001b[0;31m             \u001b[0;32mraise\u001b[0m \u001b[0mKeyError\u001b[0m\u001b[0;34m(\u001b[0m\u001b[0;34m\"word '%s' not in vocabulary\"\u001b[0m \u001b[0;34m%\u001b[0m \u001b[0mword\u001b[0m\u001b[0;34m)\u001b[0m\u001b[0;34m\u001b[0m\u001b[0;34m\u001b[0m\u001b[0m\n\u001b[0m\u001b[1;32m    275\u001b[0m \u001b[0;34m\u001b[0m\u001b[0m\n\u001b[1;32m    276\u001b[0m     \u001b[0;32mdef\u001b[0m \u001b[0mget_vector\u001b[0m\u001b[0;34m(\u001b[0m\u001b[0mself\u001b[0m\u001b[0;34m,\u001b[0m \u001b[0mword\u001b[0m\u001b[0;34m)\u001b[0m\u001b[0;34m:\u001b[0m\u001b[0;34m\u001b[0m\u001b[0;34m\u001b[0m\u001b[0m\n",
      "\u001b[0;31mKeyError\u001b[0m: \"word '특별한' not in vocabulary\""
     ]
    }
   ],
   "source": [
    "# 워드투벡은 학습시 없었던 단어에 대해서는 계산해주지 못한다.\n",
    "w2v_ko.most_similar(\"특별한\")"
   ]
  },
  {
   "cell_type": "code",
   "execution_count": 107,
   "metadata": {},
   "outputs": [],
   "source": [
    "# 문장 단위로 입력 코퍼스를 바꿔야 한다.\n",
    "\n",
    "def tokenize(x, tokenizer) :\n",
    "    for token in tokenizer.tokenize(x) :\n",
    "        if nouns.get(token) :\n",
    "            yield token\n",
    "            \n",
    "sentences_ko = []\n",
    "for doc in documents_ko :\n",
    "    sentences = [sent for sent in doc.split('\\n') if len(sent)]\n",
    "    tokens = [list(tokenize(sent, tokenizer)) for sent in sentences]\n",
    "    sentences_ko.extend([token for token in tokens if len(token)])"
   ]
  },
  {
   "cell_type": "code",
   "execution_count": 108,
   "metadata": {},
   "outputs": [
    {
     "name": "stdout",
     "output_type": "stream",
     "text": [
      "[['네'], ['네']]\n"
     ]
    }
   ],
   "source": [
    "print(sentences_ko[:2])"
   ]
  },
  {
   "cell_type": "code",
   "execution_count": 109,
   "metadata": {},
   "outputs": [
    {
     "name": "stderr",
     "output_type": "stream",
     "text": [
      "2019-04-24 12:45:46,968 : INFO : collecting all words and their counts\n",
      "2019-04-24 12:45:46,969 : INFO : PROGRESS: at sentence #0, processed 0 words, keeping 0 word types\n",
      "2019-04-24 12:45:46,970 : INFO : collected 56 word types from a corpus of 290 raw words and 215 sentences\n",
      "2019-04-24 12:45:46,971 : INFO : Loading a fresh vocabulary\n",
      "2019-04-24 12:45:46,972 : INFO : min_count=1 retains 56 unique words (100% of original 56, drops 0)\n",
      "2019-04-24 12:45:46,972 : INFO : min_count=1 leaves 290 word corpus (100% of original 290, drops 0)\n",
      "2019-04-24 12:45:46,973 : INFO : deleting the raw counts dictionary of 56 items\n",
      "2019-04-24 12:45:46,974 : INFO : sample=0.001 downsamples 56 most-common words\n",
      "2019-04-24 12:45:46,974 : INFO : downsampling leaves estimated 78 word corpus (27.0% of prior 290)\n",
      "2019-04-24 12:45:46,977 : INFO : estimated required memory for 56 words, 148 buckets and 4 dimensions: 36032 bytes\n",
      "2019-04-24 12:45:46,978 : INFO : resetting layer weights\n",
      "2019-04-24 12:45:46,999 : INFO : Total number of ngrams is 148\n",
      "2019-04-24 12:45:47,007 : INFO : training model with 3 workers on 56 vocabulary and 4 features, using sg=0 hs=0 sample=0.001 negative=5 window=3\n",
      "2019-04-24 12:45:47,010 : INFO : worker thread finished; awaiting finish of 2 more threads\n",
      "2019-04-24 12:45:47,011 : INFO : worker thread finished; awaiting finish of 1 more threads\n",
      "2019-04-24 12:45:47,012 : INFO : worker thread finished; awaiting finish of 0 more threads\n",
      "2019-04-24 12:45:47,014 : INFO : EPOCH - 1 : training on 290 raw words (78 effective words) took 0.0s, 20712 effective words/s\n",
      "2019-04-24 12:45:47,017 : INFO : worker thread finished; awaiting finish of 2 more threads\n",
      "2019-04-24 12:45:47,018 : INFO : worker thread finished; awaiting finish of 1 more threads\n",
      "2019-04-24 12:45:47,019 : INFO : worker thread finished; awaiting finish of 0 more threads\n",
      "2019-04-24 12:45:47,020 : INFO : EPOCH - 2 : training on 290 raw words (76 effective words) took 0.0s, 21945 effective words/s\n",
      "2019-04-24 12:45:47,023 : INFO : worker thread finished; awaiting finish of 2 more threads\n",
      "2019-04-24 12:45:47,023 : INFO : worker thread finished; awaiting finish of 1 more threads\n",
      "2019-04-24 12:45:47,024 : INFO : worker thread finished; awaiting finish of 0 more threads\n",
      "2019-04-24 12:45:47,025 : INFO : EPOCH - 3 : training on 290 raw words (76 effective words) took 0.0s, 27848 effective words/s\n",
      "2019-04-24 12:45:47,028 : INFO : worker thread finished; awaiting finish of 2 more threads\n",
      "2019-04-24 12:45:47,028 : INFO : worker thread finished; awaiting finish of 1 more threads\n",
      "2019-04-24 12:45:47,029 : INFO : worker thread finished; awaiting finish of 0 more threads\n",
      "2019-04-24 12:45:47,029 : INFO : EPOCH - 4 : training on 290 raw words (79 effective words) took 0.0s, 31895 effective words/s\n",
      "2019-04-24 12:45:47,032 : INFO : worker thread finished; awaiting finish of 2 more threads\n",
      "2019-04-24 12:45:47,033 : INFO : worker thread finished; awaiting finish of 1 more threads\n",
      "2019-04-24 12:45:47,034 : INFO : worker thread finished; awaiting finish of 0 more threads\n",
      "2019-04-24 12:45:47,035 : INFO : EPOCH - 5 : training on 290 raw words (83 effective words) took 0.0s, 30181 effective words/s\n",
      "2019-04-24 12:45:47,037 : INFO : worker thread finished; awaiting finish of 2 more threads\n",
      "2019-04-24 12:45:47,038 : INFO : worker thread finished; awaiting finish of 1 more threads\n",
      "2019-04-24 12:45:47,039 : INFO : worker thread finished; awaiting finish of 0 more threads\n",
      "2019-04-24 12:45:47,040 : INFO : EPOCH - 6 : training on 290 raw words (85 effective words) took 0.0s, 24080 effective words/s\n",
      "2019-04-24 12:45:47,043 : INFO : worker thread finished; awaiting finish of 2 more threads\n",
      "2019-04-24 12:45:47,044 : INFO : worker thread finished; awaiting finish of 1 more threads\n",
      "2019-04-24 12:45:47,045 : INFO : worker thread finished; awaiting finish of 0 more threads\n",
      "2019-04-24 12:45:47,046 : INFO : EPOCH - 7 : training on 290 raw words (80 effective words) took 0.0s, 23502 effective words/s\n",
      "2019-04-24 12:45:47,050 : INFO : worker thread finished; awaiting finish of 2 more threads\n",
      "2019-04-24 12:45:47,051 : INFO : worker thread finished; awaiting finish of 1 more threads\n",
      "2019-04-24 12:45:47,052 : INFO : worker thread finished; awaiting finish of 0 more threads\n",
      "2019-04-24 12:45:47,053 : INFO : EPOCH - 8 : training on 290 raw words (75 effective words) took 0.0s, 23543 effective words/s\n",
      "2019-04-24 12:45:47,056 : INFO : worker thread finished; awaiting finish of 2 more threads\n",
      "2019-04-24 12:45:47,057 : INFO : worker thread finished; awaiting finish of 1 more threads\n",
      "2019-04-24 12:45:47,058 : INFO : worker thread finished; awaiting finish of 0 more threads\n",
      "2019-04-24 12:45:47,059 : INFO : EPOCH - 9 : training on 290 raw words (83 effective words) took 0.0s, 23344 effective words/s\n",
      "2019-04-24 12:45:47,063 : INFO : worker thread finished; awaiting finish of 2 more threads\n",
      "2019-04-24 12:45:47,064 : INFO : worker thread finished; awaiting finish of 1 more threads\n",
      "2019-04-24 12:45:47,064 : INFO : worker thread finished; awaiting finish of 0 more threads\n",
      "2019-04-24 12:45:47,065 : INFO : EPOCH - 10 : training on 290 raw words (75 effective words) took 0.0s, 23098 effective words/s\n",
      "2019-04-24 12:45:47,066 : INFO : training on a 2900 raw words (790 effective words) took 0.1s, 13572 effective words/s\n",
      "2019-04-24 12:45:47,067 : WARNING : under 10 jobs per worker: consider setting a smaller `batch_words' for smoother alpha decay\n"
     ]
    }
   ],
   "source": [
    "from gensim.models import FastText\n",
    "\n",
    "ft_ko = FastText(size=4, window=3, min_count=1)\n",
    "ft_ko.build_vocab(sentences_ko)\n",
    "ft_ko.train(sentences=sentences_ko, total_examples=len(sentences_ko), epochs=10)  # train"
   ]
  },
  {
   "cell_type": "code",
   "execution_count": 110,
   "metadata": {},
   "outputs": [
    {
     "name": "stderr",
     "output_type": "stream",
     "text": [
      "2019-04-24 12:45:48,623 : INFO : precomputing L2-norms of word weight vectors\n",
      "2019-04-24 12:45:48,624 : INFO : precomputing L2-norms of ngram weight vectors\n"
     ]
    },
    {
     "data": {
      "text/plain": [
       "[('네', 0.9267606139183044),\n",
       " ('뭣', 0.7276350855827332),\n",
       " ('눈', 0.7254218459129333),\n",
       " ('어른들', 0.6834007501602173),\n",
       " ('처음', 0.6208682060241699),\n",
       " ('조금', 0.6034314632415771),\n",
       " ('잘', 0.5944079756736755),\n",
       " ('더', 0.5191416144371033),\n",
       " ('겨울', 0.49324119091033936),\n",
       " ('상처', 0.4786732792854309)]"
      ]
     },
     "execution_count": 110,
     "metadata": {},
     "output_type": "execute_result"
    }
   ],
   "source": [
    "# FastText는 학습시 없었던 단어에 대해서도 계산해준다.\n",
    "ft_ko.wv.most_similar(\"특별한\")"
   ]
  },
  {
   "cell_type": "code",
   "execution_count": 112,
   "metadata": {
    "scrolled": false
   },
   "outputs": [
    {
     "name": "stdout",
     "output_type": "stream",
     "text": [
      "dict_keys(['네', '꿈', '아무', '전부', '있어', '멀리', '하루', '말', '준비', '벌써', '너', '거짓말', '자꾸', '매일', '어른들', '시간', '특별', '꿔', '뭣', '사랑', '너무', '내', '하늘', '눈물', '더', '잘', '수', '처음', '스타일', '때', '우리', '쩌렁', '모두', '머리', '작업', '청춘', '거부', '새벽', '봄날', '겨울', '손', '조금', 'DNA', '우주', '운명', '함께', '이상', '몸', '날개', '것', '못', '눈', '달콤', '행복', '사소', '상처'])\n"
     ]
    }
   ],
   "source": [
    "# 한국어는 한 단어가 자음모음 복합이라서, 원하던 효과가 나오지 않는다.  \n",
    "pprint(ft_ko.wv.vocab.keys())"
   ]
  },
  {
   "cell_type": "code",
   "execution_count": 113,
   "metadata": {},
   "outputs": [
    {
     "name": "stderr",
     "output_type": "stream",
     "text": [
      "2019-04-24 12:46:25,186 : INFO : starting tSNE dimensionality reduction. This may take some time.\n",
      "2019-04-24 12:46:25,413 : INFO : All done. Plotting.\n"
     ]
    },
    {
     "data": {
      "text/html": [
       "<script type=\"text/javascript\">window.PlotlyConfig = {MathJaxConfig: 'local'};</script><script type=\"text/javascript\">if (window.MathJax) {MathJax.Hub.Config({SVG: {font: \"STIX-Web\"}});}</script><script>requirejs.config({paths: { 'plotly': ['https://cdn.plot.ly/plotly-latest.min']},});if(!window._Plotly) {require(['plotly'],function(plotly) {window._Plotly=plotly;});}</script>"
      ],
      "text/vnd.plotly.v1+html": [
       "<script type=\"text/javascript\">window.PlotlyConfig = {MathJaxConfig: 'local'};</script><script type=\"text/javascript\">if (window.MathJax) {MathJax.Hub.Config({SVG: {font: \"STIX-Web\"}});}</script><script>requirejs.config({paths: { 'plotly': ['https://cdn.plot.ly/plotly-latest.min']},});if(!window._Plotly) {require(['plotly'],function(plotly) {window._Plotly=plotly;});}</script>"
      ]
     },
     "metadata": {},
     "output_type": "display_data"
    },
    {
     "data": {
      "application/vnd.plotly.v1+json": {
       "config": {
        "linkText": "Export to plot.ly",
        "plotlyServerURL": "https://plot.ly",
        "showLink": false
       },
       "data": [
        {
         "mode": "text",
         "text": [
          "네",
          "꿈",
          "아무",
          "전부",
          "있어",
          "멀리",
          "하루",
          "말",
          "준비",
          "벌써",
          "너",
          "거짓말",
          "자꾸",
          "매일",
          "어른들",
          "시간",
          "특별",
          "꿔",
          "뭣",
          "사랑",
          "너무",
          "내",
          "하늘",
          "눈물",
          "더",
          "잘",
          "수",
          "처음",
          "스타일",
          "때",
          "우리",
          "쩌렁",
          "모두",
          "머리",
          "작업",
          "청춘",
          "거부",
          "새벽",
          "봄날",
          "겨울",
          "손",
          "조금",
          "DNA",
          "우주",
          "운명",
          "함께",
          "이상",
          "몸",
          "날개",
          "것",
          "못",
          "눈",
          "달콤",
          "행복",
          "사소",
          "상처"
         ],
         "type": "scatter",
         "uid": "ec78f48b-56b0-464a-8468-3eb3fbca8733",
         "x": [
          -50.357337951660156,
          42.782386779785156,
          -11.312929153442383,
          72.86984252929688,
          50.842994689941406,
          10.833030700683594,
          67.65050506591797,
          1.858916997909546,
          -24.113353729248047,
          -42.55631637573242,
          25.84257698059082,
          -18.607421875,
          10.992568016052246,
          6.192443370819092,
          -19.651382446289062,
          51.86140060424805,
          24.053857803344727,
          -31.069021224975586,
          -34.666996002197266,
          17.718887329101562,
          -2.9727237224578857,
          57.48569869995117,
          19.5139102935791,
          -4.160276889801025,
          -16.153217315673828,
          -33.1102409362793,
          60.08941650390625,
          -34.57201385498047,
          -2.382791042327881,
          22.27252197265625,
          7.785185813903809,
          -16.158607482910156,
          -20.1425838470459,
          28.51779556274414,
          16.442033767700195,
          -5.702733039855957,
          66.1122055053711,
          -22.11444091796875,
          35.87252426147461,
          -48.490684509277344,
          33.33592224121094,
          -35.387428283691406,
          23.48988914489746,
          9.17033863067627,
          1.9293978214263916,
          -7.210289478302002,
          31.958343505859375,
          -32.95958709716797,
          11.848987579345703,
          -1.4581060409545898,
          -12.676292419433594,
          -20.7930850982666,
          -44.250667572021484,
          55.1425666809082,
          43.842288970947266,
          -7.368102073669434
         ],
         "y": [
          -31.900421142578125,
          -21.140382766723633,
          -9.169121742248535,
          27.668819427490234,
          8.266276359558105,
          -36.73714065551758,
          -1.5242877006530762,
          -65.00372314453125,
          -6.204068183898926,
          -57.45683670043945,
          49.48657989501953,
          38.935794830322266,
          -24.274295806884766,
          -10.575469970703125,
          -18.718461990356445,
          21.654850006103516,
          -17.346607208251953,
          6.690149307250977,
          -43.43027114868164,
          8.619590759277344,
          -21.52766990661621,
          34.74704360961914,
          34.7364501953125,
          39.41014862060547,
          53.244415283203125,
          28.738872528076172,
          -32.63188552856445,
          -24.187110900878906,
          -0.5461322069168091,
          19.907323837280273,
          26.136655807495117,
          5.29640531539917,
          21.72547721862793,
          -29.92275619506836,
          -4.816726207733154,
          -75.12254333496094,
          15.19095516204834,
          -30.467613220214844,
          13.431110382080078,
          -12.287386894226074,
          -1.7902400493621826,
          -10.788372993469238,
          -43.105224609375,
          43.76130294799805,
          14.641509056091309,
          24.303455352783203,
          34.149051666259766,
          -66.01715087890625,
          64.08726501464844,
          58.706520080566406,
          73.95814514160156,
          -50.60426330566406,
          2.710766315460205,
          -11.041625022888184,
          -36.75719451904297,
          -33.17783737182617
         ]
        }
       ],
       "layout": {}
      },
      "text/html": [
       "<div id=\"1688be50-de05-4920-b210-46f5100e7a7e\" style=\"height: 525px; width: 100%;\" class=\"plotly-graph-div\"></div><script type=\"text/javascript\">require([\"plotly\"], function(Plotly) { window.PLOTLYENV=window.PLOTLYENV || {};window.PLOTLYENV.BASE_URL=\"https://plot.ly\";\n",
       "if (document.getElementById(\"1688be50-de05-4920-b210-46f5100e7a7e\")) {\n",
       "    Plotly.newPlot(\"1688be50-de05-4920-b210-46f5100e7a7e\", [{\"mode\": \"text\", \"text\": [\"\\ub124\", \"\\uafc8\", \"\\uc544\\ubb34\", \"\\uc804\\ubd80\", \"\\uc788\\uc5b4\", \"\\uba40\\ub9ac\", \"\\ud558\\ub8e8\", \"\\ub9d0\", \"\\uc900\\ube44\", \"\\ubc8c\\uc368\", \"\\ub108\", \"\\uac70\\uc9d3\\ub9d0\", \"\\uc790\\uafb8\", \"\\ub9e4\\uc77c\", \"\\uc5b4\\ub978\\ub4e4\", \"\\uc2dc\\uac04\", \"\\ud2b9\\ubcc4\", \"\\uafd4\", \"\\ubb63\", \"\\uc0ac\\ub791\", \"\\ub108\\ubb34\", \"\\ub0b4\", \"\\ud558\\ub298\", \"\\ub208\\ubb3c\", \"\\ub354\", \"\\uc798\", \"\\uc218\", \"\\ucc98\\uc74c\", \"\\uc2a4\\ud0c0\\uc77c\", \"\\ub54c\", \"\\uc6b0\\ub9ac\", \"\\uca4c\\ub801\", \"\\ubaa8\\ub450\", \"\\uba38\\ub9ac\", \"\\uc791\\uc5c5\", \"\\uccad\\ucd98\", \"\\uac70\\ubd80\", \"\\uc0c8\\ubcbd\", \"\\ubd04\\ub0a0\", \"\\uaca8\\uc6b8\", \"\\uc190\", \"\\uc870\\uae08\", \"DNA\", \"\\uc6b0\\uc8fc\", \"\\uc6b4\\uba85\", \"\\ud568\\uaed8\", \"\\uc774\\uc0c1\", \"\\ubab8\", \"\\ub0a0\\uac1c\", \"\\uac83\", \"\\ubabb\", \"\\ub208\", \"\\ub2ec\\ucf64\", \"\\ud589\\ubcf5\", \"\\uc0ac\\uc18c\", \"\\uc0c1\\ucc98\"], \"x\": [-50.357337951660156, 42.782386779785156, -11.312929153442383, 72.86984252929688, 50.842994689941406, 10.833030700683594, 67.65050506591797, 1.858916997909546, -24.113353729248047, -42.55631637573242, 25.84257698059082, -18.607421875, 10.992568016052246, 6.192443370819092, -19.651382446289062, 51.86140060424805, 24.053857803344727, -31.069021224975586, -34.666996002197266, 17.718887329101562, -2.9727237224578857, 57.48569869995117, 19.5139102935791, -4.160276889801025, -16.153217315673828, -33.1102409362793, 60.08941650390625, -34.57201385498047, -2.382791042327881, 22.27252197265625, 7.785185813903809, -16.158607482910156, -20.1425838470459, 28.51779556274414, 16.442033767700195, -5.702733039855957, 66.1122055053711, -22.11444091796875, 35.87252426147461, -48.490684509277344, 33.33592224121094, -35.387428283691406, 23.48988914489746, 9.17033863067627, 1.9293978214263916, -7.210289478302002, 31.958343505859375, -32.95958709716797, 11.848987579345703, -1.4581060409545898, -12.676292419433594, -20.7930850982666, -44.250667572021484, 55.1425666809082, 43.842288970947266, -7.368102073669434], \"y\": [-31.900421142578125, -21.140382766723633, -9.169121742248535, 27.668819427490234, 8.266276359558105, -36.73714065551758, -1.5242877006530762, -65.00372314453125, -6.204068183898926, -57.45683670043945, 49.48657989501953, 38.935794830322266, -24.274295806884766, -10.575469970703125, -18.718461990356445, 21.654850006103516, -17.346607208251953, 6.690149307250977, -43.43027114868164, 8.619590759277344, -21.52766990661621, 34.74704360961914, 34.7364501953125, 39.41014862060547, 53.244415283203125, 28.738872528076172, -32.63188552856445, -24.187110900878906, -0.5461322069168091, 19.907323837280273, 26.136655807495117, 5.29640531539917, 21.72547721862793, -29.92275619506836, -4.816726207733154, -75.12254333496094, 15.19095516204834, -30.467613220214844, 13.431110382080078, -12.287386894226074, -1.7902400493621826, -10.788372993469238, -43.105224609375, 43.76130294799805, 14.641509056091309, 24.303455352783203, 34.149051666259766, -66.01715087890625, 64.08726501464844, 58.706520080566406, 73.95814514160156, -50.60426330566406, 2.710766315460205, -11.041625022888184, -36.75719451904297, -33.17783737182617], \"type\": \"scatter\", \"uid\": \"7c613e4f-4371-440b-8128-23754205577d\"}], {}, {\"showLink\": false, \"linkText\": \"Export to plot.ly\", \"plotlyServerURL\": \"https://plot.ly\"}); \n",
       "}\n",
       "});</script><script type=\"text/javascript\">window.addEventListener(\"resize\", function(){if (document.getElementById(\"1688be50-de05-4920-b210-46f5100e7a7e\")) {window._Plotly.Plots.resize(document.getElementById(\"1688be50-de05-4920-b210-46f5100e7a7e\"));};})</script>"
      ],
      "text/vnd.plotly.v1+html": [
       "<div id=\"1688be50-de05-4920-b210-46f5100e7a7e\" style=\"height: 525px; width: 100%;\" class=\"plotly-graph-div\"></div><script type=\"text/javascript\">require([\"plotly\"], function(Plotly) { window.PLOTLYENV=window.PLOTLYENV || {};window.PLOTLYENV.BASE_URL=\"https://plot.ly\";\n",
       "if (document.getElementById(\"1688be50-de05-4920-b210-46f5100e7a7e\")) {\n",
       "    Plotly.newPlot(\"1688be50-de05-4920-b210-46f5100e7a7e\", [{\"mode\": \"text\", \"text\": [\"\\ub124\", \"\\uafc8\", \"\\uc544\\ubb34\", \"\\uc804\\ubd80\", \"\\uc788\\uc5b4\", \"\\uba40\\ub9ac\", \"\\ud558\\ub8e8\", \"\\ub9d0\", \"\\uc900\\ube44\", \"\\ubc8c\\uc368\", \"\\ub108\", \"\\uac70\\uc9d3\\ub9d0\", \"\\uc790\\uafb8\", \"\\ub9e4\\uc77c\", \"\\uc5b4\\ub978\\ub4e4\", \"\\uc2dc\\uac04\", \"\\ud2b9\\ubcc4\", \"\\uafd4\", \"\\ubb63\", \"\\uc0ac\\ub791\", \"\\ub108\\ubb34\", \"\\ub0b4\", \"\\ud558\\ub298\", \"\\ub208\\ubb3c\", \"\\ub354\", \"\\uc798\", \"\\uc218\", \"\\ucc98\\uc74c\", \"\\uc2a4\\ud0c0\\uc77c\", \"\\ub54c\", \"\\uc6b0\\ub9ac\", \"\\uca4c\\ub801\", \"\\ubaa8\\ub450\", \"\\uba38\\ub9ac\", \"\\uc791\\uc5c5\", \"\\uccad\\ucd98\", \"\\uac70\\ubd80\", \"\\uc0c8\\ubcbd\", \"\\ubd04\\ub0a0\", \"\\uaca8\\uc6b8\", \"\\uc190\", \"\\uc870\\uae08\", \"DNA\", \"\\uc6b0\\uc8fc\", \"\\uc6b4\\uba85\", \"\\ud568\\uaed8\", \"\\uc774\\uc0c1\", \"\\ubab8\", \"\\ub0a0\\uac1c\", \"\\uac83\", \"\\ubabb\", \"\\ub208\", \"\\ub2ec\\ucf64\", \"\\ud589\\ubcf5\", \"\\uc0ac\\uc18c\", \"\\uc0c1\\ucc98\"], \"x\": [-50.357337951660156, 42.782386779785156, -11.312929153442383, 72.86984252929688, 50.842994689941406, 10.833030700683594, 67.65050506591797, 1.858916997909546, -24.113353729248047, -42.55631637573242, 25.84257698059082, -18.607421875, 10.992568016052246, 6.192443370819092, -19.651382446289062, 51.86140060424805, 24.053857803344727, -31.069021224975586, -34.666996002197266, 17.718887329101562, -2.9727237224578857, 57.48569869995117, 19.5139102935791, -4.160276889801025, -16.153217315673828, -33.1102409362793, 60.08941650390625, -34.57201385498047, -2.382791042327881, 22.27252197265625, 7.785185813903809, -16.158607482910156, -20.1425838470459, 28.51779556274414, 16.442033767700195, -5.702733039855957, 66.1122055053711, -22.11444091796875, 35.87252426147461, -48.490684509277344, 33.33592224121094, -35.387428283691406, 23.48988914489746, 9.17033863067627, 1.9293978214263916, -7.210289478302002, 31.958343505859375, -32.95958709716797, 11.848987579345703, -1.4581060409545898, -12.676292419433594, -20.7930850982666, -44.250667572021484, 55.1425666809082, 43.842288970947266, -7.368102073669434], \"y\": [-31.900421142578125, -21.140382766723633, -9.169121742248535, 27.668819427490234, 8.266276359558105, -36.73714065551758, -1.5242877006530762, -65.00372314453125, -6.204068183898926, -57.45683670043945, 49.48657989501953, 38.935794830322266, -24.274295806884766, -10.575469970703125, -18.718461990356445, 21.654850006103516, -17.346607208251953, 6.690149307250977, -43.43027114868164, 8.619590759277344, -21.52766990661621, 34.74704360961914, 34.7364501953125, 39.41014862060547, 53.244415283203125, 28.738872528076172, -32.63188552856445, -24.187110900878906, -0.5461322069168091, 19.907323837280273, 26.136655807495117, 5.29640531539917, 21.72547721862793, -29.92275619506836, -4.816726207733154, -75.12254333496094, 15.19095516204834, -30.467613220214844, 13.431110382080078, -12.287386894226074, -1.7902400493621826, -10.788372993469238, -43.105224609375, 43.76130294799805, 14.641509056091309, 24.303455352783203, 34.149051666259766, -66.01715087890625, 64.08726501464844, 58.706520080566406, 73.95814514160156, -50.60426330566406, 2.710766315460205, -11.041625022888184, -36.75719451904297, -33.17783737182617], \"type\": \"scatter\", \"uid\": \"7c613e4f-4371-440b-8128-23754205577d\"}], {}, {\"showLink\": false, \"linkText\": \"Export to plot.ly\", \"plotlyServerURL\": \"https://plot.ly\"}); \n",
       "}\n",
       "});</script><script type=\"text/javascript\">window.addEventListener(\"resize\", function(){if (document.getElementById(\"1688be50-de05-4920-b210-46f5100e7a7e\")) {window._Plotly.Plots.resize(document.getElementById(\"1688be50-de05-4920-b210-46f5100e7a7e\"));};})</script>"
      ]
     },
     "metadata": {},
     "output_type": "display_data"
    }
   ],
   "source": [
    "labels = [word for word in ft_ko.wv.vocab]\n",
    "vectors = [ft_ko.wv[word] for word in labels]\n",
    "\n",
    "visualize_embeddings(vectors, labels)"
   ]
  },
  {
   "cell_type": "code",
   "execution_count": 114,
   "metadata": {},
   "outputs": [],
   "source": [
    "# 초성/중성/종성으로 분해하는 코드\n",
    "from soynlp.hangle import decompose, compose\n",
    "\n",
    "def encode(s):\n",
    "    def process(c):\n",
    "        if c == ' ':\n",
    "            return c\n",
    "        jamo = decompose(c)\n",
    "        # 'a' or 모음 or 자음\n",
    "        if (jamo is None) or (jamo[0] == ' ') or (jamo[1] == ' '):\n",
    "            return ' '\n",
    "        base = jamo[0]+jamo[1]\n",
    "        if jamo[2] == ' ':\n",
    "            return base + '-'\n",
    "        return base + jamo[2]\n",
    "\n",
    "    s = ''.join(process(c) for c in s)\n",
    "    return s.strip() \n",
    "\n",
    "def decode(s):\n",
    "    def process(t):\n",
    "        assert len(t) % 3 == 0\n",
    "        t_ = t.replace('-', ' ')\n",
    "        chars = [tuple(t_[3*i:3*(i+1)]) for i in range(len(t_)//3)]\n",
    "        recovered = [compose(*char) for char in chars]\n",
    "        recovered = ''.join(recovered)\n",
    "        return recovered\n",
    "\n",
    "    return ' '.join(process(t) for t in s.split())"
   ]
  },
  {
   "cell_type": "code",
   "execution_count": 115,
   "metadata": {},
   "outputs": [
    {
     "name": "stdout",
     "output_type": "stream",
     "text": [
      "ㄱㅏ-ㄴㅏ-ㄷㅏ-ㄹㅏㄹ            ㅎㅏ-ㅎㅏㅅ\n",
      "가나다랄 하핫\n"
     ]
    }
   ],
   "source": [
    "s = '가나다랄  a2ㅗㅛㅠ ㅋㅋㅋ 하핫'\n",
    "print(encode(s))\n",
    "print(decode(encode(s)))"
   ]
  },
  {
   "cell_type": "code",
   "execution_count": 116,
   "metadata": {},
   "outputs": [],
   "source": [
    "# 문장 단위로 입력 코퍼스를 바꿔야 한다.\n",
    "# 초/중/종성을 분리해야 한다.\n",
    "\n",
    "def tokenize(x, tokenizer) :\n",
    "    for token in tokenizer.tokenize(x) :\n",
    "        if nouns.get(token) :\n",
    "            token_decom = encode(token) # 초/중/종성 분리\n",
    "            if len(token_decom) :\n",
    "                yield token_decom\n",
    "            \n",
    "sentences_ko = []\n",
    "for doc in documents_ko :\n",
    "    sentences = [sent for sent in doc.split('\\n') if len(sent)]\n",
    "    tokens = [list(tokenize(sent, tokenizer)) for sent in sentences]\n",
    "    tokens_decom = [token for token in tokens if len(token)]\n",
    "    sentences_ko.extend(tokens_decom)"
   ]
  },
  {
   "cell_type": "code",
   "execution_count": 117,
   "metadata": {},
   "outputs": [
    {
     "name": "stdout",
     "output_type": "stream",
     "text": [
      "[['ㄴㅔ-'], ['ㄴㅔ-']]\n"
     ]
    }
   ],
   "source": [
    "print(sentences_ko[:2])"
   ]
  },
  {
   "cell_type": "code",
   "execution_count": 118,
   "metadata": {},
   "outputs": [
    {
     "name": "stderr",
     "output_type": "stream",
     "text": [
      "2019-04-24 12:46:55,690 : INFO : collecting all words and their counts\n",
      "2019-04-24 12:46:55,691 : INFO : PROGRESS: at sentence #0, processed 0 words, keeping 0 word types\n",
      "2019-04-24 12:46:55,691 : INFO : collected 55 word types from a corpus of 284 raw words and 210 sentences\n",
      "2019-04-24 12:46:55,692 : INFO : Loading a fresh vocabulary\n",
      "2019-04-24 12:46:55,694 : INFO : min_count=1 retains 55 unique words (100% of original 55, drops 0)\n",
      "2019-04-24 12:46:55,694 : INFO : min_count=1 leaves 284 word corpus (100% of original 284, drops 0)\n",
      "2019-04-24 12:46:55,696 : INFO : deleting the raw counts dictionary of 55 items\n",
      "2019-04-24 12:46:55,696 : INFO : sample=0.001 downsamples 55 most-common words\n",
      "2019-04-24 12:46:55,697 : INFO : downsampling leaves estimated 75 word corpus (26.7% of prior 284)\n",
      "2019-04-24 12:46:55,706 : INFO : estimated required memory for 55 words, 746 buckets and 4 dimensions: 50508 bytes\n",
      "2019-04-24 12:46:55,707 : INFO : resetting layer weights\n",
      "2019-04-24 12:46:55,720 : INFO : Total number of ngrams is 746\n",
      "2019-04-24 12:46:55,731 : INFO : training model with 3 workers on 55 vocabulary and 4 features, using sg=0 hs=0 sample=0.001 negative=5 window=3\n",
      "2019-04-24 12:46:55,734 : INFO : worker thread finished; awaiting finish of 2 more threads\n",
      "2019-04-24 12:46:55,735 : INFO : worker thread finished; awaiting finish of 1 more threads\n",
      "2019-04-24 12:46:55,735 : INFO : worker thread finished; awaiting finish of 0 more threads\n",
      "2019-04-24 12:46:55,736 : INFO : EPOCH - 1 : training on 284 raw words (68 effective words) took 0.0s, 24010 effective words/s\n",
      "2019-04-24 12:46:55,739 : INFO : worker thread finished; awaiting finish of 2 more threads\n",
      "2019-04-24 12:46:55,740 : INFO : worker thread finished; awaiting finish of 1 more threads\n",
      "2019-04-24 12:46:55,741 : INFO : worker thread finished; awaiting finish of 0 more threads\n",
      "2019-04-24 12:46:55,742 : INFO : EPOCH - 2 : training on 284 raw words (88 effective words) took 0.0s, 26908 effective words/s\n",
      "2019-04-24 12:46:55,745 : INFO : worker thread finished; awaiting finish of 2 more threads\n",
      "2019-04-24 12:46:55,746 : INFO : worker thread finished; awaiting finish of 1 more threads\n",
      "2019-04-24 12:46:55,747 : INFO : worker thread finished; awaiting finish of 0 more threads\n",
      "2019-04-24 12:46:55,748 : INFO : EPOCH - 3 : training on 284 raw words (68 effective words) took 0.0s, 19249 effective words/s\n",
      "2019-04-24 12:46:55,752 : INFO : worker thread finished; awaiting finish of 2 more threads\n",
      "2019-04-24 12:46:55,753 : INFO : worker thread finished; awaiting finish of 1 more threads\n",
      "2019-04-24 12:46:55,754 : INFO : worker thread finished; awaiting finish of 0 more threads\n",
      "2019-04-24 12:46:55,755 : INFO : EPOCH - 4 : training on 284 raw words (74 effective words) took 0.0s, 21289 effective words/s\n",
      "2019-04-24 12:46:55,759 : INFO : worker thread finished; awaiting finish of 2 more threads\n",
      "2019-04-24 12:46:55,760 : INFO : worker thread finished; awaiting finish of 1 more threads\n",
      "2019-04-24 12:46:55,761 : INFO : worker thread finished; awaiting finish of 0 more threads\n",
      "2019-04-24 12:46:55,762 : INFO : EPOCH - 5 : training on 284 raw words (66 effective words) took 0.0s, 18685 effective words/s\n",
      "2019-04-24 12:46:55,766 : INFO : worker thread finished; awaiting finish of 2 more threads\n",
      "2019-04-24 12:46:55,767 : INFO : worker thread finished; awaiting finish of 1 more threads\n",
      "2019-04-24 12:46:55,768 : INFO : worker thread finished; awaiting finish of 0 more threads\n",
      "2019-04-24 12:46:55,769 : INFO : EPOCH - 6 : training on 284 raw words (77 effective words) took 0.0s, 23161 effective words/s\n",
      "2019-04-24 12:46:55,772 : INFO : worker thread finished; awaiting finish of 2 more threads\n",
      "2019-04-24 12:46:55,773 : INFO : worker thread finished; awaiting finish of 1 more threads\n",
      "2019-04-24 12:46:55,774 : INFO : worker thread finished; awaiting finish of 0 more threads\n",
      "2019-04-24 12:46:55,774 : INFO : EPOCH - 7 : training on 284 raw words (71 effective words) took 0.0s, 21936 effective words/s\n",
      "2019-04-24 12:46:55,777 : INFO : worker thread finished; awaiting finish of 2 more threads\n",
      "2019-04-24 12:46:55,778 : INFO : worker thread finished; awaiting finish of 1 more threads\n",
      "2019-04-24 12:46:55,779 : INFO : worker thread finished; awaiting finish of 0 more threads\n",
      "2019-04-24 12:46:55,779 : INFO : EPOCH - 8 : training on 284 raw words (79 effective words) took 0.0s, 36026 effective words/s\n",
      "2019-04-24 12:46:55,783 : INFO : worker thread finished; awaiting finish of 2 more threads\n",
      "2019-04-24 12:46:55,784 : INFO : worker thread finished; awaiting finish of 1 more threads\n",
      "2019-04-24 12:46:55,784 : INFO : worker thread finished; awaiting finish of 0 more threads\n",
      "2019-04-24 12:46:55,785 : INFO : EPOCH - 9 : training on 284 raw words (86 effective words) took 0.0s, 27319 effective words/s\n",
      "2019-04-24 12:46:55,788 : INFO : worker thread finished; awaiting finish of 2 more threads\n",
      "2019-04-24 12:46:55,789 : INFO : worker thread finished; awaiting finish of 1 more threads\n",
      "2019-04-24 12:46:55,791 : INFO : worker thread finished; awaiting finish of 0 more threads\n",
      "2019-04-24 12:46:55,792 : INFO : EPOCH - 10 : training on 284 raw words (76 effective words) took 0.0s, 17819 effective words/s\n",
      "2019-04-24 12:46:55,793 : INFO : training on a 2840 raw words (753 effective words) took 0.1s, 12319 effective words/s\n",
      "2019-04-24 12:46:55,794 : WARNING : under 10 jobs per worker: consider setting a smaller `batch_words' for smoother alpha decay\n"
     ]
    }
   ],
   "source": [
    "from gensim.models import FastText\n",
    "\n",
    "ft_ko = FastText(size=4, window=3, min_count=1)\n",
    "ft_ko.build_vocab(sentences_ko)\n",
    "ft_ko.train(sentences=sentences_ko, total_examples=len(sentences_ko), epochs=10)  # train"
   ]
  },
  {
   "cell_type": "code",
   "execution_count": 558,
   "metadata": {},
   "outputs": [
    {
     "name": "stdout",
     "output_type": "stream",
     "text": [
      "{'ㄱㅓ-ㅈㅣㅅㅁㅏㄹ': <gensim.models.keyedvectors.Vocab object at 0x1a2208be10>,\n",
      " 'ㄲㅜㅁ': <gensim.models.keyedvectors.Vocab object at 0x1a25a5f3c8>,\n",
      " 'ㄲㅝ-': <gensim.models.keyedvectors.Vocab object at 0x1a2288bb38>,\n",
      " 'ㄴㅓ-': <gensim.models.keyedvectors.Vocab object at 0x1a2208bac8>,\n",
      " 'ㄴㅔ-': <gensim.models.keyedvectors.Vocab object at 0x1a25a5f400>,\n",
      " 'ㅁㅏㄹ': <gensim.models.keyedvectors.Vocab object at 0x1a2208bb38>,\n",
      " 'ㅁㅐ-ㅇㅣㄹ': <gensim.models.keyedvectors.Vocab object at 0x1a2288b9e8>,\n",
      " 'ㅁㅓㄹㄹㅣ-': <gensim.models.keyedvectors.Vocab object at 0x1a2208bbe0>,\n",
      " 'ㅂㅓㄹㅆㅓ-': <gensim.models.keyedvectors.Vocab object at 0x1a2208bcf8>,\n",
      " 'ㅅㅣ-ㄱㅏㄴ': <gensim.models.keyedvectors.Vocab object at 0x1a2288b668>,\n",
      " 'ㅇㅏ-ㅁㅜ-': <gensim.models.keyedvectors.Vocab object at 0x1a25786518>,\n",
      " 'ㅇㅓ-ㄹㅡㄴㄷㅡㄹ': <gensim.models.keyedvectors.Vocab object at 0x1a2288bd68>,\n",
      " 'ㅇㅣㅆㅇㅓ-': <gensim.models.keyedvectors.Vocab object at 0x1a2208be48>,\n",
      " 'ㅈㅏ-ㄲㅜ-': <gensim.models.keyedvectors.Vocab object at 0x1a2288b748>,\n",
      " 'ㅈㅓㄴㅂㅜ-': <gensim.models.keyedvectors.Vocab object at 0x1a2208be80>,\n",
      " 'ㅈㅜㄴㅂㅣ-': <gensim.models.keyedvectors.Vocab object at 0x1a2208bfd0>,\n",
      " 'ㅌㅡㄱㅂㅕㄹ': <gensim.models.keyedvectors.Vocab object at 0x1a2288bc50>,\n",
      " 'ㅎㅏ-ㄹㅜ-': <gensim.models.keyedvectors.Vocab object at 0x1a2208b978>}\n"
     ]
    }
   ],
   "source": [
    "# 초/중/종성을 분리된 단어들이 벡터화 됨.\n",
    "pprint(ft_ko.wv.vocab)"
   ]
  },
  {
   "cell_type": "code",
   "execution_count": 119,
   "metadata": {},
   "outputs": [
    {
     "name": "stderr",
     "output_type": "stream",
     "text": [
      "2019-04-24 12:47:15,452 : INFO : precomputing L2-norms of word weight vectors\n",
      "2019-04-24 12:47:15,453 : INFO : precomputing L2-norms of ngram weight vectors\n"
     ]
    },
    {
     "name": "stdout",
     "output_type": "stream",
     "text": [
      "('매일', 0.917435884475708)\n",
      "('특별', 0.8937360644340515)\n",
      "('너', 0.8713309168815613)\n",
      "('네', 0.8579676151275635)\n",
      "('시간', 0.8519408702850342)\n",
      "('눈', 0.8185993432998657)\n",
      "('아무', 0.780854344367981)\n",
      "('자꾸', 0.7686415314674377)\n",
      "('너무', 0.7370006442070007)\n",
      "('더', 0.7095386981964111)\n"
     ]
    }
   ],
   "source": [
    "# FastText는 학습시 없었던 단어에 대해서도 계산해준다.\n",
    "rst = ft_ko.wv.most_similar(encode(\"특별히\"))\n",
    "for word, score in rst : \n",
    "    print((decode(word),score)) # 출력할 때 다시 초/중/종성 결합해줄 것"
   ]
  },
  {
   "cell_type": "code",
   "execution_count": 120,
   "metadata": {},
   "outputs": [
    {
     "name": "stdout",
     "output_type": "stream",
     "text": [
      "('날개', 0.9154192805290222)\n",
      "('꿈', 0.9049108028411865)\n",
      "('뭣', 0.864434003829956)\n",
      "('사랑', 0.8578559756278992)\n",
      "('처음', 0.7900941371917725)\n",
      "('거부', 0.7590680122375488)\n",
      "('행복', 0.7548575401306152)\n",
      "('수', 0.7448185682296753)\n",
      "('스타일', 0.6849146485328674)\n",
      "('어른들', 0.6659077405929565)\n"
     ]
    }
   ],
   "source": [
    "# FastText는 학습시 없었던 단어에 대해서도 계산해준다.\n",
    "rst = ft_ko.wv.most_similar(encode(\"꿈을\"))\n",
    "for word, score in rst : \n",
    "    print((decode(word),score))"
   ]
  },
  {
   "cell_type": "code",
   "execution_count": 121,
   "metadata": {},
   "outputs": [
    {
     "name": "stderr",
     "output_type": "stream",
     "text": [
      "2019-04-24 12:47:31,173 : INFO : starting tSNE dimensionality reduction. This may take some time.\n",
      "2019-04-24 12:47:31,430 : INFO : All done. Plotting.\n"
     ]
    },
    {
     "data": {
      "text/html": [
       "<script type=\"text/javascript\">window.PlotlyConfig = {MathJaxConfig: 'local'};</script><script type=\"text/javascript\">if (window.MathJax) {MathJax.Hub.Config({SVG: {font: \"STIX-Web\"}});}</script><script>requirejs.config({paths: { 'plotly': ['https://cdn.plot.ly/plotly-latest.min']},});if(!window._Plotly) {require(['plotly'],function(plotly) {window._Plotly=plotly;});}</script>"
      ],
      "text/vnd.plotly.v1+html": [
       "<script type=\"text/javascript\">window.PlotlyConfig = {MathJaxConfig: 'local'};</script><script type=\"text/javascript\">if (window.MathJax) {MathJax.Hub.Config({SVG: {font: \"STIX-Web\"}});}</script><script>requirejs.config({paths: { 'plotly': ['https://cdn.plot.ly/plotly-latest.min']},});if(!window._Plotly) {require(['plotly'],function(plotly) {window._Plotly=plotly;});}</script>"
      ]
     },
     "metadata": {},
     "output_type": "display_data"
    },
    {
     "data": {
      "application/vnd.plotly.v1+json": {
       "config": {
        "linkText": "Export to plot.ly",
        "plotlyServerURL": "https://plot.ly",
        "showLink": false
       },
       "data": [
        {
         "mode": "text",
         "text": [
          "네",
          "꿈",
          "아무",
          "전부",
          "있어",
          "멀리",
          "하루",
          "말",
          "준비",
          "벌써",
          "너",
          "거짓말",
          "자꾸",
          "매일",
          "어른들",
          "시간",
          "특별",
          "꿔",
          "뭣",
          "사랑",
          "너무",
          "내",
          "하늘",
          "눈물",
          "더",
          "잘",
          "수",
          "처음",
          "스타일",
          "때",
          "우리",
          "쩌렁",
          "모두",
          "머리",
          "작업",
          "청춘",
          "거부",
          "새벽",
          "봄날",
          "겨울",
          "손",
          "조금",
          "우주",
          "운명",
          "함께",
          "이상",
          "몸",
          "날개",
          "것",
          "못",
          "눈",
          "달콤",
          "행복",
          "사소",
          "상처"
         ],
         "type": "scatter",
         "uid": "fd879738-8bf2-4d94-aea1-18742ca65c9f",
         "x": [
          -93.56376647949219,
          46.76972961425781,
          -40.90812683105469,
          39.096275329589844,
          -7.368649005889893,
          4.166921615600586,
          -16.06179428100586,
          17.522377014160156,
          -15.754544258117676,
          22.426313400268555,
          100.38343811035156,
          0.22215448319911957,
          -70.46401977539062,
          -47.599876403808594,
          -34.29805374145508,
          63.94516372680664,
          43.224082946777344,
          -8.31491470336914,
          -17.027996063232422,
          11.9325590133667,
          61.75298309326172,
          -61.55463790893555,
          12.15557861328125,
          72.89191436767578,
          -67.27669525146484,
          87.47669982910156,
          -0.9882624745368958,
          52.132041931152344,
          -9.14887809753418,
          17.943153381347656,
          -3.6832549571990967,
          29.920198440551758,
          -23.351205825805664,
          -30.031734466552734,
          15.972796440124512,
          -36.23902893066406,
          5.340978622436523,
          -12.198431968688965,
          -77.26190185546875,
          -56.77584457397461,
          32.73832321166992,
          14.396312713623047,
          -21.46927261352539,
          1.9863381385803223,
          61.1882209777832,
          -85.38917541503906,
          -56.040687561035156,
          27.954097747802734,
          -87.24545288085938,
          47.502471923828125,
          90.98775482177734,
          1.6360350847244263,
          20.94136619567871,
          39.83251953125,
          -25.589561462402344
         ],
         "y": [
          -11.062138557434082,
          -98.21603393554688,
          8.078780174255371,
          -26.666833877563477,
          -7.778946876525879,
          29.35211753845215,
          -33.28584671020508,
          -34.074378967285156,
          28.944746017456055,
          13.889799118041992,
          18.80080795288086,
          10.4962797164917,
          -11.445839881896973,
          -9.159992218017578,
          -43.003662109375,
          2.8406789302825928,
          -0.41619500517845154,
          49.0760383605957,
          -77.5,
          -58.55375671386719,
          -22.638174057006836,
          -64.9869155883789,
          49.98385238647461,
          22.457277297973633,
          22.790842056274414,
          -4.8068318367004395,
          -102.36589813232422,
          -55.5359992980957,
          -57.058494567871094,
          93.12315368652344,
          68.52208709716797,
          -47.41209030151367,
          67.08406066894531,
          46.89154815673828,
          68.6761703491211,
          29.000076293945312,
          -76.79541015625,
          95.99311828613281,
          -31.530630111694336,
          -30.301910400390625,
          31.466094970703125,
          -7.504415988922119,
          8.81640338897705,
          -21.208332061767578,
          42.26206588745117,
          -52.29111099243164,
          49.33121109008789,
          -71.12060546875,
          22.966136932373047,
          95.91555786132812,
          63.557456970214844,
          -41.88359069824219,
          -101.22088623046875,
          61.83898162841797,
          -16.431177139282227
         ]
        }
       ],
       "layout": {}
      },
      "text/html": [
       "<div id=\"e274272c-9e1f-41ea-9db5-0d6685d93d30\" style=\"height: 525px; width: 100%;\" class=\"plotly-graph-div\"></div><script type=\"text/javascript\">require([\"plotly\"], function(Plotly) { window.PLOTLYENV=window.PLOTLYENV || {};window.PLOTLYENV.BASE_URL=\"https://plot.ly\";\n",
       "if (document.getElementById(\"e274272c-9e1f-41ea-9db5-0d6685d93d30\")) {\n",
       "    Plotly.newPlot(\"e274272c-9e1f-41ea-9db5-0d6685d93d30\", [{\"mode\": \"text\", \"text\": [\"\\ub124\", \"\\uafc8\", \"\\uc544\\ubb34\", \"\\uc804\\ubd80\", \"\\uc788\\uc5b4\", \"\\uba40\\ub9ac\", \"\\ud558\\ub8e8\", \"\\ub9d0\", \"\\uc900\\ube44\", \"\\ubc8c\\uc368\", \"\\ub108\", \"\\uac70\\uc9d3\\ub9d0\", \"\\uc790\\uafb8\", \"\\ub9e4\\uc77c\", \"\\uc5b4\\ub978\\ub4e4\", \"\\uc2dc\\uac04\", \"\\ud2b9\\ubcc4\", \"\\uafd4\", \"\\ubb63\", \"\\uc0ac\\ub791\", \"\\ub108\\ubb34\", \"\\ub0b4\", \"\\ud558\\ub298\", \"\\ub208\\ubb3c\", \"\\ub354\", \"\\uc798\", \"\\uc218\", \"\\ucc98\\uc74c\", \"\\uc2a4\\ud0c0\\uc77c\", \"\\ub54c\", \"\\uc6b0\\ub9ac\", \"\\uca4c\\ub801\", \"\\ubaa8\\ub450\", \"\\uba38\\ub9ac\", \"\\uc791\\uc5c5\", \"\\uccad\\ucd98\", \"\\uac70\\ubd80\", \"\\uc0c8\\ubcbd\", \"\\ubd04\\ub0a0\", \"\\uaca8\\uc6b8\", \"\\uc190\", \"\\uc870\\uae08\", \"\\uc6b0\\uc8fc\", \"\\uc6b4\\uba85\", \"\\ud568\\uaed8\", \"\\uc774\\uc0c1\", \"\\ubab8\", \"\\ub0a0\\uac1c\", \"\\uac83\", \"\\ubabb\", \"\\ub208\", \"\\ub2ec\\ucf64\", \"\\ud589\\ubcf5\", \"\\uc0ac\\uc18c\", \"\\uc0c1\\ucc98\"], \"x\": [-93.56376647949219, 46.76972961425781, -40.90812683105469, 39.096275329589844, -7.368649005889893, 4.166921615600586, -16.06179428100586, 17.522377014160156, -15.754544258117676, 22.426313400268555, 100.38343811035156, 0.22215448319911957, -70.46401977539062, -47.599876403808594, -34.29805374145508, 63.94516372680664, 43.224082946777344, -8.31491470336914, -17.027996063232422, 11.9325590133667, 61.75298309326172, -61.55463790893555, 12.15557861328125, 72.89191436767578, -67.27669525146484, 87.47669982910156, -0.9882624745368958, 52.132041931152344, -9.14887809753418, 17.943153381347656, -3.6832549571990967, 29.920198440551758, -23.351205825805664, -30.031734466552734, 15.972796440124512, -36.23902893066406, 5.340978622436523, -12.198431968688965, -77.26190185546875, -56.77584457397461, 32.73832321166992, 14.396312713623047, -21.46927261352539, 1.9863381385803223, 61.1882209777832, -85.38917541503906, -56.040687561035156, 27.954097747802734, -87.24545288085938, 47.502471923828125, 90.98775482177734, 1.6360350847244263, 20.94136619567871, 39.83251953125, -25.589561462402344], \"y\": [-11.062138557434082, -98.21603393554688, 8.078780174255371, -26.666833877563477, -7.778946876525879, 29.35211753845215, -33.28584671020508, -34.074378967285156, 28.944746017456055, 13.889799118041992, 18.80080795288086, 10.4962797164917, -11.445839881896973, -9.159992218017578, -43.003662109375, 2.8406789302825928, -0.41619500517845154, 49.0760383605957, -77.5, -58.55375671386719, -22.638174057006836, -64.9869155883789, 49.98385238647461, 22.457277297973633, 22.790842056274414, -4.8068318367004395, -102.36589813232422, -55.5359992980957, -57.058494567871094, 93.12315368652344, 68.52208709716797, -47.41209030151367, 67.08406066894531, 46.89154815673828, 68.6761703491211, 29.000076293945312, -76.79541015625, 95.99311828613281, -31.530630111694336, -30.301910400390625, 31.466094970703125, -7.504415988922119, 8.81640338897705, -21.208332061767578, 42.26206588745117, -52.29111099243164, 49.33121109008789, -71.12060546875, 22.966136932373047, 95.91555786132812, 63.557456970214844, -41.88359069824219, -101.22088623046875, 61.83898162841797, -16.431177139282227], \"type\": \"scatter\", \"uid\": \"f41ca0e7-9548-4c01-ad9a-48195e336f50\"}], {}, {\"showLink\": false, \"linkText\": \"Export to plot.ly\", \"plotlyServerURL\": \"https://plot.ly\"}); \n",
       "}\n",
       "});</script><script type=\"text/javascript\">window.addEventListener(\"resize\", function(){if (document.getElementById(\"e274272c-9e1f-41ea-9db5-0d6685d93d30\")) {window._Plotly.Plots.resize(document.getElementById(\"e274272c-9e1f-41ea-9db5-0d6685d93d30\"));};})</script>"
      ],
      "text/vnd.plotly.v1+html": [
       "<div id=\"e274272c-9e1f-41ea-9db5-0d6685d93d30\" style=\"height: 525px; width: 100%;\" class=\"plotly-graph-div\"></div><script type=\"text/javascript\">require([\"plotly\"], function(Plotly) { window.PLOTLYENV=window.PLOTLYENV || {};window.PLOTLYENV.BASE_URL=\"https://plot.ly\";\n",
       "if (document.getElementById(\"e274272c-9e1f-41ea-9db5-0d6685d93d30\")) {\n",
       "    Plotly.newPlot(\"e274272c-9e1f-41ea-9db5-0d6685d93d30\", [{\"mode\": \"text\", \"text\": [\"\\ub124\", \"\\uafc8\", \"\\uc544\\ubb34\", \"\\uc804\\ubd80\", \"\\uc788\\uc5b4\", \"\\uba40\\ub9ac\", \"\\ud558\\ub8e8\", \"\\ub9d0\", \"\\uc900\\ube44\", \"\\ubc8c\\uc368\", \"\\ub108\", \"\\uac70\\uc9d3\\ub9d0\", \"\\uc790\\uafb8\", \"\\ub9e4\\uc77c\", \"\\uc5b4\\ub978\\ub4e4\", \"\\uc2dc\\uac04\", \"\\ud2b9\\ubcc4\", \"\\uafd4\", \"\\ubb63\", \"\\uc0ac\\ub791\", \"\\ub108\\ubb34\", \"\\ub0b4\", \"\\ud558\\ub298\", \"\\ub208\\ubb3c\", \"\\ub354\", \"\\uc798\", \"\\uc218\", \"\\ucc98\\uc74c\", \"\\uc2a4\\ud0c0\\uc77c\", \"\\ub54c\", \"\\uc6b0\\ub9ac\", \"\\uca4c\\ub801\", \"\\ubaa8\\ub450\", \"\\uba38\\ub9ac\", \"\\uc791\\uc5c5\", \"\\uccad\\ucd98\", \"\\uac70\\ubd80\", \"\\uc0c8\\ubcbd\", \"\\ubd04\\ub0a0\", \"\\uaca8\\uc6b8\", \"\\uc190\", \"\\uc870\\uae08\", \"\\uc6b0\\uc8fc\", \"\\uc6b4\\uba85\", \"\\ud568\\uaed8\", \"\\uc774\\uc0c1\", \"\\ubab8\", \"\\ub0a0\\uac1c\", \"\\uac83\", \"\\ubabb\", \"\\ub208\", \"\\ub2ec\\ucf64\", \"\\ud589\\ubcf5\", \"\\uc0ac\\uc18c\", \"\\uc0c1\\ucc98\"], \"x\": [-93.56376647949219, 46.76972961425781, -40.90812683105469, 39.096275329589844, -7.368649005889893, 4.166921615600586, -16.06179428100586, 17.522377014160156, -15.754544258117676, 22.426313400268555, 100.38343811035156, 0.22215448319911957, -70.46401977539062, -47.599876403808594, -34.29805374145508, 63.94516372680664, 43.224082946777344, -8.31491470336914, -17.027996063232422, 11.9325590133667, 61.75298309326172, -61.55463790893555, 12.15557861328125, 72.89191436767578, -67.27669525146484, 87.47669982910156, -0.9882624745368958, 52.132041931152344, -9.14887809753418, 17.943153381347656, -3.6832549571990967, 29.920198440551758, -23.351205825805664, -30.031734466552734, 15.972796440124512, -36.23902893066406, 5.340978622436523, -12.198431968688965, -77.26190185546875, -56.77584457397461, 32.73832321166992, 14.396312713623047, -21.46927261352539, 1.9863381385803223, 61.1882209777832, -85.38917541503906, -56.040687561035156, 27.954097747802734, -87.24545288085938, 47.502471923828125, 90.98775482177734, 1.6360350847244263, 20.94136619567871, 39.83251953125, -25.589561462402344], \"y\": [-11.062138557434082, -98.21603393554688, 8.078780174255371, -26.666833877563477, -7.778946876525879, 29.35211753845215, -33.28584671020508, -34.074378967285156, 28.944746017456055, 13.889799118041992, 18.80080795288086, 10.4962797164917, -11.445839881896973, -9.159992218017578, -43.003662109375, 2.8406789302825928, -0.41619500517845154, 49.0760383605957, -77.5, -58.55375671386719, -22.638174057006836, -64.9869155883789, 49.98385238647461, 22.457277297973633, 22.790842056274414, -4.8068318367004395, -102.36589813232422, -55.5359992980957, -57.058494567871094, 93.12315368652344, 68.52208709716797, -47.41209030151367, 67.08406066894531, 46.89154815673828, 68.6761703491211, 29.000076293945312, -76.79541015625, 95.99311828613281, -31.530630111694336, -30.301910400390625, 31.466094970703125, -7.504415988922119, 8.81640338897705, -21.208332061767578, 42.26206588745117, -52.29111099243164, 49.33121109008789, -71.12060546875, 22.966136932373047, 95.91555786132812, 63.557456970214844, -41.88359069824219, -101.22088623046875, 61.83898162841797, -16.431177139282227], \"type\": \"scatter\", \"uid\": \"f41ca0e7-9548-4c01-ad9a-48195e336f50\"}], {}, {\"showLink\": false, \"linkText\": \"Export to plot.ly\", \"plotlyServerURL\": \"https://plot.ly\"}); \n",
       "}\n",
       "});</script><script type=\"text/javascript\">window.addEventListener(\"resize\", function(){if (document.getElementById(\"e274272c-9e1f-41ea-9db5-0d6685d93d30\")) {window._Plotly.Plots.resize(document.getElementById(\"e274272c-9e1f-41ea-9db5-0d6685d93d30\"));};})</script>"
      ]
     },
     "metadata": {},
     "output_type": "display_data"
    }
   ],
   "source": [
    "labels = [word for word in ft_ko.wv.vocab]\n",
    "vectors = [ft_ko.wv[word] for word in labels]\n",
    "\n",
    "d_labels = [decode(word) for word in labels]\n",
    "visualize_embeddings(vectors, d_labels)"
   ]
  },
  {
   "cell_type": "code",
   "execution_count": 122,
   "metadata": {},
   "outputs": [
    {
     "name": "stderr",
     "output_type": "stream",
     "text": [
      "2019-04-24 12:47:38,256 : INFO : starting tSNE dimensionality reduction. This may take some time.\n",
      "2019-04-24 12:47:38,518 : INFO : All done. Plotting.\n"
     ]
    },
    {
     "data": {
      "text/html": [
       "<script type=\"text/javascript\">window.PlotlyConfig = {MathJaxConfig: 'local'};</script><script type=\"text/javascript\">if (window.MathJax) {MathJax.Hub.Config({SVG: {font: \"STIX-Web\"}});}</script><script>requirejs.config({paths: { 'plotly': ['https://cdn.plot.ly/plotly-latest.min']},});if(!window._Plotly) {require(['plotly'],function(plotly) {window._Plotly=plotly;});}</script>"
      ],
      "text/vnd.plotly.v1+html": [
       "<script type=\"text/javascript\">window.PlotlyConfig = {MathJaxConfig: 'local'};</script><script type=\"text/javascript\">if (window.MathJax) {MathJax.Hub.Config({SVG: {font: \"STIX-Web\"}});}</script><script>requirejs.config({paths: { 'plotly': ['https://cdn.plot.ly/plotly-latest.min']},});if(!window._Plotly) {require(['plotly'],function(plotly) {window._Plotly=plotly;});}</script>"
      ]
     },
     "metadata": {},
     "output_type": "display_data"
    },
    {
     "data": {
      "application/vnd.plotly.v1+json": {
       "config": {
        "linkText": "Export to plot.ly",
        "plotlyServerURL": "https://plot.ly",
        "showLink": false
       },
       "data": [
        {
         "mode": "text",
         "text": [
          "네",
          "꿈",
          "아무",
          "전부",
          "있어",
          "멀리",
          "하루",
          "말",
          "준비",
          "벌써",
          "너",
          "거짓말",
          "자꾸",
          "매일",
          "어른들",
          "시간",
          "특별",
          "꿔",
          "뭣",
          "사랑",
          "너무",
          "내",
          "하늘",
          "눈물",
          "더",
          "잘",
          "수",
          "처음",
          "스타일",
          "때",
          "우리",
          "쩌렁",
          "모두",
          "머리",
          "작업",
          "청춘",
          "거부",
          "새벽",
          "봄날",
          "겨울",
          "손",
          "조금",
          "DNA",
          "우주",
          "운명",
          "함께",
          "이상",
          "몸",
          "날개",
          "것",
          "못",
          "눈",
          "달콤",
          "행복",
          "사소",
          "상처"
         ],
         "type": "scatter",
         "uid": "167674f8-5679-4988-85e3-e8b8ed9ed6ab",
         "x": [
          3.308845043182373,
          -6.086132526397705,
          -11.476419448852539,
          -9.276202201843262,
          1.3367526531219482,
          -2.5303049087524414,
          0.5409082174301147,
          -13.376008987426758,
          1.4005002975463867,
          -0.28288424015045166,
          -2.3786253929138184,
          0.19636622071266174,
          -8.298979759216309,
          -10.648207664489746,
          -9.222853660583496,
          -4.610686779022217,
          -11.130983352661133,
          -10.83510971069336,
          -2.8115341663360596,
          -0.999732255935669,
          -8.406349182128906,
          1.9202021360397339,
          -6.523144245147705,
          -8.701007843017578,
          2.110888957977295,
          -1.733329176902771,
          -8.821695327758789,
          -15.007879257202148,
          -3.625575065612793,
          -5.361465930938721,
          -11.462121963500977,
          -2.2509405612945557,
          -3.9593167304992676,
          2.8842968940734863,
          -10.5906343460083,
          -8.984954833984375,
          -8.195137977600098,
          -7.264566421508789,
          -1.5275185108184814,
          -13.198702812194824,
          -0.585798978805542,
          -7.600845813751221,
          -15.175349235534668,
          -10.407632827758789,
          -7.532392978668213,
          -5.781585693359375,
          -4.797737121582031,
          -0.7996014356613159,
          -5.414554119110107,
          -13.779187202453613,
          -3.6758124828338623,
          2.2290945053100586,
          -3.882152557373047,
          -5.231331825256348,
          -6.453011989593506,
          -7.562333106994629
         ],
         "y": [
          4.4067535400390625,
          15.000163078308105,
          3.6886348724365234,
          1.636673927307129,
          5.235160827636719,
          1.7916784286499023,
          10.017179489135742,
          8.681608200073242,
          -0.3152611553668976,
          3.9913477897644043,
          4.384537220001221,
          7.077455520629883,
          10.971455574035645,
          5.21026611328125,
          -1.0553045272827148,
          10.907979965209961,
          6.891592979431152,
          12.456993103027344,
          7.642206192016602,
          12.509066581726074,
          15.678749084472656,
          11.476028442382812,
          4.128660202026367,
          6.87951135635376,
          7.527099609375,
          15.807958602905273,
          7.853983402252197,
          9.395118713378906,
          -0.6792098879814148,
          -5.005090713500977,
          0.5868284106254578,
          6.649704933166504,
          2.5249805450439453,
          2.6063051223754883,
          13.765132904052734,
          3.250607490539551,
          4.956902027130127,
          1.3481512069702148,
          -2.0320582389831543,
          2.8568503856658936,
          4.890553951263428,
          8.566743850708008,
          6.827126979827881,
          11.030191421508789,
          14.994911193847656,
          7.259690284729004,
          -2.7636823654174805,
          10.112248420715332,
          2.7374801635742188,
          10.387733459472656,
          11.457965850830078,
          13.457696914672852,
          10.720498085021973,
          6.234510898590088,
          0.17712527513504028,
          11.08194637298584
         ]
        }
       ],
       "layout": {}
      },
      "text/html": [
       "<div id=\"c60436ea-34c3-4cc1-a213-668fcf667737\" style=\"height: 525px; width: 100%;\" class=\"plotly-graph-div\"></div><script type=\"text/javascript\">require([\"plotly\"], function(Plotly) { window.PLOTLYENV=window.PLOTLYENV || {};window.PLOTLYENV.BASE_URL=\"https://plot.ly\";\n",
       "if (document.getElementById(\"c60436ea-34c3-4cc1-a213-668fcf667737\")) {\n",
       "    Plotly.newPlot(\"c60436ea-34c3-4cc1-a213-668fcf667737\", [{\"mode\": \"text\", \"text\": [\"\\ub124\", \"\\uafc8\", \"\\uc544\\ubb34\", \"\\uc804\\ubd80\", \"\\uc788\\uc5b4\", \"\\uba40\\ub9ac\", \"\\ud558\\ub8e8\", \"\\ub9d0\", \"\\uc900\\ube44\", \"\\ubc8c\\uc368\", \"\\ub108\", \"\\uac70\\uc9d3\\ub9d0\", \"\\uc790\\uafb8\", \"\\ub9e4\\uc77c\", \"\\uc5b4\\ub978\\ub4e4\", \"\\uc2dc\\uac04\", \"\\ud2b9\\ubcc4\", \"\\uafd4\", \"\\ubb63\", \"\\uc0ac\\ub791\", \"\\ub108\\ubb34\", \"\\ub0b4\", \"\\ud558\\ub298\", \"\\ub208\\ubb3c\", \"\\ub354\", \"\\uc798\", \"\\uc218\", \"\\ucc98\\uc74c\", \"\\uc2a4\\ud0c0\\uc77c\", \"\\ub54c\", \"\\uc6b0\\ub9ac\", \"\\uca4c\\ub801\", \"\\ubaa8\\ub450\", \"\\uba38\\ub9ac\", \"\\uc791\\uc5c5\", \"\\uccad\\ucd98\", \"\\uac70\\ubd80\", \"\\uc0c8\\ubcbd\", \"\\ubd04\\ub0a0\", \"\\uaca8\\uc6b8\", \"\\uc190\", \"\\uc870\\uae08\", \"DNA\", \"\\uc6b0\\uc8fc\", \"\\uc6b4\\uba85\", \"\\ud568\\uaed8\", \"\\uc774\\uc0c1\", \"\\ubab8\", \"\\ub0a0\\uac1c\", \"\\uac83\", \"\\ubabb\", \"\\ub208\", \"\\ub2ec\\ucf64\", \"\\ud589\\ubcf5\", \"\\uc0ac\\uc18c\", \"\\uc0c1\\ucc98\"], \"x\": [3.308845043182373, -6.086132526397705, -11.476419448852539, -9.276202201843262, 1.3367526531219482, -2.5303049087524414, 0.5409082174301147, -13.376008987426758, 1.4005002975463867, -0.28288424015045166, -2.3786253929138184, 0.19636622071266174, -8.298979759216309, -10.648207664489746, -9.222853660583496, -4.610686779022217, -11.130983352661133, -10.83510971069336, -2.8115341663360596, -0.999732255935669, -8.406349182128906, 1.9202021360397339, -6.523144245147705, -8.701007843017578, 2.110888957977295, -1.733329176902771, -8.821695327758789, -15.007879257202148, -3.625575065612793, -5.361465930938721, -11.462121963500977, -2.2509405612945557, -3.9593167304992676, 2.8842968940734863, -10.5906343460083, -8.984954833984375, -8.195137977600098, -7.264566421508789, -1.5275185108184814, -13.198702812194824, -0.585798978805542, -7.600845813751221, -15.175349235534668, -10.407632827758789, -7.532392978668213, -5.781585693359375, -4.797737121582031, -0.7996014356613159, -5.414554119110107, -13.779187202453613, -3.6758124828338623, 2.2290945053100586, -3.882152557373047, -5.231331825256348, -6.453011989593506, -7.562333106994629], \"y\": [4.4067535400390625, 15.000163078308105, 3.6886348724365234, 1.636673927307129, 5.235160827636719, 1.7916784286499023, 10.017179489135742, 8.681608200073242, -0.3152611553668976, 3.9913477897644043, 4.384537220001221, 7.077455520629883, 10.971455574035645, 5.21026611328125, -1.0553045272827148, 10.907979965209961, 6.891592979431152, 12.456993103027344, 7.642206192016602, 12.509066581726074, 15.678749084472656, 11.476028442382812, 4.128660202026367, 6.87951135635376, 7.527099609375, 15.807958602905273, 7.853983402252197, 9.395118713378906, -0.6792098879814148, -5.005090713500977, 0.5868284106254578, 6.649704933166504, 2.5249805450439453, 2.6063051223754883, 13.765132904052734, 3.250607490539551, 4.956902027130127, 1.3481512069702148, -2.0320582389831543, 2.8568503856658936, 4.890553951263428, 8.566743850708008, 6.827126979827881, 11.030191421508789, 14.994911193847656, 7.259690284729004, -2.7636823654174805, 10.112248420715332, 2.7374801635742188, 10.387733459472656, 11.457965850830078, 13.457696914672852, 10.720498085021973, 6.234510898590088, 0.17712527513504028, 11.08194637298584], \"type\": \"scatter\", \"uid\": \"b51a7e87-bead-46ef-9e72-cae98c77130e\"}], {}, {\"showLink\": false, \"linkText\": \"Export to plot.ly\", \"plotlyServerURL\": \"https://plot.ly\"}); \n",
       "}\n",
       "});</script><script type=\"text/javascript\">window.addEventListener(\"resize\", function(){if (document.getElementById(\"c60436ea-34c3-4cc1-a213-668fcf667737\")) {window._Plotly.Plots.resize(document.getElementById(\"c60436ea-34c3-4cc1-a213-668fcf667737\"));};})</script>"
      ],
      "text/vnd.plotly.v1+html": [
       "<div id=\"c60436ea-34c3-4cc1-a213-668fcf667737\" style=\"height: 525px; width: 100%;\" class=\"plotly-graph-div\"></div><script type=\"text/javascript\">require([\"plotly\"], function(Plotly) { window.PLOTLYENV=window.PLOTLYENV || {};window.PLOTLYENV.BASE_URL=\"https://plot.ly\";\n",
       "if (document.getElementById(\"c60436ea-34c3-4cc1-a213-668fcf667737\")) {\n",
       "    Plotly.newPlot(\"c60436ea-34c3-4cc1-a213-668fcf667737\", [{\"mode\": \"text\", \"text\": [\"\\ub124\", \"\\uafc8\", \"\\uc544\\ubb34\", \"\\uc804\\ubd80\", \"\\uc788\\uc5b4\", \"\\uba40\\ub9ac\", \"\\ud558\\ub8e8\", \"\\ub9d0\", \"\\uc900\\ube44\", \"\\ubc8c\\uc368\", \"\\ub108\", \"\\uac70\\uc9d3\\ub9d0\", \"\\uc790\\uafb8\", \"\\ub9e4\\uc77c\", \"\\uc5b4\\ub978\\ub4e4\", \"\\uc2dc\\uac04\", \"\\ud2b9\\ubcc4\", \"\\uafd4\", \"\\ubb63\", \"\\uc0ac\\ub791\", \"\\ub108\\ubb34\", \"\\ub0b4\", \"\\ud558\\ub298\", \"\\ub208\\ubb3c\", \"\\ub354\", \"\\uc798\", \"\\uc218\", \"\\ucc98\\uc74c\", \"\\uc2a4\\ud0c0\\uc77c\", \"\\ub54c\", \"\\uc6b0\\ub9ac\", \"\\uca4c\\ub801\", \"\\ubaa8\\ub450\", \"\\uba38\\ub9ac\", \"\\uc791\\uc5c5\", \"\\uccad\\ucd98\", \"\\uac70\\ubd80\", \"\\uc0c8\\ubcbd\", \"\\ubd04\\ub0a0\", \"\\uaca8\\uc6b8\", \"\\uc190\", \"\\uc870\\uae08\", \"DNA\", \"\\uc6b0\\uc8fc\", \"\\uc6b4\\uba85\", \"\\ud568\\uaed8\", \"\\uc774\\uc0c1\", \"\\ubab8\", \"\\ub0a0\\uac1c\", \"\\uac83\", \"\\ubabb\", \"\\ub208\", \"\\ub2ec\\ucf64\", \"\\ud589\\ubcf5\", \"\\uc0ac\\uc18c\", \"\\uc0c1\\ucc98\"], \"x\": [3.308845043182373, -6.086132526397705, -11.476419448852539, -9.276202201843262, 1.3367526531219482, -2.5303049087524414, 0.5409082174301147, -13.376008987426758, 1.4005002975463867, -0.28288424015045166, -2.3786253929138184, 0.19636622071266174, -8.298979759216309, -10.648207664489746, -9.222853660583496, -4.610686779022217, -11.130983352661133, -10.83510971069336, -2.8115341663360596, -0.999732255935669, -8.406349182128906, 1.9202021360397339, -6.523144245147705, -8.701007843017578, 2.110888957977295, -1.733329176902771, -8.821695327758789, -15.007879257202148, -3.625575065612793, -5.361465930938721, -11.462121963500977, -2.2509405612945557, -3.9593167304992676, 2.8842968940734863, -10.5906343460083, -8.984954833984375, -8.195137977600098, -7.264566421508789, -1.5275185108184814, -13.198702812194824, -0.585798978805542, -7.600845813751221, -15.175349235534668, -10.407632827758789, -7.532392978668213, -5.781585693359375, -4.797737121582031, -0.7996014356613159, -5.414554119110107, -13.779187202453613, -3.6758124828338623, 2.2290945053100586, -3.882152557373047, -5.231331825256348, -6.453011989593506, -7.562333106994629], \"y\": [4.4067535400390625, 15.000163078308105, 3.6886348724365234, 1.636673927307129, 5.235160827636719, 1.7916784286499023, 10.017179489135742, 8.681608200073242, -0.3152611553668976, 3.9913477897644043, 4.384537220001221, 7.077455520629883, 10.971455574035645, 5.21026611328125, -1.0553045272827148, 10.907979965209961, 6.891592979431152, 12.456993103027344, 7.642206192016602, 12.509066581726074, 15.678749084472656, 11.476028442382812, 4.128660202026367, 6.87951135635376, 7.527099609375, 15.807958602905273, 7.853983402252197, 9.395118713378906, -0.6792098879814148, -5.005090713500977, 0.5868284106254578, 6.649704933166504, 2.5249805450439453, 2.6063051223754883, 13.765132904052734, 3.250607490539551, 4.956902027130127, 1.3481512069702148, -2.0320582389831543, 2.8568503856658936, 4.890553951263428, 8.566743850708008, 6.827126979827881, 11.030191421508789, 14.994911193847656, 7.259690284729004, -2.7636823654174805, 10.112248420715332, 2.7374801635742188, 10.387733459472656, 11.457965850830078, 13.457696914672852, 10.720498085021973, 6.234510898590088, 0.17712527513504028, 11.08194637298584], \"type\": \"scatter\", \"uid\": \"b51a7e87-bead-46ef-9e72-cae98c77130e\"}], {}, {\"showLink\": false, \"linkText\": \"Export to plot.ly\", \"plotlyServerURL\": \"https://plot.ly\"}); \n",
       "}\n",
       "});</script><script type=\"text/javascript\">window.addEventListener(\"resize\", function(){if (document.getElementById(\"c60436ea-34c3-4cc1-a213-668fcf667737\")) {window._Plotly.Plots.resize(document.getElementById(\"c60436ea-34c3-4cc1-a213-668fcf667737\"));};})</script>"
      ]
     },
     "metadata": {},
     "output_type": "display_data"
    }
   ],
   "source": [
    "# Word2Vec도 다시 그려서 위의 그림과 비교해보자\n",
    "labels = [word for word in w2v_ko.wv.vocab]\n",
    "vectors = [w2v_ko.wv[word] for word in labels]\n",
    "\n",
    "visualize_embeddings(vectors, labels)"
   ]
  },
  {
   "cell_type": "markdown",
   "metadata": {},
   "source": [
    "-----------------------------------"
   ]
  },
  {
   "cell_type": "markdown",
   "metadata": {},
   "source": [
    "### Pretrained Embedding Vectors"
   ]
  },
  {
   "cell_type": "markdown",
   "metadata": {},
   "source": [
    "#### pretrained_word2vec_en"
   ]
  },
  {
   "cell_type": "markdown",
   "metadata": {},
   "source": [
    "* 출처 - https://gist.github.com/ruxi/5d6803c116ec1130d484a4ab8c00c603\n",
    "* 출처 - https://sumit-ghosh.com/articles/python-download-progress-bar/"
   ]
  },
  {
   "cell_type": "code",
   "execution_count": 584,
   "metadata": {},
   "outputs": [
    {
     "name": "stdout",
     "output_type": "stream",
     "text": [
      "https://s3.amazonaws.com/dl4j-distribution/GoogleNews-vectors-negative300.bin.gz\n",
      "GoogleNews-vectors-negative300.bin.gz\n"
     ]
    }
   ],
   "source": [
    "import os\n",
    "\n",
    "url = \"https://s3.amazonaws.com/dl4j-distribution/GoogleNews-vectors-negative300.bin.gz\"\n",
    "print(url)\n",
    "\n",
    "filename = os.path.basename(url)\n",
    "print(filename)"
   ]
  },
  {
   "cell_type": "code",
   "execution_count": 592,
   "metadata": {},
   "outputs": [],
   "source": [
    "import sys\n",
    "import requests\n",
    "\n",
    "def download(url, filename) :\n",
    "    r = requests.get(url, stream=True)\n",
    "    if r.status_code == 200:\n",
    "        with open(filename, 'wb') as f:\n",
    "            downloaded = 0\n",
    "            total = int(r.headers.get('content-length'))\n",
    "            print(\"[*] Downloading file of size %0.2f MB\" %(total/(1024*1024)))\n",
    "            for data in r.iter_content(chunk_size=max(int(total/1000), 1024*1024)):\n",
    "                downloaded += len(data)\n",
    "                f.write(data)\n",
    "                done = int(50*downloaded/total)\n",
    "                sys.stdout.write('\\r[{}{}]'.format('█' * done, '.' * (50-done)))\n",
    "                sys.stdout.flush()\n",
    "            print(\"\\n[*] Done! : %s\" %(filename))"
   ]
  },
  {
   "cell_type": "code",
   "execution_count": 593,
   "metadata": {},
   "outputs": [
    {
     "name": "stdout",
     "output_type": "stream",
     "text": [
      "[*] Downloading file of size 1570.75 MB\n",
      "[██████████████████████████████████████████████████][*] Done! : GoogleNews-vectors-negative300.bin.gz\n"
     ]
    }
   ],
   "source": [
    "download(url, filename)"
   ]
  },
  {
   "cell_type": "code",
   "execution_count": 594,
   "metadata": {},
   "outputs": [
    {
     "name": "stdout",
     "output_type": "stream",
     "text": [
      "GoogleNews-vectors-negative300.bin.gz\r\n"
     ]
    }
   ],
   "source": [
    "%ls GoogleNews-vectors-negative300.bin.gz"
   ]
  },
  {
   "cell_type": "code",
   "execution_count": 595,
   "metadata": {},
   "outputs": [],
   "source": [
    "import gzip\n",
    "import shutil\n",
    "with gzip.open('GoogleNews-vectors-negative300.bin.gz', 'rb') as f_in:\n",
    "    with open('GoogleNews-vectors-negative300.bin', 'wb') as f_out:\n",
    "        shutil.copyfileobj(f_in, f_out)"
   ]
  },
  {
   "cell_type": "code",
   "execution_count": 123,
   "metadata": {},
   "outputs": [
    {
     "name": "stdout",
     "output_type": "stream",
     "text": [
      "GoogleNews-vectors-negative300.bin\r\n"
     ]
    }
   ],
   "source": [
    "%ls GoogleNews-vectors-negative300.bin"
   ]
  },
  {
   "cell_type": "code",
   "execution_count": 150,
   "metadata": {},
   "outputs": [
    {
     "name": "stderr",
     "output_type": "stream",
     "text": [
      "2019-04-24 13:15:01,160 : INFO : loading projection weights from ./GoogleNews-vectors-negative300.bin\n",
      "2019-04-24 13:15:55,646 : INFO : loaded (3000000, 300) matrix from ./GoogleNews-vectors-negative300.bin\n"
     ]
    }
   ],
   "source": [
    "# 구글의 이미 훈련된 Word2vec 모델을 로드합니다.\n",
    "pre_w3v_en = gensim.models.KeyedVectors.load_word2vec_format('./GoogleNews-vectors-negative300.bin', binary=True)  "
   ]
  },
  {
   "cell_type": "code",
   "execution_count": 599,
   "metadata": {},
   "outputs": [
    {
     "name": "stdout",
     "output_type": "stream",
     "text": [
      "0.40797036387785435\n",
      "0.057204389197708934\n"
     ]
    }
   ],
   "source": [
    "print (pre_w3v_en.similarity('this', 'is')) #유사도 계산하기\n",
    "print (pre_w3v_en.similarity('post', 'book'))"
   ]
  },
  {
   "cell_type": "markdown",
   "metadata": {},
   "source": [
    "#### pretrained_word2vec_ko"
   ]
  },
  {
   "cell_type": "code",
   "execution_count": 128,
   "metadata": {},
   "outputs": [
    {
     "name": "stdout",
     "output_type": "stream",
     "text": [
      "https://drive.google.com/file/d/0B0ZXk88koS2KbDhXdWg1Q2RydlU/view\n",
      "0B0ZXk88koS2KbDhXdWg1Q2RydlU\n",
      "ko.zip\n"
     ]
    }
   ],
   "source": [
    "url = \"https://drive.google.com/file/d/0B0ZXk88koS2KbDhXdWg1Q2RydlU/view\"\n",
    "print(url)\n",
    "\n",
    "file_id = url.split(\"/\")[5]\n",
    "print(file_id)\n",
    "\n",
    "filename = \"ko.zip\"\n",
    "print(filename)"
   ]
  },
  {
   "cell_type": "code",
   "execution_count": 129,
   "metadata": {},
   "outputs": [],
   "source": [
    "import sys\n",
    "import requests\n",
    "\n",
    "def download_from_gd(file_id, filename) :\n",
    "    def get_confirm_token(response):\n",
    "        for key, value in response.cookies.items():\n",
    "            if key.startswith('download_warning'):\n",
    "                return value\n",
    "        return None\n",
    "    \n",
    "    export_url = \"https://docs.google.com/uc?export=download\"\n",
    "    \n",
    "    \n",
    "    session = requests.Session()\n",
    "    \n",
    "    r = session.get(export_url, params = { 'id' : file_id }, stream = True)\n",
    "    token = get_confirm_token(r)\n",
    " \n",
    "    if token:\n",
    "        params = { 'id' : file_id, 'confirm' : token }\n",
    "        r = session.get(export_url, params = params, stream = True)\n",
    "\n",
    "    if r.status_code == 200:\n",
    "        with open(filename, 'wb') as f:\n",
    "            downloaded = 0\n",
    "            chunk_size = 1024*1024\n",
    "            expected_total = 1024*1024*1024 # 구글 드라이브의 파일 크기를 미리 알수가 없어서 일단 짐작한 최대값\n",
    "            print(\"[*] Downloading file\")\n",
    "            for data in r.iter_content(chunk_size=chunk_size):\n",
    "                downloaded += len(data)\n",
    "                f.write(data)\n",
    "                done = int(50*downloaded/expected_total)\n",
    "                sys.stdout.write('\\r[{}{}]'.format('█' * done, '.' * (50-done)))\n",
    "                sys.stdout.flush()\n",
    "            print(\"\\n[*] Done! : %s\" %(filename))"
   ]
  },
  {
   "cell_type": "code",
   "execution_count": 130,
   "metadata": {},
   "outputs": [
    {
     "name": "stdout",
     "output_type": "stream",
     "text": [
      "[*] Downloading file\n",
      "[███...............................................]\n",
      "[*] Done! : ko.zip\n"
     ]
    }
   ],
   "source": [
    "download_from_gd(file_id, filename)"
   ]
  },
  {
   "cell_type": "code",
   "execution_count": 131,
   "metadata": {},
   "outputs": [
    {
     "name": "stdout",
     "output_type": "stream",
     "text": [
      "ko.zip\r\n"
     ]
    }
   ],
   "source": [
    "%ls ko.zip"
   ]
  },
  {
   "cell_type": "code",
   "execution_count": 151,
   "metadata": {},
   "outputs": [],
   "source": [
    "import zipfile\n",
    "\n",
    "with zipfile.ZipFile('ko.zip') as f :\n",
    "    f.extractall()"
   ]
  },
  {
   "cell_type": "code",
   "execution_count": 152,
   "metadata": {},
   "outputs": [
    {
     "name": "stdout",
     "output_type": "stream",
     "text": [
      "ko.bin\r\n"
     ]
    }
   ],
   "source": [
    "%ls ko.bin"
   ]
  },
  {
   "cell_type": "code",
   "execution_count": 155,
   "metadata": {},
   "outputs": [
    {
     "name": "stderr",
     "output_type": "stream",
     "text": [
      "2019-04-24 13:18:08,357 : INFO : loading Word2Vec object from ./ko_test/ko.bin\n",
      "2019-04-24 13:18:08,490 : INFO : setting ignored attribute syn0norm to None\n",
      "2019-04-24 13:18:08,491 : INFO : setting ignored attribute cum_table to None\n",
      "2019-04-24 13:18:08,491 : INFO : Model saved using code from earlier Gensim Version. Re-loading old model in a compatible way.\n",
      "2019-04-24 13:18:08,492 : INFO : loading Word2Vec object from ./ko_test/ko.bin\n",
      "2019-04-24 13:18:08,659 : INFO : setting ignored attribute syn0norm to None\n",
      "2019-04-24 13:18:08,660 : INFO : setting ignored attribute cum_table to None\n",
      "2019-04-24 13:18:08,661 : INFO : loaded ./ko_test/ko.bin\n"
     ]
    }
   ],
   "source": [
    "pre_w2v_ko = gensim.models.Word2Vec.load('./ko_test/ko.bin')"
   ]
  },
  {
   "cell_type": "code",
   "execution_count": 160,
   "metadata": {},
   "outputs": [
    {
     "data": {
      "text/plain": [
       "30185"
      ]
     },
     "execution_count": 160,
     "metadata": {},
     "output_type": "execute_result"
    }
   ],
   "source": [
    "len(pre_w2v_ko.wv.vocab)"
   ]
  },
  {
   "cell_type": "code",
   "execution_count": 161,
   "metadata": {},
   "outputs": [
    {
     "data": {
      "text/plain": [
       "[('악몽', 0.7079963088035583),\n",
       " ('추억', 0.6270706653594971),\n",
       " ('인생', 0.6058046817779541),\n",
       " ('기쁨', 0.6004041433334351),\n",
       " ('슬픔', 0.5839943289756775),\n",
       " ('사랑', 0.5595846772193909),\n",
       " ('모험', 0.5539158582687378),\n",
       " ('세상', 0.5527089834213257),\n",
       " ('영혼', 0.5516546964645386),\n",
       " ('젊음', 0.5381123423576355)]"
      ]
     },
     "execution_count": 161,
     "metadata": {},
     "output_type": "execute_result"
    }
   ],
   "source": [
    "pre_w2v_ko.wv.most_similar(\"꿈\")"
   ]
  },
  {
   "cell_type": "code",
   "execution_count": 162,
   "metadata": {},
   "outputs": [
    {
     "data": {
      "text/plain": [
       "[('달콤', 0.24754555523395538),\n",
       " ('운명', 0.18756765127182007),\n",
       " ('함께', 0.17859138548374176),\n",
       " ('작업', 0.14794304966926575),\n",
       " ('겨울', 0.14368122816085815),\n",
       " ('너무', 0.13617847859859467),\n",
       " ('사소', 0.1247742623090744),\n",
       " ('있어', 0.1094120442867279),\n",
       " ('잘', 0.0965697392821312),\n",
       " ('사랑', 0.09010681509971619)]"
      ]
     },
     "execution_count": 162,
     "metadata": {},
     "output_type": "execute_result"
    }
   ],
   "source": [
    "w2v_ko.wv.most_similar(\"꿈\")"
   ]
  },
  {
   "cell_type": "markdown",
   "metadata": {},
   "source": [
    "----------------------------"
   ]
  },
  {
   "cell_type": "markdown",
   "metadata": {},
   "source": [
    "## Sentence Embeding"
   ]
  },
  {
   "cell_type": "markdown",
   "metadata": {},
   "source": [
    "--------------------------"
   ]
  },
  {
   "cell_type": "markdown",
   "metadata": {},
   "source": [
    "# 참고자료 \n",
    "* Applied Text Analysis with Python: Enabling Language-Aware Data Products with Machine Learning - https://www.amazon.com/Applied-Text-Analysis-Python-Language-Aware/dp/1491963042/\n",
    "* Natural Language Processing - https://www.coursera.org/learn/language-processing / Main approaches in NLP\n",
    "* http://git.ajou.ac.kr/open-source-2018-spring/python_Korean_NLP/blob/master/README.md\n",
    "* https://github.com/lovit/soynlp\n",
    "* https://github.com/lovit/textmining-tutorial\n",
    "* https://github.com/lovit/textmining-tutorial/blob/master/topics/topic4_embedding/word_document_embedding.pdf\n",
    "* https://github.com/lovit/python_ml4nlp\n",
    "* https://github.com/lovit/python_ml4nlp/blob/master/day5_embedding_and_visualizing/day_5_4_fasttext_gensim.ipynb"
   ]
  }
 ],
 "metadata": {
  "kernelspec": {
   "display_name": "Python 3",
   "language": "python",
   "name": "python3"
  },
  "language_info": {
   "codemirror_mode": {
    "name": "ipython",
    "version": 3
   },
   "file_extension": ".py",
   "mimetype": "text/x-python",
   "name": "python",
   "nbconvert_exporter": "python",
   "pygments_lexer": "ipython3",
   "version": "3.7.3"
  }
 },
 "nbformat": 4,
 "nbformat_minor": 2
}
