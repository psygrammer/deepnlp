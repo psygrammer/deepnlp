{
 "cells": [
  {
   "cell_type": "markdown",
   "metadata": {},
   "source": [
    "# 02_a. Machine Learnig & DeepLearning Basic"
   ]
  },
  {
   "cell_type": "markdown",
   "metadata": {},
   "source": [
    "# 차례\n",
    "* Tensorflow 간단 소개\n",
    "* Machine Learning & DeepLearng 기초\n",
    "    - Classify image - 첫 번째 신경망 훈련하기: 기초적인 분류 문제\n",
    "    - Classify text - 영화 리뷰를 사용한 텍스트 분류\n",
    "    - Overfittig and underfitting"
   ]
  },
  {
   "cell_type": "markdown",
   "metadata": {},
   "source": [
    "--------------------------------"
   ]
  },
  {
   "cell_type": "markdown",
   "metadata": {},
   "source": [
    "# Tensorflow 간단 소개\n",
    "* 설치\n",
    "* Eager Execution"
   ]
  },
  {
   "cell_type": "markdown",
   "metadata": {},
   "source": [
    "<img src=\"https://cdn-images-1.medium.com/max/1600/0*fJ5u2WE51Oz44dr_\" width=600 />"
   ]
  },
  {
   "cell_type": "markdown",
   "metadata": {},
   "source": [
    "* 출처 - https://medium.com/tensorflow/whats-coming-in-tensorflow-2-0-d3663832e9b8"
   ]
  },
  {
   "cell_type": "markdown",
   "metadata": {},
   "source": [
    "<img src=\"https://qph.fs.quoracdn.net/main-qimg-27cbf5c6c55a90a6a1b886ab2591181d\" width=600 />"
   ]
  },
  {
   "cell_type": "markdown",
   "metadata": {},
   "source": [
    "* 출처 - https://www.quora.com/Are-the-new-changes-in-TensorFlow-2-0-going-to-shift-PyTorch-users-to-TF"
   ]
  },
  {
   "cell_type": "markdown",
   "metadata": {},
   "source": [
    "<img src=\"https://cdn-images-1.medium.com/max/1600/1*2mI_CfSOhyl0if-o-d7O4A.png\" width=600 />"
   ]
  },
  {
   "cell_type": "markdown",
   "metadata": {},
   "source": [
    "* 출처 - https://hackernoon.com/machine-learning-with-tensorflow-8873fdee2b68"
   ]
  },
  {
   "cell_type": "markdown",
   "metadata": {},
   "source": [
    "<img src=\"http://www.programmersought.com/images/167/2cd5104b17840ea66da114eb3abcb147.png\" width=600 />"
   ]
  },
  {
   "cell_type": "markdown",
   "metadata": {},
   "source": [
    "<img src=\"http://www.programmersought.com/images/297/4f09fc42fee15c482c1e7e166c7a0e39.png\" width=600 />"
   ]
  },
  {
   "cell_type": "markdown",
   "metadata": {},
   "source": [
    "<img src=\"http://www.programmersought.com/images/894/38fdf5666bb96ce632a556f4534fb97e.png\" width=600 />"
   ]
  },
  {
   "cell_type": "markdown",
   "metadata": {},
   "source": [
    "2.0에서는 eager_execution이 기본 모드가 됨.\n",
    "\n",
    "<img src=\"http://www.programmersought.com/images/710/f7e4ace6dffee68ddc0b948bbdc5bece.png\" width=600 />"
   ]
  },
  {
   "cell_type": "markdown",
   "metadata": {},
   "source": [
    "* 출처 - http://www.programmersought.com/article/8939513649/"
   ]
  },
  {
   "cell_type": "markdown",
   "metadata": {},
   "source": [
    "## 설치\n",
    "* 현재 실습 환경에서는 이미 설치되어 있다.\n",
    "* 하지만 만약 새로 환경을 구성한다면 보통 아래와 같이 pip를 통해 쉽게 설치할 수 있다. "
   ]
  },
  {
   "cell_type": "markdown",
   "metadata": {},
   "source": [
    "```shell\n",
    "from __future__ import absolute_import, division, print_function, unicode_literals\n",
    "\n",
    "!pip install tensorflow-gpu==2.0.0-alpha0 # colab을 쓴다면 구글 tpu의 지원을 받기 때문에 가능하다. \n",
    "                                          # 개인 컴퓨터나 서버라면 gpu가 셋팅되어 있을 때만 가능\n",
    "\n",
    "!pip install tensorflow==2.0.0-alpha0 # gpu가 셋팅되어 있지 않다면 이걸로 설치    \n",
    "```"
   ]
  },
  {
   "cell_type": "markdown",
   "metadata": {},
   "source": [
    "---------------------------"
   ]
  },
  {
   "cell_type": "code",
   "execution_count": 1,
   "metadata": {},
   "outputs": [
    {
     "name": "stdout",
     "output_type": "stream",
     "text": [
      "2.0.0-alpha0\n"
     ]
    }
   ],
   "source": [
    "import tensorflow as tf\n",
    "\n",
    "print(tf.__version__)"
   ]
  },
  {
   "cell_type": "markdown",
   "metadata": {},
   "source": [
    "## Eager Execution\n",
    "* Setup and basic usage\n",
    "* Dynamic control flow\n",
    "* Build a model\n",
    "* Eager training"
   ]
  },
  {
   "cell_type": "markdown",
   "metadata": {},
   "source": [
    "## Setup and basic usage"
   ]
  },
  {
   "cell_type": "code",
   "execution_count": 2,
   "metadata": {},
   "outputs": [
    {
     "data": {
      "text/plain": [
       "True"
      ]
     },
     "execution_count": 2,
     "metadata": {},
     "output_type": "execute_result"
    }
   ],
   "source": [
    "# In Tensorflow 2.0, eager execution is enabled by default.\n",
    "tf.executing_eagerly()"
   ]
  },
  {
   "cell_type": "code",
   "execution_count": 3,
   "metadata": {},
   "outputs": [
    {
     "name": "stdout",
     "output_type": "stream",
     "text": [
      "hello, [[4.]]\n"
     ]
    }
   ],
   "source": [
    "x = [[2.]]\n",
    "m = tf.matmul(x, x)\n",
    "print(\"hello, {}\".format(m))"
   ]
  },
  {
   "cell_type": "code",
   "execution_count": 4,
   "metadata": {},
   "outputs": [
    {
     "name": "stdout",
     "output_type": "stream",
     "text": [
      "tf.Tensor(\n",
      "[[1 2]\n",
      " [3 4]], shape=(2, 2), dtype=int32)\n"
     ]
    }
   ],
   "source": [
    "a = tf.constant([[1, 2],\n",
    "                 [3, 4]])\n",
    "print(a)"
   ]
  },
  {
   "cell_type": "code",
   "execution_count": 5,
   "metadata": {},
   "outputs": [
    {
     "name": "stdout",
     "output_type": "stream",
     "text": [
      "tf.Tensor(\n",
      "[[2 3]\n",
      " [4 5]], shape=(2, 2), dtype=int32)\n"
     ]
    }
   ],
   "source": [
    "# Broadcasting support\n",
    "b = tf.add(a, 1)\n",
    "print(b)"
   ]
  },
  {
   "cell_type": "code",
   "execution_count": 6,
   "metadata": {},
   "outputs": [
    {
     "name": "stdout",
     "output_type": "stream",
     "text": [
      "tf.Tensor(\n",
      "[[ 2  6]\n",
      " [12 20]], shape=(2, 2), dtype=int32)\n"
     ]
    }
   ],
   "source": [
    "# Operator overloading is supported\n",
    "print(a * b)"
   ]
  },
  {
   "cell_type": "code",
   "execution_count": 7,
   "metadata": {},
   "outputs": [
    {
     "name": "stdout",
     "output_type": "stream",
     "text": [
      "[[ 2  6]\n",
      " [12 20]]\n"
     ]
    }
   ],
   "source": [
    "# Use NumPy values\n",
    "import numpy as np\n",
    "\n",
    "c = np.multiply(a, b)\n",
    "print(c)"
   ]
  },
  {
   "cell_type": "code",
   "execution_count": 8,
   "metadata": {},
   "outputs": [
    {
     "name": "stdout",
     "output_type": "stream",
     "text": [
      "[[1 2]\n",
      " [3 4]]\n"
     ]
    }
   ],
   "source": [
    "# Obtain numpy value from a tensor:\n",
    "print(a.numpy())\n",
    "# => [[1 2]\n",
    "#     [3 4]]"
   ]
  },
  {
   "cell_type": "markdown",
   "metadata": {},
   "source": [
    "### Dynamic control flow"
   ]
  },
  {
   "cell_type": "markdown",
   "metadata": {},
   "source": [
    "A major benefit of eager execution is that all the functionality of the host language is available while your model is executing. So, for example, it is easy to write fizzbuzz"
   ]
  },
  {
   "cell_type": "code",
   "execution_count": 9,
   "metadata": {},
   "outputs": [],
   "source": [
    "def fizzbuzz(max_num):\n",
    "  counter = tf.constant(0)\n",
    "  max_num = tf.convert_to_tensor(max_num)\n",
    "  for num in range(1, max_num.numpy()+1):\n",
    "    num = tf.constant(num)\n",
    "    if int(num % 3) == 0 and int(num % 5) == 0:\n",
    "      print('FizzBuzz')\n",
    "    elif int(num % 3) == 0:\n",
    "      print('Fizz')\n",
    "    elif int(num % 5) == 0:\n",
    "      print('Buzz')\n",
    "    else:\n",
    "      print(num.numpy())\n",
    "    counter += 1"
   ]
  },
  {
   "cell_type": "code",
   "execution_count": 10,
   "metadata": {},
   "outputs": [
    {
     "name": "stdout",
     "output_type": "stream",
     "text": [
      "1\n",
      "2\n",
      "Fizz\n",
      "4\n",
      "Buzz\n",
      "Fizz\n",
      "7\n",
      "8\n",
      "Fizz\n",
      "Buzz\n",
      "11\n",
      "Fizz\n",
      "13\n",
      "14\n",
      "FizzBuzz\n"
     ]
    }
   ],
   "source": [
    "fizzbuzz(15)"
   ]
  },
  {
   "cell_type": "markdown",
   "metadata": {},
   "source": [
    "This has conditionals that depend on tensor values and it prints these values at runtime."
   ]
  },
  {
   "cell_type": "markdown",
   "metadata": {},
   "source": [
    "### Build a model"
   ]
  },
  {
   "cell_type": "markdown",
   "metadata": {},
   "source": [
    "Many machine learning models are represented by composing layers. When using TensorFlow with eager execution you can either write your own layers or use a layer provided in the tf.keras.layers package.\n",
    "\n",
    "While you can use any Python object to represent a layer, TensorFlow has tf.keras.layers.Layer as a convenient base class. Inherit from it to implement your own layer, and set self.dynamic=True in the constructor if the layer must be executed imperatively:"
   ]
  },
  {
   "cell_type": "code",
   "execution_count": 11,
   "metadata": {},
   "outputs": [],
   "source": [
    "class MySimpleLayer(tf.keras.layers.Layer):\n",
    "  def __init__(self, output_units):\n",
    "    super(MySimpleLayer, self).__init__()\n",
    "    self.output_units = output_units\n",
    "    self.dynamic = True\n",
    "\n",
    "  def build(self, input_shape):\n",
    "    # The build method gets called the first time your layer is used.\n",
    "    # Creating variables on build() allows you to make their shape depend\n",
    "    # on the input shape and hence removes the need for the user to specify\n",
    "    # full shapes. It is possible to create variables during __init__() if\n",
    "    # you already know their full shapes.\n",
    "    self.kernel = self.add_variable(\n",
    "      \"kernel\", [input_shape[-1], self.output_units])\n",
    "\n",
    "  def call(self, input):\n",
    "    # Override call() instead of __call__ so we can perform some bookkeeping.\n",
    "    return tf.matmul(input, self.kernel)"
   ]
  },
  {
   "cell_type": "markdown",
   "metadata": {},
   "source": [
    "Use tf.keras.layers.Dense layer instead of MySimpleLayer above as it has a superset of its functionality (it can also add a bias).\n",
    "\n",
    "When composing layers into models you can use tf.keras.Sequential to represent models which are a linear stack of layers. It is easy to use for basic models:"
   ]
  },
  {
   "cell_type": "code",
   "execution_count": 12,
   "metadata": {},
   "outputs": [],
   "source": [
    "model = tf.keras.Sequential([\n",
    "  tf.keras.layers.Dense(10, input_shape=(784,)),  # must declare input shape\n",
    "  tf.keras.layers.Dense(10)\n",
    "])"
   ]
  },
  {
   "cell_type": "markdown",
   "metadata": {},
   "source": [
    "Alternatively, organize models in classes by inheriting from tf.keras.Model. This is a container for layers that is a layer itself, allowing tf.keras.Model objects to contain other tf.keras.Model objects."
   ]
  },
  {
   "cell_type": "code",
   "execution_count": 13,
   "metadata": {},
   "outputs": [],
   "source": [
    "class MNISTModel(tf.keras.Model):\n",
    "  def __init__(self):\n",
    "    super(MNISTModel, self).__init__()\n",
    "    self.dense1 = tf.keras.layers.Dense(units=10)\n",
    "    self.dense2 = tf.keras.layers.Dense(units=10)\n",
    "\n",
    "  def call(self, input):\n",
    "    \"\"\"Run the model.\"\"\"\n",
    "    result = self.dense1(input)\n",
    "    result = self.dense2(result)\n",
    "    result = self.dense2(result)  # reuse variables from dense2 layer\n",
    "    return result\n",
    "\n",
    "model = MNISTModel()"
   ]
  },
  {
   "cell_type": "markdown",
   "metadata": {},
   "source": [
    "### Eager training\n",
    "* Computing gradients\n",
    "* Train a model\n",
    "* Variables and optimizers"
   ]
  },
  {
   "cell_type": "markdown",
   "metadata": {},
   "source": [
    "#### Computing gradients"
   ]
  },
  {
   "cell_type": "markdown",
   "metadata": {},
   "source": [
    "Automatic differentiation is useful for implementing machine learning algorithms such as backpropagation for training neural networks. During eager execution, use tf.GradientTape to trace operations for computing gradients later.\n",
    "\n",
    "tf.GradientTape is an opt-in feature to provide maximal performance when not tracing. Since different operations can occur during each call, all forward-pass operations get recorded to a \"tape\". To compute the gradient, play the tape backwards and then discard. A particular tf.GradientTape can only compute one gradient; subsequent calls throw a runtime error."
   ]
  },
  {
   "cell_type": "code",
   "execution_count": 14,
   "metadata": {},
   "outputs": [],
   "source": [
    "w = tf.Variable([[1.0]])\n",
    "with tf.GradientTape() as tape:\n",
    "  loss = w * w"
   ]
  },
  {
   "cell_type": "code",
   "execution_count": 15,
   "metadata": {},
   "outputs": [
    {
     "name": "stdout",
     "output_type": "stream",
     "text": [
      "tf.Tensor([[2.]], shape=(1, 1), dtype=float32)\n"
     ]
    }
   ],
   "source": [
    "grad = tape.gradient(loss, w)\n",
    "print(grad)  # => tf.Tensor([[ 2.]], shape=(1, 1), dtype=float32)"
   ]
  },
  {
   "cell_type": "markdown",
   "metadata": {},
   "source": [
    "#### Train a model"
   ]
  },
  {
   "cell_type": "markdown",
   "metadata": {},
   "source": [
    "The following example creates a multi-layer model that classifies the standard MNIST handwritten digits. It demonstrates the optimizer and layer APIs to build trainable graphs in an eager execution environment."
   ]
  },
  {
   "cell_type": "code",
   "execution_count": 16,
   "metadata": {},
   "outputs": [],
   "source": [
    "# Fetch and format the mnist data\n",
    "(mnist_images, mnist_labels), _ = tf.keras.datasets.mnist.load_data()"
   ]
  },
  {
   "cell_type": "code",
   "execution_count": 17,
   "metadata": {},
   "outputs": [],
   "source": [
    "dataset = tf.data.Dataset.from_tensor_slices(\n",
    "  (tf.cast(mnist_images[...,tf.newaxis]/255, tf.float32),\n",
    "   tf.cast(mnist_labels,tf.int64)))\n",
    "\n",
    "dataset = dataset.shuffle(1000).batch(32)"
   ]
  },
  {
   "cell_type": "code",
   "execution_count": 18,
   "metadata": {},
   "outputs": [],
   "source": [
    "# Build the model\n",
    "mnist_model = tf.keras.Sequential([\n",
    "  tf.keras.layers.Conv2D(16,[3,3], activation='relu',\n",
    "                         input_shape=(None, None, 1)),\n",
    "  tf.keras.layers.Conv2D(16,[3,3], activation='relu'),\n",
    "  tf.keras.layers.GlobalAveragePooling2D(),\n",
    "  tf.keras.layers.Dense(10)\n",
    "])"
   ]
  },
  {
   "cell_type": "markdown",
   "metadata": {},
   "source": [
    "Even without training, call the model and inspect the output in eager execution:"
   ]
  },
  {
   "cell_type": "code",
   "execution_count": 19,
   "metadata": {},
   "outputs": [
    {
     "name": "stdout",
     "output_type": "stream",
     "text": [
      "Logits:  [[ 0.09824724 -0.04375213 -0.0297967   0.00954151 -0.05242049  0.00627051\n",
      "   0.03547187  0.0192431  -0.01214595 -0.02275137]]\n"
     ]
    }
   ],
   "source": [
    "for images,labels in dataset.take(1):\n",
    "  print(\"Logits: \", mnist_model(images[0:1]).numpy())"
   ]
  },
  {
   "cell_type": "markdown",
   "metadata": {},
   "source": [
    "While keras models have a builtin training loop (using the fit method), sometimes you need more customization. Here's an example, of a training loop implemented with eager:"
   ]
  },
  {
   "cell_type": "code",
   "execution_count": 20,
   "metadata": {},
   "outputs": [],
   "source": [
    "optimizer = tf.keras.optimizers.Adam()\n",
    "loss_object = tf.keras.losses.SparseCategoricalCrossentropy(from_logits=True)\n",
    "\n",
    "loss_history = []"
   ]
  },
  {
   "cell_type": "code",
   "execution_count": 21,
   "metadata": {},
   "outputs": [
    {
     "name": "stdout",
     "output_type": "stream",
     "text": [
      "........................................"
     ]
    }
   ],
   "source": [
    "for (batch, (images, labels)) in enumerate(dataset.take(400)):\n",
    "  if batch % 10 == 0:\n",
    "    print('.', end='')\n",
    "  with tf.GradientTape() as tape:\n",
    "    logits = mnist_model(images, training=True)\n",
    "    loss_value = loss_object(labels, logits)\n",
    "\n",
    "  loss_history.append(loss_value.numpy().mean())\n",
    "  grads = tape.gradient(loss_value, mnist_model.trainable_variables)\n",
    "  optimizer.apply_gradients(zip(grads, mnist_model.trainable_variables))"
   ]
  },
  {
   "cell_type": "code",
   "execution_count": 22,
   "metadata": {},
   "outputs": [
    {
     "data": {
      "text/plain": [
       "Text(0, 0.5, 'Loss [entropy]')"
      ]
     },
     "execution_count": 22,
     "metadata": {},
     "output_type": "execute_result"
    },
    {
     "data": {
      "image/png": "[encoded data removed]",
      "text/plain": [
       "<Figure size 432x288 with 1 Axes>"
      ]
     },
     "metadata": {
      "needs_background": "light"
     },
     "output_type": "display_data"
    }
   ],
   "source": [
    "%matplotlib inline # 그래프 결과가 컴퓨터에 별도 창이 아닌 jupyter notebook 안에서 그려지도록 \n",
    "                   # 한 jupyter notebook에서는 딱 한번만 이 매직키워드를 사용하면 됨  \n",
    "\n",
    "import matplotlib.pyplot as plt\n",
    "\n",
    "plt.plot(loss_history)\n",
    "plt.xlabel('Batch #')\n",
    "plt.ylabel('Loss [entropy]')"
   ]
  },
  {
   "cell_type": "markdown",
   "metadata": {},
   "source": [
    "#### Variables and optimizers"
   ]
  },
  {
   "cell_type": "markdown",
   "metadata": {},
   "source": [
    "tf.Variable objects store mutable tf.Tensor values accessed during training to make automatic differentiation easier. The parameters of a model can be encapsulated in classes as variables.\n",
    "\n",
    "Better encapsulate model parameters by using tf.Variable with tf.GradientTape. For example, the automatic differentiation example above can be rewritten:"
   ]
  },
  {
   "cell_type": "code",
   "execution_count": 23,
   "metadata": {},
   "outputs": [
    {
     "name": "stdout",
     "output_type": "stream",
     "text": [
      "Initial loss: 68.638\n",
      "Loss at step 000: 65.959\n",
      "Loss at step 020: 29.943\n",
      "Loss at step 040: 13.887\n",
      "Loss at step 060: 6.729\n",
      "Loss at step 080: 3.539\n",
      "Loss at step 100: 2.116\n",
      "Loss at step 120: 1.482\n",
      "Loss at step 140: 1.199\n",
      "Loss at step 160: 1.073\n",
      "Loss at step 180: 1.017\n",
      "Loss at step 200: 0.992\n",
      "Loss at step 220: 0.981\n",
      "Loss at step 240: 0.976\n",
      "Loss at step 260: 0.974\n",
      "Loss at step 280: 0.973\n",
      "Final loss: 0.972\n",
      "W = 3.026141881942749, B = 2.03311824798584\n"
     ]
    }
   ],
   "source": [
    "class Model(tf.keras.Model):\n",
    "  def __init__(self):\n",
    "    super(Model, self).__init__()\n",
    "    self.W = tf.Variable(5., name='weight')\n",
    "    self.B = tf.Variable(10., name='bias')\n",
    "  def call(self, inputs):\n",
    "    return inputs * self.W + self.B\n",
    "\n",
    "# A toy dataset of points around 3 * x + 2\n",
    "NUM_EXAMPLES = 2000\n",
    "training_inputs = tf.random.normal([NUM_EXAMPLES])\n",
    "noise = tf.random.normal([NUM_EXAMPLES])\n",
    "training_outputs = training_inputs * 3 + 2 + noise\n",
    "\n",
    "# The loss function to be optimized\n",
    "def loss(model, inputs, targets):\n",
    "  error = model(inputs) - targets\n",
    "  return tf.reduce_mean(tf.square(error))\n",
    "\n",
    "def grad(model, inputs, targets):\n",
    "  with tf.GradientTape() as tape:\n",
    "    loss_value = loss(model, inputs, targets)\n",
    "  return tape.gradient(loss_value, [model.W, model.B])\n",
    "\n",
    "# Define:\n",
    "# 1. A model.\n",
    "# 2. Derivatives of a loss function with respect to model parameters.\n",
    "# 3. A strategy for updating the variables based on the derivatives.\n",
    "model = Model()\n",
    "optimizer = tf.keras.optimizers.SGD(learning_rate=0.01)\n",
    "\n",
    "print(\"Initial loss: {:.3f}\".format(loss(model, training_inputs, training_outputs)))\n",
    "\n",
    "# Training loop\n",
    "for i in range(300):\n",
    "  grads = grad(model, training_inputs, training_outputs)\n",
    "  optimizer.apply_gradients(zip(grads, [model.W, model.B]))\n",
    "  if i % 20 == 0:\n",
    "    print(\"Loss at step {:03d}: {:.3f}\".format(i, loss(model, training_inputs, training_outputs)))\n",
    "\n",
    "print(\"Final loss: {:.3f}\".format(loss(model, training_inputs, training_outputs)))\n",
    "print(\"W = {}, B = {}\".format(model.W.numpy(), model.B.numpy()))\n"
   ]
  },
  {
   "cell_type": "markdown",
   "metadata": {},
   "source": [
    "-----------------------------------------------"
   ]
  },
  {
   "cell_type": "markdown",
   "metadata": {},
   "source": [
    "# Machine Learning & DeepLearning 기초 \n",
    "* Classify image - 첫 번째 신경망 훈련하기: 기초적인 분류 문제\n",
    "* Classify text - 영화 리뷰를 사용한 텍스트 분류\n",
    "* Overfittig and underfitting"
   ]
  },
  {
   "cell_type": "markdown",
   "metadata": {},
   "source": [
    "<img src=\"https://raw.githubusercontent.com/psygrammer/about_python_dl/72e695da9007b306e1dd51dfa798c4af05e1210f/keras/01_intro/figures/cap02.png\" width=600 />"
   ]
  },
  {
   "cell_type": "markdown",
   "metadata": {},
   "source": [
    "<img src=\"https://github.com/psygrammer/about_python_dl/raw/72e695da9007b306e1dd51dfa798c4af05e1210f/keras/01_intro/figures/cap03.png\" width=300 />"
   ]
  },
  {
   "cell_type": "markdown",
   "metadata": {},
   "source": [
    "<img src=\"https://github.com/psygrammer/about_python_dl/raw/72e695da9007b306e1dd51dfa798c4af05e1210f/keras/01_intro/figures/cap04.png\" width=800 />"
   ]
  },
  {
   "cell_type": "markdown",
   "metadata": {},
   "source": [
    "* 출처 - Deep Learning with Python - https://www.manning.com/books/deep-learning-with-python"
   ]
  },
  {
   "cell_type": "markdown",
   "metadata": {},
   "source": [
    "<img src=\"https://developer.ibm.com/developer/articles/cc-models-machine-learning/images/figure01.png\" width=600 />"
   ]
  },
  {
   "cell_type": "markdown",
   "metadata": {},
   "source": [
    "* 출처 - https://developer.ibm.com/articles/cc-models-machine-learning/"
   ]
  },
  {
   "cell_type": "markdown",
   "metadata": {},
   "source": [
    "<img src=\"https://vitalflux.com/wp-content/uploads/2018/02/Screen-Shot-2018-02-04-at-8.10.20-PM.png\" width = 600 />"
   ]
  },
  {
   "cell_type": "markdown",
   "metadata": {},
   "source": [
    "* 출처 - https://vitalflux.com/dummies-notes-supervised-vs-unsupervised-learning/"
   ]
  },
  {
   "cell_type": "markdown",
   "metadata": {},
   "source": [
    "<img src=\"http://cs231n.github.io/assets/imagemap.jpg\" width=600 />"
   ]
  },
  {
   "cell_type": "markdown",
   "metadata": {},
   "source": [
    "<img src=\"http://cs231n.github.io/assets/pixelspace.jpeg\" width=600 />"
   ]
  },
  {
   "cell_type": "markdown",
   "metadata": {},
   "source": [
    "* 출처 - http://cs231n.github.io/linear-classify/"
   ]
  },
  {
   "cell_type": "markdown",
   "metadata": {},
   "source": [
    "<img src=\"http://cs231n.github.io/assets/stepsize.jpg\" width=400 />"
   ]
  },
  {
   "cell_type": "markdown",
   "metadata": {},
   "source": [
    "<img src=\"http://cs231n.github.io/assets/dataflow.jpeg\" width=600 />\n",
    "\n",
    "* 출처 - http://cs231n.github.io/optimization-1/"
   ]
  },
  {
   "cell_type": "markdown",
   "metadata": {},
   "source": [
    "* 출처 - http://cs231n.github.io/optimization-1/"
   ]
  },
  {
   "cell_type": "markdown",
   "metadata": {},
   "source": [
    "<img src=\"http://rasbt.github.io/mlxtend/user_guide/general_concepts/gradient-optimization_files/ball.png\" width=600 />"
   ]
  },
  {
   "cell_type": "markdown",
   "metadata": {},
   "source": [
    "* 출처 - http://rasbt.github.io/mlxtend/user_guide/general_concepts/gradient-optimization/"
   ]
  },
  {
   "cell_type": "markdown",
   "metadata": {},
   "source": [
    "<img src=\"https://msampler.files.wordpress.com/2009/07/cvx-fun.gif\" width=600 />"
   ]
  },
  {
   "cell_type": "markdown",
   "metadata": {},
   "source": [
    "<img src=\"https://camo.githubusercontent.com/30bf2d42d3a9b0e07dbc03a014f4e36dbc06904f/68747470733a2f2f7261772e6769746875622e636f6d2f7175696e6e6c69752f4d616368696e654c6561726e696e672f6d61737465722f696d61676573466f724578706c616e6174696f6e2f4772616469656e7444657363656e74576974684d75746c69706c654c6f63616c4d696e696d756d2e6a7067\" width=600 />"
   ]
  },
  {
   "cell_type": "markdown",
   "metadata": {},
   "source": [
    "* 출처 - Convex analysis - https://msampler.wordpress.com/2009/07/08/convex-analysis/\n"
   ]
  },
  {
   "cell_type": "markdown",
   "metadata": {},
   "source": [
    "<img src=\"http://cs231n.github.io/assets/nn3/opt2.gif\" width=600 />\n",
    "<img src=\"http://cs231n.github.io/assets/nn3/opt1.gif\" width=600 />\n",
    "\n",
    "* 출처 - http://cs231n.github.io/neural-networks-3/"
   ]
  },
  {
   "cell_type": "markdown",
   "metadata": {},
   "source": [
    "<img src=\"https://nbviewer.jupyter.org/github/KonanAcademy/deep/blob/master/seminar/season01/ch01/figures/fig1.4.png\" width=600 />"
   ]
  },
  {
   "cell_type": "markdown",
   "metadata": {},
   "source": [
    "<img src=\"https://nbviewer.jupyter.org/github/KonanAcademy/deep/blob/master/seminar/season01/ch01/figures/fig1.3.png\" width=600 />"
   ]
  },
  {
   "cell_type": "markdown",
   "metadata": {},
   "source": [
    "* 출처 - Deep Learng book - http://www.deeplearningbook.org/"
   ]
  },
  {
   "cell_type": "markdown",
   "metadata": {},
   "source": [
    "<img src=\"https://github.com/psygrammer/about_python_dl/raw/72e695da9007b306e1dd51dfa798c4af05e1210f/keras/01_intro/figures/cap04.png\" width=800 />"
   ]
  },
  {
   "cell_type": "markdown",
   "metadata": {},
   "source": [
    "* 출처 - Deep Learning with Python - https://www.manning.com/books/deep-learning-with-python"
   ]
  },
  {
   "cell_type": "markdown",
   "metadata": {},
   "source": [
    "<img src=\"https://ars.els-cdn.com/content/image/1-s2.0-S0278612518300037-gr2.jpg\" width=600 />"
   ]
  },
  {
   "cell_type": "markdown",
   "metadata": {},
   "source": [
    "* 출처 - https://www.sciencedirect.com/science/article/pii/S0278612518300037"
   ]
  },
  {
   "cell_type": "markdown",
   "metadata": {},
   "source": [
    "<img src=\"http://cs231n.github.io/assets/imagemap.jpg\" width=600 />\n",
    "\n",
    "* 출처 - http://cs231n.github.io/linear-classify/"
   ]
  },
  {
   "cell_type": "markdown",
   "metadata": {},
   "source": [
    "<img src=\"http://cs231n.github.io/assets/nn1/neuron.png\" width=600 />\n",
    "<img src=\"http://cs231n.github.io/assets/nn1/neuron_model.jpeg\" width=600 />\n",
    "\n",
    "* 출처 - http://cs231n.github.io/neural-networks-1/"
   ]
  },
  {
   "cell_type": "markdown",
   "metadata": {},
   "source": [
    "<img src=\"http://nbviewer.jupyter.org/github/psygrammer/qgm/blob/master/part3/connectionist/ch01/figures/cap1.11.png\" width=600 />\n",
    "<img src=\"https://nbviewer.jupyter.org/github/KonanAcademy/deep/blob/master/seminar/season01/ch06/figures/cap6.74.png\" width=600 />\n",
    "\n",
    "* 출처 - Deep Learng book - http://www.deeplearningbook.org/"
   ]
  },
  {
   "cell_type": "markdown",
   "metadata": {},
   "source": [
    "<img src=\"http://www.statistics4u.com/fundstat_eng/img/hl_linnonlin_classif.png\" width=600 />"
   ]
  },
  {
   "cell_type": "markdown",
   "metadata": {},
   "source": [
    "* 출처 - http://www.statistics4u.com/fundstat_eng/cc_linvsnonlin.html"
   ]
  },
  {
   "cell_type": "markdown",
   "metadata": {},
   "source": [
    "<img src=\"http://cs231n.github.io/assets/nn1/neural_net2.jpeg\" width=600 />"
   ]
  },
  {
   "cell_type": "markdown",
   "metadata": {},
   "source": [
    "* 출처 - http://cs231n.github.io/neural-networks-1/"
   ]
  },
  {
   "cell_type": "markdown",
   "metadata": {},
   "source": [
    "<img src=\"https://nbviewer.jupyter.org/github/KonanAcademy/deep/blob/master/seminar/season01/ch06/figures/deeper.png\" width=600 />"
   ]
  },
  {
   "cell_type": "markdown",
   "metadata": {},
   "source": [
    "* 출처 - L1 : Deep Neural Networks (Udacity) https://drive.google.com/file/d/0B3vuuoFuJsKWdFFkMS10N1BpLTg/view"
   ]
  },
  {
   "cell_type": "markdown",
   "metadata": {},
   "source": [
    "<img src=\"https://static1.squarespace.com/static/5288f78fe4b088c60f4c3232/t/5a1bee80ec212d9bd32000bf/1511779974123/02.png\" width=600 />\n",
    "\n",
    "* 출처 - http://blog.agileactors.com/blog/2017/11/27/big-challenge-in-deep-learning-training-data"
   ]
  },
  {
   "cell_type": "markdown",
   "metadata": {},
   "source": [
    "<img src=\"https://github.com/psygrammer/about_python_dl/raw/72e695da9007b306e1dd51dfa798c4af05e1210f/keras/01_intro/figures/cap04.png\" width=600 />\n",
    "<img src=\"https://github.com/psygrammer/about_python_dl/raw/72e695da9007b306e1dd51dfa798c4af05e1210f/keras/01_intro/figures/cap05.png\" width=600 />\n",
    "<img src=\"https://github.com/psygrammer/about_python_dl/raw/72e695da9007b306e1dd51dfa798c4af05e1210f/keras/01_intro/figures/cap06.png\" width=600 />\n",
    "<img src=\"https://github.com/psygrammer/about_python_dl/raw/72e695da9007b306e1dd51dfa798c4af05e1210f/keras/01_intro/figures/cap07.png\" width=600 />\n",
    "<img src=\"https://github.com/psygrammer/about_python_dl/raw/72e695da9007b306e1dd51dfa798c4af05e1210f/keras/01_intro/figures/cap08.png\" width=600 />\n",
    "<img src=\"https://github.com/psygrammer/about_python_dl/raw/72e695da9007b306e1dd51dfa798c4af05e1210f/keras/01_intro/figures/cap09.png\" width=600 />"
   ]
  },
  {
   "cell_type": "markdown",
   "metadata": {},
   "source": [
    "* 출처 - Deep Learning with Python - https://www.manning.com/books/deep-learning-with-python"
   ]
  },
  {
   "cell_type": "markdown",
   "metadata": {},
   "source": [
    "## Classify image - 첫 번째 신경망 훈련하기: 기초적인 분류 문제\n",
    "* 데이터셋 임포트하기(로드하기)\n",
    "* 데이터 탐색\n",
    "* 데이터 전처리\n",
    "* 모델 구성\n",
    "* 모델 컴파일\n",
    "* 모델 훈련\n",
    "* 정확도 평가\n",
    "* 예측 만들기"
   ]
  },
  {
   "cell_type": "markdown",
   "metadata": {},
   "source": [
    "<img src=\"https://nbviewer.jupyter.org/github/KonanAcademy/deep/blob/master/seminar/season02/ch05/ch05_03/figures/fig5.2.png\" width=600 />\n",
    "\n",
    "* 출처 - Deep Learng book - http://www.deeplearningbook.org/"
   ]
  },
  {
   "cell_type": "markdown",
   "metadata": {},
   "source": [
    "<img src=\"https://t1.daumcdn.net/cfile/tistory/9951E5445AAE1BE025\" width=600 />\n",
    "\n",
    "* 출처 - https://3months.tistory.com/118"
   ]
  },
  {
   "cell_type": "markdown",
   "metadata": {},
   "source": [
    "<img src=\"https://i0.wp.com/blog.contactsunny.com/wp-content/uploads/2018/08/cross_validation.png?resize=415%2C316\" width=600 />"
   ]
  },
  {
   "cell_type": "markdown",
   "metadata": {},
   "source": [
    "* 출처 - https://blog.contactsunny.com/data-science/different-types-of-validations-in-machine-learning-cross-validation"
   ]
  },
  {
   "cell_type": "markdown",
   "metadata": {},
   "source": [
    "<img src=\"https://nbviewer.jupyter.org/github/KonanAcademy/deep/blob/master/seminar/season02/ch05/ch05_03/figures/fig5.3.png\" width=600 />"
   ]
  },
  {
   "cell_type": "markdown",
   "metadata": {},
   "source": [
    "<img src=\"https://d3ansictanv2wj.cloudfront.net/emlm_0301-50f52d63f7c4ecae1fd09550e74dfa04.png\" width=600 />"
   ]
  },
  {
   "cell_type": "markdown",
   "metadata": {},
   "source": [
    "* 출처 - https://www.oreilly.com/ideas/evaluating-machine-learning-models/page/4/offline-evaluation-mechanisms-hold-out-validation-cross-validation-and-bootstrapping"
   ]
  },
  {
   "cell_type": "markdown",
   "metadata": {},
   "source": [
    "<img src=\"http://i.imgur.com/SWaYSGs.jpg\" width=600 />"
   ]
  },
  {
   "cell_type": "markdown",
   "metadata": {},
   "source": [
    "* 출처 - http://prog3.com/sbdm/blog/google19890102/article/details/50276693"
   ]
  },
  {
   "cell_type": "markdown",
   "metadata": {},
   "source": [
    "이 튜토리얼에서는 운동화나 셔츠 같은 옷 이미지를 분류하는 신경망 모델을 훈련합니다. 상세 내용을 모두 이해하지 못해도 괜찮습니다. 여기서는 완전한 텐서플로(TensorFlow) 프로그램을 빠르게 살펴 보겠습니다. 자세한 내용은 앞으로 배우면서 더 설명합니다.\n",
    "\n",
    "여기에서는 텐서플로 모델을 만들고 훈련할 수 있는 고수준 API인 tf.keras를 사용합니다."
   ]
  },
  {
   "cell_type": "code",
   "execution_count": 24,
   "metadata": {},
   "outputs": [
    {
     "name": "stdout",
     "output_type": "stream",
     "text": [
      "2.0.0-alpha0\n"
     ]
    }
   ],
   "source": [
    "from __future__ import absolute_import, division, print_function, unicode_literals\n",
    "\n",
    "# tensorflow를 임포트합니다\n",
    "import tensorflow as tf\n",
    "\n",
    "# 헬퍼(helper) 라이브러리를 임포트합니다\n",
    "import numpy as np\n",
    "import matplotlib.pyplot as plt\n",
    "\n",
    "print(tf.__version__)"
   ]
  },
  {
   "cell_type": "markdown",
   "metadata": {},
   "source": [
    "### 데이터셋 임포트하기(로드하기) "
   ]
  },
  {
   "cell_type": "markdown",
   "metadata": {},
   "source": [
    "10개의 범주(category)와 70,000개의 흑백 이미지로 구성된 패션 MNIST 데이터셋을 사용하겠습니다. 이미지는 해상도(28x28 픽셀)가 낮고 다음처럼 개별 옷 품목을 나타냅니다:"
   ]
  },
  {
   "cell_type": "markdown",
   "metadata": {},
   "source": [
    "<img src=\"https://tensorflow.org/images/fashion-mnist-sprite.png\" width=600 />"
   ]
  },
  {
   "cell_type": "markdown",
   "metadata": {},
   "source": [
    "네트워크를 훈련하는데 60,000개의 이미지를 사용합니다. 그다음 네트워크가 얼마나 정확하게 이미지를 분류하는지 10,000개의 이미지로 평가하겠습니다. 패션 MNIST 데이터셋은 텐서플로에서 바로 임포트하여 적재할 수 있습니다:"
   ]
  },
  {
   "cell_type": "code",
   "execution_count": 25,
   "metadata": {},
   "outputs": [],
   "source": [
    "fashion_mnist = tf.keras.datasets.fashion_mnist\n",
    "\n",
    "(train_images, train_labels), (test_images, test_labels) = fashion_mnist.load_data()"
   ]
  },
  {
   "cell_type": "markdown",
   "metadata": {},
   "source": [
    "이미지는 28x28 크기의 넘파이 배열이고 픽셀 값은 0과 255 사이입니다. 레이블(label)은 0에서 9까지의 정수 배열입니다. 이 값은 이미지에 있는 옷의 클래스(class)를 나타냅니다:"
   ]
  },
  {
   "cell_type": "markdown",
   "metadata": {},
   "source": [
    "| 레이블         | 클래스           | \n",
    "| :-------------: |:-------------:|\n",
    "| 0      |\tT-shirt/top      |\n",
    "| 1      |\tTrouser      |\n",
    "| 2      |\tPullover      |\n",
    "| 3      |\tDress      |\n",
    "| 4      |\tCoat      |\n",
    "| 5      |\tSandal      |\n",
    "| 6      |\tShirt      |\n",
    "| 7      |\tSneaker      |\n",
    "| 8      |\tBag      |\n",
    "| 9      |\tAnkle boot      |"
   ]
  },
  {
   "cell_type": "markdown",
   "metadata": {},
   "source": [
    "각 이미지는 하나의 레이블에 매핑되어 있습니다. 데이터셋에 클래스 이름이 들어있지 않기 때문에 나중에 이미지를 출력할 때 사용하기 위해 별도의 변수를 만들어 저장합니다:"
   ]
  },
  {
   "cell_type": "code",
   "execution_count": 26,
   "metadata": {},
   "outputs": [],
   "source": [
    "class_names = ['T-shirt/top', 'Trouser', 'Pullover', 'Dress', 'Coat', \n",
    "               'Sandal', 'Shirt', 'Sneaker', 'Bag', 'Ankle boot']"
   ]
  },
  {
   "cell_type": "markdown",
   "metadata": {},
   "source": [
    "### 데이터 탐색 "
   ]
  },
  {
   "cell_type": "markdown",
   "metadata": {},
   "source": [
    "모델을 훈련하기 전에 데이터셋 구조를 살펴보죠. 다음 코드는 훈련 세트에 60,000개의 이미지가 있다는 것을 보여줍니다. 각 이미지는 28x28 픽셀로 표현됩니다:"
   ]
  },
  {
   "cell_type": "code",
   "execution_count": 27,
   "metadata": {},
   "outputs": [
    {
     "name": "stdout",
     "output_type": "stream",
     "text": [
      "<class 'numpy.ndarray'>\n",
      "60000\n",
      "(60000, 28, 28)\n",
      "[[[0 0 0 ... 0 0 0]\n",
      "  [0 0 0 ... 0 0 0]\n",
      "  [0 0 0 ... 0 0 0]\n",
      "  ...\n",
      "  [0 0 0 ... 0 0 0]\n",
      "  [0 0 0 ... 0 0 0]\n",
      "  [0 0 0 ... 0 0 0]]\n",
      "\n",
      " [[0 0 0 ... 0 0 0]\n",
      "  [0 0 0 ... 0 0 0]\n",
      "  [0 0 0 ... 0 0 0]\n",
      "  ...\n",
      "  [0 0 0 ... 0 0 0]\n",
      "  [0 0 0 ... 0 0 0]\n",
      "  [0 0 0 ... 0 0 0]]\n",
      "\n",
      " [[0 0 0 ... 0 0 0]\n",
      "  [0 0 0 ... 0 0 0]\n",
      "  [0 0 0 ... 0 0 0]\n",
      "  ...\n",
      "  [0 0 0 ... 0 0 0]\n",
      "  [0 0 0 ... 0 0 0]\n",
      "  [0 0 0 ... 0 0 0]]\n",
      "\n",
      " ...\n",
      "\n",
      " [[0 0 0 ... 0 0 0]\n",
      "  [0 0 0 ... 0 0 0]\n",
      "  [0 0 0 ... 0 0 0]\n",
      "  ...\n",
      "  [0 0 0 ... 0 0 0]\n",
      "  [0 0 0 ... 0 0 0]\n",
      "  [0 0 0 ... 0 0 0]]\n",
      "\n",
      " [[0 0 0 ... 0 0 0]\n",
      "  [0 0 0 ... 0 0 0]\n",
      "  [0 0 0 ... 0 0 0]\n",
      "  ...\n",
      "  [0 0 0 ... 0 0 0]\n",
      "  [0 0 0 ... 0 0 0]\n",
      "  [0 0 0 ... 0 0 0]]\n",
      "\n",
      " [[0 0 0 ... 0 0 0]\n",
      "  [0 0 0 ... 0 0 0]\n",
      "  [0 0 0 ... 0 0 0]\n",
      "  ...\n",
      "  [0 0 0 ... 0 0 0]\n",
      "  [0 0 0 ... 0 0 0]\n",
      "  [0 0 0 ... 0 0 0]]]\n"
     ]
    }
   ],
   "source": [
    "print(type(train_images))\n",
    "print(len(train_images))\n",
    "print(train_images.shape)\n",
    "print(train_images)"
   ]
  },
  {
   "cell_type": "code",
   "execution_count": 28,
   "metadata": {},
   "outputs": [
    {
     "name": "stdout",
     "output_type": "stream",
     "text": [
      "<class 'numpy.ndarray'>\n",
      "60000\n",
      "[9 0 0 ... 3 0 5]\n"
     ]
    }
   ],
   "source": [
    "print(type(train_labels))\n",
    "print(len(train_labels))\n",
    "print(train_labels)"
   ]
  },
  {
   "cell_type": "code",
   "execution_count": 29,
   "metadata": {},
   "outputs": [
    {
     "name": "stdout",
     "output_type": "stream",
     "text": [
      "10000\n"
     ]
    }
   ],
   "source": [
    "print(len(test_images))"
   ]
  },
  {
   "cell_type": "markdown",
   "metadata": {},
   "source": [
    "### 데이터 전처리"
   ]
  },
  {
   "cell_type": "markdown",
   "metadata": {},
   "source": [
    "네트워크를 훈련하기 전에 데이터를 전처리해야 합니다. 훈련 세트에 있는 첫 번째 이미지를 보면 픽셀 값의 범위가 0~255 사이라는 것을 알 수 있습니다:"
   ]
  },
  {
   "cell_type": "code",
   "execution_count": 32,
   "metadata": {},
   "outputs": [
    {
     "data": {
      "image/png": "[encoded data removed]",
      "text/plain": [
       "<Figure size 432x288 with 2 Axes>"
      ]
     },
     "metadata": {
      "needs_background": "light"
     },
     "output_type": "display_data"
    }
   ],
   "source": [
    "plt.figure()\n",
    "plt.imshow(train_images[0])\n",
    "plt.colorbar()\n",
    "plt.grid(False)\n",
    "plt.show()"
   ]
  },
  {
   "cell_type": "markdown",
   "metadata": {},
   "source": [
    "신경망 모델에 주입하기 전에 이 값의 범위를 0~1 사이로 조정하겠습니다. 이렇게 하려면 255로 나누어야 합니다. 훈련 세트와 테스트 세트를 동일한 방식으로 전처리하는 것이 중요합니다:"
   ]
  },
  {
   "cell_type": "code",
   "execution_count": 33,
   "metadata": {},
   "outputs": [],
   "source": [
    "train_images = train_images / 255.0\n",
    "\n",
    "test_images = test_images / 255.0"
   ]
  },
  {
   "cell_type": "markdown",
   "metadata": {},
   "source": [
    "훈련 세트에서 처음 25개 이미지와 그 아래 클래스 이름을 출력해 보죠. 데이터 포맷이 올바른지 확인하고 네트워크 구성과 훈련할 준비를 마칩니다."
   ]
  },
  {
   "cell_type": "code",
   "execution_count": 34,
   "metadata": {},
   "outputs": [
    {
     "data": {
      "image/png": "[encoded data removed]",
      "text/plain": [
       "<Figure size 720x720 with 25 Axes>"
      ]
     },
     "metadata": {},
     "output_type": "display_data"
    }
   ],
   "source": [
    "plt.figure(figsize=(10,10))\n",
    "for i in range(25):\n",
    "    plt.subplot(5,5,i+1)\n",
    "    plt.xticks([])\n",
    "    plt.yticks([])\n",
    "    plt.grid(False)\n",
    "    plt.imshow(train_images[i], cmap=plt.cm.binary)\n",
    "    plt.xlabel(class_names[train_labels[i]])\n",
    "plt.show()"
   ]
  },
  {
   "cell_type": "markdown",
   "metadata": {},
   "source": [
    "### 모델 구성\n",
    "* 층 설정"
   ]
  },
  {
   "cell_type": "markdown",
   "metadata": {},
   "source": [
    "신경망 모델을 만들려면 모델의 층을 구성한 다음 모델을 컴파일합니다."
   ]
  },
  {
   "cell_type": "markdown",
   "metadata": {},
   "source": [
    "#### 층 설정"
   ]
  },
  {
   "cell_type": "markdown",
   "metadata": {},
   "source": [
    "신경망의 기본 구성 요소는 층(layer)입니다. 층은 주입된 데이터에서 표현을 추출합니다. 아마도 문제를 해결하는데 더 의미있는 표현이 추출될 것입니다.\n",
    "\n",
    "대부분 딥러닝은 간단한 층을 연결하여 구성됩니다. tf.keras.layers.Dense와 같은 층들의 가중치(parameter)는 훈련하는 동안 학습됩니다.\n",
    "\n"
   ]
  },
  {
   "cell_type": "code",
   "execution_count": 35,
   "metadata": {},
   "outputs": [],
   "source": [
    "# 앞의 실습 모델이 jupyter notebook 상에 계속 연결되므로 정리해주는 코드를 추가  \n",
    "tf.keras.backend.clear_session()"
   ]
  },
  {
   "cell_type": "code",
   "execution_count": 36,
   "metadata": {},
   "outputs": [],
   "source": [
    "model = tf.keras.Sequential([\n",
    "    tf.keras.layers.Flatten(input_shape=(28, 28)),\n",
    "    tf.keras.layers.Dense(128, activation='relu'),\n",
    "    tf.keras.layers.Dense(10, activation='softmax')\n",
    "])"
   ]
  },
  {
   "cell_type": "markdown",
   "metadata": {},
   "source": [
    "### 모델 컴파일 "
   ]
  },
  {
   "cell_type": "markdown",
   "metadata": {},
   "source": [
    "모델을 훈련하기 전에 필요한 몇 가지 설정이 모델 컴파일 단계에서 추가됩니다:\n",
    "* 손실 함수(Loss function)-훈련 하는 동안 모델의 오차를 측정합니다. 모델의 학습이 올바른 방향으로 향하도록 이 함수를 최소화해야 합니다.\n",
    "* 옵티마이저(Optimizer)-데이터와 손실 함수를 바탕으로 모델의 업데이트 방법을 결정합니다.\n",
    "* 지표(Metrics)-훈련 단계와 테스트 단계를 모니터링하기 위해 사용합니다. 다음 예에서는 올바르게 분류된 이미지의 비율인 정확도를 사용합니다.\n",
    "    "
   ]
  },
  {
   "cell_type": "code",
   "execution_count": 37,
   "metadata": {},
   "outputs": [],
   "source": [
    "model.compile(optimizer='adam', \n",
    "              loss='sparse_categorical_crossentropy',\n",
    "              metrics=['accuracy'])"
   ]
  },
  {
   "cell_type": "markdown",
   "metadata": {},
   "source": [
    "### 모델 훈련"
   ]
  },
  {
   "cell_type": "markdown",
   "metadata": {},
   "source": [
    "신경망 모델을 훈련하는 단계는 다음과 같습니다:\n",
    "1. 훈련 데이터를 모델에 주입합니다-이 예에서는 train_images와 train_labels 배열입니다.\n",
    "2. 모델이 이미지와 레이블을 매핑하는 방법을 배웁니다.\n",
    "3. 테스트 세트에 대한 모델의 예측을 만듭니다-이 예에서는 test_images 배열입니다. 이 예측이 test_labels 배열의 레이블과 맞는지 확인합니다."
   ]
  },
  {
   "cell_type": "markdown",
   "metadata": {},
   "source": [
    "훈련을 시작하기 위해 model.fit 메서드를 호출하면 모델이 훈련 데이터를 학습합니다:"
   ]
  },
  {
   "cell_type": "code",
   "execution_count": 38,
   "metadata": {},
   "outputs": [
    {
     "name": "stdout",
     "output_type": "stream",
     "text": [
      "Epoch 1/5\n",
      "60000/60000 [==============================] - 3s 50us/sample - loss: 1.0747 - accuracy: 0.6697s - loss: 1.1306 - \n",
      "Epoch 2/5\n",
      "60000/60000 [==============================] - 3s 47us/sample - loss: 0.6326 - accuracy: 0.7729\n",
      "Epoch 3/5\n",
      "60000/60000 [==============================] - 3s 45us/sample - loss: 0.5583 - accuracy: 0.8002\n",
      "Epoch 4/5\n",
      "60000/60000 [==============================] - 3s 46us/sample - loss: 0.5172 - accuracy: 0.8167s - loss: 0.5197 - accuracy: 0.81 - ETA: \n",
      "Epoch 5/5\n",
      "60000/60000 [==============================] - 3s 46us/sample - loss: 0.4898 - accuracy: 0.8277\n"
     ]
    },
    {
     "data": {
      "text/plain": [
       "<tensorflow.python.keras.callbacks.History at 0x12e009b70>"
      ]
     },
     "execution_count": 38,
     "metadata": {},
     "output_type": "execute_result"
    }
   ],
   "source": [
    "model.fit(train_images, train_labels, epochs=5)"
   ]
  },
  {
   "cell_type": "markdown",
   "metadata": {},
   "source": [
    "모델이 훈련되면서 손실과 정확도 지표가 출력됩니다. 이 모델은 훈련 세트에서 약 0.88(88%) 정도의 정확도를 달성합니다."
   ]
  },
  {
   "cell_type": "markdown",
   "metadata": {},
   "source": [
    "### 모델 평가"
   ]
  },
  {
   "cell_type": "markdown",
   "metadata": {},
   "source": [
    "그다음 테스트 세트에서 모델의 성능을 비교합니다:"
   ]
  },
  {
   "cell_type": "code",
   "execution_count": 39,
   "metadata": {},
   "outputs": [
    {
     "name": "stdout",
     "output_type": "stream",
     "text": [
      "10000/10000 [==============================] - 0s 31us/sample - loss: 0.5035 - accuracy: 0.8176\n",
      "\n",
      "테스트 정확도: 0.8176\n"
     ]
    }
   ],
   "source": [
    "test_loss, test_acc = model.evaluate(test_images, test_labels)\n",
    "\n",
    "print('\\n테스트 정확도:', test_acc)"
   ]
  },
  {
   "cell_type": "markdown",
   "metadata": {},
   "source": [
    "#### 예측 만들기"
   ]
  },
  {
   "cell_type": "markdown",
   "metadata": {},
   "source": [
    "훈련된 모델을 사용하여 이미지에 대한 예측을 만들 수 있습니다."
   ]
  },
  {
   "cell_type": "code",
   "execution_count": 40,
   "metadata": {},
   "outputs": [],
   "source": [
    "predictions = model.predict(test_images)"
   ]
  },
  {
   "cell_type": "markdown",
   "metadata": {},
   "source": [
    "여기서는 테스트 세트에 있는 각 이미지의 레이블을 예측했습니다. 첫 번째 예측을 확인해 보죠:"
   ]
  },
  {
   "cell_type": "code",
   "execution_count": 41,
   "metadata": {},
   "outputs": [
    {
     "data": {
      "text/plain": [
       "array([1.7038053e-06, 3.8548876e-08, 6.6328216e-06, 9.3672033e-06,\n",
       "       2.2242260e-05, 1.8373443e-01, 1.2231150e-05, 3.4479409e-01,\n",
       "       5.1869112e-03, 4.6623230e-01], dtype=float32)"
      ]
     },
     "execution_count": 41,
     "metadata": {},
     "output_type": "execute_result"
    }
   ],
   "source": [
    "predictions[0]"
   ]
  },
  {
   "cell_type": "markdown",
   "metadata": {},
   "source": [
    "이 예측은 10개의 숫자 배열로 나타납니다. 이 값은 10개의 옷 품목에 상응하는 모델의 신뢰도(confidence)를 나타냅니다. 가장 높은 신뢰도를 가진 레이블을 찾아보죠:\n",
    "\n"
   ]
  },
  {
   "cell_type": "code",
   "execution_count": 42,
   "metadata": {},
   "outputs": [
    {
     "data": {
      "text/plain": [
       "9"
      ]
     },
     "execution_count": 42,
     "metadata": {},
     "output_type": "execute_result"
    }
   ],
   "source": [
    "np.argmax(predictions[0])"
   ]
  },
  {
   "cell_type": "markdown",
   "metadata": {},
   "source": [
    "모델은 이 이미지가 앵클 부츠(class_name[9])라고 가장 확신하고 있습니다. 이 값이 맞는지 테스트 레이블을 확인해 보죠:"
   ]
  },
  {
   "cell_type": "code",
   "execution_count": 43,
   "metadata": {},
   "outputs": [
    {
     "data": {
      "text/plain": [
       "9"
      ]
     },
     "execution_count": 43,
     "metadata": {},
     "output_type": "execute_result"
    }
   ],
   "source": [
    "test_labels[0]"
   ]
  },
  {
   "cell_type": "markdown",
   "metadata": {},
   "source": [
    "10개의 신뢰도를 모두 그래프로 표현해 보겠습니다:"
   ]
  },
  {
   "cell_type": "code",
   "execution_count": 44,
   "metadata": {},
   "outputs": [],
   "source": [
    "def plot_image(i, predictions_array, true_label, img):\n",
    "  predictions_array, true_label, img = predictions_array[i], true_label[i], img[i]\n",
    "  plt.grid(False)\n",
    "  plt.xticks([])\n",
    "  plt.yticks([])\n",
    "  \n",
    "  plt.imshow(img, cmap=plt.cm.binary)\n",
    "\n",
    "  predicted_label = np.argmax(predictions_array)\n",
    "  if predicted_label == true_label:\n",
    "    color = 'blue'\n",
    "  else:\n",
    "    color = 'red'\n",
    "  \n",
    "  plt.xlabel(\"{} {:2.0f}% ({})\".format(class_names[predicted_label],\n",
    "                                100*np.max(predictions_array),\n",
    "                                class_names[true_label]),\n",
    "                                color=color)\n",
    "\n",
    "def plot_value_array(i, predictions_array, true_label):\n",
    "  predictions_array, true_label = predictions_array[i], true_label[i]\n",
    "  plt.grid(False)\n",
    "  plt.xticks([])\n",
    "  plt.yticks([])\n",
    "  thisplot = plt.bar(range(10), predictions_array, color=\"#777777\")\n",
    "  plt.ylim([0, 1]) \n",
    "  predicted_label = np.argmax(predictions_array)\n",
    " \n",
    "  thisplot[predicted_label].set_color('red')\n",
    "  thisplot[true_label].set_color('blue')"
   ]
  },
  {
   "cell_type": "markdown",
   "metadata": {},
   "source": [
    "0번째 원소의 이미지, 예측, 신뢰도 점수 배열을 확인해 보겠습니다."
   ]
  },
  {
   "cell_type": "code",
   "execution_count": 45,
   "metadata": {},
   "outputs": [
    {
     "data": {
      "image/png": "[encoded data removed]",
      "text/plain": [
       "<Figure size 432x216 with 2 Axes>"
      ]
     },
     "metadata": {},
     "output_type": "display_data"
    }
   ],
   "source": [
    "i = 0\n",
    "plt.figure(figsize=(6,3))\n",
    "plt.subplot(1,2,1)\n",
    "plot_image(i, predictions, test_labels, test_images)\n",
    "plt.subplot(1,2,2)\n",
    "plot_value_array(i, predictions,  test_labels)\n",
    "plt.show()"
   ]
  },
  {
   "cell_type": "code",
   "execution_count": 46,
   "metadata": {},
   "outputs": [
    {
     "data": {
      "image/png": "[encoded data removed]",
      "text/plain": [
       "<Figure size 432x216 with 2 Axes>"
      ]
     },
     "metadata": {},
     "output_type": "display_data"
    }
   ],
   "source": [
    "i = 12\n",
    "plt.figure(figsize=(6,3))\n",
    "plt.subplot(1,2,1)\n",
    "plot_image(i, predictions, test_labels, test_images)\n",
    "plt.subplot(1,2,2)\n",
    "plot_value_array(i, predictions,  test_labels)\n",
    "plt.show()"
   ]
  },
  {
   "cell_type": "markdown",
   "metadata": {},
   "source": [
    "몇 개의 이미지의 예측을 출력해 보죠. 올바르게 예측된 레이블은 파란색이고 잘못 예측된 레이블은 빨강색입니다. 숫자는 예측 레이블의 신뢰도 퍼센트(100점 만점)입니다. 신뢰도 점수가 높을 때도 잘못 예측할 수 있습니다."
   ]
  },
  {
   "cell_type": "code",
   "execution_count": 47,
   "metadata": {},
   "outputs": [
    {
     "data": {
      "image/png": "[encoded data removed]",
      "text/plain": [
       "<Figure size 864x720 with 30 Axes>"
      ]
     },
     "metadata": {},
     "output_type": "display_data"
    }
   ],
   "source": [
    "# 처음 X 개의 테스트 이미지와 예측 레이블, 진짜 레이블을 출력합니다\n",
    "# 올바른 예측은 파랑색으로 잘못된 예측은 빨강색으로 나타냅니다\n",
    "num_rows = 5\n",
    "num_cols = 3\n",
    "num_images = num_rows*num_cols\n",
    "plt.figure(figsize=(2*2*num_cols, 2*num_rows))\n",
    "for i in range(num_images):\n",
    "  plt.subplot(num_rows, 2*num_cols, 2*i+1)\n",
    "  plot_image(i, predictions, test_labels, test_images)\n",
    "  plt.subplot(num_rows, 2*num_cols, 2*i+2)\n",
    "  plot_value_array(i, predictions, test_labels)\n",
    "plt.show()"
   ]
  },
  {
   "cell_type": "markdown",
   "metadata": {},
   "source": [
    "마지막으로 훈련된 모델을 사용하여 한 이미지에 대한 예측을 만듭니다."
   ]
  },
  {
   "cell_type": "code",
   "execution_count": 48,
   "metadata": {},
   "outputs": [
    {
     "name": "stdout",
     "output_type": "stream",
     "text": [
      "(28, 28)\n"
     ]
    }
   ],
   "source": [
    "# 테스트 세트에서 이미지 하나를 선택합니다\n",
    "img = test_images[0]\n",
    "\n",
    "print(img.shape)"
   ]
  },
  {
   "cell_type": "markdown",
   "metadata": {},
   "source": [
    "tf.keras 모델은 한 번에 샘플의 묶음 또는 배치(batch)로 예측을 만드는데 최적화되어 있습니다. 하나의 이미지를 사용할 때에도 2차원 배열로 만들어야 합니다:"
   ]
  },
  {
   "cell_type": "code",
   "execution_count": 49,
   "metadata": {},
   "outputs": [
    {
     "name": "stdout",
     "output_type": "stream",
     "text": [
      "(1, 28, 28)\n"
     ]
    }
   ],
   "source": [
    "# 이미지 하나만 사용할 때도 배치에 추가합니다\n",
    "img = (np.expand_dims(img,0))\n",
    "\n",
    "print(img.shape)"
   ]
  },
  {
   "cell_type": "markdown",
   "metadata": {},
   "source": [
    "이제 이 이미지의 예측을 만듭니다:"
   ]
  },
  {
   "cell_type": "code",
   "execution_count": 50,
   "metadata": {},
   "outputs": [
    {
     "name": "stdout",
     "output_type": "stream",
     "text": [
      "[[1.7038102e-06 3.8548876e-08 6.6328216e-06 9.3672033e-06 2.2242282e-05\n",
      "  1.8373451e-01 1.2231185e-05 3.4479401e-01 5.1869112e-03 4.6623230e-01]]\n"
     ]
    }
   ],
   "source": [
    "predictions_single = model.predict(img)\n",
    "\n",
    "print(predictions_single)"
   ]
  },
  {
   "cell_type": "code",
   "execution_count": 51,
   "metadata": {},
   "outputs": [
    {
     "data": {
      "image/png": "[encoded data removed]",
      "text/plain": [
       "<Figure size 432x288 with 1 Axes>"
      ]
     },
     "metadata": {
      "needs_background": "light"
     },
     "output_type": "display_data"
    }
   ],
   "source": [
    "plot_value_array(0, predictions_single, test_labels)\n",
    "_ = plt.xticks(range(10), class_names, rotation=45)"
   ]
  },
  {
   "cell_type": "markdown",
   "metadata": {},
   "source": [
    "model.predict는 2차원 넘파이 배열을 반환하므로 첫 번째 이미지의 예측을 선택합니다:"
   ]
  },
  {
   "cell_type": "code",
   "execution_count": 52,
   "metadata": {},
   "outputs": [
    {
     "data": {
      "text/plain": [
       "9"
      ]
     },
     "execution_count": 52,
     "metadata": {},
     "output_type": "execute_result"
    }
   ],
   "source": [
    "np.argmax(predictions_single[0])"
   ]
  },
  {
   "cell_type": "markdown",
   "metadata": {},
   "source": [
    "## Classify text - 영화 리뷰를 사용한 텍스트 분류 "
   ]
  },
  {
   "cell_type": "markdown",
   "metadata": {},
   "source": [
    "* 데이터셋 임포트하기(로드하기)\n",
    "* 데이터 탐색\n",
    "* 데이터 전처리\n",
    "* 모델 구성\n",
    "* 모델 컴파일\n",
    "* 모델 훈련\n",
    "* 모델 평가"
   ]
  },
  {
   "cell_type": "markdown",
   "metadata": {},
   "source": [
    "이 예제는 영화 리뷰(review) 텍스트를 긍정(positive) 또는 부정(negative)으로 분류합니다. 이 예제는 이진(binary)-또는 클래스(class)가 두 개인- 분류 문제입니다. 이진 분류는 머신러닝에서 중요하고 널리 사용됩니다.\n",
    "\n",
    "여기에서는 인터넷 영화 데이터베이스(Internet Movie Database)에서 수집한 50,000개의 영화 리뷰 텍스트를 담은 IMDB 데이터셋을 사용하겠습니다. 25,000개 리뷰는 훈련용으로, 25,000개는 테스트용으로 나뉘어져 있습니다. 훈련 세트와 테스트 세트의 클래스는 균형이 잡혀 있습니다. 즉 긍정적인 리뷰와 부정적인 리뷰의 개수가 동일합니다.\n",
    "\n"
   ]
  },
  {
   "cell_type": "code",
   "execution_count": 53,
   "metadata": {},
   "outputs": [
    {
     "name": "stdout",
     "output_type": "stream",
     "text": [
      "2.0.0-alpha0\n"
     ]
    }
   ],
   "source": [
    "import tensorflow as tf\n",
    "\n",
    "import numpy as np\n",
    "\n",
    "print(tf.__version__)"
   ]
  },
  {
   "cell_type": "markdown",
   "metadata": {},
   "source": [
    "### 데이터셋 임포트하기(로드하기)"
   ]
  },
  {
   "cell_type": "markdown",
   "metadata": {},
   "source": [
    "IMDB 데이터셋은 텐서플로와 함께 제공됩니다. 리뷰(단어의 시퀀스(sequence))는 미리 전처리해서 정수 시퀀스로 변환되어 있습니다. 각 정수는 어휘 사전에 있는 특정 단어를 의미합니다.\n",
    "\n",
    "다음 코드는 IMDB 데이터셋을 컴퓨터에 다운로드합니다(또는 이전에 다운로드 받았다면 캐시된 복사본을 사용합니다):"
   ]
  },
  {
   "cell_type": "code",
   "execution_count": 54,
   "metadata": {},
   "outputs": [],
   "source": [
    "imdb = tf.keras.datasets.imdb\n",
    "\n",
    "(train_data, train_labels), (test_data, test_labels) = imdb.load_data(num_words=10000)"
   ]
  },
  {
   "cell_type": "markdown",
   "metadata": {},
   "source": [
    "매개변수 num_words=10000은 훈련 데이터에서 가장 많이 등장하는 상위 10,000개의 단어를 선택합니다. 데이터 크기를 적당하게 유지하기 위해 드물게 등장하는 단어는 제외하겠습니다."
   ]
  },
  {
   "cell_type": "markdown",
   "metadata": {},
   "source": [
    "### 데이터 탐색\n",
    "* 정수를 단어로 다시 변환하기"
   ]
  },
  {
   "cell_type": "markdown",
   "metadata": {},
   "source": [
    "잠시 데이터 형태를 알아 보죠. 이 데이터셋의 샘플은 전처리된 정수 배열입니다. 이 정수는 영화 리뷰에 나오는 단어를 나타냅니다. 레이블(label)은 정수 0 또는 1입니다. 0은 부정적인 리뷰이고 1은 긍정적인 리뷰입니다."
   ]
  },
  {
   "cell_type": "code",
   "execution_count": 55,
   "metadata": {},
   "outputs": [
    {
     "name": "stdout",
     "output_type": "stream",
     "text": [
      "훈련 샘플: 25000, 레이블: 25000\n"
     ]
    }
   ],
   "source": [
    "print(\"훈련 샘플: {}, 레이블: {}\".format(len(train_data), len(train_labels)))"
   ]
  },
  {
   "cell_type": "markdown",
   "metadata": {},
   "source": [
    "리뷰 텍스트는 어휘 사전의 특정 단어를 나타내는 정수로 변환되어 있습니다. 첫 번째 리뷰를 확인해 보죠:"
   ]
  },
  {
   "cell_type": "code",
   "execution_count": 56,
   "metadata": {},
   "outputs": [
    {
     "name": "stdout",
     "output_type": "stream",
     "text": [
      "[1, 14, 22, 16, 43, 530, 973, 1622, 1385, 65, 458, 4468, 66, 3941, 4, 173, 36, 256, 5, 25, 100, 43, 838, 112, 50, 670, 2, 9, 35, 480, 284, 5, 150, 4, 172, 112, 167, 2, 336, 385, 39, 4, 172, 4536, 1111, 17, 546, 38, 13, 447, 4, 192, 50, 16, 6, 147, 2025, 19, 14, 22, 4, 1920, 4613, 469, 4, 22, 71, 87, 12, 16, 43, 530, 38, 76, 15, 13, 1247, 4, 22, 17, 515, 17, 12, 16, 626, 18, 2, 5, 62, 386, 12, 8, 316, 8, 106, 5, 4, 2223, 5244, 16, 480, 66, 3785, 33, 4, 130, 12, 16, 38, 619, 5, 25, 124, 51, 36, 135, 48, 25, 1415, 33, 6, 22, 12, 215, 28, 77, 52, 5, 14, 407, 16, 82, 2, 8, 4, 107, 117, 5952, 15, 256, 4, 2, 7, 3766, 5, 723, 36, 71, 43, 530, 476, 26, 400, 317, 46, 7, 4, 2, 1029, 13, 104, 88, 4, 381, 15, 297, 98, 32, 2071, 56, 26, 141, 6, 194, 7486, 18, 4, 226, 22, 21, 134, 476, 26, 480, 5, 144, 30, 5535, 18, 51, 36, 28, 224, 92, 25, 104, 4, 226, 65, 16, 38, 1334, 88, 12, 16, 283, 5, 16, 4472, 113, 103, 32, 15, 16, 5345, 19, 178, 32]\n"
     ]
    }
   ],
   "source": [
    "print(train_data[0])"
   ]
  },
  {
   "cell_type": "markdown",
   "metadata": {},
   "source": [
    "영화 리뷰들은 길이가 다릅니다. 다음 코드는 첫 번째 리뷰와 두 번째 리뷰에서 단어의 개수를 출력합니다. 신경망의 입력은 길이가 같아야 하기 때문에 나중에 이 문제를 해결하겠습니다.\n",
    "\n"
   ]
  },
  {
   "cell_type": "code",
   "execution_count": 57,
   "metadata": {},
   "outputs": [
    {
     "data": {
      "text/plain": [
       "(218, 189)"
      ]
     },
     "execution_count": 57,
     "metadata": {},
     "output_type": "execute_result"
    }
   ],
   "source": [
    "len(train_data[0]), len(train_data[1])"
   ]
  },
  {
   "cell_type": "markdown",
   "metadata": {},
   "source": [
    "#### 정수를 단어로 다시 변환하기"
   ]
  },
  {
   "cell_type": "markdown",
   "metadata": {},
   "source": [
    "정수를 다시 텍스트로 변환하는 방법이 있다면 유용할 것입니다. 여기에서는 정수와 문자열을 매핑한 딕셔너리(dictionary) 객체에 질의하는 헬퍼(helper) 함수를 만들겠습니다:"
   ]
  },
  {
   "cell_type": "code",
   "execution_count": 58,
   "metadata": {},
   "outputs": [],
   "source": [
    "# 단어와 정수 인덱스를 매핑한 딕셔너리\n",
    "word_index = imdb.get_word_index()\n",
    "\n",
    "# 처음 몇 개 인덱스는 사전에 정의되어 있습니다\n",
    "word_index = {k:(v+3) for k,v in word_index.items()} \n",
    "word_index[\"<PAD>\"] = 0\n",
    "word_index[\"<START>\"] = 1\n",
    "word_index[\"<UNK>\"] = 2  # unknown\n",
    "word_index[\"<UNUSED>\"] = 3\n",
    "\n",
    "reverse_word_index = dict([(value, key) for (key, value) in word_index.items()])\n",
    "\n",
    "def decode_review(text):\n",
    "    return ' '.join([reverse_word_index.get(i, '?') for i in text])"
   ]
  },
  {
   "cell_type": "markdown",
   "metadata": {},
   "source": [
    "이제 decode_review 함수를 사용해 첫 번째 리뷰 텍스트를 출력할 수 있습니다:"
   ]
  },
  {
   "cell_type": "code",
   "execution_count": 59,
   "metadata": {},
   "outputs": [
    {
     "data": {
      "text/plain": [
       "\"<START> this film was just brilliant casting location scenery story direction everyone's really suited the part they played and you could just imagine being there robert <UNK> is an amazing actor and now the same being director <UNK> father came from the same scottish island as myself so i loved the fact there was a real connection with this film the witty remarks throughout the film were great it was just brilliant so much that i bought the film as soon as it was released for <UNK> and would recommend it to everyone to watch and the fly fishing was amazing really cried at the end it was so sad and you know what they say if you cry at a film it must have been good and this definitely was also <UNK> to the two little boy's that played the <UNK> of norman and paul they were just brilliant children are often left out of the <UNK> list i think because the stars that play them all grown up are such a big profile for the whole film but these children are amazing and should be praised for what they have done don't you think the whole story was so lovely because it was true and was someone's life after all that was shared with us all\""
      ]
     },
     "execution_count": 59,
     "metadata": {},
     "output_type": "execute_result"
    }
   ],
   "source": [
    "decode_review(train_data[0])"
   ]
  },
  {
   "cell_type": "markdown",
   "metadata": {},
   "source": [
    "### 데이터 전처리"
   ]
  },
  {
   "cell_type": "markdown",
   "metadata": {},
   "source": [
    "리뷰-정수 배열-는 신경망에 주입하기 전에 텐서로 변환되어야 합니다. 변환하는 방법에는 몇 가지가 있습니다:\n",
    "* 원-핫 인코딩(one-hot encoding)은 정수 배열을 0과 1로 이루어진 벡터로 변환합니다. 예를 들어 배열 [3, 5]을 인덱스 3과 5만 1이고 나머지는 모두 0인 10,000차원 벡터로 변환할 수 있습니다. 그다음 실수 벡터 데이터를 다룰 수 있는 층-Dense 층-을 신경망의 첫 번째 층으로 사용합니다. 이 방법은 num_words * num_reviews 크기의 행렬이 필요하기 때문에 메모리를 많이 사용합니다.\n",
    "* 다른 방법으로는, 정수 배열의 길이가 모두 같도록 패딩(padding)을 추가해 max_length * num_reviews 크기의 정수 텐서를 만듭니다. 이런 형태의 텐서를 다룰 수 있는 임베딩(embedding) 층을 신경망의 첫 번째 층으로 사용할 수 있습니다."
   ]
  },
  {
   "cell_type": "markdown",
   "metadata": {},
   "source": [
    "이 튜토리얼에서는 두 번째 방식을 사용하겠습니다.\n",
    "\n",
    "영화 리뷰의 길이가 같아야 하므로 pad_sequences 함수를 사용해 길이를 맞추겠습니다:"
   ]
  },
  {
   "cell_type": "code",
   "execution_count": 60,
   "metadata": {},
   "outputs": [],
   "source": [
    "train_data = tf.keras.preprocessing.sequence.pad_sequences(train_data,\n",
    "                                                        value=word_index[\"<PAD>\"],\n",
    "                                                        padding='post',\n",
    "                                                        maxlen=256)\n",
    "\n",
    "test_data = tf.keras.preprocessing.sequence.pad_sequences(test_data,\n",
    "                                                       value=word_index[\"<PAD>\"],\n",
    "                                                       padding='post',\n",
    "                                                       maxlen=256)"
   ]
  },
  {
   "cell_type": "markdown",
   "metadata": {},
   "source": [
    "샘플의 길이를 확인해 보죠:"
   ]
  },
  {
   "cell_type": "code",
   "execution_count": 61,
   "metadata": {},
   "outputs": [
    {
     "data": {
      "text/plain": [
       "(256, 256)"
      ]
     },
     "execution_count": 61,
     "metadata": {},
     "output_type": "execute_result"
    }
   ],
   "source": [
    "len(train_data[0]), len(train_data[1])"
   ]
  },
  {
   "cell_type": "markdown",
   "metadata": {},
   "source": [
    "(패딩된) 첫 번째 리뷰 내용을 확인해 보죠:"
   ]
  },
  {
   "cell_type": "code",
   "execution_count": 62,
   "metadata": {},
   "outputs": [
    {
     "name": "stdout",
     "output_type": "stream",
     "text": [
      "[   1   14   22   16   43  530  973 1622 1385   65  458 4468   66 3941\n",
      "    4  173   36  256    5   25  100   43  838  112   50  670    2    9\n",
      "   35  480  284    5  150    4  172  112  167    2  336  385   39    4\n",
      "  172 4536 1111   17  546   38   13  447    4  192   50   16    6  147\n",
      " 2025   19   14   22    4 1920 4613  469    4   22   71   87   12   16\n",
      "   43  530   38   76   15   13 1247    4   22   17  515   17   12   16\n",
      "  626   18    2    5   62  386   12    8  316    8  106    5    4 2223\n",
      " 5244   16  480   66 3785   33    4  130   12   16   38  619    5   25\n",
      "  124   51   36  135   48   25 1415   33    6   22   12  215   28   77\n",
      "   52    5   14  407   16   82    2    8    4  107  117 5952   15  256\n",
      "    4    2    7 3766    5  723   36   71   43  530  476   26  400  317\n",
      "   46    7    4    2 1029   13  104   88    4  381   15  297   98   32\n",
      " 2071   56   26  141    6  194 7486   18    4  226   22   21  134  476\n",
      "   26  480    5  144   30 5535   18   51   36   28  224   92   25  104\n",
      "    4  226   65   16   38 1334   88   12   16  283    5   16 4472  113\n",
      "  103   32   15   16 5345   19  178   32    0    0    0    0    0    0\n",
      "    0    0    0    0    0    0    0    0    0    0    0    0    0    0\n",
      "    0    0    0    0    0    0    0    0    0    0    0    0    0    0\n",
      "    0    0    0    0]\n"
     ]
    }
   ],
   "source": [
    "print(train_data[0])"
   ]
  },
  {
   "cell_type": "markdown",
   "metadata": {},
   "source": [
    "### 모델 구성"
   ]
  },
  {
   "cell_type": "markdown",
   "metadata": {},
   "source": [
    "신경망은 층(layer)을 쌓아서 만듭니다. 이 구조에서는 두 가지를 결정해야 합니다:\n",
    "\n",
    "* 모델에서 얼마나 많은 층을 사용할 것인가?\n",
    "* 각 층에서 얼마나 많은 은닉 유닛(hidden unit)을 사용할 것인가?\n",
    "\n",
    "이 예제의 입력 데이터는 단어 인덱스의 배열입니다. 예측할 레이블은 0 또는 1입니다. 이 문제에 맞는 모델을 구성해 보죠:"
   ]
  },
  {
   "cell_type": "code",
   "execution_count": 63,
   "metadata": {},
   "outputs": [],
   "source": [
    "# 앞의 실습 모델이 jupyter notebook 상에 계속 연결되므로 정리해주는 코드를 추가  \n",
    "tf.keras.backend.clear_session()"
   ]
  },
  {
   "cell_type": "code",
   "execution_count": 65,
   "metadata": {},
   "outputs": [
    {
     "name": "stdout",
     "output_type": "stream",
     "text": [
      "Model: \"sequential_1\"\n",
      "_________________________________________________________________\n",
      "Layer (type)                 Output Shape              Param #   \n",
      "=================================================================\n",
      "embedding (Embedding)        (None, None, 16)          160000    \n",
      "_________________________________________________________________\n",
      "global_average_pooling1d (Gl (None, 16)                0         \n",
      "_________________________________________________________________\n",
      "dense (Dense)                (None, 16)                272       \n",
      "_________________________________________________________________\n",
      "dense_1 (Dense)              (None, 1)                 17        \n",
      "=================================================================\n",
      "Total params: 160,289\n",
      "Trainable params: 160,289\n",
      "Non-trainable params: 0\n",
      "_________________________________________________________________\n"
     ]
    }
   ],
   "source": [
    "# 입력 크기는 영화 리뷰 데이터셋에 적용된 어휘 사전의 크기입니다(10,000개의 단어)\n",
    "vocab_size = 10000\n",
    "\n",
    "model = tf.keras.Sequential()\n",
    "model.add(tf.keras.layers.Embedding(vocab_size, 16, input_shape=(None,)))\n",
    "model.add(tf.keras.layers.GlobalAveragePooling1D())\n",
    "model.add(tf.keras.layers.Dense(16, activation='relu'))\n",
    "model.add(tf.keras.layers.Dense(1, activation='sigmoid'))\n",
    "\n",
    "model.summary()"
   ]
  },
  {
   "cell_type": "markdown",
   "metadata": {},
   "source": [
    "층을 순서대로 쌓아 분류기(classifier)를 만듭니다:\n",
    "\n",
    "1. 첫 번째 층은 Embedding 층입니다. 이 층은 정수로 인코딩된 단어를 입력 받고 각 단어 인덱스에 해당하는 임베딩 벡터를 찾습니다. 이 벡터는 모델이 훈련되면서 학습됩니다. 이 벡터는 출력 배열에 새로운 차원으로 추가됩니다. 최종 차원은 (batch, sequence, embedding)이 됩니다.\n",
    "2. 그다음 GlobalAveragePooling1D 층은 sequence 차원에 대해 평균을 계산하여 각 샘플에 대해 고정된 길이의 출력 벡터를 반환합니다. 이는 길이가 다른 입력을 다루는 가장 간단한 방법입니다.\n",
    "3. 이 고정 길이의 출력 벡터는 16개의 은닉 유닛을 가진 완전 연결(fully-connected) 층(Dense)을 거칩니다.\n",
    "4. 마지막 층은 하나의 출력 노드(node)를 가진 완전 연결 층입니다. sigmoid 활성화 함수를 사용하여 0과 1 사이의 실수를 출력합니다. 이 값은 확률 또는 신뢰도를 나타냅니다."
   ]
  },
  {
   "cell_type": "markdown",
   "metadata": {},
   "source": [
    "### 모델 컴파일"
   ]
  },
  {
   "cell_type": "markdown",
   "metadata": {},
   "source": [
    "#### 손실 함수와 옵티마이저"
   ]
  },
  {
   "cell_type": "markdown",
   "metadata": {},
   "source": [
    "모델이 훈련하려면 손실 함수(loss function)과 옵티마이저(optimizer)가 필요합니다. 이 예제는 이진 분류 문제이고 모델이 확률을 출력하므로(출력층의 유닛이 하나이고 sigmoid 활성화 함수를 사용합니다), binary_crossentropy 손실 함수를 사용하겠습니다."
   ]
  },
  {
   "cell_type": "markdown",
   "metadata": {},
   "source": [
    "이제 모델이 사용할 옵티마이저와 손실 함수를 설정해 보죠:"
   ]
  },
  {
   "cell_type": "code",
   "execution_count": 66,
   "metadata": {},
   "outputs": [],
   "source": [
    "model.compile(optimizer='adam',\n",
    "              loss='binary_crossentropy',\n",
    "              metrics=['accuracy'])"
   ]
  },
  {
   "cell_type": "markdown",
   "metadata": {},
   "source": [
    "### 모델 훈련"
   ]
  },
  {
   "cell_type": "markdown",
   "metadata": {},
   "source": [
    "#### 검증 세트 만들기"
   ]
  },
  {
   "cell_type": "markdown",
   "metadata": {},
   "source": [
    "모델을 훈련할 때 모델이 만난 적 없는 데이터에서 정확도를 확인하는 것이 좋습니다. 원본 훈련 데이터에서 10,000개의 샘플을 떼어내어 검증 세트(validation set)를 만들겠습니다. (왜 테스트 세트를 사용하지 않을까요? 훈련 데이터만을 사용하여 모델을 개발하고 튜닝하는 것이 목표입니다. 그다음 테스트 세트를 사용해서 딱 한 번만 정확도를 평가합니다)."
   ]
  },
  {
   "cell_type": "code",
   "execution_count": 67,
   "metadata": {},
   "outputs": [],
   "source": [
    "x_val = train_data[:10000]\n",
    "partial_x_train = train_data[10000:]\n",
    "\n",
    "y_val = train_labels[:10000]\n",
    "partial_y_train = train_labels[10000:]"
   ]
  },
  {
   "cell_type": "markdown",
   "metadata": {},
   "source": [
    "이 모델을 512개의 샘플로 이루어진 미니배치(mini-batch)에서 40번의 에포크(epoch) 동안 훈련합니다. x_train과 y_train 텐서에 있는 모든 샘플에 대해 40번 반복한다는 뜻입니다. 훈련하는 동안 10,000개의 검증 세트에서 모델의 손실과 정확도를 모니터링합니다:"
   ]
  },
  {
   "cell_type": "code",
   "execution_count": 68,
   "metadata": {},
   "outputs": [
    {
     "name": "stdout",
     "output_type": "stream",
     "text": [
      "Train on 15000 samples, validate on 10000 samples\n",
      "Epoch 1/40\n",
      "15000/15000 [==============================] - 1s 47us/sample - loss: 0.6920 - accuracy: 0.5483 - val_loss: 0.6901 - val_accuracy: 0.5872\n",
      "Epoch 2/40\n",
      "15000/15000 [==============================] - 0s 30us/sample - loss: 0.6865 - accuracy: 0.6757 - val_loss: 0.6829 - val_accuracy: 0.7167\n",
      "Epoch 3/40\n",
      "15000/15000 [==============================] - 0s 32us/sample - loss: 0.6755 - accuracy: 0.7396 - val_loss: 0.6693 - val_accuracy: 0.7458\n",
      "Epoch 4/40\n",
      "15000/15000 [==============================] - 0s 32us/sample - loss: 0.6567 - accuracy: 0.7506 - val_loss: 0.6480 - val_accuracy: 0.7539\n",
      "Epoch 5/40\n",
      "15000/15000 [==============================] - 0s 32us/sample - loss: 0.6292 - accuracy: 0.7833 - val_loss: 0.6190 - val_accuracy: 0.7773\n",
      "Epoch 6/40\n",
      "15000/15000 [==============================] - 1s 35us/sample - loss: 0.5937 - accuracy: 0.8053 - val_loss: 0.5842 - val_accuracy: 0.7947\n",
      "Epoch 7/40\n",
      "15000/15000 [==============================] - 0s 32us/sample - loss: 0.5528 - accuracy: 0.8181 - val_loss: 0.5451 - val_accuracy: 0.8106\n",
      "Epoch 8/40\n",
      "15000/15000 [==============================] - 0s 33us/sample - loss: 0.5097 - accuracy: 0.8365 - val_loss: 0.5058 - val_accuracy: 0.8231\n",
      "Epoch 9/40\n",
      "15000/15000 [==============================] - 0s 33us/sample - loss: 0.4659 - accuracy: 0.8509 - val_loss: 0.4675 - val_accuracy: 0.8361\n",
      "Epoch 10/40\n",
      "15000/15000 [==============================] - 1s 34us/sample - loss: 0.4255 - accuracy: 0.8651 - val_loss: 0.4345 - val_accuracy: 0.8434\n",
      "Epoch 11/40\n",
      "15000/15000 [==============================] - 1s 34us/sample - loss: 0.3903 - accuracy: 0.8742 - val_loss: 0.4065 - val_accuracy: 0.8536\n",
      "Epoch 12/40\n",
      "15000/15000 [==============================] - 1s 33us/sample - loss: 0.3602 - accuracy: 0.8831 - val_loss: 0.3847 - val_accuracy: 0.8561\n",
      "Epoch 13/40\n",
      "15000/15000 [==============================] - 1s 34us/sample - loss: 0.3356 - accuracy: 0.8902 - val_loss: 0.3650 - val_accuracy: 0.8631\n",
      "Epoch 14/40\n",
      "15000/15000 [==============================] - 1s 33us/sample - loss: 0.3134 - accuracy: 0.8953 - val_loss: 0.3506 - val_accuracy: 0.8671\n",
      "Epoch 15/40\n",
      "15000/15000 [==============================] - 0s 32us/sample - loss: 0.2951 - accuracy: 0.8996 - val_loss: 0.3384 - val_accuracy: 0.8701\n",
      "Epoch 16/40\n",
      "15000/15000 [==============================] - 1s 34us/sample - loss: 0.2787 - accuracy: 0.9049 - val_loss: 0.3284 - val_accuracy: 0.8727\n",
      "Epoch 17/40\n",
      "15000/15000 [==============================] - 0s 32us/sample - loss: 0.2638 - accuracy: 0.9095 - val_loss: 0.3200 - val_accuracy: 0.8747\n",
      "Epoch 18/40\n",
      "15000/15000 [==============================] - 0s 32us/sample - loss: 0.2507 - accuracy: 0.9139 - val_loss: 0.3126 - val_accuracy: 0.8783\n",
      "Epoch 19/40\n",
      "15000/15000 [==============================] - 0s 33us/sample - loss: 0.2388 - accuracy: 0.9183 - val_loss: 0.3065 - val_accuracy: 0.8785\n",
      "Epoch 20/40\n",
      "15000/15000 [==============================] - 0s 33us/sample - loss: 0.2281 - accuracy: 0.9210 - val_loss: 0.3022 - val_accuracy: 0.8797\n",
      "Epoch 21/40\n",
      "15000/15000 [==============================] - 0s 32us/sample - loss: 0.2175 - accuracy: 0.9261 - val_loss: 0.2983 - val_accuracy: 0.8796\n",
      "Epoch 22/40\n",
      "15000/15000 [==============================] - 0s 33us/sample - loss: 0.2085 - accuracy: 0.9283 - val_loss: 0.2946 - val_accuracy: 0.8833\n",
      "Epoch 23/40\n",
      "15000/15000 [==============================] - 0s 33us/sample - loss: 0.1994 - accuracy: 0.9310 - val_loss: 0.2927 - val_accuracy: 0.8819\n",
      "Epoch 24/40\n",
      "15000/15000 [==============================] - 0s 33us/sample - loss: 0.1915 - accuracy: 0.9356 - val_loss: 0.2900 - val_accuracy: 0.8833\n",
      "Epoch 25/40\n",
      "15000/15000 [==============================] - 1s 34us/sample - loss: 0.1835 - accuracy: 0.9394 - val_loss: 0.2878 - val_accuracy: 0.8843\n",
      "Epoch 26/40\n",
      "15000/15000 [==============================] - 1s 34us/sample - loss: 0.1763 - accuracy: 0.9429 - val_loss: 0.2875 - val_accuracy: 0.8833\n",
      "Epoch 27/40\n",
      "15000/15000 [==============================] - 1s 34us/sample - loss: 0.1696 - accuracy: 0.9459 - val_loss: 0.2863 - val_accuracy: 0.8843\n",
      "Epoch 28/40\n",
      "15000/15000 [==============================] - 1s 34us/sample - loss: 0.1631 - accuracy: 0.9487 - val_loss: 0.2857 - val_accuracy: 0.8845\n",
      "Epoch 29/40\n",
      "15000/15000 [==============================] - 1s 34us/sample - loss: 0.1575 - accuracy: 0.9509 - val_loss: 0.2866 - val_accuracy: 0.8842\n",
      "Epoch 30/40\n",
      "15000/15000 [==============================] - 1s 34us/sample - loss: 0.1516 - accuracy: 0.9529 - val_loss: 0.2855 - val_accuracy: 0.8853\n",
      "Epoch 31/40\n",
      "15000/15000 [==============================] - 0s 33us/sample - loss: 0.1456 - accuracy: 0.9564 - val_loss: 0.2858 - val_accuracy: 0.8861\n",
      "Epoch 32/40\n",
      "15000/15000 [==============================] - 1s 34us/sample - loss: 0.1402 - accuracy: 0.9581 - val_loss: 0.2865 - val_accuracy: 0.8863\n",
      "Epoch 33/40\n",
      "15000/15000 [==============================] - 1s 34us/sample - loss: 0.1350 - accuracy: 0.9590 - val_loss: 0.2880 - val_accuracy: 0.8855\n",
      "Epoch 34/40\n",
      "15000/15000 [==============================] - 0s 32us/sample - loss: 0.1303 - accuracy: 0.9623 - val_loss: 0.2891 - val_accuracy: 0.8856\n",
      "Epoch 35/40\n",
      "15000/15000 [==============================] - 0s 32us/sample - loss: 0.1261 - accuracy: 0.9627 - val_loss: 0.2909 - val_accuracy: 0.8859\n",
      "Epoch 36/40\n",
      "15000/15000 [==============================] - 1s 34us/sample - loss: 0.1214 - accuracy: 0.9654 - val_loss: 0.2922 - val_accuracy: 0.8858\n",
      "Epoch 37/40\n",
      "15000/15000 [==============================] - 1s 34us/sample - loss: 0.1169 - accuracy: 0.9672 - val_loss: 0.2941 - val_accuracy: 0.8859\n",
      "Epoch 38/40\n",
      "15000/15000 [==============================] - 0s 32us/sample - loss: 0.1128 - accuracy: 0.9686 - val_loss: 0.2968 - val_accuracy: 0.8839\n",
      "Epoch 39/40\n",
      "15000/15000 [==============================] - 0s 33us/sample - loss: 0.1094 - accuracy: 0.9695 - val_loss: 0.2991 - val_accuracy: 0.8840\n",
      "Epoch 40/40\n",
      "15000/15000 [==============================] - 1s 34us/sample - loss: 0.1053 - accuracy: 0.9716 - val_loss: 0.3010 - val_accuracy: 0.8845\n"
     ]
    }
   ],
   "source": [
    "history = model.fit(partial_x_train,\n",
    "                    partial_y_train,\n",
    "                    epochs=40,\n",
    "                    batch_size=512,\n",
    "                    validation_data=(x_val, y_val),\n",
    "                    verbose=1)"
   ]
  },
  {
   "cell_type": "markdown",
   "metadata": {},
   "source": [
    "### 모델 평가"
   ]
  },
  {
   "cell_type": "markdown",
   "metadata": {},
   "source": [
    "모델의 성능을 확인해 보죠. 두 개의 값이 반환됩니다. 손실(오차를 나타내는 숫자이므로 낮을수록 좋습니다)과 정확도입니다."
   ]
  },
  {
   "cell_type": "code",
   "execution_count": 69,
   "metadata": {},
   "outputs": [
    {
     "name": "stdout",
     "output_type": "stream",
     "text": [
      "25000/25000 [==============================] - 1s 22us/sample - loss: 0.3205 - accuracy: 0.8731\n",
      "[0.32049466516971586, 0.87312]\n"
     ]
    }
   ],
   "source": [
    "results = model.evaluate(test_data, test_labels)\n",
    "\n",
    "print(results)"
   ]
  },
  {
   "cell_type": "markdown",
   "metadata": {},
   "source": [
    "이 예제는 매우 단순한 방식을 사용하므로 87% 정도의 정확도를 달성했습니다. 고급 방법을 사용한 모델은 95%에 가까운 정확도를 얻습니다."
   ]
  },
  {
   "cell_type": "markdown",
   "metadata": {},
   "source": [
    "#### 정확도와 손실 그래프 그리기"
   ]
  },
  {
   "cell_type": "markdown",
   "metadata": {},
   "source": [
    "model.fit()은 History 객체를 반환합니다. 여기에는 훈련하는 동안 일어난 모든 정보가 담긴 딕셔너리(dictionary)가 들어 있습니다:"
   ]
  },
  {
   "cell_type": "code",
   "execution_count": 70,
   "metadata": {},
   "outputs": [
    {
     "data": {
      "text/plain": [
       "dict_keys(['loss', 'accuracy', 'val_loss', 'val_accuracy'])"
      ]
     },
     "execution_count": 70,
     "metadata": {},
     "output_type": "execute_result"
    }
   ],
   "source": [
    "history_dict = history.history\n",
    "history_dict.keys()"
   ]
  },
  {
   "cell_type": "markdown",
   "metadata": {},
   "source": [
    "네 개의 항목이 있습니다. 훈련과 검증 단계에서 모니터링하는 지표들입니다. 훈련 손실과 검증 손실을 그래프로 그려 보고, 훈련 정확도와 검증 정확도도 그래프로 그려서 비교해 보겠습니다:"
   ]
  },
  {
   "cell_type": "code",
   "execution_count": 71,
   "metadata": {},
   "outputs": [
    {
     "data": {
      "image/png": "[encoded data removed]",
      "text/plain": [
       "<Figure size 432x288 with 1 Axes>"
      ]
     },
     "metadata": {
      "needs_background": "light"
     },
     "output_type": "display_data"
    }
   ],
   "source": [
    "import matplotlib.pyplot as plt\n",
    "\n",
    "acc = history_dict['accuracy']\n",
    "val_acc = history_dict['val_accuracy']\n",
    "loss = history_dict['loss']\n",
    "val_loss = history_dict['val_loss']\n",
    "\n",
    "epochs = range(1, len(acc) + 1)\n",
    "\n",
    "# \"bo\"는 \"파란색 점\"입니다\n",
    "plt.plot(epochs, loss, 'bo', label='Training loss')\n",
    "# b는 \"파란 실선\"입니다\n",
    "plt.plot(epochs, val_loss, 'b', label='Validation loss')\n",
    "plt.title('Training and validation loss')\n",
    "plt.xlabel('Epochs')\n",
    "plt.ylabel('Loss')\n",
    "plt.legend()\n",
    "\n",
    "plt.show()"
   ]
  },
  {
   "cell_type": "code",
   "execution_count": 72,
   "metadata": {},
   "outputs": [
    {
     "data": {
      "image/png": "[encoded data removed]",
      "text/plain": [
       "<Figure size 432x288 with 1 Axes>"
      ]
     },
     "metadata": {
      "needs_background": "light"
     },
     "output_type": "display_data"
    }
   ],
   "source": [
    "plt.clf()   # 그림을 초기화합니다\n",
    "\n",
    "plt.plot(epochs, acc, 'bo', label='Training acc')\n",
    "plt.plot(epochs, val_acc, 'b', label='Validation acc')\n",
    "plt.title('Training and validation accuracy')\n",
    "plt.xlabel('Epochs')\n",
    "plt.ylabel('Accuracy')\n",
    "plt.legend()\n",
    "\n",
    "plt.show()"
   ]
  },
  {
   "cell_type": "markdown",
   "metadata": {},
   "source": [
    "## Overfittig and underfitting (과대적합과 과소적합)\n",
    "* IMDB 데이터셋 다운로드\n",
    "* Overfitting(과대적합 예제)\n",
    "    - 기준 모델 만들기\n",
    "    - 작은 모델 만들기\n",
    "    - 큰 모델 만들기\n",
    "    - 훈련 손실과 검증 손실 그래프 그리기\n",
    "* Overfittig(과대적합)을 방지하기 위한 전략\n",
    "    - Weight Regularization (가중치를 규제하기)\n",
    "    - DropOut (드롭아웃 추가하기) "
   ]
  },
  {
   "cell_type": "markdown",
   "metadata": {},
   "source": [
    "<img src=\"http://sanghyukchun.github.io/images/post/59-1.png\" width=600 />\n",
    "\n",
    "* 출처 - http://sanghyukchun.github.io/59/"
   ]
  },
  {
   "cell_type": "markdown",
   "metadata": {},
   "source": [
    "<img src=\"https://nbviewer.jupyter.org/github/KonanAcademy/deep/blob/master/seminar/season02/ch05/ch05_03/figures/fig5.2.png\" width=600 />\n",
    "\n",
    "* 출처 - Deep Learng book - http://www.deeplearningbook.org/"
   ]
  },
  {
   "cell_type": "markdown",
   "metadata": {},
   "source": [
    "<img src=\"https://static1.squarespace.com/static/5288f78fe4b088c60f4c3232/t/5a1bee80ec212d9bd32000bf/1511779974123/02.png\" width=600 />\n",
    "\n",
    "* 출처 - http://blog.agileactors.com/blog/2017/11/27/big-challenge-in-deep-learning-training-data"
   ]
  },
  {
   "cell_type": "markdown",
   "metadata": {},
   "source": [
    "<img src=\"http://www.svms.org/srm/Sewell2006.png\" width=600 />\n",
    "\n",
    "* 출처 - http://www.svms.org/srm/"
   ]
  },
  {
   "cell_type": "markdown",
   "metadata": {},
   "source": [
    "<img src=\"http://cs231n.github.io/assets/dataflow.jpeg\" width=600 />\n",
    "\n",
    "* 출처 - http://cs231n.github.io/optimization-1/"
   ]
  },
  {
   "cell_type": "markdown",
   "metadata": {},
   "source": [
    "<img src=\"http://yosinski.com/mlss12/media/slides/MLSS-2012-Fukumizu-Kernel-Methods-for-Statistical-Learning_050.png\" width=600 />\n",
    "\n",
    "* 출처 - http://yosinski.com/mlss12/media/slides/MLSS-2012-Fukumizu-Kernel-Methods-for-Statistical-Learning.pdf"
   ]
  },
  {
   "cell_type": "markdown",
   "metadata": {},
   "source": [
    "<img src=\"https://nbviewer.jupyter.org/github/songorithm/ML/blob/master/part2/study04/dml07/figures/cap7.21.png\" width=600 />\n",
    "\n",
    "출처 - Deep Learng book - http://www.deeplearningbook.org/"
   ]
  },
  {
   "cell_type": "markdown",
   "metadata": {},
   "source": [
    "<img src=\"http://cs231n.github.io/assets/nn2/dropout.jpeg\" width=600 />\n",
    "\n",
    "* 출처 - http://cs231n.github.io/neural-networks-2/"
   ]
  },
  {
   "cell_type": "markdown",
   "metadata": {},
   "source": [
    "앞서 영화 리뷰 분류와 주택 가격 예측의 두 예제에서 일정 에포크 동안 훈련하면 검증 세트에서 모델 성능이 최고점에 도달한 다음 감소하기 시작한 것을 보았습니다.\n",
    "\n",
    "다른 말로 하면, 모델이 훈련 세트에 과대적합(overfitting)된 것입니다. 과대적합을 다루는 방법은 꼭 배워야 합니다. 훈련 세트에서 높은 성능을 얻을 수 있지만 진짜 원하는 것은 테스트 세트(또는 이전에 본 적 없는 데이터)에 잘 일반화되는 모델입니다.\n",
    "\n",
    "과대적합의 반대는 과소적합(underfitting)입니다. 과소적합은 테스트 세트의 성능이 향상될 여지가 아직 있을 때 일어납니다. 발생하는 원인은 여러가지입니다. 모델이 너무 단순하거나, 규제가 너무 많거나, 그냥 단순히 충분히 오래 훈련하지 않는 경우입니다. 즉 네트워크가 훈련 세트에서 적절한 패턴을 학습하지 못했다는 뜻입니다.\n",
    "\n",
    "모델을 너무 오래 훈련하면 과대적합되기 시작하고 테스트 세트에서 일반화되지 못하는 패턴을 훈련 세트에서 학습합니다. 과대적합과 과소적합 사이에서 균형을 잡아야 합니다. 이를 위해 적절한 에포크 횟수동안 모델을 훈련하는 방법을 배워보겠습니다.\n",
    "\n",
    "과대적합을 막는 가장 좋은 방법은 더 많은 훈련 데이터를 사용하는 것입니다. 많은 데이터에서 훈련한 모델은 자연적으로 일반화 성능이 더 좋습니다. 데이터를 더 준비할 수 없을 때 그다음으로 가장 좋은 방법은 규제(regularization)와 같은 기법을 사용하는 것입니다. 모델이 저장할 수 있는 정보의 양과 종류에 제약을 부과하는 방법입니다. 네트워크가 소수의 패턴만 기억할 수 있다면 최적화 과정 동안 일반화 가능성이 높은 가장 중요한 패턴에 촛점을 맞출 것입니다.\n",
    "\n",
    "이 노트북에서 널리 사용되는 두 가지 규제 기법인 가중치 규제와 드롭아웃(dropout)을 알아 보겠습니다. 이런 기법을 사용하여 IMDB 영화 리뷰 분류 모델의 성능을 향상시켜 보죠."
   ]
  },
  {
   "cell_type": "markdown",
   "metadata": {},
   "source": [
    "### IMDB 데이터셋 다운로드"
   ]
  },
  {
   "cell_type": "markdown",
   "metadata": {},
   "source": [
    "이전 노트북에서처럼 임베딩을 사용하지 않고 여기에서는 문장을 멀티-핫 인코딩(multi-hot encoding)으로 변환하겠습니다. 이 모델은 훈련 세트에 빠르게 과대적합될 것입니다. 과대적합을 발생시키기고 어떻게 해결하는지 보이기 위해 선택했습니다.\n",
    "\n",
    "멀티-핫 인코딩은 정수 시퀀스를 0과 1로 이루어진 벡터로 변환합니다. 정확하게 말하면 시퀀스 [3, 5]를 인덱스 3과 5만 1이고 나머지는 모두 0인 10,000 차원 벡터로 변환한다는 의미입니다."
   ]
  },
  {
   "cell_type": "code",
   "execution_count": 74,
   "metadata": {},
   "outputs": [],
   "source": [
    "NUM_WORDS = 10000\n",
    "\n",
    "(train_data, train_labels), (test_data, test_labels) = tf.keras.datasets.imdb.load_data(num_words=NUM_WORDS)\n"
   ]
  },
  {
   "cell_type": "code",
   "execution_count": 75,
   "metadata": {},
   "outputs": [],
   "source": [
    "def multi_hot_sequences(sequences, dimension):\n",
    "    # 0으로 채워진 (len(sequences), dimension) 크기의 행렬을 만듭니다\n",
    "    results = np.zeros((len(sequences), dimension))\n",
    "    for i, word_indices in enumerate(sequences):\n",
    "        results[i, word_indices] = 1.0  # results[i]의 특정 인덱스만 1로 설정합니다\n",
    "    return results"
   ]
  },
  {
   "cell_type": "code",
   "execution_count": 76,
   "metadata": {},
   "outputs": [],
   "source": [
    "train_data = multi_hot_sequences(train_data, dimension=NUM_WORDS)\n",
    "test_data = multi_hot_sequences(test_data, dimension=NUM_WORDS)"
   ]
  },
  {
   "cell_type": "markdown",
   "metadata": {},
   "source": [
    "만들어진 멀티-핫 벡터 중 하나를 살펴 보죠. 단어 인덱스는 빈도 순으로 정렬되어 있습니다. 그래프에서 볼 수 있듯이 인덱스 0에 가까울수록 1이 많이 등장합니다:"
   ]
  },
  {
   "cell_type": "code",
   "execution_count": 77,
   "metadata": {},
   "outputs": [
    {
     "data": {
      "text/plain": [
       "[<matplotlib.lines.Line2D at 0x1514e34e0>]"
      ]
     },
     "execution_count": 77,
     "metadata": {},
     "output_type": "execute_result"
    },
    {
     "data": {
      "image/png": "[encoded data removed]",
      "text/plain": [
       "<Figure size 432x288 with 1 Axes>"
      ]
     },
     "metadata": {
      "needs_background": "light"
     },
     "output_type": "display_data"
    }
   ],
   "source": [
    "plt.plot(train_data[0])"
   ]
  },
  {
   "cell_type": "markdown",
   "metadata": {},
   "source": [
    "### Overfitting(과대적합 예제)\n",
    "* 기준 모델 만들기\n",
    "* 작은 모델 만들기\n",
    "* 큰 모델 만들기\n",
    "* Training Loss(훈련 손실)과 Validation Loss(검증 손실) 그래프 그리기"
   ]
  },
  {
   "cell_type": "markdown",
   "metadata": {},
   "source": [
    "과대적합을 막는 가장 간단한 방법은 모델의 규모를 축소하는 것입니다. 즉, 모델에 있는 학습 가능한 파라미터의 수를 줄입니다(모델 파라미터는 층(layer)의 개수와 층의 유닛(unit) 개수에 의해 결정됩니다). 딥러닝에서는 모델의 학습 가능한 파라미터의 수를 종종 모델의 \"용량\"이라고 말합니다. 직관적으로 생각해 보면 많은 파라미터를 가진 모델이 더 많은 \"기억 용량\"을 가집니다. 이런 모델은 훈련 샘플과 타깃 사이를 일반화 능력이 없는 딕셔너리와 같은 매핑으로 완벽하게 학습할 수 있습니다. 하지만 이전에 본 적 없는 데이터에서 예측을 할 땐 쓸모가 없을 것입니다.\n",
    "\n",
    "항상 기억해야 할 점은 딥러닝 모델이 훈련 세트에는 학습이 잘 되는 경향이 있지만 진짜 해결할 문제는 학습이 아니라 일반화라는 것입니다.\n",
    "\n",
    "반면에 네트워크의 기억 용량이 부족하다면 이런 매핑을 쉽게 학습할 수 없을 것입니다. 손실을 최소화하기 위해서는 예측 성능이 더 많은 압축된 표현을 학습해야 합니다. 또한 너무 작은 모델을 만들면 훈련 데이터를 학습하기 어렵울 것입니다. \"너무 많은 용량\"과 \"충분하지 않은 용량\" 사이의 균형을 잡아야 합니다.\n",
    "\n",
    "안타깝지만 어떤 모델의 (층의 개수나 뉴런 개수에 해당하는) 적절한 크기나 구조를 결정하는 마법같은 공식은 없습니다. 여러 가지 다른 구조를 사용해 실험을 해봐야만 합니다.\n",
    "\n",
    "알맞은 모델의 크기를 찾으려면 비교적 적은 수의 층과 파라미터로 시작해서 검증 손실이 감소할 때까지 새로운 층을 추가하거나 층의 크기를 늘리는 것이 좋습니다. 영화 리뷰 분류 네트워크를 사용해 이를 실험해 보죠.\n",
    "\n",
    "Dense 층만 사용하는 간단한 기준 모델을 만들고 작은 규모의 버전와 큰 버전의 모델을 만들어 비교하겠습니다."
   ]
  },
  {
   "cell_type": "markdown",
   "metadata": {},
   "source": [
    "#### 기준 모델 만들기"
   ]
  },
  {
   "cell_type": "code",
   "execution_count": 78,
   "metadata": {},
   "outputs": [],
   "source": [
    "# 앞의 실습 모델이 jupyter notebook 상에 계속 연결되므로 정리해주는 코드를 추가  \n",
    "tf.keras.backend.clear_session()"
   ]
  },
  {
   "cell_type": "code",
   "execution_count": 79,
   "metadata": {},
   "outputs": [
    {
     "name": "stdout",
     "output_type": "stream",
     "text": [
      "Model: \"sequential\"\n",
      "_________________________________________________________________\n",
      "Layer (type)                 Output Shape              Param #   \n",
      "=================================================================\n",
      "dense (Dense)                (None, 16)                160016    \n",
      "_________________________________________________________________\n",
      "dense_1 (Dense)              (None, 16)                272       \n",
      "_________________________________________________________________\n",
      "dense_2 (Dense)              (None, 1)                 17        \n",
      "=================================================================\n",
      "Total params: 160,305\n",
      "Trainable params: 160,305\n",
      "Non-trainable params: 0\n",
      "_________________________________________________________________\n"
     ]
    }
   ],
   "source": [
    "baseline_model = tf.keras.Sequential([\n",
    "    # `.summary` 메서드 때문에 `input_shape`가 필요합니다\n",
    "    tf.keras.layers.Dense(16, activation='relu', input_shape=(NUM_WORDS,)),\n",
    "    tf.keras.layers.Dense(16, activation='relu'),\n",
    "    tf.keras.layers.Dense(1, activation='sigmoid')\n",
    "])\n",
    "\n",
    "baseline_model.compile(optimizer='adam',\n",
    "                       loss='binary_crossentropy',\n",
    "                       metrics=['accuracy', 'binary_crossentropy'])\n",
    "\n",
    "baseline_model.summary()"
   ]
  },
  {
   "cell_type": "code",
   "execution_count": 80,
   "metadata": {},
   "outputs": [
    {
     "name": "stdout",
     "output_type": "stream",
     "text": [
      "Train on 25000 samples, validate on 25000 samples\n",
      "Epoch 1/20\n",
      "25000/25000 - 5s - loss: 0.4541 - accuracy: 0.8197 - binary_crossentropy: 0.4541 - val_loss: 0.3167 - val_accuracy: 0.8821 - val_binary_crossentropy: 0.3167\n",
      "Epoch 2/20\n",
      "25000/25000 - 3s - loss: 0.2317 - accuracy: 0.9171 - binary_crossentropy: 0.2317 - val_loss: 0.2835 - val_accuracy: 0.8883 - val_binary_crossentropy: 0.2835\n",
      "Epoch 3/20\n",
      "25000/25000 - 3s - loss: 0.1702 - accuracy: 0.9411 - binary_crossentropy: 0.1702 - val_loss: 0.2995 - val_accuracy: 0.8802 - val_binary_crossentropy: 0.2995\n",
      "Epoch 4/20\n",
      "25000/25000 - 3s - loss: 0.1367 - accuracy: 0.9530 - binary_crossentropy: 0.1367 - val_loss: 0.3525 - val_accuracy: 0.8674 - val_binary_crossentropy: 0.3525\n",
      "Epoch 5/20\n",
      "25000/25000 - 3s - loss: 0.1088 - accuracy: 0.9642 - binary_crossentropy: 0.1088 - val_loss: 0.3646 - val_accuracy: 0.8708 - val_binary_crossentropy: 0.3646\n",
      "Epoch 6/20\n",
      "25000/25000 - 3s - loss: 0.0847 - accuracy: 0.9746 - binary_crossentropy: 0.0847 - val_loss: 0.3987 - val_accuracy: 0.8682 - val_binary_crossentropy: 0.3987\n",
      "Epoch 7/20\n",
      "25000/25000 - 3s - loss: 0.0640 - accuracy: 0.9834 - binary_crossentropy: 0.0640 - val_loss: 0.4385 - val_accuracy: 0.8648 - val_binary_crossentropy: 0.4385\n",
      "Epoch 8/20\n",
      "25000/25000 - 3s - loss: 0.0493 - accuracy: 0.9892 - binary_crossentropy: 0.0493 - val_loss: 0.4834 - val_accuracy: 0.8624 - val_binary_crossentropy: 0.4834\n",
      "Epoch 9/20\n",
      "25000/25000 - 3s - loss: 0.0362 - accuracy: 0.9938 - binary_crossentropy: 0.0362 - val_loss: 0.5235 - val_accuracy: 0.8611 - val_binary_crossentropy: 0.5235\n",
      "Epoch 10/20\n",
      "25000/25000 - 3s - loss: 0.0279 - accuracy: 0.9960 - binary_crossentropy: 0.0279 - val_loss: 0.5667 - val_accuracy: 0.8594 - val_binary_crossentropy: 0.5667\n",
      "Epoch 11/20\n",
      "25000/25000 - 3s - loss: 0.0202 - accuracy: 0.9977 - binary_crossentropy: 0.0202 - val_loss: 0.6056 - val_accuracy: 0.8572 - val_binary_crossentropy: 0.6056\n",
      "Epoch 12/20\n",
      "25000/25000 - 3s - loss: 0.0150 - accuracy: 0.9988 - binary_crossentropy: 0.0150 - val_loss: 0.6393 - val_accuracy: 0.8576 - val_binary_crossentropy: 0.6393\n",
      "Epoch 13/20\n",
      "25000/25000 - 3s - loss: 0.0113 - accuracy: 0.9992 - binary_crossentropy: 0.0113 - val_loss: 0.6739 - val_accuracy: 0.8562 - val_binary_crossentropy: 0.6739\n",
      "Epoch 14/20\n",
      "25000/25000 - 3s - loss: 0.0086 - accuracy: 0.9995 - binary_crossentropy: 0.0086 - val_loss: 0.7043 - val_accuracy: 0.8558 - val_binary_crossentropy: 0.7043\n",
      "Epoch 15/20\n",
      "25000/25000 - 3s - loss: 0.0066 - accuracy: 0.9996 - binary_crossentropy: 0.0066 - val_loss: 0.7342 - val_accuracy: 0.8558 - val_binary_crossentropy: 0.7342\n",
      "Epoch 16/20\n",
      "25000/25000 - 3s - loss: 0.0051 - accuracy: 0.9998 - binary_crossentropy: 0.0051 - val_loss: 0.7611 - val_accuracy: 0.8562 - val_binary_crossentropy: 0.7611\n",
      "Epoch 17/20\n",
      "25000/25000 - 3s - loss: 0.0041 - accuracy: 0.9999 - binary_crossentropy: 0.0041 - val_loss: 0.7885 - val_accuracy: 0.8557 - val_binary_crossentropy: 0.7885\n",
      "Epoch 18/20\n",
      "25000/25000 - 3s - loss: 0.0033 - accuracy: 0.9999 - binary_crossentropy: 0.0033 - val_loss: 0.8097 - val_accuracy: 0.8556 - val_binary_crossentropy: 0.8097\n",
      "Epoch 19/20\n",
      "25000/25000 - 3s - loss: 0.0026 - accuracy: 1.0000 - binary_crossentropy: 0.0026 - val_loss: 0.8330 - val_accuracy: 0.8555 - val_binary_crossentropy: 0.8330\n",
      "Epoch 20/20\n",
      "25000/25000 - 3s - loss: 0.0022 - accuracy: 1.0000 - binary_crossentropy: 0.0022 - val_loss: 0.8533 - val_accuracy: 0.8552 - val_binary_crossentropy: 0.8533\n"
     ]
    }
   ],
   "source": [
    "baseline_history = baseline_model.fit(train_data,\n",
    "                                      train_labels,\n",
    "                                      epochs=20,\n",
    "                                      batch_size=512,\n",
    "                                      validation_data=(test_data, test_labels),\n",
    "                                      verbose=2)"
   ]
  },
  {
   "cell_type": "markdown",
   "metadata": {},
   "source": [
    "#### 작은 모델 만들기"
   ]
  },
  {
   "cell_type": "markdown",
   "metadata": {},
   "source": [
    "앞서 만든 기준 모델과 비교하기 위해 적은 수의 은닉 유닛을 가진 모델을 만들어 보죠:"
   ]
  },
  {
   "cell_type": "code",
   "execution_count": 81,
   "metadata": {},
   "outputs": [],
   "source": [
    "# 앞의 실습 모델이 jupyter notebook 상에 계속 연결되므로 정리해주는 코드를 추가  \n",
    "tf.keras.backend.clear_session()"
   ]
  },
  {
   "cell_type": "code",
   "execution_count": 83,
   "metadata": {},
   "outputs": [
    {
     "name": "stdout",
     "output_type": "stream",
     "text": [
      "Model: \"sequential\"\n",
      "_________________________________________________________________\n",
      "Layer (type)                 Output Shape              Param #   \n",
      "=================================================================\n",
      "dense (Dense)                (None, 4)                 40004     \n",
      "_________________________________________________________________\n",
      "dense_1 (Dense)              (None, 4)                 20        \n",
      "_________________________________________________________________\n",
      "dense_2 (Dense)              (None, 1)                 5         \n",
      "=================================================================\n",
      "Total params: 40,029\n",
      "Trainable params: 40,029\n",
      "Non-trainable params: 0\n",
      "_________________________________________________________________\n"
     ]
    }
   ],
   "source": [
    "smaller_model = tf.keras.Sequential([\n",
    "    tf.keras.layers.Dense(4, activation='relu', input_shape=(NUM_WORDS,)),\n",
    "    tf.keras.layers.Dense(4, activation='relu'),\n",
    "    tf.keras.layers.Dense(1, activation='sigmoid')\n",
    "])\n",
    "\n",
    "smaller_model.compile(optimizer='adam',\n",
    "                      loss='binary_crossentropy',\n",
    "                      metrics=['accuracy', 'binary_crossentropy'])\n",
    "\n",
    "smaller_model.summary()"
   ]
  },
  {
   "cell_type": "code",
   "execution_count": 84,
   "metadata": {},
   "outputs": [
    {
     "name": "stdout",
     "output_type": "stream",
     "text": [
      "Train on 25000 samples, validate on 25000 samples\n",
      "Epoch 1/20\n",
      "25000/25000 - 3s - loss: 0.6441 - accuracy: 0.6128 - binary_crossentropy: 0.6441 - val_loss: 0.5967 - val_accuracy: 0.7493 - val_binary_crossentropy: 0.5967\n",
      "Epoch 2/20\n",
      "25000/25000 - 3s - loss: 0.5464 - accuracy: 0.7891 - binary_crossentropy: 0.5464 - val_loss: 0.5276 - val_accuracy: 0.8110 - val_binary_crossentropy: 0.5276\n",
      "Epoch 3/20\n",
      "25000/25000 - 3s - loss: 0.4806 - accuracy: 0.8560 - binary_crossentropy: 0.4806 - val_loss: 0.4836 - val_accuracy: 0.8552 - val_binary_crossentropy: 0.4836\n",
      "Epoch 4/20\n",
      "25000/25000 - 3s - loss: 0.4323 - accuracy: 0.8904 - binary_crossentropy: 0.4323 - val_loss: 0.4519 - val_accuracy: 0.8621 - val_binary_crossentropy: 0.4519\n",
      "Epoch 5/20\n",
      "25000/25000 - 3s - loss: 0.3922 - accuracy: 0.9107 - binary_crossentropy: 0.3922 - val_loss: 0.4272 - val_accuracy: 0.8707 - val_binary_crossentropy: 0.4272\n",
      "Epoch 6/20\n",
      "25000/25000 - 3s - loss: 0.3567 - accuracy: 0.9256 - binary_crossentropy: 0.3567 - val_loss: 0.4087 - val_accuracy: 0.8734 - val_binary_crossentropy: 0.4087\n",
      "Epoch 7/20\n",
      "25000/25000 - 3s - loss: 0.3244 - accuracy: 0.9372 - binary_crossentropy: 0.3244 - val_loss: 0.3933 - val_accuracy: 0.8766 - val_binary_crossentropy: 0.3933\n",
      "Epoch 8/20\n",
      "25000/25000 - 3s - loss: 0.2951 - accuracy: 0.9454 - binary_crossentropy: 0.2951 - val_loss: 0.3768 - val_accuracy: 0.8818 - val_binary_crossentropy: 0.3768\n",
      "Epoch 9/20\n",
      "25000/25000 - 3s - loss: 0.2679 - accuracy: 0.9529 - binary_crossentropy: 0.2679 - val_loss: 0.3638 - val_accuracy: 0.8837 - val_binary_crossentropy: 0.3638\n",
      "Epoch 10/20\n",
      "25000/25000 - 3s - loss: 0.2433 - accuracy: 0.9583 - binary_crossentropy: 0.2433 - val_loss: 0.3581 - val_accuracy: 0.8813 - val_binary_crossentropy: 0.3581\n",
      "Epoch 11/20\n",
      "25000/25000 - 3s - loss: 0.2203 - accuracy: 0.9631 - binary_crossentropy: 0.2203 - val_loss: 0.3532 - val_accuracy: 0.8794 - val_binary_crossentropy: 0.3532\n",
      "Epoch 12/20\n",
      "25000/25000 - 3s - loss: 0.2000 - accuracy: 0.9674 - binary_crossentropy: 0.2000 - val_loss: 0.3499 - val_accuracy: 0.8787 - val_binary_crossentropy: 0.3499\n",
      "Epoch 13/20\n",
      "25000/25000 - 3s - loss: 0.1811 - accuracy: 0.9711 - binary_crossentropy: 0.1811 - val_loss: 0.3482 - val_accuracy: 0.8763 - val_binary_crossentropy: 0.3482\n",
      "Epoch 14/20\n",
      "25000/25000 - 3s - loss: 0.1642 - accuracy: 0.9746 - binary_crossentropy: 0.1642 - val_loss: 0.3508 - val_accuracy: 0.8757 - val_binary_crossentropy: 0.3508\n",
      "Epoch 15/20\n",
      "25000/25000 - 3s - loss: 0.1493 - accuracy: 0.9773 - binary_crossentropy: 0.1493 - val_loss: 0.3546 - val_accuracy: 0.8740 - val_binary_crossentropy: 0.3546\n",
      "Epoch 16/20\n",
      "25000/25000 - 3s - loss: 0.1362 - accuracy: 0.9800 - binary_crossentropy: 0.1362 - val_loss: 0.3636 - val_accuracy: 0.8725 - val_binary_crossentropy: 0.3636\n",
      "Epoch 17/20\n",
      "25000/25000 - 3s - loss: 0.1241 - accuracy: 0.9824 - binary_crossentropy: 0.1241 - val_loss: 0.3667 - val_accuracy: 0.8710 - val_binary_crossentropy: 0.3667\n",
      "Epoch 18/20\n",
      "25000/25000 - 3s - loss: 0.1134 - accuracy: 0.9847 - binary_crossentropy: 0.1134 - val_loss: 0.3733 - val_accuracy: 0.8703 - val_binary_crossentropy: 0.3733\n",
      "Epoch 19/20\n",
      "25000/25000 - 3s - loss: 0.1043 - accuracy: 0.9860 - binary_crossentropy: 0.1043 - val_loss: 0.3871 - val_accuracy: 0.8691 - val_binary_crossentropy: 0.3871\n",
      "Epoch 20/20\n",
      "25000/25000 - 3s - loss: 0.0958 - accuracy: 0.9871 - binary_crossentropy: 0.0958 - val_loss: 0.3907 - val_accuracy: 0.8680 - val_binary_crossentropy: 0.3907\n"
     ]
    }
   ],
   "source": [
    "smaller_history = smaller_model.fit(train_data,\n",
    "                                    train_labels,\n",
    "                                    epochs=20,\n",
    "                                    batch_size=512,\n",
    "                                    validation_data=(test_data, test_labels),\n",
    "                                    verbose=2)"
   ]
  },
  {
   "cell_type": "markdown",
   "metadata": {},
   "source": [
    "#### 큰 모델 만들기"
   ]
  },
  {
   "cell_type": "markdown",
   "metadata": {},
   "source": [
    "아주 큰 모델을 만들어 얼마나 빠르게 과대적합이 시작되는지 알아 볼 수 있습니다. 이 문제에 필요한 것보다 훨씬 더 큰 용량을 가진 네트워크를 추가해서 비교해 보죠:\n",
    "\n"
   ]
  },
  {
   "cell_type": "code",
   "execution_count": 85,
   "metadata": {},
   "outputs": [],
   "source": [
    "# 앞의 실습 모델이 jupyter notebook 상에 계속 연결되므로 정리해주는 코드를 추가  \n",
    "tf.keras.backend.clear_session()"
   ]
  },
  {
   "cell_type": "code",
   "execution_count": 87,
   "metadata": {},
   "outputs": [
    {
     "name": "stdout",
     "output_type": "stream",
     "text": [
      "Model: \"sequential\"\n",
      "_________________________________________________________________\n",
      "Layer (type)                 Output Shape              Param #   \n",
      "=================================================================\n",
      "dense (Dense)                (None, 512)               5120512   \n",
      "_________________________________________________________________\n",
      "dense_1 (Dense)              (None, 512)               262656    \n",
      "_________________________________________________________________\n",
      "dense_2 (Dense)              (None, 1)                 513       \n",
      "=================================================================\n",
      "Total params: 5,383,681\n",
      "Trainable params: 5,383,681\n",
      "Non-trainable params: 0\n",
      "_________________________________________________________________\n"
     ]
    }
   ],
   "source": [
    "bigger_model = tf.keras.models.Sequential([\n",
    "    tf.keras.layers.Dense(512, activation='relu', input_shape=(NUM_WORDS,)),\n",
    "    tf.keras.layers.Dense(512, activation='relu'),\n",
    "    tf.keras.layers.Dense(1, activation='sigmoid')\n",
    "])\n",
    "\n",
    "bigger_model.compile(optimizer='adam',\n",
    "                     loss='binary_crossentropy',\n",
    "                     metrics=['accuracy','binary_crossentropy'])\n",
    "\n",
    "bigger_model.summary()"
   ]
  },
  {
   "cell_type": "markdown",
   "metadata": {},
   "source": [
    "역시 같은 데이터를 사용해 모델을 훈련합니다:"
   ]
  },
  {
   "cell_type": "code",
   "execution_count": 88,
   "metadata": {},
   "outputs": [
    {
     "name": "stdout",
     "output_type": "stream",
     "text": [
      "Train on 25000 samples, validate on 25000 samples\n",
      "Epoch 1/20\n",
      "25000/25000 - 6s - loss: 0.3420 - accuracy: 0.8557 - binary_crossentropy: 0.3420 - val_loss: 0.3010 - val_accuracy: 0.8774 - val_binary_crossentropy: 0.3010\n",
      "Epoch 2/20\n",
      "25000/25000 - 6s - loss: 0.1423 - accuracy: 0.9490 - binary_crossentropy: 0.1423 - val_loss: 0.3338 - val_accuracy: 0.8730 - val_binary_crossentropy: 0.3338\n",
      "Epoch 3/20\n",
      "25000/25000 - 6s - loss: 0.0468 - accuracy: 0.9866 - binary_crossentropy: 0.0468 - val_loss: 0.4545 - val_accuracy: 0.8674 - val_binary_crossentropy: 0.4545\n",
      "Epoch 4/20\n",
      "25000/25000 - 6s - loss: 0.0077 - accuracy: 0.9988 - binary_crossentropy: 0.0077 - val_loss: 0.5985 - val_accuracy: 0.8670 - val_binary_crossentropy: 0.5985\n",
      "Epoch 5/20\n",
      "25000/25000 - 6s - loss: 7.8685e-04 - accuracy: 1.0000 - binary_crossentropy: 7.8685e-04 - val_loss: 0.7013 - val_accuracy: 0.8688 - val_binary_crossentropy: 0.7013\n",
      "Epoch 6/20\n",
      "25000/25000 - 6s - loss: 2.2063e-04 - accuracy: 1.0000 - binary_crossentropy: 2.2063e-04 - val_loss: 0.7463 - val_accuracy: 0.8694 - val_binary_crossentropy: 0.7463\n",
      "Epoch 7/20\n",
      "25000/25000 - 6s - loss: 1.3513e-04 - accuracy: 1.0000 - binary_crossentropy: 1.3513e-04 - val_loss: 0.7774 - val_accuracy: 0.8694 - val_binary_crossentropy: 0.7774\n",
      "Epoch 8/20\n",
      "25000/25000 - 6s - loss: 9.6646e-05 - accuracy: 1.0000 - binary_crossentropy: 9.6646e-05 - val_loss: 0.8010 - val_accuracy: 0.8698 - val_binary_crossentropy: 0.8010\n",
      "Epoch 9/20\n",
      "25000/25000 - 6s - loss: 7.3549e-05 - accuracy: 1.0000 - binary_crossentropy: 7.3549e-05 - val_loss: 0.8206 - val_accuracy: 0.8696 - val_binary_crossentropy: 0.8206\n",
      "Epoch 10/20\n",
      "25000/25000 - 7s - loss: 5.8171e-05 - accuracy: 1.0000 - binary_crossentropy: 5.8171e-05 - val_loss: 0.8375 - val_accuracy: 0.8699 - val_binary_crossentropy: 0.8375\n",
      "Epoch 11/20\n",
      "25000/25000 - 7s - loss: 4.7102e-05 - accuracy: 1.0000 - binary_crossentropy: 4.7102e-05 - val_loss: 0.8529 - val_accuracy: 0.8694 - val_binary_crossentropy: 0.8529\n",
      "Epoch 12/20\n",
      "25000/25000 - 7s - loss: 3.9025e-05 - accuracy: 1.0000 - binary_crossentropy: 3.9025e-05 - val_loss: 0.8664 - val_accuracy: 0.8696 - val_binary_crossentropy: 0.8664\n",
      "Epoch 13/20\n",
      "25000/25000 - 7s - loss: 3.2759e-05 - accuracy: 1.0000 - binary_crossentropy: 3.2759e-05 - val_loss: 0.8785 - val_accuracy: 0.8698 - val_binary_crossentropy: 0.8785\n",
      "Epoch 14/20\n",
      "25000/25000 - 7s - loss: 2.7913e-05 - accuracy: 1.0000 - binary_crossentropy: 2.7913e-05 - val_loss: 0.8901 - val_accuracy: 0.8698 - val_binary_crossentropy: 0.8901\n",
      "Epoch 15/20\n",
      "25000/25000 - 7s - loss: 2.4005e-05 - accuracy: 1.0000 - binary_crossentropy: 2.4005e-05 - val_loss: 0.9006 - val_accuracy: 0.8698 - val_binary_crossentropy: 0.9006\n",
      "Epoch 16/20\n",
      "25000/25000 - 7s - loss: 2.0900e-05 - accuracy: 1.0000 - binary_crossentropy: 2.0900e-05 - val_loss: 0.9109 - val_accuracy: 0.8700 - val_binary_crossentropy: 0.9109\n",
      "Epoch 17/20\n",
      "25000/25000 - 7s - loss: 1.8288e-05 - accuracy: 1.0000 - binary_crossentropy: 1.8288e-05 - val_loss: 0.9204 - val_accuracy: 0.8700 - val_binary_crossentropy: 0.9204\n",
      "Epoch 18/20\n",
      "25000/25000 - 7s - loss: 1.6129e-05 - accuracy: 1.0000 - binary_crossentropy: 1.6129e-05 - val_loss: 0.9294 - val_accuracy: 0.8702 - val_binary_crossentropy: 0.9294\n",
      "Epoch 19/20\n",
      "25000/25000 - 7s - loss: 1.4332e-05 - accuracy: 1.0000 - binary_crossentropy: 1.4332e-05 - val_loss: 0.9378 - val_accuracy: 0.8701 - val_binary_crossentropy: 0.9378\n",
      "Epoch 20/20\n",
      "25000/25000 - 7s - loss: 1.2820e-05 - accuracy: 1.0000 - binary_crossentropy: 1.2820e-05 - val_loss: 0.9459 - val_accuracy: 0.8703 - val_binary_crossentropy: 0.9459\n"
     ]
    }
   ],
   "source": [
    "bigger_history = bigger_model.fit(train_data, train_labels,\n",
    "                                  epochs=20,\n",
    "                                  batch_size=512,\n",
    "                                  validation_data=(test_data, test_labels),\n",
    "                                  verbose=2)"
   ]
  },
  {
   "cell_type": "markdown",
   "metadata": {},
   "source": [
    "#### Training Loss(훈련 손실)과 Validation Loss(검증 손실) 그래프 그리기"
   ]
  },
  {
   "cell_type": "markdown",
   "metadata": {},
   "source": [
    "실선은 training loss(훈련 손실)이고 점선은 validation loss(검증 손실)입니다(낮은 검증 손실이 더 좋은 모델입니다). 여기서는 작은 네트워크가 기준 모델보다 더 늦게 overfitting(과대적합)이 시작되었습니다(즉 에포크 4가 아니라 6에서 시작됩니다). 또한 overfitting(과대적합)이 시작되고 훨씬 천천히 성능이 감소합니다."
   ]
  },
  {
   "cell_type": "code",
   "execution_count": 89,
   "metadata": {},
   "outputs": [
    {
     "data": {
      "image/png": "[encoded data removed]",
      "text/plain": [
       "<Figure size 1152x720 with 1 Axes>"
      ]
     },
     "metadata": {
      "needs_background": "light"
     },
     "output_type": "display_data"
    }
   ],
   "source": [
    "def plot_history(histories, key='binary_crossentropy'):\n",
    "  plt.figure(figsize=(16,10))\n",
    "    \n",
    "  for name, history in histories:\n",
    "    val = plt.plot(history.epoch, history.history['val_'+key],\n",
    "                   '--', label=name.title()+' Val')\n",
    "    plt.plot(history.epoch, history.history[key], color=val[0].get_color(),\n",
    "             label=name.title()+' Train')\n",
    "\n",
    "  plt.xlabel('Epochs')\n",
    "  plt.ylabel(key.replace('_',' ').title())\n",
    "  plt.legend()\n",
    "\n",
    "  plt.xlim([0,max(history.epoch)])\n",
    "\n",
    "\n",
    "plot_history([('baseline', baseline_history),\n",
    "              ('smaller', smaller_history),\n",
    "              ('bigger', bigger_history)])"
   ]
  },
  {
   "cell_type": "markdown",
   "metadata": {},
   "source": [
    "* 큰 네트워크는 거의 바로 첫 번째 에포크 이후에 overfitting(과대적합)이 시작되고 훨씬 더 심각하게 overfitting(과대적합)됩니다. \n",
    "* 네트워크의 용량이 많을수록 훈련 세트를 더 빠르게 모델링할 수 있습니다(훈련 손실이 낮아집니다). \n",
    "    - 하지만 더 쉽게 overfitting(과대적합)됩니다\n",
    "        - 훈련 손실과 검증 손실 사이에 큰 차이가 발생합니다.\n",
    "\n"
   ]
  },
  {
   "cell_type": "markdown",
   "metadata": {},
   "source": [
    "### Overfittig(과대적합)을 방지하기 위한 전략\n",
    "* Weight Regularization (가중치를 규제하기)\n",
    "* DropOut (드롭아웃 추가하기)"
   ]
  },
  {
   "cell_type": "markdown",
   "metadata": {},
   "source": [
    "#### Weight Regularization (가중치를 규제하기)"
   ]
  },
  {
   "cell_type": "markdown",
   "metadata": {},
   "source": [
    "아마도 오캄의 면도날(Occam's Razor) 이론을 들어 보았을 것입니다. 어떤 것을 설명하는 두 가지 방법이 있다면 더 정확한 설명은 최소한의 가정이 필요한 가장 \"간단한\" 설명일 것입니다. 이는 신경망으로 학습되는 모델에도 적용됩니다. 훈련 데이터와 네트워크 구조가 주어졌을 때 이 데이터를 설명할 수 있는 가중치의 조합(즉, 가능한 모델)은 많습니다. 간단한 모델은 복잡한 것보다 과대적합되는 경향이 작을 것입니다.\n",
    "\n",
    "여기서 \"간단한 모델\"은 모델 파라미터의 분포를 봤을 때 엔트로피(entropy)가 작은 모델입니다(또는 앞 절에서 보았듯이 적은 파라미터를 가진 모델입니다). 따라서 과대적합을 완화시키는 일반적인 방법은 가중치가 작은 값을 가지도록 네트워크의 복잡도에 제약을 가하는 것입니다. 이는 가중치 값의 분포를 좀 더 균일하게 만들어 줍니다. 이를 \"가중치 규제\"(weight regularization)라고 부릅니다. 네트워크의 손실 함수에 큰 가중치에 해당하는 비용을 추가합니다. 이 비용은 두 가지 형태가 있습니다:\n",
    "\n",
    "* L1 규제는 가중치의 절댓값에 비례하는 비용이 추가됩니다(즉, 가중치의 \"L1 노름(norm)\"을 추가합니다).\n",
    "* L2 규제는 가중치의 제곱에 비례하는 비용이 추가됩니다(즉, 가중치의 \"L2 노름\"의 제곱을 추가합니다). 신경망에서는 L2 규제를 가중치 감쇠(weight decay)라고도 부릅니다. 이름이 다르지만 혼돈하지 마세요. 가중치 감쇠는 수학적으로 L2 규제와 동일합니다.\n",
    "\n",
    "L1 규제는 일부 가중치 파라미터를 0으로 만듭니다. L2 규제는 가중치 파라미터를 제한하지만 완전히 0으로 만들지는 않습니다. 이것이 L2 규제를 더 많이 사용하는 이유 중 하나입니다.\n",
    "\n",
    "tf.keras에서는 가중치 규제 객체를 층의 키워드 매개변수에 전달하여 가중치에 규제를 추가합니다. L2 가중치 규제를 추가해 보죠."
   ]
  },
  {
   "cell_type": "code",
   "execution_count": 90,
   "metadata": {},
   "outputs": [],
   "source": [
    "# 앞의 실습 모델이 jupyter notebook 상에 계속 연결되므로 정리해주는 코드를 추가  \n",
    "tf.keras.backend.clear_session()"
   ]
  },
  {
   "cell_type": "code",
   "execution_count": 92,
   "metadata": {},
   "outputs": [
    {
     "name": "stdout",
     "output_type": "stream",
     "text": [
      "Train on 25000 samples, validate on 25000 samples\n",
      "Epoch 1/20\n",
      "25000/25000 - 3s - loss: 0.5045 - accuracy: 0.8183 - binary_crossentropy: 0.4632 - val_loss: 0.3651 - val_accuracy: 0.8805 - val_binary_crossentropy: 0.3217\n",
      "Epoch 2/20\n",
      "25000/25000 - 3s - loss: 0.2925 - accuracy: 0.9104 - binary_crossentropy: 0.2456 - val_loss: 0.3344 - val_accuracy: 0.8869 - val_binary_crossentropy: 0.2848\n",
      "Epoch 3/20\n",
      "25000/25000 - 3s - loss: 0.2437 - accuracy: 0.9313 - binary_crossentropy: 0.1918 - val_loss: 0.3393 - val_accuracy: 0.8855 - val_binary_crossentropy: 0.2860\n",
      "Epoch 4/20\n",
      "25000/25000 - 3s - loss: 0.2221 - accuracy: 0.9416 - binary_crossentropy: 0.1671 - val_loss: 0.3591 - val_accuracy: 0.8783 - val_binary_crossentropy: 0.3029\n",
      "Epoch 5/20\n",
      "25000/25000 - 3s - loss: 0.2068 - accuracy: 0.9492 - binary_crossentropy: 0.1496 - val_loss: 0.3710 - val_accuracy: 0.8761 - val_binary_crossentropy: 0.3129\n",
      "Epoch 6/20\n",
      "25000/25000 - 3s - loss: 0.1955 - accuracy: 0.9548 - binary_crossentropy: 0.1364 - val_loss: 0.3849 - val_accuracy: 0.8740 - val_binary_crossentropy: 0.3252\n",
      "Epoch 7/20\n",
      "25000/25000 - 3s - loss: 0.1886 - accuracy: 0.9576 - binary_crossentropy: 0.1281 - val_loss: 0.4071 - val_accuracy: 0.8704 - val_binary_crossentropy: 0.3457\n",
      "Epoch 8/20\n",
      "25000/25000 - 3s - loss: 0.1828 - accuracy: 0.9591 - binary_crossentropy: 0.1207 - val_loss: 0.4194 - val_accuracy: 0.8701 - val_binary_crossentropy: 0.3567\n",
      "Epoch 9/20\n",
      "25000/25000 - 3s - loss: 0.1772 - accuracy: 0.9604 - binary_crossentropy: 0.1135 - val_loss: 0.4385 - val_accuracy: 0.8647 - val_binary_crossentropy: 0.3741\n",
      "Epoch 10/20\n",
      "25000/25000 - 3s - loss: 0.1723 - accuracy: 0.9645 - binary_crossentropy: 0.1074 - val_loss: 0.4486 - val_accuracy: 0.8672 - val_binary_crossentropy: 0.3829\n",
      "Epoch 11/20\n",
      "25000/25000 - 3s - loss: 0.1668 - accuracy: 0.9668 - binary_crossentropy: 0.1004 - val_loss: 0.4636 - val_accuracy: 0.8641 - val_binary_crossentropy: 0.3965\n",
      "Epoch 12/20\n",
      "25000/25000 - 3s - loss: 0.1621 - accuracy: 0.9688 - binary_crossentropy: 0.0942 - val_loss: 0.4800 - val_accuracy: 0.8627 - val_binary_crossentropy: 0.4115\n",
      "Epoch 13/20\n",
      "25000/25000 - 3s - loss: 0.1558 - accuracy: 0.9737 - binary_crossentropy: 0.0869 - val_loss: 0.4911 - val_accuracy: 0.8613 - val_binary_crossentropy: 0.4218\n",
      "Epoch 14/20\n",
      "25000/25000 - 3s - loss: 0.1511 - accuracy: 0.9742 - binary_crossentropy: 0.0813 - val_loss: 0.5093 - val_accuracy: 0.8577 - val_binary_crossentropy: 0.4389\n",
      "Epoch 15/20\n",
      "25000/25000 - 3s - loss: 0.1494 - accuracy: 0.9752 - binary_crossentropy: 0.0787 - val_loss: 0.5269 - val_accuracy: 0.8593 - val_binary_crossentropy: 0.4554\n",
      "Epoch 16/20\n",
      "25000/25000 - 3s - loss: 0.1465 - accuracy: 0.9773 - binary_crossentropy: 0.0741 - val_loss: 0.5374 - val_accuracy: 0.8564 - val_binary_crossentropy: 0.4646\n",
      "Epoch 17/20\n",
      "25000/25000 - 3s - loss: 0.1412 - accuracy: 0.9797 - binary_crossentropy: 0.0687 - val_loss: 0.5483 - val_accuracy: 0.8564 - val_binary_crossentropy: 0.4757\n",
      "Epoch 18/20\n",
      "25000/25000 - 3s - loss: 0.1390 - accuracy: 0.9811 - binary_crossentropy: 0.0660 - val_loss: 0.5756 - val_accuracy: 0.8541 - val_binary_crossentropy: 0.5023\n",
      "Epoch 19/20\n",
      "25000/25000 - 3s - loss: 0.1394 - accuracy: 0.9791 - binary_crossentropy: 0.0656 - val_loss: 0.5647 - val_accuracy: 0.8556 - val_binary_crossentropy: 0.4904\n",
      "Epoch 20/20\n",
      "25000/25000 - 3s - loss: 0.1328 - accuracy: 0.9843 - binary_crossentropy: 0.0584 - val_loss: 0.5766 - val_accuracy: 0.8543 - val_binary_crossentropy: 0.5022\n"
     ]
    }
   ],
   "source": [
    "l2_model = tf.keras.models.Sequential([\n",
    "    tf.keras.layers.Dense(16, kernel_regularizer=tf.keras.regularizers.l2(0.001),\n",
    "                       activation='relu', input_shape=(NUM_WORDS,)),\n",
    "    tf.keras.layers.Dense(16, kernel_regularizer=tf.keras.regularizers.l2(0.001),\n",
    "                       activation='relu'),\n",
    "    tf.keras.layers.Dense(1, activation='sigmoid')\n",
    "])\n",
    "\n",
    "l2_model.compile(optimizer='adam',\n",
    "                 loss='binary_crossentropy',\n",
    "                 metrics=['accuracy', 'binary_crossentropy'])\n",
    "\n",
    "l2_model_history = l2_model.fit(train_data, train_labels,\n",
    "                                epochs=20,\n",
    "                                batch_size=512,\n",
    "                                validation_data=(test_data, test_labels),\n",
    "                                verbose=2)"
   ]
  },
  {
   "cell_type": "markdown",
   "metadata": {},
   "source": [
    "l2(0.001)는 네트워크의 전체 손실에 층에 있는 가중치 행렬의 모든 값이 0.001 * weight_coefficient_value**2만큼 더해진다는 의미입니다. 이런 페널티(penalty)는 훈련할 때만 추가됩니다. 따라서 테스트 단계보다 훈련 단계에서 네트워크 손실이 훨씬 더 클 것입니다."
   ]
  },
  {
   "cell_type": "markdown",
   "metadata": {},
   "source": [
    "L2 규제의 효과를 확인해 보죠:"
   ]
  },
  {
   "cell_type": "code",
   "execution_count": 93,
   "metadata": {},
   "outputs": [
    {
     "data": {
      "image/png": "[encoded data removed]",
      "text/plain": [
       "<Figure size 1152x720 with 1 Axes>"
      ]
     },
     "metadata": {
      "needs_background": "light"
     },
     "output_type": "display_data"
    }
   ],
   "source": [
    "plot_history([('baseline', baseline_history),\n",
    "              ('l2', l2_model_history)])"
   ]
  },
  {
   "cell_type": "markdown",
   "metadata": {},
   "source": [
    "결과에서 보듯이 모델 파라미터의 개수는 같지만 L2 규제를 적용한 모델이 기본 모델보다 과대적합에 훨씬 잘 견디고 있습니다."
   ]
  },
  {
   "cell_type": "markdown",
   "metadata": {},
   "source": [
    "#### DropOut (드롭아웃 추가하기)"
   ]
  },
  {
   "cell_type": "markdown",
   "metadata": {},
   "source": [
    "드롭아웃(dropout)은 신경망에서 가장 효과적이고 널리 사용하는 규제 기법 중 하나입니다. 토론토(Toronto) 대학의 힌튼(Hinton)과 그의 제자들이 개발했습니다. 드롭아웃을 층에 적용하면 훈련하는 동안 층의 출력 특성을 랜덤하게 끕니다(즉, 0으로 만듭니다). 훈련하는 동안 어떤 입력 샘플에 대해 [0.2, 0.5, 1.3, 0.8, 1.1] 벡터를 출력하는 층이 있다고 가정해 보죠. 드롭아웃을 적용하면 이 벡터에서 몇 개의 원소가 랜덤하게 0이 됩니다. 예를 들면, [0, 0.5, 1.3, 0, 1.1]가 됩니다. \"드롭아웃 비율\"은 0이 되는 특성의 비율입니다. 보통 0.2에서 0.5 사이를 사용합니다. 테스트 단계에서는 어떤 유닛도 드롭아웃하지 않습니다. 훈련 단계보다 더 많은 유닛이 활성화되기 때문에 균형을 맞추기 위해 층의 출력 값을 드롭아웃 비율만큼 줄입니다.\n",
    "\n",
    "tf.keras에서는 Dropout 층을 이용해 네트워크에 드롭아웃을 추가할 수 있습니다. 이 층은 바로 이전 층의 출력에 드롭아웃을 적용합니다.\n",
    "\n",
    "IMDB 네트워크에 두 개의 Dropout 층을 추가하여 과대적합이 얼마나 감소하는지 알아 보겠습니다:"
   ]
  },
  {
   "cell_type": "code",
   "execution_count": 94,
   "metadata": {},
   "outputs": [],
   "source": [
    "# 앞의 실습 모델이 jupyter notebook 상에 계속 연결되므로 정리해주는 코드를 추가  \n",
    "tf.keras.backend.clear_session()"
   ]
  },
  {
   "cell_type": "code",
   "execution_count": 96,
   "metadata": {},
   "outputs": [
    {
     "name": "stdout",
     "output_type": "stream",
     "text": [
      "Train on 25000 samples, validate on 25000 samples\n",
      "Epoch 1/20\n",
      "25000/25000 - 4s - loss: 0.6278 - accuracy: 0.6543 - binary_crossentropy: 0.6278 - val_loss: 0.5046 - val_accuracy: 0.8526 - val_binary_crossentropy: 0.5046\n",
      "Epoch 2/20\n",
      "25000/25000 - 3s - loss: 0.4570 - accuracy: 0.8071 - binary_crossentropy: 0.4570 - val_loss: 0.3431 - val_accuracy: 0.8794 - val_binary_crossentropy: 0.3431\n",
      "Epoch 3/20\n",
      "25000/25000 - 3s - loss: 0.3471 - accuracy: 0.8705 - binary_crossentropy: 0.3471 - val_loss: 0.2928 - val_accuracy: 0.8868 - val_binary_crossentropy: 0.2928\n",
      "Epoch 4/20\n",
      "25000/25000 - 3s - loss: 0.2843 - accuracy: 0.9031 - binary_crossentropy: 0.2843 - val_loss: 0.2745 - val_accuracy: 0.8890 - val_binary_crossentropy: 0.2745\n",
      "Epoch 5/20\n",
      "25000/25000 - 3s - loss: 0.2425 - accuracy: 0.9198 - binary_crossentropy: 0.2425 - val_loss: 0.2785 - val_accuracy: 0.8895 - val_binary_crossentropy: 0.2785\n",
      "Epoch 6/20\n",
      "25000/25000 - 3s - loss: 0.2118 - accuracy: 0.9315 - binary_crossentropy: 0.2118 - val_loss: 0.2887 - val_accuracy: 0.8856 - val_binary_crossentropy: 0.2887\n",
      "Epoch 7/20\n",
      "25000/25000 - 3s - loss: 0.1869 - accuracy: 0.9388 - binary_crossentropy: 0.1869 - val_loss: 0.3022 - val_accuracy: 0.8857 - val_binary_crossentropy: 0.3022\n",
      "Epoch 8/20\n",
      "25000/25000 - 3s - loss: 0.1658 - accuracy: 0.9467 - binary_crossentropy: 0.1658 - val_loss: 0.3100 - val_accuracy: 0.8837 - val_binary_crossentropy: 0.3100\n",
      "Epoch 9/20\n",
      "25000/25000 - 3s - loss: 0.1460 - accuracy: 0.9541 - binary_crossentropy: 0.1460 - val_loss: 0.3334 - val_accuracy: 0.8811 - val_binary_crossentropy: 0.3334\n",
      "Epoch 10/20\n",
      "25000/25000 - 3s - loss: 0.1305 - accuracy: 0.9587 - binary_crossentropy: 0.1305 - val_loss: 0.3602 - val_accuracy: 0.8800 - val_binary_crossentropy: 0.3602\n",
      "Epoch 11/20\n",
      "25000/25000 - 3s - loss: 0.1185 - accuracy: 0.9620 - binary_crossentropy: 0.1185 - val_loss: 0.3779 - val_accuracy: 0.8800 - val_binary_crossentropy: 0.3779\n",
      "Epoch 12/20\n",
      "25000/25000 - 3s - loss: 0.1127 - accuracy: 0.9642 - binary_crossentropy: 0.1127 - val_loss: 0.3885 - val_accuracy: 0.8778 - val_binary_crossentropy: 0.3885\n",
      "Epoch 13/20\n",
      "25000/25000 - 3s - loss: 0.1014 - accuracy: 0.9674 - binary_crossentropy: 0.1014 - val_loss: 0.4241 - val_accuracy: 0.8782 - val_binary_crossentropy: 0.4241\n",
      "Epoch 14/20\n",
      "25000/25000 - 3s - loss: 0.0936 - accuracy: 0.9707 - binary_crossentropy: 0.0936 - val_loss: 0.4309 - val_accuracy: 0.8763 - val_binary_crossentropy: 0.4309\n",
      "Epoch 15/20\n",
      "25000/25000 - 3s - loss: 0.0848 - accuracy: 0.9718 - binary_crossentropy: 0.0848 - val_loss: 0.4775 - val_accuracy: 0.8765 - val_binary_crossentropy: 0.4775\n",
      "Epoch 16/20\n",
      "25000/25000 - 3s - loss: 0.0789 - accuracy: 0.9750 - binary_crossentropy: 0.0789 - val_loss: 0.4825 - val_accuracy: 0.8753 - val_binary_crossentropy: 0.4825\n",
      "Epoch 17/20\n",
      "25000/25000 - 3s - loss: 0.0756 - accuracy: 0.9749 - binary_crossentropy: 0.0756 - val_loss: 0.5165 - val_accuracy: 0.8751 - val_binary_crossentropy: 0.5165\n",
      "Epoch 18/20\n",
      "25000/25000 - 3s - loss: 0.0716 - accuracy: 0.9772 - binary_crossentropy: 0.0716 - val_loss: 0.5616 - val_accuracy: 0.8746 - val_binary_crossentropy: 0.5616\n",
      "Epoch 19/20\n",
      "25000/25000 - 3s - loss: 0.0673 - accuracy: 0.9782 - binary_crossentropy: 0.0673 - val_loss: 0.5597 - val_accuracy: 0.8739 - val_binary_crossentropy: 0.5597\n",
      "Epoch 20/20\n",
      "25000/25000 - 3s - loss: 0.0629 - accuracy: 0.9795 - binary_crossentropy: 0.0629 - val_loss: 0.5820 - val_accuracy: 0.8742 - val_binary_crossentropy: 0.5820\n"
     ]
    }
   ],
   "source": [
    "dpt_model = tf.keras.models.Sequential([\n",
    "    tf.keras.layers.Dense(16, activation='relu', input_shape=(NUM_WORDS,)),\n",
    "    tf.keras.layers.Dropout(0.5),\n",
    "    tf.keras.layers.Dense(16, activation='relu'),\n",
    "    tf.keras.layers.Dropout(0.5),\n",
    "    tf.keras.layers.Dense(1, activation='sigmoid')\n",
    "])\n",
    "\n",
    "dpt_model.compile(optimizer='adam',\n",
    "                  loss='binary_crossentropy',\n",
    "                  metrics=['accuracy','binary_crossentropy'])\n",
    "\n",
    "dpt_model_history = dpt_model.fit(train_data, train_labels,\n",
    "                                  epochs=20,\n",
    "                                  batch_size=512,\n",
    "                                  validation_data=(test_data, test_labels),\n",
    "                                  verbose=2)"
   ]
  },
  {
   "cell_type": "code",
   "execution_count": 97,
   "metadata": {},
   "outputs": [
    {
     "data": {
      "image/png": "[encoded data removed]",
      "text/plain": [
       "<Figure size 1152x720 with 1 Axes>"
      ]
     },
     "metadata": {
      "needs_background": "light"
     },
     "output_type": "display_data"
    }
   ],
   "source": [
    "plot_history([('baseline', baseline_history),\n",
    "              ('dropout', dpt_model_history)])"
   ]
  },
  {
   "cell_type": "markdown",
   "metadata": {},
   "source": [
    "드롭아웃을 추가하니 기준 모델보다 확실히 향상되었습니다."
   ]
  },
  {
   "cell_type": "markdown",
   "metadata": {},
   "source": [
    "정리하면 신경망에서 과대적합을 방지하기 위해 가장 널리 사용하는 방법은 다음과 같습니다:\n",
    "\n",
    "* 더 많은 훈련 데이터를 모읍니다.\n",
    "* 네트워크의 용량을 줄입니다.\n",
    "* 가중치 규제를 추가합니다.\n",
    "* 드롭아웃을 추가합니다.\n",
    "\n",
    "이 문서에서 다루지 않은 중요한 방법 두 가지는 데이터 증식(data-augmentation)과 배치 정규화(batch normalization)입니다."
   ]
  },
  {
   "cell_type": "markdown",
   "metadata": {},
   "source": [
    "----------------------------"
   ]
  },
  {
   "cell_type": "markdown",
   "metadata": {},
   "source": [
    "# 참고자료\n",
    "\n",
    "ML basics\n",
    "* Classify image - https://www.tensorflow.org/alpha/tutorials/keras/basic_classification\n",
    "* Classify text - https://www.tensorflow.org/alpha/tutorials/keras/basic_text_classification\n",
    "* Overfittig and underfitting - https://www.tensorflow.org/alpha/tutorials/keras/overfit_and_underfit"
   ]
  }
 ],
 "metadata": {
  "kernelspec": {
   "display_name": "Python 3",
   "language": "python",
   "name": "python3"
  },
  "language_info": {
   "codemirror_mode": {
    "name": "ipython",
    "version": 3
   },
   "file_extension": ".py",
   "mimetype": "text/x-python",
   "name": "python",
   "nbconvert_exporter": "python",
   "pygments_lexer": "ipython3",
   "version": "3.7.3"
  }
 },
 "nbformat": 4,
 "nbformat_minor": 2
}
