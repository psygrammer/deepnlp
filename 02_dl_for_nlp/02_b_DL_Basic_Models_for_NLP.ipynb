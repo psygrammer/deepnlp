{
 "cells": [
  {
   "cell_type": "markdown",
   "metadata": {},
   "source": [
    "# 02_b. Deep Learning Basic Models for NLP"
   ]
  },
  {
   "cell_type": "markdown",
   "metadata": {},
   "source": [
    "* 파이썬을 이용한 딥러닝 기반 자연어처리\n",
    "* 김무성"
   ]
  },
  {
   "cell_type": "markdown",
   "metadata": {},
   "source": [
    "------------------"
   ]
  },
  {
   "cell_type": "markdown",
   "metadata": {},
   "source": [
    "# 차례\n",
    "* MLP\n",
    "* CNN\n",
    "* RNN\n",
    "* Attention\n",
    "* Memory"
   ]
  },
  {
   "cell_type": "markdown",
   "metadata": {},
   "source": [
    "--------------------"
   ]
  },
  {
   "cell_type": "markdown",
   "metadata": {},
   "source": [
    "<img src=\"https://cdn-images-1.medium.com/max/1600/1*Vkuwvn_CglqdbUc_lXJpmw.png\" width=600 />\n",
    "\n",
    "* 출처 - https://towardsdatascience.com/machine-learning-word-embedding-sentiment-classification-using-keras-b83c28087456"
   ]
  },
  {
   "cell_type": "code",
   "execution_count": 53,
   "metadata": {},
   "outputs": [],
   "source": [
    "# 텍스트 분류 기본 DataSet 설정"
   ]
  },
  {
   "cell_type": "code",
   "execution_count": 1,
   "metadata": {},
   "outputs": [],
   "source": [
    "import tensorflow as tf\n",
    "import data_util"
   ]
  },
  {
   "cell_type": "code",
   "execution_count": 2,
   "metadata": {},
   "outputs": [],
   "source": [
    "train_tup, test_tup, index_tup, max_words = data_util.imdb_load_data(max_words=1000)"
   ]
  },
  {
   "cell_type": "code",
   "execution_count": 3,
   "metadata": {},
   "outputs": [],
   "source": [
    "train_data, train_labels = train_tup\n",
    "test_data, test_labels = test_tup\n",
    "word_index, reverse_word_index = index_tup"
   ]
  },
  {
   "cell_type": "code",
   "execution_count": 5,
   "metadata": {},
   "outputs": [],
   "source": [
    "train_data = tf.keras.preprocessing.sequence.pad_sequences(train_data,\n",
    "                                                        value=word_index[\"<PAD>\"],\n",
    "                                                        padding='post',\n",
    "                                                        maxlen=256)\n",
    "\n",
    "test_data = tf.keras.preprocessing.sequence.pad_sequences(test_data,\n",
    "                                                       value=word_index[\"<PAD>\"],\n",
    "                                                       padding='post',\n",
    "                                                       maxlen=256)"
   ]
  },
  {
   "cell_type": "markdown",
   "metadata": {},
   "source": [
    "# MLP"
   ]
  },
  {
   "cell_type": "markdown",
   "metadata": {},
   "source": [
    "<img src=\"https://blog.feedly.com/wp-content/uploads/2019/03/Screen-Shot-2019-03-06-at-12.07.45-PM.png\" width=600 />\n",
    "\n",
    "*출처 - https://blog.feedly.com/nlp-breakfast-2-the-rise-of-language-models/"
   ]
  },
  {
   "cell_type": "markdown",
   "metadata": {},
   "source": [
    "## Vanilla MLP"
   ]
  },
  {
   "cell_type": "code",
   "execution_count": 27,
   "metadata": {},
   "outputs": [
    {
     "name": "stdout",
     "output_type": "stream",
     "text": [
      "Model: \"sequential_1\"\n",
      "_________________________________________________________________\n",
      "Layer (type)                 Output Shape              Param #   \n",
      "=================================================================\n",
      "embedding_1 (Embedding)      (None, 256, 16)           16000     \n",
      "_________________________________________________________________\n",
      "flatten (Flatten)            (None, 4096)              0         \n",
      "_________________________________________________________________\n",
      "dense_2 (Dense)              (None, 16)                65552     \n",
      "_________________________________________________________________\n",
      "dense_3 (Dense)              (None, 1)                 17        \n",
      "=================================================================\n",
      "Total params: 81,569\n",
      "Trainable params: 81,569\n",
      "Non-trainable params: 0\n",
      "_________________________________________________________________\n"
     ]
    }
   ],
   "source": [
    "vocab_size = max_words\n",
    "\n",
    "model = tf.keras.Sequential()\n",
    "model.add(tf.keras.layers.Embedding(vocab_size, 16, input_shape=(256,)))\n",
    "model.add(tf.keras.layers.Flatten())\n",
    "model.add(tf.keras.layers.Dense(16, activation='relu'))\n",
    "model.add(tf.keras.layers.Dense(1, activation='sigmoid'))\n",
    "\n",
    "model.summary()"
   ]
  },
  {
   "cell_type": "code",
   "execution_count": 28,
   "metadata": {
    "scrolled": false
   },
   "outputs": [
    {
     "name": "stdout",
     "output_type": "stream",
     "text": [
      "Train on 15000 samples, validate on 10000 samples\n",
      "Epoch 1/40\n",
      "15000/15000 [==============================] - 1s 53us/sample - loss: 0.6894 - accuracy: 0.5331 - val_loss: 0.6807 - val_accuracy: 0.5711\n",
      "Epoch 2/40\n",
      "15000/15000 [==============================] - 0s 31us/sample - loss: 0.6331 - accuracy: 0.6719 - val_loss: 0.5804 - val_accuracy: 0.7194\n",
      "Epoch 3/40\n",
      "15000/15000 [==============================] - 0s 31us/sample - loss: 0.4771 - accuracy: 0.7986 - val_loss: 0.4419 - val_accuracy: 0.8015\n",
      "Epoch 4/40\n",
      "15000/15000 [==============================] - 0s 33us/sample - loss: 0.3675 - accuracy: 0.8461 - val_loss: 0.3867 - val_accuracy: 0.8263\n",
      "Epoch 5/40\n",
      "15000/15000 [==============================] - 0s 30us/sample - loss: 0.3110 - accuracy: 0.8718 - val_loss: 0.3726 - val_accuracy: 0.8344\n",
      "Epoch 6/40\n",
      "15000/15000 [==============================] - 0s 32us/sample - loss: 0.2780 - accuracy: 0.8882 - val_loss: 0.3651 - val_accuracy: 0.8418\n",
      "Epoch 7/40\n",
      "15000/15000 [==============================] - 0s 30us/sample - loss: 0.2458 - accuracy: 0.9071 - val_loss: 0.3656 - val_accuracy: 0.8392\n",
      "Epoch 8/40\n",
      "15000/15000 [==============================] - 0s 31us/sample - loss: 0.2189 - accuracy: 0.9214 - val_loss: 0.3704 - val_accuracy: 0.8402\n",
      "Epoch 9/40\n",
      "15000/15000 [==============================] - 0s 32us/sample - loss: 0.1946 - accuracy: 0.9329 - val_loss: 0.3842 - val_accuracy: 0.8379\n",
      "Epoch 10/40\n",
      "15000/15000 [==============================] - 1s 34us/sample - loss: 0.1696 - accuracy: 0.9470 - val_loss: 0.3935 - val_accuracy: 0.8341\n",
      "Epoch 11/40\n",
      "15000/15000 [==============================] - 0s 30us/sample - loss: 0.1491 - accuracy: 0.9567 - val_loss: 0.4077 - val_accuracy: 0.8311\n",
      "Epoch 12/40\n",
      "15000/15000 [==============================] - 0s 31us/sample - loss: 0.1304 - accuracy: 0.9625 - val_loss: 0.4195 - val_accuracy: 0.8318\n",
      "Epoch 13/40\n",
      "15000/15000 [==============================] - 0s 30us/sample - loss: 0.1081 - accuracy: 0.9749 - val_loss: 0.4415 - val_accuracy: 0.8296\n",
      "Epoch 14/40\n",
      "15000/15000 [==============================] - 0s 32us/sample - loss: 0.0933 - accuracy: 0.9795 - val_loss: 0.4561 - val_accuracy: 0.8283\n",
      "Epoch 15/40\n",
      "15000/15000 [==============================] - 0s 31us/sample - loss: 0.0769 - accuracy: 0.9873 - val_loss: 0.4720 - val_accuracy: 0.8302\n",
      "Epoch 16/40\n",
      "15000/15000 [==============================] - 0s 31us/sample - loss: 0.0641 - accuracy: 0.9915 - val_loss: 0.4960 - val_accuracy: 0.8252\n",
      "Epoch 17/40\n",
      "15000/15000 [==============================] - 0s 30us/sample - loss: 0.0534 - accuracy: 0.9947 - val_loss: 0.5118 - val_accuracy: 0.8264\n",
      "Epoch 18/40\n",
      "15000/15000 [==============================] - 0s 30us/sample - loss: 0.0450 - accuracy: 0.9962 - val_loss: 0.5290 - val_accuracy: 0.8259\n",
      "Epoch 19/40\n",
      "15000/15000 [==============================] - 0s 30us/sample - loss: 0.0376 - accuracy: 0.9972 - val_loss: 0.5500 - val_accuracy: 0.8256\n",
      "Epoch 20/40\n",
      "15000/15000 [==============================] - 1s 34us/sample - loss: 0.0315 - accuracy: 0.9983 - val_loss: 0.5683 - val_accuracy: 0.8254\n",
      "Epoch 21/40\n",
      "15000/15000 [==============================] - 0s 33us/sample - loss: 0.0267 - accuracy: 0.9986 - val_loss: 0.5837 - val_accuracy: 0.8243\n",
      "Epoch 22/40\n",
      "15000/15000 [==============================] - 0s 31us/sample - loss: 0.0228 - accuracy: 0.9988 - val_loss: 0.6014 - val_accuracy: 0.8229\n",
      "Epoch 23/40\n",
      "15000/15000 [==============================] - 1s 34us/sample - loss: 0.0195 - accuracy: 0.9990 - val_loss: 0.6196 - val_accuracy: 0.8224\n",
      "Epoch 24/40\n",
      "15000/15000 [==============================] - 0s 31us/sample - loss: 0.0168 - accuracy: 0.9991 - val_loss: 0.6376 - val_accuracy: 0.8226\n",
      "Epoch 25/40\n",
      "15000/15000 [==============================] - 0s 30us/sample - loss: 0.0147 - accuracy: 0.9992 - val_loss: 0.6511 - val_accuracy: 0.8215\n",
      "Epoch 26/40\n",
      "15000/15000 [==============================] - 0s 33us/sample - loss: 0.0132 - accuracy: 0.9993 - val_loss: 0.6712 - val_accuracy: 0.8221\n",
      "Epoch 27/40\n",
      "15000/15000 [==============================] - 1s 34us/sample - loss: 0.0113 - accuracy: 0.9993 - val_loss: 0.6845 - val_accuracy: 0.8220\n",
      "Epoch 28/40\n",
      "15000/15000 [==============================] - 0s 31us/sample - loss: 0.0099 - accuracy: 0.9993 - val_loss: 0.6989 - val_accuracy: 0.8207\n",
      "Epoch 29/40\n",
      "15000/15000 [==============================] - 0s 33us/sample - loss: 0.0089 - accuracy: 0.9993 - val_loss: 0.7112 - val_accuracy: 0.8219\n",
      "Epoch 30/40\n",
      "15000/15000 [==============================] - 0s 31us/sample - loss: 0.0078 - accuracy: 0.9993 - val_loss: 0.7233 - val_accuracy: 0.8208\n",
      "Epoch 31/40\n",
      "15000/15000 [==============================] - 0s 33us/sample - loss: 0.0071 - accuracy: 0.9994 - val_loss: 0.7381 - val_accuracy: 0.8215\n",
      "Epoch 32/40\n",
      "15000/15000 [==============================] - 0s 33us/sample - loss: 0.0064 - accuracy: 0.9994 - val_loss: 0.7485 - val_accuracy: 0.8196\n",
      "Epoch 33/40\n",
      "15000/15000 [==============================] - 0s 33us/sample - loss: 0.0058 - accuracy: 0.9994 - val_loss: 0.7609 - val_accuracy: 0.8197\n",
      "Epoch 34/40\n",
      "15000/15000 [==============================] - 1s 35us/sample - loss: 0.0053 - accuracy: 0.9994 - val_loss: 0.7705 - val_accuracy: 0.8197\n",
      "Epoch 35/40\n",
      "15000/15000 [==============================] - 0s 33us/sample - loss: 0.0048 - accuracy: 0.9994 - val_loss: 0.7820 - val_accuracy: 0.8198\n",
      "Epoch 36/40\n",
      "15000/15000 [==============================] - 0s 32us/sample - loss: 0.0045 - accuracy: 0.9994 - val_loss: 0.7912 - val_accuracy: 0.8197\n",
      "Epoch 37/40\n",
      "15000/15000 [==============================] - 0s 31us/sample - loss: 0.0042 - accuracy: 0.9995 - val_loss: 0.8023 - val_accuracy: 0.8196\n",
      "Epoch 38/40\n",
      "15000/15000 [==============================] - 0s 30us/sample - loss: 0.0038 - accuracy: 0.9995 - val_loss: 0.8124 - val_accuracy: 0.8193\n",
      "Epoch 39/40\n",
      "15000/15000 [==============================] - 0s 31us/sample - loss: 0.0036 - accuracy: 0.9995 - val_loss: 0.8236 - val_accuracy: 0.8194\n",
      "Epoch 40/40\n",
      "15000/15000 [==============================] - 1s 35us/sample - loss: 0.0033 - accuracy: 0.9995 - val_loss: 0.8342 - val_accuracy: 0.8186\n",
      "25000/25000 [==============================] - 1s 25us/sample - loss: 0.8491 - accuracy: 0.8140\n",
      "[0.8490586217665672, 0.814]\n"
     ]
    }
   ],
   "source": [
    "model.compile(optimizer='adam',\n",
    "              loss='binary_crossentropy',\n",
    "              metrics=['accuracy'])\n",
    "\n",
    "x_val = train_data[:10000]\n",
    "partial_x_train = train_data[10000:]\n",
    "\n",
    "y_val = train_labels[:10000]\n",
    "partial_y_train = train_labels[10000:]\n",
    "\n",
    "history = model.fit(partial_x_train,\n",
    "                    partial_y_train,\n",
    "                    epochs=40,\n",
    "                    batch_size=512,\n",
    "                    validation_data=(x_val, y_val),\n",
    "                    verbose=1)\n",
    "\n",
    "results = model.evaluate(test_data, test_labels)\n",
    "\n",
    "print(results)"
   ]
  },
  {
   "cell_type": "code",
   "execution_count": 29,
   "metadata": {},
   "outputs": [
    {
     "data": {
      "image/png": "[encoded data removed]",
      "text/plain": [
       "<Figure size 432x288 with 1 Axes>"
      ]
     },
     "metadata": {
      "needs_background": "light"
     },
     "output_type": "display_data"
    }
   ],
   "source": [
    "%matplotlib inline \n",
    "\n",
    "import matplotlib.pyplot as plt\n",
    "\n",
    "history_dict = history.history\n",
    "\n",
    "acc = history_dict['accuracy']\n",
    "val_acc = history_dict['val_accuracy']\n",
    "loss = history_dict['loss']\n",
    "val_loss = history_dict['val_loss']\n",
    "\n",
    "epochs = range(1, len(acc) + 1)\n",
    "\n",
    "# \"bo\"는 \"파란색 점\"입니다\n",
    "plt.plot(epochs, loss, 'bo', label='Training loss')\n",
    "# b는 \"파란 실선\"입니다\n",
    "plt.plot(epochs, val_loss, 'b', label='Validation loss')\n",
    "plt.title('Training and validation loss')\n",
    "plt.xlabel('Epochs')\n",
    "plt.ylabel('Loss')\n",
    "plt.legend()\n",
    "\n",
    "plt.show()"
   ]
  },
  {
   "cell_type": "code",
   "execution_count": 30,
   "metadata": {},
   "outputs": [
    {
     "data": {
      "image/png": "[encoded data removed]",
      "text/plain": [
       "<Figure size 432x288 with 1 Axes>"
      ]
     },
     "metadata": {
      "needs_background": "light"
     },
     "output_type": "display_data"
    }
   ],
   "source": [
    "plt.clf()   # 그림을 초기화합니다\n",
    "\n",
    "plt.plot(epochs, acc, 'bo', label='Training acc')\n",
    "plt.plot(epochs, val_acc, 'b', label='Validation acc')\n",
    "plt.title('Training and validation accuracy')\n",
    "plt.xlabel('Epochs')\n",
    "plt.ylabel('Accuracy')\n",
    "plt.legend()\n",
    "\n",
    "plt.show()"
   ]
  },
  {
   "cell_type": "markdown",
   "metadata": {},
   "source": [
    "## MaxPooling Layer 추가"
   ]
  },
  {
   "cell_type": "markdown",
   "metadata": {},
   "source": [
    "<img src=\"https://computersciencewiki.org/images/8/8a/MaxpoolSample2.png\" width=600 />\n",
    "\n",
    "* 출처 - https://computersciencewiki.org/index.php/Max-pooling_/_Pooling"
   ]
  },
  {
   "cell_type": "markdown",
   "metadata": {},
   "source": [
    "In the case of max pooling you take the maximum value of all features in the pool for each feature dimension. In the case of average pooling you take the average, but max pooling seems to be more commonly used as it highlights large values."
   ]
  },
  {
   "cell_type": "code",
   "execution_count": 58,
   "metadata": {},
   "outputs": [],
   "source": [
    "# 앞의 실습 모델이 jupyter notebook 상에 계속 연결되므로 정리해주는 코드를 추가  \n",
    "tf.keras.backend.clear_session()"
   ]
  },
  {
   "cell_type": "code",
   "execution_count": 59,
   "metadata": {},
   "outputs": [
    {
     "name": "stdout",
     "output_type": "stream",
     "text": [
      "Model: \"sequential\"\n",
      "_________________________________________________________________\n",
      "Layer (type)                 Output Shape              Param #   \n",
      "=================================================================\n",
      "embedding (Embedding)        (None, None, 16)          16000     \n",
      "_________________________________________________________________\n",
      "global_max_pooling1d (Global (None, 16)                0         \n",
      "_________________________________________________________________\n",
      "dense (Dense)                (None, 16)                272       \n",
      "_________________________________________________________________\n",
      "dense_1 (Dense)              (None, 1)                 17        \n",
      "=================================================================\n",
      "Total params: 16,289\n",
      "Trainable params: 16,289\n",
      "Non-trainable params: 0\n",
      "_________________________________________________________________\n"
     ]
    }
   ],
   "source": [
    "vocab_size = max_words\n",
    "\n",
    "model = tf.keras.Sequential()\n",
    "model.add(tf.keras.layers.Embedding(vocab_size, 16, input_shape=(None,)))\n",
    "model.add(tf.keras.layers.GlobalMaxPooling1D())\n",
    "model.add(tf.keras.layers.Dense(16, activation='relu'))\n",
    "model.add(tf.keras.layers.Dense(1, activation='sigmoid'))\n",
    "\n",
    "model.summary()"
   ]
  },
  {
   "cell_type": "code",
   "execution_count": 60,
   "metadata": {},
   "outputs": [
    {
     "name": "stdout",
     "output_type": "stream",
     "text": [
      "Train on 15000 samples, validate on 10000 samples\n",
      "Epoch 1/40\n",
      "15000/15000 [==============================] - 1s 44us/sample - loss: 0.6922 - accuracy: 0.5314 - val_loss: 0.6906 - val_accuracy: 0.6043\n",
      "Epoch 2/40\n",
      "15000/15000 [==============================] - 0s 30us/sample - loss: 0.6876 - accuracy: 0.7015 - val_loss: 0.6826 - val_accuracy: 0.7242\n",
      "Epoch 3/40\n",
      "15000/15000 [==============================] - 1s 34us/sample - loss: 0.6717 - accuracy: 0.7483 - val_loss: 0.6584 - val_accuracy: 0.7494\n",
      "Epoch 4/40\n",
      "15000/15000 [==============================] - 1s 34us/sample - loss: 0.6380 - accuracy: 0.7683 - val_loss: 0.6167 - val_accuracy: 0.7735\n",
      "Epoch 5/40\n",
      "15000/15000 [==============================] - 1s 34us/sample - loss: 0.5847 - accuracy: 0.7886 - val_loss: 0.5564 - val_accuracy: 0.7845\n",
      "Epoch 6/40\n",
      "15000/15000 [==============================] - 0s 31us/sample - loss: 0.5193 - accuracy: 0.8015 - val_loss: 0.4945 - val_accuracy: 0.7976\n",
      "Epoch 7/40\n",
      "15000/15000 [==============================] - 0s 30us/sample - loss: 0.4627 - accuracy: 0.8089 - val_loss: 0.4522 - val_accuracy: 0.8025\n",
      "Epoch 8/40\n",
      "15000/15000 [==============================] - 0s 30us/sample - loss: 0.4257 - accuracy: 0.8180 - val_loss: 0.4273 - val_accuracy: 0.8085\n",
      "Epoch 9/40\n",
      "15000/15000 [==============================] - 0s 29us/sample - loss: 0.4020 - accuracy: 0.8263 - val_loss: 0.4118 - val_accuracy: 0.8125\n",
      "Epoch 10/40\n",
      "15000/15000 [==============================] - 0s 29us/sample - loss: 0.3858 - accuracy: 0.8323 - val_loss: 0.4031 - val_accuracy: 0.8142\n",
      "Epoch 11/40\n",
      "15000/15000 [==============================] - 0s 29us/sample - loss: 0.3746 - accuracy: 0.8363 - val_loss: 0.3978 - val_accuracy: 0.8187\n",
      "Epoch 12/40\n",
      "15000/15000 [==============================] - 0s 29us/sample - loss: 0.3657 - accuracy: 0.8403 - val_loss: 0.3942 - val_accuracy: 0.8207\n",
      "Epoch 13/40\n",
      "15000/15000 [==============================] - 0s 30us/sample - loss: 0.3586 - accuracy: 0.8437 - val_loss: 0.3932 - val_accuracy: 0.8204\n",
      "Epoch 14/40\n",
      "15000/15000 [==============================] - 0s 30us/sample - loss: 0.3524 - accuracy: 0.8477 - val_loss: 0.3922 - val_accuracy: 0.8228\n",
      "Epoch 15/40\n",
      "15000/15000 [==============================] - 0s 30us/sample - loss: 0.3464 - accuracy: 0.8508 - val_loss: 0.3911 - val_accuracy: 0.8227\n",
      "Epoch 16/40\n",
      "15000/15000 [==============================] - 0s 31us/sample - loss: 0.3412 - accuracy: 0.8546 - val_loss: 0.3911 - val_accuracy: 0.8227\n",
      "Epoch 17/40\n",
      "15000/15000 [==============================] - 0s 29us/sample - loss: 0.3363 - accuracy: 0.8569 - val_loss: 0.3909 - val_accuracy: 0.8245\n",
      "Epoch 18/40\n",
      "15000/15000 [==============================] - 0s 29us/sample - loss: 0.3320 - accuracy: 0.8575 - val_loss: 0.3917 - val_accuracy: 0.8237\n",
      "Epoch 19/40\n",
      "15000/15000 [==============================] - 0s 29us/sample - loss: 0.3281 - accuracy: 0.8593 - val_loss: 0.3922 - val_accuracy: 0.8237\n",
      "Epoch 20/40\n",
      "15000/15000 [==============================] - 0s 30us/sample - loss: 0.3241 - accuracy: 0.8613 - val_loss: 0.3928 - val_accuracy: 0.8236\n",
      "Epoch 21/40\n",
      "15000/15000 [==============================] - 0s 30us/sample - loss: 0.3204 - accuracy: 0.8635 - val_loss: 0.3930 - val_accuracy: 0.8245\n",
      "Epoch 22/40\n",
      "15000/15000 [==============================] - 0s 30us/sample - loss: 0.3165 - accuracy: 0.8655 - val_loss: 0.3931 - val_accuracy: 0.8272\n",
      "Epoch 23/40\n",
      "15000/15000 [==============================] - 0s 30us/sample - loss: 0.3128 - accuracy: 0.8669 - val_loss: 0.3945 - val_accuracy: 0.8268\n",
      "Epoch 24/40\n",
      "15000/15000 [==============================] - 0s 29us/sample - loss: 0.3097 - accuracy: 0.8690 - val_loss: 0.3952 - val_accuracy: 0.8255\n",
      "Epoch 25/40\n",
      "15000/15000 [==============================] - 0s 30us/sample - loss: 0.3071 - accuracy: 0.8693 - val_loss: 0.3958 - val_accuracy: 0.8266\n",
      "Epoch 26/40\n",
      "15000/15000 [==============================] - 1s 34us/sample - loss: 0.3039 - accuracy: 0.8723 - val_loss: 0.3966 - val_accuracy: 0.8261\n",
      "Epoch 27/40\n",
      "15000/15000 [==============================] - 0s 30us/sample - loss: 0.3011 - accuracy: 0.8735 - val_loss: 0.3982 - val_accuracy: 0.8258\n",
      "Epoch 28/40\n",
      "15000/15000 [==============================] - 0s 30us/sample - loss: 0.2988 - accuracy: 0.8731 - val_loss: 0.3990 - val_accuracy: 0.8274\n",
      "Epoch 29/40\n",
      "15000/15000 [==============================] - 0s 29us/sample - loss: 0.2961 - accuracy: 0.8746 - val_loss: 0.4005 - val_accuracy: 0.8275\n",
      "Epoch 30/40\n",
      "15000/15000 [==============================] - 0s 30us/sample - loss: 0.2932 - accuracy: 0.8766 - val_loss: 0.4019 - val_accuracy: 0.8260\n",
      "Epoch 31/40\n",
      "15000/15000 [==============================] - 0s 29us/sample - loss: 0.2910 - accuracy: 0.8781 - val_loss: 0.4031 - val_accuracy: 0.8263\n",
      "Epoch 32/40\n",
      "15000/15000 [==============================] - 0s 30us/sample - loss: 0.2884 - accuracy: 0.8781 - val_loss: 0.4047 - val_accuracy: 0.8266\n",
      "Epoch 33/40\n",
      "15000/15000 [==============================] - 0s 32us/sample - loss: 0.2860 - accuracy: 0.8792 - val_loss: 0.4060 - val_accuracy: 0.8258\n",
      "Epoch 34/40\n",
      "15000/15000 [==============================] - 0s 31us/sample - loss: 0.2837 - accuracy: 0.8820 - val_loss: 0.4088 - val_accuracy: 0.8270\n",
      "Epoch 35/40\n",
      "15000/15000 [==============================] - 0s 31us/sample - loss: 0.2819 - accuracy: 0.8819 - val_loss: 0.4094 - val_accuracy: 0.8255\n",
      "Epoch 36/40\n",
      "15000/15000 [==============================] - 0s 31us/sample - loss: 0.2792 - accuracy: 0.8840 - val_loss: 0.4106 - val_accuracy: 0.8254\n",
      "Epoch 37/40\n",
      "15000/15000 [==============================] - 0s 30us/sample - loss: 0.2775 - accuracy: 0.8845 - val_loss: 0.4121 - val_accuracy: 0.8254\n",
      "Epoch 38/40\n",
      "15000/15000 [==============================] - 0s 29us/sample - loss: 0.2750 - accuracy: 0.8858 - val_loss: 0.4133 - val_accuracy: 0.8236\n",
      "Epoch 39/40\n",
      "15000/15000 [==============================] - 0s 29us/sample - loss: 0.2727 - accuracy: 0.8869 - val_loss: 0.4153 - val_accuracy: 0.8241\n",
      "Epoch 40/40\n",
      "15000/15000 [==============================] - 0s 30us/sample - loss: 0.2708 - accuracy: 0.8880 - val_loss: 0.4170 - val_accuracy: 0.8246\n",
      "25000/25000 [==============================] - 0s 20us/sample - loss: 0.4086 - accuracy: 0.8262\n",
      "[0.4085814111709595, 0.82624]\n"
     ]
    }
   ],
   "source": [
    "model.compile(optimizer='adam',\n",
    "              loss='binary_crossentropy',\n",
    "              metrics=['accuracy'])\n",
    "\n",
    "x_val = train_data[:10000]\n",
    "partial_x_train = train_data[10000:]\n",
    "\n",
    "y_val = train_labels[:10000]\n",
    "partial_y_train = train_labels[10000:]\n",
    "\n",
    "history = model.fit(partial_x_train,\n",
    "                    partial_y_train,\n",
    "                    epochs=40,\n",
    "                    batch_size=512,\n",
    "                    validation_data=(x_val, y_val),\n",
    "                    verbose=1)\n",
    "\n",
    "results = model.evaluate(test_data, test_labels)\n",
    "\n",
    "print(results)"
   ]
  },
  {
   "cell_type": "code",
   "execution_count": 61,
   "metadata": {},
   "outputs": [
    {
     "data": {
      "image/png": "[encoded data removed]",
      "text/plain": [
       "<Figure size 432x288 with 1 Axes>"
      ]
     },
     "metadata": {
      "needs_background": "light"
     },
     "output_type": "display_data"
    }
   ],
   "source": [
    "history_dict = history.history\n",
    "\n",
    "acc = history_dict['accuracy']\n",
    "val_acc = history_dict['val_accuracy']\n",
    "loss = history_dict['loss']\n",
    "val_loss = history_dict['val_loss']\n",
    "\n",
    "epochs = range(1, len(acc) + 1)\n",
    "\n",
    "plt.clf()   # 그림을 초기화합니다\n",
    "\n",
    "# \"bo\"는 \"파란색 점\"입니다\n",
    "plt.plot(epochs, loss, 'bo', label='Training loss')\n",
    "# b는 \"파란 실선\"입니다\n",
    "plt.plot(epochs, val_loss, 'b', label='Validation loss')\n",
    "plt.title('Training and validation loss')\n",
    "plt.xlabel('Epochs')\n",
    "plt.ylabel('Loss')\n",
    "plt.legend()\n",
    "\n",
    "plt.show()"
   ]
  },
  {
   "cell_type": "code",
   "execution_count": 62,
   "metadata": {},
   "outputs": [
    {
     "data": {
      "image/png": "[encoded data removed]",
      "text/plain": [
       "<Figure size 432x288 with 1 Axes>"
      ]
     },
     "metadata": {
      "needs_background": "light"
     },
     "output_type": "display_data"
    }
   ],
   "source": [
    "plt.clf()   # 그림을 초기화합니다\n",
    "\n",
    "plt.plot(epochs, acc, 'bo', label='Training acc')\n",
    "plt.plot(epochs, val_acc, 'b', label='Validation acc')\n",
    "plt.title('Training and validation accuracy')\n",
    "plt.xlabel('Epochs')\n",
    "plt.ylabel('Accuracy')\n",
    "plt.legend()\n",
    "\n",
    "plt.show()"
   ]
  },
  {
   "cell_type": "markdown",
   "metadata": {},
   "source": [
    "--------------------"
   ]
  },
  {
   "cell_type": "markdown",
   "metadata": {},
   "source": [
    "# CNN"
   ]
  },
  {
   "cell_type": "markdown",
   "metadata": {},
   "source": [
    "<img src=\"https://github.com/Tixierae/deep_learning_NLP/raw/master/cnn_illustration.png\" width=600 />\n",
    "\n",
    "* 출처 - https://github.com/Tixierae/deep_learning_NLP"
   ]
  },
  {
   "cell_type": "markdown",
   "metadata": {},
   "source": [
    "## 1-D CNN"
   ]
  },
  {
   "cell_type": "markdown",
   "metadata": {},
   "source": [
    "<img src=\"https://files.realpython.com/media/njanakiev-1d-convolution.d7afddde2776.png\" width=600 />\n",
    "\n",
    "* 출처 - https://realpython.com/python-keras-text-classification/"
   ]
  },
  {
   "cell_type": "code",
   "execution_count": 39,
   "metadata": {},
   "outputs": [],
   "source": [
    "# 앞의 실습 모델이 jupyter notebook 상에 계속 연결되므로 정리해주는 코드를 추가  \n",
    "tf.keras.backend.clear_session()"
   ]
  },
  {
   "cell_type": "code",
   "execution_count": 40,
   "metadata": {},
   "outputs": [
    {
     "name": "stdout",
     "output_type": "stream",
     "text": [
      "Model: \"sequential\"\n",
      "_________________________________________________________________\n",
      "Layer (type)                 Output Shape              Param #   \n",
      "=================================================================\n",
      "embedding (Embedding)        (None, None, 16)          16000     \n",
      "_________________________________________________________________\n",
      "dropout (Dropout)            (None, None, 16)          0         \n",
      "_________________________________________________________________\n",
      "conv1d (Conv1D)              (None, None, 70)          3430      \n",
      "_________________________________________________________________\n",
      "global_average_pooling1d (Gl (None, 70)                0         \n",
      "_________________________________________________________________\n",
      "dense (Dense)                (None, 70)                4970      \n",
      "_________________________________________________________________\n",
      "dropout_1 (Dropout)          (None, 70)                0         \n",
      "_________________________________________________________________\n",
      "activation (Activation)      (None, 70)                0         \n",
      "_________________________________________________________________\n",
      "dense_1 (Dense)              (None, 1)                 71        \n",
      "=================================================================\n",
      "Total params: 24,471\n",
      "Trainable params: 24,471\n",
      "Non-trainable params: 0\n",
      "_________________________________________________________________\n"
     ]
    }
   ],
   "source": [
    "vocab_size = max_words\n",
    "\n",
    "embedding_dims = 16\n",
    "filters = 70\n",
    "kernel_size = 3\n",
    "hidden_dims = 70\n",
    "\n",
    "model = tf.keras.Sequential()\n",
    "model.add(tf.keras.layers.Embedding(vocab_size, \n",
    "                                    embedding_dims, \n",
    "                                    input_shape=(None,)))\n",
    "model.add(tf.keras.layers.Dropout(0.2))\n",
    "\n",
    "# we add a Convolution1D, which will learn filters\n",
    "# word group filters of size filter_length:\n",
    "model.add(tf.keras.layers.Conv1D(filters,\n",
    "                                 kernel_size,\n",
    "                                 padding='valid',\n",
    "                                 activation='relu',\n",
    "                                 strides=1))\n",
    "# we use max pooling:\n",
    "model.add(tf.keras.layers.GlobalAveragePooling1D())\n",
    "\n",
    "# We add a vanilla hidden layer:\n",
    "model.add(tf.keras.layers.Dense(hidden_dims))\n",
    "model.add(tf.keras.layers.Dropout(0.2))\n",
    "model.add(tf.keras.layers.Activation('relu'))\n",
    "\n",
    "model.add(tf.keras.layers.Dense(1, activation='sigmoid'))\n",
    "\n",
    "model.summary()"
   ]
  },
  {
   "cell_type": "code",
   "execution_count": 41,
   "metadata": {
    "scrolled": false
   },
   "outputs": [
    {
     "name": "stdout",
     "output_type": "stream",
     "text": [
      "Train on 15000 samples, validate on 10000 samples\n",
      "Epoch 1/40\n",
      "15000/15000 [==============================] - 4s 243us/sample - loss: 0.6929 - accuracy: 0.5126 - val_loss: 0.6919 - val_accuracy: 0.5728\n",
      "Epoch 2/40\n",
      "15000/15000 [==============================] - 4s 263us/sample - loss: 0.6862 - accuracy: 0.6199 - val_loss: 0.6723 - val_accuracy: 0.6736\n",
      "Epoch 3/40\n",
      "15000/15000 [==============================] - 4s 237us/sample - loss: 0.6347 - accuracy: 0.7023 - val_loss: 0.5770 - val_accuracy: 0.7348\n",
      "Epoch 4/40\n",
      "15000/15000 [==============================] - 3s 220us/sample - loss: 0.5119 - accuracy: 0.7775 - val_loss: 0.4471 - val_accuracy: 0.8116\n",
      "Epoch 5/40\n",
      "15000/15000 [==============================] - 3s 220us/sample - loss: 0.4117 - accuracy: 0.8230 - val_loss: 0.3921 - val_accuracy: 0.8266\n",
      "Epoch 6/40\n",
      "15000/15000 [==============================] - 3s 219us/sample - loss: 0.3770 - accuracy: 0.8360 - val_loss: 0.3776 - val_accuracy: 0.8339\n",
      "Epoch 7/40\n",
      "15000/15000 [==============================] - 3s 219us/sample - loss: 0.3581 - accuracy: 0.8474 - val_loss: 0.3599 - val_accuracy: 0.8485\n",
      "Epoch 8/40\n",
      "15000/15000 [==============================] - 3s 219us/sample - loss: 0.3465 - accuracy: 0.8507 - val_loss: 0.3553 - val_accuracy: 0.8509\n",
      "Epoch 9/40\n",
      "15000/15000 [==============================] - 3s 220us/sample - loss: 0.3339 - accuracy: 0.8603 - val_loss: 0.3565 - val_accuracy: 0.8453\n",
      "Epoch 10/40\n",
      "15000/15000 [==============================] - 3s 221us/sample - loss: 0.3254 - accuracy: 0.8640 - val_loss: 0.3554 - val_accuracy: 0.8465\n",
      "Epoch 11/40\n",
      "15000/15000 [==============================] - 3s 223us/sample - loss: 0.3182 - accuracy: 0.8681 - val_loss: 0.3483 - val_accuracy: 0.8519\n",
      "Epoch 12/40\n",
      "15000/15000 [==============================] - 3s 223us/sample - loss: 0.3136 - accuracy: 0.8690 - val_loss: 0.3478 - val_accuracy: 0.8507\n",
      "Epoch 13/40\n",
      "15000/15000 [==============================] - 3s 222us/sample - loss: 0.3136 - accuracy: 0.8717 - val_loss: 0.3485 - val_accuracy: 0.8532\n",
      "Epoch 14/40\n",
      "15000/15000 [==============================] - 3s 222us/sample - loss: 0.3078 - accuracy: 0.8701 - val_loss: 0.3429 - val_accuracy: 0.8545\n",
      "Epoch 15/40\n",
      "15000/15000 [==============================] - 3s 222us/sample - loss: 0.3070 - accuracy: 0.8727 - val_loss: 0.3438 - val_accuracy: 0.8553\n",
      "Epoch 16/40\n",
      "15000/15000 [==============================] - 3s 221us/sample - loss: 0.3041 - accuracy: 0.8745 - val_loss: 0.3413 - val_accuracy: 0.8549\n",
      "Epoch 17/40\n",
      "15000/15000 [==============================] - 3s 222us/sample - loss: 0.3040 - accuracy: 0.8730 - val_loss: 0.3464 - val_accuracy: 0.8518\n",
      "Epoch 18/40\n",
      "15000/15000 [==============================] - 3s 220us/sample - loss: 0.3012 - accuracy: 0.8755 - val_loss: 0.3512 - val_accuracy: 0.8487\n",
      "Epoch 19/40\n",
      "15000/15000 [==============================] - 3s 220us/sample - loss: 0.2976 - accuracy: 0.8755 - val_loss: 0.3410 - val_accuracy: 0.8564\n",
      "Epoch 20/40\n",
      "15000/15000 [==============================] - 3s 222us/sample - loss: 0.2955 - accuracy: 0.8773 - val_loss: 0.3421 - val_accuracy: 0.8547\n",
      "Epoch 21/40\n",
      "15000/15000 [==============================] - 3s 223us/sample - loss: 0.2934 - accuracy: 0.8784 - val_loss: 0.3407 - val_accuracy: 0.8562\n",
      "Epoch 22/40\n",
      "15000/15000 [==============================] - 3s 223us/sample - loss: 0.2934 - accuracy: 0.8770 - val_loss: 0.3405 - val_accuracy: 0.8558\n",
      "Epoch 23/40\n",
      "15000/15000 [==============================] - 4s 237us/sample - loss: 0.2899 - accuracy: 0.8805 - val_loss: 0.3419 - val_accuracy: 0.8535\n",
      "Epoch 24/40\n",
      "15000/15000 [==============================] - 3s 230us/sample - loss: 0.2907 - accuracy: 0.8793 - val_loss: 0.3394 - val_accuracy: 0.8557\n",
      "Epoch 25/40\n",
      "15000/15000 [==============================] - 4s 242us/sample - loss: 0.2903 - accuracy: 0.8789 - val_loss: 0.3475 - val_accuracy: 0.8496\n",
      "Epoch 26/40\n",
      "15000/15000 [==============================] - 3s 223us/sample - loss: 0.2909 - accuracy: 0.8784 - val_loss: 0.3480 - val_accuracy: 0.8496\n",
      "Epoch 27/40\n",
      "15000/15000 [==============================] - 4s 243us/sample - loss: 0.2929 - accuracy: 0.8769 - val_loss: 0.3404 - val_accuracy: 0.8556\n",
      "Epoch 28/40\n",
      "15000/15000 [==============================] - 4s 237us/sample - loss: 0.2881 - accuracy: 0.8823 - val_loss: 0.3394 - val_accuracy: 0.8541\n",
      "Epoch 29/40\n",
      "15000/15000 [==============================] - 3s 222us/sample - loss: 0.2846 - accuracy: 0.8821 - val_loss: 0.3386 - val_accuracy: 0.8552\n",
      "Epoch 30/40\n",
      "15000/15000 [==============================] - 4s 244us/sample - loss: 0.2857 - accuracy: 0.8819 - val_loss: 0.3607 - val_accuracy: 0.8473\n",
      "Epoch 31/40\n",
      "15000/15000 [==============================] - 4s 239us/sample - loss: 0.2849 - accuracy: 0.8832 - val_loss: 0.3391 - val_accuracy: 0.8557\n",
      "Epoch 32/40\n",
      "15000/15000 [==============================] - 4s 240us/sample - loss: 0.2854 - accuracy: 0.8845 - val_loss: 0.3379 - val_accuracy: 0.8562\n",
      "Epoch 33/40\n",
      "15000/15000 [==============================] - 4s 256us/sample - loss: 0.2824 - accuracy: 0.8827 - val_loss: 0.3382 - val_accuracy: 0.8559\n",
      "Epoch 34/40\n",
      "15000/15000 [==============================] - 4s 248us/sample - loss: 0.2825 - accuracy: 0.8830 - val_loss: 0.3392 - val_accuracy: 0.8550\n",
      "Epoch 35/40\n",
      "15000/15000 [==============================] - 4s 239us/sample - loss: 0.2796 - accuracy: 0.8869 - val_loss: 0.3452 - val_accuracy: 0.8529\n",
      "Epoch 36/40\n",
      "15000/15000 [==============================] - 4s 241us/sample - loss: 0.2789 - accuracy: 0.8860 - val_loss: 0.3417 - val_accuracy: 0.8558\n",
      "Epoch 37/40\n",
      "15000/15000 [==============================] - 3s 228us/sample - loss: 0.2791 - accuracy: 0.8861 - val_loss: 0.3404 - val_accuracy: 0.8556\n",
      "Epoch 38/40\n",
      "15000/15000 [==============================] - 3s 233us/sample - loss: 0.2774 - accuracy: 0.8862 - val_loss: 0.3407 - val_accuracy: 0.8555\n",
      "Epoch 39/40\n",
      "15000/15000 [==============================] - 4s 240us/sample - loss: 0.2765 - accuracy: 0.8858 - val_loss: 0.3456 - val_accuracy: 0.8534\n",
      "Epoch 40/40\n",
      "15000/15000 [==============================] - 3s 227us/sample - loss: 0.2765 - accuracy: 0.8864 - val_loss: 0.3402 - val_accuracy: 0.8563\n",
      "25000/25000 [==============================] - 2s 87us/sample - loss: 0.3364 - accuracy: 0.8560\n",
      "[0.3364463791942596, 0.856]\n"
     ]
    }
   ],
   "source": [
    "model.compile(optimizer='adam',\n",
    "              loss='binary_crossentropy',\n",
    "              metrics=['accuracy'])\n",
    "\n",
    "x_val = train_data[:10000]\n",
    "partial_x_train = train_data[10000:]\n",
    "\n",
    "y_val = train_labels[:10000]\n",
    "partial_y_train = train_labels[10000:]\n",
    "\n",
    "history = model.fit(partial_x_train,\n",
    "                    partial_y_train,\n",
    "                    epochs=40,\n",
    "                    batch_size=512,\n",
    "                    validation_data=(x_val, y_val),\n",
    "                    verbose=1)\n",
    "\n",
    "results = model.evaluate(test_data, test_labels)\n",
    "\n",
    "print(results)"
   ]
  },
  {
   "cell_type": "code",
   "execution_count": 42,
   "metadata": {},
   "outputs": [
    {
     "data": {
      "image/png": "[encoded data removed]",
      "text/plain": [
       "<Figure size 432x288 with 1 Axes>"
      ]
     },
     "metadata": {
      "needs_background": "light"
     },
     "output_type": "display_data"
    }
   ],
   "source": [
    "history_dict = history.history\n",
    "\n",
    "acc = history_dict['accuracy']\n",
    "val_acc = history_dict['val_accuracy']\n",
    "loss = history_dict['loss']\n",
    "val_loss = history_dict['val_loss']\n",
    "\n",
    "epochs = range(1, len(acc) + 1)\n",
    "\n",
    "plt.clf()   # 그림을 초기화합니다\n",
    "\n",
    "# \"bo\"는 \"파란색 점\"입니다\n",
    "plt.plot(epochs, loss, 'bo', label='Training loss')\n",
    "# b는 \"파란 실선\"입니다\n",
    "plt.plot(epochs, val_loss, 'b', label='Validation loss')\n",
    "plt.title('Training and validation loss')\n",
    "plt.xlabel('Epochs')\n",
    "plt.ylabel('Loss')\n",
    "plt.legend()\n",
    "\n",
    "plt.show()"
   ]
  },
  {
   "cell_type": "code",
   "execution_count": 43,
   "metadata": {},
   "outputs": [
    {
     "data": {
      "image/png": "[encoded data removed]",
      "text/plain": [
       "<Figure size 432x288 with 1 Axes>"
      ]
     },
     "metadata": {
      "needs_background": "light"
     },
     "output_type": "display_data"
    }
   ],
   "source": [
    "plt.clf()   # 그림을 초기화합니다\n",
    "\n",
    "plt.plot(epochs, acc, 'bo', label='Training acc')\n",
    "plt.plot(epochs, val_acc, 'b', label='Validation acc')\n",
    "plt.title('Training and validation accuracy')\n",
    "plt.xlabel('Epochs')\n",
    "plt.ylabel('Accuracy')\n",
    "plt.legend()\n",
    "\n",
    "plt.show()"
   ]
  },
  {
   "cell_type": "markdown",
   "metadata": {},
   "source": [
    "---------------------"
   ]
  },
  {
   "cell_type": "markdown",
   "metadata": {},
   "source": [
    "# RNN"
   ]
  },
  {
   "cell_type": "markdown",
   "metadata": {},
   "source": [
    "<img src=\"https://blog.feedly.com/wp-content/uploads/2019/03/Screen-Shot-2019-03-06-at-12.08.35-PM.png\" width=600 />\n",
    "\n",
    "* 출처 - https://blog.feedly.com/nlp-breakfast-2-the-rise-of-language-models/"
   ]
  },
  {
   "cell_type": "markdown",
   "metadata": {},
   "source": [
    "## LSTM"
   ]
  },
  {
   "cell_type": "code",
   "execution_count": 44,
   "metadata": {},
   "outputs": [],
   "source": [
    "# 앞의 실습 모델이 jupyter notebook 상에 계속 연결되므로 정리해주는 코드를 추가  \n",
    "tf.keras.backend.clear_session()"
   ]
  },
  {
   "cell_type": "code",
   "execution_count": 45,
   "metadata": {},
   "outputs": [
    {
     "name": "stdout",
     "output_type": "stream",
     "text": [
      "Model: \"sequential\"\n",
      "_________________________________________________________________\n",
      "Layer (type)                 Output Shape              Param #   \n",
      "=================================================================\n",
      "embedding (Embedding)        (None, None, 16)          16000     \n",
      "_________________________________________________________________\n",
      "bidirectional (Bidirectional (None, 32)                4224      \n",
      "_________________________________________________________________\n",
      "dense (Dense)                (None, 16)                528       \n",
      "_________________________________________________________________\n",
      "dense_1 (Dense)              (None, 1)                 17        \n",
      "=================================================================\n",
      "Total params: 20,769\n",
      "Trainable params: 20,769\n",
      "Non-trainable params: 0\n",
      "_________________________________________________________________\n"
     ]
    }
   ],
   "source": [
    "vocab_size = max_words\n",
    "\n",
    "model = tf.keras.Sequential([\n",
    "    tf.keras.layers.Embedding(vocab_size, 16),\n",
    "    tf.keras.layers.Bidirectional(tf.keras.layers.LSTM(16)),\n",
    "    tf.keras.layers.Dense(16, activation='relu'),\n",
    "    tf.keras.layers.Dense(1, activation='sigmoid')\n",
    "])\n",
    "\n",
    "model.summary()"
   ]
  },
  {
   "cell_type": "code",
   "execution_count": 46,
   "metadata": {
    "scrolled": false
   },
   "outputs": [
    {
     "name": "stdout",
     "output_type": "stream",
     "text": [
      "Train on 15000 samples, validate on 10000 samples\n",
      "Epoch 1/40\n",
      "15000/15000 [==============================] - 11s 756us/sample - loss: 0.6925 - accuracy: 0.5187 - val_loss: 0.6915 - val_accuracy: 0.5404\n",
      "Epoch 2/40\n",
      "15000/15000 [==============================] - 9s 633us/sample - loss: 0.6782 - accuracy: 0.5923 - val_loss: 0.6349 - val_accuracy: 0.6621\n",
      "Epoch 3/40\n",
      "15000/15000 [==============================] - 10s 693us/sample - loss: 0.5622 - accuracy: 0.7277 - val_loss: 0.4859 - val_accuracy: 0.7880\n",
      "Epoch 4/40\n",
      "15000/15000 [==============================] - 10s 643us/sample - loss: 0.4276 - accuracy: 0.8182 - val_loss: 0.4076 - val_accuracy: 0.8236\n",
      "Epoch 5/40\n",
      "15000/15000 [==============================] - 10s 666us/sample - loss: 0.3671 - accuracy: 0.8497 - val_loss: 0.3771 - val_accuracy: 0.8401\n",
      "Epoch 6/40\n",
      "15000/15000 [==============================] - 10s 641us/sample - loss: 0.3498 - accuracy: 0.8582 - val_loss: 0.3722 - val_accuracy: 0.8455\n",
      "Epoch 7/40\n",
      "15000/15000 [==============================] - 9s 622us/sample - loss: 0.3242 - accuracy: 0.8705 - val_loss: 0.3843 - val_accuracy: 0.8364\n",
      "Epoch 8/40\n",
      "15000/15000 [==============================] - 9s 630us/sample - loss: 0.3133 - accuracy: 0.8743 - val_loss: 0.3615 - val_accuracy: 0.8468\n",
      "Epoch 9/40\n",
      "15000/15000 [==============================] - 10s 646us/sample - loss: 0.3055 - accuracy: 0.8803 - val_loss: 0.3544 - val_accuracy: 0.8534\n",
      "Epoch 10/40\n",
      "15000/15000 [==============================] - 10s 691us/sample - loss: 0.3023 - accuracy: 0.8796 - val_loss: 0.3766 - val_accuracy: 0.8403\n",
      "Epoch 11/40\n",
      "15000/15000 [==============================] - 10s 668us/sample - loss: 0.2983 - accuracy: 0.8801 - val_loss: 0.3728 - val_accuracy: 0.8392\n",
      "Epoch 12/40\n",
      "15000/15000 [==============================] - 9s 626us/sample - loss: 0.2985 - accuracy: 0.8812 - val_loss: 0.3763 - val_accuracy: 0.8500\n",
      "Epoch 13/40\n",
      "15000/15000 [==============================] - 9s 587us/sample - loss: 0.2946 - accuracy: 0.8820 - val_loss: 0.3607 - val_accuracy: 0.8510\n",
      "Epoch 14/40\n",
      "15000/15000 [==============================] - 10s 636us/sample - loss: 0.2919 - accuracy: 0.8846 - val_loss: 0.3753 - val_accuracy: 0.8372\n",
      "Epoch 15/40\n",
      "15000/15000 [==============================] - 10s 651us/sample - loss: 0.2909 - accuracy: 0.8833 - val_loss: 0.3697 - val_accuracy: 0.8535\n",
      "Epoch 16/40\n",
      "15000/15000 [==============================] - 10s 679us/sample - loss: 0.2830 - accuracy: 0.8874 - val_loss: 0.3557 - val_accuracy: 0.8546\n",
      "Epoch 17/40\n",
      "15000/15000 [==============================] - 10s 636us/sample - loss: 0.2777 - accuracy: 0.8927 - val_loss: 0.3506 - val_accuracy: 0.8578\n",
      "Epoch 18/40\n",
      "15000/15000 [==============================] - 9s 615us/sample - loss: 0.2740 - accuracy: 0.8934 - val_loss: 0.3837 - val_accuracy: 0.8465\n",
      "Epoch 19/40\n",
      "15000/15000 [==============================] - 10s 640us/sample - loss: 0.2765 - accuracy: 0.8895 - val_loss: 0.3544 - val_accuracy: 0.8574\n",
      "Epoch 20/40\n",
      "15000/15000 [==============================] - 9s 631us/sample - loss: 0.2645 - accuracy: 0.8973 - val_loss: 0.3607 - val_accuracy: 0.8545\n",
      "Epoch 21/40\n",
      "15000/15000 [==============================] - 9s 633us/sample - loss: 0.2633 - accuracy: 0.8977 - val_loss: 0.3643 - val_accuracy: 0.8511\n",
      "Epoch 22/40\n",
      "15000/15000 [==============================] - 10s 672us/sample - loss: 0.2623 - accuracy: 0.8973 - val_loss: 0.3656 - val_accuracy: 0.8514\n",
      "Epoch 23/40\n",
      "15000/15000 [==============================] - 10s 651us/sample - loss: 0.2628 - accuracy: 0.8973 - val_loss: 0.3556 - val_accuracy: 0.8556\n",
      "Epoch 24/40\n",
      "15000/15000 [==============================] - 10s 665us/sample - loss: 0.2578 - accuracy: 0.8997 - val_loss: 0.3587 - val_accuracy: 0.8546\n",
      "Epoch 25/40\n",
      "15000/15000 [==============================] - 9s 609us/sample - loss: 0.2629 - accuracy: 0.8984 - val_loss: 0.3680 - val_accuracy: 0.8551\n",
      "Epoch 26/40\n",
      "15000/15000 [==============================] - 9s 581us/sample - loss: 0.2503 - accuracy: 0.9045 - val_loss: 0.3780 - val_accuracy: 0.8532\n",
      "Epoch 27/40\n",
      "15000/15000 [==============================] - 10s 671us/sample - loss: 0.2509 - accuracy: 0.9043 - val_loss: 0.3611 - val_accuracy: 0.8534\n",
      "Epoch 28/40\n",
      "15000/15000 [==============================] - 9s 619us/sample - loss: 0.2469 - accuracy: 0.9037 - val_loss: 0.3655 - val_accuracy: 0.8539\n",
      "Epoch 29/40\n",
      "15000/15000 [==============================] - 10s 642us/sample - loss: 0.2391 - accuracy: 0.9089 - val_loss: 0.3785 - val_accuracy: 0.8469\n",
      "Epoch 30/40\n",
      "15000/15000 [==============================] - 9s 600us/sample - loss: 0.2372 - accuracy: 0.9085 - val_loss: 0.4173 - val_accuracy: 0.8477\n",
      "Epoch 31/40\n",
      "15000/15000 [==============================] - 9s 617us/sample - loss: 0.2460 - accuracy: 0.9039 - val_loss: 0.3705 - val_accuracy: 0.8503\n",
      "Epoch 32/40\n",
      "15000/15000 [==============================] - 9s 602us/sample - loss: 0.2344 - accuracy: 0.9099 - val_loss: 0.3839 - val_accuracy: 0.8497\n",
      "Epoch 33/40\n",
      "15000/15000 [==============================] - 9s 599us/sample - loss: 0.2276 - accuracy: 0.9145 - val_loss: 0.3974 - val_accuracy: 0.8425\n",
      "Epoch 34/40\n",
      "15000/15000 [==============================] - 9s 605us/sample - loss: 0.2445 - accuracy: 0.9035 - val_loss: 0.3832 - val_accuracy: 0.8494\n",
      "Epoch 35/40\n",
      "15000/15000 [==============================] - 9s 612us/sample - loss: 0.2261 - accuracy: 0.9142 - val_loss: 0.4048 - val_accuracy: 0.8474\n",
      "Epoch 36/40\n",
      "15000/15000 [==============================] - 9s 588us/sample - loss: 0.2225 - accuracy: 0.9165 - val_loss: 0.4070 - val_accuracy: 0.8479\n",
      "Epoch 37/40\n",
      "15000/15000 [==============================] - 9s 589us/sample - loss: 0.2197 - accuracy: 0.9156 - val_loss: 0.3987 - val_accuracy: 0.8485\n",
      "Epoch 38/40\n",
      "15000/15000 [==============================] - 10s 646us/sample - loss: 0.2182 - accuracy: 0.9189 - val_loss: 0.4121 - val_accuracy: 0.8487\n",
      "Epoch 39/40\n",
      "15000/15000 [==============================] - 10s 642us/sample - loss: 0.2156 - accuracy: 0.9193 - val_loss: 0.4045 - val_accuracy: 0.8452\n",
      "Epoch 40/40\n",
      "15000/15000 [==============================] - 10s 685us/sample - loss: 0.2111 - accuracy: 0.9210 - val_loss: 0.4088 - val_accuracy: 0.8434\n",
      "25000/25000 [==============================] - 17s 671us/sample - loss: 0.4083 - accuracy: 0.8384\n",
      "[0.4082623571872711, 0.83844]\n"
     ]
    }
   ],
   "source": [
    "model.compile(optimizer='adam',\n",
    "              loss='binary_crossentropy',\n",
    "              metrics=['accuracy'])\n",
    "\n",
    "x_val = train_data[:10000]\n",
    "partial_x_train = train_data[10000:]\n",
    "\n",
    "y_val = train_labels[:10000]\n",
    "partial_y_train = train_labels[10000:]\n",
    "\n",
    "history = model.fit(partial_x_train,\n",
    "                    partial_y_train,\n",
    "                    epochs=40,\n",
    "                    batch_size=512,\n",
    "                    validation_data=(x_val, y_val),\n",
    "                    verbose=1)\n",
    "\n",
    "results = model.evaluate(test_data, test_labels)\n",
    "\n",
    "print(results)"
   ]
  },
  {
   "cell_type": "code",
   "execution_count": 47,
   "metadata": {},
   "outputs": [
    {
     "data": {
      "image/png": "[encoded data removed]",
      "text/plain": [
       "<Figure size 432x288 with 1 Axes>"
      ]
     },
     "metadata": {
      "needs_background": "light"
     },
     "output_type": "display_data"
    }
   ],
   "source": [
    "history_dict = history.history\n",
    "\n",
    "acc = history_dict['accuracy']\n",
    "val_acc = history_dict['val_accuracy']\n",
    "loss = history_dict['loss']\n",
    "val_loss = history_dict['val_loss']\n",
    "\n",
    "epochs = range(1, len(acc) + 1)\n",
    "\n",
    "plt.clf()   # 그림을 초기화합니다\n",
    "\n",
    "# \"bo\"는 \"파란색 점\"입니다\n",
    "plt.plot(epochs, loss, 'bo', label='Training loss')\n",
    "# b는 \"파란 실선\"입니다\n",
    "plt.plot(epochs, val_loss, 'b', label='Validation loss')\n",
    "plt.title('Training and validation loss')\n",
    "plt.xlabel('Epochs')\n",
    "plt.ylabel('Loss')\n",
    "plt.legend()\n",
    "\n",
    "plt.show()"
   ]
  },
  {
   "cell_type": "code",
   "execution_count": 48,
   "metadata": {},
   "outputs": [
    {
     "data": {
      "image/png": "[encoded data removed]",
      "text/plain": [
       "<Figure size 432x288 with 1 Axes>"
      ]
     },
     "metadata": {
      "needs_background": "light"
     },
     "output_type": "display_data"
    }
   ],
   "source": [
    "plt.clf()   # 그림을 초기화합니다\n",
    "\n",
    "plt.plot(epochs, acc, 'bo', label='Training acc')\n",
    "plt.plot(epochs, val_acc, 'b', label='Validation acc')\n",
    "plt.title('Training and validation accuracy')\n",
    "plt.xlabel('Epochs')\n",
    "plt.ylabel('Accuracy')\n",
    "plt.legend()\n",
    "\n",
    "plt.show()"
   ]
  },
  {
   "cell_type": "markdown",
   "metadata": {},
   "source": [
    "## Stack two or more LSTM layers"
   ]
  },
  {
   "cell_type": "code",
   "execution_count": 49,
   "metadata": {},
   "outputs": [],
   "source": [
    "# 앞의 실습 모델이 jupyter notebook 상에 계속 연결되므로 정리해주는 코드를 추가  \n",
    "tf.keras.backend.clear_session()"
   ]
  },
  {
   "cell_type": "code",
   "execution_count": 50,
   "metadata": {},
   "outputs": [
    {
     "name": "stdout",
     "output_type": "stream",
     "text": [
      "Model: \"sequential\"\n",
      "_________________________________________________________________\n",
      "Layer (type)                 Output Shape              Param #   \n",
      "=================================================================\n",
      "embedding (Embedding)        (None, None, 16)          16000     \n",
      "_________________________________________________________________\n",
      "bidirectional (Bidirectional (None, None, 32)          4224      \n",
      "_________________________________________________________________\n",
      "bidirectional_1 (Bidirection (None, 16)                2624      \n",
      "_________________________________________________________________\n",
      "dense (Dense)                (None, 16)                272       \n",
      "_________________________________________________________________\n",
      "dense_1 (Dense)              (None, 1)                 17        \n",
      "=================================================================\n",
      "Total params: 23,137\n",
      "Trainable params: 23,137\n",
      "Non-trainable params: 0\n",
      "_________________________________________________________________\n"
     ]
    }
   ],
   "source": [
    "vocab_size = max_words\n",
    "\n",
    "model = tf.keras.Sequential([\n",
    "    tf.keras.layers.Embedding(vocab_size, 16),\n",
    "    tf.keras.layers.Bidirectional(tf.keras.layers.LSTM(\n",
    "        16, return_sequences=True)),\n",
    "    tf.keras.layers.Bidirectional(tf.keras.layers.LSTM(8)),\n",
    "    tf.keras.layers.Dense(16, activation='relu'),\n",
    "    tf.keras.layers.Dense(1, activation='sigmoid')\n",
    "])\n",
    "\n",
    "model.summary()"
   ]
  },
  {
   "cell_type": "code",
   "execution_count": 52,
   "metadata": {},
   "outputs": [
    {
     "name": "stdout",
     "output_type": "stream",
     "text": [
      "Train on 15000 samples, validate on 10000 samples\n",
      "Epoch 1/40\n",
      "15000/15000 [==============================] - 22s 1ms/sample - loss: 0.6925 - accuracy: 0.5187 - val_loss: 0.6907 - val_accuracy: 0.5521\n",
      "Epoch 2/40\n",
      "15000/15000 [==============================] - 22s 1ms/sample - loss: 0.6465 - accuracy: 0.6576 - val_loss: 0.5621 - val_accuracy: 0.7494\n",
      "Epoch 3/40\n",
      "15000/15000 [==============================] - 19s 1ms/sample - loss: 0.4851 - accuracy: 0.7951 - val_loss: 0.4224 - val_accuracy: 0.8225\n",
      "Epoch 4/40\n",
      "15000/15000 [==============================] - 18s 1ms/sample - loss: 0.3879 - accuracy: 0.8403 - val_loss: 0.3768 - val_accuracy: 0.8435\n",
      "Epoch 5/40\n",
      "15000/15000 [==============================] - 19s 1ms/sample - loss: 0.3472 - accuracy: 0.8587 - val_loss: 0.3677 - val_accuracy: 0.8499\n",
      "Epoch 6/40\n",
      "15000/15000 [==============================] - 20s 1ms/sample - loss: 0.3239 - accuracy: 0.8706 - val_loss: 0.3596 - val_accuracy: 0.8480\n",
      "Epoch 7/40\n",
      "15000/15000 [==============================] - 19s 1ms/sample - loss: 0.3112 - accuracy: 0.8766 - val_loss: 0.3574 - val_accuracy: 0.8475\n",
      "Epoch 8/40\n",
      "15000/15000 [==============================] - 19s 1ms/sample - loss: 0.3036 - accuracy: 0.8793 - val_loss: 0.3460 - val_accuracy: 0.8536\n",
      "Epoch 9/40\n",
      "15000/15000 [==============================] - 18s 1ms/sample - loss: 0.2992 - accuracy: 0.8809 - val_loss: 0.3586 - val_accuracy: 0.8557\n",
      "Epoch 10/40\n",
      "15000/15000 [==============================] - 20s 1ms/sample - loss: 0.2903 - accuracy: 0.8839 - val_loss: 0.3581 - val_accuracy: 0.8518\n",
      "Epoch 11/40\n",
      "15000/15000 [==============================] - 18s 1ms/sample - loss: 0.2906 - accuracy: 0.8857 - val_loss: 0.3460 - val_accuracy: 0.8539\n",
      "Epoch 12/40\n",
      "15000/15000 [==============================] - 19s 1ms/sample - loss: 0.2832 - accuracy: 0.8884 - val_loss: 0.3647 - val_accuracy: 0.8459\n",
      "Epoch 13/40\n",
      "15000/15000 [==============================] - 21s 1ms/sample - loss: 0.2797 - accuracy: 0.8911 - val_loss: 0.3577 - val_accuracy: 0.8549\n",
      "Epoch 14/40\n",
      "15000/15000 [==============================] - 20s 1ms/sample - loss: 0.2756 - accuracy: 0.8899 - val_loss: 0.4005 - val_accuracy: 0.8426\n",
      "Epoch 15/40\n",
      "15000/15000 [==============================] - 19s 1ms/sample - loss: 0.2872 - accuracy: 0.8857 - val_loss: 0.3670 - val_accuracy: 0.8495\n",
      "Epoch 16/40\n",
      "15000/15000 [==============================] - 19s 1ms/sample - loss: 0.2692 - accuracy: 0.8939 - val_loss: 0.3687 - val_accuracy: 0.8472\n",
      "Epoch 17/40\n",
      "15000/15000 [==============================] - 21s 1ms/sample - loss: 0.2678 - accuracy: 0.8955 - val_loss: 0.3860 - val_accuracy: 0.8484\n",
      "Epoch 18/40\n",
      "15000/15000 [==============================] - 20s 1ms/sample - loss: 0.2564 - accuracy: 0.9003 - val_loss: 0.3636 - val_accuracy: 0.8478\n",
      "Epoch 19/40\n",
      "15000/15000 [==============================] - 18s 1ms/sample - loss: 0.2500 - accuracy: 0.9049 - val_loss: 0.3728 - val_accuracy: 0.8518\n",
      "Epoch 20/40\n",
      "15000/15000 [==============================] - 18s 1ms/sample - loss: 0.2504 - accuracy: 0.9063 - val_loss: 0.3837 - val_accuracy: 0.8503\n",
      "Epoch 21/40\n",
      "15000/15000 [==============================] - 18s 1ms/sample - loss: 0.2468 - accuracy: 0.9067 - val_loss: 0.3754 - val_accuracy: 0.8397\n",
      "Epoch 22/40\n",
      "15000/15000 [==============================] - 18s 1ms/sample - loss: 0.2520 - accuracy: 0.9009 - val_loss: 0.3806 - val_accuracy: 0.8496\n",
      "Epoch 23/40\n",
      "15000/15000 [==============================] - 19s 1ms/sample - loss: 0.2337 - accuracy: 0.9133 - val_loss: 0.3922 - val_accuracy: 0.8457\n",
      "Epoch 24/40\n",
      "15000/15000 [==============================] - 20s 1ms/sample - loss: 0.2310 - accuracy: 0.9145 - val_loss: 0.4037 - val_accuracy: 0.8405\n",
      "Epoch 25/40\n",
      "15000/15000 [==============================] - 18s 1ms/sample - loss: 0.2312 - accuracy: 0.9145 - val_loss: 0.4029 - val_accuracy: 0.8461\n",
      "Epoch 26/40\n",
      "15000/15000 [==============================] - 19s 1ms/sample - loss: 0.2218 - accuracy: 0.9189 - val_loss: 0.4136 - val_accuracy: 0.8362\n",
      "Epoch 27/40\n",
      "15000/15000 [==============================] - 18s 1ms/sample - loss: 0.2292 - accuracy: 0.9141 - val_loss: 0.4077 - val_accuracy: 0.8415\n",
      "Epoch 28/40\n",
      "15000/15000 [==============================] - 19s 1ms/sample - loss: 0.2165 - accuracy: 0.9213 - val_loss: 0.4163 - val_accuracy: 0.8412\n",
      "Epoch 29/40\n",
      "15000/15000 [==============================] - 18s 1ms/sample - loss: 0.2112 - accuracy: 0.9245 - val_loss: 0.4142 - val_accuracy: 0.8390\n",
      "Epoch 30/40\n",
      "15000/15000 [==============================] - 19s 1ms/sample - loss: 0.2194 - accuracy: 0.9193 - val_loss: 0.4267 - val_accuracy: 0.8389\n",
      "Epoch 31/40\n",
      "15000/15000 [==============================] - 19s 1ms/sample - loss: 0.2200 - accuracy: 0.9191 - val_loss: 0.4230 - val_accuracy: 0.8377\n",
      "Epoch 32/40\n",
      "15000/15000 [==============================] - 18s 1ms/sample - loss: 0.2131 - accuracy: 0.9215 - val_loss: 0.4526 - val_accuracy: 0.8283\n",
      "Epoch 33/40\n",
      "15000/15000 [==============================] - 18s 1ms/sample - loss: 0.2218 - accuracy: 0.9155 - val_loss: 0.4326 - val_accuracy: 0.8369\n",
      "Epoch 34/40\n",
      "15000/15000 [==============================] - 18s 1ms/sample - loss: 0.2030 - accuracy: 0.9267 - val_loss: 0.4426 - val_accuracy: 0.8354\n",
      "Epoch 35/40\n",
      "15000/15000 [==============================] - 19s 1ms/sample - loss: 0.1996 - accuracy: 0.9302 - val_loss: 0.4863 - val_accuracy: 0.8357\n",
      "Epoch 36/40\n",
      "15000/15000 [==============================] - 19s 1ms/sample - loss: 0.2125 - accuracy: 0.9210 - val_loss: 0.4315 - val_accuracy: 0.8271\n",
      "Epoch 37/40\n",
      "15000/15000 [==============================] - 21s 1ms/sample - loss: 0.2008 - accuracy: 0.9272 - val_loss: 0.4483 - val_accuracy: 0.8315\n",
      "Epoch 38/40\n",
      "15000/15000 [==============================] - 21s 1ms/sample - loss: 0.1906 - accuracy: 0.9338 - val_loss: 0.4709 - val_accuracy: 0.8304\n",
      "Epoch 39/40\n",
      "15000/15000 [==============================] - 20s 1ms/sample - loss: 0.1917 - accuracy: 0.9327 - val_loss: 0.4566 - val_accuracy: 0.8258\n",
      "Epoch 40/40\n",
      "15000/15000 [==============================] - 18s 1ms/sample - loss: 0.1974 - accuracy: 0.9308 - val_loss: 0.4814 - val_accuracy: 0.8312\n",
      "25000/25000 [==============================] - 33s 1ms/sample - loss: 0.4873 - accuracy: 0.8297\n",
      "[0.48734714838027954, 0.82968]\n"
     ]
    }
   ],
   "source": [
    "model.compile(optimizer='adam',\n",
    "              loss='binary_crossentropy',\n",
    "              metrics=['accuracy'])\n",
    "\n",
    "x_val = train_data[:10000]\n",
    "partial_x_train = train_data[10000:]\n",
    "\n",
    "y_val = train_labels[:10000]\n",
    "partial_y_train = train_labels[10000:]\n",
    "\n",
    "history = model.fit(partial_x_train,\n",
    "                    partial_y_train,\n",
    "                    epochs=40,\n",
    "                    batch_size=512,\n",
    "                    validation_data=(x_val, y_val),\n",
    "                    verbose=1)\n",
    "\n",
    "results = model.evaluate(test_data, test_labels)\n",
    "\n",
    "print(results)"
   ]
  },
  {
   "cell_type": "code",
   "execution_count": 54,
   "metadata": {},
   "outputs": [
    {
     "data": {
      "image/png": "[encoded data removed]",
      "text/plain": [
       "<Figure size 432x288 with 1 Axes>"
      ]
     },
     "metadata": {
      "needs_background": "light"
     },
     "output_type": "display_data"
    }
   ],
   "source": [
    "history_dict = history.history\n",
    "\n",
    "acc = history_dict['accuracy']\n",
    "val_acc = history_dict['val_accuracy']\n",
    "loss = history_dict['loss']\n",
    "val_loss = history_dict['val_loss']\n",
    "\n",
    "epochs = range(1, len(acc) + 1)\n",
    "\n",
    "plt.clf()   # 그림을 초기화합니다\n",
    "\n",
    "# \"bo\"는 \"파란색 점\"입니다\n",
    "plt.plot(epochs, loss, 'bo', label='Training loss')\n",
    "# b는 \"파란 실선\"입니다\n",
    "plt.plot(epochs, val_loss, 'b', label='Validation loss')\n",
    "plt.title('Training and validation loss')\n",
    "plt.xlabel('Epochs')\n",
    "plt.ylabel('Loss')\n",
    "plt.legend()\n",
    "\n",
    "plt.show()"
   ]
  },
  {
   "cell_type": "code",
   "execution_count": 55,
   "metadata": {},
   "outputs": [
    {
     "data": {
      "image/png": "[encoded data removed]",
      "text/plain": [
       "<Figure size 432x288 with 1 Axes>"
      ]
     },
     "metadata": {
      "needs_background": "light"
     },
     "output_type": "display_data"
    }
   ],
   "source": [
    "plt.clf()   # 그림을 초기화합니다\n",
    "\n",
    "plt.plot(epochs, acc, 'bo', label='Training acc')\n",
    "plt.plot(epochs, val_acc, 'b', label='Validation acc')\n",
    "plt.title('Training and validation accuracy')\n",
    "plt.xlabel('Epochs')\n",
    "plt.ylabel('Accuracy')\n",
    "plt.legend()\n",
    "\n",
    "plt.show()"
   ]
  },
  {
   "cell_type": "markdown",
   "metadata": {},
   "source": [
    "--------------------"
   ]
  },
  {
   "cell_type": "markdown",
   "metadata": {},
   "source": [
    "# Attention"
   ]
  },
  {
   "cell_type": "code",
   "execution_count": null,
   "metadata": {},
   "outputs": [],
   "source": []
  },
  {
   "cell_type": "markdown",
   "metadata": {},
   "source": [
    "-------------------"
   ]
  },
  {
   "cell_type": "markdown",
   "metadata": {},
   "source": [
    "# Memory"
   ]
  },
  {
   "cell_type": "markdown",
   "metadata": {},
   "source": [
    "----------------------"
   ]
  },
  {
   "cell_type": "markdown",
   "metadata": {},
   "source": [
    "# 참고자료\n",
    "*  Beyond Word Embeddings Part 2 - https://towardsdatascience.com/beyond-word-embeddings-part-2-word-vectors-nlp-modeling-from-bow-to-bert-4ebd4711d0ec"
   ]
  }
 ],
 "metadata": {
  "kernelspec": {
   "display_name": "Python 3",
   "language": "python",
   "name": "python3"
  },
  "language_info": {
   "codemirror_mode": {
    "name": "ipython",
    "version": 3
   },
   "file_extension": ".py",
   "mimetype": "text/x-python",
   "name": "python",
   "nbconvert_exporter": "python",
   "pygments_lexer": "ipython3",
   "version": "3.7.3"
  }
 },
 "nbformat": 4,
 "nbformat_minor": 2
}
